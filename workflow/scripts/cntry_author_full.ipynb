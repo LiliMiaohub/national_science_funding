{
 "cells": [
  {
   "cell_type": "markdown",
   "id": "operating-devon",
   "metadata": {},
   "source": [
    "this script assign publications to author countries using full counting method"
   ]
  },
  {
   "cell_type": "code",
   "execution_count": 1,
   "id": "binary-basement",
   "metadata": {},
   "outputs": [],
   "source": [
    "import pandas as pd"
   ]
  },
  {
   "cell_type": "code",
   "execution_count": 2,
   "id": "sporting-illness",
   "metadata": {},
   "outputs": [],
   "source": [
    "pubs_path=\"../../data/nf_folder/Data/DerivedData/CleanedRawData/pub.pkl\""
   ]
  },
  {
   "cell_type": "code",
   "execution_count": 3,
   "id": "broke-argentina",
   "metadata": {},
   "outputs": [],
   "source": [
    "cntry_author_full_path='../../data/nf_folder/Data/DerivedData/Derived/cntry_author_full.csv'"
   ]
  },
  {
   "cell_type": "code",
   "execution_count": 4,
   "id": "retained-sphere",
   "metadata": {},
   "outputs": [
    {
     "data": {
      "text/html": [
       "<div>\n",
       "<style scoped>\n",
       "    .dataframe tbody tr th:only-of-type {\n",
       "        vertical-align: middle;\n",
       "    }\n",
       "\n",
       "    .dataframe tbody tr th {\n",
       "        vertical-align: top;\n",
       "    }\n",
       "\n",
       "    .dataframe thead th {\n",
       "        text-align: right;\n",
       "    }\n",
       "</style>\n",
       "<table border=\"1\" class=\"dataframe\">\n",
       "  <thead>\n",
       "    <tr style=\"text-align: right;\">\n",
       "      <th></th>\n",
       "      <th>id</th>\n",
       "      <th>year</th>\n",
       "      <th>dis</th>\n",
       "      <th>type</th>\n",
       "      <th>author</th>\n",
       "      <th>funder</th>\n",
       "      <th>author_distinct</th>\n",
       "      <th>funder_distinct</th>\n",
       "      <th>funded</th>\n",
       "      <th>IntCol</th>\n",
       "      <th>cofund</th>\n",
       "    </tr>\n",
       "  </thead>\n",
       "  <tbody>\n",
       "    <tr>\n",
       "      <th>0</th>\n",
       "      <td>60694041</td>\n",
       "      <td>2017</td>\n",
       "      <td>9</td>\n",
       "      <td>1</td>\n",
       "      <td>[Canada, United States]</td>\n",
       "      <td>[United States, United States]</td>\n",
       "      <td>[United States, Canada]</td>\n",
       "      <td>[United States]</td>\n",
       "      <td>1</td>\n",
       "      <td>1</td>\n",
       "      <td>0</td>\n",
       "    </tr>\n",
       "    <tr>\n",
       "      <th>1</th>\n",
       "      <td>48573156</td>\n",
       "      <td>2012</td>\n",
       "      <td>89</td>\n",
       "      <td>1</td>\n",
       "      <td>[France]</td>\n",
       "      <td>Not-Funded</td>\n",
       "      <td>[France]</td>\n",
       "      <td>Not-Funded</td>\n",
       "      <td>0</td>\n",
       "      <td>0</td>\n",
       "      <td>0</td>\n",
       "    </tr>\n",
       "    <tr>\n",
       "      <th>2</th>\n",
       "      <td>55323671</td>\n",
       "      <td>2015</td>\n",
       "      <td>89</td>\n",
       "      <td>1</td>\n",
       "      <td>[France, Chile]</td>\n",
       "      <td>[Chile, Chile, Chile, Chile, Chile]</td>\n",
       "      <td>[Chile, France]</td>\n",
       "      <td>[Chile]</td>\n",
       "      <td>1</td>\n",
       "      <td>1</td>\n",
       "      <td>0</td>\n",
       "    </tr>\n",
       "    <tr>\n",
       "      <th>3</th>\n",
       "      <td>57633115</td>\n",
       "      <td>2016</td>\n",
       "      <td>31</td>\n",
       "      <td>1</td>\n",
       "      <td>[Switzerland, United States]</td>\n",
       "      <td>[Switzerland]</td>\n",
       "      <td>[Switzerland, United States]</td>\n",
       "      <td>[Switzerland]</td>\n",
       "      <td>1</td>\n",
       "      <td>1</td>\n",
       "      <td>0</td>\n",
       "    </tr>\n",
       "    <tr>\n",
       "      <th>4</th>\n",
       "      <td>64831413</td>\n",
       "      <td>2018</td>\n",
       "      <td>99</td>\n",
       "      <td>1</td>\n",
       "      <td>[China]</td>\n",
       "      <td>[China, China, China, China, China, China]</td>\n",
       "      <td>[China]</td>\n",
       "      <td>[China]</td>\n",
       "      <td>1</td>\n",
       "      <td>0</td>\n",
       "      <td>0</td>\n",
       "    </tr>\n",
       "  </tbody>\n",
       "</table>\n",
       "</div>"
      ],
      "text/plain": [
       "         id  year  dis  type                        author  \\\n",
       "0  60694041  2017    9     1       [Canada, United States]   \n",
       "1  48573156  2012   89     1                      [France]   \n",
       "2  55323671  2015   89     1               [France, Chile]   \n",
       "3  57633115  2016   31     1  [Switzerland, United States]   \n",
       "4  64831413  2018   99     1                       [China]   \n",
       "\n",
       "                                       funder               author_distinct  \\\n",
       "0              [United States, United States]       [United States, Canada]   \n",
       "1                                  Not-Funded                      [France]   \n",
       "2         [Chile, Chile, Chile, Chile, Chile]               [Chile, France]   \n",
       "3                               [Switzerland]  [Switzerland, United States]   \n",
       "4  [China, China, China, China, China, China]                       [China]   \n",
       "\n",
       "   funder_distinct  funded  IntCol  cofund  \n",
       "0  [United States]       1       1       0  \n",
       "1       Not-Funded       0       0       0  \n",
       "2          [Chile]       1       1       0  \n",
       "3    [Switzerland]       1       1       0  \n",
       "4          [China]       1       0       0  "
      ]
     },
     "execution_count": 4,
     "metadata": {},
     "output_type": "execute_result"
    }
   ],
   "source": [
    "pub_df=pd.read_pickle(pubs_path)\n",
    "pub_df.head()"
   ]
  },
  {
   "cell_type": "code",
   "execution_count": 10,
   "id": "eligible-clark",
   "metadata": {},
   "outputs": [],
   "source": [
    "cntry_df=pub_df[['author_distinct','year','dis']]\n",
    "cntry_df=cntry_df.explode('author_distinct')"
   ]
  },
  {
   "cell_type": "code",
   "execution_count": 11,
   "id": "current-search",
   "metadata": {},
   "outputs": [],
   "source": [
    "cntry_df=cntry_df.groupby(['author_distinct','year','dis']).size().reset_index(name='count')\n",
    "cntry_df=cntry_df.rename(columns={'author_distinct':'cntry'})"
   ]
  },
  {
   "cell_type": "code",
   "execution_count": 13,
   "id": "mature-support",
   "metadata": {},
   "outputs": [],
   "source": [
    "cntry_df.to_csv(cntry_author_full_path,index=False)"
   ]
  },
  {
   "cell_type": "code",
   "execution_count": null,
   "id": "educational-career",
   "metadata": {},
   "outputs": [],
   "source": []
  }
 ],
 "metadata": {
  "kernelspec": {
   "display_name": "Python 3",
   "language": "python",
   "name": "python3"
  },
  "language_info": {
   "codemirror_mode": {
    "name": "ipython",
    "version": 3
   },
   "file_extension": ".py",
   "mimetype": "text/x-python",
   "name": "python",
   "nbconvert_exporter": "python",
   "pygments_lexer": "ipython3",
   "version": "3.8.10"
  }
 },
 "nbformat": 4,
 "nbformat_minor": 5
}
