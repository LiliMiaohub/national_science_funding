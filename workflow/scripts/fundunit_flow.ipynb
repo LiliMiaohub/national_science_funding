{
 "cells": [
  {
   "cell_type": "markdown",
   "id": "executed-firewall",
   "metadata": {},
   "source": [
    "### this script calculates the flow of funding instances between countries"
   ]
  },
  {
   "cell_type": "code",
   "execution_count": 27,
   "id": "latest-waste",
   "metadata": {},
   "outputs": [],
   "source": [
    "import pandas as pd\n",
    "from collections import Counter"
   ]
  },
  {
   "cell_type": "code",
   "execution_count": 8,
   "id": "connected-target",
   "metadata": {
    "tags": [
     "parameters"
    ]
   },
   "outputs": [],
   "source": [
    "pubs_path=\"../../../data/nf_folder/Data/DerivedData/CleanedRawData/pub.pkl\"\n",
    "\n",
    "flow_result = \"unit_flow.csv\""
   ]
  },
  {
   "cell_type": "code",
   "execution_count": 9,
   "id": "polished-lighting",
   "metadata": {},
   "outputs": [],
   "source": [
    "pub_df=pd.read_pickle(pubs_path)"
   ]
  },
  {
   "cell_type": "code",
   "execution_count": 36,
   "id": "piano-abraham",
   "metadata": {},
   "outputs": [],
   "source": [
    "dfvalues=pub_df[pub_df.funder!='Not-Funded'][['author_distinct','funder']].values\n",
    "reslist=[]\n",
    "for entry in dfvalues:\n",
    "    authorlist=entry[0]\n",
    "    funderlist=entry[1] #funding instances\n",
    "    counts=Counter(funderlist) #number of funding instances from funder country\n",
    "    num_author=len(authorlist)\n",
    "   \n",
    "    for funder,units in counts.items():\n",
    "        unit_rev=units/num_author #number of funding instances each author country gets\n",
    "        for author in authorlist:\n",
    "            reslist.append([funder,author,unit_rev])"
   ]
  },
  {
   "cell_type": "code",
   "execution_count": 39,
   "id": "particular-presence",
   "metadata": {},
   "outputs": [],
   "source": [
    "res_df=pd.DataFrame(reslist,columns=['funder','author','units'])\n",
    "res_df=res_df.groupby(['funder','author'])['units'].sum().reset_index()\n",
    "res_df.to_csv(flow_result, index=False)"
   ]
  },
  {
   "cell_type": "code",
   "execution_count": null,
   "id": "grave-saver",
   "metadata": {},
   "outputs": [],
   "source": []
  }
 ],
 "metadata": {
  "kernelspec": {
   "display_name": "Python 3 (ipykernel)",
   "language": "python",
   "name": "python3"
  },
  "language_info": {
   "codemirror_mode": {
    "name": "ipython",
    "version": 3
   },
   "file_extension": ".py",
   "mimetype": "text/x-python",
   "name": "python",
   "nbconvert_exporter": "python",
   "pygments_lexer": "ipython3",
   "version": "3.8.16"
  }
 },
 "nbformat": 4,
 "nbformat_minor": 5
}
