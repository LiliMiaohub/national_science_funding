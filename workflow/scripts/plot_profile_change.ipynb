{
 "cells": [
  {
   "cell_type": "markdown",
   "id": "paperback-dryer",
   "metadata": {},
   "source": [
    "this script plot the profile change of countries after moving internationally funded publications"
   ]
  },
  {
   "cell_type": "code",
   "execution_count": 1,
   "id": "powered-fetish",
   "metadata": {},
   "outputs": [],
   "source": [
    "import pandas as pd\n",
    "import numpy as np\n",
    "import matplotlib.pyplot as plt\n",
    "from math import pi\n",
    "import os"
   ]
  },
  {
   "cell_type": "code",
   "execution_count": 2,
   "id": "urban-montreal",
   "metadata": {},
   "outputs": [],
   "source": [
    "raw_path=\"../../data/nf_folder/Data/DerivedData/Derived/cntry_author_full.csv\"\n",
    "filter_path='../../data/nf_folder/Data/DerivedData/Derived/cntry_profile_filter_full.csv'\n",
    "disgroup_path='../../data/nf_folder/Data/AdditionalData/discipline_classification.csv'\n",
    "discode_path='../../data/nf_folder/Data/AdditionalData/discipline_code.csv'\n",
    "pub_path='../../data/nf_folder/Data/DerivedData/CleanedRawData/pub.pkl'"
   ]
  },
  {
   "cell_type": "code",
   "execution_count": 21,
   "id": "powered-commissioner",
   "metadata": {},
   "outputs": [
    {
     "data": {
      "text/html": [
       "<div>\n",
       "<style scoped>\n",
       "    .dataframe tbody tr th:only-of-type {\n",
       "        vertical-align: middle;\n",
       "    }\n",
       "\n",
       "    .dataframe tbody tr th {\n",
       "        vertical-align: top;\n",
       "    }\n",
       "\n",
       "    .dataframe thead th {\n",
       "        text-align: right;\n",
       "    }\n",
       "</style>\n",
       "<table border=\"1\" class=\"dataframe\">\n",
       "  <thead>\n",
       "    <tr style=\"text-align: right;\">\n",
       "      <th></th>\n",
       "      <th>cntry</th>\n",
       "      <th>year</th>\n",
       "      <th>dis</th>\n",
       "      <th>count</th>\n",
       "    </tr>\n",
       "  </thead>\n",
       "  <tbody>\n",
       "    <tr>\n",
       "      <th>0</th>\n",
       "      <td>Afghanistan</td>\n",
       "      <td>2009</td>\n",
       "      <td>3</td>\n",
       "      <td>1</td>\n",
       "    </tr>\n",
       "    <tr>\n",
       "      <th>1</th>\n",
       "      <td>Afghanistan</td>\n",
       "      <td>2009</td>\n",
       "      <td>33</td>\n",
       "      <td>1</td>\n",
       "    </tr>\n",
       "    <tr>\n",
       "      <th>2</th>\n",
       "      <td>Afghanistan</td>\n",
       "      <td>2009</td>\n",
       "      <td>35</td>\n",
       "      <td>1</td>\n",
       "    </tr>\n",
       "    <tr>\n",
       "      <th>3</th>\n",
       "      <td>Afghanistan</td>\n",
       "      <td>2009</td>\n",
       "      <td>44</td>\n",
       "      <td>2</td>\n",
       "    </tr>\n",
       "    <tr>\n",
       "      <th>4</th>\n",
       "      <td>Afghanistan</td>\n",
       "      <td>2009</td>\n",
       "      <td>47</td>\n",
       "      <td>1</td>\n",
       "    </tr>\n",
       "  </tbody>\n",
       "</table>\n",
       "</div>"
      ],
      "text/plain": [
       "         cntry  year  dis  count\n",
       "0  Afghanistan  2009    3      1\n",
       "1  Afghanistan  2009   33      1\n",
       "2  Afghanistan  2009   35      1\n",
       "3  Afghanistan  2009   44      2\n",
       "4  Afghanistan  2009   47      1"
      ]
     },
     "execution_count": 21,
     "metadata": {},
     "output_type": "execute_result"
    }
   ],
   "source": [
    "raw_df=pd.read_csv(raw_path)\n",
    "raw_df.head()"
   ]
  },
  {
   "cell_type": "code",
   "execution_count": 22,
   "id": "saving-williams",
   "metadata": {},
   "outputs": [
    {
     "data": {
      "text/html": [
       "<div>\n",
       "<style scoped>\n",
       "    .dataframe tbody tr th:only-of-type {\n",
       "        vertical-align: middle;\n",
       "    }\n",
       "\n",
       "    .dataframe tbody tr th {\n",
       "        vertical-align: top;\n",
       "    }\n",
       "\n",
       "    .dataframe thead th {\n",
       "        text-align: right;\n",
       "    }\n",
       "</style>\n",
       "<table border=\"1\" class=\"dataframe\">\n",
       "  <thead>\n",
       "    <tr style=\"text-align: right;\">\n",
       "      <th></th>\n",
       "      <th>cntry</th>\n",
       "      <th>year</th>\n",
       "      <th>dis</th>\n",
       "      <th>count</th>\n",
       "    </tr>\n",
       "  </thead>\n",
       "  <tbody>\n",
       "    <tr>\n",
       "      <th>0</th>\n",
       "      <td>Afghanistan</td>\n",
       "      <td>2009</td>\n",
       "      <td>3</td>\n",
       "      <td>1</td>\n",
       "    </tr>\n",
       "    <tr>\n",
       "      <th>1</th>\n",
       "      <td>Afghanistan</td>\n",
       "      <td>2009</td>\n",
       "      <td>33</td>\n",
       "      <td>1</td>\n",
       "    </tr>\n",
       "    <tr>\n",
       "      <th>2</th>\n",
       "      <td>Afghanistan</td>\n",
       "      <td>2009</td>\n",
       "      <td>44</td>\n",
       "      <td>2</td>\n",
       "    </tr>\n",
       "    <tr>\n",
       "      <th>3</th>\n",
       "      <td>Afghanistan</td>\n",
       "      <td>2009</td>\n",
       "      <td>47</td>\n",
       "      <td>1</td>\n",
       "    </tr>\n",
       "    <tr>\n",
       "      <th>4</th>\n",
       "      <td>Afghanistan</td>\n",
       "      <td>2009</td>\n",
       "      <td>48</td>\n",
       "      <td>1</td>\n",
       "    </tr>\n",
       "  </tbody>\n",
       "</table>\n",
       "</div>"
      ],
      "text/plain": [
       "         cntry  year  dis  count\n",
       "0  Afghanistan  2009    3      1\n",
       "1  Afghanistan  2009   33      1\n",
       "2  Afghanistan  2009   44      2\n",
       "3  Afghanistan  2009   47      1\n",
       "4  Afghanistan  2009   48      1"
      ]
     },
     "execution_count": 22,
     "metadata": {},
     "output_type": "execute_result"
    }
   ],
   "source": [
    "filter_df=pd.read_csv(filter_path)\n",
    "filter_df.head()"
   ]
  },
  {
   "cell_type": "code",
   "execution_count": 5,
   "id": "serious-antenna",
   "metadata": {},
   "outputs": [
    {
     "data": {
      "text/html": [
       "<div>\n",
       "<style scoped>\n",
       "    .dataframe tbody tr th:only-of-type {\n",
       "        vertical-align: middle;\n",
       "    }\n",
       "\n",
       "    .dataframe tbody tr th {\n",
       "        vertical-align: top;\n",
       "    }\n",
       "\n",
       "    .dataframe thead th {\n",
       "        text-align: right;\n",
       "    }\n",
       "</style>\n",
       "<table border=\"1\" class=\"dataframe\">\n",
       "  <thead>\n",
       "    <tr style=\"text-align: right;\">\n",
       "      <th></th>\n",
       "      <th>abbrev</th>\n",
       "      <th>level_1</th>\n",
       "      <th>level_2</th>\n",
       "      <th>level_3</th>\n",
       "    </tr>\n",
       "  </thead>\n",
       "  <tbody>\n",
       "    <tr>\n",
       "      <th>0</th>\n",
       "      <td>Fine Arts/Arch</td>\n",
       "      <td>Fine Arts &amp; Architecture</td>\n",
       "      <td>Arts</td>\n",
       "      <td>Arts and Humanities</td>\n",
       "    </tr>\n",
       "    <tr>\n",
       "      <th>1</th>\n",
       "      <td>Perf. Arts</td>\n",
       "      <td>Performing Arts</td>\n",
       "      <td>Arts</td>\n",
       "      <td>Arts and Humanities</td>\n",
       "    </tr>\n",
       "  </tbody>\n",
       "</table>\n",
       "</div>"
      ],
      "text/plain": [
       "           abbrev                   level_1 level_2              level_3\n",
       "0  Fine Arts/Arch  Fine Arts & Architecture    Arts  Arts and Humanities\n",
       "1      Perf. Arts           Performing Arts    Arts  Arts and Humanities"
      ]
     },
     "execution_count": 5,
     "metadata": {},
     "output_type": "execute_result"
    }
   ],
   "source": [
    "disgroup=pd.read_csv(disgroup_path)\n",
    "disgroup.head(2)"
   ]
  },
  {
   "cell_type": "code",
   "execution_count": 6,
   "id": "natural-language",
   "metadata": {},
   "outputs": [
    {
     "data": {
      "text/html": [
       "<div>\n",
       "<style scoped>\n",
       "    .dataframe tbody tr th:only-of-type {\n",
       "        vertical-align: middle;\n",
       "    }\n",
       "\n",
       "    .dataframe tbody tr th {\n",
       "        vertical-align: top;\n",
       "    }\n",
       "\n",
       "    .dataframe thead th {\n",
       "        text-align: right;\n",
       "    }\n",
       "</style>\n",
       "<table border=\"1\" class=\"dataframe\">\n",
       "  <thead>\n",
       "    <tr style=\"text-align: right;\">\n",
       "      <th></th>\n",
       "      <th>Code_Discipline</th>\n",
       "      <th>ESpecialite</th>\n",
       "    </tr>\n",
       "  </thead>\n",
       "  <tbody>\n",
       "    <tr>\n",
       "      <th>0</th>\n",
       "      <td>1</td>\n",
       "      <td>Agricult &amp; Food Science</td>\n",
       "    </tr>\n",
       "    <tr>\n",
       "      <th>1</th>\n",
       "      <td>2</td>\n",
       "      <td>Botany</td>\n",
       "    </tr>\n",
       "  </tbody>\n",
       "</table>\n",
       "</div>"
      ],
      "text/plain": [
       "   Code_Discipline              ESpecialite\n",
       "0                1  Agricult & Food Science\n",
       "1                2                   Botany"
      ]
     },
     "execution_count": 6,
     "metadata": {},
     "output_type": "execute_result"
    }
   ],
   "source": [
    "discode=pd.read_csv(discode_path)\n",
    "discode.head(2)"
   ]
  },
  {
   "cell_type": "code",
   "execution_count": 7,
   "id": "exempt-family",
   "metadata": {},
   "outputs": [],
   "source": [
    "dismeta=disgroup[['level_1','level_2']].merge(discode,left_on='level_1',right_on='ESpecialite')\n",
    "dismeta=dismeta[['Code_Discipline','level_1','level_2']]\n",
    "dismeta.columns=['dis','disname','level']"
   ]
  },
  {
   "cell_type": "code",
   "execution_count": 23,
   "id": "neural-chicken",
   "metadata": {},
   "outputs": [],
   "source": [
    "def dis2level(df,dismeta):\n",
    "    df = df.merge(dismeta,on='dis',how='left')\n",
    "    #df = df.groupby(['cntry','level'])['count'].sum().reset_index()\n",
    "    df = df.groupby(['cntry','disname'])['count'].sum().reset_index()\n",
    "    return df"
   ]
  },
  {
   "cell_type": "code",
   "execution_count": 24,
   "id": "worst-engineering",
   "metadata": {},
   "outputs": [],
   "source": [
    "raw_df=dis2level(raw_df,dismeta)\n",
    "filter_df=dis2level(filter_df,dismeta)"
   ]
  },
  {
   "cell_type": "code",
   "execution_count": 26,
   "id": "hollywood-collection",
   "metadata": {},
   "outputs": [],
   "source": [
    "meta=raw_df.merge(filter_df,on=['cntry','disname'],suffixes=('_raw', '_filter'),how='left')\n",
    "meta=meta.fillna(0)\n",
    "meta['p']=(meta['count_raw']-meta['count_filter'])/(meta['count_raw'])#calculate decreased ratio"
   ]
  },
  {
   "cell_type": "code",
   "execution_count": 28,
   "id": "found-vision",
   "metadata": {},
   "outputs": [
    {
     "data": {
      "text/html": [
       "<div>\n",
       "<style scoped>\n",
       "    .dataframe tbody tr th:only-of-type {\n",
       "        vertical-align: middle;\n",
       "    }\n",
       "\n",
       "    .dataframe tbody tr th {\n",
       "        vertical-align: top;\n",
       "    }\n",
       "\n",
       "    .dataframe thead th {\n",
       "        text-align: right;\n",
       "    }\n",
       "</style>\n",
       "<table border=\"1\" class=\"dataframe\">\n",
       "  <thead>\n",
       "    <tr style=\"text-align: right;\">\n",
       "      <th></th>\n",
       "      <th>cntry</th>\n",
       "      <th>disname</th>\n",
       "      <th>count_raw</th>\n",
       "      <th>count_filter</th>\n",
       "      <th>p</th>\n",
       "    </tr>\n",
       "  </thead>\n",
       "  <tbody>\n",
       "    <tr>\n",
       "      <th>2711</th>\n",
       "      <td>Chile</td>\n",
       "      <td>Astronomy &amp; Astrophysics</td>\n",
       "      <td>7437</td>\n",
       "      <td>2090.0</td>\n",
       "      <td>0.718973</td>\n",
       "    </tr>\n",
       "    <tr>\n",
       "      <th>2768</th>\n",
       "      <td>Chile</td>\n",
       "      <td>Nuclear &amp; Particle Physics</td>\n",
       "      <td>2277</td>\n",
       "      <td>761.0</td>\n",
       "      <td>0.665788</td>\n",
       "    </tr>\n",
       "    <tr>\n",
       "      <th>2791</th>\n",
       "      <td>Chile</td>\n",
       "      <td>Solid State Physics</td>\n",
       "      <td>224</td>\n",
       "      <td>83.0</td>\n",
       "      <td>0.629464</td>\n",
       "    </tr>\n",
       "    <tr>\n",
       "      <th>2764</th>\n",
       "      <td>Chile</td>\n",
       "      <td>Miscellaneous Physics</td>\n",
       "      <td>49</td>\n",
       "      <td>25.0</td>\n",
       "      <td>0.489796</td>\n",
       "    </tr>\n",
       "    <tr>\n",
       "      <th>2766</th>\n",
       "      <td>Chile</td>\n",
       "      <td>Nephrology</td>\n",
       "      <td>45</td>\n",
       "      <td>23.0</td>\n",
       "      <td>0.488889</td>\n",
       "    </tr>\n",
       "    <tr>\n",
       "      <th>2703</th>\n",
       "      <td>Chile</td>\n",
       "      <td>Allergy</td>\n",
       "      <td>23</td>\n",
       "      <td>12.0</td>\n",
       "      <td>0.478261</td>\n",
       "    </tr>\n",
       "    <tr>\n",
       "      <th>2701</th>\n",
       "      <td>Chile</td>\n",
       "      <td>Aerospace Technology</td>\n",
       "      <td>31</td>\n",
       "      <td>17.0</td>\n",
       "      <td>0.451613</td>\n",
       "    </tr>\n",
       "    <tr>\n",
       "      <th>2743</th>\n",
       "      <td>Chile</td>\n",
       "      <td>General Physics</td>\n",
       "      <td>1655</td>\n",
       "      <td>923.0</td>\n",
       "      <td>0.442296</td>\n",
       "    </tr>\n",
       "    <tr>\n",
       "      <th>2756</th>\n",
       "      <td>Chile</td>\n",
       "      <td>Meteorology &amp; Atmospheric Science</td>\n",
       "      <td>239</td>\n",
       "      <td>136.0</td>\n",
       "      <td>0.430962</td>\n",
       "    </tr>\n",
       "    <tr>\n",
       "      <th>2751</th>\n",
       "      <td>Chile</td>\n",
       "      <td>Inorganic &amp; Nuclear Chemistry</td>\n",
       "      <td>253</td>\n",
       "      <td>150.0</td>\n",
       "      <td>0.407115</td>\n",
       "    </tr>\n",
       "    <tr>\n",
       "      <th>2787</th>\n",
       "      <td>Chile</td>\n",
       "      <td>Probability &amp; Statistics</td>\n",
       "      <td>551</td>\n",
       "      <td>329.0</td>\n",
       "      <td>0.402904</td>\n",
       "    </tr>\n",
       "    <tr>\n",
       "      <th>2763</th>\n",
       "      <td>Chile</td>\n",
       "      <td>Miscellaneous Mathematics</td>\n",
       "      <td>115</td>\n",
       "      <td>70.0</td>\n",
       "      <td>0.391304</td>\n",
       "    </tr>\n",
       "    <tr>\n",
       "      <th>2745</th>\n",
       "      <td>Chile</td>\n",
       "      <td>Genetics &amp; Heredity</td>\n",
       "      <td>647</td>\n",
       "      <td>399.0</td>\n",
       "      <td>0.383308</td>\n",
       "    </tr>\n",
       "    <tr>\n",
       "      <th>2708</th>\n",
       "      <td>Chile</td>\n",
       "      <td>Applied Mathematics</td>\n",
       "      <td>1308</td>\n",
       "      <td>814.0</td>\n",
       "      <td>0.377676</td>\n",
       "    </tr>\n",
       "    <tr>\n",
       "      <th>2727</th>\n",
       "      <td>Chile</td>\n",
       "      <td>Ecology</td>\n",
       "      <td>910</td>\n",
       "      <td>578.0</td>\n",
       "      <td>0.364835</td>\n",
       "    </tr>\n",
       "    <tr>\n",
       "      <th>2742</th>\n",
       "      <td>Chile</td>\n",
       "      <td>General Mathematics</td>\n",
       "      <td>1453</td>\n",
       "      <td>926.0</td>\n",
       "      <td>0.362698</td>\n",
       "    </tr>\n",
       "    <tr>\n",
       "      <th>2709</th>\n",
       "      <td>Chile</td>\n",
       "      <td>Applied Physics</td>\n",
       "      <td>393</td>\n",
       "      <td>251.0</td>\n",
       "      <td>0.361323</td>\n",
       "    </tr>\n",
       "    <tr>\n",
       "      <th>2765</th>\n",
       "      <td>Chile</td>\n",
       "      <td>Miscellaneous Zoology</td>\n",
       "      <td>208</td>\n",
       "      <td>133.0</td>\n",
       "      <td>0.360577</td>\n",
       "    </tr>\n",
       "    <tr>\n",
       "      <th>2739</th>\n",
       "      <td>Chile</td>\n",
       "      <td>General Biomedical Research</td>\n",
       "      <td>2216</td>\n",
       "      <td>1433.0</td>\n",
       "      <td>0.353339</td>\n",
       "    </tr>\n",
       "    <tr>\n",
       "      <th>2718</th>\n",
       "      <td>Chile</td>\n",
       "      <td>Cellular Biology Cytology &amp; Histology</td>\n",
       "      <td>384</td>\n",
       "      <td>250.0</td>\n",
       "      <td>0.348958</td>\n",
       "    </tr>\n",
       "  </tbody>\n",
       "</table>\n",
       "</div>"
      ],
      "text/plain": [
       "      cntry                                disname  count_raw  count_filter  \\\n",
       "2711  Chile               Astronomy & Astrophysics       7437        2090.0   \n",
       "2768  Chile             Nuclear & Particle Physics       2277         761.0   \n",
       "2791  Chile                    Solid State Physics        224          83.0   \n",
       "2764  Chile                  Miscellaneous Physics         49          25.0   \n",
       "2766  Chile                             Nephrology         45          23.0   \n",
       "2703  Chile                                Allergy         23          12.0   \n",
       "2701  Chile                   Aerospace Technology         31          17.0   \n",
       "2743  Chile                        General Physics       1655         923.0   \n",
       "2756  Chile      Meteorology & Atmospheric Science        239         136.0   \n",
       "2751  Chile          Inorganic & Nuclear Chemistry        253         150.0   \n",
       "2787  Chile               Probability & Statistics        551         329.0   \n",
       "2763  Chile              Miscellaneous Mathematics        115          70.0   \n",
       "2745  Chile                    Genetics & Heredity        647         399.0   \n",
       "2708  Chile                    Applied Mathematics       1308         814.0   \n",
       "2727  Chile                                Ecology        910         578.0   \n",
       "2742  Chile                    General Mathematics       1453         926.0   \n",
       "2709  Chile                        Applied Physics        393         251.0   \n",
       "2765  Chile                  Miscellaneous Zoology        208         133.0   \n",
       "2739  Chile            General Biomedical Research       2216        1433.0   \n",
       "2718  Chile  Cellular Biology Cytology & Histology        384         250.0   \n",
       "\n",
       "             p  \n",
       "2711  0.718973  \n",
       "2768  0.665788  \n",
       "2791  0.629464  \n",
       "2764  0.489796  \n",
       "2766  0.488889  \n",
       "2703  0.478261  \n",
       "2701  0.451613  \n",
       "2743  0.442296  \n",
       "2756  0.430962  \n",
       "2751  0.407115  \n",
       "2787  0.402904  \n",
       "2763  0.391304  \n",
       "2745  0.383308  \n",
       "2708  0.377676  \n",
       "2727  0.364835  \n",
       "2742  0.362698  \n",
       "2709  0.361323  \n",
       "2765  0.360577  \n",
       "2739  0.353339  \n",
       "2718  0.348958  "
      ]
     },
     "execution_count": 28,
     "metadata": {},
     "output_type": "execute_result"
    }
   ],
   "source": [
    "meta[meta.cntry=='Chile'].sort_values(by='p',ascending=False).head(20)"
   ]
  },
  {
   "cell_type": "code",
   "execution_count": 38,
   "id": "valid-breed",
   "metadata": {},
   "outputs": [],
   "source": [
    "dislist=['Biology','Biomedical Research','Clinical Medicine','Physics','Chemistry','Engineering and Technology',\n",
    "        'Mathematics','Earth and Space']\n",
    "meta=raw_df.merge(filter_df,on=['cntry','level'],suffixes=('_raw', '_filter'),how='left')\n",
    "meta=meta.fillna(0)\n",
    "meta['p']=(meta['count_raw']-meta['count_filter'])/(meta['count_raw'])#calculate decreased ratio\n",
    "meta=meta.pivot(index='cntry',columns='level',values='p')\n",
    "meta=meta[dislist]#order columns based on defined list\n",
    "meta=meta.fillna(0)"
   ]
  },
  {
   "cell_type": "code",
   "execution_count": 39,
   "id": "happy-emerald",
   "metadata": {},
   "outputs": [],
   "source": [
    "def plot_radar(values,labels):\n",
    "    fig, ax = plt.subplots(subplot_kw=dict(projection=\"polar\"))\n",
    "    values += values[:1]\n",
    "    theta = np.linspace(0, 2 * np.pi, len(values))\n",
    "    ax.plot(theta, values)\n",
    "    plt.ylim(0,1)\n",
    "    plt.yticks([0.2,0.4,0.6,0.8,1])\n",
    "    plt.thetagrids(range(0, 360, int(360/len(labels))),(labels))\n",
    "    return fig, ax"
   ]
  },
  {
   "cell_type": "code",
   "execution_count": 69,
   "id": "answering-acceptance",
   "metadata": {},
   "outputs": [],
   "source": [
    "labels=['Biology','Biomed.','Clinical Med.','Physics','Chemistry','Eng. & Tech.','Math','Earth & Space']\n",
    "map_dir=\"../../data/nf_folder/Figs/profile_change\"\n",
    "for cntry,row in meta.iterrows():\n",
    "    values=row.values.tolist()\n",
    "    fig, ax=plot_radar(values,labels)\n",
    "    plot_path=os.path.join(map_dir, cntry+ '.' + \"pdf\")\n",
    "    plt.savefig(plot_path,bbox_inches='tight')\n",
    "    plt.close()"
   ]
  },
  {
   "cell_type": "code",
   "execution_count": 14,
   "id": "composed-trick",
   "metadata": {},
   "outputs": [
    {
     "data": {
      "text/html": [
       "<div>\n",
       "<style scoped>\n",
       "    .dataframe tbody tr th:only-of-type {\n",
       "        vertical-align: middle;\n",
       "    }\n",
       "\n",
       "    .dataframe tbody tr th {\n",
       "        vertical-align: top;\n",
       "    }\n",
       "\n",
       "    .dataframe thead th {\n",
       "        text-align: right;\n",
       "    }\n",
       "</style>\n",
       "<table border=\"1\" class=\"dataframe\">\n",
       "  <thead>\n",
       "    <tr style=\"text-align: right;\">\n",
       "      <th></th>\n",
       "      <th>id</th>\n",
       "      <th>year</th>\n",
       "      <th>dis</th>\n",
       "      <th>type</th>\n",
       "      <th>author</th>\n",
       "      <th>funder</th>\n",
       "      <th>author_distinct</th>\n",
       "      <th>funder_distinct</th>\n",
       "      <th>funded</th>\n",
       "      <th>IntCol</th>\n",
       "      <th>cofund</th>\n",
       "      <th>intfund</th>\n",
       "    </tr>\n",
       "  </thead>\n",
       "  <tbody>\n",
       "    <tr>\n",
       "      <th>0</th>\n",
       "      <td>60694041</td>\n",
       "      <td>2017</td>\n",
       "      <td>9</td>\n",
       "      <td>1</td>\n",
       "      <td>[Canada, United States]</td>\n",
       "      <td>[United States, United States]</td>\n",
       "      <td>[United States, Canada]</td>\n",
       "      <td>[United States]</td>\n",
       "      <td>1</td>\n",
       "      <td>1</td>\n",
       "      <td>0</td>\n",
       "      <td>0</td>\n",
       "    </tr>\n",
       "    <tr>\n",
       "      <th>1</th>\n",
       "      <td>48573156</td>\n",
       "      <td>2012</td>\n",
       "      <td>89</td>\n",
       "      <td>1</td>\n",
       "      <td>[France]</td>\n",
       "      <td>Not-Funded</td>\n",
       "      <td>[France]</td>\n",
       "      <td>Not-Funded</td>\n",
       "      <td>0</td>\n",
       "      <td>0</td>\n",
       "      <td>0</td>\n",
       "      <td>0</td>\n",
       "    </tr>\n",
       "    <tr>\n",
       "      <th>2</th>\n",
       "      <td>55323671</td>\n",
       "      <td>2015</td>\n",
       "      <td>89</td>\n",
       "      <td>1</td>\n",
       "      <td>[France, Chile]</td>\n",
       "      <td>[Chile, Chile, Chile, Chile, Chile]</td>\n",
       "      <td>[Chile, France]</td>\n",
       "      <td>[Chile]</td>\n",
       "      <td>1</td>\n",
       "      <td>1</td>\n",
       "      <td>0</td>\n",
       "      <td>0</td>\n",
       "    </tr>\n",
       "    <tr>\n",
       "      <th>3</th>\n",
       "      <td>57633115</td>\n",
       "      <td>2016</td>\n",
       "      <td>31</td>\n",
       "      <td>1</td>\n",
       "      <td>[Switzerland, United States]</td>\n",
       "      <td>[Switzerland]</td>\n",
       "      <td>[Switzerland, United States]</td>\n",
       "      <td>[Switzerland]</td>\n",
       "      <td>1</td>\n",
       "      <td>1</td>\n",
       "      <td>0</td>\n",
       "      <td>0</td>\n",
       "    </tr>\n",
       "    <tr>\n",
       "      <th>4</th>\n",
       "      <td>64831413</td>\n",
       "      <td>2018</td>\n",
       "      <td>99</td>\n",
       "      <td>1</td>\n",
       "      <td>[China]</td>\n",
       "      <td>[China, China, China, China, China, China]</td>\n",
       "      <td>[China]</td>\n",
       "      <td>[China]</td>\n",
       "      <td>1</td>\n",
       "      <td>0</td>\n",
       "      <td>0</td>\n",
       "      <td>0</td>\n",
       "    </tr>\n",
       "  </tbody>\n",
       "</table>\n",
       "</div>"
      ],
      "text/plain": [
       "         id  year  dis  type                        author  \\\n",
       "0  60694041  2017    9     1       [Canada, United States]   \n",
       "1  48573156  2012   89     1                      [France]   \n",
       "2  55323671  2015   89     1               [France, Chile]   \n",
       "3  57633115  2016   31     1  [Switzerland, United States]   \n",
       "4  64831413  2018   99     1                       [China]   \n",
       "\n",
       "                                       funder               author_distinct  \\\n",
       "0              [United States, United States]       [United States, Canada]   \n",
       "1                                  Not-Funded                      [France]   \n",
       "2         [Chile, Chile, Chile, Chile, Chile]               [Chile, France]   \n",
       "3                               [Switzerland]  [Switzerland, United States]   \n",
       "4  [China, China, China, China, China, China]                       [China]   \n",
       "\n",
       "   funder_distinct  funded  IntCol  cofund  intfund  \n",
       "0  [United States]       1       1       0        0  \n",
       "1       Not-Funded       0       0       0        0  \n",
       "2          [Chile]       1       1       0        0  \n",
       "3    [Switzerland]       1       1       0        0  \n",
       "4          [China]       1       0       0        0  "
      ]
     },
     "execution_count": 14,
     "metadata": {},
     "output_type": "execute_result"
    }
   ],
   "source": [
    "pub_df=pd.read_pickle(pub_path)\n",
    "pub_df.head()"
   ]
  },
  {
   "cell_type": "code",
   "execution_count": 16,
   "id": "exceptional-expense",
   "metadata": {},
   "outputs": [],
   "source": [
    "pub_raw=pub_df.groupby(['dis']).size().reset_index(name='count')"
   ]
  },
  {
   "cell_type": "code",
   "execution_count": 22,
   "id": "instant-warren",
   "metadata": {},
   "outputs": [],
   "source": [
    "pub_filter=pub_df[pub_df.intfund==0].groupby(['dis']).size().reset_index(name='count')"
   ]
  },
  {
   "cell_type": "code",
   "execution_count": 31,
   "id": "premium-accident",
   "metadata": {},
   "outputs": [],
   "source": [
    "all_meta=pub_raw.merge(pub_filter,on='dis',suffixes=('_raw', '_filter'))\n",
    "all_meta=all_meta.merge(dismeta,on='dis')"
   ]
  },
  {
   "cell_type": "code",
   "execution_count": 34,
   "id": "stuffed-marathon",
   "metadata": {},
   "outputs": [],
   "source": [
    "all_meta = all_meta.groupby(['level']).agg({'count_raw':'sum','count_filter':'sum'})"
   ]
  },
  {
   "cell_type": "code",
   "execution_count": 36,
   "id": "baking-manual",
   "metadata": {},
   "outputs": [],
   "source": [
    "all_meta['p']=(all_meta['count_raw']-all_meta['count_filter'])/all_meta['count_raw']"
   ]
  },
  {
   "cell_type": "code",
   "execution_count": 43,
   "id": "consecutive-coordinate",
   "metadata": {},
   "outputs": [
    {
     "data": {
      "text/plain": [
       "(<Figure size 432x288 with 1 Axes>, <PolarAxesSubplot:>)"
      ]
     },
     "execution_count": 43,
     "metadata": {},
     "output_type": "execute_result"
    },
    {
     "data": {
      "image/png": "[encoded data removed]",
      "text/plain": [
       "<Figure size 432x288 with 1 Axes>"
      ]
     },
     "metadata": {
      "needs_background": "light"
     },
     "output_type": "display_data"
    }
   ],
   "source": [
    "plot_radar(values,labels)"
   ]
  },
  {
   "cell_type": "code",
   "execution_count": 40,
   "id": "amateur-humanity",
   "metadata": {},
   "outputs": [
    {
     "data": {
      "text/plain": [
       "0.11322614229230517"
      ]
     },
     "execution_count": 40,
     "metadata": {},
     "output_type": "execute_result"
    }
   ],
   "source": [
    "all_meta.loc['Biology','p']"
   ]
  },
  {
   "cell_type": "code",
   "execution_count": 41,
   "id": "still-newton",
   "metadata": {},
   "outputs": [],
   "source": [
    "labels=['Biology','Biomed.','Clinical Med.','Physics','Chemistry','Eng. & Tech.','Math','Earth & Space']\n",
    "values=[all_meta.loc[d,'p'] for d in dislist]"
   ]
  },
  {
   "cell_type": "code",
   "execution_count": 45,
   "id": "honest-burton",
   "metadata": {},
   "outputs": [
    {
     "data": {
      "text/plain": [
       "11258888"
      ]
     },
     "execution_count": 45,
     "metadata": {},
     "output_type": "execute_result"
    }
   ],
   "source": [
    "pub_filter['count'].sum()"
   ]
  },
  {
   "cell_type": "code",
   "execution_count": 46,
   "id": "copyrighted-doctrine",
   "metadata": {},
   "outputs": [
    {
     "data": {
      "text/plain": [
       "12759130"
      ]
     },
     "execution_count": 46,
     "metadata": {},
     "output_type": "execute_result"
    }
   ],
   "source": [
    "pub_raw['count'].sum()"
   ]
  },
  {
   "cell_type": "code",
   "execution_count": 47,
   "id": "clinical-onion",
   "metadata": {},
   "outputs": [
    {
     "data": {
      "text/plain": [
       "0.8824181586048578"
      ]
     },
     "execution_count": 47,
     "metadata": {},
     "output_type": "execute_result"
    }
   ],
   "source": [
    "11258888/12759130"
   ]
  },
  {
   "cell_type": "code",
   "execution_count": null,
   "id": "accurate-rescue",
   "metadata": {},
   "outputs": [],
   "source": []
  }
 ],
 "metadata": {
  "kernelspec": {
   "display_name": "Python 3",
   "language": "python",
   "name": "python3"
  },
  "language_info": {
   "codemirror_mode": {
    "name": "ipython",
    "version": 3
   },
   "file_extension": ".py",
   "mimetype": "text/x-python",
   "name": "python",
   "nbconvert_exporter": "python",
   "pygments_lexer": "ipython3",
   "version": "3.8.10"
  }
 },
 "nbformat": 4,
 "nbformat_minor": 5
}
