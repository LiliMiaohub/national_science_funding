{
 "cells": [
  {
   "cell_type": "markdown",
   "id": "8c38ba04-9582-48eb-b584-b7c251f582d6",
   "metadata": {},
   "source": [
    "This script prepares the regression table\n",
    "\n",
    "input: publication table\n",
    "\n",
    "output: regression table with all variables"
   ]
  },
  {
   "cell_type": "code",
   "execution_count": 2,
   "id": "fb89864e-fe85-479f-86f2-e7af40cc8a1b",
   "metadata": {},
   "outputs": [],
   "source": [
    "import pandas as pd\n",
    "import numpy as np\n",
    "from itertools import combinations\n",
    "import tqdm"
   ]
  },
  {
   "cell_type": "code",
   "execution_count": 9,
   "id": "e2294e17-9080-41ea-8dcb-ac878711a7c5",
   "metadata": {
    "tags": [
     "parameters"
    ]
   },
   "outputs": [],
   "source": [
    "pubs_path = \"/u/miaoli/ember_home/dropbox/NationalFunding/Data/DerivedData/CleanedRawData/pub.pkl\"\n",
    "reg_table_path = \"/u/miaoli/ember_home/dropbox/NationalFunding/Data/DerivedData/Derived/dependence/reg_table.csv\""
   ]
  },
  {
   "cell_type": "code",
   "execution_count": 122,
   "id": "b71c21c3-0777-4fbd-b069-a95bb3c3fe9d",
   "metadata": {},
   "outputs": [],
   "source": [
    "def get_pubcnt_by_cntry_year(df):\n",
    "    df = df[['id','year','author_distinct']].explode('author_distinct')\n",
    "    df = df.groupby(['author_distinct','year']).size().reset_index(name='pubcnt')\n",
    "    df = df.rename(columns={'author_distinct':'cntry'})\n",
    "    df = df.pivot_table(index='cntry',columns='year',values='pubcnt',fill_value=0).reset_index()#fill missing years for countries\n",
    "    df = df.melt(id_vars='cntry',var_name='year',value_name='pubcnt')\n",
    "    return df"
   ]
  },
  {
   "cell_type": "code",
   "execution_count": 4,
   "id": "729e3b1a-1049-45c0-b85c-863a5e91609b",
   "metadata": {},
   "outputs": [],
   "source": [
    "def get_fundcnt_from_cntry(df):\n",
    "    df = df[df.funder!='Not-Funded']\n",
    "    pub2cntry = df[['id','year','author_distinct','funder']].explode('author_distinct') #assign publications into author countries\n",
    "    fund_from_cntry = pub2cntry.explode('funder').groupby(['author_distinct','year','funder']).size().reset_index(name='fundcnt')\n",
    "    fund_from_cntry = fund_from_cntry.rename(columns={'author_distinct':'cntry'})\n",
    "    return fund_from_cntry"
   ]
  },
  {
   "cell_type": "markdown",
   "id": "d4958fe5-ff00-440d-959e-d638d7177297",
   "metadata": {},
   "source": [
    "#### count the amount of funding by types: domestic funding, major countries and others"
   ]
  },
  {
   "cell_type": "code",
   "execution_count": 6,
   "id": "320945f8-233e-4a8c-a723-584e4cdb0fba",
   "metadata": {},
   "outputs": [],
   "source": [
    "def count_fund_by_type(fund_from_cntry, topcntrys):\n",
    "    \n",
    "    fund_from_cntry['region']=fund_from_cntry.apply(\n",
    "        lambda row: \"domestic\" if row['cntry']==row['funder'] \n",
    "        else (row['funder'] if row['funder'] in topcntrys else \"others\"),axis=1)\n",
    "    \n",
    "    fund_from_region = fund_from_cntry.groupby(['cntry','year','region'])['fundcnt'].sum().reset_index()\n",
    "    \n",
    "    fund_from_region = fund_from_region.pivot_table(index=['cntry','year'], columns=['region'],values='fundcnt',fill_value=0)\n",
    "    fund_from_region['foreign'] = fund_from_region.loc[:, fund_from_region.columns != 'domestic'].sum(axis=1)\n",
    "    fund_from_region = np.log(fund_from_region+1).reset_index()\n",
    "    return fund_from_region"
   ]
  },
  {
   "cell_type": "code",
   "execution_count": 98,
   "id": "71a4f288-ea1f-4ca3-bc47-aa0fd1c75cd1",
   "metadata": {},
   "outputs": [],
   "source": [
    "def create_next_year_pub(df):\n",
    "    # the input of the function pubcnt per country per year\n",
    "    df = df.sort_values(by=['cntry','year'])\n",
    "    df_next_year = pd.DataFrame(columns=['cntry', 'year','current_year_pubcnt', 'prvs_year_pubcnt'])\n",
    "    \n",
    "    for cntry in df.cntry.unique():\n",
    "        cntry_df = df[df.cntry==cntry].copy()\n",
    "        cntry_df.loc[:,'prvs_year_pubcnt'] = cntry_df['pubcnt'].shift(1)\n",
    "        cntry_df = cntry_df[['cntry','year','pubcnt','prvs_year_pubcnt']].rename(columns={'pubcnt':'current_year_pubcnt'})\n",
    "        df_next_year = pd.concat([df_next_year, cntry_df],ignore_index=True)\n",
    "    \n",
    "    df_next_year.dropna(inplace=True)\n",
    "    df_next_year.reset_index(drop=True, inplace=True)\n",
    "    \n",
    "    return df_next_year"
   ]
  },
  {
   "cell_type": "code",
   "execution_count": 32,
   "id": "a666af7d-349b-45a4-834e-57d63a374f7a",
   "metadata": {},
   "outputs": [],
   "source": [
    "df = pd.read_pickle(pubs_path)"
   ]
  },
  {
   "cell_type": "code",
   "execution_count": 123,
   "id": "62c7fe2a-8053-4e8b-bd0b-a0befc8a8550",
   "metadata": {},
   "outputs": [],
   "source": [
    "pubcnt_cntry_year = get_pubcnt_by_cntry_year(df)"
   ]
  },
  {
   "cell_type": "code",
   "execution_count": 12,
   "id": "2e9818e0-df4e-47c5-b34f-beb77e12cb34",
   "metadata": {},
   "outputs": [],
   "source": [
    "fund_from_cntrys = get_fundcnt_from_cntry(df)"
   ]
  },
  {
   "cell_type": "code",
   "execution_count": 13,
   "id": "870d878a-83b2-40ee-aeae-9b7ae0a666ef",
   "metadata": {},
   "outputs": [],
   "source": [
    "topcntrys=['United States','China','EU','United Kingdom','France','Germany']\n",
    "fund_by_types = count_fund_by_type(fund_from_cntrys, topcntrys)"
   ]
  },
  {
   "cell_type": "code",
   "execution_count": 125,
   "id": "322e457a-243b-4393-9659-23ad688c1598",
   "metadata": {},
   "outputs": [],
   "source": [
    "pubcnt_over_years = create_next_year_pub(pubcnt_cntry_year)"
   ]
  },
  {
   "cell_type": "code",
   "execution_count": 126,
   "id": "f2c967ef-a528-4a68-991c-ac8b70eae477",
   "metadata": {},
   "outputs": [],
   "source": [
    "reg_table = pubcnt_over_years.merge(fund_by_types, on=['cntry','year'])"
   ]
  },
  {
   "cell_type": "code",
   "execution_count": 128,
   "id": "112a0787-6001-418a-b67a-e7196f1f3e88",
   "metadata": {},
   "outputs": [],
   "source": [
    "reg_table = reg_table.loc[(reg_table['current_year_pubcnt']!=0)&(reg_table['prvs_year_pubcnt']!=0)]\n",
    "reg_table['pub_growth'] = reg_table['current_year_pubcnt']/reg_table['prvs_year_pubcnt']-1\n",
    "reg_table['current_year_pubcnt'] = np.log(reg_table['current_year_pubcnt'].astype('float64',errors='ignore'))\n",
    "reg_table['prvs_year_pubcnt'] = np.log(reg_table['prvs_year_pubcnt'])"
   ]
  },
  {
   "cell_type": "code",
   "execution_count": 130,
   "id": "d0adc1ae-d891-481b-846f-564e5fe5f740",
   "metadata": {},
   "outputs": [],
   "source": [
    "reg_table.to_csv(reg_table_path, index=False)"
   ]
  },
  {
   "cell_type": "code",
   "execution_count": null,
   "id": "1d8dd131-bebc-4fc8-964f-820d48f7aa0e",
   "metadata": {},
   "outputs": [],
   "source": []
  }
 ],
 "metadata": {
  "kernelspec": {
   "display_name": "Python 3 (ipykernel)",
   "language": "python",
   "name": "python3"
  },
  "language_info": {
   "codemirror_mode": {
    "name": "ipython",
    "version": 3
   },
   "file_extension": ".py",
   "mimetype": "text/x-python",
   "name": "python",
   "nbconvert_exporter": "python",
   "pygments_lexer": "ipython3",
   "version": "3.8.16"
  }
 },
 "nbformat": 4,
 "nbformat_minor": 5
}
