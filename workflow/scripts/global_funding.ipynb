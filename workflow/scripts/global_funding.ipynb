{
 "cells": [
  {
   "cell_type": "markdown",
   "metadata": {},
   "source": [
    "this script calculate the funded proportion of global science"
   ]
  },
  {
   "cell_type": "code",
   "execution_count": 1,
   "metadata": {},
   "outputs": [],
   "source": [
    "import pandas as pd\n",
    "import numpy as np\n",
    "from itertools import product\n",
    "from ast import literal_eval\n",
    "import seaborn as sns\n",
    "import random\n",
    "import matplotlib.pyplot as plt\n",
    "from matplotlib.lines import Line2D"
   ]
  },
  {
   "cell_type": "code",
   "execution_count": 2,
   "metadata": {},
   "outputs": [],
   "source": [
    "pubs_path=\"../../data/nf_folder/Data/DerivedData/CleanedRawData/pubs_author_funder.csv\""
   ]
  },
  {
   "cell_type": "code",
   "execution_count": 16,
   "metadata": {},
   "outputs": [],
   "source": [
    "cntry_fund_frac_path='../../data/nf_folder/Data/DerivedData/Derived/cntry_fund_frac.csv'\n",
    "global_funding_path='../../data/nf_folder/Figs/global_funding.pdf'"
   ]
  },
  {
   "cell_type": "code",
   "execution_count": 3,
   "metadata": {},
   "outputs": [
    {
     "name": "stderr",
     "output_type": "stream",
     "text": [
      "/home/miaoli/conda/envs/funding/lib/python3.8/site-packages/IPython/core/interactiveshell.py:3165: DtypeWarning: Columns (2) have mixed types.Specify dtype option on import or set low_memory=False.\n",
      "  has_raised = await self.run_ast_nodes(code_ast.body, cell_name,\n"
     ]
    },
    {
     "data": {
      "text/html": [
       "<div>\n",
       "<style scoped>\n",
       "    .dataframe tbody tr th:only-of-type {\n",
       "        vertical-align: middle;\n",
       "    }\n",
       "\n",
       "    .dataframe tbody tr th {\n",
       "        vertical-align: top;\n",
       "    }\n",
       "\n",
       "    .dataframe thead th {\n",
       "        text-align: right;\n",
       "    }\n",
       "</style>\n",
       "<table border=\"1\" class=\"dataframe\">\n",
       "  <thead>\n",
       "    <tr style=\"text-align: right;\">\n",
       "      <th></th>\n",
       "      <th>id</th>\n",
       "      <th>author_country</th>\n",
       "      <th>funder_country</th>\n",
       "      <th>discipline</th>\n",
       "      <th>year</th>\n",
       "      <th>rel_citation</th>\n",
       "      <th>citation</th>\n",
       "    </tr>\n",
       "  </thead>\n",
       "  <tbody>\n",
       "    <tr>\n",
       "      <th>0</th>\n",
       "      <td>30507292</td>\n",
       "      <td>[Turkey]</td>\n",
       "      <td>[Turkey]</td>\n",
       "      <td>77</td>\n",
       "      <td>2009</td>\n",
       "      <td>0.485</td>\n",
       "      <td>6</td>\n",
       "    </tr>\n",
       "    <tr>\n",
       "      <th>1</th>\n",
       "      <td>30574690</td>\n",
       "      <td>[United States, France]</td>\n",
       "      <td>[United States, United States, United States, ...</td>\n",
       "      <td>83</td>\n",
       "      <td>2009</td>\n",
       "      <td>0.703</td>\n",
       "      <td>9</td>\n",
       "    </tr>\n",
       "    <tr>\n",
       "      <th>2</th>\n",
       "      <td>30574691</td>\n",
       "      <td>[Russia]</td>\n",
       "      <td>[Russia]</td>\n",
       "      <td>83</td>\n",
       "      <td>2009</td>\n",
       "      <td>0.312</td>\n",
       "      <td>4</td>\n",
       "    </tr>\n",
       "    <tr>\n",
       "      <th>3</th>\n",
       "      <td>30585095</td>\n",
       "      <td>[Spain, Spain]</td>\n",
       "      <td>[Spain, Spain, Spain, Spain, Spain, Spain]</td>\n",
       "      <td>89</td>\n",
       "      <td>2009</td>\n",
       "      <td>0.137</td>\n",
       "      <td>1</td>\n",
       "    </tr>\n",
       "    <tr>\n",
       "      <th>4</th>\n",
       "      <td>30585097</td>\n",
       "      <td>[Germany, Spain]</td>\n",
       "      <td>[Spain]</td>\n",
       "      <td>89</td>\n",
       "      <td>2009</td>\n",
       "      <td>0.410</td>\n",
       "      <td>3</td>\n",
       "    </tr>\n",
       "  </tbody>\n",
       "</table>\n",
       "</div>"
      ],
      "text/plain": [
       "         id           author_country  \\\n",
       "0  30507292                 [Turkey]   \n",
       "1  30574690  [United States, France]   \n",
       "2  30574691                 [Russia]   \n",
       "3  30585095           [Spain, Spain]   \n",
       "4  30585097         [Germany, Spain]   \n",
       "\n",
       "                                      funder_country  discipline  year  \\\n",
       "0                                           [Turkey]          77  2009   \n",
       "1  [United States, United States, United States, ...          83  2009   \n",
       "2                                           [Russia]          83  2009   \n",
       "3         [Spain, Spain, Spain, Spain, Spain, Spain]          89  2009   \n",
       "4                                            [Spain]          89  2009   \n",
       "\n",
       "   rel_citation  citation  \n",
       "0         0.485         6  \n",
       "1         0.703         9  \n",
       "2         0.312         4  \n",
       "3         0.137         1  \n",
       "4         0.410         3  "
      ]
     },
     "execution_count": 3,
     "metadata": {},
     "output_type": "execute_result"
    }
   ],
   "source": [
    "pubs_author_funder=pd.read_csv(pubs_path)\n",
    "pubs_author_funder['author_country'] = pubs_author_funder['author_country'].apply(literal_eval)\n",
    "pubs_author_funder['funder_country'] = pubs_author_funder['funder_country'].apply(\n",
    "    lambda x: literal_eval(x) if pd.notnull(x) else \"Not-Funded\")\n",
    "pubs_author_funder.head()"
   ]
  },
  {
   "cell_type": "code",
   "execution_count": 4,
   "metadata": {},
   "outputs": [
    {
     "data": {
      "text/html": [
       "<div>\n",
       "<style scoped>\n",
       "    .dataframe tbody tr th:only-of-type {\n",
       "        vertical-align: middle;\n",
       "    }\n",
       "\n",
       "    .dataframe tbody tr th {\n",
       "        vertical-align: top;\n",
       "    }\n",
       "\n",
       "    .dataframe thead th {\n",
       "        text-align: right;\n",
       "    }\n",
       "</style>\n",
       "<table border=\"1\" class=\"dataframe\">\n",
       "  <thead>\n",
       "    <tr style=\"text-align: right;\">\n",
       "      <th></th>\n",
       "      <th>id</th>\n",
       "      <th>author_country</th>\n",
       "      <th>funder_country</th>\n",
       "      <th>discipline</th>\n",
       "      <th>year</th>\n",
       "      <th>rel_citation</th>\n",
       "      <th>citation</th>\n",
       "      <th>funded</th>\n",
       "      <th>IntCol</th>\n",
       "    </tr>\n",
       "  </thead>\n",
       "  <tbody>\n",
       "    <tr>\n",
       "      <th>0</th>\n",
       "      <td>30507292</td>\n",
       "      <td>[Turkey]</td>\n",
       "      <td>[Turkey]</td>\n",
       "      <td>77</td>\n",
       "      <td>2009</td>\n",
       "      <td>0.485</td>\n",
       "      <td>6</td>\n",
       "      <td>1</td>\n",
       "      <td>0</td>\n",
       "    </tr>\n",
       "    <tr>\n",
       "      <th>1</th>\n",
       "      <td>30574690</td>\n",
       "      <td>[United States, France]</td>\n",
       "      <td>[United States, United States, United States, ...</td>\n",
       "      <td>83</td>\n",
       "      <td>2009</td>\n",
       "      <td>0.703</td>\n",
       "      <td>9</td>\n",
       "      <td>1</td>\n",
       "      <td>1</td>\n",
       "    </tr>\n",
       "    <tr>\n",
       "      <th>2</th>\n",
       "      <td>30574691</td>\n",
       "      <td>[Russia]</td>\n",
       "      <td>[Russia]</td>\n",
       "      <td>83</td>\n",
       "      <td>2009</td>\n",
       "      <td>0.312</td>\n",
       "      <td>4</td>\n",
       "      <td>1</td>\n",
       "      <td>0</td>\n",
       "    </tr>\n",
       "    <tr>\n",
       "      <th>3</th>\n",
       "      <td>30585095</td>\n",
       "      <td>[Spain, Spain]</td>\n",
       "      <td>[Spain, Spain, Spain, Spain, Spain, Spain]</td>\n",
       "      <td>89</td>\n",
       "      <td>2009</td>\n",
       "      <td>0.137</td>\n",
       "      <td>1</td>\n",
       "      <td>1</td>\n",
       "      <td>0</td>\n",
       "    </tr>\n",
       "    <tr>\n",
       "      <th>4</th>\n",
       "      <td>30585097</td>\n",
       "      <td>[Germany, Spain]</td>\n",
       "      <td>[Spain]</td>\n",
       "      <td>89</td>\n",
       "      <td>2009</td>\n",
       "      <td>0.410</td>\n",
       "      <td>3</td>\n",
       "      <td>1</td>\n",
       "      <td>1</td>\n",
       "    </tr>\n",
       "  </tbody>\n",
       "</table>\n",
       "</div>"
      ],
      "text/plain": [
       "         id           author_country  \\\n",
       "0  30507292                 [Turkey]   \n",
       "1  30574690  [United States, France]   \n",
       "2  30574691                 [Russia]   \n",
       "3  30585095           [Spain, Spain]   \n",
       "4  30585097         [Germany, Spain]   \n",
       "\n",
       "                                      funder_country  discipline  year  \\\n",
       "0                                           [Turkey]          77  2009   \n",
       "1  [United States, United States, United States, ...          83  2009   \n",
       "2                                           [Russia]          83  2009   \n",
       "3         [Spain, Spain, Spain, Spain, Spain, Spain]          89  2009   \n",
       "4                                            [Spain]          89  2009   \n",
       "\n",
       "   rel_citation  citation  funded  IntCol  \n",
       "0         0.485         6       1       0  \n",
       "1         0.703         9       1       1  \n",
       "2         0.312         4       1       0  \n",
       "3         0.137         1       1       0  \n",
       "4         0.410         3       1       1  "
      ]
     },
     "execution_count": 4,
     "metadata": {},
     "output_type": "execute_result"
    }
   ],
   "source": [
    "pubs_author_funder['funded']=pubs_author_funder['funder_country'].apply(\n",
    "    lambda x:1 if x!='Not-Funded' else 0)\n",
    "pubs_author_funder['IntCol']=pubs_author_funder['author_country'].apply(\n",
    "    lambda x:1 if len(set(x))>1 else 0)\n",
    "pubs_author_funder.head()"
   ]
  },
  {
   "cell_type": "markdown",
   "metadata": {},
   "source": [
    "assign each paper to its funding country by fractional counting"
   ]
  },
  {
   "cell_type": "code",
   "execution_count": 5,
   "metadata": {},
   "outputs": [],
   "source": [
    "cntry_fund_frac = []\n",
    "for index, row in pubs_author_funder.iterrows():\n",
    "    year=row['year']\n",
    "    funded=row['funded']\n",
    "    coll=row['IntCol']\n",
    "    funder_cntrys=row['funder_country']\n",
    "    if funder_cntrys=='Not-Funded':\n",
    "        cntry_fund_frac.append([funder_cntrys,1,year,funded,coll])\n",
    "    else:\n",
    "        funder_cntrys=list(set(funder_cntrys))\n",
    "        n=len(funder_cntrys)\n",
    "        for c in funder_cntrys:\n",
    "            cntry_fund_frac.append([c,1/n,year,funded,coll])"
   ]
  },
  {
   "cell_type": "code",
   "execution_count": 18,
   "metadata": {},
   "outputs": [
    {
     "data": {
      "text/html": [
       "<div>\n",
       "<style scoped>\n",
       "    .dataframe tbody tr th:only-of-type {\n",
       "        vertical-align: middle;\n",
       "    }\n",
       "\n",
       "    .dataframe tbody tr th {\n",
       "        vertical-align: top;\n",
       "    }\n",
       "\n",
       "    .dataframe thead th {\n",
       "        text-align: right;\n",
       "    }\n",
       "</style>\n",
       "<table border=\"1\" class=\"dataframe\">\n",
       "  <thead>\n",
       "    <tr style=\"text-align: right;\">\n",
       "      <th></th>\n",
       "      <th>fund_cntry</th>\n",
       "      <th>cnt_frac</th>\n",
       "      <th>year</th>\n",
       "      <th>funded</th>\n",
       "      <th>intcol</th>\n",
       "    </tr>\n",
       "  </thead>\n",
       "  <tbody>\n",
       "    <tr>\n",
       "      <th>0</th>\n",
       "      <td>Turkey</td>\n",
       "      <td>1.0</td>\n",
       "      <td>2009</td>\n",
       "      <td>1</td>\n",
       "      <td>0</td>\n",
       "    </tr>\n",
       "    <tr>\n",
       "      <th>1</th>\n",
       "      <td>United States</td>\n",
       "      <td>1.0</td>\n",
       "      <td>2009</td>\n",
       "      <td>1</td>\n",
       "      <td>1</td>\n",
       "    </tr>\n",
       "    <tr>\n",
       "      <th>2</th>\n",
       "      <td>Russia</td>\n",
       "      <td>1.0</td>\n",
       "      <td>2009</td>\n",
       "      <td>1</td>\n",
       "      <td>0</td>\n",
       "    </tr>\n",
       "    <tr>\n",
       "      <th>3</th>\n",
       "      <td>Spain</td>\n",
       "      <td>1.0</td>\n",
       "      <td>2009</td>\n",
       "      <td>1</td>\n",
       "      <td>0</td>\n",
       "    </tr>\n",
       "    <tr>\n",
       "      <th>4</th>\n",
       "      <td>Spain</td>\n",
       "      <td>1.0</td>\n",
       "      <td>2009</td>\n",
       "      <td>1</td>\n",
       "      <td>1</td>\n",
       "    </tr>\n",
       "  </tbody>\n",
       "</table>\n",
       "</div>"
      ],
      "text/plain": [
       "      fund_cntry  cnt_frac  year  funded  intcol\n",
       "0         Turkey       1.0  2009       1       0\n",
       "1  United States       1.0  2009       1       1\n",
       "2         Russia       1.0  2009       1       0\n",
       "3          Spain       1.0  2009       1       0\n",
       "4          Spain       1.0  2009       1       1"
      ]
     },
     "execution_count": 18,
     "metadata": {},
     "output_type": "execute_result"
    }
   ],
   "source": [
    "cntry_fund_frac_df = pd.DataFrame(cntry_fund_frac,\n",
    "                                  columns=['fund_cntry','cnt_frac','year','funded','intcol'])\n",
    "cntry_fund_frac_df.head()"
   ]
  },
  {
   "cell_type": "code",
   "execution_count": 19,
   "metadata": {},
   "outputs": [],
   "source": [
    "cntry_fund_frac_df.to_csv(cntry_fund_frac_path,index=False)"
   ]
  },
  {
   "cell_type": "markdown",
   "metadata": {},
   "source": [
    "remove 'not-funded' paper from calculation"
   ]
  },
  {
   "cell_type": "code",
   "execution_count": 20,
   "metadata": {},
   "outputs": [],
   "source": [
    "cntry_fund_frac_df=cntry_fund_frac_df[cntry_fund_frac_df.fund_cntry!='Not-Funded']"
   ]
  },
  {
   "cell_type": "markdown",
   "metadata": {},
   "source": [
    "select the top n countries"
   ]
  },
  {
   "cell_type": "code",
   "execution_count": 8,
   "metadata": {},
   "outputs": [],
   "source": [
    "n=10\n",
    "topn=cntry_fund_frac_df.groupby('fund_cntry')[\n",
    "    'cnt_frac'].sum().sort_values(ascending=False).head(n).index.values"
   ]
  },
  {
   "cell_type": "code",
   "execution_count": 9,
   "metadata": {},
   "outputs": [],
   "source": [
    "def cal_ratio(data):\n",
    "    cntry_ratio=data.groupby(['year','fund_cntry'])['cnt_frac'].sum().reset_index(name='count')\n",
    "    cntry_ratio=cntry_ratio.pivot_table(index='year',columns='fund_cntry',values='count',fill_value=0)\n",
    "    cntry_ratio=cntry_ratio.div(cntry_ratio.sum(axis=1), axis=0)\n",
    "    return cntry_ratio"
   ]
  },
  {
   "cell_type": "code",
   "execution_count": 10,
   "metadata": {},
   "outputs": [],
   "source": [
    "def get_topn(cntry_ratio,topnlist):\n",
    "    topn_df=cntry_ratio[topnlist].reset_index()\n",
    "    topn_df=topn_df.melt(id_vars='year')\n",
    "    return topn_df"
   ]
  },
  {
   "cell_type": "code",
   "execution_count": 11,
   "metadata": {},
   "outputs": [],
   "source": [
    "clist=['#FF8A25','#62988C',]+['#D0D2F2']*8"
   ]
  },
  {
   "cell_type": "code",
   "execution_count": 12,
   "metadata": {},
   "outputs": [],
   "source": [
    "def plot(data,ax):\n",
    "    sns.lineplot(x='year',y='value',hue='fund_cntry',data=data,legend=False,ax=ax,hue_order=topn,palette=clist)\n",
    "    ax.spines['right'].set_visible(False)\n",
    "    ax.spines['top'].set_visible(False)\n",
    "    return ax"
   ]
  },
  {
   "cell_type": "code",
   "execution_count": 17,
   "metadata": {},
   "outputs": [
    {
     "data": {
      "image/png": "[encoded data removed]",
      "text/plain": [
       "<Figure size 720x612 with 4 Axes>"
      ]
     },
     "metadata": {
      "needs_background": "light"
     },
     "output_type": "display_data"
    }
   ],
   "source": [
    "fig, ax=plt.subplots(nrows=2,ncols=2,figsize=(10,8.5))\n",
    "\n",
    "cntry_ratio=cal_ratio(cntry_fund_frac_df)\n",
    "topn_df=get_topn(cntry_ratio,topn)\n",
    "plot(topn_df,ax[0][0])\n",
    "custom_lines=[Line2D([0], [0], color=c) for c in clist]\n",
    "ax[0][0].legend(custom_lines,topn,loc=(1.1,0.2),fontsize='medium',frameon=False)\n",
    "ax[0][0].set_xlabel(\"\")\n",
    "ax[0][0].set_ylabel(\"Ratio of All Publications\",fontsize=12)\n",
    "\n",
    "ax[0][1].set_visible(False)\n",
    "\n",
    "cntry_domes=cntry_fund_frac_df[cntry_fund_frac_df.intcol==0]\n",
    "cntry_domes_ratio=cal_ratio(cntry_domes)\n",
    "topn_domes=get_topn(cntry_domes_ratio,topn)\n",
    "plot(topn_domes,ax[1][0])\n",
    "ax[1][0].set_xlabel(\"\")\n",
    "ax[1][0].set_ylabel(\"Ratio of Single Country Publications\",fontsize=12)\n",
    "\n",
    "cntry_int=cntry_fund_frac_df[cntry_fund_frac_df.intcol==1]\n",
    "cntry_int_ratio=cal_ratio(cntry_int)\n",
    "topn_int=get_topn(cntry_int_ratio,topn)\n",
    "plot(topn_int,ax[1][1])\n",
    "ax[1][1].set_xlabel(\"\")\n",
    "ax[1][1].set_ylabel(\"Ratio of International Collaboration\",fontsize=12)\n",
    "plt.savefig(global_funding_path,bbox_inches='tight')"
   ]
  },
  {
   "cell_type": "code",
   "execution_count": 122,
   "metadata": {},
   "outputs": [],
   "source": []
  },
  {
   "cell_type": "code",
   "execution_count": null,
   "metadata": {},
   "outputs": [],
   "source": []
  }
 ],
 "metadata": {
  "kernelspec": {
   "display_name": "Python 3",
   "language": "python",
   "name": "python3"
  },
  "language_info": {
   "codemirror_mode": {
    "name": "ipython",
    "version": 3
   },
   "file_extension": ".py",
   "mimetype": "text/x-python",
   "name": "python",
   "nbconvert_exporter": "python",
   "pygments_lexer": "ipython3",
   "version": "3.8.1"
  }
 },
 "nbformat": 4,
 "nbformat_minor": 4
}
