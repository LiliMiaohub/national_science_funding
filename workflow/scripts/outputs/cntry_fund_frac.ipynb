{
 "cells": [
  {
   "cell_type": "markdown",
   "id": "ac480fd1",
   "metadata": {
    "papermill": {
     "duration": 0.007138,
     "end_time": "2023-04-25T20:16:57.096540",
     "exception": false,
     "start_time": "2023-04-25T20:16:57.089402",
     "status": "completed"
    },
    "tags": []
   },
   "source": [
    "### this script distribute funded publications to funder country by fractional counting. The weight to each fractional counting to funder country is proportional to the number of funding instances (FA-GN entry). For example, 2 funding instance from China and 1 from US, then China funds 2/3 of the pub and US funds 1/3\n",
    "\n",
    "The input of the file is the publication data\n",
    "\n",
    "The output of the file is fractional funding data includes:\n",
    "- funder: the funding country\n",
    "- year\n",
    "- intcol: whether the amount of funding is contributed to international coauthored publications or not.\n",
    "- cnt: the number of funded publications. "
   ]
  },
  {
   "cell_type": "code",
   "execution_count": 1,
   "id": "af02aa20",
   "metadata": {
    "execution": {
     "iopub.execute_input": "2023-04-25T20:16:57.107093Z",
     "iopub.status.busy": "2023-04-25T20:16:57.105935Z",
     "iopub.status.idle": "2023-04-25T20:16:57.365171Z",
     "shell.execute_reply": "2023-04-25T20:16:57.364258Z"
    },
    "papermill": {
     "duration": 0.266174,
     "end_time": "2023-04-25T20:16:57.368600",
     "exception": false,
     "start_time": "2023-04-25T20:16:57.102426",
     "status": "completed"
    },
    "tags": []
   },
   "outputs": [],
   "source": [
    "import pandas as pd\n",
    "import numpy as np\n",
    "from itertools import product"
   ]
  },
  {
   "cell_type": "markdown",
   "id": "abb55e41",
   "metadata": {
    "papermill": {
     "duration": 0.002038,
     "end_time": "2023-04-25T20:16:57.376398",
     "exception": false,
     "start_time": "2023-04-25T20:16:57.374360",
     "status": "completed"
    },
    "tags": []
   },
   "source": [
    "# Parameters"
   ]
  },
  {
   "cell_type": "code",
   "execution_count": 2,
   "id": "be182038",
   "metadata": {
    "execution": {
     "iopub.execute_input": "2023-04-25T20:16:57.382797Z",
     "iopub.status.busy": "2023-04-25T20:16:57.381565Z",
     "iopub.status.idle": "2023-04-25T20:16:57.387702Z",
     "shell.execute_reply": "2023-04-25T20:16:57.386574Z"
    },
    "papermill": {
     "duration": 0.01091,
     "end_time": "2023-04-25T20:16:57.389194",
     "exception": false,
     "start_time": "2023-04-25T20:16:57.378284",
     "status": "completed"
    },
    "tags": [
     "parameters"
    ]
   },
   "outputs": [],
   "source": [
    "pubs_path=\"../../data/nf_folder/Data/DerivedData/CleanedRawData/pub.pkl\"\n",
    "\n",
    "cntry_fund_frac_path='../../data/nf_folder/Data/DerivedData/Derived/cntry_fund_frac.csv'"
   ]
  },
  {
   "cell_type": "code",
   "execution_count": 3,
   "id": "6821661f",
   "metadata": {
    "execution": {
     "iopub.execute_input": "2023-04-25T20:16:57.394843Z",
     "iopub.status.busy": "2023-04-25T20:16:57.394549Z",
     "iopub.status.idle": "2023-04-25T20:16:57.397778Z",
     "shell.execute_reply": "2023-04-25T20:16:57.397188Z"
    },
    "papermill": {
     "duration": 0.008072,
     "end_time": "2023-04-25T20:16:57.399360",
     "exception": false,
     "start_time": "2023-04-25T20:16:57.391288",
     "status": "completed"
    },
    "tags": [
     "injected-parameters"
    ]
   },
   "outputs": [],
   "source": [
    "# Parameters\n",
    "pubs_path = \"../data/NationalFunding/Data/DerivedData/CleanedRawData/pub.pkl\"\n",
    "cntry_fund_frac_path = (\n",
    "    \"../data/NationalFunding/Data/DerivedData/Derived/cntry_fund_frac.csv\"\n",
    ")\n"
   ]
  },
  {
   "cell_type": "code",
   "execution_count": 4,
   "id": "16d338df",
   "metadata": {
    "execution": {
     "iopub.execute_input": "2023-04-25T20:16:57.405632Z",
     "iopub.status.busy": "2023-04-25T20:16:57.404963Z",
     "iopub.status.idle": "2023-04-25T20:17:53.007663Z",
     "shell.execute_reply": "2023-04-25T20:17:53.006511Z"
    },
    "papermill": {
     "duration": 55.614337,
     "end_time": "2023-04-25T20:17:53.016257",
     "exception": false,
     "start_time": "2023-04-25T20:16:57.401920",
     "status": "completed"
    },
    "tags": []
   },
   "outputs": [
    {
     "data": {
      "text/html": [
       "<div>\n",
       "<style scoped>\n",
       "    .dataframe tbody tr th:only-of-type {\n",
       "        vertical-align: middle;\n",
       "    }\n",
       "\n",
       "    .dataframe tbody tr th {\n",
       "        vertical-align: top;\n",
       "    }\n",
       "\n",
       "    .dataframe thead th {\n",
       "        text-align: right;\n",
       "    }\n",
       "</style>\n",
       "<table border=\"1\" class=\"dataframe\">\n",
       "  <thead>\n",
       "    <tr style=\"text-align: right;\">\n",
       "      <th></th>\n",
       "      <th>id</th>\n",
       "      <th>year</th>\n",
       "      <th>dis</th>\n",
       "      <th>type</th>\n",
       "      <th>author</th>\n",
       "      <th>funder</th>\n",
       "      <th>author_distinct</th>\n",
       "      <th>funder_distinct</th>\n",
       "      <th>funded</th>\n",
       "      <th>IntCol</th>\n",
       "      <th>cofund</th>\n",
       "      <th>intfund</th>\n",
       "    </tr>\n",
       "  </thead>\n",
       "  <tbody>\n",
       "    <tr>\n",
       "      <th>0</th>\n",
       "      <td>60694041</td>\n",
       "      <td>2017</td>\n",
       "      <td>9</td>\n",
       "      <td>1</td>\n",
       "      <td>[Canada, United States]</td>\n",
       "      <td>[United States, United States]</td>\n",
       "      <td>[Canada, United States]</td>\n",
       "      <td>[United States]</td>\n",
       "      <td>1</td>\n",
       "      <td>1</td>\n",
       "      <td>0</td>\n",
       "      <td>0</td>\n",
       "    </tr>\n",
       "    <tr>\n",
       "      <th>1</th>\n",
       "      <td>48573156</td>\n",
       "      <td>2012</td>\n",
       "      <td>89</td>\n",
       "      <td>1</td>\n",
       "      <td>[France]</td>\n",
       "      <td>Not-Funded</td>\n",
       "      <td>[France]</td>\n",
       "      <td>Not-Funded</td>\n",
       "      <td>0</td>\n",
       "      <td>0</td>\n",
       "      <td>0</td>\n",
       "      <td>0</td>\n",
       "    </tr>\n",
       "    <tr>\n",
       "      <th>2</th>\n",
       "      <td>55323671</td>\n",
       "      <td>2015</td>\n",
       "      <td>89</td>\n",
       "      <td>1</td>\n",
       "      <td>[France, Chile]</td>\n",
       "      <td>[Chile, Chile, Chile, Chile, Chile]</td>\n",
       "      <td>[Chile, France]</td>\n",
       "      <td>[Chile]</td>\n",
       "      <td>1</td>\n",
       "      <td>1</td>\n",
       "      <td>0</td>\n",
       "      <td>0</td>\n",
       "    </tr>\n",
       "    <tr>\n",
       "      <th>3</th>\n",
       "      <td>57633115</td>\n",
       "      <td>2016</td>\n",
       "      <td>31</td>\n",
       "      <td>1</td>\n",
       "      <td>[Switzerland, United States]</td>\n",
       "      <td>[Switzerland]</td>\n",
       "      <td>[Switzerland, United States]</td>\n",
       "      <td>[Switzerland]</td>\n",
       "      <td>1</td>\n",
       "      <td>1</td>\n",
       "      <td>0</td>\n",
       "      <td>0</td>\n",
       "    </tr>\n",
       "    <tr>\n",
       "      <th>4</th>\n",
       "      <td>64831413</td>\n",
       "      <td>2018</td>\n",
       "      <td>99</td>\n",
       "      <td>1</td>\n",
       "      <td>[China]</td>\n",
       "      <td>[China, China, China, China, China, China]</td>\n",
       "      <td>[China]</td>\n",
       "      <td>[China]</td>\n",
       "      <td>1</td>\n",
       "      <td>0</td>\n",
       "      <td>0</td>\n",
       "      <td>0</td>\n",
       "    </tr>\n",
       "  </tbody>\n",
       "</table>\n",
       "</div>"
      ],
      "text/plain": [
       "         id  year  dis  type                        author   \n",
       "0  60694041  2017    9     1       [Canada, United States]  \\\n",
       "1  48573156  2012   89     1                      [France]   \n",
       "2  55323671  2015   89     1               [France, Chile]   \n",
       "3  57633115  2016   31     1  [Switzerland, United States]   \n",
       "4  64831413  2018   99     1                       [China]   \n",
       "\n",
       "                                       funder               author_distinct   \n",
       "0              [United States, United States]       [Canada, United States]  \\\n",
       "1                                  Not-Funded                      [France]   \n",
       "2         [Chile, Chile, Chile, Chile, Chile]               [Chile, France]   \n",
       "3                               [Switzerland]  [Switzerland, United States]   \n",
       "4  [China, China, China, China, China, China]                       [China]   \n",
       "\n",
       "   funder_distinct  funded  IntCol  cofund  intfund  \n",
       "0  [United States]       1       1       0        0  \n",
       "1       Not-Funded       0       0       0        0  \n",
       "2          [Chile]       1       1       0        0  \n",
       "3    [Switzerland]       1       1       0        0  \n",
       "4          [China]       1       0       0        0  "
      ]
     },
     "execution_count": 4,
     "metadata": {},
     "output_type": "execute_result"
    }
   ],
   "source": [
    "pubs_df=pd.read_pickle(pubs_path)\n",
    "pubs_df.head()"
   ]
  },
  {
   "cell_type": "markdown",
   "id": "1dd5be5b",
   "metadata": {
    "papermill": {
     "duration": 0.002272,
     "end_time": "2023-04-25T20:17:53.021029",
     "exception": false,
     "start_time": "2023-04-25T20:17:53.018757",
     "status": "completed"
    },
    "tags": []
   },
   "source": [
    "# assign each paper to its funding country by fractional counting"
   ]
  },
  {
   "cell_type": "code",
   "execution_count": 5,
   "id": "7eba1b9c",
   "metadata": {
    "execution": {
     "iopub.execute_input": "2023-04-25T20:17:53.028163Z",
     "iopub.status.busy": "2023-04-25T20:17:53.027077Z",
     "iopub.status.idle": "2023-04-25T20:29:23.421713Z",
     "shell.execute_reply": "2023-04-25T20:29:23.420339Z"
    },
    "papermill": {
     "duration": 690.402288,
     "end_time": "2023-04-25T20:29:23.425518",
     "exception": false,
     "start_time": "2023-04-25T20:17:53.023230",
     "status": "completed"
    },
    "tags": []
   },
   "outputs": [],
   "source": [
    "cntry_fund_frac = []\n",
    "for index, row in pubs_df.iterrows():\n",
    "    year=row['year']\n",
    "    coll=row['IntCol']\n",
    "    funder_cntrys=row['funder']\n",
    "    if funder_cntrys=='Not-Funded':\n",
    "        cntry_fund_frac.append([funder_cntrys,1,year,coll])\n",
    "    else:\n",
    "        n=len(funder_cntrys)\n",
    "        for c in funder_cntrys:\n",
    "            cntry_fund_frac.append([c,1/n,year,coll])"
   ]
  },
  {
   "cell_type": "code",
   "execution_count": 6,
   "id": "a1f2e6df",
   "metadata": {
    "execution": {
     "iopub.execute_input": "2023-04-25T20:29:23.437313Z",
     "iopub.status.busy": "2023-04-25T20:29:23.436151Z",
     "iopub.status.idle": "2023-04-25T20:29:42.829338Z",
     "shell.execute_reply": "2023-04-25T20:29:42.828127Z"
    },
    "papermill": {
     "duration": 19.400763,
     "end_time": "2023-04-25T20:29:42.832940",
     "exception": false,
     "start_time": "2023-04-25T20:29:23.432177",
     "status": "completed"
    },
    "tags": []
   },
   "outputs": [],
   "source": [
    "frac_df = pd.DataFrame(cntry_fund_frac,\n",
    "                                  columns=['funder','cnt','year','intcol'])"
   ]
  },
  {
   "cell_type": "code",
   "execution_count": 7,
   "id": "b9898637",
   "metadata": {
    "execution": {
     "iopub.execute_input": "2023-04-25T20:29:42.843925Z",
     "iopub.status.busy": "2023-04-25T20:29:42.843204Z",
     "iopub.status.idle": "2023-04-25T20:29:47.065635Z",
     "shell.execute_reply": "2023-04-25T20:29:47.064510Z"
    },
    "papermill": {
     "duration": 4.230157,
     "end_time": "2023-04-25T20:29:47.069302",
     "exception": false,
     "start_time": "2023-04-25T20:29:42.839145",
     "status": "completed"
    },
    "tags": []
   },
   "outputs": [],
   "source": [
    "frac_df=frac_df.groupby(['funder','year','intcol'])['cnt'].sum().reset_index()"
   ]
  },
  {
   "cell_type": "code",
   "execution_count": 8,
   "id": "6329e629",
   "metadata": {
    "execution": {
     "iopub.execute_input": "2023-04-25T20:29:47.082491Z",
     "iopub.status.busy": "2023-04-25T20:29:47.081664Z",
     "iopub.status.idle": "2023-04-25T20:29:47.096399Z",
     "shell.execute_reply": "2023-04-25T20:29:47.095494Z"
    },
    "papermill": {
     "duration": 0.022324,
     "end_time": "2023-04-25T20:29:47.098504",
     "exception": false,
     "start_time": "2023-04-25T20:29:47.076180",
     "status": "completed"
    },
    "tags": []
   },
   "outputs": [
    {
     "data": {
      "text/html": [
       "<div>\n",
       "<style scoped>\n",
       "    .dataframe tbody tr th:only-of-type {\n",
       "        vertical-align: middle;\n",
       "    }\n",
       "\n",
       "    .dataframe tbody tr th {\n",
       "        vertical-align: top;\n",
       "    }\n",
       "\n",
       "    .dataframe thead th {\n",
       "        text-align: right;\n",
       "    }\n",
       "</style>\n",
       "<table border=\"1\" class=\"dataframe\">\n",
       "  <thead>\n",
       "    <tr style=\"text-align: right;\">\n",
       "      <th></th>\n",
       "      <th>funder</th>\n",
       "      <th>year</th>\n",
       "      <th>intcol</th>\n",
       "      <th>cnt</th>\n",
       "    </tr>\n",
       "  </thead>\n",
       "  <tbody>\n",
       "    <tr>\n",
       "      <th>0</th>\n",
       "      <td>Afghanistan</td>\n",
       "      <td>2010</td>\n",
       "      <td>1</td>\n",
       "      <td>1.000000</td>\n",
       "    </tr>\n",
       "    <tr>\n",
       "      <th>1</th>\n",
       "      <td>Afghanistan</td>\n",
       "      <td>2011</td>\n",
       "      <td>1</td>\n",
       "      <td>0.333333</td>\n",
       "    </tr>\n",
       "    <tr>\n",
       "      <th>2</th>\n",
       "      <td>Afghanistan</td>\n",
       "      <td>2012</td>\n",
       "      <td>1</td>\n",
       "      <td>0.333333</td>\n",
       "    </tr>\n",
       "    <tr>\n",
       "      <th>3</th>\n",
       "      <td>Afghanistan</td>\n",
       "      <td>2015</td>\n",
       "      <td>0</td>\n",
       "      <td>0.148352</td>\n",
       "    </tr>\n",
       "    <tr>\n",
       "      <th>4</th>\n",
       "      <td>Afghanistan</td>\n",
       "      <td>2015</td>\n",
       "      <td>1</td>\n",
       "      <td>0.279167</td>\n",
       "    </tr>\n",
       "  </tbody>\n",
       "</table>\n",
       "</div>"
      ],
      "text/plain": [
       "        funder  year  intcol       cnt\n",
       "0  Afghanistan  2010       1  1.000000\n",
       "1  Afghanistan  2011       1  0.333333\n",
       "2  Afghanistan  2012       1  0.333333\n",
       "3  Afghanistan  2015       0  0.148352\n",
       "4  Afghanistan  2015       1  0.279167"
      ]
     },
     "execution_count": 8,
     "metadata": {},
     "output_type": "execute_result"
    }
   ],
   "source": [
    "frac_df.head()"
   ]
  },
  {
   "cell_type": "code",
   "execution_count": 9,
   "id": "bcaef2bb",
   "metadata": {
    "execution": {
     "iopub.execute_input": "2023-04-25T20:29:47.108938Z",
     "iopub.status.busy": "2023-04-25T20:29:47.108293Z",
     "iopub.status.idle": "2023-04-25T20:29:49.680376Z",
     "shell.execute_reply": "2023-04-25T20:29:49.679019Z"
    },
    "papermill": {
     "duration": 2.581294,
     "end_time": "2023-04-25T20:29:49.684112",
     "exception": false,
     "start_time": "2023-04-25T20:29:47.102818",
     "status": "completed"
    },
    "tags": []
   },
   "outputs": [],
   "source": [
    "frac_df.to_csv(cntry_fund_frac_path,index=False)"
   ]
  }
 ],
 "metadata": {
  "kernelspec": {
   "display_name": "Python 3 (ipykernel)",
   "language": "python",
   "name": "python3"
  },
  "language_info": {
   "codemirror_mode": {
    "name": "ipython",
    "version": 3
   },
   "file_extension": ".py",
   "mimetype": "text/x-python",
   "name": "python",
   "nbconvert_exporter": "python",
   "pygments_lexer": "ipython3",
   "version": "3.8.16"
  },
  "papermill": {
   "default_parameters": {},
   "duration": 777.479039,
   "end_time": "2023-04-25T20:29:53.313825",
   "environment_variables": {},
   "exception": null,
   "input_path": "scripts/cntry_fund_frac.ipynb",
   "output_path": "scripts/outputs/cntry_fund_frac.ipynb",
   "parameters": {
    "cntry_fund_frac_path": "../data/NationalFunding/Data/DerivedData/Derived/cntry_fund_frac.csv",
    "pubs_path": "../data/NationalFunding/Data/DerivedData/CleanedRawData/pub.pkl"
   },
   "start_time": "2023-04-25T20:16:55.834786",
   "version": "2.3.4"
  }
 },
 "nbformat": 4,
 "nbformat_minor": 5
}