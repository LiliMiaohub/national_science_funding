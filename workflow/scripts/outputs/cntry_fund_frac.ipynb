{
 "cells": [
  {
   "cell_type": "markdown",
   "id": "6ee2810e",
   "metadata": {
    "papermill": {
     "duration": 0.003062,
     "end_time": "2024-02-28T23:33:44.363663",
     "exception": false,
     "start_time": "2024-02-28T23:33:44.360601",
     "status": "completed"
    },
    "tags": []
   },
   "source": [
    "### this script distribute funded publications to funder country by fractional counting. The weight to each fractional counting to funder country is proportional to the number of funding instances (FA-GN entry). For example, 2 funding instance from China and 1 from US, then China funds 2/3 of the pub and US funds 1/3\n",
    "\n",
    "The input of the file is the publication data\n",
    "\n",
    "The output of the file is fractional funding data includes:\n",
    "- funder: the funding country\n",
    "- year\n",
    "- intcol: whether the amount of funding is contributed to international coauthored publications or not.\n",
    "- cnt: the number of funded publications. "
   ]
  },
  {
   "cell_type": "code",
   "execution_count": 1,
   "id": "faecfd93",
   "metadata": {
    "execution": {
     "iopub.execute_input": "2024-02-28T23:33:44.369673Z",
     "iopub.status.busy": "2024-02-28T23:33:44.368926Z",
     "iopub.status.idle": "2024-02-28T23:33:44.742417Z",
     "shell.execute_reply": "2024-02-28T23:33:44.741508Z"
    },
    "papermill": {
     "duration": 0.380124,
     "end_time": "2024-02-28T23:33:44.746229",
     "exception": false,
     "start_time": "2024-02-28T23:33:44.366105",
     "status": "completed"
    },
    "tags": []
   },
   "outputs": [],
   "source": [
    "import pandas as pd\n",
    "import numpy as np\n",
    "from itertools import product"
   ]
  },
  {
   "cell_type": "markdown",
   "id": "31239274",
   "metadata": {
    "papermill": {
     "duration": 0.002015,
     "end_time": "2024-02-28T23:33:44.754158",
     "exception": false,
     "start_time": "2024-02-28T23:33:44.752143",
     "status": "completed"
    },
    "tags": []
   },
   "source": [
    "# Parameters"
   ]
  },
  {
   "cell_type": "code",
   "execution_count": 2,
   "id": "f3f8b4bc",
   "metadata": {
    "execution": {
     "iopub.execute_input": "2024-02-28T23:33:44.760661Z",
     "iopub.status.busy": "2024-02-28T23:33:44.759648Z",
     "iopub.status.idle": "2024-02-28T23:33:44.765113Z",
     "shell.execute_reply": "2024-02-28T23:33:44.764406Z"
    },
    "papermill": {
     "duration": 0.010258,
     "end_time": "2024-02-28T23:33:44.766449",
     "exception": false,
     "start_time": "2024-02-28T23:33:44.756191",
     "status": "completed"
    },
    "tags": [
     "parameters"
    ]
   },
   "outputs": [],
   "source": [
    "pubs_path=\"../../data/nf_folder/Data/DerivedData/CleanedRawData/pub.pkl\"\n",
    "\n",
    "cntry_fund_frac_path='../../data/nf_folder/Data/DerivedData/Derived/cntry_fund_frac.csv'"
   ]
  },
  {
   "cell_type": "code",
   "execution_count": 3,
   "id": "4cbd7f19",
   "metadata": {
    "execution": {
     "iopub.execute_input": "2024-02-28T23:33:44.771274Z",
     "iopub.status.busy": "2024-02-28T23:33:44.771067Z",
     "iopub.status.idle": "2024-02-28T23:33:44.774271Z",
     "shell.execute_reply": "2024-02-28T23:33:44.773679Z"
    },
    "papermill": {
     "duration": 0.009681,
     "end_time": "2024-02-28T23:33:44.778081",
     "exception": false,
     "start_time": "2024-02-28T23:33:44.768400",
     "status": "completed"
    },
    "tags": [
     "injected-parameters"
    ]
   },
   "outputs": [],
   "source": [
    "# Parameters\n",
    "pubs_path = \"../data/NationalFunding/Data/simulated_data/Data/DerivedData/CleanedRawData/pub.pkl\"\n",
    "cntry_fund_frac_path = \"../data/NationalFunding/Data/simulated_data/Data/DerivedData/Derived/cntry_fund_frac.csv\"\n"
   ]
  },
  {
   "cell_type": "code",
   "execution_count": 4,
   "id": "c6d77e43",
   "metadata": {
    "execution": {
     "iopub.execute_input": "2024-02-28T23:33:44.788050Z",
     "iopub.status.busy": "2024-02-28T23:33:44.786978Z",
     "iopub.status.idle": "2024-02-28T23:33:48.071545Z",
     "shell.execute_reply": "2024-02-28T23:33:48.070631Z"
    },
    "papermill": {
     "duration": 3.292312,
     "end_time": "2024-02-28T23:33:48.075970",
     "exception": false,
     "start_time": "2024-02-28T23:33:44.783658",
     "status": "completed"
    },
    "tags": []
   },
   "outputs": [
    {
     "data": {
      "text/html": [
       "<div>\n",
       "<style scoped>\n",
       "    .dataframe tbody tr th:only-of-type {\n",
       "        vertical-align: middle;\n",
       "    }\n",
       "\n",
       "    .dataframe tbody tr th {\n",
       "        vertical-align: top;\n",
       "    }\n",
       "\n",
       "    .dataframe thead th {\n",
       "        text-align: right;\n",
       "    }\n",
       "</style>\n",
       "<table border=\"1\" class=\"dataframe\">\n",
       "  <thead>\n",
       "    <tr style=\"text-align: right;\">\n",
       "      <th></th>\n",
       "      <th>id</th>\n",
       "      <th>year</th>\n",
       "      <th>dis</th>\n",
       "      <th>type</th>\n",
       "      <th>author</th>\n",
       "      <th>funder</th>\n",
       "      <th>author_distinct</th>\n",
       "      <th>funder_distinct</th>\n",
       "      <th>funded</th>\n",
       "      <th>IntCol</th>\n",
       "      <th>cofund</th>\n",
       "      <th>intfund</th>\n",
       "    </tr>\n",
       "  </thead>\n",
       "  <tbody>\n",
       "    <tr>\n",
       "      <th>0</th>\n",
       "      <td>0</td>\n",
       "      <td>2014</td>\n",
       "      <td>29</td>\n",
       "      <td>1</td>\n",
       "      <td>[Canada]</td>\n",
       "      <td>[United States, Brazil, United States, Republi...</td>\n",
       "      <td>[Canada]</td>\n",
       "      <td>[Republic of Serbia, China, Brazil, United Sta...</td>\n",
       "      <td>1</td>\n",
       "      <td>0</td>\n",
       "      <td>1</td>\n",
       "      <td>1</td>\n",
       "    </tr>\n",
       "    <tr>\n",
       "      <th>1</th>\n",
       "      <td>1</td>\n",
       "      <td>2017</td>\n",
       "      <td>32</td>\n",
       "      <td>1</td>\n",
       "      <td>[Russia, Spain]</td>\n",
       "      <td>[Austria, China, China, China, United States, ...</td>\n",
       "      <td>[Russia, Spain]</td>\n",
       "      <td>[China, United States, Austria, Russia, Japan]</td>\n",
       "      <td>1</td>\n",
       "      <td>1</td>\n",
       "      <td>1</td>\n",
       "      <td>1</td>\n",
       "    </tr>\n",
       "    <tr>\n",
       "      <th>2</th>\n",
       "      <td>2</td>\n",
       "      <td>2012</td>\n",
       "      <td>15</td>\n",
       "      <td>1</td>\n",
       "      <td>[Turkey]</td>\n",
       "      <td>Not-Funded</td>\n",
       "      <td>[Turkey]</td>\n",
       "      <td>Not-Funded</td>\n",
       "      <td>0</td>\n",
       "      <td>0</td>\n",
       "      <td>0</td>\n",
       "      <td>0</td>\n",
       "    </tr>\n",
       "    <tr>\n",
       "      <th>3</th>\n",
       "      <td>3</td>\n",
       "      <td>2010</td>\n",
       "      <td>53</td>\n",
       "      <td>1</td>\n",
       "      <td>[United States, Iran]</td>\n",
       "      <td>[China]</td>\n",
       "      <td>[Iran, United States]</td>\n",
       "      <td>[China]</td>\n",
       "      <td>1</td>\n",
       "      <td>1</td>\n",
       "      <td>0</td>\n",
       "      <td>1</td>\n",
       "    </tr>\n",
       "    <tr>\n",
       "      <th>4</th>\n",
       "      <td>4</td>\n",
       "      <td>2015</td>\n",
       "      <td>22</td>\n",
       "      <td>1</td>\n",
       "      <td>[Denmark]</td>\n",
       "      <td>Not-Funded</td>\n",
       "      <td>[Denmark]</td>\n",
       "      <td>Not-Funded</td>\n",
       "      <td>0</td>\n",
       "      <td>0</td>\n",
       "      <td>0</td>\n",
       "      <td>0</td>\n",
       "    </tr>\n",
       "  </tbody>\n",
       "</table>\n",
       "</div>"
      ],
      "text/plain": [
       "   id  year  dis  type                 author   \n",
       "0   0  2014   29     1               [Canada]  \\\n",
       "1   1  2017   32     1        [Russia, Spain]   \n",
       "2   2  2012   15     1               [Turkey]   \n",
       "3   3  2010   53     1  [United States, Iran]   \n",
       "4   4  2015   22     1              [Denmark]   \n",
       "\n",
       "                                              funder        author_distinct   \n",
       "0  [United States, Brazil, United States, Republi...               [Canada]  \\\n",
       "1  [Austria, China, China, China, United States, ...        [Russia, Spain]   \n",
       "2                                         Not-Funded               [Turkey]   \n",
       "3                                            [China]  [Iran, United States]   \n",
       "4                                         Not-Funded              [Denmark]   \n",
       "\n",
       "                                     funder_distinct  funded  IntCol  cofund   \n",
       "0  [Republic of Serbia, China, Brazil, United Sta...       1       0       1  \\\n",
       "1     [China, United States, Austria, Russia, Japan]       1       1       1   \n",
       "2                                         Not-Funded       0       0       0   \n",
       "3                                            [China]       1       1       0   \n",
       "4                                         Not-Funded       0       0       0   \n",
       "\n",
       "   intfund  \n",
       "0        1  \n",
       "1        1  \n",
       "2        0  \n",
       "3        1  \n",
       "4        0  "
      ]
     },
     "execution_count": 4,
     "metadata": {},
     "output_type": "execute_result"
    }
   ],
   "source": [
    "pubs_df=pd.read_pickle(pubs_path)\n",
    "pubs_df.head()"
   ]
  },
  {
   "cell_type": "markdown",
   "id": "09477a94",
   "metadata": {
    "papermill": {
     "duration": 0.002289,
     "end_time": "2024-02-28T23:33:48.083006",
     "exception": false,
     "start_time": "2024-02-28T23:33:48.080717",
     "status": "completed"
    },
    "tags": []
   },
   "source": [
    "# assign each paper to its funding country by fractional counting"
   ]
  },
  {
   "cell_type": "code",
   "execution_count": 5,
   "id": "1cd4c367",
   "metadata": {
    "execution": {
     "iopub.execute_input": "2024-02-28T23:33:48.089395Z",
     "iopub.status.busy": "2024-02-28T23:33:48.088801Z",
     "iopub.status.idle": "2024-02-28T23:34:24.978801Z",
     "shell.execute_reply": "2024-02-28T23:34:24.977479Z"
    },
    "papermill": {
     "duration": 36.897114,
     "end_time": "2024-02-28T23:34:24.982377",
     "exception": false,
     "start_time": "2024-02-28T23:33:48.085263",
     "status": "completed"
    },
    "tags": []
   },
   "outputs": [],
   "source": [
    "cntry_fund_frac = []\n",
    "for index, row in pubs_df.iterrows():\n",
    "    year=row['year']\n",
    "    coll=row['IntCol']\n",
    "    funder_cntrys=row['funder']\n",
    "    if funder_cntrys=='Not-Funded':\n",
    "        cntry_fund_frac.append([funder_cntrys,1,year,coll])\n",
    "    else:\n",
    "        n=len(funder_cntrys)\n",
    "        for c in funder_cntrys:\n",
    "            cntry_fund_frac.append([c,1/n,year,coll])"
   ]
  },
  {
   "cell_type": "code",
   "execution_count": 6,
   "id": "c953dac8",
   "metadata": {
    "execution": {
     "iopub.execute_input": "2024-02-28T23:34:24.993480Z",
     "iopub.status.busy": "2024-02-28T23:34:24.992872Z",
     "iopub.status.idle": "2024-02-28T23:34:33.996642Z",
     "shell.execute_reply": "2024-02-28T23:34:33.995529Z"
    },
    "papermill": {
     "duration": 9.01123,
     "end_time": "2024-02-28T23:34:34.000049",
     "exception": false,
     "start_time": "2024-02-28T23:34:24.988819",
     "status": "completed"
    },
    "tags": []
   },
   "outputs": [],
   "source": [
    "frac_df = pd.DataFrame(cntry_fund_frac,\n",
    "                                  columns=['funder','cnt','year','intcol'])"
   ]
  },
  {
   "cell_type": "code",
   "execution_count": 7,
   "id": "a448af00",
   "metadata": {
    "execution": {
     "iopub.execute_input": "2024-02-28T23:34:34.010870Z",
     "iopub.status.busy": "2024-02-28T23:34:34.010035Z",
     "iopub.status.idle": "2024-02-28T23:34:36.262492Z",
     "shell.execute_reply": "2024-02-28T23:34:36.261333Z"
    },
    "papermill": {
     "duration": 2.259537,
     "end_time": "2024-02-28T23:34:36.266004",
     "exception": false,
     "start_time": "2024-02-28T23:34:34.006467",
     "status": "completed"
    },
    "tags": []
   },
   "outputs": [],
   "source": [
    "frac_df=frac_df.groupby(['funder','year','intcol'])['cnt'].sum().reset_index()"
   ]
  },
  {
   "cell_type": "code",
   "execution_count": 8,
   "id": "7ca217c6",
   "metadata": {
    "execution": {
     "iopub.execute_input": "2024-02-28T23:34:36.276469Z",
     "iopub.status.busy": "2024-02-28T23:34:36.276067Z",
     "iopub.status.idle": "2024-02-28T23:34:36.290221Z",
     "shell.execute_reply": "2024-02-28T23:34:36.289482Z"
    },
    "papermill": {
     "duration": 0.019282,
     "end_time": "2024-02-28T23:34:36.291876",
     "exception": false,
     "start_time": "2024-02-28T23:34:36.272594",
     "status": "completed"
    },
    "tags": []
   },
   "outputs": [
    {
     "data": {
      "text/html": [
       "<div>\n",
       "<style scoped>\n",
       "    .dataframe tbody tr th:only-of-type {\n",
       "        vertical-align: middle;\n",
       "    }\n",
       "\n",
       "    .dataframe tbody tr th {\n",
       "        vertical-align: top;\n",
       "    }\n",
       "\n",
       "    .dataframe thead th {\n",
       "        text-align: right;\n",
       "    }\n",
       "</style>\n",
       "<table border=\"1\" class=\"dataframe\">\n",
       "  <thead>\n",
       "    <tr style=\"text-align: right;\">\n",
       "      <th></th>\n",
       "      <th>funder</th>\n",
       "      <th>year</th>\n",
       "      <th>intcol</th>\n",
       "      <th>cnt</th>\n",
       "    </tr>\n",
       "  </thead>\n",
       "  <tbody>\n",
       "    <tr>\n",
       "      <th>0</th>\n",
       "      <td>Albania</td>\n",
       "      <td>2010</td>\n",
       "      <td>1</td>\n",
       "      <td>0.027778</td>\n",
       "    </tr>\n",
       "    <tr>\n",
       "      <th>1</th>\n",
       "      <td>Albania</td>\n",
       "      <td>2012</td>\n",
       "      <td>0</td>\n",
       "      <td>0.200000</td>\n",
       "    </tr>\n",
       "    <tr>\n",
       "      <th>2</th>\n",
       "      <td>Albania</td>\n",
       "      <td>2013</td>\n",
       "      <td>1</td>\n",
       "      <td>0.500000</td>\n",
       "    </tr>\n",
       "    <tr>\n",
       "      <th>3</th>\n",
       "      <td>Albania</td>\n",
       "      <td>2016</td>\n",
       "      <td>0</td>\n",
       "      <td>0.142857</td>\n",
       "    </tr>\n",
       "    <tr>\n",
       "      <th>4</th>\n",
       "      <td>Albania</td>\n",
       "      <td>2017</td>\n",
       "      <td>0</td>\n",
       "      <td>0.250000</td>\n",
       "    </tr>\n",
       "  </tbody>\n",
       "</table>\n",
       "</div>"
      ],
      "text/plain": [
       "    funder  year  intcol       cnt\n",
       "0  Albania  2010       1  0.027778\n",
       "1  Albania  2012       0  0.200000\n",
       "2  Albania  2013       1  0.500000\n",
       "3  Albania  2016       0  0.142857\n",
       "4  Albania  2017       0  0.250000"
      ]
     },
     "execution_count": 8,
     "metadata": {},
     "output_type": "execute_result"
    }
   ],
   "source": [
    "frac_df.head()"
   ]
  },
  {
   "cell_type": "code",
   "execution_count": 9,
   "id": "1329fc99",
   "metadata": {
    "execution": {
     "iopub.execute_input": "2024-02-28T23:34:36.299686Z",
     "iopub.status.busy": "2024-02-28T23:34:36.299015Z",
     "iopub.status.idle": "2024-02-28T23:34:37.065928Z",
     "shell.execute_reply": "2024-02-28T23:34:37.064594Z"
    },
    "papermill": {
     "duration": 0.774662,
     "end_time": "2024-02-28T23:34:37.069606",
     "exception": false,
     "start_time": "2024-02-28T23:34:36.294944",
     "status": "completed"
    },
    "tags": []
   },
   "outputs": [],
   "source": [
    "frac_df.to_csv(cntry_fund_frac_path,index=False)"
   ]
  }
 ],
 "metadata": {
  "kernelspec": {
   "display_name": "Python 3 (ipykernel)",
   "language": "python",
   "name": "python3"
  },
  "language_info": {
   "codemirror_mode": {
    "name": "ipython",
    "version": 3
   },
   "file_extension": ".py",
   "mimetype": "text/x-python",
   "name": "python",
   "nbconvert_exporter": "python",
   "pygments_lexer": "ipython3",
   "version": "3.8.16"
  },
  "papermill": {
   "default_parameters": {},
   "duration": 55.246468,
   "end_time": "2024-02-28T23:34:38.194052",
   "environment_variables": {},
   "exception": null,
   "input_path": "scripts/cntry_fund_frac.ipynb",
   "output_path": "scripts/outputs/cntry_fund_frac.ipynb",
   "parameters": {
    "cntry_fund_frac_path": "../data/NationalFunding/Data/simulated_data/Data/DerivedData/Derived/cntry_fund_frac.csv",
    "pubs_path": "../data/NationalFunding/Data/simulated_data/Data/DerivedData/CleanedRawData/pub.pkl"
   },
   "start_time": "2024-02-28T23:33:42.947584",
   "version": "2.3.4"
  }
 },
 "nbformat": 4,
 "nbformat_minor": 5
}