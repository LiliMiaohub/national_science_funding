{
 "cells": [
  {
   "cell_type": "markdown",
   "id": "7c7101b4",
   "metadata": {
    "papermill": {
     "duration": 0.002944,
     "end_time": "2023-08-21T17:07:59.477747",
     "exception": false,
     "start_time": "2023-08-21T17:07:59.474803",
     "status": "completed"
    },
    "tags": []
   },
   "source": [
    "### this script distribute funded publications to funder country by fractional counting. The weight to each fractional counting to funder country is proportional to the number of funding instances (FA-GN entry). For example, 2 funding instance from China and 1 from US, then China funds 2/3 of the pub and US funds 1/3\n",
    "\n",
    "The input of the file is the publication data\n",
    "\n",
    "The output of the file is fractional funding data includes:\n",
    "- funder: the funding country\n",
    "- year\n",
    "- intcol: whether the amount of funding is contributed to international coauthored publications or not.\n",
    "- cnt: the number of funded publications. "
   ]
  },
  {
   "cell_type": "code",
   "execution_count": 1,
   "id": "e52241d7",
   "metadata": {
    "execution": {
     "iopub.execute_input": "2023-08-21T17:07:59.484144Z",
     "iopub.status.busy": "2023-08-21T17:07:59.483403Z",
     "iopub.status.idle": "2023-08-21T17:07:59.846781Z",
     "shell.execute_reply": "2023-08-21T17:07:59.845674Z"
    },
    "papermill": {
     "duration": 0.370095,
     "end_time": "2023-08-21T17:07:59.850193",
     "exception": false,
     "start_time": "2023-08-21T17:07:59.480098",
     "status": "completed"
    },
    "tags": []
   },
   "outputs": [],
   "source": [
    "import pandas as pd\n",
    "import numpy as np\n",
    "from itertools import product"
   ]
  },
  {
   "cell_type": "markdown",
   "id": "eca1e1e4",
   "metadata": {
    "papermill": {
     "duration": 0.001964,
     "end_time": "2023-08-21T17:07:59.857761",
     "exception": false,
     "start_time": "2023-08-21T17:07:59.855797",
     "status": "completed"
    },
    "tags": []
   },
   "source": [
    "# Parameters"
   ]
  },
  {
   "cell_type": "code",
   "execution_count": 2,
   "id": "29b7c8eb",
   "metadata": {
    "execution": {
     "iopub.execute_input": "2023-08-21T17:07:59.863697Z",
     "iopub.status.busy": "2023-08-21T17:07:59.862737Z",
     "iopub.status.idle": "2023-08-21T17:07:59.867423Z",
     "shell.execute_reply": "2023-08-21T17:07:59.866619Z"
    },
    "papermill": {
     "duration": 0.009129,
     "end_time": "2023-08-21T17:07:59.868805",
     "exception": false,
     "start_time": "2023-08-21T17:07:59.859676",
     "status": "completed"
    },
    "tags": [
     "parameters"
    ]
   },
   "outputs": [],
   "source": [
    "pubs_path=\"../../data/nf_folder/Data/DerivedData/CleanedRawData/pub.pkl\"\n",
    "\n",
    "cntry_fund_frac_path='../../data/nf_folder/Data/DerivedData/Derived/cntry_fund_frac.csv'"
   ]
  },
  {
   "cell_type": "code",
   "execution_count": 3,
   "id": "47b4590f",
   "metadata": {
    "execution": {
     "iopub.execute_input": "2023-08-21T17:07:59.873991Z",
     "iopub.status.busy": "2023-08-21T17:07:59.873375Z",
     "iopub.status.idle": "2023-08-21T17:07:59.877276Z",
     "shell.execute_reply": "2023-08-21T17:07:59.876519Z"
    },
    "papermill": {
     "duration": 0.00921,
     "end_time": "2023-08-21T17:07:59.879863",
     "exception": false,
     "start_time": "2023-08-21T17:07:59.870653",
     "status": "completed"
    },
    "tags": [
     "injected-parameters"
    ]
   },
   "outputs": [],
   "source": [
    "# Parameters\n",
    "pubs_path = \"../data/NationalFunding/Data/DerivedData/CleanedRawData/pub.pkl\"\n",
    "cntry_fund_frac_path = (\n",
    "    \"../data/NationalFunding/Data/DerivedData/Derived/cntry_fund_frac.csv\"\n",
    ")\n"
   ]
  },
  {
   "cell_type": "code",
   "execution_count": 4,
   "id": "34ec6126",
   "metadata": {
    "execution": {
     "iopub.execute_input": "2023-08-21T17:07:59.889831Z",
     "iopub.status.busy": "2023-08-21T17:07:59.889334Z",
     "iopub.status.idle": "2023-08-21T17:08:54.201628Z",
     "shell.execute_reply": "2023-08-21T17:08:54.200667Z"
    },
    "papermill": {
     "duration": 54.326035,
     "end_time": "2023-08-21T17:08:54.210342",
     "exception": false,
     "start_time": "2023-08-21T17:07:59.884307",
     "status": "completed"
    },
    "tags": []
   },
   "outputs": [
    {
     "data": {
      "text/html": [
       "<div>\n",
       "<style scoped>\n",
       "    .dataframe tbody tr th:only-of-type {\n",
       "        vertical-align: middle;\n",
       "    }\n",
       "\n",
       "    .dataframe tbody tr th {\n",
       "        vertical-align: top;\n",
       "    }\n",
       "\n",
       "    .dataframe thead th {\n",
       "        text-align: right;\n",
       "    }\n",
       "</style>\n",
       "<table border=\"1\" class=\"dataframe\">\n",
       "  <thead>\n",
       "    <tr style=\"text-align: right;\">\n",
       "      <th></th>\n",
       "      <th>id</th>\n",
       "      <th>year</th>\n",
       "      <th>dis</th>\n",
       "      <th>type</th>\n",
       "      <th>author</th>\n",
       "      <th>funder</th>\n",
       "      <th>author_distinct</th>\n",
       "      <th>funder_distinct</th>\n",
       "      <th>funded</th>\n",
       "      <th>IntCol</th>\n",
       "      <th>cofund</th>\n",
       "      <th>intfund</th>\n",
       "    </tr>\n",
       "  </thead>\n",
       "  <tbody>\n",
       "    <tr>\n",
       "      <th>0</th>\n",
       "      <td>60694041</td>\n",
       "      <td>2017</td>\n",
       "      <td>9</td>\n",
       "      <td>1</td>\n",
       "      <td>[Canada, United States]</td>\n",
       "      <td>[United States, United States]</td>\n",
       "      <td>[Canada, United States]</td>\n",
       "      <td>[United States]</td>\n",
       "      <td>1</td>\n",
       "      <td>1</td>\n",
       "      <td>0</td>\n",
       "      <td>0</td>\n",
       "    </tr>\n",
       "    <tr>\n",
       "      <th>1</th>\n",
       "      <td>48573156</td>\n",
       "      <td>2012</td>\n",
       "      <td>89</td>\n",
       "      <td>1</td>\n",
       "      <td>[France]</td>\n",
       "      <td>Not-Funded</td>\n",
       "      <td>[France]</td>\n",
       "      <td>Not-Funded</td>\n",
       "      <td>0</td>\n",
       "      <td>0</td>\n",
       "      <td>0</td>\n",
       "      <td>0</td>\n",
       "    </tr>\n",
       "    <tr>\n",
       "      <th>2</th>\n",
       "      <td>55323671</td>\n",
       "      <td>2015</td>\n",
       "      <td>89</td>\n",
       "      <td>1</td>\n",
       "      <td>[France, Chile]</td>\n",
       "      <td>[Chile, Chile, Chile, Chile, Chile]</td>\n",
       "      <td>[France, Chile]</td>\n",
       "      <td>[Chile]</td>\n",
       "      <td>1</td>\n",
       "      <td>1</td>\n",
       "      <td>0</td>\n",
       "      <td>0</td>\n",
       "    </tr>\n",
       "    <tr>\n",
       "      <th>3</th>\n",
       "      <td>57633115</td>\n",
       "      <td>2016</td>\n",
       "      <td>31</td>\n",
       "      <td>1</td>\n",
       "      <td>[Switzerland, United States]</td>\n",
       "      <td>[Switzerland]</td>\n",
       "      <td>[Switzerland, United States]</td>\n",
       "      <td>[Switzerland]</td>\n",
       "      <td>1</td>\n",
       "      <td>1</td>\n",
       "      <td>0</td>\n",
       "      <td>0</td>\n",
       "    </tr>\n",
       "    <tr>\n",
       "      <th>4</th>\n",
       "      <td>64831413</td>\n",
       "      <td>2018</td>\n",
       "      <td>99</td>\n",
       "      <td>1</td>\n",
       "      <td>[China]</td>\n",
       "      <td>[China, China, China, China, China, China]</td>\n",
       "      <td>[China]</td>\n",
       "      <td>[China]</td>\n",
       "      <td>1</td>\n",
       "      <td>0</td>\n",
       "      <td>0</td>\n",
       "      <td>0</td>\n",
       "    </tr>\n",
       "  </tbody>\n",
       "</table>\n",
       "</div>"
      ],
      "text/plain": [
       "         id  year  dis  type                        author   \n",
       "0  60694041  2017    9     1       [Canada, United States]  \\\n",
       "1  48573156  2012   89     1                      [France]   \n",
       "2  55323671  2015   89     1               [France, Chile]   \n",
       "3  57633115  2016   31     1  [Switzerland, United States]   \n",
       "4  64831413  2018   99     1                       [China]   \n",
       "\n",
       "                                       funder               author_distinct   \n",
       "0              [United States, United States]       [Canada, United States]  \\\n",
       "1                                  Not-Funded                      [France]   \n",
       "2         [Chile, Chile, Chile, Chile, Chile]               [France, Chile]   \n",
       "3                               [Switzerland]  [Switzerland, United States]   \n",
       "4  [China, China, China, China, China, China]                       [China]   \n",
       "\n",
       "   funder_distinct  funded  IntCol  cofund  intfund  \n",
       "0  [United States]       1       1       0        0  \n",
       "1       Not-Funded       0       0       0        0  \n",
       "2          [Chile]       1       1       0        0  \n",
       "3    [Switzerland]       1       1       0        0  \n",
       "4          [China]       1       0       0        0  "
      ]
     },
     "execution_count": 4,
     "metadata": {},
     "output_type": "execute_result"
    }
   ],
   "source": [
    "pubs_df=pd.read_pickle(pubs_path)\n",
    "pubs_df.head()"
   ]
  },
  {
   "cell_type": "markdown",
   "id": "25af9309",
   "metadata": {
    "papermill": {
     "duration": 0.002123,
     "end_time": "2023-08-21T17:08:54.214864",
     "exception": false,
     "start_time": "2023-08-21T17:08:54.212741",
     "status": "completed"
    },
    "tags": []
   },
   "source": [
    "# assign each paper to its funding country by fractional counting"
   ]
  },
  {
   "cell_type": "code",
   "execution_count": 5,
   "id": "998ab3c1",
   "metadata": {
    "execution": {
     "iopub.execute_input": "2023-08-21T17:08:54.221892Z",
     "iopub.status.busy": "2023-08-21T17:08:54.221157Z",
     "iopub.status.idle": "2023-08-21T17:20:37.594157Z",
     "shell.execute_reply": "2023-08-21T17:20:37.592741Z"
    },
    "papermill": {
     "duration": 703.379088,
     "end_time": "2023-08-21T17:20:37.596102",
     "exception": false,
     "start_time": "2023-08-21T17:08:54.217014",
     "status": "completed"
    },
    "tags": []
   },
   "outputs": [],
   "source": [
    "cntry_fund_frac = []\n",
    "for index, row in pubs_df.iterrows():\n",
    "    year=row['year']\n",
    "    coll=row['IntCol']\n",
    "    funder_cntrys=row['funder']\n",
    "    if funder_cntrys=='Not-Funded':\n",
    "        cntry_fund_frac.append([funder_cntrys,1,year,coll])\n",
    "    else:\n",
    "        n=len(funder_cntrys)\n",
    "        for c in funder_cntrys:\n",
    "            cntry_fund_frac.append([c,1/n,year,coll])"
   ]
  },
  {
   "cell_type": "code",
   "execution_count": 6,
   "id": "8c20054c",
   "metadata": {
    "execution": {
     "iopub.execute_input": "2023-08-21T17:20:37.606870Z",
     "iopub.status.busy": "2023-08-21T17:20:37.606266Z",
     "iopub.status.idle": "2023-08-21T17:20:56.849184Z",
     "shell.execute_reply": "2023-08-21T17:20:56.847943Z"
    },
    "papermill": {
     "duration": 19.253832,
     "end_time": "2023-08-21T17:20:56.852701",
     "exception": false,
     "start_time": "2023-08-21T17:20:37.598869",
     "status": "completed"
    },
    "tags": []
   },
   "outputs": [],
   "source": [
    "frac_df = pd.DataFrame(cntry_fund_frac,\n",
    "                                  columns=['funder','cnt','year','intcol'])"
   ]
  },
  {
   "cell_type": "code",
   "execution_count": 7,
   "id": "0404e3aa",
   "metadata": {
    "execution": {
     "iopub.execute_input": "2023-08-21T17:20:56.864049Z",
     "iopub.status.busy": "2023-08-21T17:20:56.863452Z",
     "iopub.status.idle": "2023-08-21T17:21:01.130532Z",
     "shell.execute_reply": "2023-08-21T17:21:01.129522Z"
    },
    "papermill": {
     "duration": 4.274378,
     "end_time": "2023-08-21T17:21:01.133805",
     "exception": false,
     "start_time": "2023-08-21T17:20:56.859427",
     "status": "completed"
    },
    "tags": []
   },
   "outputs": [],
   "source": [
    "frac_df=frac_df.groupby(['funder','year','intcol'])['cnt'].sum().reset_index()"
   ]
  },
  {
   "cell_type": "code",
   "execution_count": 8,
   "id": "ff44bb6f",
   "metadata": {
    "execution": {
     "iopub.execute_input": "2023-08-21T17:21:01.145362Z",
     "iopub.status.busy": "2023-08-21T17:21:01.144280Z",
     "iopub.status.idle": "2023-08-21T17:21:01.155748Z",
     "shell.execute_reply": "2023-08-21T17:21:01.155023Z"
    },
    "papermill": {
     "duration": 0.016997,
     "end_time": "2023-08-21T17:21:01.157489",
     "exception": false,
     "start_time": "2023-08-21T17:21:01.140492",
     "status": "completed"
    },
    "tags": []
   },
   "outputs": [
    {
     "data": {
      "text/html": [
       "<div>\n",
       "<style scoped>\n",
       "    .dataframe tbody tr th:only-of-type {\n",
       "        vertical-align: middle;\n",
       "    }\n",
       "\n",
       "    .dataframe tbody tr th {\n",
       "        vertical-align: top;\n",
       "    }\n",
       "\n",
       "    .dataframe thead th {\n",
       "        text-align: right;\n",
       "    }\n",
       "</style>\n",
       "<table border=\"1\" class=\"dataframe\">\n",
       "  <thead>\n",
       "    <tr style=\"text-align: right;\">\n",
       "      <th></th>\n",
       "      <th>funder</th>\n",
       "      <th>year</th>\n",
       "      <th>intcol</th>\n",
       "      <th>cnt</th>\n",
       "    </tr>\n",
       "  </thead>\n",
       "  <tbody>\n",
       "    <tr>\n",
       "      <th>0</th>\n",
       "      <td>Afghanistan</td>\n",
       "      <td>2010</td>\n",
       "      <td>1</td>\n",
       "      <td>1.000000</td>\n",
       "    </tr>\n",
       "    <tr>\n",
       "      <th>1</th>\n",
       "      <td>Afghanistan</td>\n",
       "      <td>2011</td>\n",
       "      <td>1</td>\n",
       "      <td>0.333333</td>\n",
       "    </tr>\n",
       "    <tr>\n",
       "      <th>2</th>\n",
       "      <td>Afghanistan</td>\n",
       "      <td>2012</td>\n",
       "      <td>1</td>\n",
       "      <td>0.333333</td>\n",
       "    </tr>\n",
       "    <tr>\n",
       "      <th>3</th>\n",
       "      <td>Afghanistan</td>\n",
       "      <td>2015</td>\n",
       "      <td>0</td>\n",
       "      <td>0.148352</td>\n",
       "    </tr>\n",
       "    <tr>\n",
       "      <th>4</th>\n",
       "      <td>Afghanistan</td>\n",
       "      <td>2015</td>\n",
       "      <td>1</td>\n",
       "      <td>0.279167</td>\n",
       "    </tr>\n",
       "  </tbody>\n",
       "</table>\n",
       "</div>"
      ],
      "text/plain": [
       "        funder  year  intcol       cnt\n",
       "0  Afghanistan  2010       1  1.000000\n",
       "1  Afghanistan  2011       1  0.333333\n",
       "2  Afghanistan  2012       1  0.333333\n",
       "3  Afghanistan  2015       0  0.148352\n",
       "4  Afghanistan  2015       1  0.279167"
      ]
     },
     "execution_count": 8,
     "metadata": {},
     "output_type": "execute_result"
    }
   ],
   "source": [
    "frac_df.head()"
   ]
  },
  {
   "cell_type": "code",
   "execution_count": 9,
   "id": "32f470b4",
   "metadata": {
    "execution": {
     "iopub.execute_input": "2023-08-21T17:21:01.166465Z",
     "iopub.status.busy": "2023-08-21T17:21:01.166154Z",
     "iopub.status.idle": "2023-08-21T17:21:03.106940Z",
     "shell.execute_reply": "2023-08-21T17:21:03.105472Z"
    },
    "papermill": {
     "duration": 1.948871,
     "end_time": "2023-08-21T17:21:03.110320",
     "exception": false,
     "start_time": "2023-08-21T17:21:01.161449",
     "status": "completed"
    },
    "tags": []
   },
   "outputs": [],
   "source": [
    "frac_df.to_csv(cntry_fund_frac_path,index=False)"
   ]
  }
 ],
 "metadata": {
  "kernelspec": {
   "display_name": "Python 3 (ipykernel)",
   "language": "python",
   "name": "python3"
  },
  "language_info": {
   "codemirror_mode": {
    "name": "ipython",
    "version": 3
   },
   "file_extension": ".py",
   "mimetype": "text/x-python",
   "name": "python",
   "nbconvert_exporter": "python",
   "pygments_lexer": "ipython3",
   "version": "3.8.16"
  },
  "papermill": {
   "default_parameters": {},
   "duration": 788.408055,
   "end_time": "2023-08-21T17:21:06.640333",
   "environment_variables": {},
   "exception": null,
   "input_path": "scripts/cntry_fund_frac.ipynb",
   "output_path": "scripts/outputs/cntry_fund_frac.ipynb",
   "parameters": {
    "cntry_fund_frac_path": "../data/NationalFunding/Data/DerivedData/Derived/cntry_fund_frac.csv",
    "pubs_path": "../data/NationalFunding/Data/DerivedData/CleanedRawData/pub.pkl"
   },
   "start_time": "2023-08-21T17:07:58.232278",
   "version": "2.3.4"
  }
 },
 "nbformat": 4,
 "nbformat_minor": 5
}