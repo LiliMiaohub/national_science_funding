{
 "cells": [
  {
   "cell_type": "markdown",
   "id": "operating-devon",
   "metadata": {
    "papermill": {
     "duration": 0.005944,
     "end_time": "2023-04-25T20:01:29.213575",
     "exception": false,
     "start_time": "2023-04-25T20:01:29.207631",
     "status": "completed"
    },
    "tags": []
   },
   "source": [
    "this script assign publications to author countries using full counting method"
   ]
  },
  {
   "cell_type": "code",
   "execution_count": 1,
   "id": "binary-basement",
   "metadata": {
    "execution": {
     "iopub.execute_input": "2023-04-25T20:01:29.223820Z",
     "iopub.status.busy": "2023-04-25T20:01:29.222449Z",
     "iopub.status.idle": "2023-04-25T20:01:29.484366Z",
     "shell.execute_reply": "2023-04-25T20:01:29.483455Z"
    },
    "papermill": {
     "duration": 0.269241,
     "end_time": "2023-04-25T20:01:29.487874",
     "exception": false,
     "start_time": "2023-04-25T20:01:29.218633",
     "status": "completed"
    },
    "tags": []
   },
   "outputs": [],
   "source": [
    "import pandas as pd"
   ]
  },
  {
   "cell_type": "code",
   "execution_count": 2,
   "id": "sporting-illness",
   "metadata": {
    "execution": {
     "iopub.execute_input": "2023-04-25T20:01:29.495611Z",
     "iopub.status.busy": "2023-04-25T20:01:29.495203Z",
     "iopub.status.idle": "2023-04-25T20:01:29.499862Z",
     "shell.execute_reply": "2023-04-25T20:01:29.498909Z"
    },
    "papermill": {
     "duration": 0.008988,
     "end_time": "2023-04-25T20:01:29.501620",
     "exception": false,
     "start_time": "2023-04-25T20:01:29.492632",
     "status": "completed"
    },
    "tags": [
     "parameters"
    ]
   },
   "outputs": [],
   "source": [
    "pubs_path=\"../../data/nf_folder/Data/DerivedData/CleanedRawData/pub.pkl\"\n",
    "\n",
    "cntry_author_full_path='../../data/nf_folder/Data/DerivedData/Derived/cntry_author_full.csv'"
   ]
  },
  {
   "cell_type": "code",
   "execution_count": 3,
   "id": "e3be7f41",
   "metadata": {
    "execution": {
     "iopub.execute_input": "2023-04-25T20:01:29.510079Z",
     "iopub.status.busy": "2023-04-25T20:01:29.509714Z",
     "iopub.status.idle": "2023-04-25T20:01:29.513697Z",
     "shell.execute_reply": "2023-04-25T20:01:29.512929Z"
    },
    "papermill": {
     "duration": 0.009156,
     "end_time": "2023-04-25T20:01:29.515082",
     "exception": false,
     "start_time": "2023-04-25T20:01:29.505926",
     "status": "completed"
    },
    "tags": [
     "injected-parameters"
    ]
   },
   "outputs": [],
   "source": [
    "# Parameters\n",
    "pubs_path = \"../data/NationalFunding/Data/DerivedData/CleanedRawData/pub.pkl\"\n",
    "cntry_author_full_path = (\n",
    "    \"../data/NationalFunding/Data/DerivedData/Derived/cntry_author_full.csv\"\n",
    ")\n"
   ]
  },
  {
   "cell_type": "code",
   "execution_count": 4,
   "id": "retained-sphere",
   "metadata": {
    "execution": {
     "iopub.execute_input": "2023-04-25T20:01:29.519822Z",
     "iopub.status.busy": "2023-04-25T20:01:29.519241Z",
     "iopub.status.idle": "2023-04-25T20:02:26.144267Z",
     "shell.execute_reply": "2023-04-25T20:02:26.142971Z"
    },
    "papermill": {
     "duration": 56.635538,
     "end_time": "2023-04-25T20:02:26.152280",
     "exception": false,
     "start_time": "2023-04-25T20:01:29.516742",
     "status": "completed"
    },
    "tags": []
   },
   "outputs": [
    {
     "data": {
      "text/html": [
       "<div>\n",
       "<style scoped>\n",
       "    .dataframe tbody tr th:only-of-type {\n",
       "        vertical-align: middle;\n",
       "    }\n",
       "\n",
       "    .dataframe tbody tr th {\n",
       "        vertical-align: top;\n",
       "    }\n",
       "\n",
       "    .dataframe thead th {\n",
       "        text-align: right;\n",
       "    }\n",
       "</style>\n",
       "<table border=\"1\" class=\"dataframe\">\n",
       "  <thead>\n",
       "    <tr style=\"text-align: right;\">\n",
       "      <th></th>\n",
       "      <th>id</th>\n",
       "      <th>year</th>\n",
       "      <th>dis</th>\n",
       "      <th>type</th>\n",
       "      <th>author</th>\n",
       "      <th>funder</th>\n",
       "      <th>author_distinct</th>\n",
       "      <th>funder_distinct</th>\n",
       "      <th>funded</th>\n",
       "      <th>IntCol</th>\n",
       "      <th>cofund</th>\n",
       "      <th>intfund</th>\n",
       "    </tr>\n",
       "  </thead>\n",
       "  <tbody>\n",
       "    <tr>\n",
       "      <th>0</th>\n",
       "      <td>60694041</td>\n",
       "      <td>2017</td>\n",
       "      <td>9</td>\n",
       "      <td>1</td>\n",
       "      <td>[Canada, United States]</td>\n",
       "      <td>[United States, United States]</td>\n",
       "      <td>[Canada, United States]</td>\n",
       "      <td>[United States]</td>\n",
       "      <td>1</td>\n",
       "      <td>1</td>\n",
       "      <td>0</td>\n",
       "      <td>0</td>\n",
       "    </tr>\n",
       "    <tr>\n",
       "      <th>1</th>\n",
       "      <td>48573156</td>\n",
       "      <td>2012</td>\n",
       "      <td>89</td>\n",
       "      <td>1</td>\n",
       "      <td>[France]</td>\n",
       "      <td>Not-Funded</td>\n",
       "      <td>[France]</td>\n",
       "      <td>Not-Funded</td>\n",
       "      <td>0</td>\n",
       "      <td>0</td>\n",
       "      <td>0</td>\n",
       "      <td>0</td>\n",
       "    </tr>\n",
       "    <tr>\n",
       "      <th>2</th>\n",
       "      <td>55323671</td>\n",
       "      <td>2015</td>\n",
       "      <td>89</td>\n",
       "      <td>1</td>\n",
       "      <td>[France, Chile]</td>\n",
       "      <td>[Chile, Chile, Chile, Chile, Chile]</td>\n",
       "      <td>[Chile, France]</td>\n",
       "      <td>[Chile]</td>\n",
       "      <td>1</td>\n",
       "      <td>1</td>\n",
       "      <td>0</td>\n",
       "      <td>0</td>\n",
       "    </tr>\n",
       "    <tr>\n",
       "      <th>3</th>\n",
       "      <td>57633115</td>\n",
       "      <td>2016</td>\n",
       "      <td>31</td>\n",
       "      <td>1</td>\n",
       "      <td>[Switzerland, United States]</td>\n",
       "      <td>[Switzerland]</td>\n",
       "      <td>[Switzerland, United States]</td>\n",
       "      <td>[Switzerland]</td>\n",
       "      <td>1</td>\n",
       "      <td>1</td>\n",
       "      <td>0</td>\n",
       "      <td>0</td>\n",
       "    </tr>\n",
       "    <tr>\n",
       "      <th>4</th>\n",
       "      <td>64831413</td>\n",
       "      <td>2018</td>\n",
       "      <td>99</td>\n",
       "      <td>1</td>\n",
       "      <td>[China]</td>\n",
       "      <td>[China, China, China, China, China, China]</td>\n",
       "      <td>[China]</td>\n",
       "      <td>[China]</td>\n",
       "      <td>1</td>\n",
       "      <td>0</td>\n",
       "      <td>0</td>\n",
       "      <td>0</td>\n",
       "    </tr>\n",
       "  </tbody>\n",
       "</table>\n",
       "</div>"
      ],
      "text/plain": [
       "         id  year  dis  type                        author   \n",
       "0  60694041  2017    9     1       [Canada, United States]  \\\n",
       "1  48573156  2012   89     1                      [France]   \n",
       "2  55323671  2015   89     1               [France, Chile]   \n",
       "3  57633115  2016   31     1  [Switzerland, United States]   \n",
       "4  64831413  2018   99     1                       [China]   \n",
       "\n",
       "                                       funder               author_distinct   \n",
       "0              [United States, United States]       [Canada, United States]  \\\n",
       "1                                  Not-Funded                      [France]   \n",
       "2         [Chile, Chile, Chile, Chile, Chile]               [Chile, France]   \n",
       "3                               [Switzerland]  [Switzerland, United States]   \n",
       "4  [China, China, China, China, China, China]                       [China]   \n",
       "\n",
       "   funder_distinct  funded  IntCol  cofund  intfund  \n",
       "0  [United States]       1       1       0        0  \n",
       "1       Not-Funded       0       0       0        0  \n",
       "2          [Chile]       1       1       0        0  \n",
       "3    [Switzerland]       1       1       0        0  \n",
       "4          [China]       1       0       0        0  "
      ]
     },
     "execution_count": 4,
     "metadata": {},
     "output_type": "execute_result"
    }
   ],
   "source": [
    "pub_df=pd.read_pickle(pubs_path)\n",
    "pub_df.head()"
   ]
  },
  {
   "cell_type": "code",
   "execution_count": 5,
   "id": "eligible-clark",
   "metadata": {
    "execution": {
     "iopub.execute_input": "2023-04-25T20:02:26.158384Z",
     "iopub.status.busy": "2023-04-25T20:02:26.157761Z",
     "iopub.status.idle": "2023-04-25T20:02:31.242452Z",
     "shell.execute_reply": "2023-04-25T20:02:31.241134Z"
    },
    "papermill": {
     "duration": 5.091178,
     "end_time": "2023-04-25T20:02:31.245702",
     "exception": false,
     "start_time": "2023-04-25T20:02:26.154524",
     "status": "completed"
    },
    "tags": []
   },
   "outputs": [],
   "source": [
    "cntry_df=pub_df[['author_distinct','year','dis']]\n",
    "cntry_df=cntry_df.explode('author_distinct')"
   ]
  },
  {
   "cell_type": "code",
   "execution_count": 6,
   "id": "current-search",
   "metadata": {
    "execution": {
     "iopub.execute_input": "2023-04-25T20:02:31.257784Z",
     "iopub.status.busy": "2023-04-25T20:02:31.256828Z",
     "iopub.status.idle": "2023-04-25T20:02:33.836741Z",
     "shell.execute_reply": "2023-04-25T20:02:33.835564Z"
    },
    "papermill": {
     "duration": 2.589111,
     "end_time": "2023-04-25T20:02:33.840278",
     "exception": false,
     "start_time": "2023-04-25T20:02:31.251167",
     "status": "completed"
    },
    "tags": []
   },
   "outputs": [],
   "source": [
    "cntry_df=cntry_df.groupby(['author_distinct','year','dis']).size().reset_index(name='count')\n",
    "cntry_df=cntry_df.rename(columns={'author_distinct':'cntry'})"
   ]
  },
  {
   "cell_type": "code",
   "execution_count": 7,
   "id": "mature-support",
   "metadata": {
    "execution": {
     "iopub.execute_input": "2023-04-25T20:02:33.850753Z",
     "iopub.status.busy": "2023-04-25T20:02:33.849779Z",
     "iopub.status.idle": "2023-04-25T20:02:36.348230Z",
     "shell.execute_reply": "2023-04-25T20:02:36.346761Z"
    },
    "papermill": {
     "duration": 2.505867,
     "end_time": "2023-04-25T20:02:36.351984",
     "exception": false,
     "start_time": "2023-04-25T20:02:33.846117",
     "status": "completed"
    },
    "tags": []
   },
   "outputs": [],
   "source": [
    "cntry_df.to_csv(cntry_author_full_path,index=False)"
   ]
  },
  {
   "cell_type": "code",
   "execution_count": null,
   "id": "educational-career",
   "metadata": {
    "papermill": {
     "duration": 0.002074,
     "end_time": "2023-04-25T20:02:36.359926",
     "exception": false,
     "start_time": "2023-04-25T20:02:36.357852",
     "status": "completed"
    },
    "tags": []
   },
   "outputs": [],
   "source": []
  }
 ],
 "metadata": {
  "kernelspec": {
   "display_name": "Python 3 (ipykernel)",
   "language": "python",
   "name": "python3"
  },
  "language_info": {
   "codemirror_mode": {
    "name": "ipython",
    "version": 3
   },
   "file_extension": ".py",
   "mimetype": "text/x-python",
   "name": "python",
   "nbconvert_exporter": "python",
   "pygments_lexer": "ipython3",
   "version": "3.8.16"
  },
  "papermill": {
   "default_parameters": {},
   "duration": 71.645831,
   "end_time": "2023-04-25T20:02:39.583964",
   "environment_variables": {},
   "exception": null,
   "input_path": "scripts/cntry_author_full.ipynb",
   "output_path": "scripts/outputs/cntry_author_full.ipynb",
   "parameters": {
    "cntry_author_full_path": "../data/NationalFunding/Data/DerivedData/Derived/cntry_author_full.csv",
    "pubs_path": "../data/NationalFunding/Data/DerivedData/CleanedRawData/pub.pkl"
   },
   "start_time": "2023-04-25T20:01:27.938133",
   "version": "2.3.4"
  }
 },
 "nbformat": 4,
 "nbformat_minor": 5
}