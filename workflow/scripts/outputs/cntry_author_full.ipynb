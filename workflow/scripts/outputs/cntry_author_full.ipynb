{
 "cells": [
  {
   "cell_type": "markdown",
   "id": "operating-devon",
   "metadata": {
    "papermill": {
     "duration": 0.006151,
     "end_time": "2024-02-28T23:37:15.621907",
     "exception": false,
     "start_time": "2024-02-28T23:37:15.615756",
     "status": "completed"
    },
    "tags": []
   },
   "source": [
    "this script assign publications to author countries using full counting method"
   ]
  },
  {
   "cell_type": "code",
   "execution_count": 1,
   "id": "binary-basement",
   "metadata": {
    "execution": {
     "iopub.execute_input": "2024-02-28T23:37:15.629973Z",
     "iopub.status.busy": "2024-02-28T23:37:15.629618Z",
     "iopub.status.idle": "2024-02-28T23:37:15.998749Z",
     "shell.execute_reply": "2024-02-28T23:37:15.997786Z"
    },
    "papermill": {
     "duration": 0.373748,
     "end_time": "2024-02-28T23:37:16.000733",
     "exception": false,
     "start_time": "2024-02-28T23:37:15.626985",
     "status": "completed"
    },
    "tags": []
   },
   "outputs": [],
   "source": [
    "import pandas as pd"
   ]
  },
  {
   "cell_type": "code",
   "execution_count": 2,
   "id": "sporting-illness",
   "metadata": {
    "execution": {
     "iopub.execute_input": "2024-02-28T23:37:16.007480Z",
     "iopub.status.busy": "2024-02-28T23:37:16.006255Z",
     "iopub.status.idle": "2024-02-28T23:37:16.011665Z",
     "shell.execute_reply": "2024-02-28T23:37:16.010574Z"
    },
    "papermill": {
     "duration": 0.010345,
     "end_time": "2024-02-28T23:37:16.013186",
     "exception": false,
     "start_time": "2024-02-28T23:37:16.002841",
     "status": "completed"
    },
    "tags": [
     "parameters"
    ]
   },
   "outputs": [],
   "source": [
    "pubs_path=\"../../data/nf_folder/Data/DerivedData/CleanedRawData/pub.pkl\"\n",
    "\n",
    "cntry_author_full_path='../../data/nf_folder/Data/DerivedData/Derived/cntry_author_full.csv'"
   ]
  },
  {
   "cell_type": "code",
   "execution_count": 3,
   "id": "09286c7f",
   "metadata": {
    "execution": {
     "iopub.execute_input": "2024-02-28T23:37:16.018710Z",
     "iopub.status.busy": "2024-02-28T23:37:16.017901Z",
     "iopub.status.idle": "2024-02-28T23:37:16.021963Z",
     "shell.execute_reply": "2024-02-28T23:37:16.021089Z"
    },
    "papermill": {
     "duration": 0.00848,
     "end_time": "2024-02-28T23:37:16.023318",
     "exception": false,
     "start_time": "2024-02-28T23:37:16.014838",
     "status": "completed"
    },
    "tags": [
     "injected-parameters"
    ]
   },
   "outputs": [],
   "source": [
    "# Parameters\n",
    "pubs_path = \"../data/NationalFunding/Data/simulated_data/Data/DerivedData/CleanedRawData/pub.pkl\"\n",
    "cntry_author_full_path = \"../data/NationalFunding/Data/simulated_data/Data/DerivedData/Derived/cntry_author_full.csv\"\n"
   ]
  },
  {
   "cell_type": "code",
   "execution_count": 4,
   "id": "retained-sphere",
   "metadata": {
    "execution": {
     "iopub.execute_input": "2024-02-28T23:37:16.028918Z",
     "iopub.status.busy": "2024-02-28T23:37:16.028086Z",
     "iopub.status.idle": "2024-02-28T23:37:20.362972Z",
     "shell.execute_reply": "2024-02-28T23:37:20.362169Z"
    },
    "papermill": {
     "duration": 4.342438,
     "end_time": "2024-02-28T23:37:20.367485",
     "exception": false,
     "start_time": "2024-02-28T23:37:16.025047",
     "status": "completed"
    },
    "tags": []
   },
   "outputs": [
    {
     "data": {
      "text/html": [
       "<div>\n",
       "<style scoped>\n",
       "    .dataframe tbody tr th:only-of-type {\n",
       "        vertical-align: middle;\n",
       "    }\n",
       "\n",
       "    .dataframe tbody tr th {\n",
       "        vertical-align: top;\n",
       "    }\n",
       "\n",
       "    .dataframe thead th {\n",
       "        text-align: right;\n",
       "    }\n",
       "</style>\n",
       "<table border=\"1\" class=\"dataframe\">\n",
       "  <thead>\n",
       "    <tr style=\"text-align: right;\">\n",
       "      <th></th>\n",
       "      <th>id</th>\n",
       "      <th>year</th>\n",
       "      <th>dis</th>\n",
       "      <th>type</th>\n",
       "      <th>author</th>\n",
       "      <th>funder</th>\n",
       "      <th>author_distinct</th>\n",
       "      <th>funder_distinct</th>\n",
       "      <th>funded</th>\n",
       "      <th>IntCol</th>\n",
       "      <th>cofund</th>\n",
       "      <th>intfund</th>\n",
       "    </tr>\n",
       "  </thead>\n",
       "  <tbody>\n",
       "    <tr>\n",
       "      <th>0</th>\n",
       "      <td>0</td>\n",
       "      <td>2014</td>\n",
       "      <td>29</td>\n",
       "      <td>1</td>\n",
       "      <td>[Canada]</td>\n",
       "      <td>[United States, Brazil, United States, Republi...</td>\n",
       "      <td>[Canada]</td>\n",
       "      <td>[Republic of Serbia, China, Brazil, United Sta...</td>\n",
       "      <td>1</td>\n",
       "      <td>0</td>\n",
       "      <td>1</td>\n",
       "      <td>1</td>\n",
       "    </tr>\n",
       "    <tr>\n",
       "      <th>1</th>\n",
       "      <td>1</td>\n",
       "      <td>2017</td>\n",
       "      <td>32</td>\n",
       "      <td>1</td>\n",
       "      <td>[Russia, Spain]</td>\n",
       "      <td>[Austria, China, China, China, United States, ...</td>\n",
       "      <td>[Russia, Spain]</td>\n",
       "      <td>[China, United States, Austria, Russia, Japan]</td>\n",
       "      <td>1</td>\n",
       "      <td>1</td>\n",
       "      <td>1</td>\n",
       "      <td>1</td>\n",
       "    </tr>\n",
       "    <tr>\n",
       "      <th>2</th>\n",
       "      <td>2</td>\n",
       "      <td>2012</td>\n",
       "      <td>15</td>\n",
       "      <td>1</td>\n",
       "      <td>[Turkey]</td>\n",
       "      <td>Not-Funded</td>\n",
       "      <td>[Turkey]</td>\n",
       "      <td>Not-Funded</td>\n",
       "      <td>0</td>\n",
       "      <td>0</td>\n",
       "      <td>0</td>\n",
       "      <td>0</td>\n",
       "    </tr>\n",
       "    <tr>\n",
       "      <th>3</th>\n",
       "      <td>3</td>\n",
       "      <td>2010</td>\n",
       "      <td>53</td>\n",
       "      <td>1</td>\n",
       "      <td>[United States, Iran]</td>\n",
       "      <td>[China]</td>\n",
       "      <td>[Iran, United States]</td>\n",
       "      <td>[China]</td>\n",
       "      <td>1</td>\n",
       "      <td>1</td>\n",
       "      <td>0</td>\n",
       "      <td>1</td>\n",
       "    </tr>\n",
       "    <tr>\n",
       "      <th>4</th>\n",
       "      <td>4</td>\n",
       "      <td>2015</td>\n",
       "      <td>22</td>\n",
       "      <td>1</td>\n",
       "      <td>[Denmark]</td>\n",
       "      <td>Not-Funded</td>\n",
       "      <td>[Denmark]</td>\n",
       "      <td>Not-Funded</td>\n",
       "      <td>0</td>\n",
       "      <td>0</td>\n",
       "      <td>0</td>\n",
       "      <td>0</td>\n",
       "    </tr>\n",
       "  </tbody>\n",
       "</table>\n",
       "</div>"
      ],
      "text/plain": [
       "   id  year  dis  type                 author   \n",
       "0   0  2014   29     1               [Canada]  \\\n",
       "1   1  2017   32     1        [Russia, Spain]   \n",
       "2   2  2012   15     1               [Turkey]   \n",
       "3   3  2010   53     1  [United States, Iran]   \n",
       "4   4  2015   22     1              [Denmark]   \n",
       "\n",
       "                                              funder        author_distinct   \n",
       "0  [United States, Brazil, United States, Republi...               [Canada]  \\\n",
       "1  [Austria, China, China, China, United States, ...        [Russia, Spain]   \n",
       "2                                         Not-Funded               [Turkey]   \n",
       "3                                            [China]  [Iran, United States]   \n",
       "4                                         Not-Funded              [Denmark]   \n",
       "\n",
       "                                     funder_distinct  funded  IntCol  cofund   \n",
       "0  [Republic of Serbia, China, Brazil, United Sta...       1       0       1  \\\n",
       "1     [China, United States, Austria, Russia, Japan]       1       1       1   \n",
       "2                                         Not-Funded       0       0       0   \n",
       "3                                            [China]       1       1       0   \n",
       "4                                         Not-Funded       0       0       0   \n",
       "\n",
       "   intfund  \n",
       "0        1  \n",
       "1        1  \n",
       "2        0  \n",
       "3        1  \n",
       "4        0  "
      ]
     },
     "execution_count": 4,
     "metadata": {},
     "output_type": "execute_result"
    }
   ],
   "source": [
    "pub_df=pd.read_pickle(pubs_path)\n",
    "pub_df.head()"
   ]
  },
  {
   "cell_type": "code",
   "execution_count": 5,
   "id": "eligible-clark",
   "metadata": {
    "execution": {
     "iopub.execute_input": "2024-02-28T23:37:20.374082Z",
     "iopub.status.busy": "2024-02-28T23:37:20.373494Z",
     "iopub.status.idle": "2024-02-28T23:37:20.862537Z",
     "shell.execute_reply": "2024-02-28T23:37:20.861476Z"
    },
    "papermill": {
     "duration": 0.495322,
     "end_time": "2024-02-28T23:37:20.865738",
     "exception": false,
     "start_time": "2024-02-28T23:37:20.370416",
     "status": "completed"
    },
    "tags": []
   },
   "outputs": [],
   "source": [
    "cntry_df=pub_df[['author_distinct','year','dis']]\n",
    "cntry_df=cntry_df.explode('author_distinct')"
   ]
  },
  {
   "cell_type": "code",
   "execution_count": 6,
   "id": "current-search",
   "metadata": {
    "execution": {
     "iopub.execute_input": "2024-02-28T23:37:20.874840Z",
     "iopub.status.busy": "2024-02-28T23:37:20.874392Z",
     "iopub.status.idle": "2024-02-28T23:37:20.991613Z",
     "shell.execute_reply": "2024-02-28T23:37:20.990556Z"
    },
    "papermill": {
     "duration": 0.123041,
     "end_time": "2024-02-28T23:37:20.994496",
     "exception": false,
     "start_time": "2024-02-28T23:37:20.871455",
     "status": "completed"
    },
    "tags": []
   },
   "outputs": [],
   "source": [
    "cntry_df=cntry_df.groupby(['author_distinct','year','dis']).size().reset_index(name='count')\n",
    "cntry_df=cntry_df.rename(columns={'author_distinct':'cntry'})"
   ]
  },
  {
   "cell_type": "code",
   "execution_count": 7,
   "id": "mature-support",
   "metadata": {
    "execution": {
     "iopub.execute_input": "2024-02-28T23:37:21.003379Z",
     "iopub.status.busy": "2024-02-28T23:37:21.002989Z",
     "iopub.status.idle": "2024-02-28T23:37:22.230732Z",
     "shell.execute_reply": "2024-02-28T23:37:22.229245Z"
    },
    "papermill": {
     "duration": 1.234304,
     "end_time": "2024-02-28T23:37:22.234316",
     "exception": false,
     "start_time": "2024-02-28T23:37:21.000012",
     "status": "completed"
    },
    "tags": []
   },
   "outputs": [],
   "source": [
    "cntry_df.to_csv(cntry_author_full_path,index=False)"
   ]
  },
  {
   "cell_type": "code",
   "execution_count": null,
   "id": "educational-career",
   "metadata": {
    "papermill": {
     "duration": 0.002,
     "end_time": "2024-02-28T23:37:22.242151",
     "exception": false,
     "start_time": "2024-02-28T23:37:22.240151",
     "status": "completed"
    },
    "tags": []
   },
   "outputs": [],
   "source": []
  }
 ],
 "metadata": {
  "kernelspec": {
   "display_name": "Python 3 (ipykernel)",
   "language": "python",
   "name": "python3"
  },
  "language_info": {
   "codemirror_mode": {
    "name": "ipython",
    "version": 3
   },
   "file_extension": ".py",
   "mimetype": "text/x-python",
   "name": "python",
   "nbconvert_exporter": "python",
   "pygments_lexer": "ipython3",
   "version": "3.8.16"
  },
  "papermill": {
   "default_parameters": {},
   "duration": 8.770939,
   "end_time": "2024-02-28T23:37:22.964391",
   "environment_variables": {},
   "exception": null,
   "input_path": "scripts/cntry_author_full.ipynb",
   "output_path": "scripts/outputs/cntry_author_full.ipynb",
   "parameters": {
    "cntry_author_full_path": "../data/NationalFunding/Data/simulated_data/Data/DerivedData/Derived/cntry_author_full.csv",
    "pubs_path": "../data/NationalFunding/Data/simulated_data/Data/DerivedData/CleanedRawData/pub.pkl"
   },
   "start_time": "2024-02-28T23:37:14.193452",
   "version": "2.3.4"
  }
 },
 "nbformat": 4,
 "nbformat_minor": 5
}