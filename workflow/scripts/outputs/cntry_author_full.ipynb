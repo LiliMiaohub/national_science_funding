{
 "cells": [
  {
   "cell_type": "markdown",
   "id": "operating-devon",
   "metadata": {
    "papermill": {
     "duration": 0.006098,
     "end_time": "2023-08-21T17:35:28.008510",
     "exception": false,
     "start_time": "2023-08-21T17:35:28.002412",
     "status": "completed"
    },
    "tags": []
   },
   "source": [
    "this script assign publications to author countries using full counting method"
   ]
  },
  {
   "cell_type": "code",
   "execution_count": 1,
   "id": "binary-basement",
   "metadata": {
    "execution": {
     "iopub.execute_input": "2023-08-21T17:35:28.017005Z",
     "iopub.status.busy": "2023-08-21T17:35:28.015875Z",
     "iopub.status.idle": "2023-08-21T17:35:28.379182Z",
     "shell.execute_reply": "2023-08-21T17:35:28.378139Z"
    },
    "papermill": {
     "duration": 0.36968,
     "end_time": "2023-08-21T17:35:28.382678",
     "exception": false,
     "start_time": "2023-08-21T17:35:28.012998",
     "status": "completed"
    },
    "tags": []
   },
   "outputs": [],
   "source": [
    "import pandas as pd"
   ]
  },
  {
   "cell_type": "code",
   "execution_count": 2,
   "id": "sporting-illness",
   "metadata": {
    "execution": {
     "iopub.execute_input": "2023-08-21T17:35:28.389575Z",
     "iopub.status.busy": "2023-08-21T17:35:28.389122Z",
     "iopub.status.idle": "2023-08-21T17:35:28.392901Z",
     "shell.execute_reply": "2023-08-21T17:35:28.392221Z"
    },
    "papermill": {
     "duration": 0.008164,
     "end_time": "2023-08-21T17:35:28.394265",
     "exception": false,
     "start_time": "2023-08-21T17:35:28.386101",
     "status": "completed"
    },
    "tags": [
     "parameters"
    ]
   },
   "outputs": [],
   "source": [
    "pubs_path=\"../../data/nf_folder/Data/DerivedData/CleanedRawData/pub.pkl\"\n",
    "\n",
    "cntry_author_full_path='../../data/nf_folder/Data/DerivedData/Derived/cntry_author_full.csv'"
   ]
  },
  {
   "cell_type": "code",
   "execution_count": 3,
   "id": "53c3e2b5",
   "metadata": {
    "execution": {
     "iopub.execute_input": "2023-08-21T17:35:28.398971Z",
     "iopub.status.busy": "2023-08-21T17:35:28.398315Z",
     "iopub.status.idle": "2023-08-21T17:35:28.402267Z",
     "shell.execute_reply": "2023-08-21T17:35:28.401572Z"
    },
    "papermill": {
     "duration": 0.007757,
     "end_time": "2023-08-21T17:35:28.403622",
     "exception": false,
     "start_time": "2023-08-21T17:35:28.395865",
     "status": "completed"
    },
    "tags": [
     "injected-parameters"
    ]
   },
   "outputs": [],
   "source": [
    "# Parameters\n",
    "pubs_path = \"../data/NationalFunding/Data/DerivedData/CleanedRawData/pub.pkl\"\n",
    "cntry_author_full_path = (\n",
    "    \"../data/NationalFunding/Data/DerivedData/Derived/cntry_author_full.csv\"\n",
    ")\n"
   ]
  },
  {
   "cell_type": "code",
   "execution_count": 4,
   "id": "retained-sphere",
   "metadata": {
    "execution": {
     "iopub.execute_input": "2023-08-21T17:35:28.408092Z",
     "iopub.status.busy": "2023-08-21T17:35:28.407634Z",
     "iopub.status.idle": "2023-08-21T17:36:20.497003Z",
     "shell.execute_reply": "2023-08-21T17:36:20.495708Z"
    },
    "papermill": {
     "duration": 52.09806,
     "end_time": "2023-08-21T17:36:20.503334",
     "exception": false,
     "start_time": "2023-08-21T17:35:28.405274",
     "status": "completed"
    },
    "tags": []
   },
   "outputs": [
    {
     "data": {
      "text/html": [
       "<div>\n",
       "<style scoped>\n",
       "    .dataframe tbody tr th:only-of-type {\n",
       "        vertical-align: middle;\n",
       "    }\n",
       "\n",
       "    .dataframe tbody tr th {\n",
       "        vertical-align: top;\n",
       "    }\n",
       "\n",
       "    .dataframe thead th {\n",
       "        text-align: right;\n",
       "    }\n",
       "</style>\n",
       "<table border=\"1\" class=\"dataframe\">\n",
       "  <thead>\n",
       "    <tr style=\"text-align: right;\">\n",
       "      <th></th>\n",
       "      <th>id</th>\n",
       "      <th>year</th>\n",
       "      <th>dis</th>\n",
       "      <th>type</th>\n",
       "      <th>author</th>\n",
       "      <th>funder</th>\n",
       "      <th>author_distinct</th>\n",
       "      <th>funder_distinct</th>\n",
       "      <th>funded</th>\n",
       "      <th>IntCol</th>\n",
       "      <th>cofund</th>\n",
       "      <th>intfund</th>\n",
       "    </tr>\n",
       "  </thead>\n",
       "  <tbody>\n",
       "    <tr>\n",
       "      <th>0</th>\n",
       "      <td>60694041</td>\n",
       "      <td>2017</td>\n",
       "      <td>9</td>\n",
       "      <td>1</td>\n",
       "      <td>[Canada, United States]</td>\n",
       "      <td>[United States, United States]</td>\n",
       "      <td>[Canada, United States]</td>\n",
       "      <td>[United States]</td>\n",
       "      <td>1</td>\n",
       "      <td>1</td>\n",
       "      <td>0</td>\n",
       "      <td>0</td>\n",
       "    </tr>\n",
       "    <tr>\n",
       "      <th>1</th>\n",
       "      <td>48573156</td>\n",
       "      <td>2012</td>\n",
       "      <td>89</td>\n",
       "      <td>1</td>\n",
       "      <td>[France]</td>\n",
       "      <td>Not-Funded</td>\n",
       "      <td>[France]</td>\n",
       "      <td>Not-Funded</td>\n",
       "      <td>0</td>\n",
       "      <td>0</td>\n",
       "      <td>0</td>\n",
       "      <td>0</td>\n",
       "    </tr>\n",
       "    <tr>\n",
       "      <th>2</th>\n",
       "      <td>55323671</td>\n",
       "      <td>2015</td>\n",
       "      <td>89</td>\n",
       "      <td>1</td>\n",
       "      <td>[France, Chile]</td>\n",
       "      <td>[Chile, Chile, Chile, Chile, Chile]</td>\n",
       "      <td>[France, Chile]</td>\n",
       "      <td>[Chile]</td>\n",
       "      <td>1</td>\n",
       "      <td>1</td>\n",
       "      <td>0</td>\n",
       "      <td>0</td>\n",
       "    </tr>\n",
       "    <tr>\n",
       "      <th>3</th>\n",
       "      <td>57633115</td>\n",
       "      <td>2016</td>\n",
       "      <td>31</td>\n",
       "      <td>1</td>\n",
       "      <td>[Switzerland, United States]</td>\n",
       "      <td>[Switzerland]</td>\n",
       "      <td>[Switzerland, United States]</td>\n",
       "      <td>[Switzerland]</td>\n",
       "      <td>1</td>\n",
       "      <td>1</td>\n",
       "      <td>0</td>\n",
       "      <td>0</td>\n",
       "    </tr>\n",
       "    <tr>\n",
       "      <th>4</th>\n",
       "      <td>64831413</td>\n",
       "      <td>2018</td>\n",
       "      <td>99</td>\n",
       "      <td>1</td>\n",
       "      <td>[China]</td>\n",
       "      <td>[China, China, China, China, China, China]</td>\n",
       "      <td>[China]</td>\n",
       "      <td>[China]</td>\n",
       "      <td>1</td>\n",
       "      <td>0</td>\n",
       "      <td>0</td>\n",
       "      <td>0</td>\n",
       "    </tr>\n",
       "  </tbody>\n",
       "</table>\n",
       "</div>"
      ],
      "text/plain": [
       "         id  year  dis  type                        author   \n",
       "0  60694041  2017    9     1       [Canada, United States]  \\\n",
       "1  48573156  2012   89     1                      [France]   \n",
       "2  55323671  2015   89     1               [France, Chile]   \n",
       "3  57633115  2016   31     1  [Switzerland, United States]   \n",
       "4  64831413  2018   99     1                       [China]   \n",
       "\n",
       "                                       funder               author_distinct   \n",
       "0              [United States, United States]       [Canada, United States]  \\\n",
       "1                                  Not-Funded                      [France]   \n",
       "2         [Chile, Chile, Chile, Chile, Chile]               [France, Chile]   \n",
       "3                               [Switzerland]  [Switzerland, United States]   \n",
       "4  [China, China, China, China, China, China]                       [China]   \n",
       "\n",
       "   funder_distinct  funded  IntCol  cofund  intfund  \n",
       "0  [United States]       1       1       0        0  \n",
       "1       Not-Funded       0       0       0        0  \n",
       "2          [Chile]       1       1       0        0  \n",
       "3    [Switzerland]       1       1       0        0  \n",
       "4          [China]       1       0       0        0  "
      ]
     },
     "execution_count": 4,
     "metadata": {},
     "output_type": "execute_result"
    }
   ],
   "source": [
    "pub_df=pd.read_pickle(pubs_path)\n",
    "pub_df.head()"
   ]
  },
  {
   "cell_type": "code",
   "execution_count": 5,
   "id": "eligible-clark",
   "metadata": {
    "execution": {
     "iopub.execute_input": "2023-08-21T17:36:20.511105Z",
     "iopub.status.busy": "2023-08-21T17:36:20.510364Z",
     "iopub.status.idle": "2023-08-21T17:36:25.734746Z",
     "shell.execute_reply": "2023-08-21T17:36:25.733573Z"
    },
    "papermill": {
     "duration": 5.231187,
     "end_time": "2023-08-21T17:36:25.738050",
     "exception": false,
     "start_time": "2023-08-21T17:36:20.506863",
     "status": "completed"
    },
    "tags": []
   },
   "outputs": [],
   "source": [
    "cntry_df=pub_df[['author_distinct','year','dis']]\n",
    "cntry_df=cntry_df.explode('author_distinct')"
   ]
  },
  {
   "cell_type": "code",
   "execution_count": 6,
   "id": "current-search",
   "metadata": {
    "execution": {
     "iopub.execute_input": "2023-08-21T17:36:25.748970Z",
     "iopub.status.busy": "2023-08-21T17:36:25.747882Z",
     "iopub.status.idle": "2023-08-21T17:36:28.388459Z",
     "shell.execute_reply": "2023-08-21T17:36:28.387227Z"
    },
    "papermill": {
     "duration": 2.648006,
     "end_time": "2023-08-21T17:36:28.391662",
     "exception": false,
     "start_time": "2023-08-21T17:36:25.743656",
     "status": "completed"
    },
    "tags": []
   },
   "outputs": [],
   "source": [
    "cntry_df=cntry_df.groupby(['author_distinct','year','dis']).size().reset_index(name='count')\n",
    "cntry_df=cntry_df.rename(columns={'author_distinct':'cntry'})"
   ]
  },
  {
   "cell_type": "code",
   "execution_count": 7,
   "id": "mature-support",
   "metadata": {
    "execution": {
     "iopub.execute_input": "2023-08-21T17:36:28.404658Z",
     "iopub.status.busy": "2023-08-21T17:36:28.404066Z",
     "iopub.status.idle": "2023-08-21T17:36:31.329896Z",
     "shell.execute_reply": "2023-08-21T17:36:31.328788Z"
    },
    "papermill": {
     "duration": 2.935965,
     "end_time": "2023-08-21T17:36:31.333185",
     "exception": false,
     "start_time": "2023-08-21T17:36:28.397220",
     "status": "completed"
    },
    "tags": []
   },
   "outputs": [],
   "source": [
    "cntry_df.to_csv(cntry_author_full_path,index=False)"
   ]
  },
  {
   "cell_type": "code",
   "execution_count": null,
   "id": "educational-career",
   "metadata": {
    "papermill": {
     "duration": 0.001912,
     "end_time": "2023-08-21T17:36:31.340795",
     "exception": false,
     "start_time": "2023-08-21T17:36:31.338883",
     "status": "completed"
    },
    "tags": []
   },
   "outputs": [],
   "source": []
  }
 ],
 "metadata": {
  "kernelspec": {
   "display_name": "Python 3 (ipykernel)",
   "language": "python",
   "name": "python3"
  },
  "language_info": {
   "codemirror_mode": {
    "name": "ipython",
    "version": 3
   },
   "file_extension": ".py",
   "mimetype": "text/x-python",
   "name": "python",
   "nbconvert_exporter": "python",
   "pygments_lexer": "ipython3",
   "version": "3.8.16"
  },
  "papermill": {
   "default_parameters": {},
   "duration": 67.639103,
   "end_time": "2023-08-21T17:36:34.362792",
   "environment_variables": {},
   "exception": null,
   "input_path": "scripts/cntry_author_full.ipynb",
   "output_path": "scripts/outputs/cntry_author_full.ipynb",
   "parameters": {
    "cntry_author_full_path": "../data/NationalFunding/Data/DerivedData/Derived/cntry_author_full.csv",
    "pubs_path": "../data/NationalFunding/Data/DerivedData/CleanedRawData/pub.pkl"
   },
   "start_time": "2023-08-21T17:35:26.723689",
   "version": "2.3.4"
  }
 },
 "nbformat": 4,
 "nbformat_minor": 5
}