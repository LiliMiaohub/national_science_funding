{
 "cells": [
  {
   "cell_type": "markdown",
   "id": "falling-advocate",
   "metadata": {
    "papermill": {
     "duration": 0.006911,
     "end_time": "2024-02-28T23:35:03.436284",
     "exception": false,
     "start_time": "2024-02-28T23:35:03.429373",
     "status": "completed"
    },
    "tags": []
   },
   "source": [
    "this script builds research profile of countries after internationally funded publications from a **specific** country is removed. Here the removing standard is remove a paper that funding from the specific country flows to other countries, e.g., USA funded paper is authored by China"
   ]
  },
  {
   "cell_type": "code",
   "execution_count": 1,
   "id": "vocal-version",
   "metadata": {
    "execution": {
     "iopub.execute_input": "2024-02-28T23:35:03.445290Z",
     "iopub.status.busy": "2024-02-28T23:35:03.444417Z",
     "iopub.status.idle": "2024-02-28T23:35:03.819804Z",
     "shell.execute_reply": "2024-02-28T23:35:03.818819Z"
    },
    "papermill": {
     "duration": 0.382559,
     "end_time": "2024-02-28T23:35:03.823459",
     "exception": false,
     "start_time": "2024-02-28T23:35:03.440900",
     "status": "completed"
    },
    "tags": []
   },
   "outputs": [],
   "source": [
    "import pandas as pd\n",
    "import tqdm"
   ]
  },
  {
   "cell_type": "code",
   "execution_count": 2,
   "id": "ideal-function",
   "metadata": {
    "execution": {
     "iopub.execute_input": "2024-02-28T23:35:03.831336Z",
     "iopub.status.busy": "2024-02-28T23:35:03.830518Z",
     "iopub.status.idle": "2024-02-28T23:35:03.836241Z",
     "shell.execute_reply": "2024-02-28T23:35:03.835225Z"
    },
    "papermill": {
     "duration": 0.011102,
     "end_time": "2024-02-28T23:35:03.837748",
     "exception": false,
     "start_time": "2024-02-28T23:35:03.826646",
     "status": "completed"
    },
    "tags": [
     "parameters"
    ]
   },
   "outputs": [],
   "source": [
    "pubs_path=\"../../data/NationalFunding/Data/DerivedData/CleanedRawData/pub.pkl\"\n",
    "cntry_fund_frac_path='../../data/NationalFunding/Data/DerivedData/Derived/cntry_fund_frac.csv'\n",
    "\n",
    "profile_path=\"../../../data/nf_folder/Data/DerivedData/Derived/dep-FundExchange/pub_no_foreign_top20.csv\""
   ]
  },
  {
   "cell_type": "code",
   "execution_count": 3,
   "id": "0d28a1b1",
   "metadata": {
    "execution": {
     "iopub.execute_input": "2024-02-28T23:35:03.842765Z",
     "iopub.status.busy": "2024-02-28T23:35:03.842414Z",
     "iopub.status.idle": "2024-02-28T23:35:03.845627Z",
     "shell.execute_reply": "2024-02-28T23:35:03.845030Z"
    },
    "papermill": {
     "duration": 0.007177,
     "end_time": "2024-02-28T23:35:03.846896",
     "exception": false,
     "start_time": "2024-02-28T23:35:03.839719",
     "status": "completed"
    },
    "tags": [
     "injected-parameters"
    ]
   },
   "outputs": [],
   "source": [
    "# Parameters\n",
    "pubs_path = \"../data/NationalFunding/Data/simulated_data/Data/DerivedData/CleanedRawData/pub.pkl\"\n",
    "cntry_fund_frac_path = \"../data/NationalFunding/Data/simulated_data/Data/DerivedData/Derived/cntry_fund_frac.csv\"\n",
    "profile_path = \"../data/NationalFunding/Data/simulated_data/Data/DerivedData/Derived/dependence/pub_noforeign_fund_top20.csv\"\n"
   ]
  },
  {
   "cell_type": "code",
   "execution_count": 4,
   "id": "flush-peripheral",
   "metadata": {
    "execution": {
     "iopub.execute_input": "2024-02-28T23:35:03.851889Z",
     "iopub.status.busy": "2024-02-28T23:35:03.851392Z",
     "iopub.status.idle": "2024-02-28T23:35:07.315486Z",
     "shell.execute_reply": "2024-02-28T23:35:07.314486Z"
    },
    "papermill": {
     "duration": 3.471122,
     "end_time": "2024-02-28T23:35:07.319910",
     "exception": false,
     "start_time": "2024-02-28T23:35:03.848788",
     "status": "completed"
    },
    "tags": []
   },
   "outputs": [
    {
     "data": {
      "text/html": [
       "<div>\n",
       "<style scoped>\n",
       "    .dataframe tbody tr th:only-of-type {\n",
       "        vertical-align: middle;\n",
       "    }\n",
       "\n",
       "    .dataframe tbody tr th {\n",
       "        vertical-align: top;\n",
       "    }\n",
       "\n",
       "    .dataframe thead th {\n",
       "        text-align: right;\n",
       "    }\n",
       "</style>\n",
       "<table border=\"1\" class=\"dataframe\">\n",
       "  <thead>\n",
       "    <tr style=\"text-align: right;\">\n",
       "      <th></th>\n",
       "      <th>id</th>\n",
       "      <th>year</th>\n",
       "      <th>dis</th>\n",
       "      <th>type</th>\n",
       "      <th>author</th>\n",
       "      <th>funder</th>\n",
       "      <th>author_distinct</th>\n",
       "      <th>funder_distinct</th>\n",
       "      <th>funded</th>\n",
       "      <th>IntCol</th>\n",
       "      <th>cofund</th>\n",
       "      <th>intfund</th>\n",
       "    </tr>\n",
       "  </thead>\n",
       "  <tbody>\n",
       "    <tr>\n",
       "      <th>0</th>\n",
       "      <td>0</td>\n",
       "      <td>2014</td>\n",
       "      <td>29</td>\n",
       "      <td>1</td>\n",
       "      <td>[Canada]</td>\n",
       "      <td>[United States, Brazil, United States, Republi...</td>\n",
       "      <td>[Canada]</td>\n",
       "      <td>[Republic of Serbia, China, Brazil, United Sta...</td>\n",
       "      <td>1</td>\n",
       "      <td>0</td>\n",
       "      <td>1</td>\n",
       "      <td>1</td>\n",
       "    </tr>\n",
       "    <tr>\n",
       "      <th>1</th>\n",
       "      <td>1</td>\n",
       "      <td>2017</td>\n",
       "      <td>32</td>\n",
       "      <td>1</td>\n",
       "      <td>[Russia, Spain]</td>\n",
       "      <td>[Austria, China, China, China, United States, ...</td>\n",
       "      <td>[Russia, Spain]</td>\n",
       "      <td>[China, United States, Austria, Russia, Japan]</td>\n",
       "      <td>1</td>\n",
       "      <td>1</td>\n",
       "      <td>1</td>\n",
       "      <td>1</td>\n",
       "    </tr>\n",
       "    <tr>\n",
       "      <th>2</th>\n",
       "      <td>2</td>\n",
       "      <td>2012</td>\n",
       "      <td>15</td>\n",
       "      <td>1</td>\n",
       "      <td>[Turkey]</td>\n",
       "      <td>Not-Funded</td>\n",
       "      <td>[Turkey]</td>\n",
       "      <td>Not-Funded</td>\n",
       "      <td>0</td>\n",
       "      <td>0</td>\n",
       "      <td>0</td>\n",
       "      <td>0</td>\n",
       "    </tr>\n",
       "    <tr>\n",
       "      <th>3</th>\n",
       "      <td>3</td>\n",
       "      <td>2010</td>\n",
       "      <td>53</td>\n",
       "      <td>1</td>\n",
       "      <td>[United States, Iran]</td>\n",
       "      <td>[China]</td>\n",
       "      <td>[Iran, United States]</td>\n",
       "      <td>[China]</td>\n",
       "      <td>1</td>\n",
       "      <td>1</td>\n",
       "      <td>0</td>\n",
       "      <td>1</td>\n",
       "    </tr>\n",
       "    <tr>\n",
       "      <th>4</th>\n",
       "      <td>4</td>\n",
       "      <td>2015</td>\n",
       "      <td>22</td>\n",
       "      <td>1</td>\n",
       "      <td>[Denmark]</td>\n",
       "      <td>Not-Funded</td>\n",
       "      <td>[Denmark]</td>\n",
       "      <td>Not-Funded</td>\n",
       "      <td>0</td>\n",
       "      <td>0</td>\n",
       "      <td>0</td>\n",
       "      <td>0</td>\n",
       "    </tr>\n",
       "  </tbody>\n",
       "</table>\n",
       "</div>"
      ],
      "text/plain": [
       "   id  year  dis  type                 author   \n",
       "0   0  2014   29     1               [Canada]  \\\n",
       "1   1  2017   32     1        [Russia, Spain]   \n",
       "2   2  2012   15     1               [Turkey]   \n",
       "3   3  2010   53     1  [United States, Iran]   \n",
       "4   4  2015   22     1              [Denmark]   \n",
       "\n",
       "                                              funder        author_distinct   \n",
       "0  [United States, Brazil, United States, Republi...               [Canada]  \\\n",
       "1  [Austria, China, China, China, United States, ...        [Russia, Spain]   \n",
       "2                                         Not-Funded               [Turkey]   \n",
       "3                                            [China]  [Iran, United States]   \n",
       "4                                         Not-Funded              [Denmark]   \n",
       "\n",
       "                                     funder_distinct  funded  IntCol  cofund   \n",
       "0  [Republic of Serbia, China, Brazil, United Sta...       1       0       1  \\\n",
       "1     [China, United States, Austria, Russia, Japan]       1       1       1   \n",
       "2                                         Not-Funded       0       0       0   \n",
       "3                                            [China]       1       1       0   \n",
       "4                                         Not-Funded       0       0       0   \n",
       "\n",
       "   intfund  \n",
       "0        1  \n",
       "1        1  \n",
       "2        0  \n",
       "3        1  \n",
       "4        0  "
      ]
     },
     "execution_count": 4,
     "metadata": {},
     "output_type": "execute_result"
    }
   ],
   "source": [
    "pub_df=pd.read_pickle(pubs_path)\n",
    "pub_df.head()"
   ]
  },
  {
   "cell_type": "code",
   "execution_count": 5,
   "id": "swedish-carry",
   "metadata": {
    "execution": {
     "iopub.execute_input": "2024-02-28T23:35:07.329538Z",
     "iopub.status.busy": "2024-02-28T23:35:07.328816Z",
     "iopub.status.idle": "2024-02-28T23:35:07.735413Z",
     "shell.execute_reply": "2024-02-28T23:35:07.734591Z"
    },
    "papermill": {
     "duration": 0.413575,
     "end_time": "2024-02-28T23:35:07.738555",
     "exception": false,
     "start_time": "2024-02-28T23:35:07.324980",
     "status": "completed"
    },
    "tags": []
   },
   "outputs": [],
   "source": [
    "#get top 20 funders\n",
    "def return_topn(df,n):\n",
    "    df=df[df.funder!='Not-Funded']\n",
    "    topn=df.groupby(['funder'])['cnt'].sum().reset_index().sort_values(\n",
    "        by='cnt',ascending=False).head(n).funder.tolist()\n",
    "    return topn\n",
    "n=20\n",
    "cntry_fund=pd.read_csv(cntry_fund_frac_path)\n",
    "topn=return_topn(cntry_fund,n)"
   ]
  },
  {
   "cell_type": "code",
   "execution_count": 6,
   "id": "outdoor-large",
   "metadata": {
    "execution": {
     "iopub.execute_input": "2024-02-28T23:35:07.750733Z",
     "iopub.status.busy": "2024-02-28T23:35:07.750228Z",
     "iopub.status.idle": "2024-02-28T23:35:07.758164Z",
     "shell.execute_reply": "2024-02-28T23:35:07.757257Z"
    },
    "papermill": {
     "duration": 0.015274,
     "end_time": "2024-02-28T23:35:07.760229",
     "exception": false,
     "start_time": "2024-02-28T23:35:07.744955",
     "status": "completed"
    },
    "tags": []
   },
   "outputs": [],
   "source": [
    "def get_publications_to_remove(fund_df,cntry):\n",
    "    \"\"\"Returns a list of publication IDs that are funded by a specific country\n",
    "    and are either internationally coauthored or authored by other countries.\"\"\"\n",
    "    def assign_label(authors, cntry):\n",
    "        \n",
    "        if len(authors)>1 or authors[0]!=cntry:\n",
    "            return 1\n",
    "        else:\n",
    "            return 0\n",
    "    \n",
    "    df=fund_df[fund_df.funder_distinct==cntry].copy()\n",
    "    df['label']=df.apply(lambda x: assign_label(x.author_distinct,cntry),axis=1)\n",
    "    removeid=list(df[df.label==1]['id'].unique())\n",
    "    \n",
    "    return removeid"
   ]
  },
  {
   "cell_type": "code",
   "execution_count": 7,
   "id": "hollow-strength",
   "metadata": {
    "execution": {
     "iopub.execute_input": "2024-02-28T23:35:07.768603Z",
     "iopub.status.busy": "2024-02-28T23:35:07.768235Z",
     "iopub.status.idle": "2024-02-28T23:35:07.773642Z",
     "shell.execute_reply": "2024-02-28T23:35:07.772840Z"
    },
    "papermill": {
     "duration": 0.011215,
     "end_time": "2024-02-28T23:35:07.775029",
     "exception": false,
     "start_time": "2024-02-28T23:35:07.763814",
     "status": "completed"
    },
    "tags": []
   },
   "outputs": [],
   "source": [
    "def build_country_profile(pub_df, fund_df, cntry):\n",
    "    \"\"\"construct the research profile of rest of countries when the internationally-funded publications are removed\n",
    "    \"\"\"\n",
    "    \n",
    "    removeid=get_publications_to_remove(fund_df, cntry)\n",
    "    df=pub_df[~pub_df['id'].isin(removeid)]\n",
    "    df=df[['id','dis','author_distinct']].explode('author_distinct')\n",
    "    df=df.groupby(['author_distinct','dis']).size().reset_index(name='count')\n",
    "    \n",
    "    return df"
   ]
  },
  {
   "cell_type": "code",
   "execution_count": 8,
   "id": "running-mason",
   "metadata": {
    "execution": {
     "iopub.execute_input": "2024-02-28T23:35:07.782662Z",
     "iopub.status.busy": "2024-02-28T23:35:07.781784Z",
     "iopub.status.idle": "2024-02-28T23:35:33.497499Z",
     "shell.execute_reply": "2024-02-28T23:35:33.496311Z"
    },
    "papermill": {
     "duration": 25.723551,
     "end_time": "2024-02-28T23:35:33.501348",
     "exception": false,
     "start_time": "2024-02-28T23:35:07.777797",
     "status": "completed"
    },
    "tags": []
   },
   "outputs": [
    {
     "name": "stderr",
     "output_type": "stream",
     "text": [
      "\r",
      "  0%|                                                    | 0/10 [00:00<?, ?it/s]"
     ]
    },
    {
     "name": "stderr",
     "output_type": "stream",
     "text": [
      "\r",
      " 10%|████▍                                       | 1/10 [00:02<00:20,  2.24s/it]"
     ]
    },
    {
     "name": "stderr",
     "output_type": "stream",
     "text": [
      "\r",
      " 20%|████████▊                                   | 2/10 [00:04<00:19,  2.41s/it]"
     ]
    },
    {
     "name": "stderr",
     "output_type": "stream",
     "text": [
      "\r",
      " 30%|█████████████▏                              | 3/10 [00:06<00:15,  2.25s/it]"
     ]
    },
    {
     "name": "stderr",
     "output_type": "stream",
     "text": [
      "\r",
      " 40%|█████████████████▌                          | 4/10 [00:08<00:12,  2.06s/it]"
     ]
    },
    {
     "name": "stderr",
     "output_type": "stream",
     "text": [
      "\r",
      " 50%|██████████████████████                      | 5/10 [00:11<00:12,  2.42s/it]"
     ]
    },
    {
     "name": "stderr",
     "output_type": "stream",
     "text": [
      "\r",
      " 60%|██████████████████████████▍                 | 6/10 [00:15<00:11,  2.95s/it]"
     ]
    },
    {
     "name": "stderr",
     "output_type": "stream",
     "text": [
      "\r",
      " 70%|██████████████████████████████▊             | 7/10 [00:18<00:08,  2.83s/it]"
     ]
    },
    {
     "name": "stderr",
     "output_type": "stream",
     "text": [
      "\r",
      " 80%|███████████████████████████████████▏        | 8/10 [00:20<00:05,  2.50s/it]"
     ]
    },
    {
     "name": "stderr",
     "output_type": "stream",
     "text": [
      "\r",
      " 90%|███████████████████████████████████████▌    | 9/10 [00:22<00:02,  2.53s/it]"
     ]
    },
    {
     "name": "stderr",
     "output_type": "stream",
     "text": [
      "\r",
      "100%|███████████████████████████████████████████| 10/10 [00:25<00:00,  2.70s/it]"
     ]
    },
    {
     "name": "stderr",
     "output_type": "stream",
     "text": [
      "\r",
      "100%|███████████████████████████████████████████| 10/10 [00:25<00:00,  2.57s/it]"
     ]
    },
    {
     "name": "stderr",
     "output_type": "stream",
     "text": [
      "\n"
     ]
    }
   ],
   "source": [
    "filter_df=pd.DataFrame()\n",
    "years=pub_df['year'].unique()\n",
    "\n",
    "for year in tqdm.tqdm(years):\n",
    "    pub_year=pub_df[pub_df.year==year] #the publication in a specific year\n",
    "    fund_year=pub_year[['id','author_distinct','funder_distinct']].explode('funder_distinct')\n",
    "    for cntry in topn:\n",
    "        country_profile=build_country_profile(pub_year, fund_year, cntry)\n",
    "        country_profile['srce_cntry']=cntry\n",
    "        country_profile['year']=year\n",
    "        filter_df=pd.concat([filter_df,country_profile])"
   ]
  },
  {
   "cell_type": "code",
   "execution_count": 9,
   "id": "furnished-damage",
   "metadata": {
    "execution": {
     "iopub.execute_input": "2024-02-28T23:35:33.511658Z",
     "iopub.status.busy": "2024-02-28T23:35:33.511011Z",
     "iopub.status.idle": "2024-02-28T23:35:38.459704Z",
     "shell.execute_reply": "2024-02-28T23:35:38.458354Z"
    },
    "papermill": {
     "duration": 4.956796,
     "end_time": "2024-02-28T23:35:38.463365",
     "exception": false,
     "start_time": "2024-02-28T23:35:33.506569",
     "status": "completed"
    },
    "tags": []
   },
   "outputs": [],
   "source": [
    "filter_df.to_csv(profile_path, index=False)"
   ]
  },
  {
   "cell_type": "code",
   "execution_count": null,
   "id": "eleven-newfoundland",
   "metadata": {
    "papermill": {
     "duration": 0.003129,
     "end_time": "2024-02-28T23:35:38.475222",
     "exception": false,
     "start_time": "2024-02-28T23:35:38.472093",
     "status": "completed"
    },
    "tags": []
   },
   "outputs": [],
   "source": []
  }
 ],
 "metadata": {
  "kernelspec": {
   "display_name": "Python 3 (ipykernel)",
   "language": "python",
   "name": "python3"
  },
  "language_info": {
   "codemirror_mode": {
    "name": "ipython",
    "version": 3
   },
   "file_extension": ".py",
   "mimetype": "text/x-python",
   "name": "python",
   "nbconvert_exporter": "python",
   "pygments_lexer": "ipython3",
   "version": "3.8.16"
  },
  "papermill": {
   "default_parameters": {},
   "duration": 37.086944,
   "end_time": "2024-02-28T23:35:39.099210",
   "environment_variables": {},
   "exception": null,
   "input_path": "scripts/build_profile_without_top20.ipynb",
   "output_path": "scripts/outputs/build_profile_without_top20.ipynb",
   "parameters": {
    "cntry_fund_frac_path": "../data/NationalFunding/Data/simulated_data/Data/DerivedData/Derived/cntry_fund_frac.csv",
    "profile_path": "../data/NationalFunding/Data/simulated_data/Data/DerivedData/Derived/dependence/pub_noforeign_fund_top20.csv",
    "pubs_path": "../data/NationalFunding/Data/simulated_data/Data/DerivedData/CleanedRawData/pub.pkl"
   },
   "start_time": "2024-02-28T23:35:02.012266",
   "version": "2.3.4"
  }
 },
 "nbformat": 4,
 "nbformat_minor": 5
}