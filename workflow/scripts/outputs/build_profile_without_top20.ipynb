{
 "cells": [
  {
   "cell_type": "markdown",
   "id": "falling-advocate",
   "metadata": {
    "papermill": {
     "duration": 0.005934,
     "end_time": "2023-04-25T20:29:58.309883",
     "exception": false,
     "start_time": "2023-04-25T20:29:58.303949",
     "status": "completed"
    },
    "tags": []
   },
   "source": [
    "this script builds research profile of countries after internationally funded publications from a **specific** country is removed. Here the removing standard is remove a paper that funding from the specific country flows to other countries, e.g., USA funded paper is authored by China"
   ]
  },
  {
   "cell_type": "code",
   "execution_count": 1,
   "id": "vocal-version",
   "metadata": {
    "execution": {
     "iopub.execute_input": "2023-04-25T20:29:58.318050Z",
     "iopub.status.busy": "2023-04-25T20:29:58.317665Z",
     "iopub.status.idle": "2023-04-25T20:29:58.584516Z",
     "shell.execute_reply": "2023-04-25T20:29:58.583414Z"
    },
    "papermill": {
     "duration": 0.273157,
     "end_time": "2023-04-25T20:29:58.587919",
     "exception": false,
     "start_time": "2023-04-25T20:29:58.314762",
     "status": "completed"
    },
    "tags": []
   },
   "outputs": [],
   "source": [
    "import pandas as pd\n",
    "import tqdm"
   ]
  },
  {
   "cell_type": "code",
   "execution_count": 2,
   "id": "ideal-function",
   "metadata": {
    "execution": {
     "iopub.execute_input": "2023-04-25T20:29:58.597345Z",
     "iopub.status.busy": "2023-04-25T20:29:58.596242Z",
     "iopub.status.idle": "2023-04-25T20:29:58.602221Z",
     "shell.execute_reply": "2023-04-25T20:29:58.601164Z"
    },
    "papermill": {
     "duration": 0.010599,
     "end_time": "2023-04-25T20:29:58.603895",
     "exception": false,
     "start_time": "2023-04-25T20:29:58.593296",
     "status": "completed"
    },
    "tags": [
     "parameters"
    ]
   },
   "outputs": [],
   "source": [
    "pubs_path=\"../../../data/nf_folder/Data/DerivedData/CleanedRawData/pub.pkl\"\n",
    "cntry_fund_frac_path='../../../data/nf_folder/Data/DerivedData/Derived/cntry_fund_frac.csv'\n",
    "\n",
    "profile_path=\"../../../data/nf_folder/Data/DerivedData/Derived/dep-FundExchange/pub_no_foreign_top20.csv\""
   ]
  },
  {
   "cell_type": "code",
   "execution_count": 3,
   "id": "615669cd",
   "metadata": {
    "execution": {
     "iopub.execute_input": "2023-04-25T20:29:58.609524Z",
     "iopub.status.busy": "2023-04-25T20:29:58.609235Z",
     "iopub.status.idle": "2023-04-25T20:29:58.612662Z",
     "shell.execute_reply": "2023-04-25T20:29:58.612033Z"
    },
    "papermill": {
     "duration": 0.007664,
     "end_time": "2023-04-25T20:29:58.613890",
     "exception": false,
     "start_time": "2023-04-25T20:29:58.606226",
     "status": "completed"
    },
    "tags": [
     "injected-parameters"
    ]
   },
   "outputs": [],
   "source": [
    "# Parameters\n",
    "pubs_path = \"../data/NationalFunding/Data/DerivedData/CleanedRawData/pub.pkl\"\n",
    "cntry_fund_frac_path = (\n",
    "    \"../data/NationalFunding/Data/DerivedData/Derived/cntry_fund_frac.csv\"\n",
    ")\n",
    "profile_path = \"../data/NationalFunding/Data/DerivedData/Derived/dependence/pub_noforeign_fund_top20.csv\"\n"
   ]
  },
  {
   "cell_type": "code",
   "execution_count": 4,
   "id": "flush-peripheral",
   "metadata": {
    "execution": {
     "iopub.execute_input": "2023-04-25T20:29:58.619197Z",
     "iopub.status.busy": "2023-04-25T20:29:58.618473Z",
     "iopub.status.idle": "2023-04-25T20:30:54.076980Z",
     "shell.execute_reply": "2023-04-25T20:30:54.076134Z"
    },
    "papermill": {
     "duration": 55.474078,
     "end_time": "2023-04-25T20:30:54.089872",
     "exception": false,
     "start_time": "2023-04-25T20:29:58.615794",
     "status": "completed"
    },
    "tags": []
   },
   "outputs": [
    {
     "data": {
      "text/html": [
       "<div>\n",
       "<style scoped>\n",
       "    .dataframe tbody tr th:only-of-type {\n",
       "        vertical-align: middle;\n",
       "    }\n",
       "\n",
       "    .dataframe tbody tr th {\n",
       "        vertical-align: top;\n",
       "    }\n",
       "\n",
       "    .dataframe thead th {\n",
       "        text-align: right;\n",
       "    }\n",
       "</style>\n",
       "<table border=\"1\" class=\"dataframe\">\n",
       "  <thead>\n",
       "    <tr style=\"text-align: right;\">\n",
       "      <th></th>\n",
       "      <th>id</th>\n",
       "      <th>year</th>\n",
       "      <th>dis</th>\n",
       "      <th>type</th>\n",
       "      <th>author</th>\n",
       "      <th>funder</th>\n",
       "      <th>author_distinct</th>\n",
       "      <th>funder_distinct</th>\n",
       "      <th>funded</th>\n",
       "      <th>IntCol</th>\n",
       "      <th>cofund</th>\n",
       "      <th>intfund</th>\n",
       "    </tr>\n",
       "  </thead>\n",
       "  <tbody>\n",
       "    <tr>\n",
       "      <th>0</th>\n",
       "      <td>60694041</td>\n",
       "      <td>2017</td>\n",
       "      <td>9</td>\n",
       "      <td>1</td>\n",
       "      <td>[Canada, United States]</td>\n",
       "      <td>[United States, United States]</td>\n",
       "      <td>[Canada, United States]</td>\n",
       "      <td>[United States]</td>\n",
       "      <td>1</td>\n",
       "      <td>1</td>\n",
       "      <td>0</td>\n",
       "      <td>0</td>\n",
       "    </tr>\n",
       "    <tr>\n",
       "      <th>1</th>\n",
       "      <td>48573156</td>\n",
       "      <td>2012</td>\n",
       "      <td>89</td>\n",
       "      <td>1</td>\n",
       "      <td>[France]</td>\n",
       "      <td>Not-Funded</td>\n",
       "      <td>[France]</td>\n",
       "      <td>Not-Funded</td>\n",
       "      <td>0</td>\n",
       "      <td>0</td>\n",
       "      <td>0</td>\n",
       "      <td>0</td>\n",
       "    </tr>\n",
       "    <tr>\n",
       "      <th>2</th>\n",
       "      <td>55323671</td>\n",
       "      <td>2015</td>\n",
       "      <td>89</td>\n",
       "      <td>1</td>\n",
       "      <td>[France, Chile]</td>\n",
       "      <td>[Chile, Chile, Chile, Chile, Chile]</td>\n",
       "      <td>[Chile, France]</td>\n",
       "      <td>[Chile]</td>\n",
       "      <td>1</td>\n",
       "      <td>1</td>\n",
       "      <td>0</td>\n",
       "      <td>0</td>\n",
       "    </tr>\n",
       "    <tr>\n",
       "      <th>3</th>\n",
       "      <td>57633115</td>\n",
       "      <td>2016</td>\n",
       "      <td>31</td>\n",
       "      <td>1</td>\n",
       "      <td>[Switzerland, United States]</td>\n",
       "      <td>[Switzerland]</td>\n",
       "      <td>[Switzerland, United States]</td>\n",
       "      <td>[Switzerland]</td>\n",
       "      <td>1</td>\n",
       "      <td>1</td>\n",
       "      <td>0</td>\n",
       "      <td>0</td>\n",
       "    </tr>\n",
       "    <tr>\n",
       "      <th>4</th>\n",
       "      <td>64831413</td>\n",
       "      <td>2018</td>\n",
       "      <td>99</td>\n",
       "      <td>1</td>\n",
       "      <td>[China]</td>\n",
       "      <td>[China, China, China, China, China, China]</td>\n",
       "      <td>[China]</td>\n",
       "      <td>[China]</td>\n",
       "      <td>1</td>\n",
       "      <td>0</td>\n",
       "      <td>0</td>\n",
       "      <td>0</td>\n",
       "    </tr>\n",
       "  </tbody>\n",
       "</table>\n",
       "</div>"
      ],
      "text/plain": [
       "         id  year  dis  type                        author   \n",
       "0  60694041  2017    9     1       [Canada, United States]  \\\n",
       "1  48573156  2012   89     1                      [France]   \n",
       "2  55323671  2015   89     1               [France, Chile]   \n",
       "3  57633115  2016   31     1  [Switzerland, United States]   \n",
       "4  64831413  2018   99     1                       [China]   \n",
       "\n",
       "                                       funder               author_distinct   \n",
       "0              [United States, United States]       [Canada, United States]  \\\n",
       "1                                  Not-Funded                      [France]   \n",
       "2         [Chile, Chile, Chile, Chile, Chile]               [Chile, France]   \n",
       "3                               [Switzerland]  [Switzerland, United States]   \n",
       "4  [China, China, China, China, China, China]                       [China]   \n",
       "\n",
       "   funder_distinct  funded  IntCol  cofund  intfund  \n",
       "0  [United States]       1       1       0        0  \n",
       "1       Not-Funded       0       0       0        0  \n",
       "2          [Chile]       1       1       0        0  \n",
       "3    [Switzerland]       1       1       0        0  \n",
       "4          [China]       1       0       0        0  "
      ]
     },
     "execution_count": 4,
     "metadata": {},
     "output_type": "execute_result"
    }
   ],
   "source": [
    "pub_df=pd.read_pickle(pubs_path)\n",
    "pub_df.head()"
   ]
  },
  {
   "cell_type": "code",
   "execution_count": 5,
   "id": "swedish-carry",
   "metadata": {
    "execution": {
     "iopub.execute_input": "2023-04-25T20:30:54.096834Z",
     "iopub.status.busy": "2023-04-25T20:30:54.096163Z",
     "iopub.status.idle": "2023-04-25T20:30:54.779388Z",
     "shell.execute_reply": "2023-04-25T20:30:54.778431Z"
    },
    "papermill": {
     "duration": 0.690146,
     "end_time": "2023-04-25T20:30:54.782584",
     "exception": false,
     "start_time": "2023-04-25T20:30:54.092438",
     "status": "completed"
    },
    "tags": []
   },
   "outputs": [],
   "source": [
    "#get top 20 funders\n",
    "def return_topn(df,n):\n",
    "    df=df[df.funder!='Not-Funded']\n",
    "    topn=df.groupby(['funder'])['cnt'].sum().reset_index().sort_values(\n",
    "        by='cnt',ascending=False).head(n).funder.tolist()\n",
    "    return topn\n",
    "n=20\n",
    "cntry_fund=pd.read_csv(cntry_fund_frac_path)\n",
    "topn=return_topn(cntry_fund,n)"
   ]
  },
  {
   "cell_type": "code",
   "execution_count": 6,
   "id": "outdoor-large",
   "metadata": {
    "execution": {
     "iopub.execute_input": "2023-04-25T20:30:54.794525Z",
     "iopub.status.busy": "2023-04-25T20:30:54.793454Z",
     "iopub.status.idle": "2023-04-25T20:30:54.804122Z",
     "shell.execute_reply": "2023-04-25T20:30:54.803223Z"
    },
    "papermill": {
     "duration": 0.016765,
     "end_time": "2023-04-25T20:30:54.805752",
     "exception": false,
     "start_time": "2023-04-25T20:30:54.788987",
     "status": "completed"
    },
    "tags": []
   },
   "outputs": [],
   "source": [
    "def get_publications_to_remove(fund_df,cntry):\n",
    "    \"\"\"Returns a list of publication IDs that are funded by a specific country\n",
    "    and are either internationally coauthored or authored by other countries.\"\"\"\n",
    "    def assign_label(authors, cntry):\n",
    "        \n",
    "        if len(authors)>1 or authors[0]!=cntry:\n",
    "            return 1\n",
    "        else:\n",
    "            return 0\n",
    "    \n",
    "    df=fund_df[fund_df.funder_distinct==cntry].copy()\n",
    "    df['label']=df.apply(lambda x: assign_label(x.author_distinct,cntry),axis=1)\n",
    "    removeid=list(df[df.label==1]['id'].unique())\n",
    "    \n",
    "    return removeid"
   ]
  },
  {
   "cell_type": "code",
   "execution_count": 7,
   "id": "hollow-strength",
   "metadata": {
    "execution": {
     "iopub.execute_input": "2023-04-25T20:30:54.813085Z",
     "iopub.status.busy": "2023-04-25T20:30:54.812269Z",
     "iopub.status.idle": "2023-04-25T20:30:54.819085Z",
     "shell.execute_reply": "2023-04-25T20:30:54.818209Z"
    },
    "papermill": {
     "duration": 0.011673,
     "end_time": "2023-04-25T20:30:54.820552",
     "exception": false,
     "start_time": "2023-04-25T20:30:54.808879",
     "status": "completed"
    },
    "tags": []
   },
   "outputs": [],
   "source": [
    "def build_country_profile(pub_df, fund_df, cntry):\n",
    "    \"\"\"construct the research profile of rest of countries when the internationally-funded publications are removed\n",
    "    \"\"\"\n",
    "    \n",
    "    removeid=get_publications_to_remove(fund_df, cntry)\n",
    "    df=pub_df[~pub_df['id'].isin(removeid)]\n",
    "    df=df[['id','dis','author_distinct']].explode('author_distinct')\n",
    "    df=df.groupby(['author_distinct','dis']).size().reset_index(name='count')\n",
    "    \n",
    "    return df"
   ]
  },
  {
   "cell_type": "code",
   "execution_count": 8,
   "id": "running-mason",
   "metadata": {
    "execution": {
     "iopub.execute_input": "2023-04-25T20:30:54.826900Z",
     "iopub.status.busy": "2023-04-25T20:30:54.826705Z",
     "iopub.status.idle": "2023-04-25T20:36:16.997874Z",
     "shell.execute_reply": "2023-04-25T20:36:16.996785Z"
    },
    "papermill": {
     "duration": 322.182018,
     "end_time": "2023-04-25T20:36:17.005387",
     "exception": false,
     "start_time": "2023-04-25T20:30:54.823369",
     "status": "completed"
    },
    "tags": []
   },
   "outputs": [
    {
     "name": "stderr",
     "output_type": "stream",
     "text": [
      "\r",
      "  0%|                                                       | 0/10 [00:00<?, ?it/s]"
     ]
    },
    {
     "name": "stderr",
     "output_type": "stream",
     "text": [
      "\r",
      " 10%|████▋                                          | 1/10 [00:36<05:26, 36.30s/it]"
     ]
    },
    {
     "name": "stderr",
     "output_type": "stream",
     "text": [
      "\r",
      " 20%|█████████▍                                     | 2/10 [01:06<04:22, 32.82s/it]"
     ]
    },
    {
     "name": "stderr",
     "output_type": "stream",
     "text": [
      "\r",
      " 30%|██████████████                                 | 3/10 [01:40<03:53, 33.40s/it]"
     ]
    },
    {
     "name": "stderr",
     "output_type": "stream",
     "text": [
      "\r",
      " 40%|██████████████████▊                            | 4/10 [02:16<03:25, 34.20s/it]"
     ]
    },
    {
     "name": "stderr",
     "output_type": "stream",
     "text": [
      "\r",
      " 50%|███████████████████████▌                       | 5/10 [02:54<02:59, 35.85s/it]"
     ]
    },
    {
     "name": "stderr",
     "output_type": "stream",
     "text": [
      "\r",
      " 60%|████████████████████████████▏                  | 6/10 [03:22<02:11, 32.89s/it]"
     ]
    },
    {
     "name": "stderr",
     "output_type": "stream",
     "text": [
      "\r",
      " 70%|████████████████████████████████▉              | 7/10 [03:54<01:37, 32.62s/it]"
     ]
    },
    {
     "name": "stderr",
     "output_type": "stream",
     "text": [
      "\r",
      " 80%|█████████████████████████████████████▌         | 8/10 [04:27<01:05, 32.84s/it]"
     ]
    },
    {
     "name": "stderr",
     "output_type": "stream",
     "text": [
      "\r",
      " 90%|██████████████████████████████████████████▎    | 9/10 [04:52<00:30, 30.49s/it]"
     ]
    },
    {
     "name": "stderr",
     "output_type": "stream",
     "text": [
      "\r",
      "100%|██████████████████████████████████████████████| 10/10 [05:22<00:00, 30.10s/it]"
     ]
    },
    {
     "name": "stderr",
     "output_type": "stream",
     "text": [
      "\r",
      "100%|██████████████████████████████████████████████| 10/10 [05:22<00:00, 32.21s/it]"
     ]
    },
    {
     "name": "stderr",
     "output_type": "stream",
     "text": [
      "\n"
     ]
    }
   ],
   "source": [
    "filter_df=pd.DataFrame()\n",
    "years=pub_df['year'].unique()\n",
    "\n",
    "for year in tqdm.tqdm(years):\n",
    "    pub_year=pub_df[pub_df.year==year]\n",
    "    fund_year=pub_year[['id','author_distinct','funder_distinct']].explode('funder_distinct')\n",
    "    for cntry in topn:\n",
    "        country_profile=build_country_profile(pub_year, fund_year, cntry)\n",
    "        country_profile['srce_cntry']=cntry\n",
    "        country_profile['year']=year\n",
    "        filter_df=pd.concat([filter_df,country_profile])"
   ]
  },
  {
   "cell_type": "code",
   "execution_count": 9,
   "id": "furnished-damage",
   "metadata": {
    "execution": {
     "iopub.execute_input": "2023-04-25T20:36:17.012593Z",
     "iopub.status.busy": "2023-04-25T20:36:17.012346Z",
     "iopub.status.idle": "2023-04-25T20:36:24.611182Z",
     "shell.execute_reply": "2023-04-25T20:36:24.609274Z"
    },
    "papermill": {
     "duration": 7.606377,
     "end_time": "2023-04-25T20:36:24.614853",
     "exception": false,
     "start_time": "2023-04-25T20:36:17.008476",
     "status": "completed"
    },
    "tags": []
   },
   "outputs": [],
   "source": [
    "filter_df.to_csv(profile_path, index=False)"
   ]
  },
  {
   "cell_type": "code",
   "execution_count": null,
   "id": "eleven-newfoundland",
   "metadata": {
    "papermill": {
     "duration": 0.004433,
     "end_time": "2023-04-25T20:36:24.624212",
     "exception": false,
     "start_time": "2023-04-25T20:36:24.619779",
     "status": "completed"
    },
    "tags": []
   },
   "outputs": [],
   "source": []
  }
 ],
 "metadata": {
  "kernelspec": {
   "display_name": "Python 3 (ipykernel)",
   "language": "python",
   "name": "python3"
  },
  "language_info": {
   "codemirror_mode": {
    "name": "ipython",
    "version": 3
   },
   "file_extension": ".py",
   "mimetype": "text/x-python",
   "name": "python",
   "nbconvert_exporter": "python",
   "pygments_lexer": "ipython3",
   "version": "3.8.16"
  },
  "papermill": {
   "default_parameters": {},
   "duration": 390.850899,
   "end_time": "2023-04-25T20:36:27.750885",
   "environment_variables": {},
   "exception": null,
   "input_path": "scripts/build_profile_without_top20.ipynb",
   "output_path": "scripts/outputs/build_profile_without_top20.ipynb",
   "parameters": {
    "cntry_fund_frac_path": "../data/NationalFunding/Data/DerivedData/Derived/cntry_fund_frac.csv",
    "profile_path": "../data/NationalFunding/Data/DerivedData/Derived/dependence/pub_noforeign_fund_top20.csv",
    "pubs_path": "../data/NationalFunding/Data/DerivedData/CleanedRawData/pub.pkl"
   },
   "start_time": "2023-04-25T20:29:56.899986",
   "version": "2.3.4"
  }
 },
 "nbformat": 4,
 "nbformat_minor": 5
}