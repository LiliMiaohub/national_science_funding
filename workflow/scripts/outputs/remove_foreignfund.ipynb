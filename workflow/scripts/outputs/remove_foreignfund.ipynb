{
 "cells": [
  {
   "cell_type": "markdown",
   "id": "mysterious-flash",
   "metadata": {
    "papermill": {
     "duration": 0.006603,
     "end_time": "2023-04-25T20:02:43.394130",
     "exception": false,
     "start_time": "2023-04-25T20:02:43.387527",
     "status": "completed"
    },
    "tags": []
   },
   "source": [
    "### this script construct conterfactual research profile that countries only recieve domestic fund. \n",
    "\n",
    "Assign publications to author country using full counting first, and then for each country, following publications are retained:\n",
    "- articles that are not funded\n",
    "- articles that are exclusively funded by the country itself\n",
    "\n",
    "The output of the script is the number of publications of countries in year and discipline"
   ]
  },
  {
   "cell_type": "code",
   "execution_count": 1,
   "id": "complimentary-wisconsin",
   "metadata": {
    "execution": {
     "iopub.execute_input": "2023-04-25T20:02:43.403607Z",
     "iopub.status.busy": "2023-04-25T20:02:43.402722Z",
     "iopub.status.idle": "2023-04-25T20:02:43.659701Z",
     "shell.execute_reply": "2023-04-25T20:02:43.658793Z"
    },
    "papermill": {
     "duration": 0.263966,
     "end_time": "2023-04-25T20:02:43.663092",
     "exception": false,
     "start_time": "2023-04-25T20:02:43.399126",
     "status": "completed"
    },
    "tags": []
   },
   "outputs": [],
   "source": [
    "import pandas as pd"
   ]
  },
  {
   "cell_type": "code",
   "execution_count": 2,
   "id": "experimental-edition",
   "metadata": {
    "execution": {
     "iopub.execute_input": "2023-04-25T20:02:43.674092Z",
     "iopub.status.busy": "2023-04-25T20:02:43.673074Z",
     "iopub.status.idle": "2023-04-25T20:02:43.677885Z",
     "shell.execute_reply": "2023-04-25T20:02:43.677041Z"
    },
    "papermill": {
     "duration": 0.0108,
     "end_time": "2023-04-25T20:02:43.679420",
     "exception": false,
     "start_time": "2023-04-25T20:02:43.668620",
     "status": "completed"
    },
    "tags": [
     "parameters"
    ]
   },
   "outputs": [],
   "source": [
    "pubs_path=\"../../../data/nf_folder/Data/DerivedData/CleanedRawData/pub.pkl\"\n",
    "\n",
    "pub_filter_path=\"../../../data/nf_folder/Data/DerivedData/Derived/dep-FundInternational/pub_noInt_fund.csv\""
   ]
  },
  {
   "cell_type": "code",
   "execution_count": 3,
   "id": "995dc9e5",
   "metadata": {
    "execution": {
     "iopub.execute_input": "2023-04-25T20:02:43.686043Z",
     "iopub.status.busy": "2023-04-25T20:02:43.685207Z",
     "iopub.status.idle": "2023-04-25T20:02:43.690565Z",
     "shell.execute_reply": "2023-04-25T20:02:43.689799Z"
    },
    "papermill": {
     "duration": 0.010409,
     "end_time": "2023-04-25T20:02:43.692167",
     "exception": false,
     "start_time": "2023-04-25T20:02:43.681758",
     "status": "completed"
    },
    "tags": [
     "injected-parameters"
    ]
   },
   "outputs": [],
   "source": [
    "# Parameters\n",
    "pubs_path = \"../data/NationalFunding/Data/DerivedData/CleanedRawData/pub.pkl\"\n",
    "pub_filter_path = (\n",
    "    \"../data/NationalFunding/Data/DerivedData/Derived/dependence/pub_noint_fund.csv\"\n",
    ")\n"
   ]
  },
  {
   "cell_type": "code",
   "execution_count": 4,
   "id": "institutional-complaint",
   "metadata": {
    "execution": {
     "iopub.execute_input": "2023-04-25T20:02:43.699271Z",
     "iopub.status.busy": "2023-04-25T20:02:43.698268Z",
     "iopub.status.idle": "2023-04-25T20:03:39.448028Z",
     "shell.execute_reply": "2023-04-25T20:03:39.446554Z"
    },
    "papermill": {
     "duration": 55.762387,
     "end_time": "2023-04-25T20:03:39.456959",
     "exception": false,
     "start_time": "2023-04-25T20:02:43.694572",
     "status": "completed"
    },
    "tags": []
   },
   "outputs": [
    {
     "data": {
      "text/html": [
       "<div>\n",
       "<style scoped>\n",
       "    .dataframe tbody tr th:only-of-type {\n",
       "        vertical-align: middle;\n",
       "    }\n",
       "\n",
       "    .dataframe tbody tr th {\n",
       "        vertical-align: top;\n",
       "    }\n",
       "\n",
       "    .dataframe thead th {\n",
       "        text-align: right;\n",
       "    }\n",
       "</style>\n",
       "<table border=\"1\" class=\"dataframe\">\n",
       "  <thead>\n",
       "    <tr style=\"text-align: right;\">\n",
       "      <th></th>\n",
       "      <th>id</th>\n",
       "      <th>year</th>\n",
       "      <th>dis</th>\n",
       "      <th>type</th>\n",
       "      <th>author</th>\n",
       "      <th>funder</th>\n",
       "      <th>author_distinct</th>\n",
       "      <th>funder_distinct</th>\n",
       "      <th>funded</th>\n",
       "      <th>IntCol</th>\n",
       "      <th>cofund</th>\n",
       "      <th>intfund</th>\n",
       "    </tr>\n",
       "  </thead>\n",
       "  <tbody>\n",
       "    <tr>\n",
       "      <th>0</th>\n",
       "      <td>60694041</td>\n",
       "      <td>2017</td>\n",
       "      <td>9</td>\n",
       "      <td>1</td>\n",
       "      <td>[Canada, United States]</td>\n",
       "      <td>[United States, United States]</td>\n",
       "      <td>[Canada, United States]</td>\n",
       "      <td>[United States]</td>\n",
       "      <td>1</td>\n",
       "      <td>1</td>\n",
       "      <td>0</td>\n",
       "      <td>0</td>\n",
       "    </tr>\n",
       "    <tr>\n",
       "      <th>1</th>\n",
       "      <td>48573156</td>\n",
       "      <td>2012</td>\n",
       "      <td>89</td>\n",
       "      <td>1</td>\n",
       "      <td>[France]</td>\n",
       "      <td>Not-Funded</td>\n",
       "      <td>[France]</td>\n",
       "      <td>Not-Funded</td>\n",
       "      <td>0</td>\n",
       "      <td>0</td>\n",
       "      <td>0</td>\n",
       "      <td>0</td>\n",
       "    </tr>\n",
       "    <tr>\n",
       "      <th>2</th>\n",
       "      <td>55323671</td>\n",
       "      <td>2015</td>\n",
       "      <td>89</td>\n",
       "      <td>1</td>\n",
       "      <td>[France, Chile]</td>\n",
       "      <td>[Chile, Chile, Chile, Chile, Chile]</td>\n",
       "      <td>[Chile, France]</td>\n",
       "      <td>[Chile]</td>\n",
       "      <td>1</td>\n",
       "      <td>1</td>\n",
       "      <td>0</td>\n",
       "      <td>0</td>\n",
       "    </tr>\n",
       "    <tr>\n",
       "      <th>3</th>\n",
       "      <td>57633115</td>\n",
       "      <td>2016</td>\n",
       "      <td>31</td>\n",
       "      <td>1</td>\n",
       "      <td>[Switzerland, United States]</td>\n",
       "      <td>[Switzerland]</td>\n",
       "      <td>[Switzerland, United States]</td>\n",
       "      <td>[Switzerland]</td>\n",
       "      <td>1</td>\n",
       "      <td>1</td>\n",
       "      <td>0</td>\n",
       "      <td>0</td>\n",
       "    </tr>\n",
       "    <tr>\n",
       "      <th>4</th>\n",
       "      <td>64831413</td>\n",
       "      <td>2018</td>\n",
       "      <td>99</td>\n",
       "      <td>1</td>\n",
       "      <td>[China]</td>\n",
       "      <td>[China, China, China, China, China, China]</td>\n",
       "      <td>[China]</td>\n",
       "      <td>[China]</td>\n",
       "      <td>1</td>\n",
       "      <td>0</td>\n",
       "      <td>0</td>\n",
       "      <td>0</td>\n",
       "    </tr>\n",
       "  </tbody>\n",
       "</table>\n",
       "</div>"
      ],
      "text/plain": [
       "         id  year  dis  type                        author   \n",
       "0  60694041  2017    9     1       [Canada, United States]  \\\n",
       "1  48573156  2012   89     1                      [France]   \n",
       "2  55323671  2015   89     1               [France, Chile]   \n",
       "3  57633115  2016   31     1  [Switzerland, United States]   \n",
       "4  64831413  2018   99     1                       [China]   \n",
       "\n",
       "                                       funder               author_distinct   \n",
       "0              [United States, United States]       [Canada, United States]  \\\n",
       "1                                  Not-Funded                      [France]   \n",
       "2         [Chile, Chile, Chile, Chile, Chile]               [Chile, France]   \n",
       "3                               [Switzerland]  [Switzerland, United States]   \n",
       "4  [China, China, China, China, China, China]                       [China]   \n",
       "\n",
       "   funder_distinct  funded  IntCol  cofund  intfund  \n",
       "0  [United States]       1       1       0        0  \n",
       "1       Not-Funded       0       0       0        0  \n",
       "2          [Chile]       1       1       0        0  \n",
       "3    [Switzerland]       1       1       0        0  \n",
       "4          [China]       1       0       0        0  "
      ]
     },
     "execution_count": 4,
     "metadata": {},
     "output_type": "execute_result"
    }
   ],
   "source": [
    "pub_df=pd.read_pickle(pubs_path)\n",
    "pub_df.head()"
   ]
  },
  {
   "cell_type": "code",
   "execution_count": 5,
   "id": "understanding-skating",
   "metadata": {
    "execution": {
     "iopub.execute_input": "2023-04-25T20:03:39.464398Z",
     "iopub.status.busy": "2023-04-25T20:03:39.463567Z",
     "iopub.status.idle": "2023-04-25T20:03:47.311680Z",
     "shell.execute_reply": "2023-04-25T20:03:47.310438Z"
    },
    "papermill": {
     "duration": 7.855976,
     "end_time": "2023-04-25T20:03:47.315422",
     "exception": false,
     "start_time": "2023-04-25T20:03:39.459446",
     "status": "completed"
    },
    "tags": []
   },
   "outputs": [],
   "source": [
    "author_df=pub_df[['id','year','dis','author_distinct','funder_distinct']]\n",
    "author_df=author_df.explode('author_distinct')"
   ]
  },
  {
   "cell_type": "markdown",
   "id": "77f0d57c-b177-46e5-a2be-5d2c5b1f6040",
   "metadata": {
    "papermill": {
     "duration": 0.00221,
     "end_time": "2023-04-25T20:03:47.324008",
     "exception": false,
     "start_time": "2023-04-25T20:03:47.321798",
     "status": "completed"
    },
    "tags": []
   },
   "source": [
    "# detect whether the paper is foreign funded or not"
   ]
  },
  {
   "cell_type": "code",
   "execution_count": 6,
   "id": "governing-contrast",
   "metadata": {
    "execution": {
     "iopub.execute_input": "2023-04-25T20:03:47.330994Z",
     "iopub.status.busy": "2023-04-25T20:03:47.330389Z",
     "iopub.status.idle": "2023-04-25T20:07:32.959805Z",
     "shell.execute_reply": "2023-04-25T20:07:32.958562Z"
    },
    "papermill": {
     "duration": 225.637435,
     "end_time": "2023-04-25T20:07:32.963579",
     "exception": false,
     "start_time": "2023-04-25T20:03:47.326144",
     "status": "completed"
    },
    "tags": []
   },
   "outputs": [],
   "source": [
    "def assign_label(author,funders):\n",
    "    label=1\n",
    "    if funders=='Not-Funded':\n",
    "        label=0\n",
    "    elif len(funders)==1 and funders[0]==author:\n",
    "        label=0\n",
    "    return label\n",
    "author_df['label']=author_df.apply(lambda x:assign_label(x.author_distinct,x.funder_distinct),axis=1)"
   ]
  },
  {
   "cell_type": "code",
   "execution_count": 7,
   "id": "committed-basics",
   "metadata": {
    "execution": {
     "iopub.execute_input": "2023-04-25T20:07:32.973475Z",
     "iopub.status.busy": "2023-04-25T20:07:32.972916Z",
     "iopub.status.idle": "2023-04-25T20:07:36.025950Z",
     "shell.execute_reply": "2023-04-25T20:07:36.025043Z"
    },
    "papermill": {
     "duration": 3.060919,
     "end_time": "2023-04-25T20:07:36.029508",
     "exception": false,
     "start_time": "2023-04-25T20:07:32.968589",
     "status": "completed"
    },
    "tags": []
   },
   "outputs": [],
   "source": [
    "author_df=author_df[author_df.label==0]\n",
    "author_df=author_df.groupby(['author_distinct','year','dis']).size().reset_index()"
   ]
  },
  {
   "cell_type": "code",
   "execution_count": 8,
   "id": "adopted-oxide",
   "metadata": {
    "execution": {
     "iopub.execute_input": "2023-04-25T20:07:36.041814Z",
     "iopub.status.busy": "2023-04-25T20:07:36.041174Z",
     "iopub.status.idle": "2023-04-25T20:07:39.953569Z",
     "shell.execute_reply": "2023-04-25T20:07:39.952536Z"
    },
    "papermill": {
     "duration": 3.920915,
     "end_time": "2023-04-25T20:07:39.957279",
     "exception": false,
     "start_time": "2023-04-25T20:07:36.036364",
     "status": "completed"
    },
    "tags": []
   },
   "outputs": [],
   "source": [
    "author_df.columns=['cntry','year','dis','count']\n",
    "author_df.to_csv(pub_filter_path,index=False)"
   ]
  },
  {
   "cell_type": "code",
   "execution_count": null,
   "id": "delayed-coverage",
   "metadata": {
    "papermill": {
     "duration": 0.002377,
     "end_time": "2023-04-25T20:07:39.966420",
     "exception": false,
     "start_time": "2023-04-25T20:07:39.964043",
     "status": "completed"
    },
    "tags": []
   },
   "outputs": [],
   "source": []
  }
 ],
 "metadata": {
  "kernelspec": {
   "display_name": "Python 3 (ipykernel)",
   "language": "python",
   "name": "python3"
  },
  "language_info": {
   "codemirror_mode": {
    "name": "ipython",
    "version": 3
   },
   "file_extension": ".py",
   "mimetype": "text/x-python",
   "name": "python",
   "nbconvert_exporter": "python",
   "pygments_lexer": "ipython3",
   "version": "3.8.16"
  },
  "papermill": {
   "default_parameters": {},
   "duration": 301.22015,
   "end_time": "2023-04-25T20:07:43.189964",
   "environment_variables": {},
   "exception": null,
   "input_path": "scripts/remove_foreignfund.ipynb",
   "output_path": "scripts/outputs/remove_foreignfund.ipynb",
   "parameters": {
    "pub_filter_path": "../data/NationalFunding/Data/DerivedData/Derived/dependence/pub_noint_fund.csv",
    "pubs_path": "../data/NationalFunding/Data/DerivedData/CleanedRawData/pub.pkl"
   },
   "start_time": "2023-04-25T20:02:41.969814",
   "version": "2.3.4"
  }
 },
 "nbformat": 4,
 "nbformat_minor": 5
}