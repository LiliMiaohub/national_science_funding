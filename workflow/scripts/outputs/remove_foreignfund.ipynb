{
 "cells": [
  {
   "cell_type": "markdown",
   "id": "mysterious-flash",
   "metadata": {
    "papermill": {
     "duration": 0.006835,
     "end_time": "2024-02-28T23:33:04.853171",
     "exception": false,
     "start_time": "2024-02-28T23:33:04.846336",
     "status": "completed"
    },
    "tags": []
   },
   "source": [
    "### this script construct conterfactual research profile that countries only recieve domestic fund. \n",
    "\n",
    "Assign publications to author country using full counting first, and then for each country, following publications are retained:\n",
    "- articles that are not funded\n",
    "- articles that are exclusively funded by the country itself\n",
    "\n",
    "The output of the script is the number of publications of countries in year and discipline"
   ]
  },
  {
   "cell_type": "code",
   "execution_count": 1,
   "id": "complimentary-wisconsin",
   "metadata": {
    "execution": {
     "iopub.execute_input": "2024-02-28T23:33:04.859883Z",
     "iopub.status.busy": "2024-02-28T23:33:04.858764Z",
     "iopub.status.idle": "2024-02-28T23:33:05.228547Z",
     "shell.execute_reply": "2024-02-28T23:33:05.227656Z"
    },
    "papermill": {
     "duration": 0.376597,
     "end_time": "2024-02-28T23:33:05.232164",
     "exception": false,
     "start_time": "2024-02-28T23:33:04.855567",
     "status": "completed"
    },
    "tags": []
   },
   "outputs": [],
   "source": [
    "import pandas as pd"
   ]
  },
  {
   "cell_type": "code",
   "execution_count": 2,
   "id": "experimental-edition",
   "metadata": {
    "execution": {
     "iopub.execute_input": "2024-02-28T23:33:05.242602Z",
     "iopub.status.busy": "2024-02-28T23:33:05.242091Z",
     "iopub.status.idle": "2024-02-28T23:33:05.246460Z",
     "shell.execute_reply": "2024-02-28T23:33:05.245636Z"
    },
    "papermill": {
     "duration": 0.01009,
     "end_time": "2024-02-28T23:33:05.247869",
     "exception": false,
     "start_time": "2024-02-28T23:33:05.237779",
     "status": "completed"
    },
    "tags": [
     "parameters"
    ]
   },
   "outputs": [],
   "source": [
    "pubs_path=\"../../../data/nf_folder/Data/DerivedData/CleanedRawData/pub.pkl\"\n",
    "\n",
    "pub_filter_path=\"../../../data/nf_folder/Data/DerivedData/Derived/dep-FundInternational/pub_noInt_fund.csv\""
   ]
  },
  {
   "cell_type": "code",
   "execution_count": 3,
   "id": "50c0ace5",
   "metadata": {
    "execution": {
     "iopub.execute_input": "2024-02-28T23:33:05.253199Z",
     "iopub.status.busy": "2024-02-28T23:33:05.252648Z",
     "iopub.status.idle": "2024-02-28T23:33:05.256809Z",
     "shell.execute_reply": "2024-02-28T23:33:05.255993Z"
    },
    "papermill": {
     "duration": 0.008469,
     "end_time": "2024-02-28T23:33:05.258186",
     "exception": false,
     "start_time": "2024-02-28T23:33:05.249717",
     "status": "completed"
    },
    "tags": [
     "injected-parameters"
    ]
   },
   "outputs": [],
   "source": [
    "# Parameters\n",
    "pubs_path = \"../data/NationalFunding/Data/simulated_data/Data/DerivedData/CleanedRawData/pub.pkl\"\n",
    "pub_filter_path = \"../data/NationalFunding/Data/simulated_data/Data/DerivedData/Derived/dependence/pub_noint_fund.csv\"\n"
   ]
  },
  {
   "cell_type": "code",
   "execution_count": 4,
   "id": "institutional-complaint",
   "metadata": {
    "execution": {
     "iopub.execute_input": "2024-02-28T23:33:05.264778Z",
     "iopub.status.busy": "2024-02-28T23:33:05.264295Z",
     "iopub.status.idle": "2024-02-28T23:33:09.015182Z",
     "shell.execute_reply": "2024-02-28T23:33:09.014355Z"
    },
    "papermill": {
     "duration": 3.760145,
     "end_time": "2024-02-28T23:33:09.020381",
     "exception": false,
     "start_time": "2024-02-28T23:33:05.260236",
     "status": "completed"
    },
    "tags": []
   },
   "outputs": [
    {
     "data": {
      "text/html": [
       "<div>\n",
       "<style scoped>\n",
       "    .dataframe tbody tr th:only-of-type {\n",
       "        vertical-align: middle;\n",
       "    }\n",
       "\n",
       "    .dataframe tbody tr th {\n",
       "        vertical-align: top;\n",
       "    }\n",
       "\n",
       "    .dataframe thead th {\n",
       "        text-align: right;\n",
       "    }\n",
       "</style>\n",
       "<table border=\"1\" class=\"dataframe\">\n",
       "  <thead>\n",
       "    <tr style=\"text-align: right;\">\n",
       "      <th></th>\n",
       "      <th>id</th>\n",
       "      <th>year</th>\n",
       "      <th>dis</th>\n",
       "      <th>type</th>\n",
       "      <th>author</th>\n",
       "      <th>funder</th>\n",
       "      <th>author_distinct</th>\n",
       "      <th>funder_distinct</th>\n",
       "      <th>funded</th>\n",
       "      <th>IntCol</th>\n",
       "      <th>cofund</th>\n",
       "      <th>intfund</th>\n",
       "    </tr>\n",
       "  </thead>\n",
       "  <tbody>\n",
       "    <tr>\n",
       "      <th>0</th>\n",
       "      <td>0</td>\n",
       "      <td>2014</td>\n",
       "      <td>29</td>\n",
       "      <td>1</td>\n",
       "      <td>[Canada]</td>\n",
       "      <td>[United States, Brazil, United States, Republi...</td>\n",
       "      <td>[Canada]</td>\n",
       "      <td>[Republic of Serbia, China, Brazil, United Sta...</td>\n",
       "      <td>1</td>\n",
       "      <td>0</td>\n",
       "      <td>1</td>\n",
       "      <td>1</td>\n",
       "    </tr>\n",
       "    <tr>\n",
       "      <th>1</th>\n",
       "      <td>1</td>\n",
       "      <td>2017</td>\n",
       "      <td>32</td>\n",
       "      <td>1</td>\n",
       "      <td>[Russia, Spain]</td>\n",
       "      <td>[Austria, China, China, China, United States, ...</td>\n",
       "      <td>[Russia, Spain]</td>\n",
       "      <td>[China, United States, Austria, Russia, Japan]</td>\n",
       "      <td>1</td>\n",
       "      <td>1</td>\n",
       "      <td>1</td>\n",
       "      <td>1</td>\n",
       "    </tr>\n",
       "    <tr>\n",
       "      <th>2</th>\n",
       "      <td>2</td>\n",
       "      <td>2012</td>\n",
       "      <td>15</td>\n",
       "      <td>1</td>\n",
       "      <td>[Turkey]</td>\n",
       "      <td>Not-Funded</td>\n",
       "      <td>[Turkey]</td>\n",
       "      <td>Not-Funded</td>\n",
       "      <td>0</td>\n",
       "      <td>0</td>\n",
       "      <td>0</td>\n",
       "      <td>0</td>\n",
       "    </tr>\n",
       "    <tr>\n",
       "      <th>3</th>\n",
       "      <td>3</td>\n",
       "      <td>2010</td>\n",
       "      <td>53</td>\n",
       "      <td>1</td>\n",
       "      <td>[United States, Iran]</td>\n",
       "      <td>[China]</td>\n",
       "      <td>[Iran, United States]</td>\n",
       "      <td>[China]</td>\n",
       "      <td>1</td>\n",
       "      <td>1</td>\n",
       "      <td>0</td>\n",
       "      <td>1</td>\n",
       "    </tr>\n",
       "    <tr>\n",
       "      <th>4</th>\n",
       "      <td>4</td>\n",
       "      <td>2015</td>\n",
       "      <td>22</td>\n",
       "      <td>1</td>\n",
       "      <td>[Denmark]</td>\n",
       "      <td>Not-Funded</td>\n",
       "      <td>[Denmark]</td>\n",
       "      <td>Not-Funded</td>\n",
       "      <td>0</td>\n",
       "      <td>0</td>\n",
       "      <td>0</td>\n",
       "      <td>0</td>\n",
       "    </tr>\n",
       "  </tbody>\n",
       "</table>\n",
       "</div>"
      ],
      "text/plain": [
       "   id  year  dis  type                 author   \n",
       "0   0  2014   29     1               [Canada]  \\\n",
       "1   1  2017   32     1        [Russia, Spain]   \n",
       "2   2  2012   15     1               [Turkey]   \n",
       "3   3  2010   53     1  [United States, Iran]   \n",
       "4   4  2015   22     1              [Denmark]   \n",
       "\n",
       "                                              funder        author_distinct   \n",
       "0  [United States, Brazil, United States, Republi...               [Canada]  \\\n",
       "1  [Austria, China, China, China, United States, ...        [Russia, Spain]   \n",
       "2                                         Not-Funded               [Turkey]   \n",
       "3                                            [China]  [Iran, United States]   \n",
       "4                                         Not-Funded              [Denmark]   \n",
       "\n",
       "                                     funder_distinct  funded  IntCol  cofund   \n",
       "0  [Republic of Serbia, China, Brazil, United Sta...       1       0       1  \\\n",
       "1     [China, United States, Austria, Russia, Japan]       1       1       1   \n",
       "2                                         Not-Funded       0       0       0   \n",
       "3                                            [China]       1       1       0   \n",
       "4                                         Not-Funded       0       0       0   \n",
       "\n",
       "   intfund  \n",
       "0        1  \n",
       "1        1  \n",
       "2        0  \n",
       "3        1  \n",
       "4        0  "
      ]
     },
     "execution_count": 4,
     "metadata": {},
     "output_type": "execute_result"
    }
   ],
   "source": [
    "pub_df=pd.read_pickle(pubs_path)\n",
    "pub_df.head()"
   ]
  },
  {
   "cell_type": "code",
   "execution_count": 5,
   "id": "understanding-skating",
   "metadata": {
    "execution": {
     "iopub.execute_input": "2024-02-28T23:33:09.029402Z",
     "iopub.status.busy": "2024-02-28T23:33:09.028785Z",
     "iopub.status.idle": "2024-02-28T23:33:09.389663Z",
     "shell.execute_reply": "2024-02-28T23:33:09.388515Z"
    },
    "papermill": {
     "duration": 0.367646,
     "end_time": "2024-02-28T23:33:09.392910",
     "exception": false,
     "start_time": "2024-02-28T23:33:09.025264",
     "status": "completed"
    },
    "tags": []
   },
   "outputs": [],
   "source": [
    "author_df=pub_df[['id','year','dis','author_distinct','funder_distinct']]\n",
    "author_df=author_df.explode('author_distinct')"
   ]
  },
  {
   "cell_type": "markdown",
   "id": "77f0d57c-b177-46e5-a2be-5d2c5b1f6040",
   "metadata": {
    "papermill": {
     "duration": 0.002184,
     "end_time": "2024-02-28T23:33:09.401337",
     "exception": false,
     "start_time": "2024-02-28T23:33:09.399153",
     "status": "completed"
    },
    "tags": []
   },
   "source": [
    "# detect whether the paper is foreign funded or not"
   ]
  },
  {
   "cell_type": "code",
   "execution_count": 6,
   "id": "governing-contrast",
   "metadata": {
    "execution": {
     "iopub.execute_input": "2024-02-28T23:33:09.407975Z",
     "iopub.status.busy": "2024-02-28T23:33:09.406938Z",
     "iopub.status.idle": "2024-02-28T23:33:20.714540Z",
     "shell.execute_reply": "2024-02-28T23:33:20.712297Z"
    },
    "papermill": {
     "duration": 11.314383,
     "end_time": "2024-02-28T23:33:20.717849",
     "exception": false,
     "start_time": "2024-02-28T23:33:09.403466",
     "status": "completed"
    },
    "tags": []
   },
   "outputs": [],
   "source": [
    "def assign_label(author,funders):\n",
    "    label=1\n",
    "    if funders=='Not-Funded':\n",
    "        label=0\n",
    "    elif len(funders)==1 and funders[0]==author:\n",
    "        label=0\n",
    "    return label\n",
    "author_df['label']=author_df.apply(lambda x:assign_label(x.author_distinct,x.funder_distinct),axis=1)"
   ]
  },
  {
   "cell_type": "code",
   "execution_count": 7,
   "id": "committed-basics",
   "metadata": {
    "execution": {
     "iopub.execute_input": "2024-02-28T23:33:20.734555Z",
     "iopub.status.busy": "2024-02-28T23:33:20.733654Z",
     "iopub.status.idle": "2024-02-28T23:33:20.832138Z",
     "shell.execute_reply": "2024-02-28T23:33:20.831043Z"
    },
    "papermill": {
     "duration": 0.111415,
     "end_time": "2024-02-28T23:33:20.834868",
     "exception": false,
     "start_time": "2024-02-28T23:33:20.723453",
     "status": "completed"
    },
    "tags": []
   },
   "outputs": [],
   "source": [
    "author_df=author_df[author_df.label==0]\n",
    "author_df=author_df.groupby(['author_distinct','year','dis']).size().reset_index()"
   ]
  },
  {
   "cell_type": "code",
   "execution_count": 8,
   "id": "adopted-oxide",
   "metadata": {
    "execution": {
     "iopub.execute_input": "2024-02-28T23:33:20.846540Z",
     "iopub.status.busy": "2024-02-28T23:33:20.845659Z",
     "iopub.status.idle": "2024-02-28T23:33:22.298701Z",
     "shell.execute_reply": "2024-02-28T23:33:22.297183Z"
    },
    "papermill": {
     "duration": 1.462118,
     "end_time": "2024-02-28T23:33:22.302310",
     "exception": false,
     "start_time": "2024-02-28T23:33:20.840192",
     "status": "completed"
    },
    "tags": []
   },
   "outputs": [],
   "source": [
    "author_df.columns=['cntry','year','dis','count']\n",
    "author_df.to_csv(pub_filter_path,index=False)"
   ]
  },
  {
   "cell_type": "code",
   "execution_count": null,
   "id": "delayed-coverage",
   "metadata": {
    "papermill": {
     "duration": 0.002304,
     "end_time": "2024-02-28T23:33:22.310701",
     "exception": false,
     "start_time": "2024-02-28T23:33:22.308397",
     "status": "completed"
    },
    "tags": []
   },
   "outputs": [],
   "source": []
  }
 ],
 "metadata": {
  "kernelspec": {
   "display_name": "Python 3 (ipykernel)",
   "language": "python",
   "name": "python3"
  },
  "language_info": {
   "codemirror_mode": {
    "name": "ipython",
    "version": 3
   },
   "file_extension": ".py",
   "mimetype": "text/x-python",
   "name": "python",
   "nbconvert_exporter": "python",
   "pygments_lexer": "ipython3",
   "version": "3.8.16"
  },
  "papermill": {
   "default_parameters": {},
   "duration": 19.641537,
   "end_time": "2024-02-28T23:33:23.234168",
   "environment_variables": {},
   "exception": null,
   "input_path": "scripts/remove_foreignfund.ipynb",
   "output_path": "scripts/outputs/remove_foreignfund.ipynb",
   "parameters": {
    "pub_filter_path": "../data/NationalFunding/Data/simulated_data/Data/DerivedData/Derived/dependence/pub_noint_fund.csv",
    "pubs_path": "../data/NationalFunding/Data/simulated_data/Data/DerivedData/CleanedRawData/pub.pkl"
   },
   "start_time": "2024-02-28T23:33:03.592631",
   "version": "2.3.4"
  }
 },
 "nbformat": 4,
 "nbformat_minor": 5
}