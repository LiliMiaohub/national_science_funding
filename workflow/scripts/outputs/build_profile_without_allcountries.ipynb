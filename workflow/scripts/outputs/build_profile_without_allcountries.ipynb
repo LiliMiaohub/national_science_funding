{
 "cells": [
  {
   "cell_type": "markdown",
   "id": "falling-advocate",
   "metadata": {
    "papermill": {
     "duration": 0.007711,
     "end_time": "2024-02-29T07:04:23.337826",
     "exception": false,
     "start_time": "2024-02-29T07:04:23.330115",
     "status": "completed"
    },
    "tags": []
   },
   "source": [
    "this script builds research profile of countries after internationally funded publications from a **specific** country is removed. Here the removing standard is remove a paper that funding from the specific country flows to other countries, e.g., USA funded paper is authored by China. \n",
    "\n",
    "**all countries are removed iteratively**"
   ]
  },
  {
   "cell_type": "code",
   "execution_count": 1,
   "id": "vocal-version",
   "metadata": {
    "execution": {
     "iopub.execute_input": "2024-02-29T07:04:23.345877Z",
     "iopub.status.busy": "2024-02-29T07:04:23.345083Z",
     "iopub.status.idle": "2024-02-29T07:04:23.720547Z",
     "shell.execute_reply": "2024-02-29T07:04:23.719690Z"
    },
    "papermill": {
     "duration": 0.382751,
     "end_time": "2024-02-29T07:04:23.724216",
     "exception": false,
     "start_time": "2024-02-29T07:04:23.341465",
     "status": "completed"
    },
    "tags": []
   },
   "outputs": [],
   "source": [
    "import pandas as pd\n",
    "import tqdm"
   ]
  },
  {
   "cell_type": "code",
   "execution_count": 2,
   "id": "ideal-function",
   "metadata": {
    "execution": {
     "iopub.execute_input": "2024-02-29T07:04:23.735151Z",
     "iopub.status.busy": "2024-02-29T07:04:23.734123Z",
     "iopub.status.idle": "2024-02-29T07:04:23.740119Z",
     "shell.execute_reply": "2024-02-29T07:04:23.739014Z"
    },
    "papermill": {
     "duration": 0.011161,
     "end_time": "2024-02-29T07:04:23.741752",
     "exception": false,
     "start_time": "2024-02-29T07:04:23.730591",
     "status": "completed"
    },
    "tags": [
     "parameters"
    ]
   },
   "outputs": [],
   "source": [
    "pubs_path=\"../../data/nf_folder/Data/DerivedData/CleanedRawData/pub.pkl\"\n",
    "cntry_full_path=\"../../data/nf_folder/Data/DerivedData/Derived/cntry_author_full.csv\"\n",
    "\n",
    "profile_path=\"../../../data/nf_folder/Data/DerivedData/Derived/dep-FundExchange/pub_no_foreign_individual_allcountries.csv\""
   ]
  },
  {
   "cell_type": "code",
   "execution_count": 3,
   "id": "7cbb0281",
   "metadata": {
    "execution": {
     "iopub.execute_input": "2024-02-29T07:04:23.747745Z",
     "iopub.status.busy": "2024-02-29T07:04:23.747456Z",
     "iopub.status.idle": "2024-02-29T07:04:23.750863Z",
     "shell.execute_reply": "2024-02-29T07:04:23.750238Z"
    },
    "papermill": {
     "duration": 0.007861,
     "end_time": "2024-02-29T07:04:23.752136",
     "exception": false,
     "start_time": "2024-02-29T07:04:23.744275",
     "status": "completed"
    },
    "tags": [
     "injected-parameters"
    ]
   },
   "outputs": [],
   "source": [
    "# Parameters\n",
    "pubs_path = \"../data/NationalFunding/Data/simulated_data/Data/DerivedData/CleanedRawData/pub.pkl\"\n",
    "cntry_full_path = \"../data/NationalFunding/Data/simulated_data/Data/DerivedData/Derived/cntry_author_full.csv\"\n",
    "profile_path = \"../data/NationalFunding/Data/simulated_data/Data/DerivedData/Derived/dependence/pub_noforeign_fund_all2all.csv\"\n"
   ]
  },
  {
   "cell_type": "code",
   "execution_count": 4,
   "id": "flush-peripheral",
   "metadata": {
    "execution": {
     "iopub.execute_input": "2024-02-29T07:04:23.758037Z",
     "iopub.status.busy": "2024-02-29T07:04:23.757371Z",
     "iopub.status.idle": "2024-02-29T07:04:28.109820Z",
     "shell.execute_reply": "2024-02-29T07:04:28.109011Z"
    },
    "papermill": {
     "duration": 4.360419,
     "end_time": "2024-02-29T07:04:28.114755",
     "exception": false,
     "start_time": "2024-02-29T07:04:23.754336",
     "status": "completed"
    },
    "tags": []
   },
   "outputs": [
    {
     "data": {
      "text/html": [
       "<div>\n",
       "<style scoped>\n",
       "    .dataframe tbody tr th:only-of-type {\n",
       "        vertical-align: middle;\n",
       "    }\n",
       "\n",
       "    .dataframe tbody tr th {\n",
       "        vertical-align: top;\n",
       "    }\n",
       "\n",
       "    .dataframe thead th {\n",
       "        text-align: right;\n",
       "    }\n",
       "</style>\n",
       "<table border=\"1\" class=\"dataframe\">\n",
       "  <thead>\n",
       "    <tr style=\"text-align: right;\">\n",
       "      <th></th>\n",
       "      <th>id</th>\n",
       "      <th>year</th>\n",
       "      <th>dis</th>\n",
       "      <th>type</th>\n",
       "      <th>author</th>\n",
       "      <th>funder</th>\n",
       "      <th>author_distinct</th>\n",
       "      <th>funder_distinct</th>\n",
       "      <th>funded</th>\n",
       "      <th>IntCol</th>\n",
       "      <th>cofund</th>\n",
       "      <th>intfund</th>\n",
       "    </tr>\n",
       "  </thead>\n",
       "  <tbody>\n",
       "    <tr>\n",
       "      <th>0</th>\n",
       "      <td>0</td>\n",
       "      <td>2014</td>\n",
       "      <td>29</td>\n",
       "      <td>1</td>\n",
       "      <td>[Canada]</td>\n",
       "      <td>[United States, Brazil, United States, Republi...</td>\n",
       "      <td>[Canada]</td>\n",
       "      <td>[Republic of Serbia, China, Brazil, United Sta...</td>\n",
       "      <td>1</td>\n",
       "      <td>0</td>\n",
       "      <td>1</td>\n",
       "      <td>1</td>\n",
       "    </tr>\n",
       "    <tr>\n",
       "      <th>1</th>\n",
       "      <td>1</td>\n",
       "      <td>2017</td>\n",
       "      <td>32</td>\n",
       "      <td>1</td>\n",
       "      <td>[Russia, Spain]</td>\n",
       "      <td>[Austria, China, China, China, United States, ...</td>\n",
       "      <td>[Russia, Spain]</td>\n",
       "      <td>[China, United States, Austria, Russia, Japan]</td>\n",
       "      <td>1</td>\n",
       "      <td>1</td>\n",
       "      <td>1</td>\n",
       "      <td>1</td>\n",
       "    </tr>\n",
       "    <tr>\n",
       "      <th>2</th>\n",
       "      <td>2</td>\n",
       "      <td>2012</td>\n",
       "      <td>15</td>\n",
       "      <td>1</td>\n",
       "      <td>[Turkey]</td>\n",
       "      <td>Not-Funded</td>\n",
       "      <td>[Turkey]</td>\n",
       "      <td>Not-Funded</td>\n",
       "      <td>0</td>\n",
       "      <td>0</td>\n",
       "      <td>0</td>\n",
       "      <td>0</td>\n",
       "    </tr>\n",
       "    <tr>\n",
       "      <th>3</th>\n",
       "      <td>3</td>\n",
       "      <td>2010</td>\n",
       "      <td>53</td>\n",
       "      <td>1</td>\n",
       "      <td>[United States, Iran]</td>\n",
       "      <td>[China]</td>\n",
       "      <td>[Iran, United States]</td>\n",
       "      <td>[China]</td>\n",
       "      <td>1</td>\n",
       "      <td>1</td>\n",
       "      <td>0</td>\n",
       "      <td>1</td>\n",
       "    </tr>\n",
       "    <tr>\n",
       "      <th>4</th>\n",
       "      <td>4</td>\n",
       "      <td>2015</td>\n",
       "      <td>22</td>\n",
       "      <td>1</td>\n",
       "      <td>[Denmark]</td>\n",
       "      <td>Not-Funded</td>\n",
       "      <td>[Denmark]</td>\n",
       "      <td>Not-Funded</td>\n",
       "      <td>0</td>\n",
       "      <td>0</td>\n",
       "      <td>0</td>\n",
       "      <td>0</td>\n",
       "    </tr>\n",
       "  </tbody>\n",
       "</table>\n",
       "</div>"
      ],
      "text/plain": [
       "   id  year  dis  type                 author   \n",
       "0   0  2014   29     1               [Canada]  \\\n",
       "1   1  2017   32     1        [Russia, Spain]   \n",
       "2   2  2012   15     1               [Turkey]   \n",
       "3   3  2010   53     1  [United States, Iran]   \n",
       "4   4  2015   22     1              [Denmark]   \n",
       "\n",
       "                                              funder        author_distinct   \n",
       "0  [United States, Brazil, United States, Republi...               [Canada]  \\\n",
       "1  [Austria, China, China, China, United States, ...        [Russia, Spain]   \n",
       "2                                         Not-Funded               [Turkey]   \n",
       "3                                            [China]  [Iran, United States]   \n",
       "4                                         Not-Funded              [Denmark]   \n",
       "\n",
       "                                     funder_distinct  funded  IntCol  cofund   \n",
       "0  [Republic of Serbia, China, Brazil, United Sta...       1       0       1  \\\n",
       "1     [China, United States, Austria, Russia, Japan]       1       1       1   \n",
       "2                                         Not-Funded       0       0       0   \n",
       "3                                            [China]       1       1       0   \n",
       "4                                         Not-Funded       0       0       0   \n",
       "\n",
       "   intfund  \n",
       "0        1  \n",
       "1        1  \n",
       "2        0  \n",
       "3        1  \n",
       "4        0  "
      ]
     },
     "execution_count": 4,
     "metadata": {},
     "output_type": "execute_result"
    }
   ],
   "source": [
    "pub_df=pd.read_pickle(pubs_path)\n",
    "pub_df.head()"
   ]
  },
  {
   "cell_type": "code",
   "execution_count": 5,
   "id": "outdoor-large",
   "metadata": {
    "execution": {
     "iopub.execute_input": "2024-02-29T07:04:28.122803Z",
     "iopub.status.busy": "2024-02-29T07:04:28.122271Z",
     "iopub.status.idle": "2024-02-29T07:04:28.130862Z",
     "shell.execute_reply": "2024-02-29T07:04:28.129826Z"
    },
    "papermill": {
     "duration": 0.013715,
     "end_time": "2024-02-29T07:04:28.132172",
     "exception": false,
     "start_time": "2024-02-29T07:04:28.118457",
     "status": "completed"
    },
    "tags": []
   },
   "outputs": [],
   "source": [
    "def get_publications_to_remove(fund_df,cntry):\n",
    "    \"\"\"Returns a list of publication IDs that are funded by a specific country\n",
    "    and are either internationally coauthored or authored by other countries.\"\"\"\n",
    "    def assign_label(authors, cntry):\n",
    "        \n",
    "        if len(authors)>1 or authors[0]!=cntry:\n",
    "            return 1\n",
    "        else:\n",
    "            return 0\n",
    "    \n",
    "    df=fund_df[fund_df.funder_distinct==cntry].copy()\n",
    "    df['label']=df.apply(lambda x: assign_label(x.author_distinct,cntry),axis=1)\n",
    "    removeid=list(df[df.label==1]['id'].unique())\n",
    "    \n",
    "    return removeid"
   ]
  },
  {
   "cell_type": "code",
   "execution_count": 6,
   "id": "hollow-strength",
   "metadata": {
    "execution": {
     "iopub.execute_input": "2024-02-29T07:04:28.138817Z",
     "iopub.status.busy": "2024-02-29T07:04:28.138366Z",
     "iopub.status.idle": "2024-02-29T07:04:28.143074Z",
     "shell.execute_reply": "2024-02-29T07:04:28.142392Z"
    },
    "papermill": {
     "duration": 0.009847,
     "end_time": "2024-02-29T07:04:28.144519",
     "exception": false,
     "start_time": "2024-02-29T07:04:28.134672",
     "status": "completed"
    },
    "tags": []
   },
   "outputs": [],
   "source": [
    "def build_country_profile(pub_df, fund_df, cntry):\n",
    "    \"\"\"construct the research profile of rest of countries when the internationally-funded publications are removed\n",
    "    \"\"\"\n",
    "    \n",
    "    removeid=get_publications_to_remove(fund_df, cntry)\n",
    "    df=pub_df[~pub_df['id'].isin(removeid)]\n",
    "    df=df[['id','dis','author_distinct']].explode('author_distinct') #assign papers to authorship countries using full counting\n",
    "    df=df.groupby(['author_distinct','dis']).size().reset_index(name='count')\n",
    "    \n",
    "    return df"
   ]
  },
  {
   "cell_type": "code",
   "execution_count": 7,
   "id": "ecdf2909-50c8-46af-acae-487eca274f68",
   "metadata": {
    "execution": {
     "iopub.execute_input": "2024-02-29T07:04:28.151316Z",
     "iopub.status.busy": "2024-02-29T07:04:28.150871Z",
     "iopub.status.idle": "2024-02-29T07:05:55.603777Z",
     "shell.execute_reply": "2024-02-29T07:05:55.602689Z"
    },
    "papermill": {
     "duration": 87.459755,
     "end_time": "2024-02-29T07:05:55.607059",
     "exception": false,
     "start_time": "2024-02-29T07:04:28.147304",
     "status": "completed"
    },
    "tags": []
   },
   "outputs": [
    {
     "name": "stderr",
     "output_type": "stream",
     "text": [
      "\r",
      "  0%|                                                   | 0/161 [00:00<?, ?it/s]"
     ]
    },
    {
     "name": "stderr",
     "output_type": "stream",
     "text": [
      "\r",
      "  1%|▎                                          | 1/161 [00:00<01:14,  2.14it/s]"
     ]
    },
    {
     "name": "stderr",
     "output_type": "stream",
     "text": [
      "\r",
      "  1%|▌                                          | 2/161 [00:03<04:34,  1.73s/it]"
     ]
    },
    {
     "name": "stderr",
     "output_type": "stream",
     "text": [
      "\r",
      "  2%|▊                                          | 3/161 [00:03<03:22,  1.28s/it]"
     ]
    },
    {
     "name": "stderr",
     "output_type": "stream",
     "text": [
      "\r",
      "  2%|█                                          | 4/161 [00:05<03:50,  1.47s/it]"
     ]
    },
    {
     "name": "stderr",
     "output_type": "stream",
     "text": [
      "\r",
      "  3%|█▎                                         | 5/161 [00:06<02:53,  1.11s/it]"
     ]
    },
    {
     "name": "stderr",
     "output_type": "stream",
     "text": [
      "\r",
      "  4%|█▌                                         | 6/161 [00:06<02:24,  1.07it/s]"
     ]
    },
    {
     "name": "stderr",
     "output_type": "stream",
     "text": [
      "\r",
      "  4%|█▊                                         | 7/161 [00:07<02:14,  1.14it/s]"
     ]
    },
    {
     "name": "stderr",
     "output_type": "stream",
     "text": [
      "\r",
      "  5%|██▏                                        | 8/161 [00:09<03:32,  1.39s/it]"
     ]
    },
    {
     "name": "stderr",
     "output_type": "stream",
     "text": [
      "\r",
      "  6%|██▍                                        | 9/161 [00:10<02:51,  1.13s/it]"
     ]
    },
    {
     "name": "stderr",
     "output_type": "stream",
     "text": [
      "\r",
      "  6%|██▌                                       | 10/161 [00:11<02:28,  1.01it/s]"
     ]
    },
    {
     "name": "stderr",
     "output_type": "stream",
     "text": [
      "\r",
      "  7%|██▊                                       | 11/161 [00:11<02:08,  1.17it/s]"
     ]
    },
    {
     "name": "stderr",
     "output_type": "stream",
     "text": [
      "\r",
      "  7%|███▏                                      | 12/161 [00:12<02:03,  1.21it/s]"
     ]
    },
    {
     "name": "stderr",
     "output_type": "stream",
     "text": [
      "\r",
      "  8%|███▍                                      | 13/161 [00:13<02:01,  1.22it/s]"
     ]
    },
    {
     "name": "stderr",
     "output_type": "stream",
     "text": [
      "\r",
      "  9%|███▋                                      | 14/161 [00:13<01:45,  1.39it/s]"
     ]
    },
    {
     "name": "stderr",
     "output_type": "stream",
     "text": [
      "\r",
      "  9%|███▉                                      | 15/161 [00:14<01:39,  1.46it/s]"
     ]
    },
    {
     "name": "stderr",
     "output_type": "stream",
     "text": [
      "\r",
      " 10%|████▏                                     | 16/161 [00:15<01:41,  1.43it/s]"
     ]
    },
    {
     "name": "stderr",
     "output_type": "stream",
     "text": [
      "\r",
      " 11%|████▍                                     | 17/161 [00:15<01:32,  1.55it/s]"
     ]
    },
    {
     "name": "stderr",
     "output_type": "stream",
     "text": [
      "\r",
      " 11%|████▋                                     | 18/161 [00:16<01:32,  1.54it/s]"
     ]
    },
    {
     "name": "stderr",
     "output_type": "stream",
     "text": [
      "\r",
      " 12%|████▉                                     | 19/161 [00:16<01:32,  1.54it/s]"
     ]
    },
    {
     "name": "stderr",
     "output_type": "stream",
     "text": [
      "\r",
      " 12%|█████▏                                    | 20/161 [00:17<01:25,  1.66it/s]"
     ]
    },
    {
     "name": "stderr",
     "output_type": "stream",
     "text": [
      "\r",
      " 13%|█████▍                                    | 21/161 [00:17<01:20,  1.73it/s]"
     ]
    },
    {
     "name": "stderr",
     "output_type": "stream",
     "text": [
      "\r",
      " 14%|█████▋                                    | 22/161 [00:18<01:15,  1.83it/s]"
     ]
    },
    {
     "name": "stderr",
     "output_type": "stream",
     "text": [
      "\r",
      " 14%|██████                                    | 23/161 [00:19<01:18,  1.76it/s]"
     ]
    },
    {
     "name": "stderr",
     "output_type": "stream",
     "text": [
      "\r",
      " 15%|██████▎                                   | 24/161 [00:19<01:14,  1.84it/s]"
     ]
    },
    {
     "name": "stderr",
     "output_type": "stream",
     "text": [
      "\r",
      " 16%|██████▌                                   | 25/161 [00:20<01:17,  1.75it/s]"
     ]
    },
    {
     "name": "stderr",
     "output_type": "stream",
     "text": [
      "\r",
      " 16%|██████▊                                   | 26/161 [00:20<01:15,  1.78it/s]"
     ]
    },
    {
     "name": "stderr",
     "output_type": "stream",
     "text": [
      "\r",
      " 17%|███████                                   | 27/161 [00:21<01:13,  1.83it/s]"
     ]
    },
    {
     "name": "stderr",
     "output_type": "stream",
     "text": [
      "\r",
      " 17%|███████▎                                  | 28/161 [00:21<01:11,  1.86it/s]"
     ]
    },
    {
     "name": "stderr",
     "output_type": "stream",
     "text": [
      "\r",
      " 18%|███████▌                                  | 29/161 [00:22<01:17,  1.71it/s]"
     ]
    },
    {
     "name": "stderr",
     "output_type": "stream",
     "text": [
      "\r",
      " 19%|███████▊                                  | 30/161 [00:22<01:15,  1.73it/s]"
     ]
    },
    {
     "name": "stderr",
     "output_type": "stream",
     "text": [
      "\r",
      " 19%|████████                                  | 31/161 [00:23<01:14,  1.74it/s]"
     ]
    },
    {
     "name": "stderr",
     "output_type": "stream",
     "text": [
      "\r",
      " 20%|████████▎                                 | 32/161 [00:23<01:10,  1.83it/s]"
     ]
    },
    {
     "name": "stderr",
     "output_type": "stream",
     "text": [
      "\r",
      " 20%|████████▌                                 | 33/161 [00:24<01:07,  1.90it/s]"
     ]
    },
    {
     "name": "stderr",
     "output_type": "stream",
     "text": [
      "\r",
      " 21%|████████▊                                 | 34/161 [00:24<01:05,  1.93it/s]"
     ]
    },
    {
     "name": "stderr",
     "output_type": "stream",
     "text": [
      "\r",
      " 22%|█████████▏                                | 35/161 [00:25<01:03,  1.99it/s]"
     ]
    },
    {
     "name": "stderr",
     "output_type": "stream",
     "text": [
      "\r",
      " 22%|█████████▍                                | 36/161 [00:25<01:04,  1.95it/s]"
     ]
    },
    {
     "name": "stderr",
     "output_type": "stream",
     "text": [
      "\r",
      " 23%|█████████▋                                | 37/161 [00:26<01:02,  1.99it/s]"
     ]
    },
    {
     "name": "stderr",
     "output_type": "stream",
     "text": [
      "\r",
      " 24%|█████████▉                                | 38/161 [00:26<01:02,  1.97it/s]"
     ]
    },
    {
     "name": "stderr",
     "output_type": "stream",
     "text": [
      "\r",
      " 24%|██████████▏                               | 39/161 [00:27<01:01,  1.98it/s]"
     ]
    },
    {
     "name": "stderr",
     "output_type": "stream",
     "text": [
      "\r",
      " 25%|██████████▍                               | 40/161 [00:27<01:01,  1.98it/s]"
     ]
    },
    {
     "name": "stderr",
     "output_type": "stream",
     "text": [
      "\r",
      " 25%|██████████▋                               | 41/161 [00:28<00:59,  2.01it/s]"
     ]
    },
    {
     "name": "stderr",
     "output_type": "stream",
     "text": [
      "\r",
      " 26%|██████████▉                               | 42/161 [00:28<00:59,  2.01it/s]"
     ]
    },
    {
     "name": "stderr",
     "output_type": "stream",
     "text": [
      "\r",
      " 27%|███████████▏                              | 43/161 [00:29<00:57,  2.05it/s]"
     ]
    },
    {
     "name": "stderr",
     "output_type": "stream",
     "text": [
      "\r",
      " 27%|███████████▍                              | 44/161 [00:29<00:56,  2.07it/s]"
     ]
    },
    {
     "name": "stderr",
     "output_type": "stream",
     "text": [
      "\r",
      " 28%|███████████▋                              | 45/161 [00:30<00:55,  2.07it/s]"
     ]
    },
    {
     "name": "stderr",
     "output_type": "stream",
     "text": [
      "\r",
      " 29%|████████████                              | 46/161 [00:30<00:54,  2.10it/s]"
     ]
    },
    {
     "name": "stderr",
     "output_type": "stream",
     "text": [
      "\r",
      " 29%|████████████▎                             | 47/161 [00:31<00:56,  2.03it/s]"
     ]
    },
    {
     "name": "stderr",
     "output_type": "stream",
     "text": [
      "\r",
      " 30%|████████████▌                             | 48/161 [00:31<00:56,  2.01it/s]"
     ]
    },
    {
     "name": "stderr",
     "output_type": "stream",
     "text": [
      "\r",
      " 30%|████████████▊                             | 49/161 [00:32<00:57,  1.96it/s]"
     ]
    },
    {
     "name": "stderr",
     "output_type": "stream",
     "text": [
      "\r",
      " 31%|█████████████                             | 50/161 [00:32<00:55,  2.00it/s]"
     ]
    },
    {
     "name": "stderr",
     "output_type": "stream",
     "text": [
      "\r",
      " 32%|█████████████▎                            | 51/161 [00:33<00:54,  2.00it/s]"
     ]
    },
    {
     "name": "stderr",
     "output_type": "stream",
     "text": [
      "\r",
      " 32%|█████████████▌                            | 52/161 [00:33<00:53,  2.03it/s]"
     ]
    },
    {
     "name": "stderr",
     "output_type": "stream",
     "text": [
      "\r",
      " 33%|█████████████▊                            | 53/161 [00:34<00:52,  2.06it/s]"
     ]
    },
    {
     "name": "stderr",
     "output_type": "stream",
     "text": [
      "\r",
      " 34%|██████████████                            | 54/161 [00:34<00:52,  2.03it/s]"
     ]
    },
    {
     "name": "stderr",
     "output_type": "stream",
     "text": [
      "\r",
      " 34%|██████████████▎                           | 55/161 [00:35<00:51,  2.05it/s]"
     ]
    },
    {
     "name": "stderr",
     "output_type": "stream",
     "text": [
      "\r",
      " 35%|██████████████▌                           | 56/161 [00:35<00:52,  2.01it/s]"
     ]
    },
    {
     "name": "stderr",
     "output_type": "stream",
     "text": [
      "\r",
      " 35%|██████████████▊                           | 57/161 [00:36<00:50,  2.04it/s]"
     ]
    },
    {
     "name": "stderr",
     "output_type": "stream",
     "text": [
      "\r",
      " 36%|███████████████▏                          | 58/161 [00:36<00:50,  2.05it/s]"
     ]
    },
    {
     "name": "stderr",
     "output_type": "stream",
     "text": [
      "\r",
      " 37%|███████████████▍                          | 59/161 [00:37<00:49,  2.07it/s]"
     ]
    },
    {
     "name": "stderr",
     "output_type": "stream",
     "text": [
      "\r",
      " 37%|███████████████▋                          | 60/161 [00:37<00:48,  2.09it/s]"
     ]
    },
    {
     "name": "stderr",
     "output_type": "stream",
     "text": [
      "\r",
      " 38%|███████████████▉                          | 61/161 [00:38<00:47,  2.10it/s]"
     ]
    },
    {
     "name": "stderr",
     "output_type": "stream",
     "text": [
      "\r",
      " 39%|████████████████▏                         | 62/161 [00:38<00:46,  2.11it/s]"
     ]
    },
    {
     "name": "stderr",
     "output_type": "stream",
     "text": [
      "\r",
      " 39%|████████████████▍                         | 63/161 [00:39<00:46,  2.11it/s]"
     ]
    },
    {
     "name": "stderr",
     "output_type": "stream",
     "text": [
      "\r",
      " 40%|████████████████▋                         | 64/161 [00:39<00:45,  2.11it/s]"
     ]
    },
    {
     "name": "stderr",
     "output_type": "stream",
     "text": [
      "\r",
      " 40%|████████████████▉                         | 65/161 [00:40<00:45,  2.11it/s]"
     ]
    },
    {
     "name": "stderr",
     "output_type": "stream",
     "text": [
      "\r",
      " 41%|█████████████████▏                        | 66/161 [00:40<00:45,  2.09it/s]"
     ]
    },
    {
     "name": "stderr",
     "output_type": "stream",
     "text": [
      "\r",
      " 42%|█████████████████▍                        | 67/161 [00:41<00:44,  2.10it/s]"
     ]
    },
    {
     "name": "stderr",
     "output_type": "stream",
     "text": [
      "\r",
      " 42%|█████████████████▋                        | 68/161 [00:41<00:44,  2.09it/s]"
     ]
    },
    {
     "name": "stderr",
     "output_type": "stream",
     "text": [
      "\r",
      " 43%|██████████████████                        | 69/161 [00:42<00:44,  2.09it/s]"
     ]
    },
    {
     "name": "stderr",
     "output_type": "stream",
     "text": [
      "\r",
      " 43%|██████████████████▎                       | 70/161 [00:42<00:43,  2.08it/s]"
     ]
    },
    {
     "name": "stderr",
     "output_type": "stream",
     "text": [
      "\r",
      " 44%|██████████████████▌                       | 71/161 [00:42<00:43,  2.08it/s]"
     ]
    },
    {
     "name": "stderr",
     "output_type": "stream",
     "text": [
      "\r",
      " 45%|██████████████████▊                       | 72/161 [00:43<00:42,  2.07it/s]"
     ]
    },
    {
     "name": "stderr",
     "output_type": "stream",
     "text": [
      "\r",
      " 45%|███████████████████                       | 73/161 [00:43<00:42,  2.08it/s]"
     ]
    },
    {
     "name": "stderr",
     "output_type": "stream",
     "text": [
      "\r",
      " 46%|███████████████████▎                      | 74/161 [00:44<00:41,  2.08it/s]"
     ]
    },
    {
     "name": "stderr",
     "output_type": "stream",
     "text": [
      "\r",
      " 47%|███████████████████▌                      | 75/161 [00:44<00:41,  2.08it/s]"
     ]
    },
    {
     "name": "stderr",
     "output_type": "stream",
     "text": [
      "\r",
      " 47%|███████████████████▊                      | 76/161 [00:45<00:40,  2.08it/s]"
     ]
    },
    {
     "name": "stderr",
     "output_type": "stream",
     "text": [
      "\r",
      " 48%|████████████████████                      | 77/161 [00:45<00:41,  2.05it/s]"
     ]
    },
    {
     "name": "stderr",
     "output_type": "stream",
     "text": [
      "\r",
      " 48%|████████████████████▎                     | 78/161 [00:46<00:40,  2.04it/s]"
     ]
    },
    {
     "name": "stderr",
     "output_type": "stream",
     "text": [
      "\r",
      " 49%|████████████████████▌                     | 79/161 [00:46<00:40,  2.05it/s]"
     ]
    },
    {
     "name": "stderr",
     "output_type": "stream",
     "text": [
      "\r",
      " 50%|████████████████████▊                     | 80/161 [00:47<00:39,  2.06it/s]"
     ]
    },
    {
     "name": "stderr",
     "output_type": "stream",
     "text": [
      "\r",
      " 50%|█████████████████████▏                    | 81/161 [00:47<00:38,  2.06it/s]"
     ]
    },
    {
     "name": "stderr",
     "output_type": "stream",
     "text": [
      "\r",
      " 51%|█████████████████████▍                    | 82/161 [00:48<00:38,  2.06it/s]"
     ]
    },
    {
     "name": "stderr",
     "output_type": "stream",
     "text": [
      "\r",
      " 52%|█████████████████████▋                    | 83/161 [00:48<00:37,  2.06it/s]"
     ]
    },
    {
     "name": "stderr",
     "output_type": "stream",
     "text": [
      "\r",
      " 52%|█████████████████████▉                    | 84/161 [00:49<00:37,  2.06it/s]"
     ]
    },
    {
     "name": "stderr",
     "output_type": "stream",
     "text": [
      "\r",
      " 53%|██████████████████████▏                   | 85/161 [00:49<00:37,  2.05it/s]"
     ]
    },
    {
     "name": "stderr",
     "output_type": "stream",
     "text": [
      "\r",
      " 53%|██████████████████████▍                   | 86/161 [00:50<00:36,  2.05it/s]"
     ]
    },
    {
     "name": "stderr",
     "output_type": "stream",
     "text": [
      "\r",
      " 54%|██████████████████████▋                   | 87/161 [00:50<00:35,  2.06it/s]"
     ]
    },
    {
     "name": "stderr",
     "output_type": "stream",
     "text": [
      "\r",
      " 55%|██████████████████████▉                   | 88/161 [00:51<00:35,  2.06it/s]"
     ]
    },
    {
     "name": "stderr",
     "output_type": "stream",
     "text": [
      "\r",
      " 55%|███████████████████████▏                  | 89/161 [00:51<00:35,  2.01it/s]"
     ]
    },
    {
     "name": "stderr",
     "output_type": "stream",
     "text": [
      "\r",
      " 56%|███████████████████████▍                  | 90/161 [00:52<00:34,  2.04it/s]"
     ]
    },
    {
     "name": "stderr",
     "output_type": "stream",
     "text": [
      "\r",
      " 57%|███████████████████████▋                  | 91/161 [00:52<00:34,  2.05it/s]"
     ]
    },
    {
     "name": "stderr",
     "output_type": "stream",
     "text": [
      "\r",
      " 57%|████████████████████████                  | 92/161 [00:53<00:33,  2.05it/s]"
     ]
    },
    {
     "name": "stderr",
     "output_type": "stream",
     "text": [
      "\r",
      " 58%|████████████████████████▎                 | 93/161 [00:53<00:33,  2.05it/s]"
     ]
    },
    {
     "name": "stderr",
     "output_type": "stream",
     "text": [
      "\r",
      " 58%|████████████████████████▌                 | 94/161 [00:54<00:32,  2.05it/s]"
     ]
    },
    {
     "name": "stderr",
     "output_type": "stream",
     "text": [
      "\r",
      " 59%|████████████████████████▊                 | 95/161 [00:54<00:32,  2.06it/s]"
     ]
    },
    {
     "name": "stderr",
     "output_type": "stream",
     "text": [
      "\r",
      " 60%|█████████████████████████                 | 96/161 [00:55<00:31,  2.07it/s]"
     ]
    },
    {
     "name": "stderr",
     "output_type": "stream",
     "text": [
      "\r",
      " 60%|█████████████████████████▎                | 97/161 [00:55<00:30,  2.07it/s]"
     ]
    },
    {
     "name": "stderr",
     "output_type": "stream",
     "text": [
      "\r",
      " 61%|█████████████████████████▌                | 98/161 [00:56<00:30,  2.07it/s]"
     ]
    },
    {
     "name": "stderr",
     "output_type": "stream",
     "text": [
      "\r",
      " 61%|█████████████████████████▊                | 99/161 [00:56<00:29,  2.07it/s]"
     ]
    },
    {
     "name": "stderr",
     "output_type": "stream",
     "text": [
      "\r",
      " 62%|█████████████████████████▍               | 100/161 [00:57<00:29,  2.07it/s]"
     ]
    },
    {
     "name": "stderr",
     "output_type": "stream",
     "text": [
      "\r",
      " 63%|█████████████████████████▋               | 101/161 [00:57<00:28,  2.07it/s]"
     ]
    },
    {
     "name": "stderr",
     "output_type": "stream",
     "text": [
      "\r",
      " 63%|█████████████████████████▉               | 102/161 [00:58<00:28,  2.07it/s]"
     ]
    },
    {
     "name": "stderr",
     "output_type": "stream",
     "text": [
      "\r",
      " 64%|██████████████████████████▏              | 103/161 [00:58<00:28,  2.07it/s]"
     ]
    },
    {
     "name": "stderr",
     "output_type": "stream",
     "text": [
      "\r",
      " 65%|██████████████████████████▍              | 104/161 [00:59<00:27,  2.06it/s]"
     ]
    },
    {
     "name": "stderr",
     "output_type": "stream",
     "text": [
      "\r",
      " 65%|██████████████████████████▋              | 105/161 [00:59<00:27,  2.05it/s]"
     ]
    },
    {
     "name": "stderr",
     "output_type": "stream",
     "text": [
      "\r",
      " 66%|██████████████████████████▉              | 106/161 [01:00<00:26,  2.05it/s]"
     ]
    },
    {
     "name": "stderr",
     "output_type": "stream",
     "text": [
      "\r",
      " 66%|███████████████████████████▏             | 107/161 [01:00<00:26,  2.06it/s]"
     ]
    },
    {
     "name": "stderr",
     "output_type": "stream",
     "text": [
      "\r",
      " 67%|███████████████████████████▌             | 108/161 [01:00<00:25,  2.06it/s]"
     ]
    },
    {
     "name": "stderr",
     "output_type": "stream",
     "text": [
      "\r",
      " 68%|███████████████████████████▊             | 109/161 [01:01<00:25,  2.05it/s]"
     ]
    },
    {
     "name": "stderr",
     "output_type": "stream",
     "text": [
      "\r",
      " 68%|████████████████████████████             | 110/161 [01:01<00:24,  2.05it/s]"
     ]
    },
    {
     "name": "stderr",
     "output_type": "stream",
     "text": [
      "\r",
      " 69%|████████████████████████████▎            | 111/161 [01:02<00:24,  2.05it/s]"
     ]
    },
    {
     "name": "stderr",
     "output_type": "stream",
     "text": [
      "\r",
      " 70%|████████████████████████████▌            | 112/161 [01:02<00:24,  2.04it/s]"
     ]
    },
    {
     "name": "stderr",
     "output_type": "stream",
     "text": [
      "\r",
      " 70%|████████████████████████████▊            | 113/161 [01:03<00:23,  2.05it/s]"
     ]
    },
    {
     "name": "stderr",
     "output_type": "stream",
     "text": [
      "\r",
      " 71%|█████████████████████████████            | 114/161 [01:03<00:22,  2.05it/s]"
     ]
    },
    {
     "name": "stderr",
     "output_type": "stream",
     "text": [
      "\r",
      " 71%|█████████████████████████████▎           | 115/161 [01:04<00:22,  2.05it/s]"
     ]
    },
    {
     "name": "stderr",
     "output_type": "stream",
     "text": [
      "\r",
      " 72%|█████████████████████████████▌           | 116/161 [01:04<00:22,  2.01it/s]"
     ]
    },
    {
     "name": "stderr",
     "output_type": "stream",
     "text": [
      "\r",
      " 73%|█████████████████████████████▊           | 117/161 [01:05<00:21,  2.02it/s]"
     ]
    },
    {
     "name": "stderr",
     "output_type": "stream",
     "text": [
      "\r",
      " 73%|██████████████████████████████           | 118/161 [01:05<00:21,  2.03it/s]"
     ]
    },
    {
     "name": "stderr",
     "output_type": "stream",
     "text": [
      "\r",
      " 74%|██████████████████████████████▎          | 119/161 [01:06<00:20,  2.03it/s]"
     ]
    },
    {
     "name": "stderr",
     "output_type": "stream",
     "text": [
      "\r",
      " 75%|██████████████████████████████▌          | 120/161 [01:06<00:20,  2.05it/s]"
     ]
    },
    {
     "name": "stderr",
     "output_type": "stream",
     "text": [
      "\r",
      " 75%|██████████████████████████████▊          | 121/161 [01:07<00:19,  2.04it/s]"
     ]
    },
    {
     "name": "stderr",
     "output_type": "stream",
     "text": [
      "\r",
      " 76%|███████████████████████████████          | 122/161 [01:07<00:19,  2.04it/s]"
     ]
    },
    {
     "name": "stderr",
     "output_type": "stream",
     "text": [
      "\r",
      " 76%|███████████████████████████████▎         | 123/161 [01:08<00:18,  2.03it/s]"
     ]
    },
    {
     "name": "stderr",
     "output_type": "stream",
     "text": [
      "\r",
      " 77%|███████████████████████████████▌         | 124/161 [01:08<00:18,  2.04it/s]"
     ]
    },
    {
     "name": "stderr",
     "output_type": "stream",
     "text": [
      "\r",
      " 78%|███████████████████████████████▊         | 125/161 [01:09<00:17,  2.04it/s]"
     ]
    },
    {
     "name": "stderr",
     "output_type": "stream",
     "text": [
      "\r",
      " 78%|████████████████████████████████         | 126/161 [01:09<00:17,  2.05it/s]"
     ]
    },
    {
     "name": "stderr",
     "output_type": "stream",
     "text": [
      "\r",
      " 79%|████████████████████████████████▎        | 127/161 [01:10<00:16,  2.03it/s]"
     ]
    },
    {
     "name": "stderr",
     "output_type": "stream",
     "text": [
      "\r",
      " 80%|████████████████████████████████▌        | 128/161 [01:10<00:16,  2.03it/s]"
     ]
    },
    {
     "name": "stderr",
     "output_type": "stream",
     "text": [
      "\r",
      " 80%|████████████████████████████████▊        | 129/161 [01:11<00:15,  2.03it/s]"
     ]
    },
    {
     "name": "stderr",
     "output_type": "stream",
     "text": [
      "\r",
      " 81%|█████████████████████████████████        | 130/161 [01:11<00:15,  2.03it/s]"
     ]
    },
    {
     "name": "stderr",
     "output_type": "stream",
     "text": [
      "\r",
      " 81%|█████████████████████████████████▎       | 131/161 [01:12<00:15,  1.97it/s]"
     ]
    },
    {
     "name": "stderr",
     "output_type": "stream",
     "text": [
      "\r",
      " 82%|█████████████████████████████████▌       | 132/161 [01:12<00:14,  1.99it/s]"
     ]
    },
    {
     "name": "stderr",
     "output_type": "stream",
     "text": [
      "\r",
      " 83%|█████████████████████████████████▊       | 133/161 [01:13<00:14,  1.99it/s]"
     ]
    },
    {
     "name": "stderr",
     "output_type": "stream",
     "text": [
      "\r",
      " 83%|██████████████████████████████████       | 134/161 [01:13<00:13,  2.01it/s]"
     ]
    },
    {
     "name": "stderr",
     "output_type": "stream",
     "text": [
      "\r",
      " 84%|██████████████████████████████████▍      | 135/161 [01:14<00:12,  2.03it/s]"
     ]
    },
    {
     "name": "stderr",
     "output_type": "stream",
     "text": [
      "\r",
      " 84%|██████████████████████████████████▋      | 136/161 [01:14<00:12,  2.03it/s]"
     ]
    },
    {
     "name": "stderr",
     "output_type": "stream",
     "text": [
      "\r",
      " 85%|██████████████████████████████████▉      | 137/161 [01:15<00:11,  2.04it/s]"
     ]
    },
    {
     "name": "stderr",
     "output_type": "stream",
     "text": [
      "\r",
      " 86%|███████████████████████████████████▏     | 138/161 [01:15<00:11,  2.02it/s]"
     ]
    },
    {
     "name": "stderr",
     "output_type": "stream",
     "text": [
      "\r",
      " 86%|███████████████████████████████████▍     | 139/161 [01:16<00:10,  2.03it/s]"
     ]
    },
    {
     "name": "stderr",
     "output_type": "stream",
     "text": [
      "\r",
      " 87%|███████████████████████████████████▋     | 140/161 [01:16<00:10,  2.03it/s]"
     ]
    },
    {
     "name": "stderr",
     "output_type": "stream",
     "text": [
      "\r",
      " 88%|███████████████████████████████████▉     | 141/161 [01:17<00:09,  2.03it/s]"
     ]
    },
    {
     "name": "stderr",
     "output_type": "stream",
     "text": [
      "\r",
      " 88%|████████████████████████████████████▏    | 142/161 [01:17<00:09,  2.02it/s]"
     ]
    },
    {
     "name": "stderr",
     "output_type": "stream",
     "text": [
      "\r",
      " 89%|████████████████████████████████████▍    | 143/161 [01:18<00:08,  2.03it/s]"
     ]
    },
    {
     "name": "stderr",
     "output_type": "stream",
     "text": [
      "\r",
      " 89%|████████████████████████████████████▋    | 144/161 [01:18<00:08,  2.03it/s]"
     ]
    },
    {
     "name": "stderr",
     "output_type": "stream",
     "text": [
      "\r",
      " 90%|████████████████████████████████████▉    | 145/161 [01:19<00:07,  2.04it/s]"
     ]
    },
    {
     "name": "stderr",
     "output_type": "stream",
     "text": [
      "\r",
      " 91%|█████████████████████████████████████▏   | 146/161 [01:19<00:07,  2.03it/s]"
     ]
    },
    {
     "name": "stderr",
     "output_type": "stream",
     "text": [
      "\r",
      " 91%|█████████████████████████████████████▍   | 147/161 [01:20<00:06,  2.02it/s]"
     ]
    },
    {
     "name": "stderr",
     "output_type": "stream",
     "text": [
      "\r",
      " 92%|█████████████████████████████████████▋   | 148/161 [01:20<00:06,  2.02it/s]"
     ]
    },
    {
     "name": "stderr",
     "output_type": "stream",
     "text": [
      "\r",
      " 93%|█████████████████████████████████████▉   | 149/161 [01:21<00:05,  2.02it/s]"
     ]
    },
    {
     "name": "stderr",
     "output_type": "stream",
     "text": [
      "\r",
      " 93%|██████████████████████████████████████▏  | 150/161 [01:21<00:05,  2.04it/s]"
     ]
    },
    {
     "name": "stderr",
     "output_type": "stream",
     "text": [
      "\r",
      " 94%|██████████████████████████████████████▍  | 151/161 [01:22<00:04,  2.04it/s]"
     ]
    },
    {
     "name": "stderr",
     "output_type": "stream",
     "text": [
      "\r",
      " 94%|██████████████████████████████████████▋  | 152/161 [01:22<00:04,  2.05it/s]"
     ]
    },
    {
     "name": "stderr",
     "output_type": "stream",
     "text": [
      "\r",
      " 95%|██████████████████████████████████████▉  | 153/161 [01:23<00:03,  2.05it/s]"
     ]
    },
    {
     "name": "stderr",
     "output_type": "stream",
     "text": [
      "\r",
      " 96%|███████████████████████████████████████▏ | 154/161 [01:23<00:03,  2.03it/s]"
     ]
    },
    {
     "name": "stderr",
     "output_type": "stream",
     "text": [
      "\r",
      " 96%|███████████████████████████████████████▍ | 155/161 [01:24<00:02,  2.04it/s]"
     ]
    },
    {
     "name": "stderr",
     "output_type": "stream",
     "text": [
      "\r",
      " 97%|███████████████████████████████████████▋ | 156/161 [01:24<00:02,  2.04it/s]"
     ]
    },
    {
     "name": "stderr",
     "output_type": "stream",
     "text": [
      "\r",
      " 98%|███████████████████████████████████████▉ | 157/161 [01:25<00:01,  2.04it/s]"
     ]
    },
    {
     "name": "stderr",
     "output_type": "stream",
     "text": [
      "\r",
      " 98%|████████████████████████████████████████▏| 158/161 [01:25<00:01,  2.06it/s]"
     ]
    },
    {
     "name": "stderr",
     "output_type": "stream",
     "text": [
      "\r",
      " 99%|████████████████████████████████████████▍| 159/161 [01:26<00:00,  2.06it/s]"
     ]
    },
    {
     "name": "stderr",
     "output_type": "stream",
     "text": [
      "\r",
      " 99%|████████████████████████████████████████▋| 160/161 [01:26<00:00,  2.05it/s]"
     ]
    },
    {
     "name": "stderr",
     "output_type": "stream",
     "text": [
      "\r",
      "100%|█████████████████████████████████████████| 161/161 [01:27<00:00,  2.07it/s]"
     ]
    },
    {
     "name": "stderr",
     "output_type": "stream",
     "text": [
      "\r",
      "100%|█████████████████████████████████████████| 161/161 [01:27<00:00,  1.85it/s]"
     ]
    },
    {
     "name": "stderr",
     "output_type": "stream",
     "text": [
      "\n"
     ]
    }
   ],
   "source": [
    "filter_df=pd.DataFrame()\n",
    "fund_df = pub_df[['id','author_distinct','funder_distinct']].explode('funder_distinct')\n",
    "cntrys=fund_df.funder_distinct.unique()\n",
    "\n",
    "for cntry in tqdm.tqdm(cntrys):\n",
    "    country_profile=build_country_profile(pub_df, fund_df, cntry)\n",
    "    country_profile['srce_cntry']=cntry\n",
    "    filter_df=pd.concat([filter_df,country_profile])"
   ]
  },
  {
   "cell_type": "code",
   "execution_count": 8,
   "id": "furnished-damage",
   "metadata": {
    "execution": {
     "iopub.execute_input": "2024-02-29T07:05:55.629634Z",
     "iopub.status.busy": "2024-02-29T07:05:55.629199Z",
     "iopub.status.idle": "2024-02-29T07:05:55.864550Z",
     "shell.execute_reply": "2024-02-29T07:05:55.863567Z"
    },
    "papermill": {
     "duration": 0.249666,
     "end_time": "2024-02-29T07:05:55.867814",
     "exception": false,
     "start_time": "2024-02-29T07:05:55.618148",
     "status": "completed"
    },
    "tags": []
   },
   "outputs": [],
   "source": [
    "filter_df=filter_df.groupby(['author_distinct','srce_cntry'])['count'].sum().reset_index()\n",
    "filter_df=filter_df.rename(columns={'count':'filter'})"
   ]
  },
  {
   "cell_type": "code",
   "execution_count": 9,
   "id": "2ed358de-d8cf-4070-b199-87ceb5bdf5cd",
   "metadata": {
    "execution": {
     "iopub.execute_input": "2024-02-29T07:05:55.894441Z",
     "iopub.status.busy": "2024-02-29T07:05:55.893984Z",
     "iopub.status.idle": "2024-02-29T07:05:56.841808Z",
     "shell.execute_reply": "2024-02-29T07:05:56.840828Z"
    },
    "papermill": {
     "duration": 0.961892,
     "end_time": "2024-02-29T07:05:56.845039",
     "exception": false,
     "start_time": "2024-02-29T07:05:55.883147",
     "status": "completed"
    },
    "tags": []
   },
   "outputs": [],
   "source": [
    "raw_df=pd.read_csv(cntry_full_path)\n",
    "raw_df = raw_df.groupby(['cntry'])['count'].sum().reset_index(name='raw')"
   ]
  },
  {
   "cell_type": "code",
   "execution_count": 10,
   "id": "0ad4270f-0148-4c87-bf37-f86354a10067",
   "metadata": {
    "execution": {
     "iopub.execute_input": "2024-02-29T07:05:56.871233Z",
     "iopub.status.busy": "2024-02-29T07:05:56.870683Z",
     "iopub.status.idle": "2024-02-29T07:05:56.883884Z",
     "shell.execute_reply": "2024-02-29T07:05:56.883138Z"
    },
    "papermill": {
     "duration": 0.026552,
     "end_time": "2024-02-29T07:05:56.886257",
     "exception": false,
     "start_time": "2024-02-29T07:05:56.859705",
     "status": "completed"
    },
    "tags": []
   },
   "outputs": [],
   "source": [
    "meta=raw_df.merge(filter_df,left_on='cntry', right_on='author_distinct')\n",
    "meta['p']=(meta['raw']-meta['filter'])/meta['raw']"
   ]
  },
  {
   "cell_type": "code",
   "execution_count": 11,
   "id": "d97834cc-74c1-4f87-9f3d-ed3b2b45ba1d",
   "metadata": {
    "execution": {
     "iopub.execute_input": "2024-02-29T07:05:56.910295Z",
     "iopub.status.busy": "2024-02-29T07:05:56.909693Z",
     "iopub.status.idle": "2024-02-29T07:05:56.924581Z",
     "shell.execute_reply": "2024-02-29T07:05:56.923835Z"
    },
    "papermill": {
     "duration": 0.028041,
     "end_time": "2024-02-29T07:05:56.927013",
     "exception": false,
     "start_time": "2024-02-29T07:05:56.898972",
     "status": "completed"
    },
    "tags": []
   },
   "outputs": [],
   "source": [
    "meta=meta[['srce_cntry','cntry','raw','filter','p']]\n",
    "meta=meta.rename(columns={'srce_cntry':'source','cntry':'target','raw':'raw_pub','filter':'filter_pub'})\n",
    "meta=meta[meta.source!='Not-Funded']"
   ]
  },
  {
   "cell_type": "code",
   "execution_count": 12,
   "id": "eleven-newfoundland",
   "metadata": {
    "execution": {
     "iopub.execute_input": "2024-02-29T07:05:56.952551Z",
     "iopub.status.busy": "2024-02-29T07:05:56.952174Z",
     "iopub.status.idle": "2024-02-29T07:05:58.332915Z",
     "shell.execute_reply": "2024-02-29T07:05:58.331559Z"
    },
    "papermill": {
     "duration": 1.395023,
     "end_time": "2024-02-29T07:05:58.336562",
     "exception": false,
     "start_time": "2024-02-29T07:05:56.941539",
     "status": "completed"
    },
    "tags": []
   },
   "outputs": [],
   "source": [
    "meta.to_csv(profile_path, index=False)"
   ]
  },
  {
   "cell_type": "code",
   "execution_count": null,
   "id": "c2a98ea9-1cf9-4aab-98c0-ebfd94fe8a8b",
   "metadata": {
    "papermill": {
     "duration": 0.009778,
     "end_time": "2024-02-29T07:05:58.361245",
     "exception": false,
     "start_time": "2024-02-29T07:05:58.351467",
     "status": "completed"
    },
    "tags": []
   },
   "outputs": [],
   "source": []
  }
 ],
 "metadata": {
  "kernelspec": {
   "display_name": "Python 3 (ipykernel)",
   "language": "python",
   "name": "python3"
  },
  "language_info": {
   "codemirror_mode": {
    "name": "ipython",
    "version": 3
   },
   "file_extension": ".py",
   "mimetype": "text/x-python",
   "name": "python",
   "nbconvert_exporter": "python",
   "pygments_lexer": "ipython3",
   "version": "3.8.16"
  },
  "papermill": {
   "default_parameters": {},
   "duration": 97.077717,
   "end_time": "2024-02-29T07:05:58.990999",
   "environment_variables": {},
   "exception": null,
   "input_path": "scripts/build_profile_without_allcountries.ipynb",
   "output_path": "scripts/outputs/build_profile_without_allcountries.ipynb",
   "parameters": {
    "cntry_full_path": "../data/NationalFunding/Data/simulated_data/Data/DerivedData/Derived/cntry_author_full.csv",
    "profile_path": "../data/NationalFunding/Data/simulated_data/Data/DerivedData/Derived/dependence/pub_noforeign_fund_all2all.csv",
    "pubs_path": "../data/NationalFunding/Data/simulated_data/Data/DerivedData/CleanedRawData/pub.pkl"
   },
   "start_time": "2024-02-29T07:04:21.913282",
   "version": "2.3.4"
  }
 },
 "nbformat": 4,
 "nbformat_minor": 5
}