{
 "cells": [
  {
   "cell_type": "markdown",
   "id": "falling-advocate",
   "metadata": {
    "papermill": {
     "duration": 0.003496,
     "end_time": "2023-08-21T17:43:18.117520",
     "exception": false,
     "start_time": "2023-08-21T17:43:18.114024",
     "status": "completed"
    },
    "tags": []
   },
   "source": [
    "this script builds research profile of countries after internationally funded publications from a **specific** country is removed. Here the removing standard is remove a paper that funding from the specific country flows to other countries, e.g., USA funded paper is authored by China. \n",
    "\n",
    "**all countries are removed iteratively**"
   ]
  },
  {
   "cell_type": "code",
   "execution_count": 1,
   "id": "vocal-version",
   "metadata": {
    "execution": {
     "iopub.execute_input": "2023-08-21T17:43:18.125335Z",
     "iopub.status.busy": "2023-08-21T17:43:18.124282Z",
     "iopub.status.idle": "2023-08-21T17:43:18.480738Z",
     "shell.execute_reply": "2023-08-21T17:43:18.479912Z"
    },
    "papermill": {
     "duration": 0.363628,
     "end_time": "2023-08-21T17:43:18.484058",
     "exception": false,
     "start_time": "2023-08-21T17:43:18.120430",
     "status": "completed"
    },
    "tags": []
   },
   "outputs": [],
   "source": [
    "import pandas as pd\n",
    "import tqdm"
   ]
  },
  {
   "cell_type": "code",
   "execution_count": 2,
   "id": "ideal-function",
   "metadata": {
    "execution": {
     "iopub.execute_input": "2023-08-21T17:43:18.496443Z",
     "iopub.status.busy": "2023-08-21T17:43:18.495269Z",
     "iopub.status.idle": "2023-08-21T17:43:18.501571Z",
     "shell.execute_reply": "2023-08-21T17:43:18.500480Z"
    },
    "papermill": {
     "duration": 0.012995,
     "end_time": "2023-08-21T17:43:18.503373",
     "exception": false,
     "start_time": "2023-08-21T17:43:18.490378",
     "status": "completed"
    },
    "tags": [
     "parameters"
    ]
   },
   "outputs": [],
   "source": [
    "pubs_path=\"../../data/nf_folder/Data/DerivedData/CleanedRawData/pub.pkl\"\n",
    "cntry_full_path=\"../../data/nf_folder/Data/DerivedData/Derived/cntry_author_full.csv\"\n",
    "\n",
    "profile_path=\"../../../data/nf_folder/Data/DerivedData/Derived/dep-FundExchange/pub_no_foreign_individual_allcountries.csv\""
   ]
  },
  {
   "cell_type": "code",
   "execution_count": 3,
   "id": "534b0e92",
   "metadata": {
    "execution": {
     "iopub.execute_input": "2023-08-21T17:43:18.509899Z",
     "iopub.status.busy": "2023-08-21T17:43:18.509636Z",
     "iopub.status.idle": "2023-08-21T17:43:18.512968Z",
     "shell.execute_reply": "2023-08-21T17:43:18.512326Z"
    },
    "papermill": {
     "duration": 0.007996,
     "end_time": "2023-08-21T17:43:18.514232",
     "exception": false,
     "start_time": "2023-08-21T17:43:18.506236",
     "status": "completed"
    },
    "tags": [
     "injected-parameters"
    ]
   },
   "outputs": [],
   "source": [
    "# Parameters\n",
    "pubs_path = \"../data/NationalFunding/Data/DerivedData/CleanedRawData/pub.pkl\"\n",
    "cntry_full_path = (\n",
    "    \"../data/NationalFunding/Data/DerivedData/Derived/cntry_author_full.csv\"\n",
    ")\n",
    "profile_path = \"../data/NationalFunding/Data/DerivedData/Derived/dependence/pub_noforeign_fund_all2all.csv\"\n"
   ]
  },
  {
   "cell_type": "code",
   "execution_count": 4,
   "id": "flush-peripheral",
   "metadata": {
    "execution": {
     "iopub.execute_input": "2023-08-21T17:43:18.519750Z",
     "iopub.status.busy": "2023-08-21T17:43:18.519252Z",
     "iopub.status.idle": "2023-08-21T17:44:08.601211Z",
     "shell.execute_reply": "2023-08-21T17:44:08.600369Z"
    },
    "papermill": {
     "duration": 50.09389,
     "end_time": "2023-08-21T17:44:08.610221",
     "exception": false,
     "start_time": "2023-08-21T17:43:18.516331",
     "status": "completed"
    },
    "tags": []
   },
   "outputs": [
    {
     "data": {
      "text/html": [
       "<div>\n",
       "<style scoped>\n",
       "    .dataframe tbody tr th:only-of-type {\n",
       "        vertical-align: middle;\n",
       "    }\n",
       "\n",
       "    .dataframe tbody tr th {\n",
       "        vertical-align: top;\n",
       "    }\n",
       "\n",
       "    .dataframe thead th {\n",
       "        text-align: right;\n",
       "    }\n",
       "</style>\n",
       "<table border=\"1\" class=\"dataframe\">\n",
       "  <thead>\n",
       "    <tr style=\"text-align: right;\">\n",
       "      <th></th>\n",
       "      <th>id</th>\n",
       "      <th>year</th>\n",
       "      <th>dis</th>\n",
       "      <th>type</th>\n",
       "      <th>author</th>\n",
       "      <th>funder</th>\n",
       "      <th>author_distinct</th>\n",
       "      <th>funder_distinct</th>\n",
       "      <th>funded</th>\n",
       "      <th>IntCol</th>\n",
       "      <th>cofund</th>\n",
       "      <th>intfund</th>\n",
       "    </tr>\n",
       "  </thead>\n",
       "  <tbody>\n",
       "    <tr>\n",
       "      <th>0</th>\n",
       "      <td>60694041</td>\n",
       "      <td>2017</td>\n",
       "      <td>9</td>\n",
       "      <td>1</td>\n",
       "      <td>[Canada, United States]</td>\n",
       "      <td>[United States, United States]</td>\n",
       "      <td>[Canada, United States]</td>\n",
       "      <td>[United States]</td>\n",
       "      <td>1</td>\n",
       "      <td>1</td>\n",
       "      <td>0</td>\n",
       "      <td>0</td>\n",
       "    </tr>\n",
       "    <tr>\n",
       "      <th>1</th>\n",
       "      <td>48573156</td>\n",
       "      <td>2012</td>\n",
       "      <td>89</td>\n",
       "      <td>1</td>\n",
       "      <td>[France]</td>\n",
       "      <td>Not-Funded</td>\n",
       "      <td>[France]</td>\n",
       "      <td>Not-Funded</td>\n",
       "      <td>0</td>\n",
       "      <td>0</td>\n",
       "      <td>0</td>\n",
       "      <td>0</td>\n",
       "    </tr>\n",
       "    <tr>\n",
       "      <th>2</th>\n",
       "      <td>55323671</td>\n",
       "      <td>2015</td>\n",
       "      <td>89</td>\n",
       "      <td>1</td>\n",
       "      <td>[France, Chile]</td>\n",
       "      <td>[Chile, Chile, Chile, Chile, Chile]</td>\n",
       "      <td>[France, Chile]</td>\n",
       "      <td>[Chile]</td>\n",
       "      <td>1</td>\n",
       "      <td>1</td>\n",
       "      <td>0</td>\n",
       "      <td>0</td>\n",
       "    </tr>\n",
       "    <tr>\n",
       "      <th>3</th>\n",
       "      <td>57633115</td>\n",
       "      <td>2016</td>\n",
       "      <td>31</td>\n",
       "      <td>1</td>\n",
       "      <td>[Switzerland, United States]</td>\n",
       "      <td>[Switzerland]</td>\n",
       "      <td>[Switzerland, United States]</td>\n",
       "      <td>[Switzerland]</td>\n",
       "      <td>1</td>\n",
       "      <td>1</td>\n",
       "      <td>0</td>\n",
       "      <td>0</td>\n",
       "    </tr>\n",
       "    <tr>\n",
       "      <th>4</th>\n",
       "      <td>64831413</td>\n",
       "      <td>2018</td>\n",
       "      <td>99</td>\n",
       "      <td>1</td>\n",
       "      <td>[China]</td>\n",
       "      <td>[China, China, China, China, China, China]</td>\n",
       "      <td>[China]</td>\n",
       "      <td>[China]</td>\n",
       "      <td>1</td>\n",
       "      <td>0</td>\n",
       "      <td>0</td>\n",
       "      <td>0</td>\n",
       "    </tr>\n",
       "  </tbody>\n",
       "</table>\n",
       "</div>"
      ],
      "text/plain": [
       "         id  year  dis  type                        author   \n",
       "0  60694041  2017    9     1       [Canada, United States]  \\\n",
       "1  48573156  2012   89     1                      [France]   \n",
       "2  55323671  2015   89     1               [France, Chile]   \n",
       "3  57633115  2016   31     1  [Switzerland, United States]   \n",
       "4  64831413  2018   99     1                       [China]   \n",
       "\n",
       "                                       funder               author_distinct   \n",
       "0              [United States, United States]       [Canada, United States]  \\\n",
       "1                                  Not-Funded                      [France]   \n",
       "2         [Chile, Chile, Chile, Chile, Chile]               [France, Chile]   \n",
       "3                               [Switzerland]  [Switzerland, United States]   \n",
       "4  [China, China, China, China, China, China]                       [China]   \n",
       "\n",
       "   funder_distinct  funded  IntCol  cofund  intfund  \n",
       "0  [United States]       1       1       0        0  \n",
       "1       Not-Funded       0       0       0        0  \n",
       "2          [Chile]       1       1       0        0  \n",
       "3    [Switzerland]       1       1       0        0  \n",
       "4          [China]       1       0       0        0  "
      ]
     },
     "execution_count": 4,
     "metadata": {},
     "output_type": "execute_result"
    }
   ],
   "source": [
    "pub_df=pd.read_pickle(pubs_path)\n",
    "pub_df.head()"
   ]
  },
  {
   "cell_type": "code",
   "execution_count": 5,
   "id": "outdoor-large",
   "metadata": {
    "execution": {
     "iopub.execute_input": "2023-08-21T17:44:08.617109Z",
     "iopub.status.busy": "2023-08-21T17:44:08.616527Z",
     "iopub.status.idle": "2023-08-21T17:44:08.625618Z",
     "shell.execute_reply": "2023-08-21T17:44:08.624744Z"
    },
    "papermill": {
     "duration": 0.014795,
     "end_time": "2023-08-21T17:44:08.627626",
     "exception": false,
     "start_time": "2023-08-21T17:44:08.612831",
     "status": "completed"
    },
    "tags": []
   },
   "outputs": [],
   "source": [
    "def get_publications_to_remove(fund_df,cntry):\n",
    "    \"\"\"Returns a list of publication IDs that are funded by a specific country\n",
    "    and are either internationally coauthored or authored by other countries.\"\"\"\n",
    "    def assign_label(authors, cntry):\n",
    "        \n",
    "        if len(authors)>1 or authors[0]!=cntry:\n",
    "            return 1\n",
    "        else:\n",
    "            return 0\n",
    "    \n",
    "    df=fund_df[fund_df.funder_distinct==cntry].copy()\n",
    "    df['label']=df.apply(lambda x: assign_label(x.author_distinct,cntry),axis=1)\n",
    "    removeid=list(df[df.label==1]['id'].unique())\n",
    "    \n",
    "    return removeid"
   ]
  },
  {
   "cell_type": "code",
   "execution_count": 6,
   "id": "hollow-strength",
   "metadata": {
    "execution": {
     "iopub.execute_input": "2023-08-21T17:44:08.639261Z",
     "iopub.status.busy": "2023-08-21T17:44:08.638410Z",
     "iopub.status.idle": "2023-08-21T17:44:08.645834Z",
     "shell.execute_reply": "2023-08-21T17:44:08.644980Z"
    },
    "papermill": {
     "duration": 0.014887,
     "end_time": "2023-08-21T17:44:08.647587",
     "exception": false,
     "start_time": "2023-08-21T17:44:08.632700",
     "status": "completed"
    },
    "tags": []
   },
   "outputs": [],
   "source": [
    "def build_country_profile(pub_df, fund_df, cntry):\n",
    "    \"\"\"construct the research profile of rest of countries when the internationally-funded publications are removed\n",
    "    \"\"\"\n",
    "    \n",
    "    removeid=get_publications_to_remove(fund_df, cntry)\n",
    "    df=pub_df[~pub_df['id'].isin(removeid)]\n",
    "    df=df[['id','dis','author_distinct']].explode('author_distinct') #assign papers to authorship countries using full counting\n",
    "    df=df.groupby(['author_distinct','dis']).size().reset_index(name='count')\n",
    "    \n",
    "    return df"
   ]
  },
  {
   "cell_type": "code",
   "execution_count": 7,
   "id": "ecdf2909-50c8-46af-acae-487eca274f68",
   "metadata": {
    "execution": {
     "iopub.execute_input": "2023-08-21T17:44:08.656438Z",
     "iopub.status.busy": "2023-08-21T17:44:08.655789Z",
     "iopub.status.idle": "2023-08-21T18:15:48.223019Z",
     "shell.execute_reply": "2023-08-21T18:15:48.221947Z"
    },
    "papermill": {
     "duration": 1899.587699,
     "end_time": "2023-08-21T18:15:48.239103",
     "exception": false,
     "start_time": "2023-08-21T17:44:08.651404",
     "status": "completed"
    },
    "tags": []
   },
   "outputs": [
    {
     "name": "stderr",
     "output_type": "stream",
     "text": [
      "\r",
      "  0%|                                                   | 0/192 [00:00<?, ?it/s]"
     ]
    },
    {
     "name": "stderr",
     "output_type": "stream",
     "text": [
      "\r",
      "  1%|▏                                        | 1/192 [00:26<1:24:03, 26.40s/it]"
     ]
    },
    {
     "name": "stderr",
     "output_type": "stream",
     "text": [
      "\r",
      "  1%|▍                                        | 2/192 [01:18<2:10:45, 41.29s/it]"
     ]
    },
    {
     "name": "stderr",
     "output_type": "stream",
     "text": [
      "\r",
      "  2%|▋                                        | 3/192 [01:27<1:24:29, 26.82s/it]"
     ]
    },
    {
     "name": "stderr",
     "output_type": "stream",
     "text": [
      "\r",
      "  2%|▊                                        | 4/192 [01:38<1:03:43, 20.34s/it]"
     ]
    },
    {
     "name": "stderr",
     "output_type": "stream",
     "text": [
      "\r",
      "  3%|█                                        | 5/192 [02:03<1:08:40, 22.04s/it]"
     ]
    },
    {
     "name": "stderr",
     "output_type": "stream",
     "text": [
      "\r",
      "  3%|█▎                                         | 6/192 [02:14<57:23, 18.51s/it]"
     ]
    },
    {
     "name": "stderr",
     "output_type": "stream",
     "text": [
      "\r",
      "  4%|█▌                                         | 7/192 [02:27<51:19, 16.64s/it]"
     ]
    },
    {
     "name": "stderr",
     "output_type": "stream",
     "text": [
      "\r",
      "  4%|█▊                                         | 8/192 [02:40<47:15, 15.41s/it]"
     ]
    },
    {
     "name": "stderr",
     "output_type": "stream",
     "text": [
      "\r",
      "  5%|██                                         | 9/192 [02:50<41:32, 13.62s/it]"
     ]
    },
    {
     "name": "stderr",
     "output_type": "stream",
     "text": [
      "\r",
      "  5%|██▏                                       | 10/192 [03:02<40:25, 13.33s/it]"
     ]
    },
    {
     "name": "stderr",
     "output_type": "stream",
     "text": [
      "\r",
      "  6%|██▍                                       | 11/192 [03:15<39:22, 13.05s/it]"
     ]
    },
    {
     "name": "stderr",
     "output_type": "stream",
     "text": [
      "\r",
      "  6%|██▋                                       | 12/192 [03:26<37:16, 12.43s/it]"
     ]
    },
    {
     "name": "stderr",
     "output_type": "stream",
     "text": [
      "\r",
      "  7%|██▊                                       | 13/192 [03:37<35:58, 12.06s/it]"
     ]
    },
    {
     "name": "stderr",
     "output_type": "stream",
     "text": [
      "\r",
      "  7%|███                                       | 14/192 [03:46<33:30, 11.30s/it]"
     ]
    },
    {
     "name": "stderr",
     "output_type": "stream",
     "text": [
      "\r",
      "  8%|███▎                                      | 15/192 [03:56<31:40, 10.74s/it]"
     ]
    },
    {
     "name": "stderr",
     "output_type": "stream",
     "text": [
      "\r",
      "  8%|███▌                                      | 16/192 [04:08<32:33, 11.10s/it]"
     ]
    },
    {
     "name": "stderr",
     "output_type": "stream",
     "text": [
      "\r",
      "  9%|███▋                                      | 17/192 [04:18<31:30, 10.80s/it]"
     ]
    },
    {
     "name": "stderr",
     "output_type": "stream",
     "text": [
      "\r",
      "  9%|███▉                                      | 18/192 [04:28<30:17, 10.44s/it]"
     ]
    },
    {
     "name": "stderr",
     "output_type": "stream",
     "text": [
      "\r",
      " 10%|████▏                                     | 19/192 [04:37<29:11, 10.12s/it]"
     ]
    },
    {
     "name": "stderr",
     "output_type": "stream",
     "text": [
      "\r",
      " 10%|████▍                                     | 20/192 [04:47<29:16, 10.21s/it]"
     ]
    },
    {
     "name": "stderr",
     "output_type": "stream",
     "text": [
      "\r",
      " 11%|████▌                                     | 21/192 [04:58<29:50, 10.47s/it]"
     ]
    },
    {
     "name": "stderr",
     "output_type": "stream",
     "text": [
      "\r",
      " 11%|████▊                                     | 22/192 [05:09<29:22, 10.37s/it]"
     ]
    },
    {
     "name": "stderr",
     "output_type": "stream",
     "text": [
      "\r",
      " 12%|█████                                     | 23/192 [05:18<28:36, 10.16s/it]"
     ]
    },
    {
     "name": "stderr",
     "output_type": "stream",
     "text": [
      "\r",
      " 12%|█████▎                                    | 24/192 [05:29<29:11, 10.43s/it]"
     ]
    },
    {
     "name": "stderr",
     "output_type": "stream",
     "text": [
      "\r",
      " 13%|█████▍                                    | 25/192 [05:39<28:17, 10.16s/it]"
     ]
    },
    {
     "name": "stderr",
     "output_type": "stream",
     "text": [
      "\r",
      " 14%|█████▋                                    | 26/192 [05:49<27:48, 10.05s/it]"
     ]
    },
    {
     "name": "stderr",
     "output_type": "stream",
     "text": [
      "\r",
      " 14%|█████▉                                    | 27/192 [05:59<28:07, 10.23s/it]"
     ]
    },
    {
     "name": "stderr",
     "output_type": "stream",
     "text": [
      "\r",
      " 15%|██████▏                                   | 28/192 [06:11<29:16, 10.71s/it]"
     ]
    },
    {
     "name": "stderr",
     "output_type": "stream",
     "text": [
      "\r",
      " 15%|██████▎                                   | 29/192 [06:21<28:08, 10.36s/it]"
     ]
    },
    {
     "name": "stderr",
     "output_type": "stream",
     "text": [
      "\r",
      " 16%|██████▌                                   | 30/192 [06:30<27:01, 10.01s/it]"
     ]
    },
    {
     "name": "stderr",
     "output_type": "stream",
     "text": [
      "\r",
      " 16%|██████▊                                   | 31/192 [06:39<26:34,  9.91s/it]"
     ]
    },
    {
     "name": "stderr",
     "output_type": "stream",
     "text": [
      "\r",
      " 17%|███████                                   | 32/192 [06:50<27:05, 10.16s/it]"
     ]
    },
    {
     "name": "stderr",
     "output_type": "stream",
     "text": [
      "\r",
      " 17%|███████▏                                  | 33/192 [07:00<26:43, 10.08s/it]"
     ]
    },
    {
     "name": "stderr",
     "output_type": "stream",
     "text": [
      "\r",
      " 18%|███████▍                                  | 34/192 [07:09<25:53,  9.83s/it]"
     ]
    },
    {
     "name": "stderr",
     "output_type": "stream",
     "text": [
      "\r",
      " 18%|███████▋                                  | 35/192 [07:19<25:36,  9.79s/it]"
     ]
    },
    {
     "name": "stderr",
     "output_type": "stream",
     "text": [
      "\r",
      " 19%|███████▉                                  | 36/192 [07:29<25:25,  9.78s/it]"
     ]
    },
    {
     "name": "stderr",
     "output_type": "stream",
     "text": [
      "\r",
      " 19%|████████                                  | 37/192 [07:38<25:00,  9.68s/it]"
     ]
    },
    {
     "name": "stderr",
     "output_type": "stream",
     "text": [
      "\r",
      " 20%|████████▎                                 | 38/192 [07:48<24:50,  9.68s/it]"
     ]
    },
    {
     "name": "stderr",
     "output_type": "stream",
     "text": [
      "\r",
      " 20%|████████▌                                 | 39/192 [07:57<24:25,  9.58s/it]"
     ]
    },
    {
     "name": "stderr",
     "output_type": "stream",
     "text": [
      "\r",
      " 21%|████████▊                                 | 40/192 [08:07<24:06,  9.52s/it]"
     ]
    },
    {
     "name": "stderr",
     "output_type": "stream",
     "text": [
      "\r",
      " 21%|████████▉                                 | 41/192 [08:16<23:52,  9.49s/it]"
     ]
    },
    {
     "name": "stderr",
     "output_type": "stream",
     "text": [
      "\r",
      " 22%|█████████▏                                | 42/192 [08:25<23:40,  9.47s/it]"
     ]
    },
    {
     "name": "stderr",
     "output_type": "stream",
     "text": [
      "\r",
      " 22%|█████████▍                                | 43/192 [08:35<23:23,  9.42s/it]"
     ]
    },
    {
     "name": "stderr",
     "output_type": "stream",
     "text": [
      "\r",
      " 23%|█████████▋                                | 44/192 [08:44<23:05,  9.36s/it]"
     ]
    },
    {
     "name": "stderr",
     "output_type": "stream",
     "text": [
      "\r",
      " 23%|█████████▊                                | 45/192 [08:54<23:05,  9.43s/it]"
     ]
    },
    {
     "name": "stderr",
     "output_type": "stream",
     "text": [
      "\r",
      " 24%|██████████                                | 46/192 [09:03<22:57,  9.44s/it]"
     ]
    },
    {
     "name": "stderr",
     "output_type": "stream",
     "text": [
      "\r",
      " 24%|██████████▎                               | 47/192 [09:13<23:05,  9.56s/it]"
     ]
    },
    {
     "name": "stderr",
     "output_type": "stream",
     "text": [
      "\r",
      " 25%|██████████▌                               | 48/192 [09:22<22:47,  9.49s/it]"
     ]
    },
    {
     "name": "stderr",
     "output_type": "stream",
     "text": [
      "\r",
      " 26%|██████████▋                               | 49/192 [09:31<22:27,  9.42s/it]"
     ]
    },
    {
     "name": "stderr",
     "output_type": "stream",
     "text": [
      "\r",
      " 26%|██████████▉                               | 50/192 [09:41<22:16,  9.41s/it]"
     ]
    },
    {
     "name": "stderr",
     "output_type": "stream",
     "text": [
      "\r",
      " 27%|███████████▏                              | 51/192 [09:50<22:05,  9.40s/it]"
     ]
    },
    {
     "name": "stderr",
     "output_type": "stream",
     "text": [
      "\r",
      " 27%|███████████▍                              | 52/192 [09:59<21:49,  9.35s/it]"
     ]
    },
    {
     "name": "stderr",
     "output_type": "stream",
     "text": [
      "\r",
      " 28%|███████████▌                              | 53/192 [10:09<21:43,  9.38s/it]"
     ]
    },
    {
     "name": "stderr",
     "output_type": "stream",
     "text": [
      "\r",
      " 28%|███████████▊                              | 54/192 [10:18<21:26,  9.32s/it]"
     ]
    },
    {
     "name": "stderr",
     "output_type": "stream",
     "text": [
      "\r",
      " 29%|████████████                              | 55/192 [10:27<21:17,  9.32s/it]"
     ]
    },
    {
     "name": "stderr",
     "output_type": "stream",
     "text": [
      "\r",
      " 29%|████████████▎                             | 56/192 [10:37<21:08,  9.33s/it]"
     ]
    },
    {
     "name": "stderr",
     "output_type": "stream",
     "text": [
      "\r",
      " 30%|████████████▍                             | 57/192 [10:46<20:56,  9.31s/it]"
     ]
    },
    {
     "name": "stderr",
     "output_type": "stream",
     "text": [
      "\r",
      " 30%|████████████▋                             | 58/192 [10:55<20:42,  9.27s/it]"
     ]
    },
    {
     "name": "stderr",
     "output_type": "stream",
     "text": [
      "\r",
      " 31%|████████████▉                             | 59/192 [11:04<20:32,  9.26s/it]"
     ]
    },
    {
     "name": "stderr",
     "output_type": "stream",
     "text": [
      "\r",
      " 31%|█████████████▏                            | 60/192 [11:14<20:26,  9.29s/it]"
     ]
    },
    {
     "name": "stderr",
     "output_type": "stream",
     "text": [
      "\r",
      " 32%|█████████████▎                            | 61/192 [11:23<20:20,  9.32s/it]"
     ]
    },
    {
     "name": "stderr",
     "output_type": "stream",
     "text": [
      "\r",
      " 32%|█████████████▌                            | 62/192 [11:33<20:10,  9.31s/it]"
     ]
    },
    {
     "name": "stderr",
     "output_type": "stream",
     "text": [
      "\r",
      " 33%|█████████████▊                            | 63/192 [11:42<19:58,  9.29s/it]"
     ]
    },
    {
     "name": "stderr",
     "output_type": "stream",
     "text": [
      "\r",
      " 33%|██████████████                            | 64/192 [11:51<19:43,  9.25s/it]"
     ]
    },
    {
     "name": "stderr",
     "output_type": "stream",
     "text": [
      "\r",
      " 34%|██████████████▏                           | 65/192 [12:00<19:31,  9.23s/it]"
     ]
    },
    {
     "name": "stderr",
     "output_type": "stream",
     "text": [
      "\r",
      " 34%|██████████████▍                           | 66/192 [12:09<19:22,  9.22s/it]"
     ]
    },
    {
     "name": "stderr",
     "output_type": "stream",
     "text": [
      "\r",
      " 35%|██████████████▋                           | 67/192 [12:19<19:19,  9.28s/it]"
     ]
    },
    {
     "name": "stderr",
     "output_type": "stream",
     "text": [
      "\r",
      " 35%|██████████████▉                           | 68/192 [12:28<19:15,  9.32s/it]"
     ]
    },
    {
     "name": "stderr",
     "output_type": "stream",
     "text": [
      "\r",
      " 36%|███████████████                           | 69/192 [12:37<19:05,  9.31s/it]"
     ]
    },
    {
     "name": "stderr",
     "output_type": "stream",
     "text": [
      "\r",
      " 36%|███████████████▎                          | 70/192 [12:47<18:53,  9.29s/it]"
     ]
    },
    {
     "name": "stderr",
     "output_type": "stream",
     "text": [
      "\r",
      " 37%|███████████████▌                          | 71/192 [12:56<18:41,  9.27s/it]"
     ]
    },
    {
     "name": "stderr",
     "output_type": "stream",
     "text": [
      "\r",
      " 38%|███████████████▊                          | 72/192 [13:05<18:30,  9.26s/it]"
     ]
    },
    {
     "name": "stderr",
     "output_type": "stream",
     "text": [
      "\r",
      " 38%|███████████████▉                          | 73/192 [13:14<18:22,  9.27s/it]"
     ]
    },
    {
     "name": "stderr",
     "output_type": "stream",
     "text": [
      "\r",
      " 39%|████████████████▏                         | 74/192 [13:24<18:11,  9.25s/it]"
     ]
    },
    {
     "name": "stderr",
     "output_type": "stream",
     "text": [
      "\r",
      " 39%|████████████████▍                         | 75/192 [13:33<18:01,  9.24s/it]"
     ]
    },
    {
     "name": "stderr",
     "output_type": "stream",
     "text": [
      "\r",
      " 40%|████████████████▋                         | 76/192 [13:42<17:55,  9.27s/it]"
     ]
    },
    {
     "name": "stderr",
     "output_type": "stream",
     "text": [
      "\r",
      " 40%|████████████████▊                         | 77/192 [13:51<17:41,  9.23s/it]"
     ]
    },
    {
     "name": "stderr",
     "output_type": "stream",
     "text": [
      "\r",
      " 41%|█████████████████                         | 78/192 [14:01<17:37,  9.28s/it]"
     ]
    },
    {
     "name": "stderr",
     "output_type": "stream",
     "text": [
      "\r",
      " 41%|█████████████████▎                        | 79/192 [14:10<17:27,  9.27s/it]"
     ]
    },
    {
     "name": "stderr",
     "output_type": "stream",
     "text": [
      "\r",
      " 42%|█████████████████▌                        | 80/192 [14:19<17:15,  9.25s/it]"
     ]
    },
    {
     "name": "stderr",
     "output_type": "stream",
     "text": [
      "\r",
      " 42%|█████████████████▋                        | 81/192 [14:28<17:01,  9.20s/it]"
     ]
    },
    {
     "name": "stderr",
     "output_type": "stream",
     "text": [
      "\r",
      " 43%|█████████████████▉                        | 82/192 [14:37<16:49,  9.18s/it]"
     ]
    },
    {
     "name": "stderr",
     "output_type": "stream",
     "text": [
      "\r",
      " 43%|██████████████████▏                       | 83/192 [14:47<16:43,  9.21s/it]"
     ]
    },
    {
     "name": "stderr",
     "output_type": "stream",
     "text": [
      "\r",
      " 44%|██████████████████▍                       | 84/192 [14:56<16:37,  9.23s/it]"
     ]
    },
    {
     "name": "stderr",
     "output_type": "stream",
     "text": [
      "\r",
      " 44%|██████████████████▌                       | 85/192 [15:05<16:28,  9.24s/it]"
     ]
    },
    {
     "name": "stderr",
     "output_type": "stream",
     "text": [
      "\r",
      " 45%|██████████████████▊                       | 86/192 [15:14<16:15,  9.21s/it]"
     ]
    },
    {
     "name": "stderr",
     "output_type": "stream",
     "text": [
      "\r",
      " 45%|███████████████████                       | 87/192 [15:23<16:04,  9.19s/it]"
     ]
    },
    {
     "name": "stderr",
     "output_type": "stream",
     "text": [
      "\r",
      " 46%|███████████████████▎                      | 88/192 [15:33<15:52,  9.16s/it]"
     ]
    },
    {
     "name": "stderr",
     "output_type": "stream",
     "text": [
      "\r",
      " 46%|███████████████████▍                      | 89/192 [15:42<15:43,  9.16s/it]"
     ]
    },
    {
     "name": "stderr",
     "output_type": "stream",
     "text": [
      "\r",
      " 47%|███████████████████▋                      | 90/192 [15:51<15:38,  9.20s/it]"
     ]
    },
    {
     "name": "stderr",
     "output_type": "stream",
     "text": [
      "\r",
      " 47%|███████████████████▉                      | 91/192 [16:00<15:27,  9.18s/it]"
     ]
    },
    {
     "name": "stderr",
     "output_type": "stream",
     "text": [
      "\r",
      " 48%|████████████████████▏                     | 92/192 [16:09<15:18,  9.18s/it]"
     ]
    },
    {
     "name": "stderr",
     "output_type": "stream",
     "text": [
      "\r",
      " 48%|████████████████████▎                     | 93/192 [16:18<15:06,  9.15s/it]"
     ]
    },
    {
     "name": "stderr",
     "output_type": "stream",
     "text": [
      "\r",
      " 49%|████████████████████▌                     | 94/192 [16:27<14:54,  9.12s/it]"
     ]
    },
    {
     "name": "stderr",
     "output_type": "stream",
     "text": [
      "\r",
      " 49%|████████████████████▊                     | 95/192 [16:37<14:46,  9.14s/it]"
     ]
    },
    {
     "name": "stderr",
     "output_type": "stream",
     "text": [
      "\r",
      " 50%|█████████████████████                     | 96/192 [16:46<14:38,  9.15s/it]"
     ]
    },
    {
     "name": "stderr",
     "output_type": "stream",
     "text": [
      "\r",
      " 51%|█████████████████████▏                    | 97/192 [16:55<14:31,  9.18s/it]"
     ]
    },
    {
     "name": "stderr",
     "output_type": "stream",
     "text": [
      "\r",
      " 51%|█████████████████████▍                    | 98/192 [17:04<14:24,  9.20s/it]"
     ]
    },
    {
     "name": "stderr",
     "output_type": "stream",
     "text": [
      "\r",
      " 52%|█████████████████████▋                    | 99/192 [17:14<14:16,  9.21s/it]"
     ]
    },
    {
     "name": "stderr",
     "output_type": "stream",
     "text": [
      "\r",
      " 52%|█████████████████████▎                   | 100/192 [17:23<14:08,  9.22s/it]"
     ]
    },
    {
     "name": "stderr",
     "output_type": "stream",
     "text": [
      "\r",
      " 53%|█████████████████████▌                   | 101/192 [17:32<13:54,  9.17s/it]"
     ]
    },
    {
     "name": "stderr",
     "output_type": "stream",
     "text": [
      "\r",
      " 53%|█████████████████████▊                   | 102/192 [17:41<13:43,  9.15s/it]"
     ]
    },
    {
     "name": "stderr",
     "output_type": "stream",
     "text": [
      "\r",
      " 54%|█████████████████████▉                   | 103/192 [17:50<13:35,  9.16s/it]"
     ]
    },
    {
     "name": "stderr",
     "output_type": "stream",
     "text": [
      "\r",
      " 54%|██████████████████████▏                  | 104/192 [17:59<13:27,  9.17s/it]"
     ]
    },
    {
     "name": "stderr",
     "output_type": "stream",
     "text": [
      "\r",
      " 55%|██████████████████████▍                  | 105/192 [18:08<13:17,  9.16s/it]"
     ]
    },
    {
     "name": "stderr",
     "output_type": "stream",
     "text": [
      "\r",
      " 55%|██████████████████████▋                  | 106/192 [18:18<13:07,  9.16s/it]"
     ]
    },
    {
     "name": "stderr",
     "output_type": "stream",
     "text": [
      "\r",
      " 56%|██████████████████████▊                  | 107/192 [18:27<13:00,  9.18s/it]"
     ]
    },
    {
     "name": "stderr",
     "output_type": "stream",
     "text": [
      "\r",
      " 56%|███████████████████████                  | 108/192 [18:36<12:50,  9.18s/it]"
     ]
    },
    {
     "name": "stderr",
     "output_type": "stream",
     "text": [
      "\r",
      " 57%|███████████████████████▎                 | 109/192 [18:45<12:40,  9.17s/it]"
     ]
    },
    {
     "name": "stderr",
     "output_type": "stream",
     "text": [
      "\r",
      " 57%|███████████████████████▍                 | 110/192 [18:55<12:37,  9.24s/it]"
     ]
    },
    {
     "name": "stderr",
     "output_type": "stream",
     "text": [
      "\r",
      " 58%|███████████████████████▋                 | 111/192 [19:04<12:30,  9.27s/it]"
     ]
    },
    {
     "name": "stderr",
     "output_type": "stream",
     "text": [
      "\r",
      " 58%|███████████████████████▉                 | 112/192 [19:13<12:19,  9.24s/it]"
     ]
    },
    {
     "name": "stderr",
     "output_type": "stream",
     "text": [
      "\r",
      " 59%|████████████████████████▏                | 113/192 [19:22<12:07,  9.21s/it]"
     ]
    },
    {
     "name": "stderr",
     "output_type": "stream",
     "text": [
      "\r",
      " 59%|████████████████████████▎                | 114/192 [19:31<11:57,  9.20s/it]"
     ]
    },
    {
     "name": "stderr",
     "output_type": "stream",
     "text": [
      "\r",
      " 60%|████████████████████████▌                | 115/192 [19:41<11:50,  9.23s/it]"
     ]
    },
    {
     "name": "stderr",
     "output_type": "stream",
     "text": [
      "\r",
      " 60%|████████████████████████▊                | 116/192 [19:50<11:41,  9.23s/it]"
     ]
    },
    {
     "name": "stderr",
     "output_type": "stream",
     "text": [
      "\r",
      " 61%|████████████████████████▉                | 117/192 [19:59<11:31,  9.22s/it]"
     ]
    },
    {
     "name": "stderr",
     "output_type": "stream",
     "text": [
      "\r",
      " 61%|█████████████████████████▏               | 118/192 [20:08<11:24,  9.25s/it]"
     ]
    },
    {
     "name": "stderr",
     "output_type": "stream",
     "text": [
      "\r",
      " 62%|█████████████████████████▍               | 119/192 [20:18<11:14,  9.23s/it]"
     ]
    },
    {
     "name": "stderr",
     "output_type": "stream",
     "text": [
      "\r",
      " 62%|█████████████████████████▋               | 120/192 [20:27<11:04,  9.23s/it]"
     ]
    },
    {
     "name": "stderr",
     "output_type": "stream",
     "text": [
      "\r",
      " 63%|█████████████████████████▊               | 121/192 [20:36<10:55,  9.23s/it]"
     ]
    },
    {
     "name": "stderr",
     "output_type": "stream",
     "text": [
      "\r",
      " 64%|██████████████████████████               | 122/192 [20:45<10:46,  9.24s/it]"
     ]
    },
    {
     "name": "stderr",
     "output_type": "stream",
     "text": [
      "\r",
      " 64%|██████████████████████████▎              | 123/192 [20:55<10:41,  9.30s/it]"
     ]
    },
    {
     "name": "stderr",
     "output_type": "stream",
     "text": [
      "\r",
      " 65%|██████████████████████████▍              | 124/192 [21:04<10:32,  9.30s/it]"
     ]
    },
    {
     "name": "stderr",
     "output_type": "stream",
     "text": [
      "\r",
      " 65%|██████████████████████████▋              | 125/192 [21:13<10:19,  9.25s/it]"
     ]
    },
    {
     "name": "stderr",
     "output_type": "stream",
     "text": [
      "\r",
      " 66%|██████████████████████████▉              | 126/192 [21:23<10:11,  9.27s/it]"
     ]
    },
    {
     "name": "stderr",
     "output_type": "stream",
     "text": [
      "\r",
      " 66%|███████████████████████████              | 127/192 [21:32<10:02,  9.27s/it]"
     ]
    },
    {
     "name": "stderr",
     "output_type": "stream",
     "text": [
      "\r",
      " 67%|███████████████████████████▎             | 128/192 [21:41<09:54,  9.28s/it]"
     ]
    },
    {
     "name": "stderr",
     "output_type": "stream",
     "text": [
      "\r",
      " 67%|███████████████████████████▌             | 129/192 [21:50<09:43,  9.25s/it]"
     ]
    },
    {
     "name": "stderr",
     "output_type": "stream",
     "text": [
      "\r",
      " 68%|███████████████████████████▊             | 130/192 [21:59<09:31,  9.21s/it]"
     ]
    },
    {
     "name": "stderr",
     "output_type": "stream",
     "text": [
      "\r",
      " 68%|███████████████████████████▉             | 131/192 [22:09<09:20,  9.19s/it]"
     ]
    },
    {
     "name": "stderr",
     "output_type": "stream",
     "text": [
      "\r",
      " 69%|████████████████████████████▏            | 132/192 [22:18<09:10,  9.18s/it]"
     ]
    },
    {
     "name": "stderr",
     "output_type": "stream",
     "text": [
      "\r",
      " 69%|████████████████████████████▍            | 133/192 [22:27<09:03,  9.21s/it]"
     ]
    },
    {
     "name": "stderr",
     "output_type": "stream",
     "text": [
      "\r",
      " 70%|████████████████████████████▌            | 134/192 [22:36<08:55,  9.23s/it]"
     ]
    },
    {
     "name": "stderr",
     "output_type": "stream",
     "text": [
      "\r",
      " 70%|████████████████████████████▊            | 135/192 [22:46<08:45,  9.22s/it]"
     ]
    },
    {
     "name": "stderr",
     "output_type": "stream",
     "text": [
      "\r",
      " 71%|█████████████████████████████            | 136/192 [22:55<08:36,  9.22s/it]"
     ]
    },
    {
     "name": "stderr",
     "output_type": "stream",
     "text": [
      "\r",
      " 71%|█████████████████████████████▎           | 137/192 [23:04<08:25,  9.20s/it]"
     ]
    },
    {
     "name": "stderr",
     "output_type": "stream",
     "text": [
      "\r",
      " 72%|█████████████████████████████▍           | 138/192 [23:13<08:16,  9.19s/it]"
     ]
    },
    {
     "name": "stderr",
     "output_type": "stream",
     "text": [
      "\r",
      " 72%|█████████████████████████████▋           | 139/192 [23:22<08:09,  9.23s/it]"
     ]
    },
    {
     "name": "stderr",
     "output_type": "stream",
     "text": [
      "\r",
      " 73%|█████████████████████████████▉           | 140/192 [23:32<08:01,  9.26s/it]"
     ]
    },
    {
     "name": "stderr",
     "output_type": "stream",
     "text": [
      "\r",
      " 73%|██████████████████████████████           | 141/192 [23:41<07:53,  9.29s/it]"
     ]
    },
    {
     "name": "stderr",
     "output_type": "stream",
     "text": [
      "\r",
      " 74%|██████████████████████████████▎          | 142/192 [23:50<07:42,  9.26s/it]"
     ]
    },
    {
     "name": "stderr",
     "output_type": "stream",
     "text": [
      "\r",
      " 74%|██████████████████████████████▌          | 143/192 [23:59<07:31,  9.21s/it]"
     ]
    },
    {
     "name": "stderr",
     "output_type": "stream",
     "text": [
      "\r",
      " 75%|██████████████████████████████▊          | 144/192 [24:08<07:20,  9.18s/it]"
     ]
    },
    {
     "name": "stderr",
     "output_type": "stream",
     "text": [
      "\r",
      " 76%|██████████████████████████████▉          | 145/192 [24:18<07:11,  9.17s/it]"
     ]
    },
    {
     "name": "stderr",
     "output_type": "stream",
     "text": [
      "\r",
      " 76%|███████████████████████████████▏         | 146/192 [24:27<07:02,  9.19s/it]"
     ]
    },
    {
     "name": "stderr",
     "output_type": "stream",
     "text": [
      "\r",
      " 77%|███████████████████████████████▍         | 147/192 [24:36<06:55,  9.23s/it]"
     ]
    },
    {
     "name": "stderr",
     "output_type": "stream",
     "text": [
      "\r",
      " 77%|███████████████████████████████▌         | 148/192 [24:45<06:46,  9.23s/it]"
     ]
    },
    {
     "name": "stderr",
     "output_type": "stream",
     "text": [
      "\r",
      " 78%|███████████████████████████████▊         | 149/192 [24:55<06:37,  9.24s/it]"
     ]
    },
    {
     "name": "stderr",
     "output_type": "stream",
     "text": [
      "\r",
      " 78%|████████████████████████████████         | 150/192 [25:04<06:26,  9.20s/it]"
     ]
    },
    {
     "name": "stderr",
     "output_type": "stream",
     "text": [
      "\r",
      " 79%|████████████████████████████████▏        | 151/192 [25:13<06:17,  9.21s/it]"
     ]
    },
    {
     "name": "stderr",
     "output_type": "stream",
     "text": [
      "\r",
      " 79%|████████████████████████████████▍        | 152/192 [25:22<06:08,  9.22s/it]"
     ]
    },
    {
     "name": "stderr",
     "output_type": "stream",
     "text": [
      "\r",
      " 80%|████████████████████████████████▋        | 153/192 [25:32<06:00,  9.24s/it]"
     ]
    },
    {
     "name": "stderr",
     "output_type": "stream",
     "text": [
      "\r",
      " 80%|████████████████████████████████▉        | 154/192 [25:41<05:51,  9.26s/it]"
     ]
    },
    {
     "name": "stderr",
     "output_type": "stream",
     "text": [
      "\r",
      " 81%|█████████████████████████████████        | 155/192 [25:50<05:41,  9.24s/it]"
     ]
    },
    {
     "name": "stderr",
     "output_type": "stream",
     "text": [
      "\r",
      " 81%|█████████████████████████████████▎       | 156/192 [25:59<05:32,  9.24s/it]"
     ]
    },
    {
     "name": "stderr",
     "output_type": "stream",
     "text": [
      "\r",
      " 82%|█████████████████████████████████▌       | 157/192 [26:08<05:22,  9.21s/it]"
     ]
    },
    {
     "name": "stderr",
     "output_type": "stream",
     "text": [
      "\r",
      " 82%|█████████████████████████████████▋       | 158/192 [26:18<05:12,  9.20s/it]"
     ]
    },
    {
     "name": "stderr",
     "output_type": "stream",
     "text": [
      "\r",
      " 83%|█████████████████████████████████▉       | 159/192 [26:27<05:04,  9.22s/it]"
     ]
    },
    {
     "name": "stderr",
     "output_type": "stream",
     "text": [
      "\r",
      " 83%|██████████████████████████████████▏      | 160/192 [26:36<04:56,  9.26s/it]"
     ]
    },
    {
     "name": "stderr",
     "output_type": "stream",
     "text": [
      "\r",
      " 84%|██████████████████████████████████▍      | 161/192 [26:45<04:46,  9.25s/it]"
     ]
    },
    {
     "name": "stderr",
     "output_type": "stream",
     "text": [
      "\r",
      " 84%|██████████████████████████████████▌      | 162/192 [26:55<04:37,  9.26s/it]"
     ]
    },
    {
     "name": "stderr",
     "output_type": "stream",
     "text": [
      "\r",
      " 85%|██████████████████████████████████▊      | 163/192 [27:04<04:27,  9.22s/it]"
     ]
    },
    {
     "name": "stderr",
     "output_type": "stream",
     "text": [
      "\r",
      " 85%|███████████████████████████████████      | 164/192 [27:13<04:16,  9.17s/it]"
     ]
    },
    {
     "name": "stderr",
     "output_type": "stream",
     "text": [
      "\r",
      " 86%|███████████████████████████████████▏     | 165/192 [27:22<04:07,  9.15s/it]"
     ]
    },
    {
     "name": "stderr",
     "output_type": "stream",
     "text": [
      "\r",
      " 86%|███████████████████████████████████▍     | 166/192 [27:31<03:58,  9.17s/it]"
     ]
    },
    {
     "name": "stderr",
     "output_type": "stream",
     "text": [
      "\r",
      " 87%|███████████████████████████████████▋     | 167/192 [27:41<03:50,  9.22s/it]"
     ]
    },
    {
     "name": "stderr",
     "output_type": "stream",
     "text": [
      "\r",
      " 88%|███████████████████████████████████▉     | 168/192 [27:50<03:42,  9.25s/it]"
     ]
    },
    {
     "name": "stderr",
     "output_type": "stream",
     "text": [
      "\r",
      " 88%|████████████████████████████████████     | 169/192 [27:59<03:33,  9.27s/it]"
     ]
    },
    {
     "name": "stderr",
     "output_type": "stream",
     "text": [
      "\r",
      " 89%|████████████████████████████████████▎    | 170/192 [28:08<03:23,  9.26s/it]"
     ]
    },
    {
     "name": "stderr",
     "output_type": "stream",
     "text": [
      "\r",
      " 89%|████████████████████████████████████▌    | 171/192 [28:18<03:15,  9.29s/it]"
     ]
    },
    {
     "name": "stderr",
     "output_type": "stream",
     "text": [
      "\r",
      " 90%|████████████████████████████████████▋    | 172/192 [28:27<03:05,  9.26s/it]"
     ]
    },
    {
     "name": "stderr",
     "output_type": "stream",
     "text": [
      "\r",
      " 90%|████████████████████████████████████▉    | 173/192 [28:36<02:56,  9.30s/it]"
     ]
    },
    {
     "name": "stderr",
     "output_type": "stream",
     "text": [
      "\r",
      " 91%|█████████████████████████████████████▏   | 174/192 [28:46<02:47,  9.32s/it]"
     ]
    },
    {
     "name": "stderr",
     "output_type": "stream",
     "text": [
      "\r",
      " 91%|█████████████████████████████████████▎   | 175/192 [28:55<02:38,  9.34s/it]"
     ]
    },
    {
     "name": "stderr",
     "output_type": "stream",
     "text": [
      "\r",
      " 92%|█████████████████████████████████████▌   | 176/192 [29:04<02:28,  9.31s/it]"
     ]
    },
    {
     "name": "stderr",
     "output_type": "stream",
     "text": [
      "\r",
      " 92%|█████████████████████████████████████▊   | 177/192 [29:14<02:19,  9.28s/it]"
     ]
    },
    {
     "name": "stderr",
     "output_type": "stream",
     "text": [
      "\r",
      " 93%|██████████████████████████████████████   | 178/192 [29:23<02:09,  9.21s/it]"
     ]
    },
    {
     "name": "stderr",
     "output_type": "stream",
     "text": [
      "\r",
      " 93%|██████████████████████████████████████▏  | 179/192 [29:32<02:00,  9.23s/it]"
     ]
    },
    {
     "name": "stderr",
     "output_type": "stream",
     "text": [
      "\r",
      " 94%|██████████████████████████████████████▍  | 180/192 [29:41<01:51,  9.26s/it]"
     ]
    },
    {
     "name": "stderr",
     "output_type": "stream",
     "text": [
      "\r",
      " 94%|██████████████████████████████████████▋  | 181/192 [29:51<01:42,  9.28s/it]"
     ]
    },
    {
     "name": "stderr",
     "output_type": "stream",
     "text": [
      "\r",
      " 95%|██████████████████████████████████████▊  | 182/192 [30:00<01:32,  9.26s/it]"
     ]
    },
    {
     "name": "stderr",
     "output_type": "stream",
     "text": [
      "\r",
      " 95%|███████████████████████████████████████  | 183/192 [30:09<01:23,  9.27s/it]"
     ]
    },
    {
     "name": "stderr",
     "output_type": "stream",
     "text": [
      "\r",
      " 96%|███████████████████████████████████████▎ | 184/192 [30:18<01:13,  9.23s/it]"
     ]
    },
    {
     "name": "stderr",
     "output_type": "stream",
     "text": [
      "\r",
      " 96%|███████████████████████████████████████▌ | 185/192 [30:27<01:04,  9.23s/it]"
     ]
    },
    {
     "name": "stderr",
     "output_type": "stream",
     "text": [
      "\r",
      " 97%|███████████████████████████████████████▋ | 186/192 [30:37<00:55,  9.29s/it]"
     ]
    },
    {
     "name": "stderr",
     "output_type": "stream",
     "text": [
      "\r",
      " 97%|███████████████████████████████████████▉ | 187/192 [30:46<00:46,  9.33s/it]"
     ]
    },
    {
     "name": "stderr",
     "output_type": "stream",
     "text": [
      "\r",
      " 98%|████████████████████████████████████████▏| 188/192 [30:56<00:37,  9.34s/it]"
     ]
    },
    {
     "name": "stderr",
     "output_type": "stream",
     "text": [
      "\r",
      " 98%|████████████████████████████████████████▎| 189/192 [31:05<00:27,  9.32s/it]"
     ]
    },
    {
     "name": "stderr",
     "output_type": "stream",
     "text": [
      "\r",
      " 99%|████████████████████████████████████████▌| 190/192 [31:14<00:18,  9.26s/it]"
     ]
    },
    {
     "name": "stderr",
     "output_type": "stream",
     "text": [
      "\r",
      " 99%|████████████████████████████████████████▊| 191/192 [31:23<00:09,  9.22s/it]"
     ]
    },
    {
     "name": "stderr",
     "output_type": "stream",
     "text": [
      "\r",
      "100%|█████████████████████████████████████████| 192/192 [31:32<00:00,  9.22s/it]"
     ]
    },
    {
     "name": "stderr",
     "output_type": "stream",
     "text": [
      "\r",
      "100%|█████████████████████████████████████████| 192/192 [31:32<00:00,  9.86s/it]"
     ]
    },
    {
     "name": "stderr",
     "output_type": "stream",
     "text": [
      "\n"
     ]
    }
   ],
   "source": [
    "filter_df=pd.DataFrame()\n",
    "fund_df = pub_df[['id','author_distinct','funder_distinct']].explode('funder_distinct')\n",
    "cntrys=fund_df.funder_distinct.unique()\n",
    "\n",
    "for cntry in tqdm.tqdm(cntrys):\n",
    "    country_profile=build_country_profile(pub_df, fund_df, cntry)\n",
    "    country_profile['srce_cntry']=cntry\n",
    "    filter_df=pd.concat([filter_df,country_profile])"
   ]
  },
  {
   "cell_type": "code",
   "execution_count": 8,
   "id": "furnished-damage",
   "metadata": {
    "execution": {
     "iopub.execute_input": "2023-08-21T18:15:48.262227Z",
     "iopub.status.busy": "2023-08-21T18:15:48.261704Z",
     "iopub.status.idle": "2023-08-21T18:15:48.631782Z",
     "shell.execute_reply": "2023-08-21T18:15:48.630659Z"
    },
    "papermill": {
     "duration": 0.385145,
     "end_time": "2023-08-21T18:15:48.635061",
     "exception": false,
     "start_time": "2023-08-21T18:15:48.249916",
     "status": "completed"
    },
    "tags": []
   },
   "outputs": [],
   "source": [
    "filter_df=filter_df.groupby(['author_distinct','srce_cntry'])['count'].sum().reset_index()\n",
    "filter_df=filter_df.rename(columns={'count':'filter'})"
   ]
  },
  {
   "cell_type": "code",
   "execution_count": 9,
   "id": "2ed358de-d8cf-4070-b199-87ceb5bdf5cd",
   "metadata": {
    "execution": {
     "iopub.execute_input": "2023-08-21T18:15:48.664896Z",
     "iopub.status.busy": "2023-08-21T18:15:48.664296Z",
     "iopub.status.idle": "2023-08-21T18:15:50.307946Z",
     "shell.execute_reply": "2023-08-21T18:15:50.307110Z"
    },
    "papermill": {
     "duration": 1.659278,
     "end_time": "2023-08-21T18:15:50.311291",
     "exception": false,
     "start_time": "2023-08-21T18:15:48.652013",
     "status": "completed"
    },
    "tags": []
   },
   "outputs": [],
   "source": [
    "raw_df=pd.read_csv(cntry_full_path)\n",
    "raw_df = raw_df.groupby(['cntry'])['count'].sum().reset_index(name='raw')"
   ]
  },
  {
   "cell_type": "code",
   "execution_count": 10,
   "id": "0ad4270f-0148-4c87-bf37-f86354a10067",
   "metadata": {
    "execution": {
     "iopub.execute_input": "2023-08-21T18:15:50.340686Z",
     "iopub.status.busy": "2023-08-21T18:15:50.340164Z",
     "iopub.status.idle": "2023-08-21T18:15:50.353239Z",
     "shell.execute_reply": "2023-08-21T18:15:50.352436Z"
    },
    "papermill": {
     "duration": 0.027486,
     "end_time": "2023-08-21T18:15:50.355806",
     "exception": false,
     "start_time": "2023-08-21T18:15:50.328320",
     "status": "completed"
    },
    "tags": []
   },
   "outputs": [],
   "source": [
    "meta=raw_df.merge(filter_df,left_on='cntry', right_on='author_distinct')\n",
    "meta['p']=(meta['raw']-meta['filter'])/meta['raw']"
   ]
  },
  {
   "cell_type": "code",
   "execution_count": 11,
   "id": "d97834cc-74c1-4f87-9f3d-ed3b2b45ba1d",
   "metadata": {
    "execution": {
     "iopub.execute_input": "2023-08-21T18:15:50.383731Z",
     "iopub.status.busy": "2023-08-21T18:15:50.382978Z",
     "iopub.status.idle": "2023-08-21T18:15:50.397914Z",
     "shell.execute_reply": "2023-08-21T18:15:50.397082Z"
    },
    "papermill": {
     "duration": 0.029205,
     "end_time": "2023-08-21T18:15:50.400639",
     "exception": false,
     "start_time": "2023-08-21T18:15:50.371434",
     "status": "completed"
    },
    "tags": []
   },
   "outputs": [],
   "source": [
    "meta=meta[['srce_cntry','cntry','raw','filter','p']]\n",
    "meta=meta.rename(columns={'srce_cntry':'source','cntry':'target','raw':'raw_pub','filter':'filter_pub'})\n",
    "meta=meta[meta.source!='Not-Funded']"
   ]
  },
  {
   "cell_type": "code",
   "execution_count": 12,
   "id": "eleven-newfoundland",
   "metadata": {
    "execution": {
     "iopub.execute_input": "2023-08-21T18:15:50.425802Z",
     "iopub.status.busy": "2023-08-21T18:15:50.425016Z",
     "iopub.status.idle": "2023-08-21T18:15:52.919934Z",
     "shell.execute_reply": "2023-08-21T18:15:52.918703Z"
    },
    "papermill": {
     "duration": 2.509949,
     "end_time": "2023-08-21T18:15:52.923516",
     "exception": false,
     "start_time": "2023-08-21T18:15:50.413567",
     "status": "completed"
    },
    "tags": []
   },
   "outputs": [],
   "source": [
    "meta.to_csv(profile_path, index=False)"
   ]
  },
  {
   "cell_type": "code",
   "execution_count": null,
   "id": "c2a98ea9-1cf9-4aab-98c0-ebfd94fe8a8b",
   "metadata": {
    "papermill": {
     "duration": 0.010791,
     "end_time": "2023-08-21T18:15:52.949458",
     "exception": false,
     "start_time": "2023-08-21T18:15:52.938667",
     "status": "completed"
    },
    "tags": []
   },
   "outputs": [],
   "source": []
  }
 ],
 "metadata": {
  "kernelspec": {
   "display_name": "Python 3 (ipykernel)",
   "language": "python",
   "name": "python3"
  },
  "language_info": {
   "codemirror_mode": {
    "name": "ipython",
    "version": 3
   },
   "file_extension": ".py",
   "mimetype": "text/x-python",
   "name": "python",
   "nbconvert_exporter": "python",
   "pygments_lexer": "ipython3",
   "version": "3.8.16"
  },
  "papermill": {
   "default_parameters": {},
   "duration": 1959.219168,
   "end_time": "2023-08-21T18:15:56.086934",
   "environment_variables": {},
   "exception": null,
   "input_path": "scripts/build_profile_without_allcountries.ipynb",
   "output_path": "scripts/outputs/build_profile_without_allcountries.ipynb",
   "parameters": {
    "cntry_full_path": "../data/NationalFunding/Data/DerivedData/Derived/cntry_author_full.csv",
    "profile_path": "../data/NationalFunding/Data/DerivedData/Derived/dependence/pub_noforeign_fund_all2all.csv",
    "pubs_path": "../data/NationalFunding/Data/DerivedData/CleanedRawData/pub.pkl"
   },
   "start_time": "2023-08-21T17:43:16.867766",
   "version": "2.3.4"
  }
 },
 "nbformat": 4,
 "nbformat_minor": 5
}