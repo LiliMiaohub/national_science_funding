{
 "cells": [
  {
   "cell_type": "markdown",
   "id": "beginning-bronze",
   "metadata": {
    "papermill": {
     "duration": 0.006553,
     "end_time": "2023-04-25T19:37:54.449102",
     "exception": false,
     "start_time": "2023-04-25T19:37:54.442549",
     "status": "completed"
    },
    "tags": []
   },
   "source": [
    "### this script cleans and compiles raw data. \n",
    "\n",
    "Input includes:\n",
    "- **pub**: discipline and year information of publications\n",
    "- **pub_fund**:funding instance of publications\n",
    "- **pub_author**:author country of publications\n",
    "- **cntry**: country convert table which map wos country name to standard format.\n",
    "\n",
    "Output includes:\n",
    "- **clean_pub**: a consolidated pickle file has abovementioned information with two extra indicators including funded (whether the paper is funded) and intcol (whether the paper is internationally coauthored)."
   ]
  },
  {
   "cell_type": "code",
   "execution_count": 1,
   "id": "adapted-surge",
   "metadata": {
    "execution": {
     "iopub.execute_input": "2023-04-25T19:37:54.458987Z",
     "iopub.status.busy": "2023-04-25T19:37:54.458141Z",
     "iopub.status.idle": "2023-04-25T19:37:54.712062Z",
     "shell.execute_reply": "2023-04-25T19:37:54.711007Z"
    },
    "papermill": {
     "duration": 0.261882,
     "end_time": "2023-04-25T19:37:54.715118",
     "exception": false,
     "start_time": "2023-04-25T19:37:54.453236",
     "status": "completed"
    },
    "tags": []
   },
   "outputs": [],
   "source": [
    "import pandas as pd\n",
    "import numpy as np\n",
    "from ast import literal_eval"
   ]
  },
  {
   "cell_type": "code",
   "execution_count": 2,
   "id": "roman-massage",
   "metadata": {
    "execution": {
     "iopub.execute_input": "2023-04-25T19:37:54.729296Z",
     "iopub.status.busy": "2023-04-25T19:37:54.728341Z",
     "iopub.status.idle": "2023-04-25T19:37:54.733482Z",
     "shell.execute_reply": "2023-04-25T19:37:54.732681Z"
    },
    "papermill": {
     "duration": 0.011543,
     "end_time": "2023-04-25T19:37:54.734886",
     "exception": false,
     "start_time": "2023-04-25T19:37:54.723343",
     "status": "completed"
    },
    "tags": [
     "parameters"
    ]
   },
   "outputs": [],
   "source": [
    "pub_path=\"../../data/nf_folder/Data/RawData/pubs.csv\"\n",
    "pub_fund_path=\"../../data/nf_folder/Data/RawData/pub_funder.csv\"\n",
    "pub_author_path=\"../../data/nf_folder/Data/RawData/pub_author.csv\"\n",
    "cntry_path=\"../../data/NationalFunding/Data/AdditionalData/cntry_convert.xlsx\"\n",
    "\n",
    "clean_pub_path=\"../../data/NationalFunding/Data/DerivedData/CleanedRawData/pub.pkl\""
   ]
  },
  {
   "cell_type": "code",
   "execution_count": 3,
   "id": "632c8643",
   "metadata": {
    "execution": {
     "iopub.execute_input": "2023-04-25T19:37:54.743595Z",
     "iopub.status.busy": "2023-04-25T19:37:54.743039Z",
     "iopub.status.idle": "2023-04-25T19:37:54.747749Z",
     "shell.execute_reply": "2023-04-25T19:37:54.746904Z"
    },
    "papermill": {
     "duration": 0.010606,
     "end_time": "2023-04-25T19:37:54.749075",
     "exception": false,
     "start_time": "2023-04-25T19:37:54.738469",
     "status": "completed"
    },
    "tags": [
     "injected-parameters"
    ]
   },
   "outputs": [],
   "source": [
    "# Parameters\n",
    "pub_path = \"../data/NationalFunding/Data/RawData/pubs.csv\"\n",
    "pub_author_path = \"../data/NationalFunding/Data/RawData/pub_author.csv\"\n",
    "pub_fund_path = \"../data/NationalFunding/Data/RawData/pub_funder.csv\"\n",
    "cntry_path = \"../data/NationalFunding/Data/AdditionalData/cntry_convert.xlsx\"\n",
    "clean_pub_path = \"../data/NationalFunding/Data/DerivedData/CleanedRawData/pub.pkl\"\n"
   ]
  },
  {
   "cell_type": "code",
   "execution_count": 4,
   "id": "aa1392fc-9df6-40dd-9b97-a365b4dc0dd7",
   "metadata": {
    "execution": {
     "iopub.execute_input": "2023-04-25T19:37:54.759031Z",
     "iopub.status.busy": "2023-04-25T19:37:54.758667Z",
     "iopub.status.idle": "2023-04-25T19:37:55.517064Z",
     "shell.execute_reply": "2023-04-25T19:37:55.515801Z"
    },
    "papermill": {
     "duration": 0.772068,
     "end_time": "2023-04-25T19:37:55.525470",
     "exception": false,
     "start_time": "2023-04-25T19:37:54.753402",
     "status": "completed"
    },
    "tags": []
   },
   "outputs": [],
   "source": [
    "pd.DataFrame().to_pickle(clean_pub_path)"
   ]
  },
  {
   "cell_type": "code",
   "execution_count": 5,
   "id": "cloudy-queensland",
   "metadata": {
    "execution": {
     "iopub.execute_input": "2023-04-25T19:37:55.536504Z",
     "iopub.status.busy": "2023-04-25T19:37:55.535719Z",
     "iopub.status.idle": "2023-04-25T19:38:02.195509Z",
     "shell.execute_reply": "2023-04-25T19:38:02.194563Z"
    },
    "papermill": {
     "duration": 6.67009,
     "end_time": "2023-04-25T19:38:02.200854",
     "exception": false,
     "start_time": "2023-04-25T19:37:55.530764",
     "status": "completed"
    },
    "tags": []
   },
   "outputs": [
    {
     "data": {
      "text/html": [
       "<div>\n",
       "<style scoped>\n",
       "    .dataframe tbody tr th:only-of-type {\n",
       "        vertical-align: middle;\n",
       "    }\n",
       "\n",
       "    .dataframe tbody tr th {\n",
       "        vertical-align: top;\n",
       "    }\n",
       "\n",
       "    .dataframe thead th {\n",
       "        text-align: right;\n",
       "    }\n",
       "</style>\n",
       "<table border=\"1\" class=\"dataframe\">\n",
       "  <thead>\n",
       "    <tr style=\"text-align: right;\">\n",
       "      <th></th>\n",
       "      <th>ID_Art</th>\n",
       "      <th>Annee_Bibliographique</th>\n",
       "      <th>Code_Discipline</th>\n",
       "      <th>Code_Document</th>\n",
       "    </tr>\n",
       "  </thead>\n",
       "  <tbody>\n",
       "    <tr>\n",
       "      <th>0</th>\n",
       "      <td>60694041</td>\n",
       "      <td>2017</td>\n",
       "      <td>9</td>\n",
       "      <td>1</td>\n",
       "    </tr>\n",
       "    <tr>\n",
       "      <th>1</th>\n",
       "      <td>48573156</td>\n",
       "      <td>2012</td>\n",
       "      <td>89</td>\n",
       "      <td>1</td>\n",
       "    </tr>\n",
       "    <tr>\n",
       "      <th>2</th>\n",
       "      <td>55323671</td>\n",
       "      <td>2015</td>\n",
       "      <td>89</td>\n",
       "      <td>1</td>\n",
       "    </tr>\n",
       "    <tr>\n",
       "      <th>3</th>\n",
       "      <td>57633115</td>\n",
       "      <td>2016</td>\n",
       "      <td>31</td>\n",
       "      <td>1</td>\n",
       "    </tr>\n",
       "    <tr>\n",
       "      <th>4</th>\n",
       "      <td>64831413</td>\n",
       "      <td>2018</td>\n",
       "      <td>99</td>\n",
       "      <td>1</td>\n",
       "    </tr>\n",
       "  </tbody>\n",
       "</table>\n",
       "</div>"
      ],
      "text/plain": [
       "     ID_Art  Annee_Bibliographique  Code_Discipline  Code_Document\n",
       "0  60694041                   2017                9              1\n",
       "1  48573156                   2012               89              1\n",
       "2  55323671                   2015               89              1\n",
       "3  57633115                   2016               31              1\n",
       "4  64831413                   2018               99              1"
      ]
     },
     "execution_count": 5,
     "metadata": {},
     "output_type": "execute_result"
    }
   ],
   "source": [
    "pub_df=pd.read_csv(pub_path,sep=\"\\t\")\n",
    "pub_df.head()"
   ]
  },
  {
   "cell_type": "markdown",
   "id": "removed-earthquake",
   "metadata": {
    "papermill": {
     "duration": 0.003964,
     "end_time": "2023-04-25T19:38:02.210037",
     "exception": false,
     "start_time": "2023-04-25T19:38:02.206073",
     "status": "completed"
    },
    "tags": []
   },
   "source": [
    "count how many pubs in each document type"
   ]
  },
  {
   "cell_type": "code",
   "execution_count": 6,
   "id": "assigned-logan",
   "metadata": {
    "execution": {
     "iopub.execute_input": "2023-04-25T19:38:02.220212Z",
     "iopub.status.busy": "2023-04-25T19:38:02.219510Z",
     "iopub.status.idle": "2023-04-25T19:38:49.475349Z",
     "shell.execute_reply": "2023-04-25T19:38:49.474400Z"
    },
    "papermill": {
     "duration": 47.271909,
     "end_time": "2023-04-25T19:38:49.485780",
     "exception": false,
     "start_time": "2023-04-25T19:38:02.213871",
     "status": "completed"
    },
    "tags": []
   },
   "outputs": [
    {
     "data": {
      "text/html": [
       "<div>\n",
       "<style scoped>\n",
       "    .dataframe tbody tr th:only-of-type {\n",
       "        vertical-align: middle;\n",
       "    }\n",
       "\n",
       "    .dataframe tbody tr th {\n",
       "        vertical-align: top;\n",
       "    }\n",
       "\n",
       "    .dataframe thead th {\n",
       "        text-align: right;\n",
       "    }\n",
       "</style>\n",
       "<table border=\"1\" class=\"dataframe\">\n",
       "  <thead>\n",
       "    <tr style=\"text-align: right;\">\n",
       "      <th></th>\n",
       "      <th>ID_Art</th>\n",
       "      <th>Organisation</th>\n",
       "      <th>Numero_Financement</th>\n",
       "      <th>Country</th>\n",
       "    </tr>\n",
       "  </thead>\n",
       "  <tbody>\n",
       "    <tr>\n",
       "      <th>0</th>\n",
       "      <td>62152918</td>\n",
       "      <td>Natural Science Foundation of Jiangsu Province</td>\n",
       "      <td>BK20140131</td>\n",
       "      <td>PEOPLES-R-CHINA</td>\n",
       "    </tr>\n",
       "    <tr>\n",
       "      <th>1</th>\n",
       "      <td>62152749</td>\n",
       "      <td>Shanghai Commission of Health and Family Planning</td>\n",
       "      <td>201440538</td>\n",
       "      <td>PEOPLES-R-CHINA</td>\n",
       "    </tr>\n",
       "    <tr>\n",
       "      <th>2</th>\n",
       "      <td>62152799</td>\n",
       "      <td>U.S. Department of Energy's Office of Science,...</td>\n",
       "      <td>DE-SC0007041</td>\n",
       "      <td>USA</td>\n",
       "    </tr>\n",
       "    <tr>\n",
       "      <th>3</th>\n",
       "      <td>49692015</td>\n",
       "      <td>FCT</td>\n",
       "      <td>SFRH/BD/47118/2008</td>\n",
       "      <td>PORTUGAL</td>\n",
       "    </tr>\n",
       "    <tr>\n",
       "      <th>4</th>\n",
       "      <td>49692016</td>\n",
       "      <td>Basque government</td>\n",
       "      <td>IT472-10</td>\n",
       "      <td>SPAIN</td>\n",
       "    </tr>\n",
       "  </tbody>\n",
       "</table>\n",
       "</div>"
      ],
      "text/plain": [
       "     ID_Art                                       Organisation   \n",
       "0  62152918     Natural Science Foundation of Jiangsu Province  \\\n",
       "1  62152749  Shanghai Commission of Health and Family Planning   \n",
       "2  62152799  U.S. Department of Energy's Office of Science,...   \n",
       "3  49692015                                                FCT   \n",
       "4  49692016                                  Basque government   \n",
       "\n",
       "   Numero_Financement          Country  \n",
       "0          BK20140131  PEOPLES-R-CHINA  \n",
       "1           201440538  PEOPLES-R-CHINA  \n",
       "2        DE-SC0007041              USA  \n",
       "3  SFRH/BD/47118/2008         PORTUGAL  \n",
       "4            IT472-10            SPAIN  "
      ]
     },
     "execution_count": 6,
     "metadata": {},
     "output_type": "execute_result"
    }
   ],
   "source": [
    "pub_fund=pd.read_csv(pub_fund_path,sep=\"\\t\", on_bad_lines='skip')\n",
    "pub_fund.head()"
   ]
  },
  {
   "cell_type": "markdown",
   "id": "historic-eligibility",
   "metadata": {
    "papermill": {
     "duration": 0.004017,
     "end_time": "2023-04-25T19:38:49.494092",
     "exception": false,
     "start_time": "2023-04-25T19:38:49.490075",
     "status": "completed"
    },
    "tags": []
   },
   "source": [
    "count how many fa-gn entries are with grant number"
   ]
  },
  {
   "cell_type": "code",
   "execution_count": 7,
   "id": "appropriate-coalition",
   "metadata": {
    "execution": {
     "iopub.execute_input": "2023-04-25T19:38:49.504286Z",
     "iopub.status.busy": "2023-04-25T19:38:49.503719Z",
     "iopub.status.idle": "2023-04-25T19:38:52.409506Z",
     "shell.execute_reply": "2023-04-25T19:38:52.408667Z"
    },
    "papermill": {
     "duration": 2.914766,
     "end_time": "2023-04-25T19:38:52.412855",
     "exception": false,
     "start_time": "2023-04-25T19:38:49.498089",
     "status": "completed"
    },
    "tags": []
   },
   "outputs": [
    {
     "data": {
      "text/plain": [
       "0.6977087938106727"
      ]
     },
     "execution_count": 7,
     "metadata": {},
     "output_type": "execute_result"
    }
   ],
   "source": [
    "pub_fund[pub_fund['Numero_Financement'].notnull()].shape[0]/pub_fund.shape[0]"
   ]
  },
  {
   "cell_type": "code",
   "execution_count": 8,
   "id": "endless-wireless",
   "metadata": {
    "execution": {
     "iopub.execute_input": "2023-04-25T19:38:52.427531Z",
     "iopub.status.busy": "2023-04-25T19:38:52.426642Z",
     "iopub.status.idle": "2023-04-25T19:39:00.900191Z",
     "shell.execute_reply": "2023-04-25T19:39:00.899235Z"
    },
    "papermill": {
     "duration": 8.482455,
     "end_time": "2023-04-25T19:39:00.903399",
     "exception": false,
     "start_time": "2023-04-25T19:38:52.420944",
     "status": "completed"
    },
    "tags": []
   },
   "outputs": [
    {
     "data": {
      "text/html": [
       "<div>\n",
       "<style scoped>\n",
       "    .dataframe tbody tr th:only-of-type {\n",
       "        vertical-align: middle;\n",
       "    }\n",
       "\n",
       "    .dataframe tbody tr th {\n",
       "        vertical-align: top;\n",
       "    }\n",
       "\n",
       "    .dataframe thead th {\n",
       "        text-align: right;\n",
       "    }\n",
       "</style>\n",
       "<table border=\"1\" class=\"dataframe\">\n",
       "  <thead>\n",
       "    <tr style=\"text-align: right;\">\n",
       "      <th></th>\n",
       "      <th>ID_Art</th>\n",
       "      <th>Pays</th>\n",
       "    </tr>\n",
       "  </thead>\n",
       "  <tbody>\n",
       "    <tr>\n",
       "      <th>0</th>\n",
       "      <td>61705542</td>\n",
       "      <td>PEOPLES-R-CHINA</td>\n",
       "    </tr>\n",
       "    <tr>\n",
       "      <th>1</th>\n",
       "      <td>46171057</td>\n",
       "      <td>AUSTRALIA</td>\n",
       "    </tr>\n",
       "    <tr>\n",
       "      <th>2</th>\n",
       "      <td>52161176</td>\n",
       "      <td>HUNGARY</td>\n",
       "    </tr>\n",
       "    <tr>\n",
       "      <th>3</th>\n",
       "      <td>62843155</td>\n",
       "      <td>SOUTH-KOREA</td>\n",
       "    </tr>\n",
       "    <tr>\n",
       "      <th>4</th>\n",
       "      <td>62124106</td>\n",
       "      <td>PORTUGAL</td>\n",
       "    </tr>\n",
       "  </tbody>\n",
       "</table>\n",
       "</div>"
      ],
      "text/plain": [
       "     ID_Art             Pays\n",
       "0  61705542  PEOPLES-R-CHINA\n",
       "1  46171057        AUSTRALIA\n",
       "2  52161176          HUNGARY\n",
       "3  62843155      SOUTH-KOREA\n",
       "4  62124106         PORTUGAL"
      ]
     },
     "execution_count": 8,
     "metadata": {},
     "output_type": "execute_result"
    }
   ],
   "source": [
    "pub_author=pd.read_csv(pub_author_path,sep=\"\\t\", on_bad_lines='skip')\n",
    "pub_author.head()"
   ]
  },
  {
   "cell_type": "code",
   "execution_count": 9,
   "id": "native-truck",
   "metadata": {
    "execution": {
     "iopub.execute_input": "2023-04-25T19:39:00.916982Z",
     "iopub.status.busy": "2023-04-25T19:39:00.916359Z",
     "iopub.status.idle": "2023-04-25T19:39:02.862604Z",
     "shell.execute_reply": "2023-04-25T19:39:02.861523Z"
    },
    "papermill": {
     "duration": 1.955574,
     "end_time": "2023-04-25T19:39:02.865812",
     "exception": false,
     "start_time": "2023-04-25T19:39:00.910238",
     "status": "completed"
    },
    "tags": []
   },
   "outputs": [],
   "source": [
    "cntry_df=pd.read_excel(cntry_path)\n",
    "cntry_dict=dict(zip(cntry_df['Clarivate country'],cntry_df['Country']))"
   ]
  },
  {
   "cell_type": "markdown",
   "id": "quiet-vaccine",
   "metadata": {
    "papermill": {
     "duration": 0.004366,
     "end_time": "2023-04-25T19:39:02.880465",
     "exception": false,
     "start_time": "2023-04-25T19:39:02.876099",
     "status": "completed"
    },
    "tags": []
   },
   "source": [
    "change the clarivate name into the standard format"
   ]
  },
  {
   "cell_type": "code",
   "execution_count": 10,
   "id": "isolated-zimbabwe",
   "metadata": {
    "execution": {
     "iopub.execute_input": "2023-04-25T19:39:02.891589Z",
     "iopub.status.busy": "2023-04-25T19:39:02.890658Z",
     "iopub.status.idle": "2023-04-25T19:44:30.948483Z",
     "shell.execute_reply": "2023-04-25T19:44:30.947263Z"
    },
    "papermill": {
     "duration": 328.06578,
     "end_time": "2023-04-25T19:44:30.950553",
     "exception": false,
     "start_time": "2023-04-25T19:39:02.884773",
     "status": "completed"
    },
    "tags": []
   },
   "outputs": [],
   "source": [
    "pub_fund=pub_fund.replace(to_replace={'Country':cntry_dict})"
   ]
  },
  {
   "cell_type": "code",
   "execution_count": 11,
   "id": "statutory-rolling",
   "metadata": {
    "execution": {
     "iopub.execute_input": "2023-04-25T19:44:30.961975Z",
     "iopub.status.busy": "2023-04-25T19:44:30.961534Z",
     "iopub.status.idle": "2023-04-25T19:48:00.074466Z",
     "shell.execute_reply": "2023-04-25T19:48:00.073195Z"
    },
    "papermill": {
     "duration": 209.122297,
     "end_time": "2023-04-25T19:48:00.078002",
     "exception": false,
     "start_time": "2023-04-25T19:44:30.955705",
     "status": "completed"
    },
    "tags": []
   },
   "outputs": [],
   "source": [
    "pub_author=pub_author.replace(to_replace={'Pays':cntry_dict})"
   ]
  },
  {
   "cell_type": "markdown",
   "id": "referenced-lighting",
   "metadata": {
    "papermill": {
     "duration": 0.004462,
     "end_time": "2023-04-25T19:48:00.093028",
     "exception": false,
     "start_time": "2023-04-25T19:48:00.088566",
     "status": "completed"
    },
    "tags": []
   },
   "source": [
    "consolidate three datasets into one big data sheet"
   ]
  },
  {
   "cell_type": "code",
   "execution_count": 12,
   "id": "underlying-superintendent",
   "metadata": {
    "execution": {
     "iopub.execute_input": "2023-04-25T19:48:00.104409Z",
     "iopub.status.busy": "2023-04-25T19:48:00.103431Z",
     "iopub.status.idle": "2023-04-25T19:55:32.004306Z",
     "shell.execute_reply": "2023-04-25T19:55:32.003062Z"
    },
    "papermill": {
     "duration": 451.910412,
     "end_time": "2023-04-25T19:55:32.007862",
     "exception": false,
     "start_time": "2023-04-25T19:48:00.097450",
     "status": "completed"
    },
    "tags": []
   },
   "outputs": [],
   "source": [
    "pub_fund=pub_fund[['ID_Art','Country']]\n",
    "pub_fund=pub_fund.groupby(['ID_Art'])['Country'].apply(list).reset_index()\n",
    "pub_author=pub_author.groupby(['ID_Art'])['Pays'].apply(list).reset_index()"
   ]
  },
  {
   "cell_type": "code",
   "execution_count": 13,
   "id": "valid-sweet",
   "metadata": {
    "execution": {
     "iopub.execute_input": "2023-04-25T19:55:32.025013Z",
     "iopub.status.busy": "2023-04-25T19:55:32.024084Z",
     "iopub.status.idle": "2023-04-25T19:55:32.036792Z",
     "shell.execute_reply": "2023-04-25T19:55:32.036018Z"
    },
    "papermill": {
     "duration": 0.022208,
     "end_time": "2023-04-25T19:55:32.039436",
     "exception": false,
     "start_time": "2023-04-25T19:55:32.017228",
     "status": "completed"
    },
    "tags": []
   },
   "outputs": [
    {
     "data": {
      "text/html": [
       "<div>\n",
       "<style scoped>\n",
       "    .dataframe tbody tr th:only-of-type {\n",
       "        vertical-align: middle;\n",
       "    }\n",
       "\n",
       "    .dataframe tbody tr th {\n",
       "        vertical-align: top;\n",
       "    }\n",
       "\n",
       "    .dataframe thead th {\n",
       "        text-align: right;\n",
       "    }\n",
       "</style>\n",
       "<table border=\"1\" class=\"dataframe\">\n",
       "  <thead>\n",
       "    <tr style=\"text-align: right;\">\n",
       "      <th></th>\n",
       "      <th>ID_Art</th>\n",
       "      <th>Pays</th>\n",
       "    </tr>\n",
       "  </thead>\n",
       "  <tbody>\n",
       "    <tr>\n",
       "      <th>0</th>\n",
       "      <td>30258899</td>\n",
       "      <td>[Vietnam, United States]</td>\n",
       "    </tr>\n",
       "    <tr>\n",
       "      <th>1</th>\n",
       "      <td>30258900</td>\n",
       "      <td>[Vietnam, France]</td>\n",
       "    </tr>\n",
       "    <tr>\n",
       "      <th>2</th>\n",
       "      <td>30258901</td>\n",
       "      <td>[Romania, France]</td>\n",
       "    </tr>\n",
       "    <tr>\n",
       "      <th>3</th>\n",
       "      <td>30258902</td>\n",
       "      <td>[United States]</td>\n",
       "    </tr>\n",
       "    <tr>\n",
       "      <th>4</th>\n",
       "      <td>30258903</td>\n",
       "      <td>[Italy]</td>\n",
       "    </tr>\n",
       "  </tbody>\n",
       "</table>\n",
       "</div>"
      ],
      "text/plain": [
       "     ID_Art                      Pays\n",
       "0  30258899  [Vietnam, United States]\n",
       "1  30258900         [Vietnam, France]\n",
       "2  30258901         [Romania, France]\n",
       "3  30258902           [United States]\n",
       "4  30258903                   [Italy]"
      ]
     },
     "execution_count": 13,
     "metadata": {},
     "output_type": "execute_result"
    }
   ],
   "source": [
    "pub_author.head()"
   ]
  },
  {
   "cell_type": "code",
   "execution_count": 14,
   "id": "atomic-passion",
   "metadata": {
    "execution": {
     "iopub.execute_input": "2023-04-25T19:55:32.052204Z",
     "iopub.status.busy": "2023-04-25T19:55:32.051348Z",
     "iopub.status.idle": "2023-04-25T19:55:32.061394Z",
     "shell.execute_reply": "2023-04-25T19:55:32.060641Z"
    },
    "papermill": {
     "duration": 0.017384,
     "end_time": "2023-04-25T19:55:32.063112",
     "exception": false,
     "start_time": "2023-04-25T19:55:32.045728",
     "status": "completed"
    },
    "tags": []
   },
   "outputs": [
    {
     "data": {
      "text/html": [
       "<div>\n",
       "<style scoped>\n",
       "    .dataframe tbody tr th:only-of-type {\n",
       "        vertical-align: middle;\n",
       "    }\n",
       "\n",
       "    .dataframe tbody tr th {\n",
       "        vertical-align: top;\n",
       "    }\n",
       "\n",
       "    .dataframe thead th {\n",
       "        text-align: right;\n",
       "    }\n",
       "</style>\n",
       "<table border=\"1\" class=\"dataframe\">\n",
       "  <thead>\n",
       "    <tr style=\"text-align: right;\">\n",
       "      <th></th>\n",
       "      <th>ID_Art</th>\n",
       "      <th>Country</th>\n",
       "    </tr>\n",
       "  </thead>\n",
       "  <tbody>\n",
       "    <tr>\n",
       "      <th>0</th>\n",
       "      <td>30507292</td>\n",
       "      <td>[Turkey]</td>\n",
       "    </tr>\n",
       "    <tr>\n",
       "      <th>1</th>\n",
       "      <td>30574690</td>\n",
       "      <td>[United States, United States, United States, ...</td>\n",
       "    </tr>\n",
       "    <tr>\n",
       "      <th>2</th>\n",
       "      <td>30574691</td>\n",
       "      <td>[Russia]</td>\n",
       "    </tr>\n",
       "    <tr>\n",
       "      <th>3</th>\n",
       "      <td>30585095</td>\n",
       "      <td>[Spain, Spain, Spain, Spain, Spain, Spain]</td>\n",
       "    </tr>\n",
       "    <tr>\n",
       "      <th>4</th>\n",
       "      <td>30585097</td>\n",
       "      <td>[Spain]</td>\n",
       "    </tr>\n",
       "  </tbody>\n",
       "</table>\n",
       "</div>"
      ],
      "text/plain": [
       "     ID_Art                                            Country\n",
       "0  30507292                                           [Turkey]\n",
       "1  30574690  [United States, United States, United States, ...\n",
       "2  30574691                                           [Russia]\n",
       "3  30585095         [Spain, Spain, Spain, Spain, Spain, Spain]\n",
       "4  30585097                                            [Spain]"
      ]
     },
     "execution_count": 14,
     "metadata": {},
     "output_type": "execute_result"
    }
   ],
   "source": [
    "pub_fund.head()"
   ]
  },
  {
   "cell_type": "code",
   "execution_count": 15,
   "id": "dirty-correction",
   "metadata": {
    "execution": {
     "iopub.execute_input": "2023-04-25T19:55:32.076599Z",
     "iopub.status.busy": "2023-04-25T19:55:32.076336Z",
     "iopub.status.idle": "2023-04-25T19:55:57.688189Z",
     "shell.execute_reply": "2023-04-25T19:55:57.686957Z"
    },
    "papermill": {
     "duration": 25.620918,
     "end_time": "2023-04-25T19:55:57.691830",
     "exception": false,
     "start_time": "2023-04-25T19:55:32.070912",
     "status": "completed"
    },
    "tags": []
   },
   "outputs": [],
   "source": [
    "pub_df=pub_df.merge(pub_author,on='ID_Art',how='left')\n",
    "pub_df=pub_df.merge(pub_fund,on='ID_Art',how='left')"
   ]
  },
  {
   "cell_type": "code",
   "execution_count": 16,
   "id": "supreme-belarus",
   "metadata": {
    "execution": {
     "iopub.execute_input": "2023-04-25T19:55:57.709108Z",
     "iopub.status.busy": "2023-04-25T19:55:57.708360Z",
     "iopub.status.idle": "2023-04-25T19:56:00.753101Z",
     "shell.execute_reply": "2023-04-25T19:56:00.752135Z"
    },
    "papermill": {
     "duration": 3.055057,
     "end_time": "2023-04-25T19:56:00.756484",
     "exception": false,
     "start_time": "2023-04-25T19:55:57.701427",
     "status": "completed"
    },
    "tags": []
   },
   "outputs": [],
   "source": [
    "pub_df['Country']=pub_df['Country'].fillna(value='Not-Funded')"
   ]
  },
  {
   "cell_type": "code",
   "execution_count": 17,
   "id": "cosmetic-status",
   "metadata": {
    "execution": {
     "iopub.execute_input": "2023-04-25T19:56:00.771960Z",
     "iopub.status.busy": "2023-04-25T19:56:00.771592Z",
     "iopub.status.idle": "2023-04-25T19:56:00.783244Z",
     "shell.execute_reply": "2023-04-25T19:56:00.782486Z"
    },
    "papermill": {
     "duration": 0.021014,
     "end_time": "2023-04-25T19:56:00.786842",
     "exception": false,
     "start_time": "2023-04-25T19:56:00.765828",
     "status": "completed"
    },
    "tags": []
   },
   "outputs": [
    {
     "data": {
      "text/html": [
       "<div>\n",
       "<style scoped>\n",
       "    .dataframe tbody tr th:only-of-type {\n",
       "        vertical-align: middle;\n",
       "    }\n",
       "\n",
       "    .dataframe tbody tr th {\n",
       "        vertical-align: top;\n",
       "    }\n",
       "\n",
       "    .dataframe thead th {\n",
       "        text-align: right;\n",
       "    }\n",
       "</style>\n",
       "<table border=\"1\" class=\"dataframe\">\n",
       "  <thead>\n",
       "    <tr style=\"text-align: right;\">\n",
       "      <th></th>\n",
       "      <th>ID_Art</th>\n",
       "      <th>Annee_Bibliographique</th>\n",
       "      <th>Code_Discipline</th>\n",
       "      <th>Code_Document</th>\n",
       "      <th>Pays</th>\n",
       "      <th>Country</th>\n",
       "    </tr>\n",
       "  </thead>\n",
       "  <tbody>\n",
       "    <tr>\n",
       "      <th>0</th>\n",
       "      <td>60694041</td>\n",
       "      <td>2017</td>\n",
       "      <td>9</td>\n",
       "      <td>1</td>\n",
       "      <td>[Canada, United States]</td>\n",
       "      <td>[United States, United States]</td>\n",
       "    </tr>\n",
       "    <tr>\n",
       "      <th>1</th>\n",
       "      <td>48573156</td>\n",
       "      <td>2012</td>\n",
       "      <td>89</td>\n",
       "      <td>1</td>\n",
       "      <td>[France]</td>\n",
       "      <td>Not-Funded</td>\n",
       "    </tr>\n",
       "    <tr>\n",
       "      <th>2</th>\n",
       "      <td>55323671</td>\n",
       "      <td>2015</td>\n",
       "      <td>89</td>\n",
       "      <td>1</td>\n",
       "      <td>[France, Chile]</td>\n",
       "      <td>[Chile, Chile, Chile, Chile, Chile]</td>\n",
       "    </tr>\n",
       "    <tr>\n",
       "      <th>3</th>\n",
       "      <td>57633115</td>\n",
       "      <td>2016</td>\n",
       "      <td>31</td>\n",
       "      <td>1</td>\n",
       "      <td>[Switzerland, United States]</td>\n",
       "      <td>[Switzerland]</td>\n",
       "    </tr>\n",
       "    <tr>\n",
       "      <th>4</th>\n",
       "      <td>64831413</td>\n",
       "      <td>2018</td>\n",
       "      <td>99</td>\n",
       "      <td>1</td>\n",
       "      <td>[China]</td>\n",
       "      <td>[China, China, China, China, China, China]</td>\n",
       "    </tr>\n",
       "  </tbody>\n",
       "</table>\n",
       "</div>"
      ],
      "text/plain": [
       "     ID_Art  Annee_Bibliographique  Code_Discipline  Code_Document   \n",
       "0  60694041                   2017                9              1  \\\n",
       "1  48573156                   2012               89              1   \n",
       "2  55323671                   2015               89              1   \n",
       "3  57633115                   2016               31              1   \n",
       "4  64831413                   2018               99              1   \n",
       "\n",
       "                           Pays                                     Country  \n",
       "0       [Canada, United States]              [United States, United States]  \n",
       "1                      [France]                                  Not-Funded  \n",
       "2               [France, Chile]         [Chile, Chile, Chile, Chile, Chile]  \n",
       "3  [Switzerland, United States]                               [Switzerland]  \n",
       "4                       [China]  [China, China, China, China, China, China]  "
      ]
     },
     "execution_count": 17,
     "metadata": {},
     "output_type": "execute_result"
    }
   ],
   "source": [
    "pub_df.head()"
   ]
  },
  {
   "cell_type": "code",
   "execution_count": 18,
   "id": "final-zambia",
   "metadata": {
    "execution": {
     "iopub.execute_input": "2023-04-25T19:56:00.801643Z",
     "iopub.status.busy": "2023-04-25T19:56:00.800674Z",
     "iopub.status.idle": "2023-04-25T19:56:30.844529Z",
     "shell.execute_reply": "2023-04-25T19:56:30.843459Z"
    },
    "papermill": {
     "duration": 30.053518,
     "end_time": "2023-04-25T19:56:30.847882",
     "exception": false,
     "start_time": "2023-04-25T19:56:00.794364",
     "status": "completed"
    },
    "tags": []
   },
   "outputs": [],
   "source": [
    "pub_df['author_distinct']=pub_df['Pays'].apply(lambda x: list(set(x)))\n",
    "pub_df['funder_distinct']=pub_df['Country'].apply(lambda x:list(set(x)) \n",
    "                                                  if x!='Not-Funded' else 'Not-Funded')"
   ]
  },
  {
   "cell_type": "code",
   "execution_count": 19,
   "id": "placed-plant",
   "metadata": {
    "execution": {
     "iopub.execute_input": "2023-04-25T19:56:30.864969Z",
     "iopub.status.busy": "2023-04-25T19:56:30.863783Z",
     "iopub.status.idle": "2023-04-25T19:56:36.458208Z",
     "shell.execute_reply": "2023-04-25T19:56:36.457229Z"
    },
    "papermill": {
     "duration": 5.604357,
     "end_time": "2023-04-25T19:56:36.461742",
     "exception": false,
     "start_time": "2023-04-25T19:56:30.857385",
     "status": "completed"
    },
    "tags": []
   },
   "outputs": [],
   "source": [
    "pub_df=pub_df.rename(mapper={'ID_Art':'id','Annee_Bibliographique':'year','Code_Discipline':'dis',\n",
    "                             'Code_Document':'type','Pays':'author','Country':'funder'},axis=1)"
   ]
  },
  {
   "cell_type": "code",
   "execution_count": 20,
   "id": "scheduled-stick",
   "metadata": {
    "execution": {
     "iopub.execute_input": "2023-04-25T19:56:36.479331Z",
     "iopub.status.busy": "2023-04-25T19:56:36.479086Z",
     "iopub.status.idle": "2023-04-25T19:56:36.492761Z",
     "shell.execute_reply": "2023-04-25T19:56:36.492010Z"
    },
    "papermill": {
     "duration": 0.022189,
     "end_time": "2023-04-25T19:56:36.495119",
     "exception": false,
     "start_time": "2023-04-25T19:56:36.472930",
     "status": "completed"
    },
    "tags": []
   },
   "outputs": [
    {
     "data": {
      "text/html": [
       "<div>\n",
       "<style scoped>\n",
       "    .dataframe tbody tr th:only-of-type {\n",
       "        vertical-align: middle;\n",
       "    }\n",
       "\n",
       "    .dataframe tbody tr th {\n",
       "        vertical-align: top;\n",
       "    }\n",
       "\n",
       "    .dataframe thead th {\n",
       "        text-align: right;\n",
       "    }\n",
       "</style>\n",
       "<table border=\"1\" class=\"dataframe\">\n",
       "  <thead>\n",
       "    <tr style=\"text-align: right;\">\n",
       "      <th></th>\n",
       "      <th>id</th>\n",
       "      <th>year</th>\n",
       "      <th>dis</th>\n",
       "      <th>type</th>\n",
       "      <th>author</th>\n",
       "      <th>funder</th>\n",
       "      <th>author_distinct</th>\n",
       "      <th>funder_distinct</th>\n",
       "    </tr>\n",
       "  </thead>\n",
       "  <tbody>\n",
       "    <tr>\n",
       "      <th>0</th>\n",
       "      <td>60694041</td>\n",
       "      <td>2017</td>\n",
       "      <td>9</td>\n",
       "      <td>1</td>\n",
       "      <td>[Canada, United States]</td>\n",
       "      <td>[United States, United States]</td>\n",
       "      <td>[Canada, United States]</td>\n",
       "      <td>[United States]</td>\n",
       "    </tr>\n",
       "    <tr>\n",
       "      <th>1</th>\n",
       "      <td>48573156</td>\n",
       "      <td>2012</td>\n",
       "      <td>89</td>\n",
       "      <td>1</td>\n",
       "      <td>[France]</td>\n",
       "      <td>Not-Funded</td>\n",
       "      <td>[France]</td>\n",
       "      <td>Not-Funded</td>\n",
       "    </tr>\n",
       "    <tr>\n",
       "      <th>2</th>\n",
       "      <td>55323671</td>\n",
       "      <td>2015</td>\n",
       "      <td>89</td>\n",
       "      <td>1</td>\n",
       "      <td>[France, Chile]</td>\n",
       "      <td>[Chile, Chile, Chile, Chile, Chile]</td>\n",
       "      <td>[Chile, France]</td>\n",
       "      <td>[Chile]</td>\n",
       "    </tr>\n",
       "    <tr>\n",
       "      <th>3</th>\n",
       "      <td>57633115</td>\n",
       "      <td>2016</td>\n",
       "      <td>31</td>\n",
       "      <td>1</td>\n",
       "      <td>[Switzerland, United States]</td>\n",
       "      <td>[Switzerland]</td>\n",
       "      <td>[Switzerland, United States]</td>\n",
       "      <td>[Switzerland]</td>\n",
       "    </tr>\n",
       "    <tr>\n",
       "      <th>4</th>\n",
       "      <td>64831413</td>\n",
       "      <td>2018</td>\n",
       "      <td>99</td>\n",
       "      <td>1</td>\n",
       "      <td>[China]</td>\n",
       "      <td>[China, China, China, China, China, China]</td>\n",
       "      <td>[China]</td>\n",
       "      <td>[China]</td>\n",
       "    </tr>\n",
       "  </tbody>\n",
       "</table>\n",
       "</div>"
      ],
      "text/plain": [
       "         id  year  dis  type                        author   \n",
       "0  60694041  2017    9     1       [Canada, United States]  \\\n",
       "1  48573156  2012   89     1                      [France]   \n",
       "2  55323671  2015   89     1               [France, Chile]   \n",
       "3  57633115  2016   31     1  [Switzerland, United States]   \n",
       "4  64831413  2018   99     1                       [China]   \n",
       "\n",
       "                                       funder               author_distinct   \n",
       "0              [United States, United States]       [Canada, United States]  \\\n",
       "1                                  Not-Funded                      [France]   \n",
       "2         [Chile, Chile, Chile, Chile, Chile]               [Chile, France]   \n",
       "3                               [Switzerland]  [Switzerland, United States]   \n",
       "4  [China, China, China, China, China, China]                       [China]   \n",
       "\n",
       "   funder_distinct  \n",
       "0  [United States]  \n",
       "1       Not-Funded  \n",
       "2          [Chile]  \n",
       "3    [Switzerland]  \n",
       "4          [China]  "
      ]
     },
     "execution_count": 20,
     "metadata": {},
     "output_type": "execute_result"
    }
   ],
   "source": [
    "pub_df.head()"
   ]
  },
  {
   "cell_type": "code",
   "execution_count": 21,
   "id": "manual-healing",
   "metadata": {
    "execution": {
     "iopub.execute_input": "2023-04-25T19:56:36.511485Z",
     "iopub.status.busy": "2023-04-25T19:56:36.510965Z",
     "iopub.status.idle": "2023-04-25T19:56:46.662254Z",
     "shell.execute_reply": "2023-04-25T19:56:46.661286Z"
    },
    "papermill": {
     "duration": 10.161281,
     "end_time": "2023-04-25T19:56:46.665665",
     "exception": false,
     "start_time": "2023-04-25T19:56:36.504384",
     "status": "completed"
    },
    "tags": []
   },
   "outputs": [
    {
     "data": {
      "text/html": [
       "<div>\n",
       "<style scoped>\n",
       "    .dataframe tbody tr th:only-of-type {\n",
       "        vertical-align: middle;\n",
       "    }\n",
       "\n",
       "    .dataframe tbody tr th {\n",
       "        vertical-align: top;\n",
       "    }\n",
       "\n",
       "    .dataframe thead th {\n",
       "        text-align: right;\n",
       "    }\n",
       "</style>\n",
       "<table border=\"1\" class=\"dataframe\">\n",
       "  <thead>\n",
       "    <tr style=\"text-align: right;\">\n",
       "      <th></th>\n",
       "      <th>id</th>\n",
       "      <th>year</th>\n",
       "      <th>dis</th>\n",
       "      <th>type</th>\n",
       "      <th>author</th>\n",
       "      <th>funder</th>\n",
       "      <th>author_distinct</th>\n",
       "      <th>funder_distinct</th>\n",
       "      <th>funded</th>\n",
       "      <th>IntCol</th>\n",
       "    </tr>\n",
       "  </thead>\n",
       "  <tbody>\n",
       "    <tr>\n",
       "      <th>0</th>\n",
       "      <td>60694041</td>\n",
       "      <td>2017</td>\n",
       "      <td>9</td>\n",
       "      <td>1</td>\n",
       "      <td>[Canada, United States]</td>\n",
       "      <td>[United States, United States]</td>\n",
       "      <td>[Canada, United States]</td>\n",
       "      <td>[United States]</td>\n",
       "      <td>1</td>\n",
       "      <td>1</td>\n",
       "    </tr>\n",
       "    <tr>\n",
       "      <th>1</th>\n",
       "      <td>48573156</td>\n",
       "      <td>2012</td>\n",
       "      <td>89</td>\n",
       "      <td>1</td>\n",
       "      <td>[France]</td>\n",
       "      <td>Not-Funded</td>\n",
       "      <td>[France]</td>\n",
       "      <td>Not-Funded</td>\n",
       "      <td>0</td>\n",
       "      <td>0</td>\n",
       "    </tr>\n",
       "    <tr>\n",
       "      <th>2</th>\n",
       "      <td>55323671</td>\n",
       "      <td>2015</td>\n",
       "      <td>89</td>\n",
       "      <td>1</td>\n",
       "      <td>[France, Chile]</td>\n",
       "      <td>[Chile, Chile, Chile, Chile, Chile]</td>\n",
       "      <td>[Chile, France]</td>\n",
       "      <td>[Chile]</td>\n",
       "      <td>1</td>\n",
       "      <td>1</td>\n",
       "    </tr>\n",
       "    <tr>\n",
       "      <th>3</th>\n",
       "      <td>57633115</td>\n",
       "      <td>2016</td>\n",
       "      <td>31</td>\n",
       "      <td>1</td>\n",
       "      <td>[Switzerland, United States]</td>\n",
       "      <td>[Switzerland]</td>\n",
       "      <td>[Switzerland, United States]</td>\n",
       "      <td>[Switzerland]</td>\n",
       "      <td>1</td>\n",
       "      <td>1</td>\n",
       "    </tr>\n",
       "    <tr>\n",
       "      <th>4</th>\n",
       "      <td>64831413</td>\n",
       "      <td>2018</td>\n",
       "      <td>99</td>\n",
       "      <td>1</td>\n",
       "      <td>[China]</td>\n",
       "      <td>[China, China, China, China, China, China]</td>\n",
       "      <td>[China]</td>\n",
       "      <td>[China]</td>\n",
       "      <td>1</td>\n",
       "      <td>0</td>\n",
       "    </tr>\n",
       "  </tbody>\n",
       "</table>\n",
       "</div>"
      ],
      "text/plain": [
       "         id  year  dis  type                        author   \n",
       "0  60694041  2017    9     1       [Canada, United States]  \\\n",
       "1  48573156  2012   89     1                      [France]   \n",
       "2  55323671  2015   89     1               [France, Chile]   \n",
       "3  57633115  2016   31     1  [Switzerland, United States]   \n",
       "4  64831413  2018   99     1                       [China]   \n",
       "\n",
       "                                       funder               author_distinct   \n",
       "0              [United States, United States]       [Canada, United States]  \\\n",
       "1                                  Not-Funded                      [France]   \n",
       "2         [Chile, Chile, Chile, Chile, Chile]               [Chile, France]   \n",
       "3                               [Switzerland]  [Switzerland, United States]   \n",
       "4  [China, China, China, China, China, China]                       [China]   \n",
       "\n",
       "   funder_distinct  funded  IntCol  \n",
       "0  [United States]       1       1  \n",
       "1       Not-Funded       0       0  \n",
       "2          [Chile]       1       1  \n",
       "3    [Switzerland]       1       1  \n",
       "4          [China]       1       0  "
      ]
     },
     "execution_count": 21,
     "metadata": {},
     "output_type": "execute_result"
    }
   ],
   "source": [
    "pub_df['funded']=pub_df['funder'].apply(lambda x:1 if x!='Not-Funded' else 0)\n",
    "pub_df['IntCol']=pub_df['author_distinct'].apply(lambda x:1 if len(x)>1 else 0)\n",
    "pub_df.head()"
   ]
  },
  {
   "cell_type": "code",
   "execution_count": 22,
   "id": "herbal-dinner",
   "metadata": {
    "execution": {
     "iopub.execute_input": "2023-04-25T19:56:46.682735Z",
     "iopub.status.busy": "2023-04-25T19:56:46.681701Z",
     "iopub.status.idle": "2023-04-25T19:56:52.335708Z",
     "shell.execute_reply": "2023-04-25T19:56:52.334697Z"
    },
    "papermill": {
     "duration": 5.664719,
     "end_time": "2023-04-25T19:56:52.339333",
     "exception": false,
     "start_time": "2023-04-25T19:56:46.674614",
     "status": "completed"
    },
    "tags": []
   },
   "outputs": [],
   "source": [
    "def cofund(funders):\n",
    "    label=1\n",
    "    if funders=='Not-Funded':\n",
    "        label=0\n",
    "    elif 'EU' not in funders and len(funders)==1:\n",
    "        label=0\n",
    "    return label\n",
    "pub_df['cofund']=pub_df['funder_distinct'].apply(lambda x: cofund(x))"
   ]
  },
  {
   "cell_type": "code",
   "execution_count": 23,
   "id": "associate-bumper",
   "metadata": {
    "execution": {
     "iopub.execute_input": "2023-04-25T19:56:52.356809Z",
     "iopub.status.busy": "2023-04-25T19:56:52.356554Z",
     "iopub.status.idle": "2023-04-25T20:00:32.546537Z",
     "shell.execute_reply": "2023-04-25T20:00:32.545282Z"
    },
    "papermill": {
     "duration": 220.200076,
     "end_time": "2023-04-25T20:00:32.550085",
     "exception": false,
     "start_time": "2023-04-25T19:56:52.350009",
     "status": "completed"
    },
    "tags": []
   },
   "outputs": [],
   "source": [
    "def intfund(funder, author, cofund):\n",
    "    label = 0\n",
    "    if cofund==1:\n",
    "        label =1\n",
    "    elif funder!='Not-Funded' and funder[0] not in author:\n",
    "        label = 1\n",
    "    return label\n",
    "pub_df['intfund']=pub_df[['funder_distinct','author_distinct','cofund']].apply(\n",
    "    lambda x:intfund(x.funder_distinct,x.author_distinct,x.cofund),axis=1)"
   ]
  },
  {
   "cell_type": "code",
   "execution_count": 24,
   "id": "pressing-wesley",
   "metadata": {
    "execution": {
     "iopub.execute_input": "2023-04-25T20:00:32.569780Z",
     "iopub.status.busy": "2023-04-25T20:00:32.569035Z",
     "iopub.status.idle": "2023-04-25T20:01:21.836004Z",
     "shell.execute_reply": "2023-04-25T20:01:21.834036Z"
    },
    "papermill": {
     "duration": 49.27781,
     "end_time": "2023-04-25T20:01:21.839270",
     "exception": false,
     "start_time": "2023-04-25T20:00:32.561460",
     "status": "completed"
    },
    "tags": []
   },
   "outputs": [],
   "source": [
    "pub_df.to_pickle(clean_pub_path)"
   ]
  },
  {
   "cell_type": "code",
   "execution_count": null,
   "id": "132c2eec-ac5f-4b84-a842-68807d11e084",
   "metadata": {
    "papermill": {
     "duration": 0.005679,
     "end_time": "2023-04-25T20:01:21.851393",
     "exception": false,
     "start_time": "2023-04-25T20:01:21.845714",
     "status": "completed"
    },
    "tags": []
   },
   "outputs": [],
   "source": []
  }
 ],
 "metadata": {
  "kernelspec": {
   "display_name": "Python 3 (ipykernel)",
   "language": "python",
   "name": "python3"
  },
  "language_info": {
   "codemirror_mode": {
    "name": "ipython",
    "version": 3
   },
   "file_extension": ".py",
   "mimetype": "text/x-python",
   "name": "python",
   "nbconvert_exporter": "python",
   "pygments_lexer": "ipython3",
   "version": "3.8.16"
  },
  "papermill": {
   "default_parameters": {},
   "duration": 1411.977072,
   "end_time": "2023-04-25T20:01:25.179583",
   "environment_variables": {},
   "exception": null,
   "input_path": "scripts/compile_data.ipynb",
   "output_path": "scripts/outputs/compile_data.ipynb",
   "parameters": {
    "clean_pub_path": "../data/NationalFunding/Data/DerivedData/CleanedRawData/pub.pkl",
    "cntry_path": "../data/NationalFunding/Data/AdditionalData/cntry_convert.xlsx",
    "pub_author_path": "../data/NationalFunding/Data/RawData/pub_author.csv",
    "pub_fund_path": "../data/NationalFunding/Data/RawData/pub_funder.csv",
    "pub_path": "../data/NationalFunding/Data/RawData/pubs.csv"
   },
   "start_time": "2023-04-25T19:37:53.202511",
   "version": "2.3.4"
  }
 },
 "nbformat": 4,
 "nbformat_minor": 5
}