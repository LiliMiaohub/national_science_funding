{
 "cells": [
  {
   "cell_type": "markdown",
   "id": "beginning-bronze",
   "metadata": {
    "papermill": {
     "duration": 0.005069,
     "end_time": "2024-02-28T22:46:35.781746",
     "exception": false,
     "start_time": "2024-02-28T22:46:35.776677",
     "status": "completed"
    },
    "tags": []
   },
   "source": [
    "### this script cleans and compiles raw data. \n",
    "\n",
    "Input includes:\n",
    "- **pub**: discipline and year information of publications\n",
    "- **pub_fund**:funding instance of publications\n",
    "- **pub_author**:author country of publications\n",
    "- **cntry**: country convert table which map wos country name to standard format.\n",
    "\n",
    "Output includes:\n",
    "- **clean_pub**: a consolidated pickle file has abovementioned information with two extra indicators including funded (whether the paper is funded) and intcol (whether the paper is internationally coauthored)."
   ]
  },
  {
   "cell_type": "code",
   "execution_count": 1,
   "id": "adapted-surge",
   "metadata": {
    "execution": {
     "iopub.execute_input": "2024-02-28T22:46:35.791909Z",
     "iopub.status.busy": "2024-02-28T22:46:35.791087Z",
     "iopub.status.idle": "2024-02-28T22:46:36.168728Z",
     "shell.execute_reply": "2024-02-28T22:46:36.167627Z"
    },
    "papermill": {
     "duration": 0.386405,
     "end_time": "2024-02-28T22:46:36.172531",
     "exception": false,
     "start_time": "2024-02-28T22:46:35.786126",
     "status": "completed"
    },
    "tags": []
   },
   "outputs": [],
   "source": [
    "import pandas as pd\n",
    "import numpy as np\n",
    "from ast import literal_eval"
   ]
  },
  {
   "cell_type": "code",
   "execution_count": 2,
   "id": "roman-massage",
   "metadata": {
    "execution": {
     "iopub.execute_input": "2024-02-28T22:46:36.188090Z",
     "iopub.status.busy": "2024-02-28T22:46:36.186784Z",
     "iopub.status.idle": "2024-02-28T22:46:36.193319Z",
     "shell.execute_reply": "2024-02-28T22:46:36.192575Z"
    },
    "papermill": {
     "duration": 0.013163,
     "end_time": "2024-02-28T22:46:36.194575",
     "exception": false,
     "start_time": "2024-02-28T22:46:36.181412",
     "status": "completed"
    },
    "tags": [
     "parameters"
    ]
   },
   "outputs": [],
   "source": [
    "pub_path=\"../../data/nf_folder/Data/RawData/pubs.csv\"\n",
    "pub_fund_path=\"../../data/nf_folder/Data/RawData/pub_funder.csv\"\n",
    "pub_author_path=\"../../data/nf_folder/Data/RawData/pub_author.csv\"\n",
    "cntry_path=\"../../data/NationalFunding/Data/AdditionalData/cntry_convert.xlsx\"\n",
    "\n",
    "clean_pub_path=\"../../data/NationalFunding/Data/DerivedData/CleanedRawData/pub.pkl\""
   ]
  },
  {
   "cell_type": "code",
   "execution_count": 3,
   "id": "c9c2ba6a",
   "metadata": {
    "execution": {
     "iopub.execute_input": "2024-02-28T22:46:36.205762Z",
     "iopub.status.busy": "2024-02-28T22:46:36.204896Z",
     "iopub.status.idle": "2024-02-28T22:46:36.211341Z",
     "shell.execute_reply": "2024-02-28T22:46:36.210177Z"
    },
    "papermill": {
     "duration": 0.013848,
     "end_time": "2024-02-28T22:46:36.212854",
     "exception": false,
     "start_time": "2024-02-28T22:46:36.199006",
     "status": "completed"
    },
    "tags": [
     "injected-parameters"
    ]
   },
   "outputs": [],
   "source": [
    "# Parameters\n",
    "pub_path = \"../data/NationalFunding/Data/simulated_data/Data/RawData/pubs.csv\"\n",
    "pub_author_path = (\n",
    "    \"../data/NationalFunding/Data/simulated_data/Data/RawData/pub_author.csv\"\n",
    ")\n",
    "pub_fund_path = (\n",
    "    \"../data/NationalFunding/Data/simulated_data/Data/RawData/pub_funder.csv\"\n",
    ")\n",
    "cntry_path = (\n",
    "    \"../data/NationalFunding/Data/simulated_data/Data/AdditionalData/cntry_convert.xlsx\"\n",
    ")\n",
    "clean_pub_path = \"../data/NationalFunding/Data/simulated_data/Data/DerivedData/CleanedRawData/pub.pkl\"\n"
   ]
  },
  {
   "cell_type": "code",
   "execution_count": 4,
   "id": "aa1392fc-9df6-40dd-9b97-a365b4dc0dd7",
   "metadata": {
    "execution": {
     "iopub.execute_input": "2024-02-28T22:46:36.222904Z",
     "iopub.status.busy": "2024-02-28T22:46:36.222148Z",
     "iopub.status.idle": "2024-02-28T22:46:37.025474Z",
     "shell.execute_reply": "2024-02-28T22:46:37.024200Z"
    },
    "papermill": {
     "duration": 0.812344,
     "end_time": "2024-02-28T22:46:37.029168",
     "exception": false,
     "start_time": "2024-02-28T22:46:36.216824",
     "status": "completed"
    },
    "tags": []
   },
   "outputs": [],
   "source": [
    "pd.DataFrame().to_pickle(clean_pub_path)"
   ]
  },
  {
   "cell_type": "code",
   "execution_count": 5,
   "id": "cloudy-queensland",
   "metadata": {
    "execution": {
     "iopub.execute_input": "2024-02-28T22:46:37.043458Z",
     "iopub.status.busy": "2024-02-28T22:46:37.042485Z",
     "iopub.status.idle": "2024-02-28T22:46:37.988881Z",
     "shell.execute_reply": "2024-02-28T22:46:37.987318Z"
    },
    "papermill": {
     "duration": 0.954906,
     "end_time": "2024-02-28T22:46:37.992311",
     "exception": false,
     "start_time": "2024-02-28T22:46:37.037405",
     "status": "completed"
    },
    "tags": []
   },
   "outputs": [
    {
     "data": {
      "text/html": [
       "<div>\n",
       "<style scoped>\n",
       "    .dataframe tbody tr th:only-of-type {\n",
       "        vertical-align: middle;\n",
       "    }\n",
       "\n",
       "    .dataframe tbody tr th {\n",
       "        vertical-align: top;\n",
       "    }\n",
       "\n",
       "    .dataframe thead th {\n",
       "        text-align: right;\n",
       "    }\n",
       "</style>\n",
       "<table border=\"1\" class=\"dataframe\">\n",
       "  <thead>\n",
       "    <tr style=\"text-align: right;\">\n",
       "      <th></th>\n",
       "      <th>ID_Art</th>\n",
       "      <th>Annee_Bibliographique</th>\n",
       "      <th>Code_Discipline</th>\n",
       "      <th>Code_Document</th>\n",
       "    </tr>\n",
       "  </thead>\n",
       "  <tbody>\n",
       "    <tr>\n",
       "      <th>0</th>\n",
       "      <td>0</td>\n",
       "      <td>2014</td>\n",
       "      <td>29</td>\n",
       "      <td>1</td>\n",
       "    </tr>\n",
       "    <tr>\n",
       "      <th>1</th>\n",
       "      <td>1</td>\n",
       "      <td>2017</td>\n",
       "      <td>32</td>\n",
       "      <td>1</td>\n",
       "    </tr>\n",
       "    <tr>\n",
       "      <th>2</th>\n",
       "      <td>2</td>\n",
       "      <td>2012</td>\n",
       "      <td>15</td>\n",
       "      <td>1</td>\n",
       "    </tr>\n",
       "    <tr>\n",
       "      <th>3</th>\n",
       "      <td>3</td>\n",
       "      <td>2010</td>\n",
       "      <td>53</td>\n",
       "      <td>1</td>\n",
       "    </tr>\n",
       "    <tr>\n",
       "      <th>4</th>\n",
       "      <td>4</td>\n",
       "      <td>2015</td>\n",
       "      <td>22</td>\n",
       "      <td>1</td>\n",
       "    </tr>\n",
       "  </tbody>\n",
       "</table>\n",
       "</div>"
      ],
      "text/plain": [
       "   ID_Art  Annee_Bibliographique  Code_Discipline  Code_Document\n",
       "0       0                   2014               29              1\n",
       "1       1                   2017               32              1\n",
       "2       2                   2012               15              1\n",
       "3       3                   2010               53              1\n",
       "4       4                   2015               22              1"
      ]
     },
     "execution_count": 5,
     "metadata": {},
     "output_type": "execute_result"
    }
   ],
   "source": [
    "pub_df=pd.read_csv(pub_path,sep=\"\\t\")\n",
    "pub_df.head()"
   ]
  },
  {
   "cell_type": "markdown",
   "id": "removed-earthquake",
   "metadata": {
    "papermill": {
     "duration": 0.004085,
     "end_time": "2024-02-28T22:46:38.002935",
     "exception": false,
     "start_time": "2024-02-28T22:46:37.998850",
     "status": "completed"
    },
    "tags": []
   },
   "source": [
    "count how many pubs in each document type"
   ]
  },
  {
   "cell_type": "code",
   "execution_count": 6,
   "id": "assigned-logan",
   "metadata": {
    "execution": {
     "iopub.execute_input": "2024-02-28T22:46:38.013437Z",
     "iopub.status.busy": "2024-02-28T22:46:38.012695Z",
     "iopub.status.idle": "2024-02-28T22:46:39.183705Z",
     "shell.execute_reply": "2024-02-28T22:46:39.182851Z"
    },
    "papermill": {
     "duration": 1.180341,
     "end_time": "2024-02-28T22:46:39.187322",
     "exception": false,
     "start_time": "2024-02-28T22:46:38.006981",
     "status": "completed"
    },
    "tags": []
   },
   "outputs": [
    {
     "data": {
      "text/html": [
       "<div>\n",
       "<style scoped>\n",
       "    .dataframe tbody tr th:only-of-type {\n",
       "        vertical-align: middle;\n",
       "    }\n",
       "\n",
       "    .dataframe tbody tr th {\n",
       "        vertical-align: top;\n",
       "    }\n",
       "\n",
       "    .dataframe thead th {\n",
       "        text-align: right;\n",
       "    }\n",
       "</style>\n",
       "<table border=\"1\" class=\"dataframe\">\n",
       "  <thead>\n",
       "    <tr style=\"text-align: right;\">\n",
       "      <th></th>\n",
       "      <th>ID_Art</th>\n",
       "      <th>Country</th>\n",
       "    </tr>\n",
       "  </thead>\n",
       "  <tbody>\n",
       "    <tr>\n",
       "      <th>0</th>\n",
       "      <td>253668</td>\n",
       "      <td>CZECH-REPUBLIC</td>\n",
       "    </tr>\n",
       "    <tr>\n",
       "      <th>1</th>\n",
       "      <td>574338</td>\n",
       "      <td>PEOPLES-R-CHINA</td>\n",
       "    </tr>\n",
       "    <tr>\n",
       "      <th>2</th>\n",
       "      <td>136486</td>\n",
       "      <td>BRAZIL</td>\n",
       "    </tr>\n",
       "    <tr>\n",
       "      <th>3</th>\n",
       "      <td>513654</td>\n",
       "      <td>USA</td>\n",
       "    </tr>\n",
       "    <tr>\n",
       "      <th>4</th>\n",
       "      <td>348664</td>\n",
       "      <td>USA</td>\n",
       "    </tr>\n",
       "  </tbody>\n",
       "</table>\n",
       "</div>"
      ],
      "text/plain": [
       "   ID_Art          Country\n",
       "0  253668   CZECH-REPUBLIC\n",
       "1  574338  PEOPLES-R-CHINA\n",
       "2  136486           BRAZIL\n",
       "3  513654              USA\n",
       "4  348664              USA"
      ]
     },
     "execution_count": 6,
     "metadata": {},
     "output_type": "execute_result"
    }
   ],
   "source": [
    "pub_fund=pd.read_csv(pub_fund_path,sep=\"\\t\", on_bad_lines='skip')\n",
    "pub_fund.head()"
   ]
  },
  {
   "cell_type": "markdown",
   "id": "historic-eligibility",
   "metadata": {
    "papermill": {
     "duration": 0.004287,
     "end_time": "2024-02-28T22:46:39.199014",
     "exception": false,
     "start_time": "2024-02-28T22:46:39.194727",
     "status": "completed"
    },
    "tags": []
   },
   "source": [
    "count how many fa-gn entries are with grant number"
   ]
  },
  {
   "cell_type": "code",
   "execution_count": 7,
   "id": "endless-wireless",
   "metadata": {
    "execution": {
     "iopub.execute_input": "2024-02-28T22:46:39.209657Z",
     "iopub.status.busy": "2024-02-28T22:46:39.208756Z",
     "iopub.status.idle": "2024-02-28T22:46:40.355049Z",
     "shell.execute_reply": "2024-02-28T22:46:40.354357Z"
    },
    "papermill": {
     "duration": 1.155464,
     "end_time": "2024-02-28T22:46:40.358564",
     "exception": false,
     "start_time": "2024-02-28T22:46:39.203100",
     "status": "completed"
    },
    "tags": []
   },
   "outputs": [
    {
     "data": {
      "text/html": [
       "<div>\n",
       "<style scoped>\n",
       "    .dataframe tbody tr th:only-of-type {\n",
       "        vertical-align: middle;\n",
       "    }\n",
       "\n",
       "    .dataframe tbody tr th {\n",
       "        vertical-align: top;\n",
       "    }\n",
       "\n",
       "    .dataframe thead th {\n",
       "        text-align: right;\n",
       "    }\n",
       "</style>\n",
       "<table border=\"1\" class=\"dataframe\">\n",
       "  <thead>\n",
       "    <tr style=\"text-align: right;\">\n",
       "      <th></th>\n",
       "      <th>ID_Art</th>\n",
       "      <th>Pays</th>\n",
       "    </tr>\n",
       "  </thead>\n",
       "  <tbody>\n",
       "    <tr>\n",
       "      <th>0</th>\n",
       "      <td>614376</td>\n",
       "      <td>SOUTH-KOREA</td>\n",
       "    </tr>\n",
       "    <tr>\n",
       "      <th>1</th>\n",
       "      <td>330068</td>\n",
       "      <td>SWITZERLAND</td>\n",
       "    </tr>\n",
       "    <tr>\n",
       "      <th>2</th>\n",
       "      <td>324252</td>\n",
       "      <td>USA</td>\n",
       "    </tr>\n",
       "    <tr>\n",
       "      <th>3</th>\n",
       "      <td>299648</td>\n",
       "      <td>USA</td>\n",
       "    </tr>\n",
       "    <tr>\n",
       "      <th>4</th>\n",
       "      <td>571067</td>\n",
       "      <td>USA</td>\n",
       "    </tr>\n",
       "  </tbody>\n",
       "</table>\n",
       "</div>"
      ],
      "text/plain": [
       "   ID_Art         Pays\n",
       "0  614376  SOUTH-KOREA\n",
       "1  330068  SWITZERLAND\n",
       "2  324252          USA\n",
       "3  299648          USA\n",
       "4  571067          USA"
      ]
     },
     "execution_count": 7,
     "metadata": {},
     "output_type": "execute_result"
    }
   ],
   "source": [
    "pub_author=pd.read_csv(pub_author_path,sep=\"\\t\", on_bad_lines='skip')\n",
    "pub_author.head()"
   ]
  },
  {
   "cell_type": "code",
   "execution_count": 8,
   "id": "native-truck",
   "metadata": {
    "execution": {
     "iopub.execute_input": "2024-02-28T22:46:40.371548Z",
     "iopub.status.busy": "2024-02-28T22:46:40.370301Z",
     "iopub.status.idle": "2024-02-28T22:46:42.321008Z",
     "shell.execute_reply": "2024-02-28T22:46:42.319863Z"
    },
    "papermill": {
     "duration": 1.960331,
     "end_time": "2024-02-28T22:46:42.324621",
     "exception": false,
     "start_time": "2024-02-28T22:46:40.364290",
     "status": "completed"
    },
    "tags": []
   },
   "outputs": [],
   "source": [
    "cntry_df=pd.read_excel(cntry_path)\n",
    "cntry_dict=dict(zip(cntry_df['Clarivate country'],cntry_df['Country']))"
   ]
  },
  {
   "cell_type": "markdown",
   "id": "quiet-vaccine",
   "metadata": {
    "papermill": {
     "duration": 0.004445,
     "end_time": "2024-02-28T22:46:42.335765",
     "exception": false,
     "start_time": "2024-02-28T22:46:42.331320",
     "status": "completed"
    },
    "tags": []
   },
   "source": [
    "change the clarivate name into the standard format"
   ]
  },
  {
   "cell_type": "code",
   "execution_count": 9,
   "id": "isolated-zimbabwe",
   "metadata": {
    "execution": {
     "iopub.execute_input": "2024-02-28T22:46:42.347638Z",
     "iopub.status.busy": "2024-02-28T22:46:42.346501Z",
     "iopub.status.idle": "2024-02-28T22:46:56.732932Z",
     "shell.execute_reply": "2024-02-28T22:46:56.731602Z"
    },
    "papermill": {
     "duration": 14.395959,
     "end_time": "2024-02-28T22:46:56.736657",
     "exception": false,
     "start_time": "2024-02-28T22:46:42.340698",
     "status": "completed"
    },
    "tags": []
   },
   "outputs": [],
   "source": [
    "pub_fund=pub_fund.replace(to_replace={'Country':cntry_dict})"
   ]
  },
  {
   "cell_type": "code",
   "execution_count": 10,
   "id": "statutory-rolling",
   "metadata": {
    "execution": {
     "iopub.execute_input": "2024-02-28T22:46:56.752197Z",
     "iopub.status.busy": "2024-02-28T22:46:56.751914Z",
     "iopub.status.idle": "2024-02-28T22:47:04.692131Z",
     "shell.execute_reply": "2024-02-28T22:47:04.690991Z"
    },
    "papermill": {
     "duration": 7.949203,
     "end_time": "2024-02-28T22:47:04.695424",
     "exception": false,
     "start_time": "2024-02-28T22:46:56.746221",
     "status": "completed"
    },
    "tags": []
   },
   "outputs": [],
   "source": [
    "pub_author=pub_author.replace(to_replace={'Pays':cntry_dict})"
   ]
  },
  {
   "cell_type": "markdown",
   "id": "referenced-lighting",
   "metadata": {
    "papermill": {
     "duration": 0.004466,
     "end_time": "2024-02-28T22:47:04.710127",
     "exception": false,
     "start_time": "2024-02-28T22:47:04.705661",
     "status": "completed"
    },
    "tags": []
   },
   "source": [
    "consolidate three datasets into one big data sheet"
   ]
  },
  {
   "cell_type": "code",
   "execution_count": 11,
   "id": "underlying-superintendent",
   "metadata": {
    "execution": {
     "iopub.execute_input": "2024-02-28T22:47:04.720456Z",
     "iopub.status.busy": "2024-02-28T22:47:04.720011Z",
     "iopub.status.idle": "2024-02-28T22:47:27.141140Z",
     "shell.execute_reply": "2024-02-28T22:47:27.139976Z"
    },
    "papermill": {
     "duration": 22.43033,
     "end_time": "2024-02-28T22:47:27.144884",
     "exception": false,
     "start_time": "2024-02-28T22:47:04.714554",
     "status": "completed"
    },
    "tags": []
   },
   "outputs": [],
   "source": [
    "pub_fund=pub_fund[['ID_Art','Country']]\n",
    "pub_fund=pub_fund.groupby(['ID_Art'])['Country'].apply(list).reset_index()\n",
    "pub_author=pub_author.groupby(['ID_Art'])['Pays'].apply(list).reset_index()"
   ]
  },
  {
   "cell_type": "code",
   "execution_count": 12,
   "id": "valid-sweet",
   "metadata": {
    "execution": {
     "iopub.execute_input": "2024-02-28T22:47:27.161164Z",
     "iopub.status.busy": "2024-02-28T22:47:27.160487Z",
     "iopub.status.idle": "2024-02-28T22:47:27.173485Z",
     "shell.execute_reply": "2024-02-28T22:47:27.172742Z"
    },
    "papermill": {
     "duration": 0.02217,
     "end_time": "2024-02-28T22:47:27.176524",
     "exception": false,
     "start_time": "2024-02-28T22:47:27.154354",
     "status": "completed"
    },
    "tags": []
   },
   "outputs": [
    {
     "data": {
      "text/html": [
       "<div>\n",
       "<style scoped>\n",
       "    .dataframe tbody tr th:only-of-type {\n",
       "        vertical-align: middle;\n",
       "    }\n",
       "\n",
       "    .dataframe tbody tr th {\n",
       "        vertical-align: top;\n",
       "    }\n",
       "\n",
       "    .dataframe thead th {\n",
       "        text-align: right;\n",
       "    }\n",
       "</style>\n",
       "<table border=\"1\" class=\"dataframe\">\n",
       "  <thead>\n",
       "    <tr style=\"text-align: right;\">\n",
       "      <th></th>\n",
       "      <th>ID_Art</th>\n",
       "      <th>Pays</th>\n",
       "    </tr>\n",
       "  </thead>\n",
       "  <tbody>\n",
       "    <tr>\n",
       "      <th>0</th>\n",
       "      <td>0</td>\n",
       "      <td>[Canada]</td>\n",
       "    </tr>\n",
       "    <tr>\n",
       "      <th>1</th>\n",
       "      <td>1</td>\n",
       "      <td>[Russia, Spain]</td>\n",
       "    </tr>\n",
       "    <tr>\n",
       "      <th>2</th>\n",
       "      <td>2</td>\n",
       "      <td>[Turkey]</td>\n",
       "    </tr>\n",
       "    <tr>\n",
       "      <th>3</th>\n",
       "      <td>3</td>\n",
       "      <td>[United States, Iran]</td>\n",
       "    </tr>\n",
       "    <tr>\n",
       "      <th>4</th>\n",
       "      <td>4</td>\n",
       "      <td>[Denmark]</td>\n",
       "    </tr>\n",
       "  </tbody>\n",
       "</table>\n",
       "</div>"
      ],
      "text/plain": [
       "   ID_Art                   Pays\n",
       "0       0               [Canada]\n",
       "1       1        [Russia, Spain]\n",
       "2       2               [Turkey]\n",
       "3       3  [United States, Iran]\n",
       "4       4              [Denmark]"
      ]
     },
     "execution_count": 12,
     "metadata": {},
     "output_type": "execute_result"
    }
   ],
   "source": [
    "pub_author.head()"
   ]
  },
  {
   "cell_type": "code",
   "execution_count": 13,
   "id": "atomic-passion",
   "metadata": {
    "execution": {
     "iopub.execute_input": "2024-02-28T22:47:27.190075Z",
     "iopub.status.busy": "2024-02-28T22:47:27.189058Z",
     "iopub.status.idle": "2024-02-28T22:47:27.201083Z",
     "shell.execute_reply": "2024-02-28T22:47:27.200365Z"
    },
    "papermill": {
     "duration": 0.020805,
     "end_time": "2024-02-28T22:47:27.203995",
     "exception": false,
     "start_time": "2024-02-28T22:47:27.183190",
     "status": "completed"
    },
    "tags": []
   },
   "outputs": [
    {
     "data": {
      "text/html": [
       "<div>\n",
       "<style scoped>\n",
       "    .dataframe tbody tr th:only-of-type {\n",
       "        vertical-align: middle;\n",
       "    }\n",
       "\n",
       "    .dataframe tbody tr th {\n",
       "        vertical-align: top;\n",
       "    }\n",
       "\n",
       "    .dataframe thead th {\n",
       "        text-align: right;\n",
       "    }\n",
       "</style>\n",
       "<table border=\"1\" class=\"dataframe\">\n",
       "  <thead>\n",
       "    <tr style=\"text-align: right;\">\n",
       "      <th></th>\n",
       "      <th>ID_Art</th>\n",
       "      <th>Country</th>\n",
       "    </tr>\n",
       "  </thead>\n",
       "  <tbody>\n",
       "    <tr>\n",
       "      <th>0</th>\n",
       "      <td>0</td>\n",
       "      <td>[United States, Brazil, United States, Republi...</td>\n",
       "    </tr>\n",
       "    <tr>\n",
       "      <th>1</th>\n",
       "      <td>1</td>\n",
       "      <td>[Austria, China, China, China, United States, ...</td>\n",
       "    </tr>\n",
       "    <tr>\n",
       "      <th>2</th>\n",
       "      <td>3</td>\n",
       "      <td>[China]</td>\n",
       "    </tr>\n",
       "    <tr>\n",
       "      <th>3</th>\n",
       "      <td>5</td>\n",
       "      <td>[Austria, China, Taiwan, South Korea, Switzerl...</td>\n",
       "    </tr>\n",
       "    <tr>\n",
       "      <th>4</th>\n",
       "      <td>8</td>\n",
       "      <td>[Germany, United States, China, Germany, Unite...</td>\n",
       "    </tr>\n",
       "  </tbody>\n",
       "</table>\n",
       "</div>"
      ],
      "text/plain": [
       "   ID_Art                                            Country\n",
       "0       0  [United States, Brazil, United States, Republi...\n",
       "1       1  [Austria, China, China, China, United States, ...\n",
       "2       3                                            [China]\n",
       "3       5  [Austria, China, Taiwan, South Korea, Switzerl...\n",
       "4       8  [Germany, United States, China, Germany, Unite..."
      ]
     },
     "execution_count": 13,
     "metadata": {},
     "output_type": "execute_result"
    }
   ],
   "source": [
    "pub_fund.head()"
   ]
  },
  {
   "cell_type": "code",
   "execution_count": 14,
   "id": "dirty-correction",
   "metadata": {
    "execution": {
     "iopub.execute_input": "2024-02-28T22:47:27.217702Z",
     "iopub.status.busy": "2024-02-28T22:47:27.216911Z",
     "iopub.status.idle": "2024-02-28T22:47:27.579225Z",
     "shell.execute_reply": "2024-02-28T22:47:27.577960Z"
    },
    "papermill": {
     "duration": 0.370768,
     "end_time": "2024-02-28T22:47:27.581688",
     "exception": false,
     "start_time": "2024-02-28T22:47:27.210920",
     "status": "completed"
    },
    "tags": []
   },
   "outputs": [],
   "source": [
    "pub_df=pub_df.merge(pub_author,on='ID_Art',how='left')\n",
    "pub_df=pub_df.merge(pub_fund,on='ID_Art',how='left')"
   ]
  },
  {
   "cell_type": "code",
   "execution_count": 15,
   "id": "supreme-belarus",
   "metadata": {
    "execution": {
     "iopub.execute_input": "2024-02-28T22:47:27.597927Z",
     "iopub.status.busy": "2024-02-28T22:47:27.597441Z",
     "iopub.status.idle": "2024-02-28T22:47:27.668756Z",
     "shell.execute_reply": "2024-02-28T22:47:27.667796Z"
    },
    "papermill": {
     "duration": 0.081365,
     "end_time": "2024-02-28T22:47:27.670722",
     "exception": false,
     "start_time": "2024-02-28T22:47:27.589357",
     "status": "completed"
    },
    "tags": []
   },
   "outputs": [],
   "source": [
    "pub_df['Country']=pub_df['Country'].fillna(value='Not-Funded')"
   ]
  },
  {
   "cell_type": "code",
   "execution_count": 16,
   "id": "cosmetic-status",
   "metadata": {
    "execution": {
     "iopub.execute_input": "2024-02-28T22:47:27.686389Z",
     "iopub.status.busy": "2024-02-28T22:47:27.686009Z",
     "iopub.status.idle": "2024-02-28T22:47:27.696668Z",
     "shell.execute_reply": "2024-02-28T22:47:27.695993Z"
    },
    "papermill": {
     "duration": 0.020276,
     "end_time": "2024-02-28T22:47:27.698321",
     "exception": false,
     "start_time": "2024-02-28T22:47:27.678045",
     "status": "completed"
    },
    "tags": []
   },
   "outputs": [
    {
     "data": {
      "text/html": [
       "<div>\n",
       "<style scoped>\n",
       "    .dataframe tbody tr th:only-of-type {\n",
       "        vertical-align: middle;\n",
       "    }\n",
       "\n",
       "    .dataframe tbody tr th {\n",
       "        vertical-align: top;\n",
       "    }\n",
       "\n",
       "    .dataframe thead th {\n",
       "        text-align: right;\n",
       "    }\n",
       "</style>\n",
       "<table border=\"1\" class=\"dataframe\">\n",
       "  <thead>\n",
       "    <tr style=\"text-align: right;\">\n",
       "      <th></th>\n",
       "      <th>ID_Art</th>\n",
       "      <th>Annee_Bibliographique</th>\n",
       "      <th>Code_Discipline</th>\n",
       "      <th>Code_Document</th>\n",
       "      <th>Pays</th>\n",
       "      <th>Country</th>\n",
       "    </tr>\n",
       "  </thead>\n",
       "  <tbody>\n",
       "    <tr>\n",
       "      <th>0</th>\n",
       "      <td>0</td>\n",
       "      <td>2014</td>\n",
       "      <td>29</td>\n",
       "      <td>1</td>\n",
       "      <td>[Canada]</td>\n",
       "      <td>[United States, Brazil, United States, Republi...</td>\n",
       "    </tr>\n",
       "    <tr>\n",
       "      <th>1</th>\n",
       "      <td>1</td>\n",
       "      <td>2017</td>\n",
       "      <td>32</td>\n",
       "      <td>1</td>\n",
       "      <td>[Russia, Spain]</td>\n",
       "      <td>[Austria, China, China, China, United States, ...</td>\n",
       "    </tr>\n",
       "    <tr>\n",
       "      <th>2</th>\n",
       "      <td>2</td>\n",
       "      <td>2012</td>\n",
       "      <td>15</td>\n",
       "      <td>1</td>\n",
       "      <td>[Turkey]</td>\n",
       "      <td>Not-Funded</td>\n",
       "    </tr>\n",
       "    <tr>\n",
       "      <th>3</th>\n",
       "      <td>3</td>\n",
       "      <td>2010</td>\n",
       "      <td>53</td>\n",
       "      <td>1</td>\n",
       "      <td>[United States, Iran]</td>\n",
       "      <td>[China]</td>\n",
       "    </tr>\n",
       "    <tr>\n",
       "      <th>4</th>\n",
       "      <td>4</td>\n",
       "      <td>2015</td>\n",
       "      <td>22</td>\n",
       "      <td>1</td>\n",
       "      <td>[Denmark]</td>\n",
       "      <td>Not-Funded</td>\n",
       "    </tr>\n",
       "  </tbody>\n",
       "</table>\n",
       "</div>"
      ],
      "text/plain": [
       "   ID_Art  Annee_Bibliographique  Code_Discipline  Code_Document   \n",
       "0       0                   2014               29              1  \\\n",
       "1       1                   2017               32              1   \n",
       "2       2                   2012               15              1   \n",
       "3       3                   2010               53              1   \n",
       "4       4                   2015               22              1   \n",
       "\n",
       "                    Pays                                            Country  \n",
       "0               [Canada]  [United States, Brazil, United States, Republi...  \n",
       "1        [Russia, Spain]  [Austria, China, China, China, United States, ...  \n",
       "2               [Turkey]                                         Not-Funded  \n",
       "3  [United States, Iran]                                            [China]  \n",
       "4              [Denmark]                                         Not-Funded  "
      ]
     },
     "execution_count": 16,
     "metadata": {},
     "output_type": "execute_result"
    }
   ],
   "source": [
    "pub_df.head()"
   ]
  },
  {
   "cell_type": "code",
   "execution_count": 17,
   "id": "final-zambia",
   "metadata": {
    "execution": {
     "iopub.execute_input": "2024-02-28T22:47:27.715057Z",
     "iopub.status.busy": "2024-02-28T22:47:27.714222Z",
     "iopub.status.idle": "2024-02-28T22:47:29.012564Z",
     "shell.execute_reply": "2024-02-28T22:47:29.011480Z"
    },
    "papermill": {
     "duration": 1.309418,
     "end_time": "2024-02-28T22:47:29.015200",
     "exception": false,
     "start_time": "2024-02-28T22:47:27.705782",
     "status": "completed"
    },
    "tags": []
   },
   "outputs": [],
   "source": [
    "pub_df['author_distinct']=pub_df['Pays'].apply(lambda x: list(set(x)))\n",
    "pub_df['funder_distinct']=pub_df['Country'].apply(lambda x:list(set(x)) \n",
    "                                                  if x!='Not-Funded' else 'Not-Funded')"
   ]
  },
  {
   "cell_type": "code",
   "execution_count": 18,
   "id": "placed-plant",
   "metadata": {
    "execution": {
     "iopub.execute_input": "2024-02-28T22:47:29.030260Z",
     "iopub.status.busy": "2024-02-28T22:47:29.029344Z",
     "iopub.status.idle": "2024-02-28T22:47:29.207080Z",
     "shell.execute_reply": "2024-02-28T22:47:29.206043Z"
    },
    "papermill": {
     "duration": 0.187563,
     "end_time": "2024-02-28T22:47:29.210375",
     "exception": false,
     "start_time": "2024-02-28T22:47:29.022812",
     "status": "completed"
    },
    "tags": []
   },
   "outputs": [],
   "source": [
    "pub_df=pub_df.rename(mapper={'ID_Art':'id','Annee_Bibliographique':'year','Code_Discipline':'dis',\n",
    "                             'Code_Document':'type','Pays':'author','Country':'funder'},axis=1)"
   ]
  },
  {
   "cell_type": "code",
   "execution_count": 19,
   "id": "scheduled-stick",
   "metadata": {
    "execution": {
     "iopub.execute_input": "2024-02-28T22:47:29.227083Z",
     "iopub.status.busy": "2024-02-28T22:47:29.226137Z",
     "iopub.status.idle": "2024-02-28T22:47:29.242280Z",
     "shell.execute_reply": "2024-02-28T22:47:29.241556Z"
    },
    "papermill": {
     "duration": 0.024907,
     "end_time": "2024-02-28T22:47:29.244377",
     "exception": false,
     "start_time": "2024-02-28T22:47:29.219470",
     "status": "completed"
    },
    "tags": []
   },
   "outputs": [
    {
     "data": {
      "text/html": [
       "<div>\n",
       "<style scoped>\n",
       "    .dataframe tbody tr th:only-of-type {\n",
       "        vertical-align: middle;\n",
       "    }\n",
       "\n",
       "    .dataframe tbody tr th {\n",
       "        vertical-align: top;\n",
       "    }\n",
       "\n",
       "    .dataframe thead th {\n",
       "        text-align: right;\n",
       "    }\n",
       "</style>\n",
       "<table border=\"1\" class=\"dataframe\">\n",
       "  <thead>\n",
       "    <tr style=\"text-align: right;\">\n",
       "      <th></th>\n",
       "      <th>id</th>\n",
       "      <th>year</th>\n",
       "      <th>dis</th>\n",
       "      <th>type</th>\n",
       "      <th>author</th>\n",
       "      <th>funder</th>\n",
       "      <th>author_distinct</th>\n",
       "      <th>funder_distinct</th>\n",
       "    </tr>\n",
       "  </thead>\n",
       "  <tbody>\n",
       "    <tr>\n",
       "      <th>0</th>\n",
       "      <td>0</td>\n",
       "      <td>2014</td>\n",
       "      <td>29</td>\n",
       "      <td>1</td>\n",
       "      <td>[Canada]</td>\n",
       "      <td>[United States, Brazil, United States, Republi...</td>\n",
       "      <td>[Canada]</td>\n",
       "      <td>[Republic of Serbia, China, Brazil, United Sta...</td>\n",
       "    </tr>\n",
       "    <tr>\n",
       "      <th>1</th>\n",
       "      <td>1</td>\n",
       "      <td>2017</td>\n",
       "      <td>32</td>\n",
       "      <td>1</td>\n",
       "      <td>[Russia, Spain]</td>\n",
       "      <td>[Austria, China, China, China, United States, ...</td>\n",
       "      <td>[Russia, Spain]</td>\n",
       "      <td>[China, United States, Austria, Russia, Japan]</td>\n",
       "    </tr>\n",
       "    <tr>\n",
       "      <th>2</th>\n",
       "      <td>2</td>\n",
       "      <td>2012</td>\n",
       "      <td>15</td>\n",
       "      <td>1</td>\n",
       "      <td>[Turkey]</td>\n",
       "      <td>Not-Funded</td>\n",
       "      <td>[Turkey]</td>\n",
       "      <td>Not-Funded</td>\n",
       "    </tr>\n",
       "    <tr>\n",
       "      <th>3</th>\n",
       "      <td>3</td>\n",
       "      <td>2010</td>\n",
       "      <td>53</td>\n",
       "      <td>1</td>\n",
       "      <td>[United States, Iran]</td>\n",
       "      <td>[China]</td>\n",
       "      <td>[Iran, United States]</td>\n",
       "      <td>[China]</td>\n",
       "    </tr>\n",
       "    <tr>\n",
       "      <th>4</th>\n",
       "      <td>4</td>\n",
       "      <td>2015</td>\n",
       "      <td>22</td>\n",
       "      <td>1</td>\n",
       "      <td>[Denmark]</td>\n",
       "      <td>Not-Funded</td>\n",
       "      <td>[Denmark]</td>\n",
       "      <td>Not-Funded</td>\n",
       "    </tr>\n",
       "  </tbody>\n",
       "</table>\n",
       "</div>"
      ],
      "text/plain": [
       "   id  year  dis  type                 author   \n",
       "0   0  2014   29     1               [Canada]  \\\n",
       "1   1  2017   32     1        [Russia, Spain]   \n",
       "2   2  2012   15     1               [Turkey]   \n",
       "3   3  2010   53     1  [United States, Iran]   \n",
       "4   4  2015   22     1              [Denmark]   \n",
       "\n",
       "                                              funder        author_distinct   \n",
       "0  [United States, Brazil, United States, Republi...               [Canada]  \\\n",
       "1  [Austria, China, China, China, United States, ...        [Russia, Spain]   \n",
       "2                                         Not-Funded               [Turkey]   \n",
       "3                                            [China]  [Iran, United States]   \n",
       "4                                         Not-Funded              [Denmark]   \n",
       "\n",
       "                                     funder_distinct  \n",
       "0  [Republic of Serbia, China, Brazil, United Sta...  \n",
       "1     [China, United States, Austria, Russia, Japan]  \n",
       "2                                         Not-Funded  \n",
       "3                                            [China]  \n",
       "4                                         Not-Funded  "
      ]
     },
     "execution_count": 19,
     "metadata": {},
     "output_type": "execute_result"
    }
   ],
   "source": [
    "pub_df.head()"
   ]
  },
  {
   "cell_type": "code",
   "execution_count": 20,
   "id": "manual-healing",
   "metadata": {
    "execution": {
     "iopub.execute_input": "2024-02-28T22:47:29.258242Z",
     "iopub.status.busy": "2024-02-28T22:47:29.257612Z",
     "iopub.status.idle": "2024-02-28T22:47:29.710395Z",
     "shell.execute_reply": "2024-02-28T22:47:29.709551Z"
    },
    "papermill": {
     "duration": 0.46331,
     "end_time": "2024-02-28T22:47:29.713752",
     "exception": false,
     "start_time": "2024-02-28T22:47:29.250442",
     "status": "completed"
    },
    "tags": []
   },
   "outputs": [
    {
     "data": {
      "text/html": [
       "<div>\n",
       "<style scoped>\n",
       "    .dataframe tbody tr th:only-of-type {\n",
       "        vertical-align: middle;\n",
       "    }\n",
       "\n",
       "    .dataframe tbody tr th {\n",
       "        vertical-align: top;\n",
       "    }\n",
       "\n",
       "    .dataframe thead th {\n",
       "        text-align: right;\n",
       "    }\n",
       "</style>\n",
       "<table border=\"1\" class=\"dataframe\">\n",
       "  <thead>\n",
       "    <tr style=\"text-align: right;\">\n",
       "      <th></th>\n",
       "      <th>id</th>\n",
       "      <th>year</th>\n",
       "      <th>dis</th>\n",
       "      <th>type</th>\n",
       "      <th>author</th>\n",
       "      <th>funder</th>\n",
       "      <th>author_distinct</th>\n",
       "      <th>funder_distinct</th>\n",
       "      <th>funded</th>\n",
       "      <th>IntCol</th>\n",
       "    </tr>\n",
       "  </thead>\n",
       "  <tbody>\n",
       "    <tr>\n",
       "      <th>0</th>\n",
       "      <td>0</td>\n",
       "      <td>2014</td>\n",
       "      <td>29</td>\n",
       "      <td>1</td>\n",
       "      <td>[Canada]</td>\n",
       "      <td>[United States, Brazil, United States, Republi...</td>\n",
       "      <td>[Canada]</td>\n",
       "      <td>[Republic of Serbia, China, Brazil, United Sta...</td>\n",
       "      <td>1</td>\n",
       "      <td>0</td>\n",
       "    </tr>\n",
       "    <tr>\n",
       "      <th>1</th>\n",
       "      <td>1</td>\n",
       "      <td>2017</td>\n",
       "      <td>32</td>\n",
       "      <td>1</td>\n",
       "      <td>[Russia, Spain]</td>\n",
       "      <td>[Austria, China, China, China, United States, ...</td>\n",
       "      <td>[Russia, Spain]</td>\n",
       "      <td>[China, United States, Austria, Russia, Japan]</td>\n",
       "      <td>1</td>\n",
       "      <td>1</td>\n",
       "    </tr>\n",
       "    <tr>\n",
       "      <th>2</th>\n",
       "      <td>2</td>\n",
       "      <td>2012</td>\n",
       "      <td>15</td>\n",
       "      <td>1</td>\n",
       "      <td>[Turkey]</td>\n",
       "      <td>Not-Funded</td>\n",
       "      <td>[Turkey]</td>\n",
       "      <td>Not-Funded</td>\n",
       "      <td>0</td>\n",
       "      <td>0</td>\n",
       "    </tr>\n",
       "    <tr>\n",
       "      <th>3</th>\n",
       "      <td>3</td>\n",
       "      <td>2010</td>\n",
       "      <td>53</td>\n",
       "      <td>1</td>\n",
       "      <td>[United States, Iran]</td>\n",
       "      <td>[China]</td>\n",
       "      <td>[Iran, United States]</td>\n",
       "      <td>[China]</td>\n",
       "      <td>1</td>\n",
       "      <td>1</td>\n",
       "    </tr>\n",
       "    <tr>\n",
       "      <th>4</th>\n",
       "      <td>4</td>\n",
       "      <td>2015</td>\n",
       "      <td>22</td>\n",
       "      <td>1</td>\n",
       "      <td>[Denmark]</td>\n",
       "      <td>Not-Funded</td>\n",
       "      <td>[Denmark]</td>\n",
       "      <td>Not-Funded</td>\n",
       "      <td>0</td>\n",
       "      <td>0</td>\n",
       "    </tr>\n",
       "  </tbody>\n",
       "</table>\n",
       "</div>"
      ],
      "text/plain": [
       "   id  year  dis  type                 author   \n",
       "0   0  2014   29     1               [Canada]  \\\n",
       "1   1  2017   32     1        [Russia, Spain]   \n",
       "2   2  2012   15     1               [Turkey]   \n",
       "3   3  2010   53     1  [United States, Iran]   \n",
       "4   4  2015   22     1              [Denmark]   \n",
       "\n",
       "                                              funder        author_distinct   \n",
       "0  [United States, Brazil, United States, Republi...               [Canada]  \\\n",
       "1  [Austria, China, China, China, United States, ...        [Russia, Spain]   \n",
       "2                                         Not-Funded               [Turkey]   \n",
       "3                                            [China]  [Iran, United States]   \n",
       "4                                         Not-Funded              [Denmark]   \n",
       "\n",
       "                                     funder_distinct  funded  IntCol  \n",
       "0  [Republic of Serbia, China, Brazil, United Sta...       1       0  \n",
       "1     [China, United States, Austria, Russia, Japan]       1       1  \n",
       "2                                         Not-Funded       0       0  \n",
       "3                                            [China]       1       1  \n",
       "4                                         Not-Funded       0       0  "
      ]
     },
     "execution_count": 20,
     "metadata": {},
     "output_type": "execute_result"
    }
   ],
   "source": [
    "pub_df['funded']=pub_df['funder'].apply(lambda x:1 if x!='Not-Funded' else 0)\n",
    "pub_df['IntCol']=pub_df['author_distinct'].apply(lambda x:1 if len(x)>1 else 0)\n",
    "pub_df.head()"
   ]
  },
  {
   "cell_type": "code",
   "execution_count": 21,
   "id": "herbal-dinner",
   "metadata": {
    "execution": {
     "iopub.execute_input": "2024-02-28T22:47:29.730672Z",
     "iopub.status.busy": "2024-02-28T22:47:29.730378Z",
     "iopub.status.idle": "2024-02-28T22:47:30.056234Z",
     "shell.execute_reply": "2024-02-28T22:47:30.055284Z"
    },
    "papermill": {
     "duration": 0.335782,
     "end_time": "2024-02-28T22:47:30.059572",
     "exception": false,
     "start_time": "2024-02-28T22:47:29.723790",
     "status": "completed"
    },
    "tags": []
   },
   "outputs": [],
   "source": [
    "def cofund(funders):\n",
    "    label=1\n",
    "    if funders=='Not-Funded':\n",
    "        label=0\n",
    "    elif 'EU' not in funders and len(funders)==1:\n",
    "        label=0\n",
    "    return label\n",
    "pub_df['cofund']=pub_df['funder_distinct'].apply(lambda x: cofund(x))"
   ]
  },
  {
   "cell_type": "code",
   "execution_count": 22,
   "id": "associate-bumper",
   "metadata": {
    "execution": {
     "iopub.execute_input": "2024-02-28T22:47:30.078787Z",
     "iopub.status.busy": "2024-02-28T22:47:30.078114Z",
     "iopub.status.idle": "2024-02-28T22:47:41.272709Z",
     "shell.execute_reply": "2024-02-28T22:47:41.271761Z"
    },
    "papermill": {
     "duration": 11.205393,
     "end_time": "2024-02-28T22:47:41.276261",
     "exception": false,
     "start_time": "2024-02-28T22:47:30.070868",
     "status": "completed"
    },
    "tags": []
   },
   "outputs": [],
   "source": [
    "def intfund(funder, author, cofund):\n",
    "    label = 0\n",
    "    if cofund==1:\n",
    "        label =1\n",
    "    elif funder!='Not-Funded' and funder[0] not in author:\n",
    "        label = 1\n",
    "    return label\n",
    "pub_df['intfund']=pub_df[['funder_distinct','author_distinct','cofund']].apply(\n",
    "    lambda x:intfund(x.funder_distinct,x.author_distinct,x.cofund),axis=1)"
   ]
  },
  {
   "cell_type": "code",
   "execution_count": 23,
   "id": "pressing-wesley",
   "metadata": {
    "execution": {
     "iopub.execute_input": "2024-02-28T22:47:41.295591Z",
     "iopub.status.busy": "2024-02-28T22:47:41.294452Z",
     "iopub.status.idle": "2024-02-28T22:47:45.512743Z",
     "shell.execute_reply": "2024-02-28T22:47:45.511354Z"
    },
    "papermill": {
     "duration": 4.229228,
     "end_time": "2024-02-28T22:47:45.516458",
     "exception": false,
     "start_time": "2024-02-28T22:47:41.287230",
     "status": "completed"
    },
    "tags": []
   },
   "outputs": [],
   "source": [
    "pub_df.to_pickle(clean_pub_path)"
   ]
  },
  {
   "cell_type": "code",
   "execution_count": null,
   "id": "132c2eec-ac5f-4b84-a842-68807d11e084",
   "metadata": {
    "papermill": {
     "duration": 0.005627,
     "end_time": "2024-02-28T22:47:45.532773",
     "exception": false,
     "start_time": "2024-02-28T22:47:45.527146",
     "status": "completed"
    },
    "tags": []
   },
   "outputs": [],
   "source": []
  }
 ],
 "metadata": {
  "kernelspec": {
   "display_name": "Python 3 (ipykernel)",
   "language": "python",
   "name": "python3"
  },
  "language_info": {
   "codemirror_mode": {
    "name": "ipython",
    "version": 3
   },
   "file_extension": ".py",
   "mimetype": "text/x-python",
   "name": "python",
   "nbconvert_exporter": "python",
   "pygments_lexer": "ipython3",
   "version": "3.8.16"
  },
  "papermill": {
   "default_parameters": {},
   "duration": 71.899851,
   "end_time": "2024-02-28T22:47:46.258315",
   "environment_variables": {},
   "exception": null,
   "input_path": "scripts/compile_data.ipynb",
   "output_path": "scripts/outputs/compile_data.ipynb",
   "parameters": {
    "clean_pub_path": "../data/NationalFunding/Data/simulated_data/Data/DerivedData/CleanedRawData/pub.pkl",
    "cntry_path": "../data/NationalFunding/Data/simulated_data/Data/AdditionalData/cntry_convert.xlsx",
    "pub_author_path": "../data/NationalFunding/Data/simulated_data/Data/RawData/pub_author.csv",
    "pub_fund_path": "../data/NationalFunding/Data/simulated_data/Data/RawData/pub_funder.csv",
    "pub_path": "../data/NationalFunding/Data/simulated_data/Data/RawData/pubs.csv"
   },
   "start_time": "2024-02-28T22:46:34.358464",
   "version": "2.3.4"
  }
 },
 "nbformat": 4,
 "nbformat_minor": 5
}