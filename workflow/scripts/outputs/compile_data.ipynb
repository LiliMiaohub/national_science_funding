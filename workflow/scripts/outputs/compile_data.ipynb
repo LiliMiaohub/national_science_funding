{
 "cells": [
  {
   "cell_type": "markdown",
   "id": "beginning-bronze",
   "metadata": {
    "papermill": {
     "duration": 0.005059,
     "end_time": "2023-08-21T16:34:59.017671",
     "exception": false,
     "start_time": "2023-08-21T16:34:59.012612",
     "status": "completed"
    },
    "tags": []
   },
   "source": [
    "### this script cleans and compiles raw data. \n",
    "\n",
    "Input includes:\n",
    "- **pub**: discipline and year information of publications\n",
    "- **pub_fund**:funding instance of publications\n",
    "- **pub_author**:author country of publications\n",
    "- **cntry**: country convert table which map wos country name to standard format.\n",
    "\n",
    "Output includes:\n",
    "- **clean_pub**: a consolidated pickle file has abovementioned information with two extra indicators including funded (whether the paper is funded) and intcol (whether the paper is internationally coauthored)."
   ]
  },
  {
   "cell_type": "code",
   "execution_count": 1,
   "id": "adapted-surge",
   "metadata": {
    "execution": {
     "iopub.execute_input": "2023-08-21T16:34:59.027675Z",
     "iopub.status.busy": "2023-08-21T16:34:59.026598Z",
     "iopub.status.idle": "2023-08-21T16:34:59.381677Z",
     "shell.execute_reply": "2023-08-21T16:34:59.380307Z"
    },
    "papermill": {
     "duration": 0.363378,
     "end_time": "2023-08-21T16:34:59.385325",
     "exception": false,
     "start_time": "2023-08-21T16:34:59.021947",
     "status": "completed"
    },
    "tags": []
   },
   "outputs": [],
   "source": [
    "import pandas as pd\n",
    "import numpy as np\n",
    "from ast import literal_eval"
   ]
  },
  {
   "cell_type": "code",
   "execution_count": 2,
   "id": "roman-massage",
   "metadata": {
    "execution": {
     "iopub.execute_input": "2023-08-21T16:34:59.399487Z",
     "iopub.status.busy": "2023-08-21T16:34:59.398861Z",
     "iopub.status.idle": "2023-08-21T16:34:59.403955Z",
     "shell.execute_reply": "2023-08-21T16:34:59.403163Z"
    },
    "papermill": {
     "duration": 0.013063,
     "end_time": "2023-08-21T16:34:59.406954",
     "exception": false,
     "start_time": "2023-08-21T16:34:59.393891",
     "status": "completed"
    },
    "tags": [
     "parameters"
    ]
   },
   "outputs": [],
   "source": [
    "pub_path=\"../../data/nf_folder/Data/RawData/pubs.csv\"\n",
    "pub_fund_path=\"../../data/nf_folder/Data/RawData/pub_funder.csv\"\n",
    "pub_author_path=\"../../data/nf_folder/Data/RawData/pub_author.csv\"\n",
    "cntry_path=\"../../data/NationalFunding/Data/AdditionalData/cntry_convert.xlsx\"\n",
    "\n",
    "clean_pub_path=\"../../data/NationalFunding/Data/DerivedData/CleanedRawData/pub.pkl\""
   ]
  },
  {
   "cell_type": "code",
   "execution_count": 3,
   "id": "17fd45f6",
   "metadata": {
    "execution": {
     "iopub.execute_input": "2023-08-21T16:34:59.418964Z",
     "iopub.status.busy": "2023-08-21T16:34:59.418361Z",
     "iopub.status.idle": "2023-08-21T16:34:59.423684Z",
     "shell.execute_reply": "2023-08-21T16:34:59.422710Z"
    },
    "papermill": {
     "duration": 0.012591,
     "end_time": "2023-08-21T16:34:59.425149",
     "exception": false,
     "start_time": "2023-08-21T16:34:59.412558",
     "status": "completed"
    },
    "tags": [
     "injected-parameters"
    ]
   },
   "outputs": [],
   "source": [
    "# Parameters\n",
    "pub_path = \"../data/NationalFunding/Data/RawData/pubs.csv\"\n",
    "pub_author_path = \"../data/NationalFunding/Data/RawData/pub_author.csv\"\n",
    "pub_fund_path = \"../data/NationalFunding/Data/RawData/pub_funder.csv\"\n",
    "cntry_path = \"../data/NationalFunding/Data/AdditionalData/cntry_convert.xlsx\"\n",
    "clean_pub_path = \"../data/NationalFunding/Data/DerivedData/CleanedRawData/pub.pkl\"\n"
   ]
  },
  {
   "cell_type": "code",
   "execution_count": 4,
   "id": "aa1392fc-9df6-40dd-9b97-a365b4dc0dd7",
   "metadata": {
    "execution": {
     "iopub.execute_input": "2023-08-21T16:34:59.434730Z",
     "iopub.status.busy": "2023-08-21T16:34:59.433999Z",
     "iopub.status.idle": "2023-08-21T16:35:00.216932Z",
     "shell.execute_reply": "2023-08-21T16:35:00.215724Z"
    },
    "papermill": {
     "duration": 0.791351,
     "end_time": "2023-08-21T16:35:00.220209",
     "exception": false,
     "start_time": "2023-08-21T16:34:59.428858",
     "status": "completed"
    },
    "tags": []
   },
   "outputs": [],
   "source": [
    "pd.DataFrame().to_pickle(clean_pub_path)"
   ]
  },
  {
   "cell_type": "code",
   "execution_count": 5,
   "id": "cloudy-queensland",
   "metadata": {
    "execution": {
     "iopub.execute_input": "2023-08-21T16:35:00.234934Z",
     "iopub.status.busy": "2023-08-21T16:35:00.234112Z",
     "iopub.status.idle": "2023-08-21T16:35:07.035484Z",
     "shell.execute_reply": "2023-08-21T16:35:07.034562Z"
    },
    "papermill": {
     "duration": 6.810773,
     "end_time": "2023-08-21T16:35:07.040001",
     "exception": false,
     "start_time": "2023-08-21T16:35:00.229228",
     "status": "completed"
    },
    "tags": []
   },
   "outputs": [
    {
     "data": {
      "text/html": [
       "<div>\n",
       "<style scoped>\n",
       "    .dataframe tbody tr th:only-of-type {\n",
       "        vertical-align: middle;\n",
       "    }\n",
       "\n",
       "    .dataframe tbody tr th {\n",
       "        vertical-align: top;\n",
       "    }\n",
       "\n",
       "    .dataframe thead th {\n",
       "        text-align: right;\n",
       "    }\n",
       "</style>\n",
       "<table border=\"1\" class=\"dataframe\">\n",
       "  <thead>\n",
       "    <tr style=\"text-align: right;\">\n",
       "      <th></th>\n",
       "      <th>ID_Art</th>\n",
       "      <th>Annee_Bibliographique</th>\n",
       "      <th>Code_Discipline</th>\n",
       "      <th>Code_Document</th>\n",
       "    </tr>\n",
       "  </thead>\n",
       "  <tbody>\n",
       "    <tr>\n",
       "      <th>0</th>\n",
       "      <td>60694041</td>\n",
       "      <td>2017</td>\n",
       "      <td>9</td>\n",
       "      <td>1</td>\n",
       "    </tr>\n",
       "    <tr>\n",
       "      <th>1</th>\n",
       "      <td>48573156</td>\n",
       "      <td>2012</td>\n",
       "      <td>89</td>\n",
       "      <td>1</td>\n",
       "    </tr>\n",
       "    <tr>\n",
       "      <th>2</th>\n",
       "      <td>55323671</td>\n",
       "      <td>2015</td>\n",
       "      <td>89</td>\n",
       "      <td>1</td>\n",
       "    </tr>\n",
       "    <tr>\n",
       "      <th>3</th>\n",
       "      <td>57633115</td>\n",
       "      <td>2016</td>\n",
       "      <td>31</td>\n",
       "      <td>1</td>\n",
       "    </tr>\n",
       "    <tr>\n",
       "      <th>4</th>\n",
       "      <td>64831413</td>\n",
       "      <td>2018</td>\n",
       "      <td>99</td>\n",
       "      <td>1</td>\n",
       "    </tr>\n",
       "  </tbody>\n",
       "</table>\n",
       "</div>"
      ],
      "text/plain": [
       "     ID_Art  Annee_Bibliographique  Code_Discipline  Code_Document\n",
       "0  60694041                   2017                9              1\n",
       "1  48573156                   2012               89              1\n",
       "2  55323671                   2015               89              1\n",
       "3  57633115                   2016               31              1\n",
       "4  64831413                   2018               99              1"
      ]
     },
     "execution_count": 5,
     "metadata": {},
     "output_type": "execute_result"
    }
   ],
   "source": [
    "pub_df=pd.read_csv(pub_path,sep=\"\\t\")\n",
    "pub_df.head()"
   ]
  },
  {
   "cell_type": "markdown",
   "id": "removed-earthquake",
   "metadata": {
    "papermill": {
     "duration": 0.004016,
     "end_time": "2023-08-21T16:35:07.051228",
     "exception": false,
     "start_time": "2023-08-21T16:35:07.047212",
     "status": "completed"
    },
    "tags": []
   },
   "source": [
    "count how many pubs in each document type"
   ]
  },
  {
   "cell_type": "code",
   "execution_count": 6,
   "id": "assigned-logan",
   "metadata": {
    "execution": {
     "iopub.execute_input": "2023-08-21T16:35:07.061244Z",
     "iopub.status.busy": "2023-08-21T16:35:07.060662Z",
     "iopub.status.idle": "2023-08-21T16:35:52.746534Z",
     "shell.execute_reply": "2023-08-21T16:35:52.745577Z"
    },
    "papermill": {
     "duration": 45.703456,
     "end_time": "2023-08-21T16:35:52.758483",
     "exception": false,
     "start_time": "2023-08-21T16:35:07.055027",
     "status": "completed"
    },
    "tags": []
   },
   "outputs": [
    {
     "data": {
      "text/html": [
       "<div>\n",
       "<style scoped>\n",
       "    .dataframe tbody tr th:only-of-type {\n",
       "        vertical-align: middle;\n",
       "    }\n",
       "\n",
       "    .dataframe tbody tr th {\n",
       "        vertical-align: top;\n",
       "    }\n",
       "\n",
       "    .dataframe thead th {\n",
       "        text-align: right;\n",
       "    }\n",
       "</style>\n",
       "<table border=\"1\" class=\"dataframe\">\n",
       "  <thead>\n",
       "    <tr style=\"text-align: right;\">\n",
       "      <th></th>\n",
       "      <th>ID_Art</th>\n",
       "      <th>Organisation</th>\n",
       "      <th>Numero_Financement</th>\n",
       "      <th>Country</th>\n",
       "    </tr>\n",
       "  </thead>\n",
       "  <tbody>\n",
       "    <tr>\n",
       "      <th>0</th>\n",
       "      <td>62152918</td>\n",
       "      <td>Natural Science Foundation of Jiangsu Province</td>\n",
       "      <td>BK20140131</td>\n",
       "      <td>PEOPLES-R-CHINA</td>\n",
       "    </tr>\n",
       "    <tr>\n",
       "      <th>1</th>\n",
       "      <td>62152749</td>\n",
       "      <td>Shanghai Commission of Health and Family Planning</td>\n",
       "      <td>201440538</td>\n",
       "      <td>PEOPLES-R-CHINA</td>\n",
       "    </tr>\n",
       "    <tr>\n",
       "      <th>2</th>\n",
       "      <td>62152799</td>\n",
       "      <td>U.S. Department of Energy's Office of Science,...</td>\n",
       "      <td>DE-SC0007041</td>\n",
       "      <td>USA</td>\n",
       "    </tr>\n",
       "    <tr>\n",
       "      <th>3</th>\n",
       "      <td>49692015</td>\n",
       "      <td>FCT</td>\n",
       "      <td>SFRH/BD/47118/2008</td>\n",
       "      <td>PORTUGAL</td>\n",
       "    </tr>\n",
       "    <tr>\n",
       "      <th>4</th>\n",
       "      <td>49692016</td>\n",
       "      <td>Basque government</td>\n",
       "      <td>IT472-10</td>\n",
       "      <td>SPAIN</td>\n",
       "    </tr>\n",
       "  </tbody>\n",
       "</table>\n",
       "</div>"
      ],
      "text/plain": [
       "     ID_Art                                       Organisation   \n",
       "0  62152918     Natural Science Foundation of Jiangsu Province  \\\n",
       "1  62152749  Shanghai Commission of Health and Family Planning   \n",
       "2  62152799  U.S. Department of Energy's Office of Science,...   \n",
       "3  49692015                                                FCT   \n",
       "4  49692016                                  Basque government   \n",
       "\n",
       "   Numero_Financement          Country  \n",
       "0          BK20140131  PEOPLES-R-CHINA  \n",
       "1           201440538  PEOPLES-R-CHINA  \n",
       "2        DE-SC0007041              USA  \n",
       "3  SFRH/BD/47118/2008         PORTUGAL  \n",
       "4            IT472-10            SPAIN  "
      ]
     },
     "execution_count": 6,
     "metadata": {},
     "output_type": "execute_result"
    }
   ],
   "source": [
    "pub_fund=pd.read_csv(pub_fund_path,sep=\"\\t\", on_bad_lines='skip')\n",
    "pub_fund.head()"
   ]
  },
  {
   "cell_type": "markdown",
   "id": "historic-eligibility",
   "metadata": {
    "papermill": {
     "duration": 0.003997,
     "end_time": "2023-08-21T16:35:52.766695",
     "exception": false,
     "start_time": "2023-08-21T16:35:52.762698",
     "status": "completed"
    },
    "tags": []
   },
   "source": [
    "count how many fa-gn entries are with grant number"
   ]
  },
  {
   "cell_type": "code",
   "execution_count": 7,
   "id": "appropriate-coalition",
   "metadata": {
    "execution": {
     "iopub.execute_input": "2023-08-21T16:35:52.777307Z",
     "iopub.status.busy": "2023-08-21T16:35:52.776561Z",
     "iopub.status.idle": "2023-08-21T16:35:55.146138Z",
     "shell.execute_reply": "2023-08-21T16:35:55.145327Z"
    },
    "papermill": {
     "duration": 2.377584,
     "end_time": "2023-08-21T16:35:55.148247",
     "exception": false,
     "start_time": "2023-08-21T16:35:52.770663",
     "status": "completed"
    },
    "tags": []
   },
   "outputs": [
    {
     "data": {
      "text/plain": [
       "0.6977087938106727"
      ]
     },
     "execution_count": 7,
     "metadata": {},
     "output_type": "execute_result"
    }
   ],
   "source": [
    "pub_fund[pub_fund['Numero_Financement'].notnull()].shape[0]/pub_fund.shape[0]"
   ]
  },
  {
   "cell_type": "code",
   "execution_count": 8,
   "id": "endless-wireless",
   "metadata": {
    "execution": {
     "iopub.execute_input": "2023-08-21T16:35:55.161895Z",
     "iopub.status.busy": "2023-08-21T16:35:55.161008Z",
     "iopub.status.idle": "2023-08-21T16:36:03.292087Z",
     "shell.execute_reply": "2023-08-21T16:36:03.291268Z"
    },
    "papermill": {
     "duration": 8.139997,
     "end_time": "2023-08-21T16:36:03.295549",
     "exception": false,
     "start_time": "2023-08-21T16:35:55.155552",
     "status": "completed"
    },
    "tags": []
   },
   "outputs": [
    {
     "data": {
      "text/html": [
       "<div>\n",
       "<style scoped>\n",
       "    .dataframe tbody tr th:only-of-type {\n",
       "        vertical-align: middle;\n",
       "    }\n",
       "\n",
       "    .dataframe tbody tr th {\n",
       "        vertical-align: top;\n",
       "    }\n",
       "\n",
       "    .dataframe thead th {\n",
       "        text-align: right;\n",
       "    }\n",
       "</style>\n",
       "<table border=\"1\" class=\"dataframe\">\n",
       "  <thead>\n",
       "    <tr style=\"text-align: right;\">\n",
       "      <th></th>\n",
       "      <th>ID_Art</th>\n",
       "      <th>Pays</th>\n",
       "    </tr>\n",
       "  </thead>\n",
       "  <tbody>\n",
       "    <tr>\n",
       "      <th>0</th>\n",
       "      <td>61705542</td>\n",
       "      <td>PEOPLES-R-CHINA</td>\n",
       "    </tr>\n",
       "    <tr>\n",
       "      <th>1</th>\n",
       "      <td>46171057</td>\n",
       "      <td>AUSTRALIA</td>\n",
       "    </tr>\n",
       "    <tr>\n",
       "      <th>2</th>\n",
       "      <td>52161176</td>\n",
       "      <td>HUNGARY</td>\n",
       "    </tr>\n",
       "    <tr>\n",
       "      <th>3</th>\n",
       "      <td>62843155</td>\n",
       "      <td>SOUTH-KOREA</td>\n",
       "    </tr>\n",
       "    <tr>\n",
       "      <th>4</th>\n",
       "      <td>62124106</td>\n",
       "      <td>PORTUGAL</td>\n",
       "    </tr>\n",
       "  </tbody>\n",
       "</table>\n",
       "</div>"
      ],
      "text/plain": [
       "     ID_Art             Pays\n",
       "0  61705542  PEOPLES-R-CHINA\n",
       "1  46171057        AUSTRALIA\n",
       "2  52161176          HUNGARY\n",
       "3  62843155      SOUTH-KOREA\n",
       "4  62124106         PORTUGAL"
      ]
     },
     "execution_count": 8,
     "metadata": {},
     "output_type": "execute_result"
    }
   ],
   "source": [
    "pub_author=pd.read_csv(pub_author_path,sep=\"\\t\", on_bad_lines='skip')\n",
    "pub_author.head()"
   ]
  },
  {
   "cell_type": "code",
   "execution_count": 9,
   "id": "native-truck",
   "metadata": {
    "execution": {
     "iopub.execute_input": "2023-08-21T16:36:03.309803Z",
     "iopub.status.busy": "2023-08-21T16:36:03.309353Z",
     "iopub.status.idle": "2023-08-21T16:36:06.115572Z",
     "shell.execute_reply": "2023-08-21T16:36:06.114707Z"
    },
    "papermill": {
     "duration": 2.81541,
     "end_time": "2023-08-21T16:36:06.118842",
     "exception": false,
     "start_time": "2023-08-21T16:36:03.303432",
     "status": "completed"
    },
    "tags": []
   },
   "outputs": [],
   "source": [
    "cntry_df=pd.read_excel(cntry_path)\n",
    "cntry_dict=dict(zip(cntry_df['Clarivate country'],cntry_df['Country']))"
   ]
  },
  {
   "cell_type": "markdown",
   "id": "quiet-vaccine",
   "metadata": {
    "papermill": {
     "duration": 0.004371,
     "end_time": "2023-08-21T16:36:06.131403",
     "exception": false,
     "start_time": "2023-08-21T16:36:06.127032",
     "status": "completed"
    },
    "tags": []
   },
   "source": [
    "change the clarivate name into the standard format"
   ]
  },
  {
   "cell_type": "code",
   "execution_count": 10,
   "id": "isolated-zimbabwe",
   "metadata": {
    "execution": {
     "iopub.execute_input": "2023-08-21T16:36:06.142706Z",
     "iopub.status.busy": "2023-08-21T16:36:06.141522Z",
     "iopub.status.idle": "2023-08-21T16:41:21.693705Z",
     "shell.execute_reply": "2023-08-21T16:41:21.692696Z"
    },
    "papermill": {
     "duration": 315.561539,
     "end_time": "2023-08-21T16:41:21.697215",
     "exception": false,
     "start_time": "2023-08-21T16:36:06.135676",
     "status": "completed"
    },
    "tags": []
   },
   "outputs": [],
   "source": [
    "pub_fund=pub_fund.replace(to_replace={'Country':cntry_dict})"
   ]
  },
  {
   "cell_type": "code",
   "execution_count": 11,
   "id": "statutory-rolling",
   "metadata": {
    "execution": {
     "iopub.execute_input": "2023-08-21T16:41:21.713942Z",
     "iopub.status.busy": "2023-08-21T16:41:21.713250Z",
     "iopub.status.idle": "2023-08-21T16:44:42.986292Z",
     "shell.execute_reply": "2023-08-21T16:44:42.985398Z"
    },
    "papermill": {
     "duration": 201.283004,
     "end_time": "2023-08-21T16:44:42.989806",
     "exception": false,
     "start_time": "2023-08-21T16:41:21.706802",
     "status": "completed"
    },
    "tags": []
   },
   "outputs": [],
   "source": [
    "pub_author=pub_author.replace(to_replace={'Pays':cntry_dict})"
   ]
  },
  {
   "cell_type": "markdown",
   "id": "referenced-lighting",
   "metadata": {
    "papermill": {
     "duration": 0.004441,
     "end_time": "2023-08-21T16:44:43.003550",
     "exception": false,
     "start_time": "2023-08-21T16:44:42.999109",
     "status": "completed"
    },
    "tags": []
   },
   "source": [
    "consolidate three datasets into one big data sheet"
   ]
  },
  {
   "cell_type": "code",
   "execution_count": 12,
   "id": "underlying-superintendent",
   "metadata": {
    "execution": {
     "iopub.execute_input": "2023-08-21T16:44:43.014518Z",
     "iopub.status.busy": "2023-08-21T16:44:43.013915Z",
     "iopub.status.idle": "2023-08-21T16:51:54.731904Z",
     "shell.execute_reply": "2023-08-21T16:51:54.730647Z"
    },
    "papermill": {
     "duration": 431.727389,
     "end_time": "2023-08-21T16:51:54.735356",
     "exception": false,
     "start_time": "2023-08-21T16:44:43.007967",
     "status": "completed"
    },
    "tags": []
   },
   "outputs": [],
   "source": [
    "pub_fund=pub_fund[['ID_Art','Country']]\n",
    "pub_fund=pub_fund.groupby(['ID_Art'])['Country'].apply(list).reset_index()\n",
    "pub_author=pub_author.groupby(['ID_Art'])['Pays'].apply(list).reset_index()"
   ]
  },
  {
   "cell_type": "code",
   "execution_count": 13,
   "id": "valid-sweet",
   "metadata": {
    "execution": {
     "iopub.execute_input": "2023-08-21T16:51:54.753132Z",
     "iopub.status.busy": "2023-08-21T16:51:54.752529Z",
     "iopub.status.idle": "2023-08-21T16:51:54.766101Z",
     "shell.execute_reply": "2023-08-21T16:51:54.765305Z"
    },
    "papermill": {
     "duration": 0.023096,
     "end_time": "2023-08-21T16:51:54.769065",
     "exception": false,
     "start_time": "2023-08-21T16:51:54.745969",
     "status": "completed"
    },
    "tags": []
   },
   "outputs": [
    {
     "data": {
      "text/html": [
       "<div>\n",
       "<style scoped>\n",
       "    .dataframe tbody tr th:only-of-type {\n",
       "        vertical-align: middle;\n",
       "    }\n",
       "\n",
       "    .dataframe tbody tr th {\n",
       "        vertical-align: top;\n",
       "    }\n",
       "\n",
       "    .dataframe thead th {\n",
       "        text-align: right;\n",
       "    }\n",
       "</style>\n",
       "<table border=\"1\" class=\"dataframe\">\n",
       "  <thead>\n",
       "    <tr style=\"text-align: right;\">\n",
       "      <th></th>\n",
       "      <th>ID_Art</th>\n",
       "      <th>Pays</th>\n",
       "    </tr>\n",
       "  </thead>\n",
       "  <tbody>\n",
       "    <tr>\n",
       "      <th>0</th>\n",
       "      <td>30258899</td>\n",
       "      <td>[Vietnam, United States]</td>\n",
       "    </tr>\n",
       "    <tr>\n",
       "      <th>1</th>\n",
       "      <td>30258900</td>\n",
       "      <td>[Vietnam, France]</td>\n",
       "    </tr>\n",
       "    <tr>\n",
       "      <th>2</th>\n",
       "      <td>30258901</td>\n",
       "      <td>[Romania, France]</td>\n",
       "    </tr>\n",
       "    <tr>\n",
       "      <th>3</th>\n",
       "      <td>30258902</td>\n",
       "      <td>[United States]</td>\n",
       "    </tr>\n",
       "    <tr>\n",
       "      <th>4</th>\n",
       "      <td>30258903</td>\n",
       "      <td>[Italy]</td>\n",
       "    </tr>\n",
       "  </tbody>\n",
       "</table>\n",
       "</div>"
      ],
      "text/plain": [
       "     ID_Art                      Pays\n",
       "0  30258899  [Vietnam, United States]\n",
       "1  30258900         [Vietnam, France]\n",
       "2  30258901         [Romania, France]\n",
       "3  30258902           [United States]\n",
       "4  30258903                   [Italy]"
      ]
     },
     "execution_count": 13,
     "metadata": {},
     "output_type": "execute_result"
    }
   ],
   "source": [
    "pub_author.head()"
   ]
  },
  {
   "cell_type": "code",
   "execution_count": 14,
   "id": "atomic-passion",
   "metadata": {
    "execution": {
     "iopub.execute_input": "2023-08-21T16:51:54.782854Z",
     "iopub.status.busy": "2023-08-21T16:51:54.782012Z",
     "iopub.status.idle": "2023-08-21T16:51:54.793379Z",
     "shell.execute_reply": "2023-08-21T16:51:54.792722Z"
    },
    "papermill": {
     "duration": 0.019561,
     "end_time": "2023-08-21T16:51:54.795761",
     "exception": false,
     "start_time": "2023-08-21T16:51:54.776200",
     "status": "completed"
    },
    "tags": []
   },
   "outputs": [
    {
     "data": {
      "text/html": [
       "<div>\n",
       "<style scoped>\n",
       "    .dataframe tbody tr th:only-of-type {\n",
       "        vertical-align: middle;\n",
       "    }\n",
       "\n",
       "    .dataframe tbody tr th {\n",
       "        vertical-align: top;\n",
       "    }\n",
       "\n",
       "    .dataframe thead th {\n",
       "        text-align: right;\n",
       "    }\n",
       "</style>\n",
       "<table border=\"1\" class=\"dataframe\">\n",
       "  <thead>\n",
       "    <tr style=\"text-align: right;\">\n",
       "      <th></th>\n",
       "      <th>ID_Art</th>\n",
       "      <th>Country</th>\n",
       "    </tr>\n",
       "  </thead>\n",
       "  <tbody>\n",
       "    <tr>\n",
       "      <th>0</th>\n",
       "      <td>30507292</td>\n",
       "      <td>[Turkey]</td>\n",
       "    </tr>\n",
       "    <tr>\n",
       "      <th>1</th>\n",
       "      <td>30574690</td>\n",
       "      <td>[United States, United States, United States, ...</td>\n",
       "    </tr>\n",
       "    <tr>\n",
       "      <th>2</th>\n",
       "      <td>30574691</td>\n",
       "      <td>[Russia]</td>\n",
       "    </tr>\n",
       "    <tr>\n",
       "      <th>3</th>\n",
       "      <td>30585095</td>\n",
       "      <td>[Spain, Spain, Spain, Spain, Spain, Spain]</td>\n",
       "    </tr>\n",
       "    <tr>\n",
       "      <th>4</th>\n",
       "      <td>30585097</td>\n",
       "      <td>[Spain]</td>\n",
       "    </tr>\n",
       "  </tbody>\n",
       "</table>\n",
       "</div>"
      ],
      "text/plain": [
       "     ID_Art                                            Country\n",
       "0  30507292                                           [Turkey]\n",
       "1  30574690  [United States, United States, United States, ...\n",
       "2  30574691                                           [Russia]\n",
       "3  30585095         [Spain, Spain, Spain, Spain, Spain, Spain]\n",
       "4  30585097                                            [Spain]"
      ]
     },
     "execution_count": 14,
     "metadata": {},
     "output_type": "execute_result"
    }
   ],
   "source": [
    "pub_fund.head()"
   ]
  },
  {
   "cell_type": "code",
   "execution_count": 15,
   "id": "dirty-correction",
   "metadata": {
    "execution": {
     "iopub.execute_input": "2023-08-21T16:51:54.809402Z",
     "iopub.status.busy": "2023-08-21T16:51:54.808567Z",
     "iopub.status.idle": "2023-08-21T16:52:19.438622Z",
     "shell.execute_reply": "2023-08-21T16:52:19.437609Z"
    },
    "papermill": {
     "duration": 24.639002,
     "end_time": "2023-08-21T16:52:19.442018",
     "exception": false,
     "start_time": "2023-08-21T16:51:54.803016",
     "status": "completed"
    },
    "tags": []
   },
   "outputs": [],
   "source": [
    "pub_df=pub_df.merge(pub_author,on='ID_Art',how='left')\n",
    "pub_df=pub_df.merge(pub_fund,on='ID_Art',how='left')"
   ]
  },
  {
   "cell_type": "code",
   "execution_count": 16,
   "id": "supreme-belarus",
   "metadata": {
    "execution": {
     "iopub.execute_input": "2023-08-21T16:52:19.457756Z",
     "iopub.status.busy": "2023-08-21T16:52:19.457378Z",
     "iopub.status.idle": "2023-08-21T16:52:22.311817Z",
     "shell.execute_reply": "2023-08-21T16:52:22.310705Z"
    },
    "papermill": {
     "duration": 2.863394,
     "end_time": "2023-08-21T16:52:22.315043",
     "exception": false,
     "start_time": "2023-08-21T16:52:19.451649",
     "status": "completed"
    },
    "tags": []
   },
   "outputs": [],
   "source": [
    "pub_df['Country']=pub_df['Country'].fillna(value='Not-Funded')"
   ]
  },
  {
   "cell_type": "code",
   "execution_count": 17,
   "id": "cosmetic-status",
   "metadata": {
    "execution": {
     "iopub.execute_input": "2023-08-21T16:52:22.331551Z",
     "iopub.status.busy": "2023-08-21T16:52:22.330402Z",
     "iopub.status.idle": "2023-08-21T16:52:22.344146Z",
     "shell.execute_reply": "2023-08-21T16:52:22.343442Z"
    },
    "papermill": {
     "duration": 0.022456,
     "end_time": "2023-08-21T16:52:22.346467",
     "exception": false,
     "start_time": "2023-08-21T16:52:22.324011",
     "status": "completed"
    },
    "tags": []
   },
   "outputs": [
    {
     "data": {
      "text/html": [
       "<div>\n",
       "<style scoped>\n",
       "    .dataframe tbody tr th:only-of-type {\n",
       "        vertical-align: middle;\n",
       "    }\n",
       "\n",
       "    .dataframe tbody tr th {\n",
       "        vertical-align: top;\n",
       "    }\n",
       "\n",
       "    .dataframe thead th {\n",
       "        text-align: right;\n",
       "    }\n",
       "</style>\n",
       "<table border=\"1\" class=\"dataframe\">\n",
       "  <thead>\n",
       "    <tr style=\"text-align: right;\">\n",
       "      <th></th>\n",
       "      <th>ID_Art</th>\n",
       "      <th>Annee_Bibliographique</th>\n",
       "      <th>Code_Discipline</th>\n",
       "      <th>Code_Document</th>\n",
       "      <th>Pays</th>\n",
       "      <th>Country</th>\n",
       "    </tr>\n",
       "  </thead>\n",
       "  <tbody>\n",
       "    <tr>\n",
       "      <th>0</th>\n",
       "      <td>60694041</td>\n",
       "      <td>2017</td>\n",
       "      <td>9</td>\n",
       "      <td>1</td>\n",
       "      <td>[Canada, United States]</td>\n",
       "      <td>[United States, United States]</td>\n",
       "    </tr>\n",
       "    <tr>\n",
       "      <th>1</th>\n",
       "      <td>48573156</td>\n",
       "      <td>2012</td>\n",
       "      <td>89</td>\n",
       "      <td>1</td>\n",
       "      <td>[France]</td>\n",
       "      <td>Not-Funded</td>\n",
       "    </tr>\n",
       "    <tr>\n",
       "      <th>2</th>\n",
       "      <td>55323671</td>\n",
       "      <td>2015</td>\n",
       "      <td>89</td>\n",
       "      <td>1</td>\n",
       "      <td>[France, Chile]</td>\n",
       "      <td>[Chile, Chile, Chile, Chile, Chile]</td>\n",
       "    </tr>\n",
       "    <tr>\n",
       "      <th>3</th>\n",
       "      <td>57633115</td>\n",
       "      <td>2016</td>\n",
       "      <td>31</td>\n",
       "      <td>1</td>\n",
       "      <td>[Switzerland, United States]</td>\n",
       "      <td>[Switzerland]</td>\n",
       "    </tr>\n",
       "    <tr>\n",
       "      <th>4</th>\n",
       "      <td>64831413</td>\n",
       "      <td>2018</td>\n",
       "      <td>99</td>\n",
       "      <td>1</td>\n",
       "      <td>[China]</td>\n",
       "      <td>[China, China, China, China, China, China]</td>\n",
       "    </tr>\n",
       "  </tbody>\n",
       "</table>\n",
       "</div>"
      ],
      "text/plain": [
       "     ID_Art  Annee_Bibliographique  Code_Discipline  Code_Document   \n",
       "0  60694041                   2017                9              1  \\\n",
       "1  48573156                   2012               89              1   \n",
       "2  55323671                   2015               89              1   \n",
       "3  57633115                   2016               31              1   \n",
       "4  64831413                   2018               99              1   \n",
       "\n",
       "                           Pays                                     Country  \n",
       "0       [Canada, United States]              [United States, United States]  \n",
       "1                      [France]                                  Not-Funded  \n",
       "2               [France, Chile]         [Chile, Chile, Chile, Chile, Chile]  \n",
       "3  [Switzerland, United States]                               [Switzerland]  \n",
       "4                       [China]  [China, China, China, China, China, China]  "
      ]
     },
     "execution_count": 17,
     "metadata": {},
     "output_type": "execute_result"
    }
   ],
   "source": [
    "pub_df.head()"
   ]
  },
  {
   "cell_type": "code",
   "execution_count": 18,
   "id": "final-zambia",
   "metadata": {
    "execution": {
     "iopub.execute_input": "2023-08-21T16:52:22.359844Z",
     "iopub.status.busy": "2023-08-21T16:52:22.358918Z",
     "iopub.status.idle": "2023-08-21T16:52:49.735386Z",
     "shell.execute_reply": "2023-08-21T16:52:49.734489Z"
    },
    "papermill": {
     "duration": 27.386088,
     "end_time": "2023-08-21T16:52:49.738791",
     "exception": false,
     "start_time": "2023-08-21T16:52:22.352703",
     "status": "completed"
    },
    "tags": []
   },
   "outputs": [],
   "source": [
    "pub_df['author_distinct']=pub_df['Pays'].apply(lambda x: list(set(x)))\n",
    "pub_df['funder_distinct']=pub_df['Country'].apply(lambda x:list(set(x)) \n",
    "                                                  if x!='Not-Funded' else 'Not-Funded')"
   ]
  },
  {
   "cell_type": "code",
   "execution_count": 19,
   "id": "placed-plant",
   "metadata": {
    "execution": {
     "iopub.execute_input": "2023-08-21T16:52:49.755979Z",
     "iopub.status.busy": "2023-08-21T16:52:49.754720Z",
     "iopub.status.idle": "2023-08-21T16:52:54.676077Z",
     "shell.execute_reply": "2023-08-21T16:52:54.675345Z"
    },
    "papermill": {
     "duration": 4.931662,
     "end_time": "2023-08-21T16:52:54.679546",
     "exception": false,
     "start_time": "2023-08-21T16:52:49.747884",
     "status": "completed"
    },
    "tags": []
   },
   "outputs": [],
   "source": [
    "pub_df=pub_df.rename(mapper={'ID_Art':'id','Annee_Bibliographique':'year','Code_Discipline':'dis',\n",
    "                             'Code_Document':'type','Pays':'author','Country':'funder'},axis=1)"
   ]
  },
  {
   "cell_type": "code",
   "execution_count": 20,
   "id": "scheduled-stick",
   "metadata": {
    "execution": {
     "iopub.execute_input": "2023-08-21T16:52:54.698002Z",
     "iopub.status.busy": "2023-08-21T16:52:54.697292Z",
     "iopub.status.idle": "2023-08-21T16:52:54.713505Z",
     "shell.execute_reply": "2023-08-21T16:52:54.712983Z"
    },
    "papermill": {
     "duration": 0.026757,
     "end_time": "2023-08-21T16:52:54.717312",
     "exception": false,
     "start_time": "2023-08-21T16:52:54.690555",
     "status": "completed"
    },
    "tags": []
   },
   "outputs": [
    {
     "data": {
      "text/html": [
       "<div>\n",
       "<style scoped>\n",
       "    .dataframe tbody tr th:only-of-type {\n",
       "        vertical-align: middle;\n",
       "    }\n",
       "\n",
       "    .dataframe tbody tr th {\n",
       "        vertical-align: top;\n",
       "    }\n",
       "\n",
       "    .dataframe thead th {\n",
       "        text-align: right;\n",
       "    }\n",
       "</style>\n",
       "<table border=\"1\" class=\"dataframe\">\n",
       "  <thead>\n",
       "    <tr style=\"text-align: right;\">\n",
       "      <th></th>\n",
       "      <th>id</th>\n",
       "      <th>year</th>\n",
       "      <th>dis</th>\n",
       "      <th>type</th>\n",
       "      <th>author</th>\n",
       "      <th>funder</th>\n",
       "      <th>author_distinct</th>\n",
       "      <th>funder_distinct</th>\n",
       "    </tr>\n",
       "  </thead>\n",
       "  <tbody>\n",
       "    <tr>\n",
       "      <th>0</th>\n",
       "      <td>60694041</td>\n",
       "      <td>2017</td>\n",
       "      <td>9</td>\n",
       "      <td>1</td>\n",
       "      <td>[Canada, United States]</td>\n",
       "      <td>[United States, United States]</td>\n",
       "      <td>[Canada, United States]</td>\n",
       "      <td>[United States]</td>\n",
       "    </tr>\n",
       "    <tr>\n",
       "      <th>1</th>\n",
       "      <td>48573156</td>\n",
       "      <td>2012</td>\n",
       "      <td>89</td>\n",
       "      <td>1</td>\n",
       "      <td>[France]</td>\n",
       "      <td>Not-Funded</td>\n",
       "      <td>[France]</td>\n",
       "      <td>Not-Funded</td>\n",
       "    </tr>\n",
       "    <tr>\n",
       "      <th>2</th>\n",
       "      <td>55323671</td>\n",
       "      <td>2015</td>\n",
       "      <td>89</td>\n",
       "      <td>1</td>\n",
       "      <td>[France, Chile]</td>\n",
       "      <td>[Chile, Chile, Chile, Chile, Chile]</td>\n",
       "      <td>[France, Chile]</td>\n",
       "      <td>[Chile]</td>\n",
       "    </tr>\n",
       "    <tr>\n",
       "      <th>3</th>\n",
       "      <td>57633115</td>\n",
       "      <td>2016</td>\n",
       "      <td>31</td>\n",
       "      <td>1</td>\n",
       "      <td>[Switzerland, United States]</td>\n",
       "      <td>[Switzerland]</td>\n",
       "      <td>[Switzerland, United States]</td>\n",
       "      <td>[Switzerland]</td>\n",
       "    </tr>\n",
       "    <tr>\n",
       "      <th>4</th>\n",
       "      <td>64831413</td>\n",
       "      <td>2018</td>\n",
       "      <td>99</td>\n",
       "      <td>1</td>\n",
       "      <td>[China]</td>\n",
       "      <td>[China, China, China, China, China, China]</td>\n",
       "      <td>[China]</td>\n",
       "      <td>[China]</td>\n",
       "    </tr>\n",
       "  </tbody>\n",
       "</table>\n",
       "</div>"
      ],
      "text/plain": [
       "         id  year  dis  type                        author   \n",
       "0  60694041  2017    9     1       [Canada, United States]  \\\n",
       "1  48573156  2012   89     1                      [France]   \n",
       "2  55323671  2015   89     1               [France, Chile]   \n",
       "3  57633115  2016   31     1  [Switzerland, United States]   \n",
       "4  64831413  2018   99     1                       [China]   \n",
       "\n",
       "                                       funder               author_distinct   \n",
       "0              [United States, United States]       [Canada, United States]  \\\n",
       "1                                  Not-Funded                      [France]   \n",
       "2         [Chile, Chile, Chile, Chile, Chile]               [France, Chile]   \n",
       "3                               [Switzerland]  [Switzerland, United States]   \n",
       "4  [China, China, China, China, China, China]                       [China]   \n",
       "\n",
       "   funder_distinct  \n",
       "0  [United States]  \n",
       "1       Not-Funded  \n",
       "2          [Chile]  \n",
       "3    [Switzerland]  \n",
       "4          [China]  "
      ]
     },
     "execution_count": 20,
     "metadata": {},
     "output_type": "execute_result"
    }
   ],
   "source": [
    "pub_df.head()"
   ]
  },
  {
   "cell_type": "code",
   "execution_count": 21,
   "id": "manual-healing",
   "metadata": {
    "execution": {
     "iopub.execute_input": "2023-08-21T16:52:54.729738Z",
     "iopub.status.busy": "2023-08-21T16:52:54.728852Z",
     "iopub.status.idle": "2023-08-21T16:53:04.794419Z",
     "shell.execute_reply": "2023-08-21T16:53:04.793829Z"
    },
    "papermill": {
     "duration": 10.07573,
     "end_time": "2023-08-21T16:53:04.798305",
     "exception": false,
     "start_time": "2023-08-21T16:52:54.722575",
     "status": "completed"
    },
    "tags": []
   },
   "outputs": [
    {
     "data": {
      "text/html": [
       "<div>\n",
       "<style scoped>\n",
       "    .dataframe tbody tr th:only-of-type {\n",
       "        vertical-align: middle;\n",
       "    }\n",
       "\n",
       "    .dataframe tbody tr th {\n",
       "        vertical-align: top;\n",
       "    }\n",
       "\n",
       "    .dataframe thead th {\n",
       "        text-align: right;\n",
       "    }\n",
       "</style>\n",
       "<table border=\"1\" class=\"dataframe\">\n",
       "  <thead>\n",
       "    <tr style=\"text-align: right;\">\n",
       "      <th></th>\n",
       "      <th>id</th>\n",
       "      <th>year</th>\n",
       "      <th>dis</th>\n",
       "      <th>type</th>\n",
       "      <th>author</th>\n",
       "      <th>funder</th>\n",
       "      <th>author_distinct</th>\n",
       "      <th>funder_distinct</th>\n",
       "      <th>funded</th>\n",
       "      <th>IntCol</th>\n",
       "    </tr>\n",
       "  </thead>\n",
       "  <tbody>\n",
       "    <tr>\n",
       "      <th>0</th>\n",
       "      <td>60694041</td>\n",
       "      <td>2017</td>\n",
       "      <td>9</td>\n",
       "      <td>1</td>\n",
       "      <td>[Canada, United States]</td>\n",
       "      <td>[United States, United States]</td>\n",
       "      <td>[Canada, United States]</td>\n",
       "      <td>[United States]</td>\n",
       "      <td>1</td>\n",
       "      <td>1</td>\n",
       "    </tr>\n",
       "    <tr>\n",
       "      <th>1</th>\n",
       "      <td>48573156</td>\n",
       "      <td>2012</td>\n",
       "      <td>89</td>\n",
       "      <td>1</td>\n",
       "      <td>[France]</td>\n",
       "      <td>Not-Funded</td>\n",
       "      <td>[France]</td>\n",
       "      <td>Not-Funded</td>\n",
       "      <td>0</td>\n",
       "      <td>0</td>\n",
       "    </tr>\n",
       "    <tr>\n",
       "      <th>2</th>\n",
       "      <td>55323671</td>\n",
       "      <td>2015</td>\n",
       "      <td>89</td>\n",
       "      <td>1</td>\n",
       "      <td>[France, Chile]</td>\n",
       "      <td>[Chile, Chile, Chile, Chile, Chile]</td>\n",
       "      <td>[France, Chile]</td>\n",
       "      <td>[Chile]</td>\n",
       "      <td>1</td>\n",
       "      <td>1</td>\n",
       "    </tr>\n",
       "    <tr>\n",
       "      <th>3</th>\n",
       "      <td>57633115</td>\n",
       "      <td>2016</td>\n",
       "      <td>31</td>\n",
       "      <td>1</td>\n",
       "      <td>[Switzerland, United States]</td>\n",
       "      <td>[Switzerland]</td>\n",
       "      <td>[Switzerland, United States]</td>\n",
       "      <td>[Switzerland]</td>\n",
       "      <td>1</td>\n",
       "      <td>1</td>\n",
       "    </tr>\n",
       "    <tr>\n",
       "      <th>4</th>\n",
       "      <td>64831413</td>\n",
       "      <td>2018</td>\n",
       "      <td>99</td>\n",
       "      <td>1</td>\n",
       "      <td>[China]</td>\n",
       "      <td>[China, China, China, China, China, China]</td>\n",
       "      <td>[China]</td>\n",
       "      <td>[China]</td>\n",
       "      <td>1</td>\n",
       "      <td>0</td>\n",
       "    </tr>\n",
       "  </tbody>\n",
       "</table>\n",
       "</div>"
      ],
      "text/plain": [
       "         id  year  dis  type                        author   \n",
       "0  60694041  2017    9     1       [Canada, United States]  \\\n",
       "1  48573156  2012   89     1                      [France]   \n",
       "2  55323671  2015   89     1               [France, Chile]   \n",
       "3  57633115  2016   31     1  [Switzerland, United States]   \n",
       "4  64831413  2018   99     1                       [China]   \n",
       "\n",
       "                                       funder               author_distinct   \n",
       "0              [United States, United States]       [Canada, United States]  \\\n",
       "1                                  Not-Funded                      [France]   \n",
       "2         [Chile, Chile, Chile, Chile, Chile]               [France, Chile]   \n",
       "3                               [Switzerland]  [Switzerland, United States]   \n",
       "4  [China, China, China, China, China, China]                       [China]   \n",
       "\n",
       "   funder_distinct  funded  IntCol  \n",
       "0  [United States]       1       1  \n",
       "1       Not-Funded       0       0  \n",
       "2          [Chile]       1       1  \n",
       "3    [Switzerland]       1       1  \n",
       "4          [China]       1       0  "
      ]
     },
     "execution_count": 21,
     "metadata": {},
     "output_type": "execute_result"
    }
   ],
   "source": [
    "pub_df['funded']=pub_df['funder'].apply(lambda x:1 if x!='Not-Funded' else 0)\n",
    "pub_df['IntCol']=pub_df['author_distinct'].apply(lambda x:1 if len(x)>1 else 0)\n",
    "pub_df.head()"
   ]
  },
  {
   "cell_type": "code",
   "execution_count": 22,
   "id": "herbal-dinner",
   "metadata": {
    "execution": {
     "iopub.execute_input": "2023-08-21T16:53:04.815344Z",
     "iopub.status.busy": "2023-08-21T16:53:04.814742Z",
     "iopub.status.idle": "2023-08-21T16:53:10.426584Z",
     "shell.execute_reply": "2023-08-21T16:53:10.425839Z"
    },
    "papermill": {
     "duration": 5.62194,
     "end_time": "2023-08-21T16:53:10.430025",
     "exception": false,
     "start_time": "2023-08-21T16:53:04.808085",
     "status": "completed"
    },
    "tags": []
   },
   "outputs": [],
   "source": [
    "def cofund(funders):\n",
    "    label=1\n",
    "    if funders=='Not-Funded':\n",
    "        label=0\n",
    "    elif 'EU' not in funders and len(funders)==1:\n",
    "        label=0\n",
    "    return label\n",
    "pub_df['cofund']=pub_df['funder_distinct'].apply(lambda x: cofund(x))"
   ]
  },
  {
   "cell_type": "code",
   "execution_count": 23,
   "id": "associate-bumper",
   "metadata": {
    "execution": {
     "iopub.execute_input": "2023-08-21T16:53:10.447374Z",
     "iopub.status.busy": "2023-08-21T16:53:10.446774Z",
     "iopub.status.idle": "2023-08-21T16:56:45.028333Z",
     "shell.execute_reply": "2023-08-21T16:56:45.026909Z"
    },
    "papermill": {
     "duration": 214.59196,
     "end_time": "2023-08-21T16:56:45.031827",
     "exception": false,
     "start_time": "2023-08-21T16:53:10.439867",
     "status": "completed"
    },
    "tags": []
   },
   "outputs": [],
   "source": [
    "def intfund(funder, author, cofund):\n",
    "    label = 0\n",
    "    if cofund==1:\n",
    "        label =1\n",
    "    elif funder!='Not-Funded' and funder[0] not in author:\n",
    "        label = 1\n",
    "    return label\n",
    "pub_df['intfund']=pub_df[['funder_distinct','author_distinct','cofund']].apply(\n",
    "    lambda x:intfund(x.funder_distinct,x.author_distinct,x.cofund),axis=1)"
   ]
  },
  {
   "cell_type": "code",
   "execution_count": 24,
   "id": "pressing-wesley",
   "metadata": {
    "execution": {
     "iopub.execute_input": "2023-08-21T16:56:45.051788Z",
     "iopub.status.busy": "2023-08-21T16:56:45.051032Z",
     "iopub.status.idle": "2023-08-21T16:57:39.709807Z",
     "shell.execute_reply": "2023-08-21T16:57:39.708665Z"
    },
    "papermill": {
     "duration": 54.670143,
     "end_time": "2023-08-21T16:57:39.713475",
     "exception": false,
     "start_time": "2023-08-21T16:56:45.043332",
     "status": "completed"
    },
    "tags": []
   },
   "outputs": [],
   "source": [
    "pub_df.to_pickle(clean_pub_path)"
   ]
  },
  {
   "cell_type": "code",
   "execution_count": null,
   "id": "132c2eec-ac5f-4b84-a842-68807d11e084",
   "metadata": {
    "papermill": {
     "duration": 0.00568,
     "end_time": "2023-08-21T16:57:39.729945",
     "exception": false,
     "start_time": "2023-08-21T16:57:39.724265",
     "status": "completed"
    },
    "tags": []
   },
   "outputs": [],
   "source": []
  }
 ],
 "metadata": {
  "kernelspec": {
   "display_name": "Python 3 (ipykernel)",
   "language": "python",
   "name": "python3"
  },
  "language_info": {
   "codemirror_mode": {
    "name": "ipython",
    "version": 3
   },
   "file_extension": ".py",
   "mimetype": "text/x-python",
   "name": "python",
   "nbconvert_exporter": "python",
   "pygments_lexer": "ipython3",
   "version": "3.8.16"
  },
  "papermill": {
   "default_parameters": {},
   "duration": 1365.303013,
   "end_time": "2023-08-21T16:57:43.061905",
   "environment_variables": {},
   "exception": null,
   "input_path": "scripts/compile_data.ipynb",
   "output_path": "scripts/outputs/compile_data.ipynb",
   "parameters": {
    "clean_pub_path": "../data/NationalFunding/Data/DerivedData/CleanedRawData/pub.pkl",
    "cntry_path": "../data/NationalFunding/Data/AdditionalData/cntry_convert.xlsx",
    "pub_author_path": "../data/NationalFunding/Data/RawData/pub_author.csv",
    "pub_fund_path": "../data/NationalFunding/Data/RawData/pub_funder.csv",
    "pub_path": "../data/NationalFunding/Data/RawData/pubs.csv"
   },
   "start_time": "2023-08-21T16:34:57.758892",
   "version": "2.3.4"
  }
 },
 "nbformat": 4,
 "nbformat_minor": 5
}