{
 "cells": [
  {
   "cell_type": "markdown",
   "id": "blank-douglas",
   "metadata": {
    "papermill": {
     "duration": 0.004404,
     "end_time": "2023-08-21T17:21:10.428358",
     "exception": false,
     "start_time": "2023-08-21T17:21:10.423954",
     "status": "completed"
    },
    "tags": []
   },
   "source": [
    "this script plots countries' contribution to science"
   ]
  },
  {
   "cell_type": "code",
   "execution_count": 1,
   "id": "ambient-crime",
   "metadata": {
    "execution": {
     "iopub.execute_input": "2023-08-21T17:21:10.437459Z",
     "iopub.status.busy": "2023-08-21T17:21:10.436407Z",
     "iopub.status.idle": "2023-08-21T17:21:11.420332Z",
     "shell.execute_reply": "2023-08-21T17:21:11.419423Z"
    },
    "papermill": {
     "duration": 0.991361,
     "end_time": "2023-08-21T17:21:11.423488",
     "exception": false,
     "start_time": "2023-08-21T17:21:10.432127",
     "status": "completed"
    },
    "tags": []
   },
   "outputs": [],
   "source": [
    "import pandas as pd\n",
    "import numpy as np\n",
    "from itertools import product\n",
    "import seaborn as sns\n",
    "import matplotlib.pyplot as plt\n",
    "from matplotlib.lines import Line2D\n",
    "from matplotlib import gridspec\n",
    "from matplotlib.patches import Patch"
   ]
  },
  {
   "cell_type": "code",
   "execution_count": 2,
   "id": "environmental-commons",
   "metadata": {
    "execution": {
     "iopub.execute_input": "2023-08-21T17:21:11.437234Z",
     "iopub.status.busy": "2023-08-21T17:21:11.436113Z",
     "iopub.status.idle": "2023-08-21T17:21:11.442924Z",
     "shell.execute_reply": "2023-08-21T17:21:11.441856Z"
    },
    "papermill": {
     "duration": 0.012959,
     "end_time": "2023-08-21T17:21:11.444656",
     "exception": false,
     "start_time": "2023-08-21T17:21:11.431697",
     "status": "completed"
    },
    "tags": [
     "parameters"
    ]
   },
   "outputs": [],
   "source": [
    "cntry_fund_path='../../data/nf_folder/Data/DerivedData/Derived/cntry_fund_frac.csv'\n",
    "pubs_path=\"../../data/nf_folder/Data/DerivedData/CleanedRawData/pub.pkl\"\n",
    "flag_path='../../data/nf_folder/Data/AdditionalData/country_WoS_ECI_WB_flags.tsv'\n",
    "region_path=\"../../data/nf_folder/Data/AdditionalData/cntry_region.xlsx\"\n",
    "\n",
    "cntry_funding_path='../../data/nf_folder/Figs/cntry_funding_frac.pdf'"
   ]
  },
  {
   "cell_type": "code",
   "execution_count": 3,
   "id": "03097366",
   "metadata": {
    "execution": {
     "iopub.execute_input": "2023-08-21T17:21:11.454525Z",
     "iopub.status.busy": "2023-08-21T17:21:11.453657Z",
     "iopub.status.idle": "2023-08-21T17:21:11.459575Z",
     "shell.execute_reply": "2023-08-21T17:21:11.458580Z"
    },
    "papermill": {
     "duration": 0.012699,
     "end_time": "2023-08-21T17:21:11.461244",
     "exception": false,
     "start_time": "2023-08-21T17:21:11.448545",
     "status": "completed"
    },
    "tags": [
     "injected-parameters"
    ]
   },
   "outputs": [],
   "source": [
    "# Parameters\n",
    "cntry_fund_path = \"../data/NationalFunding/Data/DerivedData/Derived/cntry_fund_frac.csv\"\n",
    "pubs_path = \"../data/NationalFunding/Data/DerivedData/CleanedRawData/pub.pkl\"\n",
    "flag_path = \"../data/NationalFunding/Data/AdditionalData/country_WoS_ECI_WB_flags.tsv\"\n",
    "region_path = \"../data/NationalFunding/Data/AdditionalData/cntry_region.xlsx\"\n",
    "cntry_funding_path = \"../data/NationalFunding/Figs/Figs/cntry_funding_frac.pdf\"\n"
   ]
  },
  {
   "cell_type": "code",
   "execution_count": 4,
   "id": "stupid-waste",
   "metadata": {
    "execution": {
     "iopub.execute_input": "2023-08-21T17:21:11.472846Z",
     "iopub.status.busy": "2023-08-21T17:21:11.472072Z",
     "iopub.status.idle": "2023-08-21T17:21:11.944571Z",
     "shell.execute_reply": "2023-08-21T17:21:11.943802Z"
    },
    "papermill": {
     "duration": 0.481731,
     "end_time": "2023-08-21T17:21:11.948113",
     "exception": false,
     "start_time": "2023-08-21T17:21:11.466382",
     "status": "completed"
    },
    "tags": []
   },
   "outputs": [
    {
     "data": {
      "text/html": [
       "<div>\n",
       "<style scoped>\n",
       "    .dataframe tbody tr th:only-of-type {\n",
       "        vertical-align: middle;\n",
       "    }\n",
       "\n",
       "    .dataframe tbody tr th {\n",
       "        vertical-align: top;\n",
       "    }\n",
       "\n",
       "    .dataframe thead th {\n",
       "        text-align: right;\n",
       "    }\n",
       "</style>\n",
       "<table border=\"1\" class=\"dataframe\">\n",
       "  <thead>\n",
       "    <tr style=\"text-align: right;\">\n",
       "      <th></th>\n",
       "      <th>funder</th>\n",
       "      <th>year</th>\n",
       "      <th>intcol</th>\n",
       "      <th>cnt</th>\n",
       "    </tr>\n",
       "  </thead>\n",
       "  <tbody>\n",
       "    <tr>\n",
       "      <th>0</th>\n",
       "      <td>Afghanistan</td>\n",
       "      <td>2010</td>\n",
       "      <td>1</td>\n",
       "      <td>1.000000</td>\n",
       "    </tr>\n",
       "    <tr>\n",
       "      <th>1</th>\n",
       "      <td>Afghanistan</td>\n",
       "      <td>2011</td>\n",
       "      <td>1</td>\n",
       "      <td>0.333333</td>\n",
       "    </tr>\n",
       "    <tr>\n",
       "      <th>2</th>\n",
       "      <td>Afghanistan</td>\n",
       "      <td>2012</td>\n",
       "      <td>1</td>\n",
       "      <td>0.333333</td>\n",
       "    </tr>\n",
       "    <tr>\n",
       "      <th>3</th>\n",
       "      <td>Afghanistan</td>\n",
       "      <td>2015</td>\n",
       "      <td>0</td>\n",
       "      <td>0.148352</td>\n",
       "    </tr>\n",
       "    <tr>\n",
       "      <th>4</th>\n",
       "      <td>Afghanistan</td>\n",
       "      <td>2015</td>\n",
       "      <td>1</td>\n",
       "      <td>0.279167</td>\n",
       "    </tr>\n",
       "  </tbody>\n",
       "</table>\n",
       "</div>"
      ],
      "text/plain": [
       "        funder  year  intcol       cnt\n",
       "0  Afghanistan  2010       1  1.000000\n",
       "1  Afghanistan  2011       1  0.333333\n",
       "2  Afghanistan  2012       1  0.333333\n",
       "3  Afghanistan  2015       0  0.148352\n",
       "4  Afghanistan  2015       1  0.279167"
      ]
     },
     "execution_count": 4,
     "metadata": {},
     "output_type": "execute_result"
    }
   ],
   "source": [
    "cntry_fund=pd.read_csv(cntry_fund_path)\n",
    "cntry_fund=cntry_fund[cntry_fund.funder!='Not-Funded']\n",
    "cntry_fund.head()"
   ]
  },
  {
   "cell_type": "code",
   "execution_count": 5,
   "id": "outstanding-appreciation",
   "metadata": {
    "execution": {
     "iopub.execute_input": "2023-08-21T17:21:11.959141Z",
     "iopub.status.busy": "2023-08-21T17:21:11.958495Z",
     "iopub.status.idle": "2023-08-21T17:22:01.233180Z",
     "shell.execute_reply": "2023-08-21T17:22:01.232335Z"
    },
    "papermill": {
     "duration": 49.288426,
     "end_time": "2023-08-21T17:22:01.242677",
     "exception": false,
     "start_time": "2023-08-21T17:21:11.954251",
     "status": "completed"
    },
    "tags": []
   },
   "outputs": [
    {
     "data": {
      "text/html": [
       "<div>\n",
       "<style scoped>\n",
       "    .dataframe tbody tr th:only-of-type {\n",
       "        vertical-align: middle;\n",
       "    }\n",
       "\n",
       "    .dataframe tbody tr th {\n",
       "        vertical-align: top;\n",
       "    }\n",
       "\n",
       "    .dataframe thead th {\n",
       "        text-align: right;\n",
       "    }\n",
       "</style>\n",
       "<table border=\"1\" class=\"dataframe\">\n",
       "  <thead>\n",
       "    <tr style=\"text-align: right;\">\n",
       "      <th></th>\n",
       "      <th>id</th>\n",
       "      <th>year</th>\n",
       "      <th>dis</th>\n",
       "      <th>type</th>\n",
       "      <th>author</th>\n",
       "      <th>funder</th>\n",
       "      <th>author_distinct</th>\n",
       "      <th>funder_distinct</th>\n",
       "      <th>funded</th>\n",
       "      <th>IntCol</th>\n",
       "      <th>cofund</th>\n",
       "      <th>intfund</th>\n",
       "    </tr>\n",
       "  </thead>\n",
       "  <tbody>\n",
       "    <tr>\n",
       "      <th>0</th>\n",
       "      <td>60694041</td>\n",
       "      <td>2017</td>\n",
       "      <td>9</td>\n",
       "      <td>1</td>\n",
       "      <td>[Canada, United States]</td>\n",
       "      <td>[United States, United States]</td>\n",
       "      <td>[Canada, United States]</td>\n",
       "      <td>[United States]</td>\n",
       "      <td>1</td>\n",
       "      <td>1</td>\n",
       "      <td>0</td>\n",
       "      <td>0</td>\n",
       "    </tr>\n",
       "    <tr>\n",
       "      <th>1</th>\n",
       "      <td>48573156</td>\n",
       "      <td>2012</td>\n",
       "      <td>89</td>\n",
       "      <td>1</td>\n",
       "      <td>[France]</td>\n",
       "      <td>Not-Funded</td>\n",
       "      <td>[France]</td>\n",
       "      <td>Not-Funded</td>\n",
       "      <td>0</td>\n",
       "      <td>0</td>\n",
       "      <td>0</td>\n",
       "      <td>0</td>\n",
       "    </tr>\n",
       "    <tr>\n",
       "      <th>2</th>\n",
       "      <td>55323671</td>\n",
       "      <td>2015</td>\n",
       "      <td>89</td>\n",
       "      <td>1</td>\n",
       "      <td>[France, Chile]</td>\n",
       "      <td>[Chile, Chile, Chile, Chile, Chile]</td>\n",
       "      <td>[France, Chile]</td>\n",
       "      <td>[Chile]</td>\n",
       "      <td>1</td>\n",
       "      <td>1</td>\n",
       "      <td>0</td>\n",
       "      <td>0</td>\n",
       "    </tr>\n",
       "    <tr>\n",
       "      <th>3</th>\n",
       "      <td>57633115</td>\n",
       "      <td>2016</td>\n",
       "      <td>31</td>\n",
       "      <td>1</td>\n",
       "      <td>[Switzerland, United States]</td>\n",
       "      <td>[Switzerland]</td>\n",
       "      <td>[Switzerland, United States]</td>\n",
       "      <td>[Switzerland]</td>\n",
       "      <td>1</td>\n",
       "      <td>1</td>\n",
       "      <td>0</td>\n",
       "      <td>0</td>\n",
       "    </tr>\n",
       "    <tr>\n",
       "      <th>4</th>\n",
       "      <td>64831413</td>\n",
       "      <td>2018</td>\n",
       "      <td>99</td>\n",
       "      <td>1</td>\n",
       "      <td>[China]</td>\n",
       "      <td>[China, China, China, China, China, China]</td>\n",
       "      <td>[China]</td>\n",
       "      <td>[China]</td>\n",
       "      <td>1</td>\n",
       "      <td>0</td>\n",
       "      <td>0</td>\n",
       "      <td>0</td>\n",
       "    </tr>\n",
       "  </tbody>\n",
       "</table>\n",
       "</div>"
      ],
      "text/plain": [
       "         id  year  dis  type                        author   \n",
       "0  60694041  2017    9     1       [Canada, United States]  \\\n",
       "1  48573156  2012   89     1                      [France]   \n",
       "2  55323671  2015   89     1               [France, Chile]   \n",
       "3  57633115  2016   31     1  [Switzerland, United States]   \n",
       "4  64831413  2018   99     1                       [China]   \n",
       "\n",
       "                                       funder               author_distinct   \n",
       "0              [United States, United States]       [Canada, United States]  \\\n",
       "1                                  Not-Funded                      [France]   \n",
       "2         [Chile, Chile, Chile, Chile, Chile]               [France, Chile]   \n",
       "3                               [Switzerland]  [Switzerland, United States]   \n",
       "4  [China, China, China, China, China, China]                       [China]   \n",
       "\n",
       "   funder_distinct  funded  IntCol  cofund  intfund  \n",
       "0  [United States]       1       1       0        0  \n",
       "1       Not-Funded       0       0       0        0  \n",
       "2          [Chile]       1       1       0        0  \n",
       "3    [Switzerland]       1       1       0        0  \n",
       "4          [China]       1       0       0        0  "
      ]
     },
     "execution_count": 5,
     "metadata": {},
     "output_type": "execute_result"
    }
   ],
   "source": [
    "pubs_df = pd.read_pickle(pubs_path)\n",
    "pubs_df.head()"
   ]
  },
  {
   "cell_type": "code",
   "execution_count": 6,
   "id": "boring-university",
   "metadata": {
    "execution": {
     "iopub.execute_input": "2023-08-21T17:22:01.252229Z",
     "iopub.status.busy": "2023-08-21T17:22:01.251523Z",
     "iopub.status.idle": "2023-08-21T17:22:01.843556Z",
     "shell.execute_reply": "2023-08-21T17:22:01.842789Z"
    },
    "papermill": {
     "duration": 0.599909,
     "end_time": "2023-08-21T17:22:01.846414",
     "exception": false,
     "start_time": "2023-08-21T17:22:01.246505",
     "status": "completed"
    },
    "tags": []
   },
   "outputs": [
    {
     "data": {
      "text/html": [
       "<div>\n",
       "<style scoped>\n",
       "    .dataframe tbody tr th:only-of-type {\n",
       "        vertical-align: middle;\n",
       "    }\n",
       "\n",
       "    .dataframe tbody tr th {\n",
       "        vertical-align: top;\n",
       "    }\n",
       "\n",
       "    .dataframe thead th {\n",
       "        text-align: right;\n",
       "    }\n",
       "</style>\n",
       "<table border=\"1\" class=\"dataframe\">\n",
       "  <thead>\n",
       "    <tr style=\"text-align: right;\">\n",
       "      <th></th>\n",
       "      <th>WoS</th>\n",
       "      <th>Code</th>\n",
       "    </tr>\n",
       "  </thead>\n",
       "  <tbody>\n",
       "    <tr>\n",
       "      <th>0</th>\n",
       "      <td>Albania</td>\n",
       "      <td>ALB</td>\n",
       "    </tr>\n",
       "    <tr>\n",
       "      <th>1</th>\n",
       "      <td>Algeria</td>\n",
       "      <td>DZA</td>\n",
       "    </tr>\n",
       "    <tr>\n",
       "      <th>2</th>\n",
       "      <td>Angola</td>\n",
       "      <td>AGO</td>\n",
       "    </tr>\n",
       "    <tr>\n",
       "      <th>3</th>\n",
       "      <td>Argentina</td>\n",
       "      <td>ARG</td>\n",
       "    </tr>\n",
       "    <tr>\n",
       "      <th>4</th>\n",
       "      <td>Australia</td>\n",
       "      <td>AUS</td>\n",
       "    </tr>\n",
       "  </tbody>\n",
       "</table>\n",
       "</div>"
      ],
      "text/plain": [
       "         WoS Code\n",
       "0    Albania  ALB\n",
       "1    Algeria  DZA\n",
       "2     Angola  AGO\n",
       "3  Argentina  ARG\n",
       "4  Australia  AUS"
      ]
     },
     "execution_count": 6,
     "metadata": {},
     "output_type": "execute_result"
    }
   ],
   "source": [
    "flag_df=pd.read_csv(flag_path, sep='\\t')[['WoS','Code']]\n",
    "flag_df.head()"
   ]
  },
  {
   "cell_type": "code",
   "execution_count": 7,
   "id": "martial-investor",
   "metadata": {
    "execution": {
     "iopub.execute_input": "2023-08-21T17:22:01.859535Z",
     "iopub.status.busy": "2023-08-21T17:22:01.858984Z",
     "iopub.status.idle": "2023-08-21T17:22:03.906987Z",
     "shell.execute_reply": "2023-08-21T17:22:03.906176Z"
    },
    "papermill": {
     "duration": 2.056233,
     "end_time": "2023-08-21T17:22:03.910239",
     "exception": false,
     "start_time": "2023-08-21T17:22:01.854006",
     "status": "completed"
    },
    "tags": []
   },
   "outputs": [
    {
     "data": {
      "text/html": [
       "<div>\n",
       "<style scoped>\n",
       "    .dataframe tbody tr th:only-of-type {\n",
       "        vertical-align: middle;\n",
       "    }\n",
       "\n",
       "    .dataframe tbody tr th {\n",
       "        vertical-align: top;\n",
       "    }\n",
       "\n",
       "    .dataframe thead th {\n",
       "        text-align: right;\n",
       "    }\n",
       "</style>\n",
       "<table border=\"1\" class=\"dataframe\">\n",
       "  <thead>\n",
       "    <tr style=\"text-align: right;\">\n",
       "      <th></th>\n",
       "      <th>cntry</th>\n",
       "      <th>region</th>\n",
       "    </tr>\n",
       "  </thead>\n",
       "  <tbody>\n",
       "    <tr>\n",
       "      <th>0</th>\n",
       "      <td>Algeria</td>\n",
       "      <td>Africa</td>\n",
       "    </tr>\n",
       "    <tr>\n",
       "      <th>1</th>\n",
       "      <td>Angola</td>\n",
       "      <td>Africa</td>\n",
       "    </tr>\n",
       "    <tr>\n",
       "      <th>2</th>\n",
       "      <td>Belgian Congo</td>\n",
       "      <td>Africa</td>\n",
       "    </tr>\n",
       "    <tr>\n",
       "      <th>3</th>\n",
       "      <td>Benin</td>\n",
       "      <td>Africa</td>\n",
       "    </tr>\n",
       "    <tr>\n",
       "      <th>4</th>\n",
       "      <td>Botswana</td>\n",
       "      <td>Africa</td>\n",
       "    </tr>\n",
       "  </tbody>\n",
       "</table>\n",
       "</div>"
      ],
      "text/plain": [
       "           cntry  region\n",
       "0        Algeria  Africa\n",
       "1         Angola  Africa\n",
       "2  Belgian Congo  Africa\n",
       "3          Benin  Africa\n",
       "4       Botswana  Africa"
      ]
     },
     "execution_count": 7,
     "metadata": {},
     "output_type": "execute_result"
    }
   ],
   "source": [
    "region=pd.read_excel(region_path)\n",
    "region=region[['cntry','region2']]\n",
    "region=region.rename(columns={'region2':'region'})\n",
    "region.head()"
   ]
  },
  {
   "cell_type": "markdown",
   "id": "included-exception",
   "metadata": {
    "papermill": {
     "duration": 0.003905,
     "end_time": "2023-08-21T17:22:03.922483",
     "exception": false,
     "start_time": "2023-08-21T17:22:03.918578",
     "status": "completed"
    },
    "tags": []
   },
   "source": [
    "calculate the number of funded publication each year"
   ]
  },
  {
   "cell_type": "code",
   "execution_count": 8,
   "id": "injured-worth",
   "metadata": {
    "execution": {
     "iopub.execute_input": "2023-08-21T17:22:03.932666Z",
     "iopub.status.busy": "2023-08-21T17:22:03.931605Z",
     "iopub.status.idle": "2023-08-21T17:22:03.938663Z",
     "shell.execute_reply": "2023-08-21T17:22:03.937677Z"
    },
    "papermill": {
     "duration": 0.013972,
     "end_time": "2023-08-21T17:22:03.940313",
     "exception": false,
     "start_time": "2023-08-21T17:22:03.926341",
     "status": "completed"
    },
    "tags": []
   },
   "outputs": [],
   "source": [
    "def get_fundedann(data,collsig):\n",
    "    data=data[data.IntCol>=collsig]#to decide whethere include no-international collaboration or not\n",
    "    funded_ann=data[data.funded==1]\n",
    "    funded_ann=funded_ann.groupby(['year']).size()\n",
    "    return funded_ann"
   ]
  },
  {
   "cell_type": "markdown",
   "id": "organized-backing",
   "metadata": {
    "papermill": {
     "duration": 0.004356,
     "end_time": "2023-08-21T17:22:03.949088",
     "exception": false,
     "start_time": "2023-08-21T17:22:03.944732",
     "status": "completed"
    },
    "tags": []
   },
   "source": [
    "normalize country's to proportion"
   ]
  },
  {
   "cell_type": "code",
   "execution_count": 9,
   "id": "regional-fishing",
   "metadata": {
    "execution": {
     "iopub.execute_input": "2023-08-21T17:22:03.958916Z",
     "iopub.status.busy": "2023-08-21T17:22:03.957991Z",
     "iopub.status.idle": "2023-08-21T17:22:03.966082Z",
     "shell.execute_reply": "2023-08-21T17:22:03.965175Z"
    },
    "papermill": {
     "duration": 0.015017,
     "end_time": "2023-08-21T17:22:03.967919",
     "exception": false,
     "start_time": "2023-08-21T17:22:03.952902",
     "status": "completed"
    },
    "tags": []
   },
   "outputs": [],
   "source": [
    "def get_ratio(data,funded_ann,collsig):\n",
    "    data=data[data.intcol>=collsig]#to decide whethere include no-international collaboration or not\n",
    "    cntry_ratio=data.groupby(['funder','year'])['cnt'].sum().reset_index()\n",
    "    cntry_ratio=cntry_ratio.pivot_table(index='year',columns='funder',values='cnt',fill_value=0)\n",
    "    cntry_ratio=cntry_ratio.div(funded_ann, axis=0)\n",
    "    return cntry_ratio"
   ]
  },
  {
   "cell_type": "code",
   "execution_count": 10,
   "id": "pointed-station",
   "metadata": {
    "execution": {
     "iopub.execute_input": "2023-08-21T17:22:03.982198Z",
     "iopub.status.busy": "2023-08-21T17:22:03.981428Z",
     "iopub.status.idle": "2023-08-21T17:22:03.989669Z",
     "shell.execute_reply": "2023-08-21T17:22:03.988858Z"
    },
    "papermill": {
     "duration": 0.014816,
     "end_time": "2023-08-21T17:22:03.990898",
     "exception": false,
     "start_time": "2023-08-21T17:22:03.976082",
     "status": "completed"
    },
    "tags": []
   },
   "outputs": [],
   "source": [
    "n=10\n",
    "topn=cntry_fund.groupby('funder')[\n",
    "    'cnt'].sum().sort_values(ascending=False).head(n).index.values\n"
   ]
  },
  {
   "cell_type": "markdown",
   "id": "nervous-turtle",
   "metadata": {
    "papermill": {
     "duration": 0.00484,
     "end_time": "2023-08-21T17:22:04.000245",
     "exception": false,
     "start_time": "2023-08-21T17:22:03.995405",
     "status": "completed"
    },
    "tags": []
   },
   "source": [
    "get the contribution of top 10 countries"
   ]
  },
  {
   "cell_type": "code",
   "execution_count": 11,
   "id": "strategic-shelter",
   "metadata": {
    "execution": {
     "iopub.execute_input": "2023-08-21T17:22:04.010986Z",
     "iopub.status.busy": "2023-08-21T17:22:04.010052Z",
     "iopub.status.idle": "2023-08-21T17:22:08.293289Z",
     "shell.execute_reply": "2023-08-21T17:22:08.292240Z"
    },
    "papermill": {
     "duration": 4.291604,
     "end_time": "2023-08-21T17:22:08.296585",
     "exception": false,
     "start_time": "2023-08-21T17:22:04.004981",
     "status": "completed"
    },
    "tags": []
   },
   "outputs": [],
   "source": [
    "funded_ann=get_fundedann(pubs_df,0)\n",
    "cntry_ratio=get_ratio(cntry_fund,funded_ann,0)\n",
    "topn_df=cntry_ratio[topn].reset_index()\n",
    "topn_df=topn_df.melt(id_vars='year')  \n",
    "topn_df=topn_df.merge(flag_df,left_on='funder',right_on='WoS',how='left')"
   ]
  },
  {
   "cell_type": "markdown",
   "id": "muslim-consciousness",
   "metadata": {
    "papermill": {
     "duration": 0.004003,
     "end_time": "2023-08-21T17:22:08.309940",
     "exception": false,
     "start_time": "2023-08-21T17:22:08.305937",
     "status": "completed"
    },
    "tags": []
   },
   "source": [
    "get the contribution to international collaboration of top 10 countries"
   ]
  },
  {
   "cell_type": "code",
   "execution_count": 12,
   "id": "saved-degree",
   "metadata": {
    "execution": {
     "iopub.execute_input": "2023-08-21T17:22:08.319081Z",
     "iopub.status.busy": "2023-08-21T17:22:08.318717Z",
     "iopub.status.idle": "2023-08-21T17:22:09.920865Z",
     "shell.execute_reply": "2023-08-21T17:22:09.919837Z"
    },
    "papermill": {
     "duration": 1.610005,
     "end_time": "2023-08-21T17:22:09.923869",
     "exception": false,
     "start_time": "2023-08-21T17:22:08.313864",
     "status": "completed"
    },
    "tags": []
   },
   "outputs": [],
   "source": [
    "fundedcoll_ann=get_fundedann(pubs_df,1)\n",
    "cntrycoll_ratio=get_ratio(cntry_fund,fundedcoll_ann,1)\n",
    "topn_coll=cntrycoll_ratio[topn].reset_index()\n",
    "topn_coll=topn_coll.melt(id_vars='year') \n",
    "topn_coll=topn_coll.merge(flag_df,left_on='funder',right_on='WoS',how='left')"
   ]
  },
  {
   "cell_type": "markdown",
   "id": "musical-grant",
   "metadata": {
    "papermill": {
     "duration": 0.004154,
     "end_time": "2023-08-21T17:22:09.937716",
     "exception": false,
     "start_time": "2023-08-21T17:22:09.933562",
     "status": "completed"
    },
    "tags": []
   },
   "source": [
    "get the funded publications by regions"
   ]
  },
  {
   "cell_type": "code",
   "execution_count": 13,
   "id": "second-brunei",
   "metadata": {
    "execution": {
     "iopub.execute_input": "2023-08-21T17:22:09.946792Z",
     "iopub.status.busy": "2023-08-21T17:22:09.946428Z",
     "iopub.status.idle": "2023-08-21T17:22:09.972368Z",
     "shell.execute_reply": "2023-08-21T17:22:09.971440Z"
    },
    "papermill": {
     "duration": 0.033626,
     "end_time": "2023-08-21T17:22:09.975298",
     "exception": false,
     "start_time": "2023-08-21T17:22:09.941672",
     "status": "completed"
    },
    "tags": []
   },
   "outputs": [],
   "source": [
    "regfund=cntry_ratio.reset_index()\n",
    "regfund=regfund.melt(id_vars='year')\n",
    "regfund=regfund.merge(region,left_on='funder',right_on='cntry',how='left')\n",
    "regfund=regfund.groupby(['year','region'])['value'].sum().reset_index(name='count')\n",
    "regfund=regfund.pivot_table(index='year',columns='region',values='count')\n"
   ]
  },
  {
   "cell_type": "code",
   "execution_count": 14,
   "id": "34ca7c91-b40f-4b09-9fe8-65fbda837a06",
   "metadata": {
    "execution": {
     "iopub.execute_input": "2023-08-21T17:22:09.986588Z",
     "iopub.status.busy": "2023-08-21T17:22:09.986283Z",
     "iopub.status.idle": "2023-08-21T17:22:09.994805Z",
     "shell.execute_reply": "2023-08-21T17:22:09.993825Z"
    },
    "papermill": {
     "duration": 0.017203,
     "end_time": "2023-08-21T17:22:09.998027",
     "exception": false,
     "start_time": "2023-08-21T17:22:09.980824",
     "status": "completed"
    },
    "tags": []
   },
   "outputs": [
    {
     "data": {
      "text/plain": [
       "year\n",
       "2009    0.412695\n",
       "2010    0.409485\n",
       "2011    0.412156\n",
       "2012    0.420895\n",
       "2013    0.430890\n",
       "2014    0.443855\n",
       "2015    0.449653\n",
       "2016    0.458888\n",
       "2017    0.469645\n",
       "2018    0.487844\n",
       "dtype: float64"
      ]
     },
     "execution_count": 14,
     "metadata": {},
     "output_type": "execute_result"
    }
   ],
   "source": [
    "cntry_ratio[['United States', 'China']].sum(axis=1)"
   ]
  },
  {
   "cell_type": "code",
   "execution_count": 15,
   "id": "phantom-bunny",
   "metadata": {
    "execution": {
     "iopub.execute_input": "2023-08-21T17:22:10.011506Z",
     "iopub.status.busy": "2023-08-21T17:22:10.011222Z",
     "iopub.status.idle": "2023-08-21T17:22:10.016434Z",
     "shell.execute_reply": "2023-08-21T17:22:10.015693Z"
    },
    "papermill": {
     "duration": 0.01121,
     "end_time": "2023-08-21T17:22:10.017718",
     "exception": false,
     "start_time": "2023-08-21T17:22:10.006508",
     "status": "completed"
    },
    "tags": []
   },
   "outputs": [],
   "source": [
    "clist=['#A6341B','#F2506E']+['#D0D2F2']*8\n",
    "def plot(data,ax,texty,text):\n",
    "    sns.lineplot(x='year',y='value',hue='funder',data=data,legend=False,\n",
    "                 ax=ax,hue_order=topn,palette=clist,marker='o',linewidth=1,markersize=5)\n",
    "    ax.spines['right'].set_visible(False)\n",
    "    ax.spines['top'].set_visible(False)\n",
    "    for ind, code in enumerate(text):\n",
    "        ax.text(2018,texty[ind],code)\n",
    "    return ax"
   ]
  },
  {
   "cell_type": "code",
   "execution_count": 16,
   "id": "annual-sunday",
   "metadata": {
    "execution": {
     "iopub.execute_input": "2023-08-21T17:22:10.026816Z",
     "iopub.status.busy": "2023-08-21T17:22:10.026549Z",
     "iopub.status.idle": "2023-08-21T17:22:10.037291Z",
     "shell.execute_reply": "2023-08-21T17:22:10.036536Z"
    },
    "papermill": {
     "duration": 0.017223,
     "end_time": "2023-08-21T17:22:10.039013",
     "exception": false,
     "start_time": "2023-08-21T17:22:10.021790",
     "status": "completed"
    },
    "tags": []
   },
   "outputs": [
    {
     "data": {
      "text/html": [
       "<div>\n",
       "<style scoped>\n",
       "    .dataframe tbody tr th:only-of-type {\n",
       "        vertical-align: middle;\n",
       "    }\n",
       "\n",
       "    .dataframe tbody tr th {\n",
       "        vertical-align: top;\n",
       "    }\n",
       "\n",
       "    .dataframe thead th {\n",
       "        text-align: right;\n",
       "    }\n",
       "</style>\n",
       "<table border=\"1\" class=\"dataframe\">\n",
       "  <thead>\n",
       "    <tr style=\"text-align: right;\">\n",
       "      <th>region</th>\n",
       "      <th>Africa</th>\n",
       "      <th>Asia</th>\n",
       "      <th>EU</th>\n",
       "      <th>North America</th>\n",
       "      <th>Oceania</th>\n",
       "      <th>Other Europe</th>\n",
       "      <th>South America</th>\n",
       "    </tr>\n",
       "    <tr>\n",
       "      <th>year</th>\n",
       "      <th></th>\n",
       "      <th></th>\n",
       "      <th></th>\n",
       "      <th></th>\n",
       "      <th></th>\n",
       "      <th></th>\n",
       "      <th></th>\n",
       "    </tr>\n",
       "  </thead>\n",
       "  <tbody>\n",
       "    <tr>\n",
       "      <th>2017</th>\n",
       "      <td>0.007262</td>\n",
       "      <td>0.445982</td>\n",
       "      <td>0.226820</td>\n",
       "      <td>0.21544</td>\n",
       "      <td>0.022313</td>\n",
       "      <td>0.044960</td>\n",
       "      <td>0.037223</td>\n",
       "    </tr>\n",
       "    <tr>\n",
       "      <th>2018</th>\n",
       "      <td>0.007074</td>\n",
       "      <td>0.469224</td>\n",
       "      <td>0.215609</td>\n",
       "      <td>0.20524</td>\n",
       "      <td>0.021620</td>\n",
       "      <td>0.043477</td>\n",
       "      <td>0.037755</td>\n",
       "    </tr>\n",
       "  </tbody>\n",
       "</table>\n",
       "</div>"
      ],
      "text/plain": [
       "region    Africa      Asia        EU  North America   Oceania  Other Europe   \n",
       "year                                                                          \n",
       "2017    0.007262  0.445982  0.226820        0.21544  0.022313      0.044960  \\\n",
       "2018    0.007074  0.469224  0.215609        0.20524  0.021620      0.043477   \n",
       "\n",
       "region  South America  \n",
       "year                   \n",
       "2017         0.037223  \n",
       "2018         0.037755  "
      ]
     },
     "execution_count": 16,
     "metadata": {},
     "output_type": "execute_result"
    }
   ],
   "source": [
    "regfund.tail(2)"
   ]
  },
  {
   "cell_type": "code",
   "execution_count": 17,
   "id": "hungarian-morning",
   "metadata": {
    "execution": {
     "iopub.execute_input": "2023-08-21T17:22:10.049357Z",
     "iopub.status.busy": "2023-08-21T17:22:10.049155Z",
     "iopub.status.idle": "2023-08-21T17:22:12.262774Z",
     "shell.execute_reply": "2023-08-21T17:22:12.261458Z"
    },
    "papermill": {
     "duration": 2.225035,
     "end_time": "2023-08-21T17:22:12.269100",
     "exception": false,
     "start_time": "2023-08-21T17:22:10.044065",
     "status": "completed"
    },
    "tags": []
   },
   "outputs": [
    {
     "data": {
      "image/png": "[encoded data removed]",
      "text/plain": [
       "<Figure size 2200x400 with 3 Axes>"
      ]
     },
     "metadata": {},
     "output_type": "display_data"
    }
   ],
   "source": [
    "#{'#F2CB05':yellow,'#88C9F2':blue,'#C5C9C7':gray,'#F74F5A'}\n",
    "years=[2009,2010,2011,2012,2013,2014,2015,2016,2017,2018]\n",
    "\n",
    "fig, ax=plt.subplots(nrows=1,ncols=3,figsize=(22,4))\n",
    "ax0=ax[0]\n",
    "ax1=ax[1]\n",
    "ax2=ax[2]\n",
    "\n",
    "\n",
    "texty=[0.31,0.17,0.15,0.13,0.11,0.09,0.07,0.05,0.03,0.01]\n",
    "text=topn_df[topn_df.year==2018].sort_values(by='value',ascending=False)['Code'].values\n",
    "plot(topn_df,ax0, texty, text)\n",
    "ax0.set_xlabel(\"\")\n",
    "ax0.set_ylabel(\"Proportion of funded publications\",fontsize=13)\n",
    "ax0.tick_params(axis='both', which='major', labelsize=12)\n",
    "\n",
    "\n",
    "texty=[0.22,0.16,0.115,0.1,0.085,0.07,0.055,0.04,0.025,0.01]\n",
    "text=topn_coll[topn_coll.year==2018].sort_values(by='value',ascending=False)['Code'].values\n",
    "plot(topn_coll,ax1,texty,text)\n",
    "ax1.set_xlabel(\"\")\n",
    "ax1.set_ylabel(\"Proportion of funded\\ninternational collaboration\",fontsize=13,labelpad=0)\n",
    "ax1.tick_params(axis='both', which='major', labelsize=12)\n",
    "\n",
    "asia = regfund.loc[years,'Asia'].values\n",
    "north = regfund.loc[years,'North America'].values\n",
    "eu = regfund.loc[years,'EU'].values\n",
    "othereu = regfund.loc[years,'Other Europe'].values\n",
    "south = regfund.loc[years,'South America'].values\n",
    "ocean = regfund.loc[years,'Oceania'].values\n",
    "africa = regfund.loc[years,'Africa'].values\n",
    "\n",
    "ax2.barh(years, asia,label='Asia',color='#A6341B')\n",
    "ax2.barh(years,north,label='North America',left = asia,color='#F2506E')\n",
    "ax2.barh(years,eu,label='EU-members',left=asia+north,color='#F2CE16')\n",
    "ax2.barh(years,othereu,label='Other Europe',left=asia+north+eu,color='#94BDF2')\n",
    "ax2.barh(years,south,label='South America',left=asia+north+eu+othereu,color='#BEFF00')\n",
    "ax2.barh(years,ocean,label='Oceania',left=asia+north+eu+othereu+south,color='#F3B19A')\n",
    "ax2.barh(years,africa,label='Africa',left=asia+north+eu+othereu+south+ocean,color='#79BA82')\n",
    "ax2.spines['right'].set_visible(False)\n",
    "ax2.spines['top'].set_visible(False)\n",
    "ax2.tick_params(axis='both', which='major', labelsize=12)\n",
    "legend=[Patch(label='Asia',color='#A6341B'),\n",
    "        Patch(label='Other Europe',color='#94BDF2'),\n",
    "        Patch(label='Africa',color='#79BA82'),\n",
    "        Patch(label='North America',color='#F2506E'),\n",
    "        Patch(label='South America',color='#BEFF00'),\n",
    "        Patch(label='EU-Members',color='#F2CE16'),\n",
    "        Patch(label='Oceania',color='#F3B19A')]\n",
    "       \n",
    "ax2.set_xlabel(\"Proportion of Publications\",fontsize=13)\n",
    "ax2.legend(handles=legend,ncol=3,loc=(0,-0.40),frameon=False)\n",
    "\n",
    "plt.tick_params(axis='both', which='major', labelsize=12)\n",
    "plt.savefig(cntry_funding_path,bbox_inches='tight')"
   ]
  },
  {
   "cell_type": "code",
   "execution_count": null,
   "id": "revolutionary-module",
   "metadata": {
    "papermill": {
     "duration": 0.005945,
     "end_time": "2023-08-21T17:22:12.281219",
     "exception": false,
     "start_time": "2023-08-21T17:22:12.275274",
     "status": "completed"
    },
    "tags": []
   },
   "outputs": [],
   "source": []
  }
 ],
 "metadata": {
  "kernelspec": {
   "display_name": "Python 3 (ipykernel)",
   "language": "python",
   "name": "python3"
  },
  "language_info": {
   "codemirror_mode": {
    "name": "ipython",
    "version": 3
   },
   "file_extension": ".py",
   "mimetype": "text/x-python",
   "name": "python",
   "nbconvert_exporter": "python",
   "pygments_lexer": "ipython3",
   "version": "3.8.16"
  },
  "papermill": {
   "default_parameters": {},
   "duration": 66.138005,
   "end_time": "2023-08-21T17:22:15.309077",
   "environment_variables": {},
   "exception": null,
   "input_path": "scripts/plot_global_patron.ipynb",
   "output_path": "scripts/outputs/plot_global_patron.ipynb",
   "parameters": {
    "cntry_fund_path": "../data/NationalFunding/Data/DerivedData/Derived/cntry_fund_frac.csv",
    "cntry_funding_path": "../data/NationalFunding/Figs/Figs/cntry_funding_frac.pdf",
    "flag_path": "../data/NationalFunding/Data/AdditionalData/country_WoS_ECI_WB_flags.tsv",
    "pubs_path": "../data/NationalFunding/Data/DerivedData/CleanedRawData/pub.pkl",
    "region_path": "../data/NationalFunding/Data/AdditionalData/cntry_region.xlsx"
   },
   "start_time": "2023-08-21T17:21:09.171072",
   "version": "2.3.4"
  }
 },
 "nbformat": 4,
 "nbformat_minor": 5
}