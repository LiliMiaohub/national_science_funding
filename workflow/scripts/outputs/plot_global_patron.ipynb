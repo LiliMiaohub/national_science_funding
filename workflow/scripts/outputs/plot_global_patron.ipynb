{
 "cells": [
  {
   "cell_type": "markdown",
   "id": "blank-douglas",
   "metadata": {
    "papermill": {
     "duration": 0.008529,
     "end_time": "2024-02-28T23:34:40.649421",
     "exception": false,
     "start_time": "2024-02-28T23:34:40.640892",
     "status": "completed"
    },
    "tags": []
   },
   "source": [
    "this script plots countries' contribution to science"
   ]
  },
  {
   "cell_type": "code",
   "execution_count": 1,
   "id": "ambient-crime",
   "metadata": {
    "execution": {
     "iopub.execute_input": "2024-02-28T23:34:40.658193Z",
     "iopub.status.busy": "2024-02-28T23:34:40.657421Z",
     "iopub.status.idle": "2024-02-28T23:34:41.669921Z",
     "shell.execute_reply": "2024-02-28T23:34:41.669026Z"
    },
    "papermill": {
     "duration": 1.020288,
     "end_time": "2024-02-28T23:34:41.673237",
     "exception": false,
     "start_time": "2024-02-28T23:34:40.652949",
     "status": "completed"
    },
    "tags": []
   },
   "outputs": [],
   "source": [
    "import pandas as pd\n",
    "import numpy as np\n",
    "from itertools import product\n",
    "import seaborn as sns\n",
    "import matplotlib.pyplot as plt\n",
    "from matplotlib.lines import Line2D\n",
    "from matplotlib import gridspec\n",
    "from matplotlib.patches import Patch"
   ]
  },
  {
   "cell_type": "code",
   "execution_count": 2,
   "id": "environmental-commons",
   "metadata": {
    "execution": {
     "iopub.execute_input": "2024-02-28T23:34:41.686524Z",
     "iopub.status.busy": "2024-02-28T23:34:41.685554Z",
     "iopub.status.idle": "2024-02-28T23:34:41.690916Z",
     "shell.execute_reply": "2024-02-28T23:34:41.690150Z"
    },
    "papermill": {
     "duration": 0.011464,
     "end_time": "2024-02-28T23:34:41.692395",
     "exception": false,
     "start_time": "2024-02-28T23:34:41.680931",
     "status": "completed"
    },
    "tags": [
     "parameters"
    ]
   },
   "outputs": [],
   "source": [
    "cntry_fund_path='../../data/nf_folder/Data/DerivedData/Derived/cntry_fund_frac.csv'\n",
    "pubs_path=\"../../data/nf_folder/Data/DerivedData/CleanedRawData/pub.pkl\"\n",
    "flag_path='../../data/nf_folder/Data/AdditionalData/country_WoS_ECI_WB_flags.tsv'\n",
    "region_path=\"../../data/nf_folder/Data/AdditionalData/cntry_region.xlsx\"\n",
    "\n",
    "cntry_funding_path='../../data/nf_folder/Figs/cntry_funding_frac.pdf'"
   ]
  },
  {
   "cell_type": "code",
   "execution_count": 3,
   "id": "d25e7e47",
   "metadata": {
    "execution": {
     "iopub.execute_input": "2024-02-28T23:34:41.700939Z",
     "iopub.status.busy": "2024-02-28T23:34:41.700200Z",
     "iopub.status.idle": "2024-02-28T23:34:41.705260Z",
     "shell.execute_reply": "2024-02-28T23:34:41.704447Z"
    },
    "papermill": {
     "duration": 0.010746,
     "end_time": "2024-02-28T23:34:41.706602",
     "exception": false,
     "start_time": "2024-02-28T23:34:41.695856",
     "status": "completed"
    },
    "tags": [
     "injected-parameters"
    ]
   },
   "outputs": [],
   "source": [
    "# Parameters\n",
    "cntry_fund_path = \"../data/NationalFunding/Data/simulated_data/Data/DerivedData/Derived/cntry_fund_frac.csv\"\n",
    "pubs_path = \"../data/NationalFunding/Data/simulated_data/Data/DerivedData/CleanedRawData/pub.pkl\"\n",
    "flag_path = \"../data/NationalFunding/Data/simulated_data/Data/AdditionalData/country_WoS_ECI_WB_flags.tsv\"\n",
    "region_path = (\n",
    "    \"../data/NationalFunding/Data/simulated_data/Data/AdditionalData/cntry_region.xlsx\"\n",
    ")\n",
    "cntry_funding_path = (\n",
    "    \"../data/NationalFunding/Data/simulated_data/Figs/Figs/cntry_funding_frac.pdf\"\n",
    ")\n"
   ]
  },
  {
   "cell_type": "code",
   "execution_count": 4,
   "id": "stupid-waste",
   "metadata": {
    "execution": {
     "iopub.execute_input": "2024-02-28T23:34:41.715637Z",
     "iopub.status.busy": "2024-02-28T23:34:41.715226Z",
     "iopub.status.idle": "2024-02-28T23:34:42.354663Z",
     "shell.execute_reply": "2024-02-28T23:34:42.353871Z"
    },
    "papermill": {
     "duration": 0.64857,
     "end_time": "2024-02-28T23:34:42.359059",
     "exception": false,
     "start_time": "2024-02-28T23:34:41.710489",
     "status": "completed"
    },
    "tags": []
   },
   "outputs": [
    {
     "data": {
      "text/html": [
       "<div>\n",
       "<style scoped>\n",
       "    .dataframe tbody tr th:only-of-type {\n",
       "        vertical-align: middle;\n",
       "    }\n",
       "\n",
       "    .dataframe tbody tr th {\n",
       "        vertical-align: top;\n",
       "    }\n",
       "\n",
       "    .dataframe thead th {\n",
       "        text-align: right;\n",
       "    }\n",
       "</style>\n",
       "<table border=\"1\" class=\"dataframe\">\n",
       "  <thead>\n",
       "    <tr style=\"text-align: right;\">\n",
       "      <th></th>\n",
       "      <th>funder</th>\n",
       "      <th>year</th>\n",
       "      <th>intcol</th>\n",
       "      <th>cnt</th>\n",
       "    </tr>\n",
       "  </thead>\n",
       "  <tbody>\n",
       "    <tr>\n",
       "      <th>0</th>\n",
       "      <td>Albania</td>\n",
       "      <td>2010</td>\n",
       "      <td>1</td>\n",
       "      <td>0.027778</td>\n",
       "    </tr>\n",
       "    <tr>\n",
       "      <th>1</th>\n",
       "      <td>Albania</td>\n",
       "      <td>2012</td>\n",
       "      <td>0</td>\n",
       "      <td>0.200000</td>\n",
       "    </tr>\n",
       "    <tr>\n",
       "      <th>2</th>\n",
       "      <td>Albania</td>\n",
       "      <td>2013</td>\n",
       "      <td>1</td>\n",
       "      <td>0.500000</td>\n",
       "    </tr>\n",
       "    <tr>\n",
       "      <th>3</th>\n",
       "      <td>Albania</td>\n",
       "      <td>2016</td>\n",
       "      <td>0</td>\n",
       "      <td>0.142857</td>\n",
       "    </tr>\n",
       "    <tr>\n",
       "      <th>4</th>\n",
       "      <td>Albania</td>\n",
       "      <td>2017</td>\n",
       "      <td>0</td>\n",
       "      <td>0.250000</td>\n",
       "    </tr>\n",
       "  </tbody>\n",
       "</table>\n",
       "</div>"
      ],
      "text/plain": [
       "    funder  year  intcol       cnt\n",
       "0  Albania  2010       1  0.027778\n",
       "1  Albania  2012       0  0.200000\n",
       "2  Albania  2013       1  0.500000\n",
       "3  Albania  2016       0  0.142857\n",
       "4  Albania  2017       0  0.250000"
      ]
     },
     "execution_count": 4,
     "metadata": {},
     "output_type": "execute_result"
    }
   ],
   "source": [
    "cntry_fund=pd.read_csv(cntry_fund_path)\n",
    "cntry_fund=cntry_fund[cntry_fund.funder!='Not-Funded']\n",
    "cntry_fund.head()"
   ]
  },
  {
   "cell_type": "code",
   "execution_count": 5,
   "id": "outstanding-appreciation",
   "metadata": {
    "execution": {
     "iopub.execute_input": "2024-02-28T23:34:42.370888Z",
     "iopub.status.busy": "2024-02-28T23:34:42.370355Z",
     "iopub.status.idle": "2024-02-28T23:34:46.297956Z",
     "shell.execute_reply": "2024-02-28T23:34:46.297119Z"
    },
    "papermill": {
     "duration": 3.935933,
     "end_time": "2024-02-28T23:34:46.301621",
     "exception": false,
     "start_time": "2024-02-28T23:34:42.365688",
     "status": "completed"
    },
    "tags": []
   },
   "outputs": [
    {
     "data": {
      "text/html": [
       "<div>\n",
       "<style scoped>\n",
       "    .dataframe tbody tr th:only-of-type {\n",
       "        vertical-align: middle;\n",
       "    }\n",
       "\n",
       "    .dataframe tbody tr th {\n",
       "        vertical-align: top;\n",
       "    }\n",
       "\n",
       "    .dataframe thead th {\n",
       "        text-align: right;\n",
       "    }\n",
       "</style>\n",
       "<table border=\"1\" class=\"dataframe\">\n",
       "  <thead>\n",
       "    <tr style=\"text-align: right;\">\n",
       "      <th></th>\n",
       "      <th>id</th>\n",
       "      <th>year</th>\n",
       "      <th>dis</th>\n",
       "      <th>type</th>\n",
       "      <th>author</th>\n",
       "      <th>funder</th>\n",
       "      <th>author_distinct</th>\n",
       "      <th>funder_distinct</th>\n",
       "      <th>funded</th>\n",
       "      <th>IntCol</th>\n",
       "      <th>cofund</th>\n",
       "      <th>intfund</th>\n",
       "    </tr>\n",
       "  </thead>\n",
       "  <tbody>\n",
       "    <tr>\n",
       "      <th>0</th>\n",
       "      <td>0</td>\n",
       "      <td>2014</td>\n",
       "      <td>29</td>\n",
       "      <td>1</td>\n",
       "      <td>[Canada]</td>\n",
       "      <td>[United States, Brazil, United States, Republi...</td>\n",
       "      <td>[Canada]</td>\n",
       "      <td>[Republic of Serbia, China, Brazil, United Sta...</td>\n",
       "      <td>1</td>\n",
       "      <td>0</td>\n",
       "      <td>1</td>\n",
       "      <td>1</td>\n",
       "    </tr>\n",
       "    <tr>\n",
       "      <th>1</th>\n",
       "      <td>1</td>\n",
       "      <td>2017</td>\n",
       "      <td>32</td>\n",
       "      <td>1</td>\n",
       "      <td>[Russia, Spain]</td>\n",
       "      <td>[Austria, China, China, China, United States, ...</td>\n",
       "      <td>[Russia, Spain]</td>\n",
       "      <td>[China, United States, Austria, Russia, Japan]</td>\n",
       "      <td>1</td>\n",
       "      <td>1</td>\n",
       "      <td>1</td>\n",
       "      <td>1</td>\n",
       "    </tr>\n",
       "    <tr>\n",
       "      <th>2</th>\n",
       "      <td>2</td>\n",
       "      <td>2012</td>\n",
       "      <td>15</td>\n",
       "      <td>1</td>\n",
       "      <td>[Turkey]</td>\n",
       "      <td>Not-Funded</td>\n",
       "      <td>[Turkey]</td>\n",
       "      <td>Not-Funded</td>\n",
       "      <td>0</td>\n",
       "      <td>0</td>\n",
       "      <td>0</td>\n",
       "      <td>0</td>\n",
       "    </tr>\n",
       "    <tr>\n",
       "      <th>3</th>\n",
       "      <td>3</td>\n",
       "      <td>2010</td>\n",
       "      <td>53</td>\n",
       "      <td>1</td>\n",
       "      <td>[United States, Iran]</td>\n",
       "      <td>[China]</td>\n",
       "      <td>[Iran, United States]</td>\n",
       "      <td>[China]</td>\n",
       "      <td>1</td>\n",
       "      <td>1</td>\n",
       "      <td>0</td>\n",
       "      <td>1</td>\n",
       "    </tr>\n",
       "    <tr>\n",
       "      <th>4</th>\n",
       "      <td>4</td>\n",
       "      <td>2015</td>\n",
       "      <td>22</td>\n",
       "      <td>1</td>\n",
       "      <td>[Denmark]</td>\n",
       "      <td>Not-Funded</td>\n",
       "      <td>[Denmark]</td>\n",
       "      <td>Not-Funded</td>\n",
       "      <td>0</td>\n",
       "      <td>0</td>\n",
       "      <td>0</td>\n",
       "      <td>0</td>\n",
       "    </tr>\n",
       "  </tbody>\n",
       "</table>\n",
       "</div>"
      ],
      "text/plain": [
       "   id  year  dis  type                 author   \n",
       "0   0  2014   29     1               [Canada]  \\\n",
       "1   1  2017   32     1        [Russia, Spain]   \n",
       "2   2  2012   15     1               [Turkey]   \n",
       "3   3  2010   53     1  [United States, Iran]   \n",
       "4   4  2015   22     1              [Denmark]   \n",
       "\n",
       "                                              funder        author_distinct   \n",
       "0  [United States, Brazil, United States, Republi...               [Canada]  \\\n",
       "1  [Austria, China, China, China, United States, ...        [Russia, Spain]   \n",
       "2                                         Not-Funded               [Turkey]   \n",
       "3                                            [China]  [Iran, United States]   \n",
       "4                                         Not-Funded              [Denmark]   \n",
       "\n",
       "                                     funder_distinct  funded  IntCol  cofund   \n",
       "0  [Republic of Serbia, China, Brazil, United Sta...       1       0       1  \\\n",
       "1     [China, United States, Austria, Russia, Japan]       1       1       1   \n",
       "2                                         Not-Funded       0       0       0   \n",
       "3                                            [China]       1       1       0   \n",
       "4                                         Not-Funded       0       0       0   \n",
       "\n",
       "   intfund  \n",
       "0        1  \n",
       "1        1  \n",
       "2        0  \n",
       "3        1  \n",
       "4        0  "
      ]
     },
     "execution_count": 5,
     "metadata": {},
     "output_type": "execute_result"
    }
   ],
   "source": [
    "pubs_df = pd.read_pickle(pubs_path)\n",
    "pubs_df.head()"
   ]
  },
  {
   "cell_type": "code",
   "execution_count": 6,
   "id": "boring-university",
   "metadata": {
    "execution": {
     "iopub.execute_input": "2024-02-28T23:34:46.312836Z",
     "iopub.status.busy": "2024-02-28T23:34:46.312217Z",
     "iopub.status.idle": "2024-02-28T23:34:46.779969Z",
     "shell.execute_reply": "2024-02-28T23:34:46.779161Z"
    },
    "papermill": {
     "duration": 0.476078,
     "end_time": "2024-02-28T23:34:46.783148",
     "exception": false,
     "start_time": "2024-02-28T23:34:46.307070",
     "status": "completed"
    },
    "tags": []
   },
   "outputs": [
    {
     "data": {
      "text/html": [
       "<div>\n",
       "<style scoped>\n",
       "    .dataframe tbody tr th:only-of-type {\n",
       "        vertical-align: middle;\n",
       "    }\n",
       "\n",
       "    .dataframe tbody tr th {\n",
       "        vertical-align: top;\n",
       "    }\n",
       "\n",
       "    .dataframe thead th {\n",
       "        text-align: right;\n",
       "    }\n",
       "</style>\n",
       "<table border=\"1\" class=\"dataframe\">\n",
       "  <thead>\n",
       "    <tr style=\"text-align: right;\">\n",
       "      <th></th>\n",
       "      <th>WoS</th>\n",
       "      <th>Code</th>\n",
       "    </tr>\n",
       "  </thead>\n",
       "  <tbody>\n",
       "    <tr>\n",
       "      <th>0</th>\n",
       "      <td>Albania</td>\n",
       "      <td>ALB</td>\n",
       "    </tr>\n",
       "    <tr>\n",
       "      <th>1</th>\n",
       "      <td>Algeria</td>\n",
       "      <td>DZA</td>\n",
       "    </tr>\n",
       "    <tr>\n",
       "      <th>2</th>\n",
       "      <td>Angola</td>\n",
       "      <td>AGO</td>\n",
       "    </tr>\n",
       "    <tr>\n",
       "      <th>3</th>\n",
       "      <td>Argentina</td>\n",
       "      <td>ARG</td>\n",
       "    </tr>\n",
       "    <tr>\n",
       "      <th>4</th>\n",
       "      <td>Australia</td>\n",
       "      <td>AUS</td>\n",
       "    </tr>\n",
       "  </tbody>\n",
       "</table>\n",
       "</div>"
      ],
      "text/plain": [
       "         WoS Code\n",
       "0    Albania  ALB\n",
       "1    Algeria  DZA\n",
       "2     Angola  AGO\n",
       "3  Argentina  ARG\n",
       "4  Australia  AUS"
      ]
     },
     "execution_count": 6,
     "metadata": {},
     "output_type": "execute_result"
    }
   ],
   "source": [
    "flag_df=pd.read_csv(flag_path, sep='\\t')[['WoS','Code']]\n",
    "flag_df.head()"
   ]
  },
  {
   "cell_type": "code",
   "execution_count": 7,
   "id": "martial-investor",
   "metadata": {
    "execution": {
     "iopub.execute_input": "2024-02-28T23:34:46.795700Z",
     "iopub.status.busy": "2024-02-28T23:34:46.795078Z",
     "iopub.status.idle": "2024-02-28T23:34:48.871003Z",
     "shell.execute_reply": "2024-02-28T23:34:48.870159Z"
    },
    "papermill": {
     "duration": 2.08431,
     "end_time": "2024-02-28T23:34:48.874451",
     "exception": false,
     "start_time": "2024-02-28T23:34:46.790141",
     "status": "completed"
    },
    "tags": []
   },
   "outputs": [
    {
     "data": {
      "text/html": [
       "<div>\n",
       "<style scoped>\n",
       "    .dataframe tbody tr th:only-of-type {\n",
       "        vertical-align: middle;\n",
       "    }\n",
       "\n",
       "    .dataframe tbody tr th {\n",
       "        vertical-align: top;\n",
       "    }\n",
       "\n",
       "    .dataframe thead th {\n",
       "        text-align: right;\n",
       "    }\n",
       "</style>\n",
       "<table border=\"1\" class=\"dataframe\">\n",
       "  <thead>\n",
       "    <tr style=\"text-align: right;\">\n",
       "      <th></th>\n",
       "      <th>cntry</th>\n",
       "      <th>region</th>\n",
       "    </tr>\n",
       "  </thead>\n",
       "  <tbody>\n",
       "    <tr>\n",
       "      <th>0</th>\n",
       "      <td>Algeria</td>\n",
       "      <td>Africa</td>\n",
       "    </tr>\n",
       "    <tr>\n",
       "      <th>1</th>\n",
       "      <td>Angola</td>\n",
       "      <td>Africa</td>\n",
       "    </tr>\n",
       "    <tr>\n",
       "      <th>2</th>\n",
       "      <td>Belgian Congo</td>\n",
       "      <td>Africa</td>\n",
       "    </tr>\n",
       "    <tr>\n",
       "      <th>3</th>\n",
       "      <td>Benin</td>\n",
       "      <td>Africa</td>\n",
       "    </tr>\n",
       "    <tr>\n",
       "      <th>4</th>\n",
       "      <td>Botswana</td>\n",
       "      <td>Africa</td>\n",
       "    </tr>\n",
       "  </tbody>\n",
       "</table>\n",
       "</div>"
      ],
      "text/plain": [
       "           cntry  region\n",
       "0        Algeria  Africa\n",
       "1         Angola  Africa\n",
       "2  Belgian Congo  Africa\n",
       "3          Benin  Africa\n",
       "4       Botswana  Africa"
      ]
     },
     "execution_count": 7,
     "metadata": {},
     "output_type": "execute_result"
    }
   ],
   "source": [
    "region=pd.read_excel(region_path)\n",
    "region=region[['cntry','region2']]\n",
    "region=region.rename(columns={'region2':'region'})\n",
    "region.head()"
   ]
  },
  {
   "cell_type": "markdown",
   "id": "included-exception",
   "metadata": {
    "papermill": {
     "duration": 0.004044,
     "end_time": "2024-02-28T23:34:48.886409",
     "exception": false,
     "start_time": "2024-02-28T23:34:48.882365",
     "status": "completed"
    },
    "tags": []
   },
   "source": [
    "calculate the number of funded publication each year"
   ]
  },
  {
   "cell_type": "code",
   "execution_count": 8,
   "id": "injured-worth",
   "metadata": {
    "execution": {
     "iopub.execute_input": "2024-02-28T23:34:48.896800Z",
     "iopub.status.busy": "2024-02-28T23:34:48.895766Z",
     "iopub.status.idle": "2024-02-28T23:34:48.902014Z",
     "shell.execute_reply": "2024-02-28T23:34:48.901390Z"
    },
    "papermill": {
     "duration": 0.013033,
     "end_time": "2024-02-28T23:34:48.903352",
     "exception": false,
     "start_time": "2024-02-28T23:34:48.890319",
     "status": "completed"
    },
    "tags": []
   },
   "outputs": [],
   "source": [
    "def get_fundedann(data,collsig):\n",
    "    data=data[data.IntCol>=collsig]#to decide whethere include no-international collaboration or not\n",
    "    funded_ann=data[data.funded==1]\n",
    "    funded_ann=funded_ann.groupby(['year']).size()\n",
    "    return funded_ann"
   ]
  },
  {
   "cell_type": "markdown",
   "id": "organized-backing",
   "metadata": {
    "papermill": {
     "duration": 0.004337,
     "end_time": "2024-02-28T23:34:48.912142",
     "exception": false,
     "start_time": "2024-02-28T23:34:48.907805",
     "status": "completed"
    },
    "tags": []
   },
   "source": [
    "normalize country's to proportion"
   ]
  },
  {
   "cell_type": "code",
   "execution_count": 9,
   "id": "regional-fishing",
   "metadata": {
    "execution": {
     "iopub.execute_input": "2024-02-28T23:34:48.922234Z",
     "iopub.status.busy": "2024-02-28T23:34:48.921371Z",
     "iopub.status.idle": "2024-02-28T23:34:48.929808Z",
     "shell.execute_reply": "2024-02-28T23:34:48.928819Z"
    },
    "papermill": {
     "duration": 0.016141,
     "end_time": "2024-02-28T23:34:48.932225",
     "exception": false,
     "start_time": "2024-02-28T23:34:48.916084",
     "status": "completed"
    },
    "tags": []
   },
   "outputs": [],
   "source": [
    "def get_ratio(data,funded_ann,collsig):\n",
    "    data=data[data.intcol>=collsig]#to decide whethere include no-international collaboration or not\n",
    "    cntry_ratio=data.groupby(['funder','year'])['cnt'].sum().reset_index()\n",
    "    cntry_ratio=cntry_ratio.pivot_table(index='year',columns='funder',values='cnt',fill_value=0)\n",
    "    cntry_ratio=cntry_ratio.div(funded_ann, axis=0)\n",
    "    return cntry_ratio"
   ]
  },
  {
   "cell_type": "code",
   "execution_count": 10,
   "id": "pointed-station",
   "metadata": {
    "execution": {
     "iopub.execute_input": "2024-02-28T23:34:48.946136Z",
     "iopub.status.busy": "2024-02-28T23:34:48.945404Z",
     "iopub.status.idle": "2024-02-28T23:34:48.952554Z",
     "shell.execute_reply": "2024-02-28T23:34:48.951687Z"
    },
    "papermill": {
     "duration": 0.013611,
     "end_time": "2024-02-28T23:34:48.953927",
     "exception": false,
     "start_time": "2024-02-28T23:34:48.940316",
     "status": "completed"
    },
    "tags": []
   },
   "outputs": [],
   "source": [
    "n=10\n",
    "topn=cntry_fund.groupby('funder')[\n",
    "    'cnt'].sum().sort_values(ascending=False).head(n).index.values\n"
   ]
  },
  {
   "cell_type": "markdown",
   "id": "nervous-turtle",
   "metadata": {
    "papermill": {
     "duration": 0.005272,
     "end_time": "2024-02-28T23:34:48.963924",
     "exception": false,
     "start_time": "2024-02-28T23:34:48.958652",
     "status": "completed"
    },
    "tags": []
   },
   "source": [
    "get the contribution of top 10 countries"
   ]
  },
  {
   "cell_type": "code",
   "execution_count": 11,
   "id": "strategic-shelter",
   "metadata": {
    "execution": {
     "iopub.execute_input": "2024-02-28T23:34:48.974564Z",
     "iopub.status.busy": "2024-02-28T23:34:48.973791Z",
     "iopub.status.idle": "2024-02-28T23:34:56.036990Z",
     "shell.execute_reply": "2024-02-28T23:34:56.035775Z"
    },
    "papermill": {
     "duration": 7.072021,
     "end_time": "2024-02-28T23:34:56.040529",
     "exception": false,
     "start_time": "2024-02-28T23:34:48.968508",
     "status": "completed"
    },
    "tags": []
   },
   "outputs": [],
   "source": [
    "funded_ann=get_fundedann(pubs_df,0)\n",
    "cntry_ratio=get_ratio(cntry_fund,funded_ann,0)\n",
    "topn_df=cntry_ratio[topn].reset_index()\n",
    "topn_df=topn_df.melt(id_vars='year')  \n",
    "topn_df=topn_df.merge(flag_df,left_on='funder',right_on='WoS',how='left')"
   ]
  },
  {
   "cell_type": "markdown",
   "id": "muslim-consciousness",
   "metadata": {
    "papermill": {
     "duration": 0.004175,
     "end_time": "2024-02-28T23:34:56.054014",
     "exception": false,
     "start_time": "2024-02-28T23:34:56.049839",
     "status": "completed"
    },
    "tags": []
   },
   "source": [
    "get the contribution to international collaboration of top 10 countries"
   ]
  },
  {
   "cell_type": "code",
   "execution_count": 12,
   "id": "saved-degree",
   "metadata": {
    "execution": {
     "iopub.execute_input": "2024-02-28T23:34:56.064412Z",
     "iopub.status.busy": "2024-02-28T23:34:56.063828Z",
     "iopub.status.idle": "2024-02-28T23:34:56.409922Z",
     "shell.execute_reply": "2024-02-28T23:34:56.409013Z"
    },
    "papermill": {
     "duration": 0.354814,
     "end_time": "2024-02-28T23:34:56.412926",
     "exception": false,
     "start_time": "2024-02-28T23:34:56.058112",
     "status": "completed"
    },
    "tags": []
   },
   "outputs": [],
   "source": [
    "fundedcoll_ann=get_fundedann(pubs_df,1)\n",
    "cntrycoll_ratio=get_ratio(cntry_fund,fundedcoll_ann,1)\n",
    "topn_coll=cntrycoll_ratio[topn].reset_index()\n",
    "topn_coll=topn_coll.melt(id_vars='year') \n",
    "topn_coll=topn_coll.merge(flag_df,left_on='funder',right_on='WoS',how='left')"
   ]
  },
  {
   "cell_type": "markdown",
   "id": "musical-grant",
   "metadata": {
    "papermill": {
     "duration": 0.00552,
     "end_time": "2024-02-28T23:34:56.426616",
     "exception": false,
     "start_time": "2024-02-28T23:34:56.421096",
     "status": "completed"
    },
    "tags": []
   },
   "source": [
    "get the funded publications by regions"
   ]
  },
  {
   "cell_type": "code",
   "execution_count": 13,
   "id": "second-brunei",
   "metadata": {
    "execution": {
     "iopub.execute_input": "2024-02-28T23:34:56.436026Z",
     "iopub.status.busy": "2024-02-28T23:34:56.435686Z",
     "iopub.status.idle": "2024-02-28T23:34:56.459561Z",
     "shell.execute_reply": "2024-02-28T23:34:56.458788Z"
    },
    "papermill": {
     "duration": 0.031862,
     "end_time": "2024-02-28T23:34:56.462579",
     "exception": false,
     "start_time": "2024-02-28T23:34:56.430717",
     "status": "completed"
    },
    "tags": []
   },
   "outputs": [],
   "source": [
    "regfund=cntry_ratio.reset_index()\n",
    "regfund=regfund.melt(id_vars='year')\n",
    "regfund=regfund.merge(region,left_on='funder',right_on='cntry',how='left')\n",
    "regfund=regfund.groupby(['year','region'])['value'].sum().reset_index(name='count')\n",
    "regfund=regfund.pivot_table(index='year',columns='region',values='count')\n"
   ]
  },
  {
   "cell_type": "code",
   "execution_count": 14,
   "id": "34ca7c91-b40f-4b09-9fe8-65fbda837a06",
   "metadata": {
    "execution": {
     "iopub.execute_input": "2024-02-28T23:34:56.475163Z",
     "iopub.status.busy": "2024-02-28T23:34:56.474318Z",
     "iopub.status.idle": "2024-02-28T23:34:56.487823Z",
     "shell.execute_reply": "2024-02-28T23:34:56.487044Z"
    },
    "papermill": {
     "duration": 0.021694,
     "end_time": "2024-02-28T23:34:56.490223",
     "exception": false,
     "start_time": "2024-02-28T23:34:56.468529",
     "status": "completed"
    },
    "tags": []
   },
   "outputs": [
    {
     "data": {
      "text/plain": [
       "year\n",
       "2009    0.577932\n",
       "2010    0.579063\n",
       "2011    0.577238\n",
       "2012    0.581222\n",
       "2013    0.578097\n",
       "2014    0.577209\n",
       "2015    0.579277\n",
       "2016    0.578451\n",
       "2017    0.578382\n",
       "2018    0.580188\n",
       "dtype: float64"
      ]
     },
     "execution_count": 14,
     "metadata": {},
     "output_type": "execute_result"
    }
   ],
   "source": [
    "cntry_ratio[['United States', 'China']].sum(axis=1)"
   ]
  },
  {
   "cell_type": "code",
   "execution_count": 15,
   "id": "phantom-bunny",
   "metadata": {
    "execution": {
     "iopub.execute_input": "2024-02-28T23:34:56.500839Z",
     "iopub.status.busy": "2024-02-28T23:34:56.500135Z",
     "iopub.status.idle": "2024-02-28T23:34:56.508315Z",
     "shell.execute_reply": "2024-02-28T23:34:56.507313Z"
    },
    "papermill": {
     "duration": 0.014321,
     "end_time": "2024-02-28T23:34:56.509553",
     "exception": false,
     "start_time": "2024-02-28T23:34:56.495232",
     "status": "completed"
    },
    "tags": []
   },
   "outputs": [],
   "source": [
    "clist=['#A6341B','#F2506E']+['#D0D2F2']*8\n",
    "def plot(data,ax,texty,text):\n",
    "    sns.lineplot(x='year',y='value',hue='funder',data=data,legend=False,\n",
    "                 ax=ax,hue_order=topn,palette=clist,marker='o',linewidth=1,markersize=5)\n",
    "    ax.spines['right'].set_visible(False)\n",
    "    ax.spines['top'].set_visible(False)\n",
    "    for ind, code in enumerate(text):\n",
    "        ax.text(2018,texty[ind],code)\n",
    "    return ax"
   ]
  },
  {
   "cell_type": "code",
   "execution_count": 16,
   "id": "annual-sunday",
   "metadata": {
    "execution": {
     "iopub.execute_input": "2024-02-28T23:34:56.522399Z",
     "iopub.status.busy": "2024-02-28T23:34:56.521509Z",
     "iopub.status.idle": "2024-02-28T23:34:56.535223Z",
     "shell.execute_reply": "2024-02-28T23:34:56.534499Z"
    },
    "papermill": {
     "duration": 0.02303,
     "end_time": "2024-02-28T23:34:56.537557",
     "exception": false,
     "start_time": "2024-02-28T23:34:56.514527",
     "status": "completed"
    },
    "tags": []
   },
   "outputs": [
    {
     "data": {
      "text/html": [
       "<div>\n",
       "<style scoped>\n",
       "    .dataframe tbody tr th:only-of-type {\n",
       "        vertical-align: middle;\n",
       "    }\n",
       "\n",
       "    .dataframe tbody tr th {\n",
       "        vertical-align: top;\n",
       "    }\n",
       "\n",
       "    .dataframe thead th {\n",
       "        text-align: right;\n",
       "    }\n",
       "</style>\n",
       "<table border=\"1\" class=\"dataframe\">\n",
       "  <thead>\n",
       "    <tr style=\"text-align: right;\">\n",
       "      <th>region</th>\n",
       "      <th>Africa</th>\n",
       "      <th>Asia</th>\n",
       "      <th>EU</th>\n",
       "      <th>North America</th>\n",
       "      <th>Oceania</th>\n",
       "      <th>Other Europe</th>\n",
       "      <th>South America</th>\n",
       "    </tr>\n",
       "    <tr>\n",
       "      <th>year</th>\n",
       "      <th></th>\n",
       "      <th></th>\n",
       "      <th></th>\n",
       "      <th></th>\n",
       "      <th></th>\n",
       "      <th></th>\n",
       "      <th></th>\n",
       "    </tr>\n",
       "  </thead>\n",
       "  <tbody>\n",
       "    <tr>\n",
       "      <th>2017</th>\n",
       "      <td>0.003973</td>\n",
       "      <td>0.494922</td>\n",
       "      <td>0.211964</td>\n",
       "      <td>0.209488</td>\n",
       "      <td>0.016683</td>\n",
       "      <td>0.029303</td>\n",
       "      <td>0.033667</td>\n",
       "    </tr>\n",
       "    <tr>\n",
       "      <th>2018</th>\n",
       "      <td>0.003968</td>\n",
       "      <td>0.496780</td>\n",
       "      <td>0.212351</td>\n",
       "      <td>0.209293</td>\n",
       "      <td>0.016025</td>\n",
       "      <td>0.028450</td>\n",
       "      <td>0.033133</td>\n",
       "    </tr>\n",
       "  </tbody>\n",
       "</table>\n",
       "</div>"
      ],
      "text/plain": [
       "region    Africa      Asia        EU  North America   Oceania  Other Europe   \n",
       "year                                                                          \n",
       "2017    0.003973  0.494922  0.211964       0.209488  0.016683      0.029303  \\\n",
       "2018    0.003968  0.496780  0.212351       0.209293  0.016025      0.028450   \n",
       "\n",
       "region  South America  \n",
       "year                   \n",
       "2017         0.033667  \n",
       "2018         0.033133  "
      ]
     },
     "execution_count": 16,
     "metadata": {},
     "output_type": "execute_result"
    }
   ],
   "source": [
    "regfund.tail(2)"
   ]
  },
  {
   "cell_type": "code",
   "execution_count": 17,
   "id": "hungarian-morning",
   "metadata": {
    "execution": {
     "iopub.execute_input": "2024-02-28T23:34:56.549426Z",
     "iopub.status.busy": "2024-02-28T23:34:56.548785Z",
     "iopub.status.idle": "2024-02-28T23:34:58.894087Z",
     "shell.execute_reply": "2024-02-28T23:34:58.893216Z"
    },
    "papermill": {
     "duration": 2.357313,
     "end_time": "2024-02-28T23:34:58.900772",
     "exception": false,
     "start_time": "2024-02-28T23:34:56.543459",
     "status": "completed"
    },
    "tags": []
   },
   "outputs": [
    {
     "data": {
      "image/png": "[encoded data removed]",
      "text/plain": [
       "<Figure size 2200x400 with 3 Axes>"
      ]
     },
     "metadata": {},
     "output_type": "display_data"
    }
   ],
   "source": [
    "#{'#F2CB05':yellow,'#88C9F2':blue,'#C5C9C7':gray,'#F74F5A'}\n",
    "years=[2009,2010,2011,2012,2013,2014,2015,2016,2017,2018]\n",
    "\n",
    "fig, ax=plt.subplots(nrows=1,ncols=3,figsize=(22,4))\n",
    "ax0=ax[0]\n",
    "ax1=ax[1]\n",
    "ax2=ax[2]\n",
    "\n",
    "\n",
    "texty=[0.31,0.17,0.15,0.13,0.11,0.09,0.07,0.05,0.03,0.01]\n",
    "text=topn_df[topn_df.year==2018].sort_values(by='value',ascending=False)['Code'].values\n",
    "plot(topn_df,ax0, texty, text)\n",
    "ax0.set_xlabel(\"\")\n",
    "ax0.set_ylabel(\"Proportion of funded publications\",fontsize=13)\n",
    "ax0.tick_params(axis='both', which='major', labelsize=12)\n",
    "\n",
    "\n",
    "texty=[0.22,0.16,0.115,0.1,0.085,0.07,0.055,0.04,0.025,0.01]\n",
    "text=topn_coll[topn_coll.year==2018].sort_values(by='value',ascending=False)['Code'].values\n",
    "plot(topn_coll,ax1,texty,text)\n",
    "ax1.set_xlabel(\"\")\n",
    "ax1.set_ylabel(\"Proportion of funded\\ninternational collaboration\",fontsize=13,labelpad=0)\n",
    "ax1.tick_params(axis='both', which='major', labelsize=12)\n",
    "\n",
    "asia = regfund.loc[years,'Asia'].values\n",
    "north = regfund.loc[years,'North America'].values\n",
    "eu = regfund.loc[years,'EU'].values\n",
    "othereu = regfund.loc[years,'Other Europe'].values\n",
    "south = regfund.loc[years,'South America'].values\n",
    "ocean = regfund.loc[years,'Oceania'].values\n",
    "africa = regfund.loc[years,'Africa'].values\n",
    "\n",
    "ax2.barh(years, asia,label='Asia',color='#A6341B')\n",
    "ax2.barh(years,north,label='North America',left = asia,color='#F2506E')\n",
    "ax2.barh(years,eu,label='EU-members',left=asia+north,color='#F2CE16')\n",
    "ax2.barh(years,othereu,label='Other Europe',left=asia+north+eu,color='#94BDF2')\n",
    "ax2.barh(years,south,label='South America',left=asia+north+eu+othereu,color='#BEFF00')\n",
    "ax2.barh(years,ocean,label='Oceania',left=asia+north+eu+othereu+south,color='#F3B19A')\n",
    "ax2.barh(years,africa,label='Africa',left=asia+north+eu+othereu+south+ocean,color='#79BA82')\n",
    "ax2.spines['right'].set_visible(False)\n",
    "ax2.spines['top'].set_visible(False)\n",
    "ax2.tick_params(axis='both', which='major', labelsize=12)\n",
    "legend=[Patch(label='Asia',color='#A6341B'),\n",
    "        Patch(label='Other Europe',color='#94BDF2'),\n",
    "        Patch(label='Africa',color='#79BA82'),\n",
    "        Patch(label='North America',color='#F2506E'),\n",
    "        Patch(label='South America',color='#BEFF00'),\n",
    "        Patch(label='EU-Members',color='#F2CE16'),\n",
    "        Patch(label='Oceania',color='#F3B19A')]\n",
    "       \n",
    "ax2.set_xlabel(\"Proportion of Publications\",fontsize=13)\n",
    "ax2.legend(handles=legend,ncol=3,loc=(0,-0.40),frameon=False)\n",
    "\n",
    "plt.tick_params(axis='both', which='major', labelsize=12)\n",
    "plt.savefig(cntry_funding_path,bbox_inches='tight')"
   ]
  },
  {
   "cell_type": "code",
   "execution_count": null,
   "id": "revolutionary-module",
   "metadata": {
    "papermill": {
     "duration": 0.005989,
     "end_time": "2024-02-28T23:34:58.914658",
     "exception": false,
     "start_time": "2024-02-28T23:34:58.908669",
     "status": "completed"
    },
    "tags": []
   },
   "outputs": [],
   "source": []
  }
 ],
 "metadata": {
  "kernelspec": {
   "display_name": "Python 3 (ipykernel)",
   "language": "python",
   "name": "python3"
  },
  "language_info": {
   "codemirror_mode": {
    "name": "ipython",
    "version": 3
   },
   "file_extension": ".py",
   "mimetype": "text/x-python",
   "name": "python",
   "nbconvert_exporter": "python",
   "pygments_lexer": "ipython3",
   "version": "3.8.16"
  },
  "papermill": {
   "default_parameters": {},
   "duration": 20.623753,
   "end_time": "2024-02-28T23:34:59.840256",
   "environment_variables": {},
   "exception": null,
   "input_path": "scripts/plot_global_patron.ipynb",
   "output_path": "scripts/outputs/plot_global_patron.ipynb",
   "parameters": {
    "cntry_fund_path": "../data/NationalFunding/Data/simulated_data/Data/DerivedData/Derived/cntry_fund_frac.csv",
    "cntry_funding_path": "../data/NationalFunding/Data/simulated_data/Figs/Figs/cntry_funding_frac.pdf",
    "flag_path": "../data/NationalFunding/Data/simulated_data/Data/AdditionalData/country_WoS_ECI_WB_flags.tsv",
    "pubs_path": "../data/NationalFunding/Data/simulated_data/Data/DerivedData/CleanedRawData/pub.pkl",
    "region_path": "../data/NationalFunding/Data/simulated_data/Data/AdditionalData/cntry_region.xlsx"
   },
   "start_time": "2024-02-28T23:34:39.216503",
   "version": "2.3.4"
  }
 },
 "nbformat": 4,
 "nbformat_minor": 5
}