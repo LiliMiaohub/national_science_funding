{
 "cells": [
  {
   "cell_type": "markdown",
   "id": "falling-advocate",
   "metadata": {
    "papermill": {
     "duration": 0.004365,
     "end_time": "2024-02-28T23:35:41.918674",
     "exception": false,
     "start_time": "2024-02-28T23:35:41.914309",
     "status": "completed"
    },
    "tags": []
   },
   "source": [
    "this script builds research profile of countries after internationally funded publications from a **specific** country is removed. This script constructs a loose counterfactual compared with build_profile_without_top20.ipynb. Here the removing standard is remove a paper that funding from the specific country flows to other countries as well as the country is the **only** funding source for the paper e.g., USA funded paper is authored by China"
   ]
  },
  {
   "cell_type": "code",
   "execution_count": 1,
   "id": "vocal-version",
   "metadata": {
    "execution": {
     "iopub.execute_input": "2024-02-28T23:35:41.927006Z",
     "iopub.status.busy": "2024-02-28T23:35:41.926380Z",
     "iopub.status.idle": "2024-02-28T23:35:42.466602Z",
     "shell.execute_reply": "2024-02-28T23:35:42.465832Z"
    },
    "papermill": {
     "duration": 0.547344,
     "end_time": "2024-02-28T23:35:42.469573",
     "exception": false,
     "start_time": "2024-02-28T23:35:41.922229",
     "status": "completed"
    },
    "tags": []
   },
   "outputs": [],
   "source": [
    "import pandas as pd\n",
    "import tqdm\n",
    "import numpy as np"
   ]
  },
  {
   "cell_type": "code",
   "execution_count": 2,
   "id": "ideal-function",
   "metadata": {
    "execution": {
     "iopub.execute_input": "2024-02-28T23:35:42.478448Z",
     "iopub.status.busy": "2024-02-28T23:35:42.478017Z",
     "iopub.status.idle": "2024-02-28T23:35:42.482730Z",
     "shell.execute_reply": "2024-02-28T23:35:42.481835Z"
    },
    "papermill": {
     "duration": 0.012046,
     "end_time": "2024-02-28T23:35:42.485596",
     "exception": false,
     "start_time": "2024-02-28T23:35:42.473550",
     "status": "completed"
    },
    "tags": [
     "parameters"
    ]
   },
   "outputs": [],
   "source": [
    "pubs_path=\"../../data/NationalFunding/Data/DerivedData/CleanedRawData/pub.pkl\"\n",
    "cntry_fund_frac_path='../../data/NationalFunding/Data/DerivedData/Derived/cntry_fund_frac.csv'\n",
    "\n",
    "profile_path=\"../../../data/nf_folder/Data/DerivedData/Derived/dep-FundExchange/pub_no_foreign_top20.csv\""
   ]
  },
  {
   "cell_type": "code",
   "execution_count": 3,
   "id": "9de82b70",
   "metadata": {
    "execution": {
     "iopub.execute_input": "2024-02-28T23:35:42.493739Z",
     "iopub.status.busy": "2024-02-28T23:35:42.493451Z",
     "iopub.status.idle": "2024-02-28T23:35:42.497247Z",
     "shell.execute_reply": "2024-02-28T23:35:42.496383Z"
    },
    "papermill": {
     "duration": 0.010104,
     "end_time": "2024-02-28T23:35:42.499115",
     "exception": false,
     "start_time": "2024-02-28T23:35:42.489011",
     "status": "completed"
    },
    "tags": [
     "injected-parameters"
    ]
   },
   "outputs": [],
   "source": [
    "# Parameters\n",
    "pubs_path = \"../data/NationalFunding/Data/simulated_data/Data/DerivedData/CleanedRawData/pub.pkl\"\n",
    "cntry_fund_frac_path = \"../data/NationalFunding/Data/simulated_data/Data/DerivedData/Derived/cntry_fund_frac.csv\"\n",
    "profile_path = \"../data/NationalFunding/Data/simulated_data/Data/DerivedData/Derived/dependence/pub_noforeign_exclusive_fund_top20.csv\"\n"
   ]
  },
  {
   "cell_type": "code",
   "execution_count": 4,
   "id": "flush-peripheral",
   "metadata": {
    "execution": {
     "iopub.execute_input": "2024-02-28T23:35:42.506345Z",
     "iopub.status.busy": "2024-02-28T23:35:42.506048Z",
     "iopub.status.idle": "2024-02-28T23:35:45.922979Z",
     "shell.execute_reply": "2024-02-28T23:35:45.921963Z"
    },
    "papermill": {
     "duration": 3.425547,
     "end_time": "2024-02-28T23:35:45.927727",
     "exception": false,
     "start_time": "2024-02-28T23:35:42.502180",
     "status": "completed"
    },
    "tags": []
   },
   "outputs": [
    {
     "data": {
      "text/html": [
       "<div>\n",
       "<style scoped>\n",
       "    .dataframe tbody tr th:only-of-type {\n",
       "        vertical-align: middle;\n",
       "    }\n",
       "\n",
       "    .dataframe tbody tr th {\n",
       "        vertical-align: top;\n",
       "    }\n",
       "\n",
       "    .dataframe thead th {\n",
       "        text-align: right;\n",
       "    }\n",
       "</style>\n",
       "<table border=\"1\" class=\"dataframe\">\n",
       "  <thead>\n",
       "    <tr style=\"text-align: right;\">\n",
       "      <th></th>\n",
       "      <th>id</th>\n",
       "      <th>year</th>\n",
       "      <th>dis</th>\n",
       "      <th>type</th>\n",
       "      <th>author</th>\n",
       "      <th>funder</th>\n",
       "      <th>author_distinct</th>\n",
       "      <th>funder_distinct</th>\n",
       "      <th>funded</th>\n",
       "      <th>IntCol</th>\n",
       "      <th>cofund</th>\n",
       "      <th>intfund</th>\n",
       "    </tr>\n",
       "  </thead>\n",
       "  <tbody>\n",
       "    <tr>\n",
       "      <th>0</th>\n",
       "      <td>0</td>\n",
       "      <td>2014</td>\n",
       "      <td>29</td>\n",
       "      <td>1</td>\n",
       "      <td>[Canada]</td>\n",
       "      <td>[United States, Brazil, United States, Republi...</td>\n",
       "      <td>[Canada]</td>\n",
       "      <td>[Republic of Serbia, China, Brazil, United Sta...</td>\n",
       "      <td>1</td>\n",
       "      <td>0</td>\n",
       "      <td>1</td>\n",
       "      <td>1</td>\n",
       "    </tr>\n",
       "    <tr>\n",
       "      <th>1</th>\n",
       "      <td>1</td>\n",
       "      <td>2017</td>\n",
       "      <td>32</td>\n",
       "      <td>1</td>\n",
       "      <td>[Russia, Spain]</td>\n",
       "      <td>[Austria, China, China, China, United States, ...</td>\n",
       "      <td>[Russia, Spain]</td>\n",
       "      <td>[China, United States, Austria, Russia, Japan]</td>\n",
       "      <td>1</td>\n",
       "      <td>1</td>\n",
       "      <td>1</td>\n",
       "      <td>1</td>\n",
       "    </tr>\n",
       "    <tr>\n",
       "      <th>2</th>\n",
       "      <td>2</td>\n",
       "      <td>2012</td>\n",
       "      <td>15</td>\n",
       "      <td>1</td>\n",
       "      <td>[Turkey]</td>\n",
       "      <td>Not-Funded</td>\n",
       "      <td>[Turkey]</td>\n",
       "      <td>Not-Funded</td>\n",
       "      <td>0</td>\n",
       "      <td>0</td>\n",
       "      <td>0</td>\n",
       "      <td>0</td>\n",
       "    </tr>\n",
       "    <tr>\n",
       "      <th>3</th>\n",
       "      <td>3</td>\n",
       "      <td>2010</td>\n",
       "      <td>53</td>\n",
       "      <td>1</td>\n",
       "      <td>[United States, Iran]</td>\n",
       "      <td>[China]</td>\n",
       "      <td>[Iran, United States]</td>\n",
       "      <td>[China]</td>\n",
       "      <td>1</td>\n",
       "      <td>1</td>\n",
       "      <td>0</td>\n",
       "      <td>1</td>\n",
       "    </tr>\n",
       "    <tr>\n",
       "      <th>4</th>\n",
       "      <td>4</td>\n",
       "      <td>2015</td>\n",
       "      <td>22</td>\n",
       "      <td>1</td>\n",
       "      <td>[Denmark]</td>\n",
       "      <td>Not-Funded</td>\n",
       "      <td>[Denmark]</td>\n",
       "      <td>Not-Funded</td>\n",
       "      <td>0</td>\n",
       "      <td>0</td>\n",
       "      <td>0</td>\n",
       "      <td>0</td>\n",
       "    </tr>\n",
       "  </tbody>\n",
       "</table>\n",
       "</div>"
      ],
      "text/plain": [
       "   id  year  dis  type                 author   \n",
       "0   0  2014   29     1               [Canada]  \\\n",
       "1   1  2017   32     1        [Russia, Spain]   \n",
       "2   2  2012   15     1               [Turkey]   \n",
       "3   3  2010   53     1  [United States, Iran]   \n",
       "4   4  2015   22     1              [Denmark]   \n",
       "\n",
       "                                              funder        author_distinct   \n",
       "0  [United States, Brazil, United States, Republi...               [Canada]  \\\n",
       "1  [Austria, China, China, China, United States, ...        [Russia, Spain]   \n",
       "2                                         Not-Funded               [Turkey]   \n",
       "3                                            [China]  [Iran, United States]   \n",
       "4                                         Not-Funded              [Denmark]   \n",
       "\n",
       "                                     funder_distinct  funded  IntCol  cofund   \n",
       "0  [Republic of Serbia, China, Brazil, United Sta...       1       0       1  \\\n",
       "1     [China, United States, Austria, Russia, Japan]       1       1       1   \n",
       "2                                         Not-Funded       0       0       0   \n",
       "3                                            [China]       1       1       0   \n",
       "4                                         Not-Funded       0       0       0   \n",
       "\n",
       "   intfund  \n",
       "0        1  \n",
       "1        1  \n",
       "2        0  \n",
       "3        1  \n",
       "4        0  "
      ]
     },
     "execution_count": 4,
     "metadata": {},
     "output_type": "execute_result"
    }
   ],
   "source": [
    "pub_df=pd.read_pickle(pubs_path)\n",
    "pub_df.head()"
   ]
  },
  {
   "cell_type": "code",
   "execution_count": 5,
   "id": "swedish-carry",
   "metadata": {
    "execution": {
     "iopub.execute_input": "2024-02-28T23:35:45.934936Z",
     "iopub.status.busy": "2024-02-28T23:35:45.934353Z",
     "iopub.status.idle": "2024-02-28T23:35:46.389356Z",
     "shell.execute_reply": "2024-02-28T23:35:46.388106Z"
    },
    "papermill": {
     "duration": 0.461521,
     "end_time": "2024-02-28T23:35:46.392319",
     "exception": false,
     "start_time": "2024-02-28T23:35:45.930798",
     "status": "completed"
    },
    "tags": []
   },
   "outputs": [],
   "source": [
    "#get top 20 funders\n",
    "def return_topn(df,n):\n",
    "    df=df[df.funder!='Not-Funded']\n",
    "    topn=df.groupby(['funder'])['cnt'].sum().reset_index().sort_values(\n",
    "        by='cnt',ascending=False).head(n).funder.tolist()\n",
    "    return topn\n",
    "n=20\n",
    "cntry_fund=pd.read_csv(cntry_fund_frac_path)\n",
    "topn=return_topn(cntry_fund,n)"
   ]
  },
  {
   "cell_type": "code",
   "execution_count": 6,
   "id": "outdoor-large",
   "metadata": {
    "execution": {
     "iopub.execute_input": "2024-02-28T23:35:46.401433Z",
     "iopub.status.busy": "2024-02-28T23:35:46.400970Z",
     "iopub.status.idle": "2024-02-28T23:35:46.409217Z",
     "shell.execute_reply": "2024-02-28T23:35:46.408283Z"
    },
    "papermill": {
     "duration": 0.014476,
     "end_time": "2024-02-28T23:35:46.410609",
     "exception": false,
     "start_time": "2024-02-28T23:35:46.396133",
     "status": "completed"
    },
    "tags": []
   },
   "outputs": [],
   "source": [
    "def remove_publications(pub_df,cntry):\n",
    "    \"\"\"filter out the publications that US is the only funder and there are other countries in the authorlist.\"\"\"\n",
    "    df = pub_df.copy()\n",
    "    \n",
    "    df['author_distinct']=df['author_distinct'].apply(set)\n",
    "    df['funder_distinct']=df['funder_distinct'].apply(set)\n",
    "    \n",
    "    author_country_array = np.array(df['author_distinct'].tolist())\n",
    "    funder_country_array = np.array(df['funder_distinct'].tolist())\n",
    "    \n",
    "    single_funder = np.array([cntry in country_set and len(country_set)==1 for country_set in funder_country_array])\n",
    "    multiple_author_countries = np.array([len(country_set)>1 for country_set in author_country_array])\n",
    "    author_not_funder = np.array([len(country_set)==1 and cntry not in country_set for country_set in author_country_array])\n",
    "    \n",
    "    filtered_df = df[~((multiple_author_countries & single_funder)|(single_funder & author_not_funder))]\n",
    "        \n",
    "    return filtered_df"
   ]
  },
  {
   "cell_type": "code",
   "execution_count": 7,
   "id": "hollow-strength",
   "metadata": {
    "execution": {
     "iopub.execute_input": "2024-02-28T23:35:46.416757Z",
     "iopub.status.busy": "2024-02-28T23:35:46.416476Z",
     "iopub.status.idle": "2024-02-28T23:35:46.421603Z",
     "shell.execute_reply": "2024-02-28T23:35:46.420748Z"
    },
    "papermill": {
     "duration": 0.010264,
     "end_time": "2024-02-28T23:35:46.423096",
     "exception": false,
     "start_time": "2024-02-28T23:35:46.412832",
     "status": "completed"
    },
    "tags": []
   },
   "outputs": [],
   "source": [
    "def build_country_profile(pub_df, cntry):\n",
    "    \"\"\"construct the research profile of rest of countries when the internationally-funded publications are removed\n",
    "    \"\"\"\n",
    "    \n",
    "    filtered_df = remove_publications(pub_df,cntry)\n",
    "    filtered_df=filtered_df[['id','dis','author_distinct']].explode('author_distinct')\n",
    "    df=filtered_df.groupby(['author_distinct','dis']).size().reset_index(name='count')\n",
    "    \n",
    "    return df"
   ]
  },
  {
   "cell_type": "code",
   "execution_count": 8,
   "id": "running-mason",
   "metadata": {
    "execution": {
     "iopub.execute_input": "2024-02-28T23:35:46.428950Z",
     "iopub.status.busy": "2024-02-28T23:35:46.428643Z",
     "iopub.status.idle": "2024-02-28T23:36:56.401862Z",
     "shell.execute_reply": "2024-02-28T23:36:56.401155Z"
    },
    "papermill": {
     "duration": 69.984366,
     "end_time": "2024-02-28T23:36:56.409885",
     "exception": false,
     "start_time": "2024-02-28T23:35:46.425519",
     "status": "completed"
    },
    "tags": []
   },
   "outputs": [
    {
     "name": "stderr",
     "output_type": "stream",
     "text": [
      "\r",
      "  0%|                                                    | 0/10 [00:00<?, ?it/s]"
     ]
    },
    {
     "name": "stderr",
     "output_type": "stream",
     "text": [
      "\r",
      " 10%|████▍                                       | 1/10 [00:07<01:06,  7.42s/it]"
     ]
    },
    {
     "name": "stderr",
     "output_type": "stream",
     "text": [
      "\r",
      " 20%|████████▊                                   | 2/10 [00:15<01:00,  7.57s/it]"
     ]
    },
    {
     "name": "stderr",
     "output_type": "stream",
     "text": [
      "\r",
      " 30%|█████████████▏                              | 3/10 [00:21<00:49,  7.03s/it]"
     ]
    },
    {
     "name": "stderr",
     "output_type": "stream",
     "text": [
      "\r",
      " 40%|█████████████████▌                          | 4/10 [00:27<00:39,  6.57s/it]"
     ]
    },
    {
     "name": "stderr",
     "output_type": "stream",
     "text": [
      "\r",
      " 50%|██████████████████████                      | 5/10 [00:34<00:34,  6.90s/it]"
     ]
    },
    {
     "name": "stderr",
     "output_type": "stream",
     "text": [
      "\r",
      " 60%|██████████████████████████▍                 | 6/10 [00:43<00:29,  7.36s/it]"
     ]
    },
    {
     "name": "stderr",
     "output_type": "stream",
     "text": [
      "\r",
      " 70%|██████████████████████████████▊             | 7/10 [00:50<00:22,  7.45s/it]"
     ]
    },
    {
     "name": "stderr",
     "output_type": "stream",
     "text": [
      "\r",
      " 80%|███████████████████████████████████▏        | 8/10 [00:56<00:13,  6.84s/it]"
     ]
    },
    {
     "name": "stderr",
     "output_type": "stream",
     "text": [
      "\r",
      " 90%|███████████████████████████████████████▌    | 9/10 [01:02<00:06,  6.69s/it]"
     ]
    },
    {
     "name": "stderr",
     "output_type": "stream",
     "text": [
      "\r",
      "100%|███████████████████████████████████████████| 10/10 [01:09<00:00,  6.89s/it]"
     ]
    },
    {
     "name": "stderr",
     "output_type": "stream",
     "text": [
      "\r",
      "100%|███████████████████████████████████████████| 10/10 [01:09<00:00,  7.00s/it]"
     ]
    },
    {
     "name": "stderr",
     "output_type": "stream",
     "text": [
      "\n"
     ]
    }
   ],
   "source": [
    "filter_df=pd.DataFrame()\n",
    "years=pub_df['year'].unique()\n",
    "\n",
    "for year in tqdm.tqdm(years):\n",
    "    pub_year=pub_df[pub_df.year==year] #the publication in a specific year\n",
    "    for cntry in topn:\n",
    "        country_profile=build_country_profile(pub_year, cntry)\n",
    "        country_profile['srce_cntry']=cntry\n",
    "        country_profile['year']=year\n",
    "        filter_df=pd.concat([filter_df,country_profile])"
   ]
  },
  {
   "cell_type": "code",
   "execution_count": 9,
   "id": "furnished-damage",
   "metadata": {
    "execution": {
     "iopub.execute_input": "2024-02-28T23:36:56.418120Z",
     "iopub.status.busy": "2024-02-28T23:36:56.417474Z",
     "iopub.status.idle": "2024-02-28T23:37:00.683078Z",
     "shell.execute_reply": "2024-02-28T23:37:00.681733Z"
    },
    "papermill": {
     "duration": 4.273377,
     "end_time": "2024-02-28T23:37:00.686481",
     "exception": false,
     "start_time": "2024-02-28T23:36:56.413104",
     "status": "completed"
    },
    "tags": []
   },
   "outputs": [],
   "source": [
    "filter_df.to_csv(profile_path, index=False)"
   ]
  },
  {
   "cell_type": "code",
   "execution_count": null,
   "id": "7833198c-cf45-4e87-be20-3e6c5fe232e6",
   "metadata": {
    "papermill": {
     "duration": 0.003111,
     "end_time": "2024-02-28T23:37:00.698363",
     "exception": false,
     "start_time": "2024-02-28T23:37:00.695252",
     "status": "completed"
    },
    "tags": []
   },
   "outputs": [],
   "source": []
  }
 ],
 "metadata": {
  "kernelspec": {
   "display_name": "Python 3 (ipykernel)",
   "language": "python",
   "name": "python3"
  },
  "language_info": {
   "codemirror_mode": {
    "name": "ipython",
    "version": 3
   },
   "file_extension": ".py",
   "mimetype": "text/x-python",
   "name": "python",
   "nbconvert_exporter": "python",
   "pygments_lexer": "ipython3",
   "version": "3.8.16"
  },
  "papermill": {
   "default_parameters": {},
   "duration": 80.822617,
   "end_time": "2024-02-28T23:37:01.322798",
   "environment_variables": {},
   "exception": null,
   "input_path": "scripts/build_profile_without_exclusive_top20.ipynb",
   "output_path": "scripts/outputs/build_profile_without_exclusive_top20.ipynb",
   "parameters": {
    "cntry_fund_frac_path": "../data/NationalFunding/Data/simulated_data/Data/DerivedData/Derived/cntry_fund_frac.csv",
    "profile_path": "../data/NationalFunding/Data/simulated_data/Data/DerivedData/Derived/dependence/pub_noforeign_exclusive_fund_top20.csv",
    "pubs_path": "../data/NationalFunding/Data/simulated_data/Data/DerivedData/CleanedRawData/pub.pkl"
   },
   "start_time": "2024-02-28T23:35:40.500181",
   "version": "2.3.4"
  }
 },
 "nbformat": 4,
 "nbformat_minor": 5
}