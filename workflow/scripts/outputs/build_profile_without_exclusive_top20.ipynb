{
 "cells": [
  {
   "cell_type": "markdown",
   "id": "falling-advocate",
   "metadata": {
    "papermill": {
     "duration": 0.006139,
     "end_time": "2023-10-10T01:59:54.997705",
     "exception": false,
     "start_time": "2023-10-10T01:59:54.991566",
     "status": "completed"
    },
    "tags": []
   },
   "source": [
    "this script builds research profile of countries after internationally funded publications from a **specific** country is removed. This script constructs a loose counterfactual compared with build_profile_without_top20.ipynb. Here the removing standard is remove a paper that funding from the specific country flows to other countries as well as the country is the **only** funding source for the paper e.g., USA funded paper is authored by China"
   ]
  },
  {
   "cell_type": "code",
   "execution_count": 1,
   "id": "vocal-version",
   "metadata": {
    "execution": {
     "iopub.execute_input": "2023-10-10T01:59:55.007711Z",
     "iopub.status.busy": "2023-10-10T01:59:55.006687Z",
     "iopub.status.idle": "2023-10-10T01:59:55.389105Z",
     "shell.execute_reply": "2023-10-10T01:59:55.388246Z"
    },
    "papermill": {
     "duration": 0.389621,
     "end_time": "2023-10-10T01:59:55.392651",
     "exception": false,
     "start_time": "2023-10-10T01:59:55.003030",
     "status": "completed"
    },
    "tags": []
   },
   "outputs": [],
   "source": [
    "import pandas as pd\n",
    "import tqdm\n",
    "import numpy as np"
   ]
  },
  {
   "cell_type": "code",
   "execution_count": 2,
   "id": "ideal-function",
   "metadata": {
    "execution": {
     "iopub.execute_input": "2023-10-10T01:59:55.402773Z",
     "iopub.status.busy": "2023-10-10T01:59:55.401700Z",
     "iopub.status.idle": "2023-10-10T01:59:55.407970Z",
     "shell.execute_reply": "2023-10-10T01:59:55.406892Z"
    },
    "papermill": {
     "duration": 0.011521,
     "end_time": "2023-10-10T01:59:55.409706",
     "exception": false,
     "start_time": "2023-10-10T01:59:55.398185",
     "status": "completed"
    },
    "tags": [
     "parameters"
    ]
   },
   "outputs": [],
   "source": [
    "pubs_path=\"../../data/NationalFunding/Data/DerivedData/CleanedRawData/pub.pkl\"\n",
    "cntry_fund_frac_path='../../data/NationalFunding/Data/DerivedData/Derived/cntry_fund_frac.csv'\n",
    "\n",
    "profile_path=\"../../../data/nf_folder/Data/DerivedData/Derived/dep-FundExchange/pub_no_foreign_top20.csv\""
   ]
  },
  {
   "cell_type": "code",
   "execution_count": 3,
   "id": "20fbee5c",
   "metadata": {
    "execution": {
     "iopub.execute_input": "2023-10-10T01:59:55.415834Z",
     "iopub.status.busy": "2023-10-10T01:59:55.415630Z",
     "iopub.status.idle": "2023-10-10T01:59:55.419141Z",
     "shell.execute_reply": "2023-10-10T01:59:55.418475Z"
    },
    "papermill": {
     "duration": 0.008116,
     "end_time": "2023-10-10T01:59:55.420441",
     "exception": false,
     "start_time": "2023-10-10T01:59:55.412325",
     "status": "completed"
    },
    "tags": [
     "injected-parameters"
    ]
   },
   "outputs": [],
   "source": [
    "# Parameters\n",
    "pubs_path = \"../data/NationalFunding/Data/DerivedData/CleanedRawData/pub.pkl\"\n",
    "cntry_fund_frac_path = (\n",
    "    \"../data/NationalFunding/Data/DerivedData/Derived/cntry_fund_frac.csv\"\n",
    ")\n",
    "profile_path = \"../data/NationalFunding/Data/DerivedData/Derived/dependence/pub_noforeign_exclusive_fund_top20.csv\"\n"
   ]
  },
  {
   "cell_type": "code",
   "execution_count": 4,
   "id": "flush-peripheral",
   "metadata": {
    "execution": {
     "iopub.execute_input": "2023-10-10T01:59:55.425579Z",
     "iopub.status.busy": "2023-10-10T01:59:55.425084Z",
     "iopub.status.idle": "2023-10-10T02:00:46.244707Z",
     "shell.execute_reply": "2023-10-10T02:00:46.243485Z"
    },
    "papermill": {
     "duration": 50.828189,
     "end_time": "2023-10-10T02:00:46.250574",
     "exception": false,
     "start_time": "2023-10-10T01:59:55.422385",
     "status": "completed"
    },
    "tags": []
   },
   "outputs": [
    {
     "data": {
      "text/html": [
       "<div>\n",
       "<style scoped>\n",
       "    .dataframe tbody tr th:only-of-type {\n",
       "        vertical-align: middle;\n",
       "    }\n",
       "\n",
       "    .dataframe tbody tr th {\n",
       "        vertical-align: top;\n",
       "    }\n",
       "\n",
       "    .dataframe thead th {\n",
       "        text-align: right;\n",
       "    }\n",
       "</style>\n",
       "<table border=\"1\" class=\"dataframe\">\n",
       "  <thead>\n",
       "    <tr style=\"text-align: right;\">\n",
       "      <th></th>\n",
       "      <th>id</th>\n",
       "      <th>year</th>\n",
       "      <th>dis</th>\n",
       "      <th>type</th>\n",
       "      <th>author</th>\n",
       "      <th>funder</th>\n",
       "      <th>author_distinct</th>\n",
       "      <th>funder_distinct</th>\n",
       "      <th>funded</th>\n",
       "      <th>IntCol</th>\n",
       "      <th>cofund</th>\n",
       "      <th>intfund</th>\n",
       "    </tr>\n",
       "  </thead>\n",
       "  <tbody>\n",
       "    <tr>\n",
       "      <th>0</th>\n",
       "      <td>60694041</td>\n",
       "      <td>2017</td>\n",
       "      <td>9</td>\n",
       "      <td>1</td>\n",
       "      <td>[Canada, United States]</td>\n",
       "      <td>[United States, United States]</td>\n",
       "      <td>[Canada, United States]</td>\n",
       "      <td>[United States]</td>\n",
       "      <td>1</td>\n",
       "      <td>1</td>\n",
       "      <td>0</td>\n",
       "      <td>0</td>\n",
       "    </tr>\n",
       "    <tr>\n",
       "      <th>1</th>\n",
       "      <td>48573156</td>\n",
       "      <td>2012</td>\n",
       "      <td>89</td>\n",
       "      <td>1</td>\n",
       "      <td>[France]</td>\n",
       "      <td>Not-Funded</td>\n",
       "      <td>[France]</td>\n",
       "      <td>Not-Funded</td>\n",
       "      <td>0</td>\n",
       "      <td>0</td>\n",
       "      <td>0</td>\n",
       "      <td>0</td>\n",
       "    </tr>\n",
       "    <tr>\n",
       "      <th>2</th>\n",
       "      <td>55323671</td>\n",
       "      <td>2015</td>\n",
       "      <td>89</td>\n",
       "      <td>1</td>\n",
       "      <td>[France, Chile]</td>\n",
       "      <td>[Chile, Chile, Chile, Chile, Chile]</td>\n",
       "      <td>[France, Chile]</td>\n",
       "      <td>[Chile]</td>\n",
       "      <td>1</td>\n",
       "      <td>1</td>\n",
       "      <td>0</td>\n",
       "      <td>0</td>\n",
       "    </tr>\n",
       "    <tr>\n",
       "      <th>3</th>\n",
       "      <td>57633115</td>\n",
       "      <td>2016</td>\n",
       "      <td>31</td>\n",
       "      <td>1</td>\n",
       "      <td>[Switzerland, United States]</td>\n",
       "      <td>[Switzerland]</td>\n",
       "      <td>[Switzerland, United States]</td>\n",
       "      <td>[Switzerland]</td>\n",
       "      <td>1</td>\n",
       "      <td>1</td>\n",
       "      <td>0</td>\n",
       "      <td>0</td>\n",
       "    </tr>\n",
       "    <tr>\n",
       "      <th>4</th>\n",
       "      <td>64831413</td>\n",
       "      <td>2018</td>\n",
       "      <td>99</td>\n",
       "      <td>1</td>\n",
       "      <td>[China]</td>\n",
       "      <td>[China, China, China, China, China, China]</td>\n",
       "      <td>[China]</td>\n",
       "      <td>[China]</td>\n",
       "      <td>1</td>\n",
       "      <td>0</td>\n",
       "      <td>0</td>\n",
       "      <td>0</td>\n",
       "    </tr>\n",
       "  </tbody>\n",
       "</table>\n",
       "</div>"
      ],
      "text/plain": [
       "         id  year  dis  type                        author   \n",
       "0  60694041  2017    9     1       [Canada, United States]  \\\n",
       "1  48573156  2012   89     1                      [France]   \n",
       "2  55323671  2015   89     1               [France, Chile]   \n",
       "3  57633115  2016   31     1  [Switzerland, United States]   \n",
       "4  64831413  2018   99     1                       [China]   \n",
       "\n",
       "                                       funder               author_distinct   \n",
       "0              [United States, United States]       [Canada, United States]  \\\n",
       "1                                  Not-Funded                      [France]   \n",
       "2         [Chile, Chile, Chile, Chile, Chile]               [France, Chile]   \n",
       "3                               [Switzerland]  [Switzerland, United States]   \n",
       "4  [China, China, China, China, China, China]                       [China]   \n",
       "\n",
       "   funder_distinct  funded  IntCol  cofund  intfund  \n",
       "0  [United States]       1       1       0        0  \n",
       "1       Not-Funded       0       0       0        0  \n",
       "2          [Chile]       1       1       0        0  \n",
       "3    [Switzerland]       1       1       0        0  \n",
       "4          [China]       1       0       0        0  "
      ]
     },
     "execution_count": 4,
     "metadata": {},
     "output_type": "execute_result"
    }
   ],
   "source": [
    "pub_df=pd.read_pickle(pubs_path)\n",
    "pub_df.head()"
   ]
  },
  {
   "cell_type": "code",
   "execution_count": 5,
   "id": "swedish-carry",
   "metadata": {
    "execution": {
     "iopub.execute_input": "2023-10-10T02:00:46.258375Z",
     "iopub.status.busy": "2023-10-10T02:00:46.257755Z",
     "iopub.status.idle": "2023-10-10T02:00:47.666603Z",
     "shell.execute_reply": "2023-10-10T02:00:47.665566Z"
    },
    "papermill": {
     "duration": 1.416493,
     "end_time": "2023-10-10T02:00:47.670086",
     "exception": false,
     "start_time": "2023-10-10T02:00:46.253593",
     "status": "completed"
    },
    "tags": []
   },
   "outputs": [],
   "source": [
    "#get top 20 funders\n",
    "def return_topn(df,n):\n",
    "    df=df[df.funder!='Not-Funded']\n",
    "    topn=df.groupby(['funder'])['cnt'].sum().reset_index().sort_values(\n",
    "        by='cnt',ascending=False).head(n).funder.tolist()\n",
    "    return topn\n",
    "n=20\n",
    "cntry_fund=pd.read_csv(cntry_fund_frac_path)\n",
    "topn=return_topn(cntry_fund,n)"
   ]
  },
  {
   "cell_type": "code",
   "execution_count": 6,
   "id": "outdoor-large",
   "metadata": {
    "execution": {
     "iopub.execute_input": "2023-10-10T02:00:47.682985Z",
     "iopub.status.busy": "2023-10-10T02:00:47.681868Z",
     "iopub.status.idle": "2023-10-10T02:00:47.691463Z",
     "shell.execute_reply": "2023-10-10T02:00:47.690577Z"
    },
    "papermill": {
     "duration": 0.01668,
     "end_time": "2023-10-10T02:00:47.693255",
     "exception": false,
     "start_time": "2023-10-10T02:00:47.676575",
     "status": "completed"
    },
    "tags": []
   },
   "outputs": [],
   "source": [
    "def remove_publications(pub_df,cntry):\n",
    "    \"\"\"filter out the publications that US is the only funder and there are other countries in the authorlist.\"\"\"\n",
    "    df = pub_df.copy()\n",
    "    \n",
    "    df['author_distinct']=df['author_distinct'].apply(set)\n",
    "    df['funder_distinct']=df['funder_distinct'].apply(set)\n",
    "    \n",
    "    author_country_array = np.array(df['author_distinct'].tolist())\n",
    "    funder_country_array = np.array(df['funder_distinct'].tolist())\n",
    "    \n",
    "    single_funder = np.array([cntry in country_set and len(country_set)==1 for country_set in funder_country_array])\n",
    "    multiple_author_countries = np.array([len(country_set)>1 for country_set in author_country_array])\n",
    "    author_not_funder = np.array([len(country_set)==1 and cntry not in country_set for country_set in author_country_array])\n",
    "    \n",
    "    filtered_df = df[~((multiple_author_countries & single_funder)|(single_funder & author_not_funder))]\n",
    "        \n",
    "    return filtered_df"
   ]
  },
  {
   "cell_type": "code",
   "execution_count": 7,
   "id": "hollow-strength",
   "metadata": {
    "execution": {
     "iopub.execute_input": "2023-10-10T02:00:47.700575Z",
     "iopub.status.busy": "2023-10-10T02:00:47.699814Z",
     "iopub.status.idle": "2023-10-10T02:00:47.705556Z",
     "shell.execute_reply": "2023-10-10T02:00:47.704613Z"
    },
    "papermill": {
     "duration": 0.010557,
     "end_time": "2023-10-10T02:00:47.707207",
     "exception": false,
     "start_time": "2023-10-10T02:00:47.696650",
     "status": "completed"
    },
    "tags": []
   },
   "outputs": [],
   "source": [
    "def build_country_profile(pub_df, cntry):\n",
    "    \"\"\"construct the research profile of rest of countries when the internationally-funded publications are removed\n",
    "    \"\"\"\n",
    "    \n",
    "    filtered_df = remove_publications(pub_df,cntry)\n",
    "    filtered_df=filtered_df[['id','dis','author_distinct']].explode('author_distinct')\n",
    "    df=filtered_df.groupby(['author_distinct','dis']).size().reset_index(name='count')\n",
    "    \n",
    "    return df"
   ]
  },
  {
   "cell_type": "code",
   "execution_count": 8,
   "id": "running-mason",
   "metadata": {
    "execution": {
     "iopub.execute_input": "2023-10-10T02:00:47.714363Z",
     "iopub.status.busy": "2023-10-10T02:00:47.713884Z",
     "iopub.status.idle": "2023-10-10T02:23:04.211798Z",
     "shell.execute_reply": "2023-10-10T02:23:04.210841Z"
    },
    "papermill": {
     "duration": 1336.510083,
     "end_time": "2023-10-10T02:23:04.220327",
     "exception": false,
     "start_time": "2023-10-10T02:00:47.710244",
     "status": "completed"
    },
    "tags": []
   },
   "outputs": [
    {
     "name": "stderr",
     "output_type": "stream",
     "text": [
      "\r",
      "  0%|                                                                  | 0/10 [00:00<?, ?it/s]"
     ]
    },
    {
     "name": "stderr",
     "output_type": "stream",
     "text": [
      "\r",
      " 10%|█████▋                                                   | 1/10 [02:35<23:23, 155.93s/it]"
     ]
    },
    {
     "name": "stderr",
     "output_type": "stream",
     "text": [
      "\r",
      " 20%|███████████▍                                             | 2/10 [04:43<18:33, 139.22s/it]"
     ]
    },
    {
     "name": "stderr",
     "output_type": "stream",
     "text": [
      "\r",
      " 30%|█████████████████                                        | 3/10 [07:03<16:17, 139.64s/it]"
     ]
    },
    {
     "name": "stderr",
     "output_type": "stream",
     "text": [
      "\r",
      " 40%|██████████████████████▊                                  | 4/10 [09:27<14:06, 141.15s/it]"
     ]
    },
    {
     "name": "stderr",
     "output_type": "stream",
     "text": [
      "\r",
      " 50%|████████████████████████████▌                            | 5/10 [12:04<12:15, 147.07s/it]"
     ]
    },
    {
     "name": "stderr",
     "output_type": "stream",
     "text": [
      "\r",
      " 60%|██████████████████████████████████▏                      | 6/10 [13:57<09:02, 135.60s/it]"
     ]
    },
    {
     "name": "stderr",
     "output_type": "stream",
     "text": [
      "\r",
      " 70%|███████████████████████████████████████▉                 | 7/10 [16:11<06:44, 134.81s/it]"
     ]
    },
    {
     "name": "stderr",
     "output_type": "stream",
     "text": [
      "\r",
      " 80%|█████████████████████████████████████████████▌           | 8/10 [18:24<04:28, 134.21s/it]"
     ]
    },
    {
     "name": "stderr",
     "output_type": "stream",
     "text": [
      "\r",
      " 90%|███████████████████████████████████████████████████▎     | 9/10 [20:13<02:06, 126.40s/it]"
     ]
    },
    {
     "name": "stderr",
     "output_type": "stream",
     "text": [
      "\r",
      "100%|████████████████████████████████████████████████████████| 10/10 [22:16<00:00, 125.35s/it]"
     ]
    },
    {
     "name": "stderr",
     "output_type": "stream",
     "text": [
      "\r",
      "100%|████████████████████████████████████████████████████████| 10/10 [22:16<00:00, 133.63s/it]"
     ]
    },
    {
     "name": "stderr",
     "output_type": "stream",
     "text": [
      "\n"
     ]
    }
   ],
   "source": [
    "filter_df=pd.DataFrame()\n",
    "years=pub_df['year'].unique()\n",
    "\n",
    "for year in tqdm.tqdm(years):\n",
    "    pub_year=pub_df[pub_df.year==year] #the publication in a specific year\n",
    "    for cntry in topn:\n",
    "        country_profile=build_country_profile(pub_year, cntry)\n",
    "        country_profile['srce_cntry']=cntry\n",
    "        country_profile['year']=year\n",
    "        filter_df=pd.concat([filter_df,country_profile])"
   ]
  },
  {
   "cell_type": "code",
   "execution_count": 9,
   "id": "furnished-damage",
   "metadata": {
    "execution": {
     "iopub.execute_input": "2023-10-10T02:23:04.228482Z",
     "iopub.status.busy": "2023-10-10T02:23:04.227941Z",
     "iopub.status.idle": "2023-10-10T02:23:11.856954Z",
     "shell.execute_reply": "2023-10-10T02:23:11.855591Z"
    },
    "papermill": {
     "duration": 7.637342,
     "end_time": "2023-10-10T02:23:11.860849",
     "exception": false,
     "start_time": "2023-10-10T02:23:04.223507",
     "status": "completed"
    },
    "tags": []
   },
   "outputs": [],
   "source": [
    "filter_df.to_csv(profile_path, index=False)"
   ]
  },
  {
   "cell_type": "code",
   "execution_count": null,
   "id": "7833198c-cf45-4e87-be20-3e6c5fe232e6",
   "metadata": {
    "papermill": {
     "duration": 0.002976,
     "end_time": "2023-10-10T02:23:11.871014",
     "exception": false,
     "start_time": "2023-10-10T02:23:11.868038",
     "status": "completed"
    },
    "tags": []
   },
   "outputs": [],
   "source": []
  }
 ],
 "metadata": {
  "kernelspec": {
   "display_name": "Python 3 (ipykernel)",
   "language": "python",
   "name": "python3"
  },
  "language_info": {
   "codemirror_mode": {
    "name": "ipython",
    "version": 3
   },
   "file_extension": ".py",
   "mimetype": "text/x-python",
   "name": "python",
   "nbconvert_exporter": "python",
   "pygments_lexer": "ipython3",
   "version": "3.8.16"
  },
  "papermill": {
   "default_parameters": {},
   "duration": 1401.226835,
   "end_time": "2023-10-10T02:23:14.798054",
   "environment_variables": {},
   "exception": null,
   "input_path": "scripts/build_profile_without_exclusive_top20.ipynb",
   "output_path": "scripts/outputs/build_profile_without_exclusive_top20.ipynb",
   "parameters": {
    "cntry_fund_frac_path": "../data/NationalFunding/Data/DerivedData/Derived/cntry_fund_frac.csv",
    "profile_path": "../data/NationalFunding/Data/DerivedData/Derived/dependence/pub_noforeign_exclusive_fund_top20.csv",
    "pubs_path": "../data/NationalFunding/Data/DerivedData/CleanedRawData/pub.pkl"
   },
   "start_time": "2023-10-10T01:59:53.571219",
   "version": "2.3.4"
  }
 },
 "nbformat": 4,
 "nbformat_minor": 5
}