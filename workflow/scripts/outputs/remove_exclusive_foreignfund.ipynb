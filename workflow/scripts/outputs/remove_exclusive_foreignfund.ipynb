{
 "cells": [
  {
   "cell_type": "markdown",
   "id": "mysterious-flash",
   "metadata": {
    "papermill": {
     "duration": 0.003005,
     "end_time": "2023-10-10T01:53:55.776058",
     "exception": false,
     "start_time": "2023-10-10T01:53:55.773053",
     "status": "completed"
    },
    "tags": []
   },
   "source": [
    "### this script construct conterfactual research profile which loosen the criteria in remove_foreignfund.ipynb\n",
    "Assign publications to author country using full counting first, and then for each country, following publications are retained:\n",
    "- articles that are not funded\n",
    "- articles that are exclusively funded by the country itself\n",
    "- **articles that are funded by the country itself as well as other countries**\n",
    "\n",
    "The output of the script is the number of publications of countries in year and discipline"
   ]
  },
  {
   "cell_type": "code",
   "execution_count": 1,
   "id": "complimentary-wisconsin",
   "metadata": {
    "execution": {
     "iopub.execute_input": "2023-10-10T01:53:55.782533Z",
     "iopub.status.busy": "2023-10-10T01:53:55.781801Z",
     "iopub.status.idle": "2023-10-10T01:53:56.160957Z",
     "shell.execute_reply": "2023-10-10T01:53:56.160054Z"
    },
    "papermill": {
     "duration": 0.386016,
     "end_time": "2023-10-10T01:53:56.164366",
     "exception": false,
     "start_time": "2023-10-10T01:53:55.778350",
     "status": "completed"
    },
    "tags": []
   },
   "outputs": [],
   "source": [
    "import pandas as pd"
   ]
  },
  {
   "cell_type": "code",
   "execution_count": 2,
   "id": "experimental-edition",
   "metadata": {
    "execution": {
     "iopub.execute_input": "2023-10-10T01:53:56.177338Z",
     "iopub.status.busy": "2023-10-10T01:53:56.176177Z",
     "iopub.status.idle": "2023-10-10T01:53:56.182316Z",
     "shell.execute_reply": "2023-10-10T01:53:56.181239Z"
    },
    "papermill": {
     "duration": 0.014748,
     "end_time": "2023-10-10T01:53:56.184527",
     "exception": false,
     "start_time": "2023-10-10T01:53:56.169779",
     "status": "completed"
    },
    "tags": [
     "parameters"
    ]
   },
   "outputs": [],
   "source": [
    "pubs_path=\"../../data/NationalFunding/Data/DerivedData/CleanedRawData/pub.pkl\"\n",
    "\n",
    "pub_filter_path=\"../../data/NationalFunding/Data/DerivedData/Derived/dependence/pub_noint_fund_exclusive_foreign.csv\""
   ]
  },
  {
   "cell_type": "code",
   "execution_count": 3,
   "id": "205ccb1b",
   "metadata": {
    "execution": {
     "iopub.execute_input": "2023-10-10T01:53:56.193008Z",
     "iopub.status.busy": "2023-10-10T01:53:56.192118Z",
     "iopub.status.idle": "2023-10-10T01:53:56.197542Z",
     "shell.execute_reply": "2023-10-10T01:53:56.196504Z"
    },
    "papermill": {
     "duration": 0.011296,
     "end_time": "2023-10-10T01:53:56.198974",
     "exception": false,
     "start_time": "2023-10-10T01:53:56.187678",
     "status": "completed"
    },
    "tags": [
     "injected-parameters"
    ]
   },
   "outputs": [],
   "source": [
    "# Parameters\n",
    "pubs_path = \"../data/NationalFunding/Data/DerivedData/CleanedRawData/pub.pkl\"\n",
    "pub_filter_path = \"../data/NationalFunding/Data/DerivedData/Derived/dependence/pub_no_exclusive_int_fund.csv\"\n"
   ]
  },
  {
   "cell_type": "code",
   "execution_count": 4,
   "id": "institutional-complaint",
   "metadata": {
    "execution": {
     "iopub.execute_input": "2023-10-10T01:53:56.204101Z",
     "iopub.status.busy": "2023-10-10T01:53:56.203783Z",
     "iopub.status.idle": "2023-10-10T01:54:47.611728Z",
     "shell.execute_reply": "2023-10-10T01:54:47.610549Z"
    },
    "papermill": {
     "duration": 51.419466,
     "end_time": "2023-10-10T01:54:47.620284",
     "exception": false,
     "start_time": "2023-10-10T01:53:56.200818",
     "status": "completed"
    },
    "tags": []
   },
   "outputs": [
    {
     "data": {
      "text/html": [
       "<div>\n",
       "<style scoped>\n",
       "    .dataframe tbody tr th:only-of-type {\n",
       "        vertical-align: middle;\n",
       "    }\n",
       "\n",
       "    .dataframe tbody tr th {\n",
       "        vertical-align: top;\n",
       "    }\n",
       "\n",
       "    .dataframe thead th {\n",
       "        text-align: right;\n",
       "    }\n",
       "</style>\n",
       "<table border=\"1\" class=\"dataframe\">\n",
       "  <thead>\n",
       "    <tr style=\"text-align: right;\">\n",
       "      <th></th>\n",
       "      <th>id</th>\n",
       "      <th>year</th>\n",
       "      <th>dis</th>\n",
       "      <th>type</th>\n",
       "      <th>author</th>\n",
       "      <th>funder</th>\n",
       "      <th>author_distinct</th>\n",
       "      <th>funder_distinct</th>\n",
       "      <th>funded</th>\n",
       "      <th>IntCol</th>\n",
       "      <th>cofund</th>\n",
       "      <th>intfund</th>\n",
       "    </tr>\n",
       "  </thead>\n",
       "  <tbody>\n",
       "    <tr>\n",
       "      <th>0</th>\n",
       "      <td>60694041</td>\n",
       "      <td>2017</td>\n",
       "      <td>9</td>\n",
       "      <td>1</td>\n",
       "      <td>[Canada, United States]</td>\n",
       "      <td>[United States, United States]</td>\n",
       "      <td>[Canada, United States]</td>\n",
       "      <td>[United States]</td>\n",
       "      <td>1</td>\n",
       "      <td>1</td>\n",
       "      <td>0</td>\n",
       "      <td>0</td>\n",
       "    </tr>\n",
       "    <tr>\n",
       "      <th>1</th>\n",
       "      <td>48573156</td>\n",
       "      <td>2012</td>\n",
       "      <td>89</td>\n",
       "      <td>1</td>\n",
       "      <td>[France]</td>\n",
       "      <td>Not-Funded</td>\n",
       "      <td>[France]</td>\n",
       "      <td>Not-Funded</td>\n",
       "      <td>0</td>\n",
       "      <td>0</td>\n",
       "      <td>0</td>\n",
       "      <td>0</td>\n",
       "    </tr>\n",
       "    <tr>\n",
       "      <th>2</th>\n",
       "      <td>55323671</td>\n",
       "      <td>2015</td>\n",
       "      <td>89</td>\n",
       "      <td>1</td>\n",
       "      <td>[France, Chile]</td>\n",
       "      <td>[Chile, Chile, Chile, Chile, Chile]</td>\n",
       "      <td>[France, Chile]</td>\n",
       "      <td>[Chile]</td>\n",
       "      <td>1</td>\n",
       "      <td>1</td>\n",
       "      <td>0</td>\n",
       "      <td>0</td>\n",
       "    </tr>\n",
       "    <tr>\n",
       "      <th>3</th>\n",
       "      <td>57633115</td>\n",
       "      <td>2016</td>\n",
       "      <td>31</td>\n",
       "      <td>1</td>\n",
       "      <td>[Switzerland, United States]</td>\n",
       "      <td>[Switzerland]</td>\n",
       "      <td>[Switzerland, United States]</td>\n",
       "      <td>[Switzerland]</td>\n",
       "      <td>1</td>\n",
       "      <td>1</td>\n",
       "      <td>0</td>\n",
       "      <td>0</td>\n",
       "    </tr>\n",
       "    <tr>\n",
       "      <th>4</th>\n",
       "      <td>64831413</td>\n",
       "      <td>2018</td>\n",
       "      <td>99</td>\n",
       "      <td>1</td>\n",
       "      <td>[China]</td>\n",
       "      <td>[China, China, China, China, China, China]</td>\n",
       "      <td>[China]</td>\n",
       "      <td>[China]</td>\n",
       "      <td>1</td>\n",
       "      <td>0</td>\n",
       "      <td>0</td>\n",
       "      <td>0</td>\n",
       "    </tr>\n",
       "  </tbody>\n",
       "</table>\n",
       "</div>"
      ],
      "text/plain": [
       "         id  year  dis  type                        author   \n",
       "0  60694041  2017    9     1       [Canada, United States]  \\\n",
       "1  48573156  2012   89     1                      [France]   \n",
       "2  55323671  2015   89     1               [France, Chile]   \n",
       "3  57633115  2016   31     1  [Switzerland, United States]   \n",
       "4  64831413  2018   99     1                       [China]   \n",
       "\n",
       "                                       funder               author_distinct   \n",
       "0              [United States, United States]       [Canada, United States]  \\\n",
       "1                                  Not-Funded                      [France]   \n",
       "2         [Chile, Chile, Chile, Chile, Chile]               [France, Chile]   \n",
       "3                               [Switzerland]  [Switzerland, United States]   \n",
       "4  [China, China, China, China, China, China]                       [China]   \n",
       "\n",
       "   funder_distinct  funded  IntCol  cofund  intfund  \n",
       "0  [United States]       1       1       0        0  \n",
       "1       Not-Funded       0       0       0        0  \n",
       "2          [Chile]       1       1       0        0  \n",
       "3    [Switzerland]       1       1       0        0  \n",
       "4          [China]       1       0       0        0  "
      ]
     },
     "execution_count": 4,
     "metadata": {},
     "output_type": "execute_result"
    }
   ],
   "source": [
    "pub_df=pd.read_pickle(pubs_path)\n",
    "pub_df.head()"
   ]
  },
  {
   "cell_type": "code",
   "execution_count": 5,
   "id": "understanding-skating",
   "metadata": {
    "execution": {
     "iopub.execute_input": "2023-10-10T01:54:47.627248Z",
     "iopub.status.busy": "2023-10-10T01:54:47.626428Z",
     "iopub.status.idle": "2023-10-10T01:54:55.157343Z",
     "shell.execute_reply": "2023-10-10T01:54:55.156145Z"
    },
    "papermill": {
     "duration": 7.538432,
     "end_time": "2023-10-10T01:54:55.160997",
     "exception": false,
     "start_time": "2023-10-10T01:54:47.622565",
     "status": "completed"
    },
    "tags": []
   },
   "outputs": [],
   "source": [
    "author_df=pub_df[['id','year','dis','author_distinct','funder_distinct']]\n",
    "author_df=author_df.explode('author_distinct')"
   ]
  },
  {
   "cell_type": "markdown",
   "id": "77f0d57c-b177-46e5-a2be-5d2c5b1f6040",
   "metadata": {
    "papermill": {
     "duration": 0.002118,
     "end_time": "2023-10-10T01:54:55.169352",
     "exception": false,
     "start_time": "2023-10-10T01:54:55.167234",
     "status": "completed"
    },
    "tags": []
   },
   "source": [
    "# detect whether the paper is exclusively funded by foreign grants"
   ]
  },
  {
   "cell_type": "code",
   "execution_count": 6,
   "id": "governing-contrast",
   "metadata": {
    "execution": {
     "iopub.execute_input": "2023-10-10T01:54:55.175928Z",
     "iopub.status.busy": "2023-10-10T01:54:55.175248Z",
     "iopub.status.idle": "2023-10-10T01:58:35.367549Z",
     "shell.execute_reply": "2023-10-10T01:58:35.366343Z"
    },
    "papermill": {
     "duration": 220.199769,
     "end_time": "2023-10-10T01:58:35.371207",
     "exception": false,
     "start_time": "2023-10-10T01:54:55.171438",
     "status": "completed"
    },
    "tags": []
   },
   "outputs": [],
   "source": [
    "def assign_label(author,funders):\n",
    "    label=1\n",
    "    if funders=='Not-Funded':\n",
    "        label=0\n",
    "    elif author in funders:\n",
    "        label=0\n",
    "    return label\n",
    "author_df['label']=author_df.apply(lambda x:assign_label(x.author_distinct,x.funder_distinct),axis=1)"
   ]
  },
  {
   "cell_type": "code",
   "execution_count": 7,
   "id": "committed-basics",
   "metadata": {
    "execution": {
     "iopub.execute_input": "2023-10-10T01:58:35.381885Z",
     "iopub.status.busy": "2023-10-10T01:58:35.381407Z",
     "iopub.status.idle": "2023-10-10T01:58:38.663110Z",
     "shell.execute_reply": "2023-10-10T01:58:38.661895Z"
    },
    "papermill": {
     "duration": 3.288906,
     "end_time": "2023-10-10T01:58:38.666538",
     "exception": false,
     "start_time": "2023-10-10T01:58:35.377632",
     "status": "completed"
    },
    "tags": []
   },
   "outputs": [],
   "source": [
    "author_df=author_df[author_df.label==0]\n",
    "author_df=author_df.groupby(['author_distinct','year','dis']).size().reset_index()"
   ]
  },
  {
   "cell_type": "code",
   "execution_count": 8,
   "id": "adopted-oxide",
   "metadata": {
    "execution": {
     "iopub.execute_input": "2023-10-10T01:58:38.680556Z",
     "iopub.status.busy": "2023-10-10T01:58:38.679784Z",
     "iopub.status.idle": "2023-10-10T01:58:40.668795Z",
     "shell.execute_reply": "2023-10-10T01:58:40.667427Z"
    },
    "papermill": {
     "duration": 1.99974,
     "end_time": "2023-10-10T01:58:40.672564",
     "exception": false,
     "start_time": "2023-10-10T01:58:38.672824",
     "status": "completed"
    },
    "tags": []
   },
   "outputs": [],
   "source": [
    "author_df.columns=['cntry','year','dis','count']\n",
    "author_df.to_csv(pub_filter_path,index=False)"
   ]
  },
  {
   "cell_type": "code",
   "execution_count": null,
   "id": "delayed-coverage",
   "metadata": {
    "papermill": {
     "duration": 0.002254,
     "end_time": "2023-10-10T01:58:40.681356",
     "exception": false,
     "start_time": "2023-10-10T01:58:40.679102",
     "status": "completed"
    },
    "tags": []
   },
   "outputs": [],
   "source": []
  }
 ],
 "metadata": {
  "kernelspec": {
   "display_name": "Python 3 (ipykernel)",
   "language": "python",
   "name": "python3"
  },
  "language_info": {
   "codemirror_mode": {
    "name": "ipython",
    "version": 3
   },
   "file_extension": ".py",
   "mimetype": "text/x-python",
   "name": "python",
   "nbconvert_exporter": "python",
   "pygments_lexer": "ipython3",
   "version": "3.8.16"
  },
  "papermill": {
   "default_parameters": {},
   "duration": 288.992496,
   "end_time": "2023-10-10T01:58:43.504937",
   "environment_variables": {},
   "exception": null,
   "input_path": "scripts/remove_exclusive_foreignfund.ipynb",
   "output_path": "scripts/outputs/remove_exclusive_foreignfund.ipynb",
   "parameters": {
    "pub_filter_path": "../data/NationalFunding/Data/DerivedData/Derived/dependence/pub_no_exclusive_int_fund.csv",
    "pubs_path": "../data/NationalFunding/Data/DerivedData/CleanedRawData/pub.pkl"
   },
   "start_time": "2023-10-10T01:53:54.512441",
   "version": "2.3.4"
  }
 },
 "nbformat": 4,
 "nbformat_minor": 5
}