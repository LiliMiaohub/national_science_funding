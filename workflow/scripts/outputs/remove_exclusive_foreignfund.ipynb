{
 "cells": [
  {
   "cell_type": "markdown",
   "id": "mysterious-flash",
   "metadata": {
    "papermill": {
     "duration": 0.005338,
     "end_time": "2024-02-29T07:07:20.384133",
     "exception": false,
     "start_time": "2024-02-29T07:07:20.378795",
     "status": "completed"
    },
    "tags": []
   },
   "source": [
    "### this script construct conterfactual research profile which loosen the criteria in remove_foreignfund.ipynb\n",
    "Assign publications to author country using full counting first, and then for each country, following publications are **retained**:\n",
    "- articles that are not funded\n",
    "- articles that are exclusively funded by the country itself\n",
    "- **articles that are funded by the country itself as well as other countries**\n",
    "\n",
    "The output of the script is the number of publications of countries in year and discipline"
   ]
  },
  {
   "cell_type": "code",
   "execution_count": 1,
   "id": "complimentary-wisconsin",
   "metadata": {
    "execution": {
     "iopub.execute_input": "2024-02-29T07:07:20.392365Z",
     "iopub.status.busy": "2024-02-29T07:07:20.391334Z",
     "iopub.status.idle": "2024-02-29T07:07:20.765755Z",
     "shell.execute_reply": "2024-02-29T07:07:20.764793Z"
    },
    "papermill": {
     "duration": 0.381296,
     "end_time": "2024-02-29T07:07:20.769437",
     "exception": false,
     "start_time": "2024-02-29T07:07:20.388141",
     "status": "completed"
    },
    "tags": []
   },
   "outputs": [],
   "source": [
    "import pandas as pd"
   ]
  },
  {
   "cell_type": "code",
   "execution_count": 2,
   "id": "experimental-edition",
   "metadata": {
    "execution": {
     "iopub.execute_input": "2024-02-29T07:07:20.778869Z",
     "iopub.status.busy": "2024-02-29T07:07:20.778243Z",
     "iopub.status.idle": "2024-02-29T07:07:20.782915Z",
     "shell.execute_reply": "2024-02-29T07:07:20.782116Z"
    },
    "papermill": {
     "duration": 0.009469,
     "end_time": "2024-02-29T07:07:20.784545",
     "exception": false,
     "start_time": "2024-02-29T07:07:20.775076",
     "status": "completed"
    },
    "tags": [
     "parameters"
    ]
   },
   "outputs": [],
   "source": [
    "pubs_path=\"../../data/NationalFunding/Data/DerivedData/CleanedRawData/pub.pkl\"\n",
    "\n",
    "pub_filter_path=\"../../data/NationalFunding/Data/DerivedData/Derived/dependence/pub_noint_fund_exclusive_foreign.csv\""
   ]
  },
  {
   "cell_type": "code",
   "execution_count": 3,
   "id": "231ebadb",
   "metadata": {
    "execution": {
     "iopub.execute_input": "2024-02-29T07:07:20.790708Z",
     "iopub.status.busy": "2024-02-29T07:07:20.790033Z",
     "iopub.status.idle": "2024-02-29T07:07:20.794235Z",
     "shell.execute_reply": "2024-02-29T07:07:20.793359Z"
    },
    "papermill": {
     "duration": 0.008842,
     "end_time": "2024-02-29T07:07:20.795641",
     "exception": false,
     "start_time": "2024-02-29T07:07:20.786799",
     "status": "completed"
    },
    "tags": [
     "injected-parameters"
    ]
   },
   "outputs": [],
   "source": [
    "# Parameters\n",
    "pubs_path = \"../data/NationalFunding/Data/simulated_data/Data/DerivedData/CleanedRawData/pub.pkl\"\n",
    "pub_filter_path = \"../data/NationalFunding/Data/simulated_data/Data/DerivedData/Derived/dependence/pub_no_exclusive_int_fund.csv\"\n"
   ]
  },
  {
   "cell_type": "code",
   "execution_count": 4,
   "id": "institutional-complaint",
   "metadata": {
    "execution": {
     "iopub.execute_input": "2024-02-29T07:07:20.800785Z",
     "iopub.status.busy": "2024-02-29T07:07:20.800202Z",
     "iopub.status.idle": "2024-02-29T07:07:23.895750Z",
     "shell.execute_reply": "2024-02-29T07:07:23.894946Z"
    },
    "papermill": {
     "duration": 3.10269,
     "end_time": "2024-02-29T07:07:23.900191",
     "exception": false,
     "start_time": "2024-02-29T07:07:20.797501",
     "status": "completed"
    },
    "tags": []
   },
   "outputs": [
    {
     "data": {
      "text/html": [
       "<div>\n",
       "<style scoped>\n",
       "    .dataframe tbody tr th:only-of-type {\n",
       "        vertical-align: middle;\n",
       "    }\n",
       "\n",
       "    .dataframe tbody tr th {\n",
       "        vertical-align: top;\n",
       "    }\n",
       "\n",
       "    .dataframe thead th {\n",
       "        text-align: right;\n",
       "    }\n",
       "</style>\n",
       "<table border=\"1\" class=\"dataframe\">\n",
       "  <thead>\n",
       "    <tr style=\"text-align: right;\">\n",
       "      <th></th>\n",
       "      <th>id</th>\n",
       "      <th>year</th>\n",
       "      <th>dis</th>\n",
       "      <th>type</th>\n",
       "      <th>author</th>\n",
       "      <th>funder</th>\n",
       "      <th>author_distinct</th>\n",
       "      <th>funder_distinct</th>\n",
       "      <th>funded</th>\n",
       "      <th>IntCol</th>\n",
       "      <th>cofund</th>\n",
       "      <th>intfund</th>\n",
       "    </tr>\n",
       "  </thead>\n",
       "  <tbody>\n",
       "    <tr>\n",
       "      <th>0</th>\n",
       "      <td>0</td>\n",
       "      <td>2014</td>\n",
       "      <td>29</td>\n",
       "      <td>1</td>\n",
       "      <td>[Canada]</td>\n",
       "      <td>[United States, Brazil, United States, Republi...</td>\n",
       "      <td>[Canada]</td>\n",
       "      <td>[Republic of Serbia, China, Brazil, United Sta...</td>\n",
       "      <td>1</td>\n",
       "      <td>0</td>\n",
       "      <td>1</td>\n",
       "      <td>1</td>\n",
       "    </tr>\n",
       "    <tr>\n",
       "      <th>1</th>\n",
       "      <td>1</td>\n",
       "      <td>2017</td>\n",
       "      <td>32</td>\n",
       "      <td>1</td>\n",
       "      <td>[Russia, Spain]</td>\n",
       "      <td>[Austria, China, China, China, United States, ...</td>\n",
       "      <td>[Russia, Spain]</td>\n",
       "      <td>[China, United States, Austria, Russia, Japan]</td>\n",
       "      <td>1</td>\n",
       "      <td>1</td>\n",
       "      <td>1</td>\n",
       "      <td>1</td>\n",
       "    </tr>\n",
       "    <tr>\n",
       "      <th>2</th>\n",
       "      <td>2</td>\n",
       "      <td>2012</td>\n",
       "      <td>15</td>\n",
       "      <td>1</td>\n",
       "      <td>[Turkey]</td>\n",
       "      <td>Not-Funded</td>\n",
       "      <td>[Turkey]</td>\n",
       "      <td>Not-Funded</td>\n",
       "      <td>0</td>\n",
       "      <td>0</td>\n",
       "      <td>0</td>\n",
       "      <td>0</td>\n",
       "    </tr>\n",
       "    <tr>\n",
       "      <th>3</th>\n",
       "      <td>3</td>\n",
       "      <td>2010</td>\n",
       "      <td>53</td>\n",
       "      <td>1</td>\n",
       "      <td>[United States, Iran]</td>\n",
       "      <td>[China]</td>\n",
       "      <td>[Iran, United States]</td>\n",
       "      <td>[China]</td>\n",
       "      <td>1</td>\n",
       "      <td>1</td>\n",
       "      <td>0</td>\n",
       "      <td>1</td>\n",
       "    </tr>\n",
       "    <tr>\n",
       "      <th>4</th>\n",
       "      <td>4</td>\n",
       "      <td>2015</td>\n",
       "      <td>22</td>\n",
       "      <td>1</td>\n",
       "      <td>[Denmark]</td>\n",
       "      <td>Not-Funded</td>\n",
       "      <td>[Denmark]</td>\n",
       "      <td>Not-Funded</td>\n",
       "      <td>0</td>\n",
       "      <td>0</td>\n",
       "      <td>0</td>\n",
       "      <td>0</td>\n",
       "    </tr>\n",
       "  </tbody>\n",
       "</table>\n",
       "</div>"
      ],
      "text/plain": [
       "   id  year  dis  type                 author   \n",
       "0   0  2014   29     1               [Canada]  \\\n",
       "1   1  2017   32     1        [Russia, Spain]   \n",
       "2   2  2012   15     1               [Turkey]   \n",
       "3   3  2010   53     1  [United States, Iran]   \n",
       "4   4  2015   22     1              [Denmark]   \n",
       "\n",
       "                                              funder        author_distinct   \n",
       "0  [United States, Brazil, United States, Republi...               [Canada]  \\\n",
       "1  [Austria, China, China, China, United States, ...        [Russia, Spain]   \n",
       "2                                         Not-Funded               [Turkey]   \n",
       "3                                            [China]  [Iran, United States]   \n",
       "4                                         Not-Funded              [Denmark]   \n",
       "\n",
       "                                     funder_distinct  funded  IntCol  cofund   \n",
       "0  [Republic of Serbia, China, Brazil, United Sta...       1       0       1  \\\n",
       "1     [China, United States, Austria, Russia, Japan]       1       1       1   \n",
       "2                                         Not-Funded       0       0       0   \n",
       "3                                            [China]       1       1       0   \n",
       "4                                         Not-Funded       0       0       0   \n",
       "\n",
       "   intfund  \n",
       "0        1  \n",
       "1        1  \n",
       "2        0  \n",
       "3        1  \n",
       "4        0  "
      ]
     },
     "execution_count": 4,
     "metadata": {},
     "output_type": "execute_result"
    }
   ],
   "source": [
    "pub_df=pd.read_pickle(pubs_path)\n",
    "pub_df.head()"
   ]
  },
  {
   "cell_type": "code",
   "execution_count": 5,
   "id": "understanding-skating",
   "metadata": {
    "execution": {
     "iopub.execute_input": "2024-02-29T07:07:23.909218Z",
     "iopub.status.busy": "2024-02-29T07:07:23.908676Z",
     "iopub.status.idle": "2024-02-29T07:07:24.247001Z",
     "shell.execute_reply": "2024-02-29T07:07:24.245892Z"
    },
    "papermill": {
     "duration": 0.344983,
     "end_time": "2024-02-29T07:07:24.250120",
     "exception": false,
     "start_time": "2024-02-29T07:07:23.905137",
     "status": "completed"
    },
    "tags": []
   },
   "outputs": [],
   "source": [
    "author_df=pub_df[['id','year','dis','author_distinct','funder_distinct']]\n",
    "author_df=author_df.explode('author_distinct')"
   ]
  },
  {
   "cell_type": "markdown",
   "id": "77f0d57c-b177-46e5-a2be-5d2c5b1f6040",
   "metadata": {
    "papermill": {
     "duration": 0.002347,
     "end_time": "2024-02-29T07:07:24.258310",
     "exception": false,
     "start_time": "2024-02-29T07:07:24.255963",
     "status": "completed"
    },
    "tags": []
   },
   "source": [
    "# detect whether the paper is exclusively funded by foreign grants"
   ]
  },
  {
   "cell_type": "code",
   "execution_count": 6,
   "id": "governing-contrast",
   "metadata": {
    "execution": {
     "iopub.execute_input": "2024-02-29T07:07:24.264879Z",
     "iopub.status.busy": "2024-02-29T07:07:24.263870Z",
     "iopub.status.idle": "2024-02-29T07:07:35.562598Z",
     "shell.execute_reply": "2024-02-29T07:07:35.561270Z"
    },
    "papermill": {
     "duration": 11.305608,
     "end_time": "2024-02-29T07:07:35.566089",
     "exception": false,
     "start_time": "2024-02-29T07:07:24.260481",
     "status": "completed"
    },
    "tags": []
   },
   "outputs": [],
   "source": [
    "def assign_label(author,funders):\n",
    "    label=1\n",
    "    if funders=='Not-Funded':\n",
    "        label=0\n",
    "    elif author in funders:\n",
    "        label=0\n",
    "    return label\n",
    "author_df['label']=author_df.apply(lambda x:assign_label(x.author_distinct,x.funder_distinct),axis=1)"
   ]
  },
  {
   "cell_type": "code",
   "execution_count": 7,
   "id": "committed-basics",
   "metadata": {
    "execution": {
     "iopub.execute_input": "2024-02-29T07:07:35.576728Z",
     "iopub.status.busy": "2024-02-29T07:07:35.576012Z",
     "iopub.status.idle": "2024-02-29T07:07:35.694887Z",
     "shell.execute_reply": "2024-02-29T07:07:35.694017Z"
    },
    "papermill": {
     "duration": 0.125664,
     "end_time": "2024-02-29T07:07:35.698147",
     "exception": false,
     "start_time": "2024-02-29T07:07:35.572483",
     "status": "completed"
    },
    "tags": []
   },
   "outputs": [],
   "source": [
    "author_df=author_df[author_df.label==0]\n",
    "author_df=author_df.groupby(['author_distinct','year','dis']).size().reset_index()"
   ]
  },
  {
   "cell_type": "code",
   "execution_count": 8,
   "id": "adopted-oxide",
   "metadata": {
    "execution": {
     "iopub.execute_input": "2024-02-29T07:07:35.708822Z",
     "iopub.status.busy": "2024-02-29T07:07:35.707962Z",
     "iopub.status.idle": "2024-02-29T07:07:37.044381Z",
     "shell.execute_reply": "2024-02-29T07:07:37.043062Z"
    },
    "papermill": {
     "duration": 1.34354,
     "end_time": "2024-02-29T07:07:37.048000",
     "exception": false,
     "start_time": "2024-02-29T07:07:35.704460",
     "status": "completed"
    },
    "tags": []
   },
   "outputs": [],
   "source": [
    "author_df.columns=['cntry','year','dis','count']\n",
    "author_df.to_csv(pub_filter_path,index=False)"
   ]
  },
  {
   "cell_type": "code",
   "execution_count": null,
   "id": "delayed-coverage",
   "metadata": {
    "papermill": {
     "duration": 0.002335,
     "end_time": "2024-02-29T07:07:37.057122",
     "exception": false,
     "start_time": "2024-02-29T07:07:37.054787",
     "status": "completed"
    },
    "tags": []
   },
   "outputs": [],
   "source": []
  }
 ],
 "metadata": {
  "kernelspec": {
   "display_name": "Python 3 (ipykernel)",
   "language": "python",
   "name": "python3"
  },
  "language_info": {
   "codemirror_mode": {
    "name": "ipython",
    "version": 3
   },
   "file_extension": ".py",
   "mimetype": "text/x-python",
   "name": "python",
   "nbconvert_exporter": "python",
   "pygments_lexer": "ipython3",
   "version": "3.8.16"
  },
  "papermill": {
   "default_parameters": {},
   "duration": 18.559414,
   "end_time": "2024-02-29T07:07:37.679799",
   "environment_variables": {},
   "exception": null,
   "input_path": "scripts/remove_exclusive_foreignfund.ipynb",
   "output_path": "scripts/outputs/remove_exclusive_foreignfund.ipynb",
   "parameters": {
    "pub_filter_path": "../data/NationalFunding/Data/simulated_data/Data/DerivedData/Derived/dependence/pub_no_exclusive_int_fund.csv",
    "pubs_path": "../data/NationalFunding/Data/simulated_data/Data/DerivedData/CleanedRawData/pub.pkl"
   },
   "start_time": "2024-02-29T07:07:19.120385",
   "version": "2.3.4"
  }
 },
 "nbformat": 4,
 "nbformat_minor": 5
}