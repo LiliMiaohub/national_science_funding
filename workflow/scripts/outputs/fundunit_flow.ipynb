{
 "cells": [
  {
   "cell_type": "markdown",
   "id": "executed-firewall",
   "metadata": {
    "papermill": {
     "duration": 0.003966,
     "end_time": "2023-04-25T23:49:57.532423",
     "exception": false,
     "start_time": "2023-04-25T23:49:57.528457",
     "status": "completed"
    },
    "tags": []
   },
   "source": [
    "### this script calculates the flow of funding instances between countries"
   ]
  },
  {
   "cell_type": "code",
   "execution_count": 1,
   "id": "latest-waste",
   "metadata": {
    "execution": {
     "iopub.execute_input": "2023-04-25T23:49:57.537925Z",
     "iopub.status.busy": "2023-04-25T23:49:57.537170Z",
     "iopub.status.idle": "2023-04-25T23:49:57.783906Z",
     "shell.execute_reply": "2023-04-25T23:49:57.782808Z"
    },
    "papermill": {
     "duration": 0.253014,
     "end_time": "2023-04-25T23:49:57.787318",
     "exception": false,
     "start_time": "2023-04-25T23:49:57.534304",
     "status": "completed"
    },
    "tags": []
   },
   "outputs": [],
   "source": [
    "import pandas as pd\n",
    "from collections import Counter"
   ]
  },
  {
   "cell_type": "code",
   "execution_count": 2,
   "id": "connected-target",
   "metadata": {
    "execution": {
     "iopub.execute_input": "2023-04-25T23:49:57.797247Z",
     "iopub.status.busy": "2023-04-25T23:49:57.796434Z",
     "iopub.status.idle": "2023-04-25T23:49:57.801734Z",
     "shell.execute_reply": "2023-04-25T23:49:57.800689Z"
    },
    "papermill": {
     "duration": 0.011032,
     "end_time": "2023-04-25T23:49:57.803099",
     "exception": false,
     "start_time": "2023-04-25T23:49:57.792067",
     "status": "completed"
    },
    "tags": [
     "parameters"
    ]
   },
   "outputs": [],
   "source": [
    "pubs_path=\"../../../data/nf_folder/Data/DerivedData/CleanedRawData/pub.pkl\"\n",
    "\n",
    "flow_result = \"unit_flow.csv\""
   ]
  },
  {
   "cell_type": "code",
   "execution_count": 3,
   "id": "34851253",
   "metadata": {
    "execution": {
     "iopub.execute_input": "2023-04-25T23:49:57.808036Z",
     "iopub.status.busy": "2023-04-25T23:49:57.807613Z",
     "iopub.status.idle": "2023-04-25T23:49:57.810749Z",
     "shell.execute_reply": "2023-04-25T23:49:57.810138Z"
    },
    "papermill": {
     "duration": 0.007248,
     "end_time": "2023-04-25T23:49:57.812147",
     "exception": false,
     "start_time": "2023-04-25T23:49:57.804899",
     "status": "completed"
    },
    "tags": [
     "injected-parameters"
    ]
   },
   "outputs": [],
   "source": [
    "# Parameters\n",
    "pubs_path = \"../data/NationalFunding/Data/DerivedData/CleanedRawData/pub.pkl\"\n",
    "flow_result = \"../data/NationalFunding/Data/DerivedData/Derived/funding_unit_flow.csv\"\n"
   ]
  },
  {
   "cell_type": "code",
   "execution_count": 4,
   "id": "polished-lighting",
   "metadata": {
    "execution": {
     "iopub.execute_input": "2023-04-25T23:49:57.816905Z",
     "iopub.status.busy": "2023-04-25T23:49:57.816234Z",
     "iopub.status.idle": "2023-04-25T23:50:53.470726Z",
     "shell.execute_reply": "2023-04-25T23:50:53.469731Z"
    },
    "papermill": {
     "duration": 55.660284,
     "end_time": "2023-04-25T23:50:53.474190",
     "exception": false,
     "start_time": "2023-04-25T23:49:57.813906",
     "status": "completed"
    },
    "tags": []
   },
   "outputs": [],
   "source": [
    "pub_df=pd.read_pickle(pubs_path)"
   ]
  },
  {
   "cell_type": "code",
   "execution_count": 5,
   "id": "piano-abraham",
   "metadata": {
    "execution": {
     "iopub.execute_input": "2023-04-25T23:50:53.486565Z",
     "iopub.status.busy": "2023-04-25T23:50:53.485981Z",
     "iopub.status.idle": "2023-04-25T23:51:25.516109Z",
     "shell.execute_reply": "2023-04-25T23:51:25.515137Z"
    },
    "papermill": {
     "duration": 32.037748,
     "end_time": "2023-04-25T23:51:25.519773",
     "exception": false,
     "start_time": "2023-04-25T23:50:53.482025",
     "status": "completed"
    },
    "tags": []
   },
   "outputs": [],
   "source": [
    "dfvalues=pub_df[pub_df.funder!='Not-Funded'][['author_distinct','funder']].values\n",
    "reslist=[]\n",
    "for entry in dfvalues:\n",
    "    authorlist=entry[0]\n",
    "    funderlist=entry[1] #funding instances\n",
    "    counts=Counter(funderlist) #number of funding instances from funder country\n",
    "    num_author=len(authorlist)\n",
    "   \n",
    "    for funder,units in counts.items():\n",
    "        unit_rev=units/num_author #number of funding instances each author country gets\n",
    "        for author in authorlist:\n",
    "            reslist.append([funder,author,unit_rev])"
   ]
  },
  {
   "cell_type": "code",
   "execution_count": 6,
   "id": "particular-presence",
   "metadata": {
    "execution": {
     "iopub.execute_input": "2023-04-25T23:51:25.531338Z",
     "iopub.status.busy": "2023-04-25T23:51:25.530679Z",
     "iopub.status.idle": "2023-04-25T23:51:33.769462Z",
     "shell.execute_reply": "2023-04-25T23:51:33.768128Z"
    },
    "papermill": {
     "duration": 8.248368,
     "end_time": "2023-04-25T23:51:33.773237",
     "exception": false,
     "start_time": "2023-04-25T23:51:25.524869",
     "status": "completed"
    },
    "tags": []
   },
   "outputs": [],
   "source": [
    "res_df=pd.DataFrame(reslist,columns=['funder','author','units'])\n",
    "res_df=res_df.groupby(['funder','author'])['units'].sum().reset_index()\n",
    "res_df.to_csv(flow_result, index=False)"
   ]
  },
  {
   "cell_type": "code",
   "execution_count": null,
   "id": "grave-saver",
   "metadata": {
    "papermill": {
     "duration": 0.003053,
     "end_time": "2023-04-25T23:51:33.781454",
     "exception": false,
     "start_time": "2023-04-25T23:51:33.778401",
     "status": "completed"
    },
    "tags": []
   },
   "outputs": [],
   "source": []
  }
 ],
 "metadata": {
  "kernelspec": {
   "display_name": "Python 3 (ipykernel)",
   "language": "python",
   "name": "python3"
  },
  "language_info": {
   "codemirror_mode": {
    "name": "ipython",
    "version": 3
   },
   "file_extension": ".py",
   "mimetype": "text/x-python",
   "name": "python",
   "nbconvert_exporter": "python",
   "pygments_lexer": "ipython3",
   "version": "3.8.16"
  },
  "papermill": {
   "default_parameters": {},
   "duration": 100.677651,
   "end_time": "2023-04-25T23:51:36.804291",
   "environment_variables": {},
   "exception": null,
   "input_path": "scripts/fundunit_flow.ipynb",
   "output_path": "scripts/outputs/fundunit_flow.ipynb",
   "parameters": {
    "flow_result": "../data/NationalFunding/Data/DerivedData/Derived/funding_unit_flow.csv",
    "pubs_path": "../data/NationalFunding/Data/DerivedData/CleanedRawData/pub.pkl"
   },
   "start_time": "2023-04-25T23:49:56.126640",
   "version": "2.3.4"
  }
 },
 "nbformat": 4,
 "nbformat_minor": 5
}