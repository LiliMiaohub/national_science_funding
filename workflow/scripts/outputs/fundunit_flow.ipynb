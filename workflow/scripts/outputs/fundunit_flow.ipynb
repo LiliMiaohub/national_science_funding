{
 "cells": [
  {
   "cell_type": "markdown",
   "id": "executed-firewall",
   "metadata": {
    "papermill": {
     "duration": 0.002951,
     "end_time": "2024-02-28T23:29:32.436683",
     "exception": false,
     "start_time": "2024-02-28T23:29:32.433732",
     "status": "completed"
    },
    "tags": []
   },
   "source": [
    "### this script calculates the flow of funding instances between countries"
   ]
  },
  {
   "cell_type": "code",
   "execution_count": 1,
   "id": "latest-waste",
   "metadata": {
    "execution": {
     "iopub.execute_input": "2024-02-28T23:29:32.443602Z",
     "iopub.status.busy": "2024-02-28T23:29:32.442468Z",
     "iopub.status.idle": "2024-02-28T23:29:32.813642Z",
     "shell.execute_reply": "2024-02-28T23:29:32.812726Z"
    },
    "papermill": {
     "duration": 0.377979,
     "end_time": "2024-02-28T23:29:32.817058",
     "exception": false,
     "start_time": "2024-02-28T23:29:32.439079",
     "status": "completed"
    },
    "tags": []
   },
   "outputs": [],
   "source": [
    "import pandas as pd\n",
    "from collections import Counter"
   ]
  },
  {
   "cell_type": "code",
   "execution_count": 2,
   "id": "connected-target",
   "metadata": {
    "execution": {
     "iopub.execute_input": "2024-02-28T23:29:32.828006Z",
     "iopub.status.busy": "2024-02-28T23:29:32.827344Z",
     "iopub.status.idle": "2024-02-28T23:29:32.832327Z",
     "shell.execute_reply": "2024-02-28T23:29:32.831398Z"
    },
    "papermill": {
     "duration": 0.011881,
     "end_time": "2024-02-28T23:29:32.833726",
     "exception": false,
     "start_time": "2024-02-28T23:29:32.821845",
     "status": "completed"
    },
    "tags": [
     "parameters"
    ]
   },
   "outputs": [],
   "source": [
    "pubs_path=\"../../../data/nf_folder/Data/DerivedData/CleanedRawData/pub.pkl\"\n",
    "\n",
    "flow_result = \"unit_flow.csv\""
   ]
  },
  {
   "cell_type": "code",
   "execution_count": 3,
   "id": "4ce5a127",
   "metadata": {
    "execution": {
     "iopub.execute_input": "2024-02-28T23:29:32.838418Z",
     "iopub.status.busy": "2024-02-28T23:29:32.837958Z",
     "iopub.status.idle": "2024-02-28T23:29:32.841497Z",
     "shell.execute_reply": "2024-02-28T23:29:32.840808Z"
    },
    "papermill": {
     "duration": 0.007707,
     "end_time": "2024-02-28T23:29:32.843014",
     "exception": false,
     "start_time": "2024-02-28T23:29:32.835307",
     "status": "completed"
    },
    "tags": [
     "injected-parameters"
    ]
   },
   "outputs": [],
   "source": [
    "# Parameters\n",
    "pubs_path = \"../data/NationalFunding/Data/simulated_data/Data/DerivedData/CleanedRawData/pub.pkl\"\n",
    "flow_result = \"../data/NationalFunding/Data/simulated_data/Data/DerivedData/Derived/funding_unit_flow.csv\"\n"
   ]
  },
  {
   "cell_type": "code",
   "execution_count": 4,
   "id": "polished-lighting",
   "metadata": {
    "execution": {
     "iopub.execute_input": "2024-02-28T23:29:32.847807Z",
     "iopub.status.busy": "2024-02-28T23:29:32.847073Z",
     "iopub.status.idle": "2024-02-28T23:29:36.218954Z",
     "shell.execute_reply": "2024-02-28T23:29:36.217969Z"
    },
    "papermill": {
     "duration": 3.377602,
     "end_time": "2024-02-28T23:29:36.222353",
     "exception": false,
     "start_time": "2024-02-28T23:29:32.844751",
     "status": "completed"
    },
    "tags": []
   },
   "outputs": [],
   "source": [
    "pub_df=pd.read_pickle(pubs_path)"
   ]
  },
  {
   "cell_type": "code",
   "execution_count": 5,
   "id": "piano-abraham",
   "metadata": {
    "execution": {
     "iopub.execute_input": "2024-02-28T23:29:36.233107Z",
     "iopub.status.busy": "2024-02-28T23:29:36.232481Z",
     "iopub.status.idle": "2024-02-28T23:29:39.096198Z",
     "shell.execute_reply": "2024-02-28T23:29:39.094982Z"
    },
    "papermill": {
     "duration": 2.872799,
     "end_time": "2024-02-28T23:29:39.099844",
     "exception": false,
     "start_time": "2024-02-28T23:29:36.227045",
     "status": "completed"
    },
    "tags": []
   },
   "outputs": [],
   "source": [
    "dfvalues=pub_df[pub_df.funder!='Not-Funded'][['author_distinct','funder']].values\n",
    "reslist=[]\n",
    "for entry in dfvalues:\n",
    "    authorlist=entry[0]\n",
    "    funderlist=entry[1] #funding instances\n",
    "    counts=Counter(funderlist) #number of funding instances from funder country\n",
    "    num_author=len(authorlist)\n",
    "   \n",
    "    for funder,units in counts.items():\n",
    "        unit_rev=units/num_author #number of funding instances each author country gets\n",
    "        for author in authorlist:\n",
    "            reslist.append([funder,author,unit_rev])"
   ]
  },
  {
   "cell_type": "code",
   "execution_count": 6,
   "id": "particular-presence",
   "metadata": {
    "execution": {
     "iopub.execute_input": "2024-02-28T23:29:39.109858Z",
     "iopub.status.busy": "2024-02-28T23:29:39.109605Z",
     "iopub.status.idle": "2024-02-28T23:29:41.468479Z",
     "shell.execute_reply": "2024-02-28T23:29:41.466951Z"
    },
    "papermill": {
     "duration": 2.367198,
     "end_time": "2024-02-28T23:29:41.472279",
     "exception": false,
     "start_time": "2024-02-28T23:29:39.105081",
     "status": "completed"
    },
    "tags": []
   },
   "outputs": [],
   "source": [
    "res_df=pd.DataFrame(reslist,columns=['funder','author','units'])\n",
    "res_df=res_df.groupby(['funder','author'])['units'].sum().reset_index()\n",
    "res_df.to_csv(flow_result, index=False)"
   ]
  },
  {
   "cell_type": "code",
   "execution_count": null,
   "id": "grave-saver",
   "metadata": {
    "papermill": {
     "duration": 0.004569,
     "end_time": "2024-02-28T23:29:41.482237",
     "exception": false,
     "start_time": "2024-02-28T23:29:41.477668",
     "status": "completed"
    },
    "tags": []
   },
   "outputs": [],
   "source": []
  }
 ],
 "metadata": {
  "kernelspec": {
   "display_name": "Python 3 (ipykernel)",
   "language": "python",
   "name": "python3"
  },
  "language_info": {
   "codemirror_mode": {
    "name": "ipython",
    "version": 3
   },
   "file_extension": ".py",
   "mimetype": "text/x-python",
   "name": "python",
   "nbconvert_exporter": "python",
   "pygments_lexer": "ipython3",
   "version": "3.8.16"
  },
  "papermill": {
   "default_parameters": {},
   "duration": 11.525379,
   "end_time": "2024-02-28T23:29:42.705343",
   "environment_variables": {},
   "exception": null,
   "input_path": "scripts/fundunit_flow.ipynb",
   "output_path": "scripts/outputs/fundunit_flow.ipynb",
   "parameters": {
    "flow_result": "../data/NationalFunding/Data/simulated_data/Data/DerivedData/Derived/funding_unit_flow.csv",
    "pubs_path": "../data/NationalFunding/Data/simulated_data/Data/DerivedData/CleanedRawData/pub.pkl"
   },
   "start_time": "2024-02-28T23:29:31.179964",
   "version": "2.3.4"
  }
 },
 "nbformat": 4,
 "nbformat_minor": 5
}