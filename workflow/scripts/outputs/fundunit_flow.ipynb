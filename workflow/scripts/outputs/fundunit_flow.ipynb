{
 "cells": [
  {
   "cell_type": "markdown",
   "id": "executed-firewall",
   "metadata": {
    "papermill": {
     "duration": 0.00531,
     "end_time": "2023-08-21T17:28:50.806716",
     "exception": false,
     "start_time": "2023-08-21T17:28:50.801406",
     "status": "completed"
    },
    "tags": []
   },
   "source": [
    "### this script calculates the flow of funding instances between countries"
   ]
  },
  {
   "cell_type": "code",
   "execution_count": 1,
   "id": "latest-waste",
   "metadata": {
    "execution": {
     "iopub.execute_input": "2023-08-21T17:28:50.816125Z",
     "iopub.status.busy": "2023-08-21T17:28:50.815087Z",
     "iopub.status.idle": "2023-08-21T17:28:51.174845Z",
     "shell.execute_reply": "2023-08-21T17:28:51.173933Z"
    },
    "papermill": {
     "duration": 0.367318,
     "end_time": "2023-08-21T17:28:51.178333",
     "exception": false,
     "start_time": "2023-08-21T17:28:50.811015",
     "status": "completed"
    },
    "tags": []
   },
   "outputs": [],
   "source": [
    "import pandas as pd\n",
    "from collections import Counter"
   ]
  },
  {
   "cell_type": "code",
   "execution_count": 2,
   "id": "connected-target",
   "metadata": {
    "execution": {
     "iopub.execute_input": "2023-08-21T17:28:51.188867Z",
     "iopub.status.busy": "2023-08-21T17:28:51.187743Z",
     "iopub.status.idle": "2023-08-21T17:28:51.193536Z",
     "shell.execute_reply": "2023-08-21T17:28:51.192469Z"
    },
    "papermill": {
     "duration": 0.012119,
     "end_time": "2023-08-21T17:28:51.195091",
     "exception": false,
     "start_time": "2023-08-21T17:28:51.182972",
     "status": "completed"
    },
    "tags": [
     "parameters"
    ]
   },
   "outputs": [],
   "source": [
    "pubs_path=\"../../../data/nf_folder/Data/DerivedData/CleanedRawData/pub.pkl\"\n",
    "\n",
    "flow_result = \"unit_flow.csv\""
   ]
  },
  {
   "cell_type": "code",
   "execution_count": 3,
   "id": "c7262711",
   "metadata": {
    "execution": {
     "iopub.execute_input": "2023-08-21T17:28:51.199628Z",
     "iopub.status.busy": "2023-08-21T17:28:51.199345Z",
     "iopub.status.idle": "2023-08-21T17:28:51.202479Z",
     "shell.execute_reply": "2023-08-21T17:28:51.201888Z"
    },
    "papermill": {
     "duration": 0.007282,
     "end_time": "2023-08-21T17:28:51.203982",
     "exception": false,
     "start_time": "2023-08-21T17:28:51.196700",
     "status": "completed"
    },
    "tags": [
     "injected-parameters"
    ]
   },
   "outputs": [],
   "source": [
    "# Parameters\n",
    "pubs_path = \"../data/NationalFunding/Data/DerivedData/CleanedRawData/pub.pkl\"\n",
    "flow_result = \"../data/NationalFunding/Data/DerivedData/Derived/funding_unit_flow.csv\"\n"
   ]
  },
  {
   "cell_type": "code",
   "execution_count": 4,
   "id": "polished-lighting",
   "metadata": {
    "execution": {
     "iopub.execute_input": "2023-08-21T17:28:51.208469Z",
     "iopub.status.busy": "2023-08-21T17:28:51.207937Z",
     "iopub.status.idle": "2023-08-21T17:29:44.554518Z",
     "shell.execute_reply": "2023-08-21T17:29:44.553251Z"
    },
    "papermill": {
     "duration": 53.352721,
     "end_time": "2023-08-21T17:29:44.558333",
     "exception": false,
     "start_time": "2023-08-21T17:28:51.205612",
     "status": "completed"
    },
    "tags": []
   },
   "outputs": [],
   "source": [
    "pub_df=pd.read_pickle(pubs_path)"
   ]
  },
  {
   "cell_type": "code",
   "execution_count": 5,
   "id": "piano-abraham",
   "metadata": {
    "execution": {
     "iopub.execute_input": "2023-08-21T17:29:44.570004Z",
     "iopub.status.busy": "2023-08-21T17:29:44.569299Z",
     "iopub.status.idle": "2023-08-21T17:30:16.116295Z",
     "shell.execute_reply": "2023-08-21T17:30:16.114829Z"
    },
    "papermill": {
     "duration": 31.556765,
     "end_time": "2023-08-21T17:30:16.120232",
     "exception": false,
     "start_time": "2023-08-21T17:29:44.563467",
     "status": "completed"
    },
    "tags": []
   },
   "outputs": [],
   "source": [
    "dfvalues=pub_df[pub_df.funder!='Not-Funded'][['author_distinct','funder']].values\n",
    "reslist=[]\n",
    "for entry in dfvalues:\n",
    "    authorlist=entry[0]\n",
    "    funderlist=entry[1] #funding instances\n",
    "    counts=Counter(funderlist) #number of funding instances from funder country\n",
    "    num_author=len(authorlist)\n",
    "   \n",
    "    for funder,units in counts.items():\n",
    "        unit_rev=units/num_author #number of funding instances each author country gets\n",
    "        for author in authorlist:\n",
    "            reslist.append([funder,author,unit_rev])"
   ]
  },
  {
   "cell_type": "code",
   "execution_count": 6,
   "id": "particular-presence",
   "metadata": {
    "execution": {
     "iopub.execute_input": "2023-08-21T17:30:16.131947Z",
     "iopub.status.busy": "2023-08-21T17:30:16.131128Z",
     "iopub.status.idle": "2023-08-21T17:30:28.683767Z",
     "shell.execute_reply": "2023-08-21T17:30:28.682361Z"
    },
    "papermill": {
     "duration": 12.562344,
     "end_time": "2023-08-21T17:30:28.687717",
     "exception": false,
     "start_time": "2023-08-21T17:30:16.125373",
     "status": "completed"
    },
    "tags": []
   },
   "outputs": [],
   "source": [
    "res_df=pd.DataFrame(reslist,columns=['funder','author','units'])\n",
    "res_df=res_df.groupby(['funder','author'])['units'].sum().reset_index()\n",
    "res_df.to_csv(flow_result, index=False)"
   ]
  },
  {
   "cell_type": "code",
   "execution_count": null,
   "id": "grave-saver",
   "metadata": {
    "papermill": {
     "duration": 0.004138,
     "end_time": "2023-08-21T17:30:28.697141",
     "exception": false,
     "start_time": "2023-08-21T17:30:28.693003",
     "status": "completed"
    },
    "tags": []
   },
   "outputs": [],
   "source": []
  }
 ],
 "metadata": {
  "kernelspec": {
   "display_name": "Python 3 (ipykernel)",
   "language": "python",
   "name": "python3"
  },
  "language_info": {
   "codemirror_mode": {
    "name": "ipython",
    "version": 3
   },
   "file_extension": ".py",
   "mimetype": "text/x-python",
   "name": "python",
   "nbconvert_exporter": "python",
   "pygments_lexer": "ipython3",
   "version": "3.8.16"
  },
  "papermill": {
   "default_parameters": {},
   "duration": 102.62404,
   "end_time": "2023-08-21T17:30:32.020519",
   "environment_variables": {},
   "exception": null,
   "input_path": "scripts/fundunit_flow.ipynb",
   "output_path": "scripts/outputs/fundunit_flow.ipynb",
   "parameters": {
    "flow_result": "../data/NationalFunding/Data/DerivedData/Derived/funding_unit_flow.csv",
    "pubs_path": "../data/NationalFunding/Data/DerivedData/CleanedRawData/pub.pkl"
   },
   "start_time": "2023-08-21T17:28:49.396479",
   "version": "2.3.4"
  }
 },
 "nbformat": 4,
 "nbformat_minor": 5
}