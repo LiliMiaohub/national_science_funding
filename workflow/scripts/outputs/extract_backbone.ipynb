{
 "cells": [
  {
   "cell_type": "code",
   "execution_count": 1,
   "id": "0a2cd08a-49c9-48b4-9206-2b69afd20c79",
   "metadata": {
    "execution": {
     "iopub.execute_input": "2023-04-28T00:15:26.026549Z",
     "iopub.status.busy": "2023-04-28T00:15:26.025426Z",
     "iopub.status.idle": "2023-04-28T00:15:27.088219Z",
     "shell.execute_reply": "2023-04-28T00:15:27.087292Z"
    },
    "papermill": {
     "duration": 1.071315,
     "end_time": "2023-04-28T00:15:27.091341",
     "exception": false,
     "start_time": "2023-04-28T00:15:26.020026",
     "status": "completed"
    },
    "tags": []
   },
   "outputs": [],
   "source": [
    "import pandas as pd\n",
    "import seaborn as sns\n",
    "import networkx as nx\n",
    "import numpy as np\n",
    "from funding import core"
   ]
  },
  {
   "cell_type": "code",
   "execution_count": 2,
   "id": "b0962fe4-5299-4673-b488-dc51ff9e81e3",
   "metadata": {
    "execution": {
     "iopub.execute_input": "2023-04-28T00:15:27.101548Z",
     "iopub.status.busy": "2023-04-28T00:15:27.100795Z",
     "iopub.status.idle": "2023-04-28T00:15:27.105954Z",
     "shell.execute_reply": "2023-04-28T00:15:27.105177Z"
    },
    "papermill": {
     "duration": 0.010168,
     "end_time": "2023-04-28T00:15:27.107370",
     "exception": false,
     "start_time": "2023-04-28T00:15:27.097202",
     "status": "completed"
    },
    "tags": [
     "parameters"
    ]
   },
   "outputs": [],
   "source": [
    "all2all_path = \"../../data/NationalFunding/Data/DerivedData/Derived/dependence/pub_noforeign_fund_all2all.csv\"\n",
    "cntry_region_path = '../../data/NationalFunding/Data/AdditionalData/cntry_region.xlsx'\n",
    "fund_frac_path=\"../../data/NationalFunding/Data/DerivedData/Derived/cntry_fund_frac.csv\"\n",
    "backbone_net_path = \"backbone.gexf\""
   ]
  },
  {
   "cell_type": "code",
   "execution_count": 3,
   "id": "f29987f1",
   "metadata": {
    "execution": {
     "iopub.execute_input": "2023-04-28T00:15:27.113970Z",
     "iopub.status.busy": "2023-04-28T00:15:27.113276Z",
     "iopub.status.idle": "2023-04-28T00:15:27.117787Z",
     "shell.execute_reply": "2023-04-28T00:15:27.116976Z"
    },
    "papermill": {
     "duration": 0.009254,
     "end_time": "2023-04-28T00:15:27.119077",
     "exception": false,
     "start_time": "2023-04-28T00:15:27.109823",
     "status": "completed"
    },
    "tags": [
     "injected-parameters"
    ]
   },
   "outputs": [],
   "source": [
    "# Parameters\n",
    "all2all_path = \"../data/NationalFunding/Data/DerivedData/Derived/dependence/pub_noforeign_fund_all2all.csv\"\n",
    "cntry_region_path = \"../data/NationalFunding/Data/AdditionalData/cntry_region.xlsx\"\n",
    "fund_frac_path = \"../data/NationalFunding/Data/DerivedData/Derived/cntry_fund_frac.csv\"\n",
    "backbone_net_path = \"../data/NationalFunding/Data/DerivedData/Derived/dependence/all2all_backbone_alpha0005.gexf\"\n"
   ]
  },
  {
   "cell_type": "code",
   "execution_count": 4,
   "id": "f8bf803e-743a-4e52-858e-50bdc231a4dd",
   "metadata": {
    "execution": {
     "iopub.execute_input": "2023-04-28T00:15:27.124496Z",
     "iopub.status.busy": "2023-04-28T00:15:27.124184Z",
     "iopub.status.idle": "2023-04-28T00:15:27.622532Z",
     "shell.execute_reply": "2023-04-28T00:15:27.621585Z"
    },
    "papermill": {
     "duration": 0.503073,
     "end_time": "2023-04-28T00:15:27.624334",
     "exception": false,
     "start_time": "2023-04-28T00:15:27.121261",
     "status": "completed"
    },
    "tags": [
     "parameters"
    ]
   },
   "outputs": [],
   "source": [
    "all2all_df = pd.read_csv(all2all_path)"
   ]
  },
  {
   "cell_type": "code",
   "execution_count": 5,
   "id": "f892d1ef-e306-419a-9eb5-526cc9007c10",
   "metadata": {
    "execution": {
     "iopub.execute_input": "2023-04-28T00:15:27.630934Z",
     "iopub.status.busy": "2023-04-28T00:15:27.630467Z",
     "iopub.status.idle": "2023-04-28T00:15:27.643717Z",
     "shell.execute_reply": "2023-04-28T00:15:27.642905Z"
    },
    "papermill": {
     "duration": 0.018054,
     "end_time": "2023-04-28T00:15:27.645130",
     "exception": false,
     "start_time": "2023-04-28T00:15:27.627076",
     "status": "completed"
    },
    "tags": []
   },
   "outputs": [],
   "source": [
    "all2all_df=all2all_df[(all2all_df.source!=all2all_df.target) & (all2all_df.p!=0)] #remove selfloop and remove 0 weight\n",
    "all2all_df=all2all_df[['source','target','p']]\n",
    "all2all_df.columns=['source','target','weight']"
   ]
  },
  {
   "cell_type": "code",
   "execution_count": 6,
   "id": "ae550d23-31da-495f-a920-eac804e04950",
   "metadata": {
    "execution": {
     "iopub.execute_input": "2023-04-28T00:15:27.651553Z",
     "iopub.status.busy": "2023-04-28T00:15:27.650976Z",
     "iopub.status.idle": "2023-04-28T00:15:28.167594Z",
     "shell.execute_reply": "2023-04-28T00:15:28.166627Z"
    },
    "papermill": {
     "duration": 0.521637,
     "end_time": "2023-04-28T00:15:28.169151",
     "exception": false,
     "start_time": "2023-04-28T00:15:27.647514",
     "status": "completed"
    },
    "tags": []
   },
   "outputs": [
    {
     "data": {
      "text/html": [
       "<div>\n",
       "<style scoped>\n",
       "    .dataframe tbody tr th:only-of-type {\n",
       "        vertical-align: middle;\n",
       "    }\n",
       "\n",
       "    .dataframe tbody tr th {\n",
       "        vertical-align: top;\n",
       "    }\n",
       "\n",
       "    .dataframe thead th {\n",
       "        text-align: right;\n",
       "    }\n",
       "</style>\n",
       "<table border=\"1\" class=\"dataframe\">\n",
       "  <thead>\n",
       "    <tr style=\"text-align: right;\">\n",
       "      <th></th>\n",
       "      <th>funder</th>\n",
       "      <th>count</th>\n",
       "      <th>cnt_log</th>\n",
       "    </tr>\n",
       "  </thead>\n",
       "  <tbody>\n",
       "    <tr>\n",
       "      <th>0</th>\n",
       "      <td>Afghanistan</td>\n",
       "      <td>3.089135</td>\n",
       "      <td>1.127891</td>\n",
       "    </tr>\n",
       "    <tr>\n",
       "      <th>1</th>\n",
       "      <td>Albania</td>\n",
       "      <td>17.032612</td>\n",
       "      <td>2.835130</td>\n",
       "    </tr>\n",
       "    <tr>\n",
       "      <th>2</th>\n",
       "      <td>Algeria</td>\n",
       "      <td>1824.735809</td>\n",
       "      <td>7.509190</td>\n",
       "    </tr>\n",
       "    <tr>\n",
       "      <th>3</th>\n",
       "      <td>Andorra</td>\n",
       "      <td>27.341270</td>\n",
       "      <td>3.308397</td>\n",
       "    </tr>\n",
       "    <tr>\n",
       "      <th>4</th>\n",
       "      <td>Angola</td>\n",
       "      <td>24.671520</td>\n",
       "      <td>3.205650</td>\n",
       "    </tr>\n",
       "  </tbody>\n",
       "</table>\n",
       "</div>"
      ],
      "text/plain": [
       "        funder        count   cnt_log\n",
       "0  Afghanistan     3.089135  1.127891\n",
       "1      Albania    17.032612  2.835130\n",
       "2      Algeria  1824.735809  7.509190\n",
       "3      Andorra    27.341270  3.308397\n",
       "4       Angola    24.671520  3.205650"
      ]
     },
     "execution_count": 6,
     "metadata": {},
     "output_type": "execute_result"
    }
   ],
   "source": [
    "fund_df=pd.read_csv(fund_frac_path)\n",
    "fund_df = fund_df.groupby(['funder'])['cnt'].sum().reset_index(name='count')\n",
    "fund_df['cnt_log']=np.log(fund_df['count'])\n",
    "fund_df.head()"
   ]
  },
  {
   "cell_type": "code",
   "execution_count": 7,
   "id": "c669c7cf-57d9-4f7d-8b28-d62031aedd91",
   "metadata": {
    "execution": {
     "iopub.execute_input": "2023-04-28T00:15:28.178403Z",
     "iopub.status.busy": "2023-04-28T00:15:28.177997Z",
     "iopub.status.idle": "2023-04-28T00:15:30.366049Z",
     "shell.execute_reply": "2023-04-28T00:15:30.365034Z"
    },
    "papermill": {
     "duration": 2.195658,
     "end_time": "2023-04-28T00:15:30.367731",
     "exception": false,
     "start_time": "2023-04-28T00:15:28.172073",
     "status": "completed"
    },
    "tags": []
   },
   "outputs": [
    {
     "data": {
      "text/html": [
       "<div>\n",
       "<style scoped>\n",
       "    .dataframe tbody tr th:only-of-type {\n",
       "        vertical-align: middle;\n",
       "    }\n",
       "\n",
       "    .dataframe tbody tr th {\n",
       "        vertical-align: top;\n",
       "    }\n",
       "\n",
       "    .dataframe thead th {\n",
       "        text-align: right;\n",
       "    }\n",
       "</style>\n",
       "<table border=\"1\" class=\"dataframe\">\n",
       "  <thead>\n",
       "    <tr style=\"text-align: right;\">\n",
       "      <th></th>\n",
       "      <th>cntry</th>\n",
       "      <th>region1</th>\n",
       "      <th>eulabel</th>\n",
       "      <th>region</th>\n",
       "      <th>region2</th>\n",
       "    </tr>\n",
       "  </thead>\n",
       "  <tbody>\n",
       "    <tr>\n",
       "      <th>0</th>\n",
       "      <td>Algeria</td>\n",
       "      <td>Africa</td>\n",
       "      <td>NaN</td>\n",
       "      <td>Africa</td>\n",
       "      <td>Africa</td>\n",
       "    </tr>\n",
       "    <tr>\n",
       "      <th>1</th>\n",
       "      <td>Angola</td>\n",
       "      <td>Africa</td>\n",
       "      <td>NaN</td>\n",
       "      <td>Africa</td>\n",
       "      <td>Africa</td>\n",
       "    </tr>\n",
       "    <tr>\n",
       "      <th>2</th>\n",
       "      <td>Belgian Congo</td>\n",
       "      <td>Africa</td>\n",
       "      <td>NaN</td>\n",
       "      <td>Africa</td>\n",
       "      <td>Africa</td>\n",
       "    </tr>\n",
       "    <tr>\n",
       "      <th>3</th>\n",
       "      <td>Benin</td>\n",
       "      <td>Africa</td>\n",
       "      <td>NaN</td>\n",
       "      <td>Africa</td>\n",
       "      <td>Africa</td>\n",
       "    </tr>\n",
       "    <tr>\n",
       "      <th>4</th>\n",
       "      <td>Botswana</td>\n",
       "      <td>Africa</td>\n",
       "      <td>NaN</td>\n",
       "      <td>Africa</td>\n",
       "      <td>Africa</td>\n",
       "    </tr>\n",
       "  </tbody>\n",
       "</table>\n",
       "</div>"
      ],
      "text/plain": [
       "           cntry region1  eulabel  region region2\n",
       "0        Algeria  Africa      NaN  Africa  Africa\n",
       "1         Angola  Africa      NaN  Africa  Africa\n",
       "2  Belgian Congo  Africa      NaN  Africa  Africa\n",
       "3          Benin  Africa      NaN  Africa  Africa\n",
       "4       Botswana  Africa      NaN  Africa  Africa"
      ]
     },
     "execution_count": 7,
     "metadata": {},
     "output_type": "execute_result"
    }
   ],
   "source": [
    "cntry_region = pd.read_excel(cntry_region_path)\n",
    "cntry_region = cntry_region.replace(to_replace={'region2':{'EU':'Europe','Other Europe':'Europe'}})\n",
    "cntry_region.head()"
   ]
  },
  {
   "cell_type": "markdown",
   "id": "1866d232-658e-47e7-bc3a-c579b0f4a595",
   "metadata": {
    "papermill": {
     "duration": 0.002839,
     "end_time": "2023-04-28T00:15:30.374063",
     "exception": false,
     "start_time": "2023-04-28T00:15:30.371224",
     "status": "completed"
    },
    "tags": []
   },
   "source": [
    "## create network"
   ]
  },
  {
   "cell_type": "code",
   "execution_count": 8,
   "id": "4c2d41f4-bdde-4b92-b25a-ffcac5a6e609",
   "metadata": {
    "execution": {
     "iopub.execute_input": "2023-04-28T00:15:30.380538Z",
     "iopub.status.busy": "2023-04-28T00:15:30.380297Z",
     "iopub.status.idle": "2023-04-28T00:15:31.155430Z",
     "shell.execute_reply": "2023-04-28T00:15:31.154214Z"
    },
    "papermill": {
     "duration": 0.782315,
     "end_time": "2023-04-28T00:15:31.159031",
     "exception": false,
     "start_time": "2023-04-28T00:15:30.376716",
     "status": "completed"
    },
    "tags": []
   },
   "outputs": [],
   "source": [
    "net = nx.DiGraph()\n",
    "for i, row in all2all_df.iterrows():\n",
    "    net.add_edge(row['source'], row['target'], weight=row['weight'])"
   ]
  },
  {
   "cell_type": "markdown",
   "id": "8662f38f-773b-4bbb-b20d-f03af2896757",
   "metadata": {
    "papermill": {
     "duration": 0.002743,
     "end_time": "2023-04-28T00:15:31.169463",
     "exception": false,
     "start_time": "2023-04-28T00:15:31.166720",
     "status": "completed"
    },
    "tags": []
   },
   "source": [
    "## set the attributes of nodes"
   ]
  },
  {
   "cell_type": "code",
   "execution_count": 9,
   "id": "95325847-b42a-443d-8d03-a0f0577aa02f",
   "metadata": {
    "execution": {
     "iopub.execute_input": "2023-04-28T00:15:31.176648Z",
     "iopub.status.busy": "2023-04-28T00:15:31.176151Z",
     "iopub.status.idle": "2023-04-28T00:15:31.182201Z",
     "shell.execute_reply": "2023-04-28T00:15:31.181256Z"
    },
    "papermill": {
     "duration": 0.011827,
     "end_time": "2023-04-28T00:15:31.184040",
     "exception": false,
     "start_time": "2023-04-28T00:15:31.172213",
     "status": "completed"
    },
    "tags": []
   },
   "outputs": [],
   "source": [
    "fund_dict=dict(zip(fund_df['funder'],fund_df['cnt_log']))\n",
    "region_dict=dict(zip(cntry_region['cntry'],cntry_region['region2']))"
   ]
  },
  {
   "cell_type": "code",
   "execution_count": 10,
   "id": "63bea7b1-1621-48ae-aa78-cc301a921b82",
   "metadata": {
    "execution": {
     "iopub.execute_input": "2023-04-28T00:15:31.191633Z",
     "iopub.status.busy": "2023-04-28T00:15:31.191328Z",
     "iopub.status.idle": "2023-04-28T00:15:31.195921Z",
     "shell.execute_reply": "2023-04-28T00:15:31.195252Z"
    },
    "papermill": {
     "duration": 0.009907,
     "end_time": "2023-04-28T00:15:31.197381",
     "exception": false,
     "start_time": "2023-04-28T00:15:31.187474",
     "status": "completed"
    },
    "tags": []
   },
   "outputs": [],
   "source": [
    "nx.set_node_attributes(net,0,'fund')\n",
    "nx.set_node_attributes(net,0,'region')\n",
    "nx.set_node_attributes(net,fund_dict,'fund')\n",
    "nx.set_node_attributes(net,region_dict,'region')"
   ]
  },
  {
   "cell_type": "code",
   "execution_count": 11,
   "id": "cbd5f4a3-aaab-43a8-8a02-d454039d1a00",
   "metadata": {
    "execution": {
     "iopub.execute_input": "2023-04-28T00:15:31.204229Z",
     "iopub.status.busy": "2023-04-28T00:15:31.203961Z",
     "iopub.status.idle": "2023-04-28T00:15:31.602988Z",
     "shell.execute_reply": "2023-04-28T00:15:31.602046Z"
    },
    "papermill": {
     "duration": 0.404537,
     "end_time": "2023-04-28T00:15:31.604904",
     "exception": false,
     "start_time": "2023-04-28T00:15:31.200367",
     "status": "completed"
    },
    "tags": []
   },
   "outputs": [],
   "source": [
    "net_alpha = core.disparity_filter(net)"
   ]
  },
  {
   "cell_type": "code",
   "execution_count": 12,
   "id": "c5a11596-746f-4753-86aa-703ae2b07052",
   "metadata": {
    "execution": {
     "iopub.execute_input": "2023-04-28T00:15:31.613332Z",
     "iopub.status.busy": "2023-04-28T00:15:31.612942Z",
     "iopub.status.idle": "2023-04-28T00:15:31.625074Z",
     "shell.execute_reply": "2023-04-28T00:15:31.624283Z"
    },
    "papermill": {
     "duration": 0.018335,
     "end_time": "2023-04-28T00:15:31.626508",
     "exception": false,
     "start_time": "2023-04-28T00:15:31.608173",
     "status": "completed"
    },
    "tags": []
   },
   "outputs": [],
   "source": [
    "alpha = 0.005\n",
    "selected_edges = [(u, v) for u, v, attrs in net_alpha.edges(data=True) if attrs.get('alpha_in', 0) < alpha]\n",
    "selected_graph = net.edge_subgraph(selected_edges)"
   ]
  },
  {
   "cell_type": "code",
   "execution_count": 13,
   "id": "f9e6eb6e-aae5-4373-b178-f5ad50b3b3d2",
   "metadata": {
    "execution": {
     "iopub.execute_input": "2023-04-28T00:15:31.633773Z",
     "iopub.status.busy": "2023-04-28T00:15:31.633475Z",
     "iopub.status.idle": "2023-04-28T00:15:32.623333Z",
     "shell.execute_reply": "2023-04-28T00:15:32.621943Z"
    },
    "papermill": {
     "duration": 0.997682,
     "end_time": "2023-04-28T00:15:32.627094",
     "exception": false,
     "start_time": "2023-04-28T00:15:31.629412",
     "status": "completed"
    },
    "tags": []
   },
   "outputs": [],
   "source": [
    "nx.write_gexf(selected_graph, backbone_net_path)"
   ]
  }
 ],
 "metadata": {
  "kernelspec": {
   "display_name": "Python 3 (ipykernel)",
   "language": "python",
   "name": "python3"
  },
  "language_info": {
   "codemirror_mode": {
    "name": "ipython",
    "version": 3
   },
   "file_extension": ".py",
   "mimetype": "text/x-python",
   "name": "python",
   "nbconvert_exporter": "python",
   "pygments_lexer": "ipython3",
   "version": "3.8.16"
  },
  "papermill": {
   "default_parameters": {},
   "duration": 8.377061,
   "end_time": "2023-04-28T00:15:33.154558",
   "environment_variables": {},
   "exception": null,
   "input_path": "scripts/extract_backbone.ipynb",
   "output_path": "scripts/outputs/extract_backbone.ipynb",
   "parameters": {
    "all2all_path": "../data/NationalFunding/Data/DerivedData/Derived/dependence/pub_noforeign_fund_all2all.csv",
    "backbone_net_path": "../data/NationalFunding/Data/DerivedData/Derived/dependence/all2all_backbone_alpha0005.gexf",
    "cntry_region_path": "../data/NationalFunding/Data/AdditionalData/cntry_region.xlsx",
    "fund_frac_path": "../data/NationalFunding/Data/DerivedData/Derived/cntry_fund_frac.csv"
   },
   "start_time": "2023-04-28T00:15:24.777497",
   "version": "2.3.4"
  }
 },
 "nbformat": 4,
 "nbformat_minor": 5
}