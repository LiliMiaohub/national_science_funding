{
 "cells": [
  {
   "cell_type": "code",
   "execution_count": 1,
   "id": "0a2cd08a-49c9-48b4-9206-2b69afd20c79",
   "metadata": {
    "execution": {
     "iopub.execute_input": "2024-02-29T07:06:21.578857Z",
     "iopub.status.busy": "2024-02-29T07:06:21.577774Z",
     "iopub.status.idle": "2024-02-29T07:06:22.788195Z",
     "shell.execute_reply": "2024-02-29T07:06:22.787135Z"
    },
    "papermill": {
     "duration": 1.219076,
     "end_time": "2024-02-29T07:06:22.791706",
     "exception": false,
     "start_time": "2024-02-29T07:06:21.572630",
     "status": "completed"
    },
    "tags": []
   },
   "outputs": [],
   "source": [
    "import pandas as pd\n",
    "import seaborn as sns\n",
    "import networkx as nx\n",
    "import numpy as np\n",
    "from funding import core\n",
    "import os"
   ]
  },
  {
   "cell_type": "code",
   "execution_count": 2,
   "id": "b0962fe4-5299-4673-b488-dc51ff9e81e3",
   "metadata": {
    "execution": {
     "iopub.execute_input": "2024-02-29T07:06:22.802760Z",
     "iopub.status.busy": "2024-02-29T07:06:22.802285Z",
     "iopub.status.idle": "2024-02-29T07:06:22.806436Z",
     "shell.execute_reply": "2024-02-29T07:06:22.805724Z"
    },
    "papermill": {
     "duration": 0.008957,
     "end_time": "2024-02-29T07:06:22.807875",
     "exception": false,
     "start_time": "2024-02-29T07:06:22.798918",
     "status": "completed"
    },
    "tags": [
     "parameters"
    ]
   },
   "outputs": [],
   "source": [
    "all2all_path = \"../../data/NationalFunding/Data/DerivedData/Derived/dependence/pub_noforeign_fund_all2all.csv\"\n",
    "cntry_region_path = '../../data/NationalFunding/Data/AdditionalData/cntry_region.xlsx'\n",
    "fund_frac_path=\"../../data/NationalFunding/Data/DerivedData/Derived/cntry_fund_frac.csv\"\n",
    "backbone_net_path = \"../../data/NationalFunding/Data/DerivedData/Derived/all2all_backbone_alpha1.gexf\""
   ]
  },
  {
   "cell_type": "code",
   "execution_count": 3,
   "id": "5c33807c",
   "metadata": {
    "execution": {
     "iopub.execute_input": "2024-02-29T07:06:22.814253Z",
     "iopub.status.busy": "2024-02-29T07:06:22.813983Z",
     "iopub.status.idle": "2024-02-29T07:06:22.817499Z",
     "shell.execute_reply": "2024-02-29T07:06:22.816843Z"
    },
    "papermill": {
     "duration": 0.00819,
     "end_time": "2024-02-29T07:06:22.818755",
     "exception": false,
     "start_time": "2024-02-29T07:06:22.810565",
     "status": "completed"
    },
    "tags": [
     "injected-parameters"
    ]
   },
   "outputs": [],
   "source": [
    "# Parameters\n",
    "all2all_path = \"../data/NationalFunding/Data/simulated_data/Data/DerivedData/Derived/dependence/pub_noforeign_fund_all2all.csv\"\n",
    "cntry_region_path = (\n",
    "    \"../data/NationalFunding/Data/simulated_data/Data/AdditionalData/cntry_region.xlsx\"\n",
    ")\n",
    "fund_frac_path = \"../data/NationalFunding/Data/simulated_data/Data/DerivedData/Derived/cntry_fund_frac.csv\"\n",
    "backbone_net_path = \"../data/NationalFunding/Data/simulated_data/Data/DerivedData/Derived/network/all2all_backbone_alpha002.gexf\"\n"
   ]
  },
  {
   "cell_type": "code",
   "execution_count": 4,
   "id": "f8bf803e-743a-4e52-858e-50bdc231a4dd",
   "metadata": {
    "execution": {
     "iopub.execute_input": "2024-02-29T07:06:22.824463Z",
     "iopub.status.busy": "2024-02-29T07:06:22.824202Z",
     "iopub.status.idle": "2024-02-29T07:06:23.117766Z",
     "shell.execute_reply": "2024-02-29T07:06:23.116762Z"
    },
    "papermill": {
     "duration": 0.299235,
     "end_time": "2024-02-29T07:06:23.120406",
     "exception": false,
     "start_time": "2024-02-29T07:06:22.821171",
     "status": "completed"
    },
    "tags": [
     "parameters"
    ]
   },
   "outputs": [],
   "source": [
    "all2all_df = pd.read_csv(all2all_path)"
   ]
  },
  {
   "cell_type": "code",
   "execution_count": 5,
   "id": "f892d1ef-e306-419a-9eb5-526cc9007c10",
   "metadata": {
    "execution": {
     "iopub.execute_input": "2024-02-29T07:06:23.130245Z",
     "iopub.status.busy": "2024-02-29T07:06:23.129956Z",
     "iopub.status.idle": "2024-02-29T07:06:23.140839Z",
     "shell.execute_reply": "2024-02-29T07:06:23.140089Z"
    },
    "papermill": {
     "duration": 0.01809,
     "end_time": "2024-02-29T07:06:23.143045",
     "exception": false,
     "start_time": "2024-02-29T07:06:23.124955",
     "status": "completed"
    },
    "tags": []
   },
   "outputs": [],
   "source": [
    "all2all_df=all2all_df[(all2all_df.source!=all2all_df.target)] #remove selfloop \n",
    "all2all_df=all2all_df[all2all_df.p!=0] #remove 0 weight\n",
    "all2all_df=all2all_df[['source','target','p']]\n",
    "all2all_df.columns=['source','target','weight']"
   ]
  },
  {
   "cell_type": "code",
   "execution_count": 6,
   "id": "ae550d23-31da-495f-a920-eac804e04950",
   "metadata": {
    "execution": {
     "iopub.execute_input": "2024-02-29T07:06:23.151484Z",
     "iopub.status.busy": "2024-02-29T07:06:23.151204Z",
     "iopub.status.idle": "2024-02-29T07:06:23.755841Z",
     "shell.execute_reply": "2024-02-29T07:06:23.755006Z"
    },
    "papermill": {
     "duration": 0.612006,
     "end_time": "2024-02-29T07:06:23.760085",
     "exception": false,
     "start_time": "2024-02-29T07:06:23.148079",
     "status": "completed"
    },
    "tags": []
   },
   "outputs": [
    {
     "data": {
      "text/html": [
       "<div>\n",
       "<style scoped>\n",
       "    .dataframe tbody tr th:only-of-type {\n",
       "        vertical-align: middle;\n",
       "    }\n",
       "\n",
       "    .dataframe tbody tr th {\n",
       "        vertical-align: top;\n",
       "    }\n",
       "\n",
       "    .dataframe thead th {\n",
       "        text-align: right;\n",
       "    }\n",
       "</style>\n",
       "<table border=\"1\" class=\"dataframe\">\n",
       "  <thead>\n",
       "    <tr style=\"text-align: right;\">\n",
       "      <th></th>\n",
       "      <th>funder</th>\n",
       "      <th>count</th>\n",
       "      <th>cnt_log</th>\n",
       "    </tr>\n",
       "  </thead>\n",
       "  <tbody>\n",
       "    <tr>\n",
       "      <th>0</th>\n",
       "      <td>Albania</td>\n",
       "      <td>1.120635</td>\n",
       "      <td>0.113895</td>\n",
       "    </tr>\n",
       "    <tr>\n",
       "      <th>1</th>\n",
       "      <td>Algeria</td>\n",
       "      <td>37.511944</td>\n",
       "      <td>3.624659</td>\n",
       "    </tr>\n",
       "    <tr>\n",
       "      <th>2</th>\n",
       "      <td>Angola</td>\n",
       "      <td>0.450000</td>\n",
       "      <td>-0.798508</td>\n",
       "    </tr>\n",
       "    <tr>\n",
       "      <th>3</th>\n",
       "      <td>Argentina</td>\n",
       "      <td>1689.038748</td>\n",
       "      <td>7.431915</td>\n",
       "    </tr>\n",
       "    <tr>\n",
       "      <th>4</th>\n",
       "      <td>Armenia</td>\n",
       "      <td>37.533904</td>\n",
       "      <td>3.625245</td>\n",
       "    </tr>\n",
       "  </tbody>\n",
       "</table>\n",
       "</div>"
      ],
      "text/plain": [
       "      funder        count   cnt_log\n",
       "0    Albania     1.120635  0.113895\n",
       "1    Algeria    37.511944  3.624659\n",
       "2     Angola     0.450000 -0.798508\n",
       "3  Argentina  1689.038748  7.431915\n",
       "4    Armenia    37.533904  3.625245"
      ]
     },
     "execution_count": 6,
     "metadata": {},
     "output_type": "execute_result"
    }
   ],
   "source": [
    "fund_df=pd.read_csv(fund_frac_path)\n",
    "fund_df = fund_df.groupby(['funder'])['cnt'].sum().reset_index(name='count')\n",
    "fund_df['cnt_log']=np.log(fund_df['count'])\n",
    "fund_df.head()"
   ]
  },
  {
   "cell_type": "code",
   "execution_count": 7,
   "id": "c669c7cf-57d9-4f7d-8b28-d62031aedd91",
   "metadata": {
    "execution": {
     "iopub.execute_input": "2024-02-29T07:06:23.769305Z",
     "iopub.status.busy": "2024-02-29T07:06:23.768993Z",
     "iopub.status.idle": "2024-02-29T07:06:25.652362Z",
     "shell.execute_reply": "2024-02-29T07:06:25.651514Z"
    },
    "papermill": {
     "duration": 1.890161,
     "end_time": "2024-02-29T07:06:25.655713",
     "exception": false,
     "start_time": "2024-02-29T07:06:23.765552",
     "status": "completed"
    },
    "tags": []
   },
   "outputs": [
    {
     "data": {
      "text/html": [
       "<div>\n",
       "<style scoped>\n",
       "    .dataframe tbody tr th:only-of-type {\n",
       "        vertical-align: middle;\n",
       "    }\n",
       "\n",
       "    .dataframe tbody tr th {\n",
       "        vertical-align: top;\n",
       "    }\n",
       "\n",
       "    .dataframe thead th {\n",
       "        text-align: right;\n",
       "    }\n",
       "</style>\n",
       "<table border=\"1\" class=\"dataframe\">\n",
       "  <thead>\n",
       "    <tr style=\"text-align: right;\">\n",
       "      <th></th>\n",
       "      <th>cntry</th>\n",
       "      <th>region1</th>\n",
       "      <th>eulabel</th>\n",
       "      <th>region</th>\n",
       "      <th>region2</th>\n",
       "    </tr>\n",
       "  </thead>\n",
       "  <tbody>\n",
       "    <tr>\n",
       "      <th>0</th>\n",
       "      <td>Algeria</td>\n",
       "      <td>Africa</td>\n",
       "      <td>NaN</td>\n",
       "      <td>Africa</td>\n",
       "      <td>Africa</td>\n",
       "    </tr>\n",
       "    <tr>\n",
       "      <th>1</th>\n",
       "      <td>Angola</td>\n",
       "      <td>Africa</td>\n",
       "      <td>NaN</td>\n",
       "      <td>Africa</td>\n",
       "      <td>Africa</td>\n",
       "    </tr>\n",
       "    <tr>\n",
       "      <th>2</th>\n",
       "      <td>Belgian Congo</td>\n",
       "      <td>Africa</td>\n",
       "      <td>NaN</td>\n",
       "      <td>Africa</td>\n",
       "      <td>Africa</td>\n",
       "    </tr>\n",
       "    <tr>\n",
       "      <th>3</th>\n",
       "      <td>Benin</td>\n",
       "      <td>Africa</td>\n",
       "      <td>NaN</td>\n",
       "      <td>Africa</td>\n",
       "      <td>Africa</td>\n",
       "    </tr>\n",
       "    <tr>\n",
       "      <th>4</th>\n",
       "      <td>Botswana</td>\n",
       "      <td>Africa</td>\n",
       "      <td>NaN</td>\n",
       "      <td>Africa</td>\n",
       "      <td>Africa</td>\n",
       "    </tr>\n",
       "  </tbody>\n",
       "</table>\n",
       "</div>"
      ],
      "text/plain": [
       "           cntry region1  eulabel  region region2\n",
       "0        Algeria  Africa      NaN  Africa  Africa\n",
       "1         Angola  Africa      NaN  Africa  Africa\n",
       "2  Belgian Congo  Africa      NaN  Africa  Africa\n",
       "3          Benin  Africa      NaN  Africa  Africa\n",
       "4       Botswana  Africa      NaN  Africa  Africa"
      ]
     },
     "execution_count": 7,
     "metadata": {},
     "output_type": "execute_result"
    }
   ],
   "source": [
    "cntry_region = pd.read_excel(cntry_region_path)\n",
    "cntry_region = cntry_region.replace(to_replace={'region2':{'EU':'Europe','Other Europe':'Europe'}})\n",
    "cntry_region.head()"
   ]
  },
  {
   "cell_type": "markdown",
   "id": "1866d232-658e-47e7-bc3a-c579b0f4a595",
   "metadata": {
    "papermill": {
     "duration": 0.002912,
     "end_time": "2024-02-29T07:06:25.664742",
     "exception": false,
     "start_time": "2024-02-29T07:06:25.661830",
     "status": "completed"
    },
    "tags": []
   },
   "source": [
    "## create network"
   ]
  },
  {
   "cell_type": "code",
   "execution_count": 8,
   "id": "4c2d41f4-bdde-4b92-b25a-ffcac5a6e609",
   "metadata": {
    "execution": {
     "iopub.execute_input": "2024-02-29T07:06:25.672456Z",
     "iopub.status.busy": "2024-02-29T07:06:25.671879Z",
     "iopub.status.idle": "2024-02-29T07:06:26.187138Z",
     "shell.execute_reply": "2024-02-29T07:06:26.186174Z"
    },
    "papermill": {
     "duration": 0.522709,
     "end_time": "2024-02-29T07:06:26.190334",
     "exception": false,
     "start_time": "2024-02-29T07:06:25.667625",
     "status": "completed"
    },
    "tags": []
   },
   "outputs": [],
   "source": [
    "net = nx.DiGraph()\n",
    "for i, row in all2all_df.iterrows():\n",
    "    net.add_edge(row['source'], row['target'], weight=row['weight'])"
   ]
  },
  {
   "cell_type": "markdown",
   "id": "8662f38f-773b-4bbb-b20d-f03af2896757",
   "metadata": {
    "papermill": {
     "duration": 0.003512,
     "end_time": "2024-02-29T07:06:26.202216",
     "exception": false,
     "start_time": "2024-02-29T07:06:26.198704",
     "status": "completed"
    },
    "tags": []
   },
   "source": [
    "## set the attributes of nodes"
   ]
  },
  {
   "cell_type": "code",
   "execution_count": 9,
   "id": "95325847-b42a-443d-8d03-a0f0577aa02f",
   "metadata": {
    "execution": {
     "iopub.execute_input": "2024-02-29T07:06:26.210609Z",
     "iopub.status.busy": "2024-02-29T07:06:26.209911Z",
     "iopub.status.idle": "2024-02-29T07:06:26.218307Z",
     "shell.execute_reply": "2024-02-29T07:06:26.217384Z"
    },
    "papermill": {
     "duration": 0.015549,
     "end_time": "2024-02-29T07:06:26.220636",
     "exception": false,
     "start_time": "2024-02-29T07:06:26.205087",
     "status": "completed"
    },
    "tags": []
   },
   "outputs": [],
   "source": [
    "fund_dict=dict(zip(fund_df['funder'],fund_df['cnt_log']))\n",
    "region_dict=dict(zip(cntry_region['cntry'],cntry_region['region2']))"
   ]
  },
  {
   "cell_type": "code",
   "execution_count": 10,
   "id": "63bea7b1-1621-48ae-aa78-cc301a921b82",
   "metadata": {
    "execution": {
     "iopub.execute_input": "2024-02-29T07:06:26.231309Z",
     "iopub.status.busy": "2024-02-29T07:06:26.230513Z",
     "iopub.status.idle": "2024-02-29T07:06:26.237481Z",
     "shell.execute_reply": "2024-02-29T07:06:26.236425Z"
    },
    "papermill": {
     "duration": 0.01229,
     "end_time": "2024-02-29T07:06:26.239130",
     "exception": false,
     "start_time": "2024-02-29T07:06:26.226840",
     "status": "completed"
    },
    "tags": []
   },
   "outputs": [],
   "source": [
    "nx.set_node_attributes(net,0,'fund')\n",
    "nx.set_node_attributes(net,0,'region')\n",
    "nx.set_node_attributes(net,fund_dict,'fund')\n",
    "nx.set_node_attributes(net,region_dict,'region')"
   ]
  },
  {
   "cell_type": "code",
   "execution_count": 11,
   "id": "cbd5f4a3-aaab-43a8-8a02-d454039d1a00",
   "metadata": {
    "execution": {
     "iopub.execute_input": "2024-02-29T07:06:26.246986Z",
     "iopub.status.busy": "2024-02-29T07:06:26.246722Z",
     "iopub.status.idle": "2024-02-29T07:06:26.509000Z",
     "shell.execute_reply": "2024-02-29T07:06:26.508085Z"
    },
    "papermill": {
     "duration": 0.269462,
     "end_time": "2024-02-29T07:06:26.512097",
     "exception": false,
     "start_time": "2024-02-29T07:06:26.242635",
     "status": "completed"
    },
    "tags": []
   },
   "outputs": [],
   "source": [
    "net_alpha = core.disparity_filter(net)"
   ]
  },
  {
   "cell_type": "code",
   "execution_count": 12,
   "id": "8a596d0a-48bb-4530-a8d5-4b52c0622e4d",
   "metadata": {
    "execution": {
     "iopub.execute_input": "2024-02-29T07:06:26.525611Z",
     "iopub.status.busy": "2024-02-29T07:06:26.524634Z",
     "iopub.status.idle": "2024-02-29T07:06:26.534499Z",
     "shell.execute_reply": "2024-02-29T07:06:26.533525Z"
    },
    "papermill": {
     "duration": 0.015352,
     "end_time": "2024-02-29T07:06:26.535741",
     "exception": false,
     "start_time": "2024-02-29T07:06:26.520389",
     "status": "completed"
    },
    "tags": []
   },
   "outputs": [],
   "source": [
    "def extract_alpha(path):\n",
    "    filename, extension = os.path.splitext(os.path.basename(backbone_net_path))\n",
    "    alpha=filename.split(\"_\")[-1].replace(\"alpha\",\"\")\n",
    "    if len(alpha)==4:\n",
    "        alpha = int(alpha)/1000\n",
    "    elif len(alpha)==3:\n",
    "        alpha = int(alpha)/100\n",
    "    elif len(alpha)==1:\n",
    "        alpha = int(alpha)\n",
    "    else:\n",
    "        print(\"invalid alpha value\")\n",
    "    return alpha"
   ]
  },
  {
   "cell_type": "code",
   "execution_count": 13,
   "id": "c5a11596-746f-4753-86aa-703ae2b07052",
   "metadata": {
    "execution": {
     "iopub.execute_input": "2024-02-29T07:06:26.544141Z",
     "iopub.status.busy": "2024-02-29T07:06:26.543384Z",
     "iopub.status.idle": "2024-02-29T07:06:26.554665Z",
     "shell.execute_reply": "2024-02-29T07:06:26.553929Z"
    },
    "papermill": {
     "duration": 0.017148,
     "end_time": "2024-02-29T07:06:26.556067",
     "exception": false,
     "start_time": "2024-02-29T07:06:26.538919",
     "status": "completed"
    },
    "tags": []
   },
   "outputs": [],
   "source": [
    "alpha = extract_alpha(backbone_net_path)\n",
    "selected_edges = [(u, v) for u, v, attrs in net_alpha.edges(data=True) if attrs.get('alpha_in', 0) < alpha]\n",
    "selected_graph = net.edge_subgraph(selected_edges)"
   ]
  },
  {
   "cell_type": "code",
   "execution_count": 14,
   "id": "f9e6eb6e-aae5-4373-b178-f5ad50b3b3d2",
   "metadata": {
    "execution": {
     "iopub.execute_input": "2024-02-29T07:06:26.570596Z",
     "iopub.status.busy": "2024-02-29T07:06:26.570029Z",
     "iopub.status.idle": "2024-02-29T07:06:27.369345Z",
     "shell.execute_reply": "2024-02-29T07:06:27.367924Z"
    },
    "papermill": {
     "duration": 0.809404,
     "end_time": "2024-02-29T07:06:27.373006",
     "exception": false,
     "start_time": "2024-02-29T07:06:26.563602",
     "status": "completed"
    },
    "tags": []
   },
   "outputs": [],
   "source": [
    "nx.write_gexf(selected_graph, backbone_net_path)"
   ]
  }
 ],
 "metadata": {
  "kernelspec": {
   "display_name": "Python 3 (ipykernel)",
   "language": "python",
   "name": "python3"
  },
  "language_info": {
   "codemirror_mode": {
    "name": "ipython",
    "version": 3
   },
   "file_extension": ".py",
   "mimetype": "text/x-python",
   "name": "python",
   "nbconvert_exporter": "python",
   "pygments_lexer": "ipython3",
   "version": "3.8.16"
  },
  "papermill": {
   "default_parameters": {},
   "duration": 7.593164,
   "end_time": "2024-02-29T07:06:27.899903",
   "environment_variables": {},
   "exception": null,
   "input_path": "scripts/extract_backbone.ipynb",
   "output_path": "scripts/outputs/extract_backbone.ipynb",
   "parameters": {
    "all2all_path": "../data/NationalFunding/Data/simulated_data/Data/DerivedData/Derived/dependence/pub_noforeign_fund_all2all.csv",
    "backbone_net_path": "../data/NationalFunding/Data/simulated_data/Data/DerivedData/Derived/network/all2all_backbone_alpha002.gexf",
    "cntry_region_path": "../data/NationalFunding/Data/simulated_data/Data/AdditionalData/cntry_region.xlsx",
    "fund_frac_path": "../data/NationalFunding/Data/simulated_data/Data/DerivedData/Derived/cntry_fund_frac.csv"
   },
   "start_time": "2024-02-29T07:06:20.306739",
   "version": "2.3.4"
  }
 },
 "nbformat": 4,
 "nbformat_minor": 5
}