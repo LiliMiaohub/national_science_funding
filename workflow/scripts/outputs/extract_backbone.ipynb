{
 "cells": [
  {
   "cell_type": "code",
   "execution_count": 1,
   "id": "0a2cd08a-49c9-48b4-9206-2b69afd20c79",
   "metadata": {
    "execution": {
     "iopub.execute_input": "2023-05-01T15:58:36.420351Z",
     "iopub.status.busy": "2023-05-01T15:58:36.419298Z",
     "iopub.status.idle": "2023-05-01T15:58:37.486278Z",
     "shell.execute_reply": "2023-05-01T15:58:37.485363Z"
    },
    "papermill": {
     "duration": 1.08039,
     "end_time": "2023-05-01T15:58:37.489953",
     "exception": false,
     "start_time": "2023-05-01T15:58:36.409563",
     "status": "completed"
    },
    "tags": []
   },
   "outputs": [],
   "source": [
    "import pandas as pd\n",
    "import seaborn as sns\n",
    "import networkx as nx\n",
    "import numpy as np\n",
    "from funding import core\n",
    "import os"
   ]
  },
  {
   "cell_type": "code",
   "execution_count": 2,
   "id": "b0962fe4-5299-4673-b488-dc51ff9e81e3",
   "metadata": {
    "execution": {
     "iopub.execute_input": "2023-05-01T15:58:37.502439Z",
     "iopub.status.busy": "2023-05-01T15:58:37.501054Z",
     "iopub.status.idle": "2023-05-01T15:58:37.508383Z",
     "shell.execute_reply": "2023-05-01T15:58:37.507148Z"
    },
    "papermill": {
     "duration": 0.013048,
     "end_time": "2023-05-01T15:58:37.510193",
     "exception": false,
     "start_time": "2023-05-01T15:58:37.497145",
     "status": "completed"
    },
    "tags": [
     "parameters"
    ]
   },
   "outputs": [],
   "source": [
    "all2all_path = \"../../data/NationalFunding/Data/DerivedData/Derived/dependence/pub_noforeign_fund_all2all.csv\"\n",
    "cntry_region_path = '../../data/NationalFunding/Data/AdditionalData/cntry_region.xlsx'\n",
    "fund_frac_path=\"../../data/NationalFunding/Data/DerivedData/Derived/cntry_fund_frac.csv\"\n",
    "backbone_net_path = \"../../data/NationalFunding/Data/DerivedData/Derived/all2all_backbone_alpha1.gexf\""
   ]
  },
  {
   "cell_type": "code",
   "execution_count": 3,
   "id": "ac449db9",
   "metadata": {
    "execution": {
     "iopub.execute_input": "2023-05-01T15:58:37.516808Z",
     "iopub.status.busy": "2023-05-01T15:58:37.516516Z",
     "iopub.status.idle": "2023-05-01T15:58:37.520543Z",
     "shell.execute_reply": "2023-05-01T15:58:37.519660Z"
    },
    "papermill": {
     "duration": 0.008915,
     "end_time": "2023-05-01T15:58:37.521892",
     "exception": false,
     "start_time": "2023-05-01T15:58:37.512977",
     "status": "completed"
    },
    "tags": [
     "injected-parameters"
    ]
   },
   "outputs": [],
   "source": [
    "# Parameters\n",
    "all2all_path = \"../data/NationalFunding/Data/DerivedData/Derived/dependence/pub_noforeign_fund_all2all.csv\"\n",
    "cntry_region_path = \"../data/NationalFunding/Data/AdditionalData/cntry_region.xlsx\"\n",
    "fund_frac_path = \"../data/NationalFunding/Data/DerivedData/Derived/cntry_fund_frac.csv\"\n",
    "backbone_net_path = \"../data/NationalFunding/Data/DerivedData/Derived/network/all2all_backbone_alpha0005.gexf\"\n"
   ]
  },
  {
   "cell_type": "code",
   "execution_count": 4,
   "id": "f8bf803e-743a-4e52-858e-50bdc231a4dd",
   "metadata": {
    "execution": {
     "iopub.execute_input": "2023-05-01T15:58:37.528389Z",
     "iopub.status.busy": "2023-05-01T15:58:37.527656Z",
     "iopub.status.idle": "2023-05-01T15:58:37.820955Z",
     "shell.execute_reply": "2023-05-01T15:58:37.820115Z"
    },
    "papermill": {
     "duration": 0.299813,
     "end_time": "2023-05-01T15:58:37.824039",
     "exception": false,
     "start_time": "2023-05-01T15:58:37.524226",
     "status": "completed"
    },
    "tags": [
     "parameters"
    ]
   },
   "outputs": [],
   "source": [
    "all2all_df = pd.read_csv(all2all_path)"
   ]
  },
  {
   "cell_type": "code",
   "execution_count": 5,
   "id": "f892d1ef-e306-419a-9eb5-526cc9007c10",
   "metadata": {
    "execution": {
     "iopub.execute_input": "2023-05-01T15:58:37.837884Z",
     "iopub.status.busy": "2023-05-01T15:58:37.836997Z",
     "iopub.status.idle": "2023-05-01T15:58:37.853634Z",
     "shell.execute_reply": "2023-05-01T15:58:37.852973Z"
    },
    "papermill": {
     "duration": 0.023709,
     "end_time": "2023-05-01T15:58:37.855871",
     "exception": false,
     "start_time": "2023-05-01T15:58:37.832162",
     "status": "completed"
    },
    "tags": []
   },
   "outputs": [],
   "source": [
    "all2all_df=all2all_df[(all2all_df.source!=all2all_df.target)] #remove selfloop \n",
    "all2all_df=all2all_df[all2all_df.p!=0] #remove 0 weight\n",
    "all2all_df=all2all_df[['source','target','p']]\n",
    "all2all_df.columns=['source','target','weight']"
   ]
  },
  {
   "cell_type": "code",
   "execution_count": 6,
   "id": "ae550d23-31da-495f-a920-eac804e04950",
   "metadata": {
    "execution": {
     "iopub.execute_input": "2023-05-01T15:58:37.865545Z",
     "iopub.status.busy": "2023-05-01T15:58:37.864740Z",
     "iopub.status.idle": "2023-05-01T15:58:38.225667Z",
     "shell.execute_reply": "2023-05-01T15:58:38.224907Z"
    },
    "papermill": {
     "duration": 0.368388,
     "end_time": "2023-05-01T15:58:38.228904",
     "exception": false,
     "start_time": "2023-05-01T15:58:37.860516",
     "status": "completed"
    },
    "tags": []
   },
   "outputs": [
    {
     "data": {
      "text/html": [
       "<div>\n",
       "<style scoped>\n",
       "    .dataframe tbody tr th:only-of-type {\n",
       "        vertical-align: middle;\n",
       "    }\n",
       "\n",
       "    .dataframe tbody tr th {\n",
       "        vertical-align: top;\n",
       "    }\n",
       "\n",
       "    .dataframe thead th {\n",
       "        text-align: right;\n",
       "    }\n",
       "</style>\n",
       "<table border=\"1\" class=\"dataframe\">\n",
       "  <thead>\n",
       "    <tr style=\"text-align: right;\">\n",
       "      <th></th>\n",
       "      <th>funder</th>\n",
       "      <th>count</th>\n",
       "      <th>cnt_log</th>\n",
       "    </tr>\n",
       "  </thead>\n",
       "  <tbody>\n",
       "    <tr>\n",
       "      <th>0</th>\n",
       "      <td>Afghanistan</td>\n",
       "      <td>3.089135</td>\n",
       "      <td>1.127891</td>\n",
       "    </tr>\n",
       "    <tr>\n",
       "      <th>1</th>\n",
       "      <td>Albania</td>\n",
       "      <td>17.032612</td>\n",
       "      <td>2.835130</td>\n",
       "    </tr>\n",
       "    <tr>\n",
       "      <th>2</th>\n",
       "      <td>Algeria</td>\n",
       "      <td>1824.735809</td>\n",
       "      <td>7.509190</td>\n",
       "    </tr>\n",
       "    <tr>\n",
       "      <th>3</th>\n",
       "      <td>Andorra</td>\n",
       "      <td>27.341270</td>\n",
       "      <td>3.308397</td>\n",
       "    </tr>\n",
       "    <tr>\n",
       "      <th>4</th>\n",
       "      <td>Angola</td>\n",
       "      <td>24.671520</td>\n",
       "      <td>3.205650</td>\n",
       "    </tr>\n",
       "  </tbody>\n",
       "</table>\n",
       "</div>"
      ],
      "text/plain": [
       "        funder        count   cnt_log\n",
       "0  Afghanistan     3.089135  1.127891\n",
       "1      Albania    17.032612  2.835130\n",
       "2      Algeria  1824.735809  7.509190\n",
       "3      Andorra    27.341270  3.308397\n",
       "4       Angola    24.671520  3.205650"
      ]
     },
     "execution_count": 6,
     "metadata": {},
     "output_type": "execute_result"
    }
   ],
   "source": [
    "fund_df=pd.read_csv(fund_frac_path)\n",
    "fund_df = fund_df.groupby(['funder'])['cnt'].sum().reset_index(name='count')\n",
    "fund_df['cnt_log']=np.log(fund_df['count'])\n",
    "fund_df.head()"
   ]
  },
  {
   "cell_type": "code",
   "execution_count": 7,
   "id": "c669c7cf-57d9-4f7d-8b28-d62031aedd91",
   "metadata": {
    "execution": {
     "iopub.execute_input": "2023-05-01T15:58:38.239195Z",
     "iopub.status.busy": "2023-05-01T15:58:38.238371Z",
     "iopub.status.idle": "2023-05-01T15:58:39.619698Z",
     "shell.execute_reply": "2023-05-01T15:58:39.618870Z"
    },
    "papermill": {
     "duration": 1.389546,
     "end_time": "2023-05-01T15:58:39.622950",
     "exception": false,
     "start_time": "2023-05-01T15:58:38.233404",
     "status": "completed"
    },
    "tags": []
   },
   "outputs": [
    {
     "data": {
      "text/html": [
       "<div>\n",
       "<style scoped>\n",
       "    .dataframe tbody tr th:only-of-type {\n",
       "        vertical-align: middle;\n",
       "    }\n",
       "\n",
       "    .dataframe tbody tr th {\n",
       "        vertical-align: top;\n",
       "    }\n",
       "\n",
       "    .dataframe thead th {\n",
       "        text-align: right;\n",
       "    }\n",
       "</style>\n",
       "<table border=\"1\" class=\"dataframe\">\n",
       "  <thead>\n",
       "    <tr style=\"text-align: right;\">\n",
       "      <th></th>\n",
       "      <th>cntry</th>\n",
       "      <th>region1</th>\n",
       "      <th>eulabel</th>\n",
       "      <th>region</th>\n",
       "      <th>region2</th>\n",
       "    </tr>\n",
       "  </thead>\n",
       "  <tbody>\n",
       "    <tr>\n",
       "      <th>0</th>\n",
       "      <td>Algeria</td>\n",
       "      <td>Africa</td>\n",
       "      <td>NaN</td>\n",
       "      <td>Africa</td>\n",
       "      <td>Africa</td>\n",
       "    </tr>\n",
       "    <tr>\n",
       "      <th>1</th>\n",
       "      <td>Angola</td>\n",
       "      <td>Africa</td>\n",
       "      <td>NaN</td>\n",
       "      <td>Africa</td>\n",
       "      <td>Africa</td>\n",
       "    </tr>\n",
       "    <tr>\n",
       "      <th>2</th>\n",
       "      <td>Belgian Congo</td>\n",
       "      <td>Africa</td>\n",
       "      <td>NaN</td>\n",
       "      <td>Africa</td>\n",
       "      <td>Africa</td>\n",
       "    </tr>\n",
       "    <tr>\n",
       "      <th>3</th>\n",
       "      <td>Benin</td>\n",
       "      <td>Africa</td>\n",
       "      <td>NaN</td>\n",
       "      <td>Africa</td>\n",
       "      <td>Africa</td>\n",
       "    </tr>\n",
       "    <tr>\n",
       "      <th>4</th>\n",
       "      <td>Botswana</td>\n",
       "      <td>Africa</td>\n",
       "      <td>NaN</td>\n",
       "      <td>Africa</td>\n",
       "      <td>Africa</td>\n",
       "    </tr>\n",
       "  </tbody>\n",
       "</table>\n",
       "</div>"
      ],
      "text/plain": [
       "           cntry region1  eulabel  region region2\n",
       "0        Algeria  Africa      NaN  Africa  Africa\n",
       "1         Angola  Africa      NaN  Africa  Africa\n",
       "2  Belgian Congo  Africa      NaN  Africa  Africa\n",
       "3          Benin  Africa      NaN  Africa  Africa\n",
       "4       Botswana  Africa      NaN  Africa  Africa"
      ]
     },
     "execution_count": 7,
     "metadata": {},
     "output_type": "execute_result"
    }
   ],
   "source": [
    "cntry_region = pd.read_excel(cntry_region_path)\n",
    "cntry_region = cntry_region.replace(to_replace={'region2':{'EU':'Europe','Other Europe':'Europe'}})\n",
    "cntry_region.head()"
   ]
  },
  {
   "cell_type": "markdown",
   "id": "1866d232-658e-47e7-bc3a-c579b0f4a595",
   "metadata": {
    "papermill": {
     "duration": 0.002792,
     "end_time": "2023-05-01T15:58:39.631115",
     "exception": false,
     "start_time": "2023-05-01T15:58:39.628323",
     "status": "completed"
    },
    "tags": []
   },
   "source": [
    "## create network"
   ]
  },
  {
   "cell_type": "code",
   "execution_count": 8,
   "id": "4c2d41f4-bdde-4b92-b25a-ffcac5a6e609",
   "metadata": {
    "execution": {
     "iopub.execute_input": "2023-05-01T15:58:39.638715Z",
     "iopub.status.busy": "2023-05-01T15:58:39.637793Z",
     "iopub.status.idle": "2023-05-01T15:58:40.400847Z",
     "shell.execute_reply": "2023-05-01T15:58:40.399658Z"
    },
    "papermill": {
     "duration": 0.770339,
     "end_time": "2023-05-01T15:58:40.404154",
     "exception": false,
     "start_time": "2023-05-01T15:58:39.633815",
     "status": "completed"
    },
    "tags": []
   },
   "outputs": [],
   "source": [
    "net = nx.DiGraph()\n",
    "for i, row in all2all_df.iterrows():\n",
    "    net.add_edge(row['source'], row['target'], weight=row['weight'])"
   ]
  },
  {
   "cell_type": "markdown",
   "id": "8662f38f-773b-4bbb-b20d-f03af2896757",
   "metadata": {
    "papermill": {
     "duration": 0.002919,
     "end_time": "2023-05-01T15:58:40.414256",
     "exception": false,
     "start_time": "2023-05-01T15:58:40.411337",
     "status": "completed"
    },
    "tags": []
   },
   "source": [
    "## set the attributes of nodes"
   ]
  },
  {
   "cell_type": "code",
   "execution_count": 9,
   "id": "95325847-b42a-443d-8d03-a0f0577aa02f",
   "metadata": {
    "execution": {
     "iopub.execute_input": "2023-05-01T15:58:40.422394Z",
     "iopub.status.busy": "2023-05-01T15:58:40.421613Z",
     "iopub.status.idle": "2023-05-01T15:58:40.430156Z",
     "shell.execute_reply": "2023-05-01T15:58:40.429486Z"
    },
    "papermill": {
     "duration": 0.015392,
     "end_time": "2023-05-01T15:58:40.432390",
     "exception": false,
     "start_time": "2023-05-01T15:58:40.416998",
     "status": "completed"
    },
    "tags": []
   },
   "outputs": [],
   "source": [
    "fund_dict=dict(zip(fund_df['funder'],fund_df['cnt_log']))\n",
    "region_dict=dict(zip(cntry_region['cntry'],cntry_region['region2']))"
   ]
  },
  {
   "cell_type": "code",
   "execution_count": 10,
   "id": "63bea7b1-1621-48ae-aa78-cc301a921b82",
   "metadata": {
    "execution": {
     "iopub.execute_input": "2023-05-01T15:58:40.442856Z",
     "iopub.status.busy": "2023-05-01T15:58:40.442194Z",
     "iopub.status.idle": "2023-05-01T15:58:40.448723Z",
     "shell.execute_reply": "2023-05-01T15:58:40.447976Z"
    },
    "papermill": {
     "duration": 0.012,
     "end_time": "2023-05-01T15:58:40.450303",
     "exception": false,
     "start_time": "2023-05-01T15:58:40.438303",
     "status": "completed"
    },
    "tags": []
   },
   "outputs": [],
   "source": [
    "nx.set_node_attributes(net,0,'fund')\n",
    "nx.set_node_attributes(net,0,'region')\n",
    "nx.set_node_attributes(net,fund_dict,'fund')\n",
    "nx.set_node_attributes(net,region_dict,'region')"
   ]
  },
  {
   "cell_type": "code",
   "execution_count": 11,
   "id": "cbd5f4a3-aaab-43a8-8a02-d454039d1a00",
   "metadata": {
    "execution": {
     "iopub.execute_input": "2023-05-01T15:58:40.459554Z",
     "iopub.status.busy": "2023-05-01T15:58:40.458766Z",
     "iopub.status.idle": "2023-05-01T15:58:40.857454Z",
     "shell.execute_reply": "2023-05-01T15:58:40.856551Z"
    },
    "papermill": {
     "duration": 0.406643,
     "end_time": "2023-05-01T15:58:40.860710",
     "exception": false,
     "start_time": "2023-05-01T15:58:40.454067",
     "status": "completed"
    },
    "tags": []
   },
   "outputs": [],
   "source": [
    "net_alpha = core.disparity_filter(net)"
   ]
  },
  {
   "cell_type": "code",
   "execution_count": 12,
   "id": "8a596d0a-48bb-4530-a8d5-4b52c0622e4d",
   "metadata": {
    "execution": {
     "iopub.execute_input": "2023-05-01T15:58:40.872795Z",
     "iopub.status.busy": "2023-05-01T15:58:40.871881Z",
     "iopub.status.idle": "2023-05-01T15:58:40.881293Z",
     "shell.execute_reply": "2023-05-01T15:58:40.880624Z"
    },
    "papermill": {
     "duration": 0.015135,
     "end_time": "2023-05-01T15:58:40.882810",
     "exception": false,
     "start_time": "2023-05-01T15:58:40.867675",
     "status": "completed"
    },
    "tags": []
   },
   "outputs": [],
   "source": [
    "def extract_alpha(path):\n",
    "    filename, extension = os.path.splitext(os.path.basename(backbone_net_path))\n",
    "    alpha=filename.split(\"_\")[-1].replace(\"alpha\",\"\")\n",
    "    if len(alpha)==4:\n",
    "        alpha = int(alpha)/1000\n",
    "    elif len(alpha)==3:\n",
    "        alpha = int(alpha)/100\n",
    "    elif len(alpha)==1:\n",
    "        alpha = int(alpha)\n",
    "    else:\n",
    "        print(\"invalid alpha value\")\n",
    "    return alpha"
   ]
  },
  {
   "cell_type": "code",
   "execution_count": 13,
   "id": "c5a11596-746f-4753-86aa-703ae2b07052",
   "metadata": {
    "execution": {
     "iopub.execute_input": "2023-05-01T15:58:40.892159Z",
     "iopub.status.busy": "2023-05-01T15:58:40.891315Z",
     "iopub.status.idle": "2023-05-01T15:58:40.905586Z",
     "shell.execute_reply": "2023-05-01T15:58:40.904862Z"
    },
    "papermill": {
     "duration": 0.021488,
     "end_time": "2023-05-01T15:58:40.908025",
     "exception": false,
     "start_time": "2023-05-01T15:58:40.886537",
     "status": "completed"
    },
    "tags": []
   },
   "outputs": [],
   "source": [
    "alpha = extract_alpha(backbone_net_path)\n",
    "selected_edges = [(u, v) for u, v, attrs in net_alpha.edges(data=True) if attrs.get('alpha_in', 0) < alpha]\n",
    "selected_graph = net.edge_subgraph(selected_edges)"
   ]
  },
  {
   "cell_type": "code",
   "execution_count": 14,
   "id": "f9e6eb6e-aae5-4373-b178-f5ad50b3b3d2",
   "metadata": {
    "execution": {
     "iopub.execute_input": "2023-05-01T15:58:40.916260Z",
     "iopub.status.busy": "2023-05-01T15:58:40.915875Z",
     "iopub.status.idle": "2023-05-01T15:58:41.727478Z",
     "shell.execute_reply": "2023-05-01T15:58:41.726164Z"
    },
    "papermill": {
     "duration": 0.818594,
     "end_time": "2023-05-01T15:58:41.730899",
     "exception": false,
     "start_time": "2023-05-01T15:58:40.912305",
     "status": "completed"
    },
    "tags": []
   },
   "outputs": [],
   "source": [
    "nx.write_gexf(selected_graph, backbone_net_path)"
   ]
  }
 ],
 "metadata": {
  "kernelspec": {
   "display_name": "Python 3 (ipykernel)",
   "language": "python",
   "name": "python3"
  },
  "language_info": {
   "codemirror_mode": {
    "name": "ipython",
    "version": 3
   },
   "file_extension": ".py",
   "mimetype": "text/x-python",
   "name": "python",
   "nbconvert_exporter": "python",
   "pygments_lexer": "ipython3",
   "version": "3.8.16"
  },
  "papermill": {
   "default_parameters": {},
   "duration": 7.101274,
   "end_time": "2023-05-01T15:58:42.257597",
   "environment_variables": {},
   "exception": null,
   "input_path": "scripts/extract_backbone.ipynb",
   "output_path": "scripts/outputs/extract_backbone.ipynb",
   "parameters": {
    "all2all_path": "../data/NationalFunding/Data/DerivedData/Derived/dependence/pub_noforeign_fund_all2all.csv",
    "backbone_net_path": "../data/NationalFunding/Data/DerivedData/Derived/network/all2all_backbone_alpha0005.gexf",
    "cntry_region_path": "../data/NationalFunding/Data/AdditionalData/cntry_region.xlsx",
    "fund_frac_path": "../data/NationalFunding/Data/DerivedData/Derived/cntry_fund_frac.csv"
   },
   "start_time": "2023-05-01T15:58:35.156323",
   "version": "2.3.4"
  }
 },
 "nbformat": 4,
 "nbformat_minor": 5
}