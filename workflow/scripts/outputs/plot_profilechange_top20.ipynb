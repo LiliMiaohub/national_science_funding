{
 "cells": [
  {
   "cell_type": "markdown",
   "id": "close-testing",
   "metadata": {
    "papermill": {
     "duration": 0.003889,
     "end_time": "2024-02-29T07:03:53.872906",
     "exception": false,
     "start_time": "2024-02-29T07:03:53.869017",
     "status": "completed"
    },
    "tags": []
   },
   "source": [
    "this script calculate the profile change of countries without publications that are funded by specific country\n",
    "- raw_path: the number of publication in discipline of countries\n",
    "- filter_path: same with above but without pubs that funded by specific country\n",
    "- flag_path: file contains country name and iso-3 code"
   ]
  },
  {
   "cell_type": "code",
   "execution_count": 1,
   "id": "executed-press",
   "metadata": {
    "execution": {
     "iopub.execute_input": "2024-02-29T07:03:53.880151Z",
     "iopub.status.busy": "2024-02-29T07:03:53.879719Z",
     "iopub.status.idle": "2024-02-29T07:03:55.084326Z",
     "shell.execute_reply": "2024-02-29T07:03:55.083153Z"
    },
    "papermill": {
     "duration": 1.211848,
     "end_time": "2024-02-29T07:03:55.087923",
     "exception": false,
     "start_time": "2024-02-29T07:03:53.876075",
     "status": "completed"
    },
    "tags": []
   },
   "outputs": [],
   "source": [
    "import pandas as pd\n",
    "import seaborn as sns\n",
    "import matplotlib.pyplot as plt\n",
    "from adjustText import adjust_text\n",
    "import funding.core\n",
    "import itertools\n",
    "from scipy.special import rel_entr"
   ]
  },
  {
   "cell_type": "markdown",
   "id": "powerful-coating",
   "metadata": {
    "papermill": {
     "duration": 0.002122,
     "end_time": "2024-02-29T07:03:55.096270",
     "exception": false,
     "start_time": "2024-02-29T07:03:55.094148",
     "status": "completed"
    },
    "tags": []
   },
   "source": [
    "## Input"
   ]
  },
  {
   "cell_type": "code",
   "execution_count": 2,
   "id": "julian-unknown",
   "metadata": {
    "execution": {
     "iopub.execute_input": "2024-02-29T07:03:55.102735Z",
     "iopub.status.busy": "2024-02-29T07:03:55.101842Z",
     "iopub.status.idle": "2024-02-29T07:03:55.108462Z",
     "shell.execute_reply": "2024-02-29T07:03:55.107461Z"
    },
    "papermill": {
     "duration": 0.01129,
     "end_time": "2024-02-29T07:03:55.109698",
     "exception": false,
     "start_time": "2024-02-29T07:03:55.098408",
     "status": "completed"
    },
    "tags": [
     "parameters"
    ]
   },
   "outputs": [],
   "source": [
    "cntry_full_path=\"../../data/nf_folder/Data/DerivedData/Derived/cntry_author_full.csv\"\n",
    "cntry_filter_path=\"../../data/nf_folder/Data/DerivedData/Derived/dep-FundExchange/pub_no_foreign_top20.csv\"\n",
    "flag_path='../../data/nf_folder/Data/AdditionalData/country_WoS_ECI_WB_flags.tsv'\n",
    "\n",
    "plot_path='../../data/nf_folder/Figs/dep-FundExchange/pub_profilechange_bytop10.pdf'"
   ]
  },
  {
   "cell_type": "code",
   "execution_count": 3,
   "id": "ba6e79cf",
   "metadata": {
    "execution": {
     "iopub.execute_input": "2024-02-29T07:03:55.115034Z",
     "iopub.status.busy": "2024-02-29T07:03:55.114754Z",
     "iopub.status.idle": "2024-02-29T07:03:55.118295Z",
     "shell.execute_reply": "2024-02-29T07:03:55.117581Z"
    },
    "papermill": {
     "duration": 0.007967,
     "end_time": "2024-02-29T07:03:55.119741",
     "exception": false,
     "start_time": "2024-02-29T07:03:55.111774",
     "status": "completed"
    },
    "tags": [
     "injected-parameters"
    ]
   },
   "outputs": [],
   "source": [
    "# Parameters\n",
    "cntry_full_path = \"../data/NationalFunding/Data/simulated_data/Data/DerivedData/Derived/cntry_author_full.csv\"\n",
    "cntry_filter_path = \"../data/NationalFunding/Data/simulated_data/Data/DerivedData/Derived/dependence/pub_noforeign_exclusive_fund_top20.csv\"\n",
    "flag_path = \"../data/NationalFunding/Data/simulated_data/Data/AdditionalData/country_WoS_ECI_WB_flags.tsv\"\n",
    "plot_path = \"../data/NationalFunding/Data/simulated_data/Figs/Figs/profilechange_exclusive_by_top10.pdf\"\n"
   ]
  },
  {
   "cell_type": "markdown",
   "id": "statewide-combining",
   "metadata": {
    "papermill": {
     "duration": 0.002131,
     "end_time": "2024-02-29T07:03:55.124298",
     "exception": false,
     "start_time": "2024-02-29T07:03:55.122167",
     "status": "completed"
    },
    "tags": []
   },
   "source": [
    "## read file"
   ]
  },
  {
   "cell_type": "code",
   "execution_count": 4,
   "id": "duplicate-frontier",
   "metadata": {
    "execution": {
     "iopub.execute_input": "2024-02-29T07:03:55.130380Z",
     "iopub.status.busy": "2024-02-29T07:03:55.129549Z",
     "iopub.status.idle": "2024-02-29T07:03:57.691584Z",
     "shell.execute_reply": "2024-02-29T07:03:57.690693Z"
    },
    "papermill": {
     "duration": 2.568683,
     "end_time": "2024-02-29T07:03:57.695130",
     "exception": false,
     "start_time": "2024-02-29T07:03:55.126447",
     "status": "completed"
    },
    "tags": []
   },
   "outputs": [],
   "source": [
    "raw_df=pd.read_csv(cntry_full_path)\n",
    "filter_df=pd.read_csv(cntry_filter_path)\n",
    "filter_df=filter_df.rename(columns={'author_distinct':'cntry'})\n",
    "flag_df=pd.read_csv(flag_path,sep='\\t')[['WoS','Code']]"
   ]
  },
  {
   "cell_type": "markdown",
   "id": "statewide-small",
   "metadata": {
    "papermill": {
     "duration": 0.002325,
     "end_time": "2024-02-29T07:03:57.704031",
     "exception": false,
     "start_time": "2024-02-29T07:03:57.701706",
     "status": "completed"
    },
    "tags": []
   },
   "source": [
    "## calculate the profile change caused by country **c** in year **y**"
   ]
  },
  {
   "cell_type": "code",
   "execution_count": 5,
   "id": "distinct-uganda",
   "metadata": {
    "execution": {
     "iopub.execute_input": "2024-02-29T07:03:57.710639Z",
     "iopub.status.busy": "2024-02-29T07:03:57.709930Z",
     "iopub.status.idle": "2024-02-29T07:04:08.575587Z",
     "shell.execute_reply": "2024-02-29T07:04:08.574384Z"
    },
    "papermill": {
     "duration": 10.872721,
     "end_time": "2024-02-29T07:04:08.578911",
     "exception": false,
     "start_time": "2024-02-29T07:03:57.706190",
     "status": "completed"
    },
    "tags": []
   },
   "outputs": [],
   "source": [
    "srce=filter_df.srce_cntry.unique()\n",
    "year=filter_df.year.unique()\n",
    "result=[]\n",
    "for y in year:\n",
    "    raw_year=raw_df[raw_df.year==y]\n",
    "    raw_year=funding.core.group_wide(raw_year)\n",
    "    filter_year=filter_df[filter_df.year==y]\n",
    "    for c in srce:\n",
    "        filter_year_c=filter_year[filter_year.srce_cntry==c]\n",
    "        filter_year_c=funding.core.group_wide(filter_year_c)\n",
    "        for index, row in filter_year_c.iterrows():\n",
    "            cntry=index\n",
    "            p=row.values\n",
    "            q=raw_year.loc[cntry,:].values\n",
    "            kl_value=sum(rel_entr(p,q))\n",
    "            result.append([cntry,kl_value,c,y])\n",
    "result_df=pd.DataFrame(result,columns=['cntry','kl','srce_cntry','year'])"
   ]
  },
  {
   "cell_type": "markdown",
   "id": "0722c4ab-4211-4eca-9525-636b90eccdb2",
   "metadata": {
    "papermill": {
     "duration": 0.003794,
     "end_time": "2024-02-29T07:04:08.589001",
     "exception": false,
     "start_time": "2024-02-29T07:04:08.585207",
     "status": "completed"
    },
    "tags": []
   },
   "source": [
    "## remove the data of the country itself"
   ]
  },
  {
   "cell_type": "code",
   "execution_count": 6,
   "id": "after-slave",
   "metadata": {
    "execution": {
     "iopub.execute_input": "2024-02-29T07:04:08.595469Z",
     "iopub.status.busy": "2024-02-29T07:04:08.594823Z",
     "iopub.status.idle": "2024-02-29T07:04:08.606781Z",
     "shell.execute_reply": "2024-02-29T07:04:08.606059Z"
    },
    "papermill": {
     "duration": 0.017266,
     "end_time": "2024-02-29T07:04:08.608454",
     "exception": false,
     "start_time": "2024-02-29T07:04:08.591188",
     "status": "completed"
    },
    "tags": []
   },
   "outputs": [],
   "source": [
    "result_df=result_df[result_df.cntry!=result_df.srce_cntry]"
   ]
  },
  {
   "cell_type": "code",
   "execution_count": 7,
   "id": "administrative-nebraska",
   "metadata": {
    "execution": {
     "iopub.execute_input": "2024-02-29T07:04:08.617834Z",
     "iopub.status.busy": "2024-02-29T07:04:08.617046Z",
     "iopub.status.idle": "2024-02-29T07:04:13.085593Z",
     "shell.execute_reply": "2024-02-29T07:04:13.084784Z"
    },
    "papermill": {
     "duration": 4.479937,
     "end_time": "2024-02-29T07:04:13.092181",
     "exception": false,
     "start_time": "2024-02-29T07:04:08.612244",
     "status": "completed"
    },
    "tags": []
   },
   "outputs": [
    {
     "name": "stderr",
     "output_type": "stream",
     "text": [
      "/home/miaoli/conda/envs/myenv/lib/python3.8/site-packages/funding/core.py:77: FutureWarning: \n",
      "\n",
      "The `ci` parameter is deprecated. Use `errorbar=('ci', 95)` for the same effect.\n",
      "\n",
      "  sns.lineplot(x=xcol,y=ycol,err_style='bars',ci=95,hue='Code',data=df,ax=ax,legend=False,palette=palette)\n"
     ]
    },
    {
     "data": {
      "image/png": "[encoded data removed]",
      "text/plain": [
       "<Figure size 800x600 with 1 Axes>"
      ]
     },
     "metadata": {},
     "output_type": "display_data"
    }
   ],
   "source": [
    "result_df=result_df.merge(flag_df,left_on='srce_cntry',right_on='WoS',how='left')\n",
    "\n",
    "fig, ax=plt.subplots(figsize=(8,6))\n",
    "topnlist,yvalues=funding.core.select_topn(result_df,'Code','kl',2018,10)\n",
    "ax=funding.core.plot(result_df,'year','kl',ax,topnlist,yvalues,'KL value')\n",
    "plt.savefig(plot_path, bbox_inches='tight')"
   ]
  },
  {
   "cell_type": "code",
   "execution_count": null,
   "id": "consolidated-consent",
   "metadata": {
    "papermill": {
     "duration": 0.003125,
     "end_time": "2024-02-29T07:04:13.101264",
     "exception": false,
     "start_time": "2024-02-29T07:04:13.098139",
     "status": "completed"
    },
    "tags": []
   },
   "outputs": [],
   "source": []
  }
 ],
 "metadata": {
  "kernelspec": {
   "display_name": "Python 3 (ipykernel)",
   "language": "python",
   "name": "python3"
  },
  "language_info": {
   "codemirror_mode": {
    "name": "ipython",
    "version": 3
   },
   "file_extension": ".py",
   "mimetype": "text/x-python",
   "name": "python",
   "nbconvert_exporter": "python",
   "pygments_lexer": "ipython3",
   "version": "3.8.16"
  },
  "papermill": {
   "default_parameters": {},
   "duration": 21.169493,
   "end_time": "2024-02-29T07:04:13.623322",
   "environment_variables": {},
   "exception": null,
   "input_path": "scripts/plot_profilechange_top20.ipynb",
   "output_path": "scripts/outputs/plot_profilechange_top20.ipynb",
   "parameters": {
    "cntry_filter_path": "../data/NationalFunding/Data/simulated_data/Data/DerivedData/Derived/dependence/pub_noforeign_exclusive_fund_top20.csv",
    "cntry_full_path": "../data/NationalFunding/Data/simulated_data/Data/DerivedData/Derived/cntry_author_full.csv",
    "flag_path": "../data/NationalFunding/Data/simulated_data/Data/AdditionalData/country_WoS_ECI_WB_flags.tsv",
    "plot_path": "../data/NationalFunding/Data/simulated_data/Figs/Figs/profilechange_exclusive_by_top10.pdf"
   },
   "start_time": "2024-02-29T07:03:52.453829",
   "version": "2.3.4"
  }
 },
 "nbformat": 4,
 "nbformat_minor": 5
}