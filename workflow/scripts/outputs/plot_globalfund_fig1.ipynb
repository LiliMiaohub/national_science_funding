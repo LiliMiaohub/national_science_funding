{
 "cells": [
  {
   "cell_type": "markdown",
   "id": "drawn-adelaide",
   "metadata": {
    "papermill": {
     "duration": 0.005531,
     "end_time": "2023-04-25T20:13:08.383194",
     "exception": false,
     "start_time": "2023-04-25T20:13:08.377663",
     "status": "completed"
    },
    "tags": []
   },
   "source": [
    "this script plot the funding pattern of global science"
   ]
  },
  {
   "cell_type": "code",
   "execution_count": 1,
   "id": "specific-calgary",
   "metadata": {
    "execution": {
     "iopub.execute_input": "2023-04-25T20:13:08.390944Z",
     "iopub.status.busy": "2023-04-25T20:13:08.389924Z",
     "iopub.status.idle": "2023-04-25T20:13:09.253239Z",
     "shell.execute_reply": "2023-04-25T20:13:09.252209Z"
    },
    "papermill": {
     "duration": 0.869772,
     "end_time": "2023-04-25T20:13:09.256082",
     "exception": false,
     "start_time": "2023-04-25T20:13:08.386310",
     "status": "completed"
    },
    "tags": []
   },
   "outputs": [],
   "source": [
    "import pandas as pd\n",
    "import numpy as np\n",
    "from itertools import product\n",
    "import seaborn as sns\n",
    "import matplotlib.pyplot as plt\n",
    "from matplotlib.lines import Line2D\n",
    "from matplotlib import gridspec\n",
    "from matplotlib.patches import Patch"
   ]
  },
  {
   "cell_type": "code",
   "execution_count": 2,
   "id": "stretch-country",
   "metadata": {
    "execution": {
     "iopub.execute_input": "2023-04-25T20:13:09.268658Z",
     "iopub.status.busy": "2023-04-25T20:13:09.267639Z",
     "iopub.status.idle": "2023-04-25T20:13:09.272436Z",
     "shell.execute_reply": "2023-04-25T20:13:09.271699Z"
    },
    "papermill": {
     "duration": 0.012132,
     "end_time": "2023-04-25T20:13:09.273738",
     "exception": false,
     "start_time": "2023-04-25T20:13:09.261606",
     "status": "completed"
    },
    "tags": [
     "parameters"
    ]
   },
   "outputs": [],
   "source": [
    "pubs_path=\"../../data/nf_folder/Data/DerivedData/CleanedRawData/pub.pkl\"\n",
    "\n",
    "global_funding_path='/u/miaoli/ember_home/dropbox/NationalFunding/Figs/Figs/global_funding.pdf'"
   ]
  },
  {
   "cell_type": "code",
   "execution_count": 3,
   "id": "921c03ba",
   "metadata": {
    "execution": {
     "iopub.execute_input": "2023-04-25T20:13:09.281385Z",
     "iopub.status.busy": "2023-04-25T20:13:09.280642Z",
     "iopub.status.idle": "2023-04-25T20:13:09.285238Z",
     "shell.execute_reply": "2023-04-25T20:13:09.284284Z"
    },
    "papermill": {
     "duration": 0.010057,
     "end_time": "2023-04-25T20:13:09.286603",
     "exception": false,
     "start_time": "2023-04-25T20:13:09.276546",
     "status": "completed"
    },
    "tags": [
     "injected-parameters"
    ]
   },
   "outputs": [],
   "source": [
    "# Parameters\n",
    "pubs_path = \"../data/NationalFunding/Data/DerivedData/CleanedRawData/pub.pkl\"\n",
    "global_funding_path = \"../data/NationalFunding/Figs/Figs/global_funding.pdf\"\n"
   ]
  },
  {
   "cell_type": "code",
   "execution_count": 4,
   "id": "loved-sally",
   "metadata": {
    "execution": {
     "iopub.execute_input": "2023-04-25T20:13:09.292429Z",
     "iopub.status.busy": "2023-04-25T20:13:09.291996Z",
     "iopub.status.idle": "2023-04-25T20:14:01.138520Z",
     "shell.execute_reply": "2023-04-25T20:14:01.137331Z"
    },
    "papermill": {
     "duration": 51.857988,
     "end_time": "2023-04-25T20:14:01.146910",
     "exception": false,
     "start_time": "2023-04-25T20:13:09.288922",
     "status": "completed"
    },
    "tags": []
   },
   "outputs": [
    {
     "data": {
      "text/html": [
       "<div>\n",
       "<style scoped>\n",
       "    .dataframe tbody tr th:only-of-type {\n",
       "        vertical-align: middle;\n",
       "    }\n",
       "\n",
       "    .dataframe tbody tr th {\n",
       "        vertical-align: top;\n",
       "    }\n",
       "\n",
       "    .dataframe thead th {\n",
       "        text-align: right;\n",
       "    }\n",
       "</style>\n",
       "<table border=\"1\" class=\"dataframe\">\n",
       "  <thead>\n",
       "    <tr style=\"text-align: right;\">\n",
       "      <th></th>\n",
       "      <th>id</th>\n",
       "      <th>year</th>\n",
       "      <th>dis</th>\n",
       "      <th>type</th>\n",
       "      <th>author</th>\n",
       "      <th>funder</th>\n",
       "      <th>author_distinct</th>\n",
       "      <th>funder_distinct</th>\n",
       "      <th>funded</th>\n",
       "      <th>IntCol</th>\n",
       "      <th>cofund</th>\n",
       "      <th>intfund</th>\n",
       "    </tr>\n",
       "  </thead>\n",
       "  <tbody>\n",
       "    <tr>\n",
       "      <th>0</th>\n",
       "      <td>60694041</td>\n",
       "      <td>2017</td>\n",
       "      <td>9</td>\n",
       "      <td>1</td>\n",
       "      <td>[Canada, United States]</td>\n",
       "      <td>[United States, United States]</td>\n",
       "      <td>[Canada, United States]</td>\n",
       "      <td>[United States]</td>\n",
       "      <td>1</td>\n",
       "      <td>1</td>\n",
       "      <td>0</td>\n",
       "      <td>0</td>\n",
       "    </tr>\n",
       "    <tr>\n",
       "      <th>1</th>\n",
       "      <td>48573156</td>\n",
       "      <td>2012</td>\n",
       "      <td>89</td>\n",
       "      <td>1</td>\n",
       "      <td>[France]</td>\n",
       "      <td>Not-Funded</td>\n",
       "      <td>[France]</td>\n",
       "      <td>Not-Funded</td>\n",
       "      <td>0</td>\n",
       "      <td>0</td>\n",
       "      <td>0</td>\n",
       "      <td>0</td>\n",
       "    </tr>\n",
       "    <tr>\n",
       "      <th>2</th>\n",
       "      <td>55323671</td>\n",
       "      <td>2015</td>\n",
       "      <td>89</td>\n",
       "      <td>1</td>\n",
       "      <td>[France, Chile]</td>\n",
       "      <td>[Chile, Chile, Chile, Chile, Chile]</td>\n",
       "      <td>[Chile, France]</td>\n",
       "      <td>[Chile]</td>\n",
       "      <td>1</td>\n",
       "      <td>1</td>\n",
       "      <td>0</td>\n",
       "      <td>0</td>\n",
       "    </tr>\n",
       "    <tr>\n",
       "      <th>3</th>\n",
       "      <td>57633115</td>\n",
       "      <td>2016</td>\n",
       "      <td>31</td>\n",
       "      <td>1</td>\n",
       "      <td>[Switzerland, United States]</td>\n",
       "      <td>[Switzerland]</td>\n",
       "      <td>[Switzerland, United States]</td>\n",
       "      <td>[Switzerland]</td>\n",
       "      <td>1</td>\n",
       "      <td>1</td>\n",
       "      <td>0</td>\n",
       "      <td>0</td>\n",
       "    </tr>\n",
       "    <tr>\n",
       "      <th>4</th>\n",
       "      <td>64831413</td>\n",
       "      <td>2018</td>\n",
       "      <td>99</td>\n",
       "      <td>1</td>\n",
       "      <td>[China]</td>\n",
       "      <td>[China, China, China, China, China, China]</td>\n",
       "      <td>[China]</td>\n",
       "      <td>[China]</td>\n",
       "      <td>1</td>\n",
       "      <td>0</td>\n",
       "      <td>0</td>\n",
       "      <td>0</td>\n",
       "    </tr>\n",
       "  </tbody>\n",
       "</table>\n",
       "</div>"
      ],
      "text/plain": [
       "         id  year  dis  type                        author   \n",
       "0  60694041  2017    9     1       [Canada, United States]  \\\n",
       "1  48573156  2012   89     1                      [France]   \n",
       "2  55323671  2015   89     1               [France, Chile]   \n",
       "3  57633115  2016   31     1  [Switzerland, United States]   \n",
       "4  64831413  2018   99     1                       [China]   \n",
       "\n",
       "                                       funder               author_distinct   \n",
       "0              [United States, United States]       [Canada, United States]  \\\n",
       "1                                  Not-Funded                      [France]   \n",
       "2         [Chile, Chile, Chile, Chile, Chile]               [Chile, France]   \n",
       "3                               [Switzerland]  [Switzerland, United States]   \n",
       "4  [China, China, China, China, China, China]                       [China]   \n",
       "\n",
       "   funder_distinct  funded  IntCol  cofund  intfund  \n",
       "0  [United States]       1       1       0        0  \n",
       "1       Not-Funded       0       0       0        0  \n",
       "2          [Chile]       1       1       0        0  \n",
       "3    [Switzerland]       1       1       0        0  \n",
       "4          [China]       1       0       0        0  "
      ]
     },
     "execution_count": 4,
     "metadata": {},
     "output_type": "execute_result"
    }
   ],
   "source": [
    "pubs_df = pd.read_pickle(pubs_path)\n",
    "pubs_df.head()"
   ]
  },
  {
   "cell_type": "markdown",
   "id": "dominican-reaction",
   "metadata": {
    "papermill": {
     "duration": 0.002679,
     "end_time": "2023-04-25T20:14:01.152565",
     "exception": false,
     "start_time": "2023-04-25T20:14:01.149886",
     "status": "completed"
    },
    "tags": []
   },
   "source": [
    "## calculate the funding ratio over year"
   ]
  },
  {
   "cell_type": "code",
   "execution_count": 5,
   "id": "actual-hunter",
   "metadata": {
    "execution": {
     "iopub.execute_input": "2023-04-25T20:14:01.159072Z",
     "iopub.status.busy": "2023-04-25T20:14:01.158820Z",
     "iopub.status.idle": "2023-04-25T20:16:41.102127Z",
     "shell.execute_reply": "2023-04-25T20:16:41.100820Z"
    },
    "papermill": {
     "duration": 159.950639,
     "end_time": "2023-04-25T20:16:41.105760",
     "exception": false,
     "start_time": "2023-04-25T20:14:01.155121",
     "status": "completed"
    },
    "tags": []
   },
   "outputs": [],
   "source": [
    "#assign funding types to publications\n",
    "def ftype(funded,cofund):\n",
    "    label=\"null\"\n",
    "    if funded==0:\n",
    "        label='Not-Funded'\n",
    "    elif funded==1 and cofund==0:\n",
    "        label='single'\n",
    "    elif funded==1 and cofund==1:\n",
    "        label='Cofund'\n",
    "    return label\n",
    "pubs_df['ftype']=pubs_df[['funded','cofund']].apply(lambda x:ftype(x.funded,x.cofund),axis=1)"
   ]
  },
  {
   "cell_type": "code",
   "execution_count": 6,
   "id": "separate-stadium",
   "metadata": {
    "execution": {
     "iopub.execute_input": "2023-04-25T20:16:41.118851Z",
     "iopub.status.busy": "2023-04-25T20:16:41.118073Z",
     "iopub.status.idle": "2023-04-25T20:16:41.138028Z",
     "shell.execute_reply": "2023-04-25T20:16:41.137259Z"
    },
    "papermill": {
     "duration": 0.029083,
     "end_time": "2023-04-25T20:16:41.142716",
     "exception": false,
     "start_time": "2023-04-25T20:16:41.113633",
     "status": "completed"
    },
    "tags": []
   },
   "outputs": [
    {
     "data": {
      "text/html": [
       "<div>\n",
       "<style scoped>\n",
       "    .dataframe tbody tr th:only-of-type {\n",
       "        vertical-align: middle;\n",
       "    }\n",
       "\n",
       "    .dataframe tbody tr th {\n",
       "        vertical-align: top;\n",
       "    }\n",
       "\n",
       "    .dataframe thead th {\n",
       "        text-align: right;\n",
       "    }\n",
       "</style>\n",
       "<table border=\"1\" class=\"dataframe\">\n",
       "  <thead>\n",
       "    <tr style=\"text-align: right;\">\n",
       "      <th></th>\n",
       "      <th>id</th>\n",
       "      <th>year</th>\n",
       "      <th>dis</th>\n",
       "      <th>type</th>\n",
       "      <th>author</th>\n",
       "      <th>funder</th>\n",
       "      <th>author_distinct</th>\n",
       "      <th>funder_distinct</th>\n",
       "      <th>funded</th>\n",
       "      <th>IntCol</th>\n",
       "      <th>cofund</th>\n",
       "      <th>intfund</th>\n",
       "      <th>ftype</th>\n",
       "    </tr>\n",
       "  </thead>\n",
       "  <tbody>\n",
       "    <tr>\n",
       "      <th>0</th>\n",
       "      <td>60694041</td>\n",
       "      <td>2017</td>\n",
       "      <td>9</td>\n",
       "      <td>1</td>\n",
       "      <td>[Canada, United States]</td>\n",
       "      <td>[United States, United States]</td>\n",
       "      <td>[Canada, United States]</td>\n",
       "      <td>[United States]</td>\n",
       "      <td>1</td>\n",
       "      <td>1</td>\n",
       "      <td>0</td>\n",
       "      <td>0</td>\n",
       "      <td>single</td>\n",
       "    </tr>\n",
       "    <tr>\n",
       "      <th>1</th>\n",
       "      <td>48573156</td>\n",
       "      <td>2012</td>\n",
       "      <td>89</td>\n",
       "      <td>1</td>\n",
       "      <td>[France]</td>\n",
       "      <td>Not-Funded</td>\n",
       "      <td>[France]</td>\n",
       "      <td>Not-Funded</td>\n",
       "      <td>0</td>\n",
       "      <td>0</td>\n",
       "      <td>0</td>\n",
       "      <td>0</td>\n",
       "      <td>Not-Funded</td>\n",
       "    </tr>\n",
       "    <tr>\n",
       "      <th>2</th>\n",
       "      <td>55323671</td>\n",
       "      <td>2015</td>\n",
       "      <td>89</td>\n",
       "      <td>1</td>\n",
       "      <td>[France, Chile]</td>\n",
       "      <td>[Chile, Chile, Chile, Chile, Chile]</td>\n",
       "      <td>[Chile, France]</td>\n",
       "      <td>[Chile]</td>\n",
       "      <td>1</td>\n",
       "      <td>1</td>\n",
       "      <td>0</td>\n",
       "      <td>0</td>\n",
       "      <td>single</td>\n",
       "    </tr>\n",
       "    <tr>\n",
       "      <th>3</th>\n",
       "      <td>57633115</td>\n",
       "      <td>2016</td>\n",
       "      <td>31</td>\n",
       "      <td>1</td>\n",
       "      <td>[Switzerland, United States]</td>\n",
       "      <td>[Switzerland]</td>\n",
       "      <td>[Switzerland, United States]</td>\n",
       "      <td>[Switzerland]</td>\n",
       "      <td>1</td>\n",
       "      <td>1</td>\n",
       "      <td>0</td>\n",
       "      <td>0</td>\n",
       "      <td>single</td>\n",
       "    </tr>\n",
       "    <tr>\n",
       "      <th>4</th>\n",
       "      <td>64831413</td>\n",
       "      <td>2018</td>\n",
       "      <td>99</td>\n",
       "      <td>1</td>\n",
       "      <td>[China]</td>\n",
       "      <td>[China, China, China, China, China, China]</td>\n",
       "      <td>[China]</td>\n",
       "      <td>[China]</td>\n",
       "      <td>1</td>\n",
       "      <td>0</td>\n",
       "      <td>0</td>\n",
       "      <td>0</td>\n",
       "      <td>single</td>\n",
       "    </tr>\n",
       "  </tbody>\n",
       "</table>\n",
       "</div>"
      ],
      "text/plain": [
       "         id  year  dis  type                        author   \n",
       "0  60694041  2017    9     1       [Canada, United States]  \\\n",
       "1  48573156  2012   89     1                      [France]   \n",
       "2  55323671  2015   89     1               [France, Chile]   \n",
       "3  57633115  2016   31     1  [Switzerland, United States]   \n",
       "4  64831413  2018   99     1                       [China]   \n",
       "\n",
       "                                       funder               author_distinct   \n",
       "0              [United States, United States]       [Canada, United States]  \\\n",
       "1                                  Not-Funded                      [France]   \n",
       "2         [Chile, Chile, Chile, Chile, Chile]               [Chile, France]   \n",
       "3                               [Switzerland]  [Switzerland, United States]   \n",
       "4  [China, China, China, China, China, China]                       [China]   \n",
       "\n",
       "   funder_distinct  funded  IntCol  cofund  intfund       ftype  \n",
       "0  [United States]       1       1       0        0      single  \n",
       "1       Not-Funded       0       0       0        0  Not-Funded  \n",
       "2          [Chile]       1       1       0        0      single  \n",
       "3    [Switzerland]       1       1       0        0      single  \n",
       "4          [China]       1       0       0        0      single  "
      ]
     },
     "execution_count": 6,
     "metadata": {},
     "output_type": "execute_result"
    }
   ],
   "source": [
    "pubs_df.head()"
   ]
  },
  {
   "cell_type": "code",
   "execution_count": 7,
   "id": "cordless-writer",
   "metadata": {
    "execution": {
     "iopub.execute_input": "2023-04-25T20:16:41.150231Z",
     "iopub.status.busy": "2023-04-25T20:16:41.149536Z",
     "iopub.status.idle": "2023-04-25T20:16:41.157429Z",
     "shell.execute_reply": "2023-04-25T20:16:41.156703Z"
    },
    "papermill": {
     "duration": 0.013224,
     "end_time": "2023-04-25T20:16:41.158802",
     "exception": false,
     "start_time": "2023-04-25T20:16:41.145578",
     "status": "completed"
    },
    "tags": []
   },
   "outputs": [],
   "source": [
    "def cal_fundtype(df):\n",
    "    fdtype=df.groupby(['year','ftype']).size().reset_index(name='count')\n",
    "    fdtype = fdtype.pivot(index='year',columns='ftype',values='count')\n",
    "    fdtype = fdtype.div(fdtype.sum(axis=1), axis=0)\n",
    "    fdtype = fdtype.reset_index().melt(id_vars='year',var_name='type', value_name='value')\n",
    "    funded=fdtype[fdtype.type=='Not-Funded']\n",
    "    funded['value']=1-funded['value']\n",
    "    funded['type']='Funded'\n",
    "    fdtype = pd.concat([fdtype,funded])\n",
    "    return fdtype"
   ]
  },
  {
   "cell_type": "code",
   "execution_count": 8,
   "id": "parliamentary-affect",
   "metadata": {
    "execution": {
     "iopub.execute_input": "2023-04-25T20:16:41.166122Z",
     "iopub.status.busy": "2023-04-25T20:16:41.165445Z",
     "iopub.status.idle": "2023-04-25T20:16:42.688546Z",
     "shell.execute_reply": "2023-04-25T20:16:42.687627Z"
    },
    "papermill": {
     "duration": 1.530617,
     "end_time": "2023-04-25T20:16:42.692365",
     "exception": false,
     "start_time": "2023-04-25T20:16:41.161748",
     "status": "completed"
    },
    "tags": []
   },
   "outputs": [
    {
     "name": "stderr",
     "output_type": "stream",
     "text": [
      "/tmp/ipykernel_347489/895852022.py:7: SettingWithCopyWarning: \n",
      "A value is trying to be set on a copy of a slice from a DataFrame.\n",
      "Try using .loc[row_indexer,col_indexer] = value instead\n",
      "\n",
      "See the caveats in the documentation: https://pandas.pydata.org/pandas-docs/stable/user_guide/indexing.html#returning-a-view-versus-a-copy\n",
      "  funded['value']=1-funded['value']\n",
      "/tmp/ipykernel_347489/895852022.py:8: SettingWithCopyWarning: \n",
      "A value is trying to be set on a copy of a slice from a DataFrame.\n",
      "Try using .loc[row_indexer,col_indexer] = value instead\n",
      "\n",
      "See the caveats in the documentation: https://pandas.pydata.org/pandas-docs/stable/user_guide/indexing.html#returning-a-view-versus-a-copy\n",
      "  funded['type']='Funded'\n"
     ]
    }
   ],
   "source": [
    "fdtype=cal_fundtype(pubs_df)"
   ]
  },
  {
   "cell_type": "code",
   "execution_count": 9,
   "id": "persistent-oklahoma",
   "metadata": {
    "execution": {
     "iopub.execute_input": "2023-04-25T20:16:42.705082Z",
     "iopub.status.busy": "2023-04-25T20:16:42.704081Z",
     "iopub.status.idle": "2023-04-25T20:16:42.714190Z",
     "shell.execute_reply": "2023-04-25T20:16:42.713439Z"
    },
    "papermill": {
     "duration": 0.01594,
     "end_time": "2023-04-25T20:16:42.715722",
     "exception": false,
     "start_time": "2023-04-25T20:16:42.699782",
     "status": "completed"
    },
    "tags": []
   },
   "outputs": [
    {
     "data": {
      "text/html": [
       "<div>\n",
       "<style scoped>\n",
       "    .dataframe tbody tr th:only-of-type {\n",
       "        vertical-align: middle;\n",
       "    }\n",
       "\n",
       "    .dataframe tbody tr th {\n",
       "        vertical-align: top;\n",
       "    }\n",
       "\n",
       "    .dataframe thead th {\n",
       "        text-align: right;\n",
       "    }\n",
       "</style>\n",
       "<table border=\"1\" class=\"dataframe\">\n",
       "  <thead>\n",
       "    <tr style=\"text-align: right;\">\n",
       "      <th></th>\n",
       "      <th>year</th>\n",
       "      <th>type</th>\n",
       "      <th>value</th>\n",
       "    </tr>\n",
       "  </thead>\n",
       "  <tbody>\n",
       "    <tr>\n",
       "      <th>0</th>\n",
       "      <td>2009</td>\n",
       "      <td>Cofund</td>\n",
       "      <td>0.077263</td>\n",
       "    </tr>\n",
       "    <tr>\n",
       "      <th>1</th>\n",
       "      <td>2010</td>\n",
       "      <td>Cofund</td>\n",
       "      <td>0.099982</td>\n",
       "    </tr>\n",
       "    <tr>\n",
       "      <th>2</th>\n",
       "      <td>2011</td>\n",
       "      <td>Cofund</td>\n",
       "      <td>0.110767</td>\n",
       "    </tr>\n",
       "    <tr>\n",
       "      <th>3</th>\n",
       "      <td>2012</td>\n",
       "      <td>Cofund</td>\n",
       "      <td>0.111941</td>\n",
       "    </tr>\n",
       "    <tr>\n",
       "      <th>4</th>\n",
       "      <td>2013</td>\n",
       "      <td>Cofund</td>\n",
       "      <td>0.111349</td>\n",
       "    </tr>\n",
       "  </tbody>\n",
       "</table>\n",
       "</div>"
      ],
      "text/plain": [
       "   year    type     value\n",
       "0  2009  Cofund  0.077263\n",
       "1  2010  Cofund  0.099982\n",
       "2  2011  Cofund  0.110767\n",
       "3  2012  Cofund  0.111941\n",
       "4  2013  Cofund  0.111349"
      ]
     },
     "execution_count": 9,
     "metadata": {},
     "output_type": "execute_result"
    }
   ],
   "source": [
    "fdtype.head(5)"
   ]
  },
  {
   "cell_type": "code",
   "execution_count": 10,
   "id": "floppy-webster",
   "metadata": {
    "execution": {
     "iopub.execute_input": "2023-04-25T20:16:42.723838Z",
     "iopub.status.busy": "2023-04-25T20:16:42.723277Z",
     "iopub.status.idle": "2023-04-25T20:16:44.863899Z",
     "shell.execute_reply": "2023-04-25T20:16:44.862932Z"
    },
    "papermill": {
     "duration": 2.147874,
     "end_time": "2023-04-25T20:16:44.867359",
     "exception": false,
     "start_time": "2023-04-25T20:16:42.719485",
     "status": "completed"
    },
    "tags": []
   },
   "outputs": [
    {
     "name": "stderr",
     "output_type": "stream",
     "text": [
      "/tmp/ipykernel_347489/895852022.py:7: SettingWithCopyWarning: \n",
      "A value is trying to be set on a copy of a slice from a DataFrame.\n",
      "Try using .loc[row_indexer,col_indexer] = value instead\n",
      "\n",
      "See the caveats in the documentation: https://pandas.pydata.org/pandas-docs/stable/user_guide/indexing.html#returning-a-view-versus-a-copy\n",
      "  funded['value']=1-funded['value']\n",
      "/tmp/ipykernel_347489/895852022.py:8: SettingWithCopyWarning: \n",
      "A value is trying to be set on a copy of a slice from a DataFrame.\n",
      "Try using .loc[row_indexer,col_indexer] = value instead\n",
      "\n",
      "See the caveats in the documentation: https://pandas.pydata.org/pandas-docs/stable/user_guide/indexing.html#returning-a-view-versus-a-copy\n",
      "  funded['type']='Funded'\n"
     ]
    }
   ],
   "source": [
    "df=pubs_df[pubs_df.IntCol==1]\n",
    "colltype=cal_fundtype(df)"
   ]
  },
  {
   "cell_type": "code",
   "execution_count": 11,
   "id": "driving-notification",
   "metadata": {
    "execution": {
     "iopub.execute_input": "2023-04-25T20:16:44.880765Z",
     "iopub.status.busy": "2023-04-25T20:16:44.880161Z",
     "iopub.status.idle": "2023-04-25T20:16:44.890380Z",
     "shell.execute_reply": "2023-04-25T20:16:44.889878Z"
    },
    "papermill": {
     "duration": 0.016444,
     "end_time": "2023-04-25T20:16:44.891978",
     "exception": false,
     "start_time": "2023-04-25T20:16:44.875534",
     "status": "completed"
    },
    "tags": []
   },
   "outputs": [
    {
     "data": {
      "text/html": [
       "<div>\n",
       "<style scoped>\n",
       "    .dataframe tbody tr th:only-of-type {\n",
       "        vertical-align: middle;\n",
       "    }\n",
       "\n",
       "    .dataframe tbody tr th {\n",
       "        vertical-align: top;\n",
       "    }\n",
       "\n",
       "    .dataframe thead th {\n",
       "        text-align: right;\n",
       "    }\n",
       "</style>\n",
       "<table border=\"1\" class=\"dataframe\">\n",
       "  <thead>\n",
       "    <tr style=\"text-align: right;\">\n",
       "      <th></th>\n",
       "      <th>year</th>\n",
       "      <th>type</th>\n",
       "      <th>value</th>\n",
       "    </tr>\n",
       "  </thead>\n",
       "  <tbody>\n",
       "    <tr>\n",
       "      <th>0</th>\n",
       "      <td>2009</td>\n",
       "      <td>Cofund</td>\n",
       "      <td>0.233071</td>\n",
       "    </tr>\n",
       "    <tr>\n",
       "      <th>1</th>\n",
       "      <td>2010</td>\n",
       "      <td>Cofund</td>\n",
       "      <td>0.290632</td>\n",
       "    </tr>\n",
       "    <tr>\n",
       "      <th>2</th>\n",
       "      <td>2011</td>\n",
       "      <td>Cofund</td>\n",
       "      <td>0.314999</td>\n",
       "    </tr>\n",
       "    <tr>\n",
       "      <th>3</th>\n",
       "      <td>2012</td>\n",
       "      <td>Cofund</td>\n",
       "      <td>0.313685</td>\n",
       "    </tr>\n",
       "    <tr>\n",
       "      <th>4</th>\n",
       "      <td>2013</td>\n",
       "      <td>Cofund</td>\n",
       "      <td>0.306588</td>\n",
       "    </tr>\n",
       "  </tbody>\n",
       "</table>\n",
       "</div>"
      ],
      "text/plain": [
       "   year    type     value\n",
       "0  2009  Cofund  0.233071\n",
       "1  2010  Cofund  0.290632\n",
       "2  2011  Cofund  0.314999\n",
       "3  2012  Cofund  0.313685\n",
       "4  2013  Cofund  0.306588"
      ]
     },
     "execution_count": 11,
     "metadata": {},
     "output_type": "execute_result"
    }
   ],
   "source": [
    "colltype.head(5)"
   ]
  },
  {
   "cell_type": "code",
   "execution_count": 12,
   "id": "exposed-sierra",
   "metadata": {
    "execution": {
     "iopub.execute_input": "2023-04-25T20:16:44.900953Z",
     "iopub.status.busy": "2023-04-25T20:16:44.900628Z",
     "iopub.status.idle": "2023-04-25T20:16:47.660898Z",
     "shell.execute_reply": "2023-04-25T20:16:47.660337Z"
    },
    "papermill": {
     "duration": 2.768041,
     "end_time": "2023-04-25T20:16:47.664631",
     "exception": false,
     "start_time": "2023-04-25T20:16:44.896590",
     "status": "completed"
    },
    "tags": []
   },
   "outputs": [
    {
     "name": "stderr",
     "output_type": "stream",
     "text": [
      "/tmp/ipykernel_347489/895852022.py:7: SettingWithCopyWarning: \n",
      "A value is trying to be set on a copy of a slice from a DataFrame.\n",
      "Try using .loc[row_indexer,col_indexer] = value instead\n",
      "\n",
      "See the caveats in the documentation: https://pandas.pydata.org/pandas-docs/stable/user_guide/indexing.html#returning-a-view-versus-a-copy\n",
      "  funded['value']=1-funded['value']\n",
      "/tmp/ipykernel_347489/895852022.py:8: SettingWithCopyWarning: \n",
      "A value is trying to be set on a copy of a slice from a DataFrame.\n",
      "Try using .loc[row_indexer,col_indexer] = value instead\n",
      "\n",
      "See the caveats in the documentation: https://pandas.pydata.org/pandas-docs/stable/user_guide/indexing.html#returning-a-view-versus-a-copy\n",
      "  funded['type']='Funded'\n"
     ]
    }
   ],
   "source": [
    "df=pubs_df[pubs_df.IntCol==0]\n",
    "dometype=cal_fundtype(df)"
   ]
  },
  {
   "cell_type": "code",
   "execution_count": 13,
   "id": "toxic-adams",
   "metadata": {
    "execution": {
     "iopub.execute_input": "2023-04-25T20:16:47.677596Z",
     "iopub.status.busy": "2023-04-25T20:16:47.676764Z",
     "iopub.status.idle": "2023-04-25T20:16:49.961634Z",
     "shell.execute_reply": "2023-04-25T20:16:49.961109Z"
    },
    "papermill": {
     "duration": 2.296486,
     "end_time": "2023-04-25T20:16:49.968876",
     "exception": false,
     "start_time": "2023-04-25T20:16:47.672390",
     "status": "completed"
    },
    "tags": []
   },
   "outputs": [
    {
     "data": {
      "image/png": "[encoded data removed]",
      "text/plain": [
       "<Figure size 1800x400 with 3 Axes>"
      ]
     },
     "metadata": {},
     "output_type": "display_data"
    }
   ],
   "source": [
    "def plot_type(df,ax,ylabel,text,texty,values):\n",
    "    sns.lineplot(x='year',y='value',hue='type',\n",
    "             palette={'Cofund':'#EB7549','single':'#D96C89','Not-Funded':'#C5C9C7','Funded':'#BF2121'},\n",
    "             data=df,legend=False,style='type',dashes={'Cofund':(2,1),'single':(2,1),'Not-Funded':'','Funded':''},\n",
    "             ax=ax)\n",
    "    ax.set_xticks(np.arange(2010,2019,2))\n",
    "    ax.set_xlabel(\"\")\n",
    "    ax.spines['right'].set_visible(False)\n",
    "    ax.spines['top'].set_visible(False)\n",
    "    ax.set_ylabel(ylabel,fontsize=13,labelpad=0)\n",
    "    ax.tick_params(axis='both', which='major', labelsize=12)\n",
    "    ax.set_ylim(0,1)\n",
    "    \n",
    "    for t, ty in zip(text,texty):\n",
    "        ax.text(2012,ty,s=t,fontsize=12)\n",
    "    for v in values:\n",
    "        ax.text(2018.1,v,s=str(np.around(v,decimals=2)),fontsize=12)\n",
    "    return ax\n",
    "\n",
    "fig, ax=plt.subplots(nrows=1,ncols=3,figsize=(18,4))\n",
    "ax0=ax[0]\n",
    "ax1=ax[1]\n",
    "ax2=ax[2]\n",
    "\n",
    "text=[\"Funded by a single country\",\"Not Funded\",\"Funded internationally\",\"Funded\"]\n",
    "texty=[0.53,0.41,0.12,0.63]\n",
    "ylabel='Proportion of publications'\n",
    "values=fdtype[fdtype.year==2018].value.tolist()\n",
    "ax0=plot_type(fdtype,ax0,ylabel,text,texty,values)\n",
    "\n",
    "ylabel='Proportion of international collaborations'\n",
    "texty=[0.43,0.24,0.32,0.73]\n",
    "values=colltype[colltype.year==2018].value.tolist()\n",
    "ax1=plot_type(colltype,ax1,ylabel,text,texty,values)\n",
    "\n",
    "ylabel='Proportion of domestic publications'\n",
    "texty=[0.47,0.37,0.06,0.59]\n",
    "values=dometype[dometype.year==2018].value.tolist()\n",
    "ax2=plot_type(dometype,ax2,ylabel,text,texty,values)\n",
    "plt.savefig(global_funding_path,bbox_inches='tight')"
   ]
  },
  {
   "cell_type": "code",
   "execution_count": null,
   "id": "linear-seating",
   "metadata": {
    "papermill": {
     "duration": 0.005001,
     "end_time": "2023-04-25T20:16:49.980411",
     "exception": false,
     "start_time": "2023-04-25T20:16:49.975410",
     "status": "completed"
    },
    "tags": []
   },
   "outputs": [],
   "source": []
  }
 ],
 "metadata": {
  "kernelspec": {
   "display_name": "Python 3 (ipykernel)",
   "language": "python",
   "name": "python3"
  },
  "language_info": {
   "codemirror_mode": {
    "name": "ipython",
    "version": 3
   },
   "file_extension": ".py",
   "mimetype": "text/x-python",
   "name": "python",
   "nbconvert_exporter": "python",
   "pygments_lexer": "ipython3",
   "version": "3.8.16"
  },
  "papermill": {
   "default_parameters": {},
   "duration": 225.969964,
   "end_time": "2023-04-25T20:16:53.107106",
   "environment_variables": {},
   "exception": null,
   "input_path": "scripts/plot_globalfund_fig1.ipynb",
   "output_path": "scripts/outputs/plot_globalfund_fig1.ipynb",
   "parameters": {
    "global_funding_path": "../data/NationalFunding/Figs/Figs/global_funding.pdf",
    "pubs_path": "../data/NationalFunding/Data/DerivedData/CleanedRawData/pub.pkl"
   },
   "start_time": "2023-04-25T20:13:07.137142",
   "version": "2.3.4"
  }
 },
 "nbformat": 4,
 "nbformat_minor": 5
}