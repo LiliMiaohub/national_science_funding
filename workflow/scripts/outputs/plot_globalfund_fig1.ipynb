{
 "cells": [
  {
   "cell_type": "markdown",
   "id": "drawn-adelaide",
   "metadata": {
    "papermill": {
     "duration": 0.008246,
     "end_time": "2024-02-28T23:33:25.695739",
     "exception": false,
     "start_time": "2024-02-28T23:33:25.687493",
     "status": "completed"
    },
    "tags": []
   },
   "source": [
    "this script plot the funding pattern of global science"
   ]
  },
  {
   "cell_type": "code",
   "execution_count": 1,
   "id": "specific-calgary",
   "metadata": {
    "execution": {
     "iopub.execute_input": "2024-02-28T23:33:25.702263Z",
     "iopub.status.busy": "2024-02-28T23:33:25.701916Z",
     "iopub.status.idle": "2024-02-28T23:33:26.728044Z",
     "shell.execute_reply": "2024-02-28T23:33:26.727112Z"
    },
    "papermill": {
     "duration": 1.033269,
     "end_time": "2024-02-28T23:33:26.731735",
     "exception": false,
     "start_time": "2024-02-28T23:33:25.698466",
     "status": "completed"
    },
    "tags": []
   },
   "outputs": [],
   "source": [
    "import pandas as pd\n",
    "import numpy as np\n",
    "from itertools import product\n",
    "import seaborn as sns\n",
    "import matplotlib.pyplot as plt\n",
    "from matplotlib.lines import Line2D\n",
    "from matplotlib import gridspec\n",
    "from matplotlib.patches import Patch"
   ]
  },
  {
   "cell_type": "code",
   "execution_count": 2,
   "id": "stretch-country",
   "metadata": {
    "execution": {
     "iopub.execute_input": "2024-02-28T23:33:26.744580Z",
     "iopub.status.busy": "2024-02-28T23:33:26.743599Z",
     "iopub.status.idle": "2024-02-28T23:33:26.749781Z",
     "shell.execute_reply": "2024-02-28T23:33:26.748580Z"
    },
    "papermill": {
     "duration": 0.012672,
     "end_time": "2024-02-28T23:33:26.751566",
     "exception": false,
     "start_time": "2024-02-28T23:33:26.738894",
     "status": "completed"
    },
    "tags": [
     "parameters"
    ]
   },
   "outputs": [],
   "source": [
    "pubs_path=\"../../data/nf_folder/Data/DerivedData/CleanedRawData/pub.pkl\"\n",
    "\n",
    "global_funding_path='/u/miaoli/ember_home/dropbox/NationalFunding/Figs/Figs/global_funding.pdf'"
   ]
  },
  {
   "cell_type": "code",
   "execution_count": 3,
   "id": "15b74f4e",
   "metadata": {
    "execution": {
     "iopub.execute_input": "2024-02-28T23:33:26.758457Z",
     "iopub.status.busy": "2024-02-28T23:33:26.758258Z",
     "iopub.status.idle": "2024-02-28T23:33:26.762149Z",
     "shell.execute_reply": "2024-02-28T23:33:26.761149Z"
    },
    "papermill": {
     "duration": 0.008933,
     "end_time": "2024-02-28T23:33:26.763512",
     "exception": false,
     "start_time": "2024-02-28T23:33:26.754579",
     "status": "completed"
    },
    "tags": [
     "injected-parameters"
    ]
   },
   "outputs": [],
   "source": [
    "# Parameters\n",
    "pubs_path = \"../data/NationalFunding/Data/simulated_data/Data/DerivedData/CleanedRawData/pub.pkl\"\n",
    "global_funding_path = (\n",
    "    \"../data/NationalFunding/Data/simulated_data/Figs/Figs/global_funding.pdf\"\n",
    ")\n"
   ]
  },
  {
   "cell_type": "code",
   "execution_count": 4,
   "id": "loved-sally",
   "metadata": {
    "execution": {
     "iopub.execute_input": "2024-02-28T23:33:26.769983Z",
     "iopub.status.busy": "2024-02-28T23:33:26.769271Z",
     "iopub.status.idle": "2024-02-28T23:33:30.345080Z",
     "shell.execute_reply": "2024-02-28T23:33:30.343992Z"
    },
    "papermill": {
     "duration": 3.583103,
     "end_time": "2024-02-28T23:33:30.349029",
     "exception": false,
     "start_time": "2024-02-28T23:33:26.765926",
     "status": "completed"
    },
    "tags": []
   },
   "outputs": [
    {
     "data": {
      "text/html": [
       "<div>\n",
       "<style scoped>\n",
       "    .dataframe tbody tr th:only-of-type {\n",
       "        vertical-align: middle;\n",
       "    }\n",
       "\n",
       "    .dataframe tbody tr th {\n",
       "        vertical-align: top;\n",
       "    }\n",
       "\n",
       "    .dataframe thead th {\n",
       "        text-align: right;\n",
       "    }\n",
       "</style>\n",
       "<table border=\"1\" class=\"dataframe\">\n",
       "  <thead>\n",
       "    <tr style=\"text-align: right;\">\n",
       "      <th></th>\n",
       "      <th>id</th>\n",
       "      <th>year</th>\n",
       "      <th>dis</th>\n",
       "      <th>type</th>\n",
       "      <th>author</th>\n",
       "      <th>funder</th>\n",
       "      <th>author_distinct</th>\n",
       "      <th>funder_distinct</th>\n",
       "      <th>funded</th>\n",
       "      <th>IntCol</th>\n",
       "      <th>cofund</th>\n",
       "      <th>intfund</th>\n",
       "    </tr>\n",
       "  </thead>\n",
       "  <tbody>\n",
       "    <tr>\n",
       "      <th>0</th>\n",
       "      <td>0</td>\n",
       "      <td>2014</td>\n",
       "      <td>29</td>\n",
       "      <td>1</td>\n",
       "      <td>[Canada]</td>\n",
       "      <td>[United States, Brazil, United States, Republi...</td>\n",
       "      <td>[Canada]</td>\n",
       "      <td>[Republic of Serbia, China, Brazil, United Sta...</td>\n",
       "      <td>1</td>\n",
       "      <td>0</td>\n",
       "      <td>1</td>\n",
       "      <td>1</td>\n",
       "    </tr>\n",
       "    <tr>\n",
       "      <th>1</th>\n",
       "      <td>1</td>\n",
       "      <td>2017</td>\n",
       "      <td>32</td>\n",
       "      <td>1</td>\n",
       "      <td>[Russia, Spain]</td>\n",
       "      <td>[Austria, China, China, China, United States, ...</td>\n",
       "      <td>[Russia, Spain]</td>\n",
       "      <td>[China, United States, Austria, Russia, Japan]</td>\n",
       "      <td>1</td>\n",
       "      <td>1</td>\n",
       "      <td>1</td>\n",
       "      <td>1</td>\n",
       "    </tr>\n",
       "    <tr>\n",
       "      <th>2</th>\n",
       "      <td>2</td>\n",
       "      <td>2012</td>\n",
       "      <td>15</td>\n",
       "      <td>1</td>\n",
       "      <td>[Turkey]</td>\n",
       "      <td>Not-Funded</td>\n",
       "      <td>[Turkey]</td>\n",
       "      <td>Not-Funded</td>\n",
       "      <td>0</td>\n",
       "      <td>0</td>\n",
       "      <td>0</td>\n",
       "      <td>0</td>\n",
       "    </tr>\n",
       "    <tr>\n",
       "      <th>3</th>\n",
       "      <td>3</td>\n",
       "      <td>2010</td>\n",
       "      <td>53</td>\n",
       "      <td>1</td>\n",
       "      <td>[United States, Iran]</td>\n",
       "      <td>[China]</td>\n",
       "      <td>[Iran, United States]</td>\n",
       "      <td>[China]</td>\n",
       "      <td>1</td>\n",
       "      <td>1</td>\n",
       "      <td>0</td>\n",
       "      <td>1</td>\n",
       "    </tr>\n",
       "    <tr>\n",
       "      <th>4</th>\n",
       "      <td>4</td>\n",
       "      <td>2015</td>\n",
       "      <td>22</td>\n",
       "      <td>1</td>\n",
       "      <td>[Denmark]</td>\n",
       "      <td>Not-Funded</td>\n",
       "      <td>[Denmark]</td>\n",
       "      <td>Not-Funded</td>\n",
       "      <td>0</td>\n",
       "      <td>0</td>\n",
       "      <td>0</td>\n",
       "      <td>0</td>\n",
       "    </tr>\n",
       "  </tbody>\n",
       "</table>\n",
       "</div>"
      ],
      "text/plain": [
       "   id  year  dis  type                 author   \n",
       "0   0  2014   29     1               [Canada]  \\\n",
       "1   1  2017   32     1        [Russia, Spain]   \n",
       "2   2  2012   15     1               [Turkey]   \n",
       "3   3  2010   53     1  [United States, Iran]   \n",
       "4   4  2015   22     1              [Denmark]   \n",
       "\n",
       "                                              funder        author_distinct   \n",
       "0  [United States, Brazil, United States, Republi...               [Canada]  \\\n",
       "1  [Austria, China, China, China, United States, ...        [Russia, Spain]   \n",
       "2                                         Not-Funded               [Turkey]   \n",
       "3                                            [China]  [Iran, United States]   \n",
       "4                                         Not-Funded              [Denmark]   \n",
       "\n",
       "                                     funder_distinct  funded  IntCol  cofund   \n",
       "0  [Republic of Serbia, China, Brazil, United Sta...       1       0       1  \\\n",
       "1     [China, United States, Austria, Russia, Japan]       1       1       1   \n",
       "2                                         Not-Funded       0       0       0   \n",
       "3                                            [China]       1       1       0   \n",
       "4                                         Not-Funded       0       0       0   \n",
       "\n",
       "   intfund  \n",
       "0        1  \n",
       "1        1  \n",
       "2        0  \n",
       "3        1  \n",
       "4        0  "
      ]
     },
     "execution_count": 4,
     "metadata": {},
     "output_type": "execute_result"
    }
   ],
   "source": [
    "pubs_df = pd.read_pickle(pubs_path)\n",
    "pubs_df.head()"
   ]
  },
  {
   "cell_type": "markdown",
   "id": "dominican-reaction",
   "metadata": {
    "papermill": {
     "duration": 0.002677,
     "end_time": "2024-02-28T23:33:30.356647",
     "exception": false,
     "start_time": "2024-02-28T23:33:30.353970",
     "status": "completed"
    },
    "tags": []
   },
   "source": [
    "## calculate the funding ratio over year"
   ]
  },
  {
   "cell_type": "code",
   "execution_count": 5,
   "id": "actual-hunter",
   "metadata": {
    "execution": {
     "iopub.execute_input": "2024-02-28T23:33:30.364083Z",
     "iopub.status.busy": "2024-02-28T23:33:30.363392Z",
     "iopub.status.idle": "2024-02-28T23:33:38.566732Z",
     "shell.execute_reply": "2024-02-28T23:33:38.565391Z"
    },
    "papermill": {
     "duration": 8.210879,
     "end_time": "2024-02-28T23:33:38.570186",
     "exception": false,
     "start_time": "2024-02-28T23:33:30.359307",
     "status": "completed"
    },
    "tags": []
   },
   "outputs": [],
   "source": [
    "#assign funding types to publications\n",
    "def ftype(funded,cofund):\n",
    "    label=\"null\"\n",
    "    if funded==0:\n",
    "        label='Not-Funded'\n",
    "    elif funded==1 and cofund==0:\n",
    "        label='single'\n",
    "    elif funded==1 and cofund==1:\n",
    "        label='Cofund'\n",
    "    return label\n",
    "pubs_df['ftype']=pubs_df[['funded','cofund']].apply(lambda x:ftype(x.funded,x.cofund),axis=1)"
   ]
  },
  {
   "cell_type": "code",
   "execution_count": 6,
   "id": "separate-stadium",
   "metadata": {
    "execution": {
     "iopub.execute_input": "2024-02-28T23:33:38.582874Z",
     "iopub.status.busy": "2024-02-28T23:33:38.582290Z",
     "iopub.status.idle": "2024-02-28T23:33:38.602064Z",
     "shell.execute_reply": "2024-02-28T23:33:38.601175Z"
    },
    "papermill": {
     "duration": 0.026706,
     "end_time": "2024-02-28T23:33:38.604369",
     "exception": false,
     "start_time": "2024-02-28T23:33:38.577663",
     "status": "completed"
    },
    "tags": []
   },
   "outputs": [
    {
     "data": {
      "text/html": [
       "<div>\n",
       "<style scoped>\n",
       "    .dataframe tbody tr th:only-of-type {\n",
       "        vertical-align: middle;\n",
       "    }\n",
       "\n",
       "    .dataframe tbody tr th {\n",
       "        vertical-align: top;\n",
       "    }\n",
       "\n",
       "    .dataframe thead th {\n",
       "        text-align: right;\n",
       "    }\n",
       "</style>\n",
       "<table border=\"1\" class=\"dataframe\">\n",
       "  <thead>\n",
       "    <tr style=\"text-align: right;\">\n",
       "      <th></th>\n",
       "      <th>id</th>\n",
       "      <th>year</th>\n",
       "      <th>dis</th>\n",
       "      <th>type</th>\n",
       "      <th>author</th>\n",
       "      <th>funder</th>\n",
       "      <th>author_distinct</th>\n",
       "      <th>funder_distinct</th>\n",
       "      <th>funded</th>\n",
       "      <th>IntCol</th>\n",
       "      <th>cofund</th>\n",
       "      <th>intfund</th>\n",
       "      <th>ftype</th>\n",
       "    </tr>\n",
       "  </thead>\n",
       "  <tbody>\n",
       "    <tr>\n",
       "      <th>0</th>\n",
       "      <td>0</td>\n",
       "      <td>2014</td>\n",
       "      <td>29</td>\n",
       "      <td>1</td>\n",
       "      <td>[Canada]</td>\n",
       "      <td>[United States, Brazil, United States, Republi...</td>\n",
       "      <td>[Canada]</td>\n",
       "      <td>[Republic of Serbia, China, Brazil, United Sta...</td>\n",
       "      <td>1</td>\n",
       "      <td>0</td>\n",
       "      <td>1</td>\n",
       "      <td>1</td>\n",
       "      <td>Cofund</td>\n",
       "    </tr>\n",
       "    <tr>\n",
       "      <th>1</th>\n",
       "      <td>1</td>\n",
       "      <td>2017</td>\n",
       "      <td>32</td>\n",
       "      <td>1</td>\n",
       "      <td>[Russia, Spain]</td>\n",
       "      <td>[Austria, China, China, China, United States, ...</td>\n",
       "      <td>[Russia, Spain]</td>\n",
       "      <td>[China, United States, Austria, Russia, Japan]</td>\n",
       "      <td>1</td>\n",
       "      <td>1</td>\n",
       "      <td>1</td>\n",
       "      <td>1</td>\n",
       "      <td>Cofund</td>\n",
       "    </tr>\n",
       "    <tr>\n",
       "      <th>2</th>\n",
       "      <td>2</td>\n",
       "      <td>2012</td>\n",
       "      <td>15</td>\n",
       "      <td>1</td>\n",
       "      <td>[Turkey]</td>\n",
       "      <td>Not-Funded</td>\n",
       "      <td>[Turkey]</td>\n",
       "      <td>Not-Funded</td>\n",
       "      <td>0</td>\n",
       "      <td>0</td>\n",
       "      <td>0</td>\n",
       "      <td>0</td>\n",
       "      <td>Not-Funded</td>\n",
       "    </tr>\n",
       "    <tr>\n",
       "      <th>3</th>\n",
       "      <td>3</td>\n",
       "      <td>2010</td>\n",
       "      <td>53</td>\n",
       "      <td>1</td>\n",
       "      <td>[United States, Iran]</td>\n",
       "      <td>[China]</td>\n",
       "      <td>[Iran, United States]</td>\n",
       "      <td>[China]</td>\n",
       "      <td>1</td>\n",
       "      <td>1</td>\n",
       "      <td>0</td>\n",
       "      <td>1</td>\n",
       "      <td>single</td>\n",
       "    </tr>\n",
       "    <tr>\n",
       "      <th>4</th>\n",
       "      <td>4</td>\n",
       "      <td>2015</td>\n",
       "      <td>22</td>\n",
       "      <td>1</td>\n",
       "      <td>[Denmark]</td>\n",
       "      <td>Not-Funded</td>\n",
       "      <td>[Denmark]</td>\n",
       "      <td>Not-Funded</td>\n",
       "      <td>0</td>\n",
       "      <td>0</td>\n",
       "      <td>0</td>\n",
       "      <td>0</td>\n",
       "      <td>Not-Funded</td>\n",
       "    </tr>\n",
       "  </tbody>\n",
       "</table>\n",
       "</div>"
      ],
      "text/plain": [
       "   id  year  dis  type                 author   \n",
       "0   0  2014   29     1               [Canada]  \\\n",
       "1   1  2017   32     1        [Russia, Spain]   \n",
       "2   2  2012   15     1               [Turkey]   \n",
       "3   3  2010   53     1  [United States, Iran]   \n",
       "4   4  2015   22     1              [Denmark]   \n",
       "\n",
       "                                              funder        author_distinct   \n",
       "0  [United States, Brazil, United States, Republi...               [Canada]  \\\n",
       "1  [Austria, China, China, China, United States, ...        [Russia, Spain]   \n",
       "2                                         Not-Funded               [Turkey]   \n",
       "3                                            [China]  [Iran, United States]   \n",
       "4                                         Not-Funded              [Denmark]   \n",
       "\n",
       "                                     funder_distinct  funded  IntCol  cofund   \n",
       "0  [Republic of Serbia, China, Brazil, United Sta...       1       0       1  \\\n",
       "1     [China, United States, Austria, Russia, Japan]       1       1       1   \n",
       "2                                         Not-Funded       0       0       0   \n",
       "3                                            [China]       1       1       0   \n",
       "4                                         Not-Funded       0       0       0   \n",
       "\n",
       "   intfund       ftype  \n",
       "0        1      Cofund  \n",
       "1        1      Cofund  \n",
       "2        0  Not-Funded  \n",
       "3        1      single  \n",
       "4        0  Not-Funded  "
      ]
     },
     "execution_count": 6,
     "metadata": {},
     "output_type": "execute_result"
    }
   ],
   "source": [
    "pubs_df.head()"
   ]
  },
  {
   "cell_type": "code",
   "execution_count": 7,
   "id": "cordless-writer",
   "metadata": {
    "execution": {
     "iopub.execute_input": "2024-02-28T23:33:38.612323Z",
     "iopub.status.busy": "2024-02-28T23:33:38.611966Z",
     "iopub.status.idle": "2024-02-28T23:33:38.618793Z",
     "shell.execute_reply": "2024-02-28T23:33:38.617937Z"
    },
    "papermill": {
     "duration": 0.012663,
     "end_time": "2024-02-28T23:33:38.620406",
     "exception": false,
     "start_time": "2024-02-28T23:33:38.607743",
     "status": "completed"
    },
    "tags": []
   },
   "outputs": [],
   "source": [
    "def cal_fundtype(df):\n",
    "    fdtype=df.groupby(['year','ftype']).size().reset_index(name='count')\n",
    "    fdtype = fdtype.pivot(index='year',columns='ftype',values='count')\n",
    "    fdtype = fdtype.div(fdtype.sum(axis=1), axis=0)\n",
    "    fdtype = fdtype.reset_index().melt(id_vars='year',var_name='type', value_name='value')\n",
    "    funded=fdtype[fdtype.type=='Not-Funded']\n",
    "    funded['value']=1-funded['value']\n",
    "    funded['type']='Funded'\n",
    "    fdtype = pd.concat([fdtype,funded])\n",
    "    return fdtype"
   ]
  },
  {
   "cell_type": "code",
   "execution_count": 8,
   "id": "parliamentary-affect",
   "metadata": {
    "execution": {
     "iopub.execute_input": "2024-02-28T23:33:38.628465Z",
     "iopub.status.busy": "2024-02-28T23:33:38.627874Z",
     "iopub.status.idle": "2024-02-28T23:33:38.705275Z",
     "shell.execute_reply": "2024-02-28T23:33:38.704135Z"
    },
    "papermill": {
     "duration": 0.084267,
     "end_time": "2024-02-28T23:33:38.708183",
     "exception": false,
     "start_time": "2024-02-28T23:33:38.623916",
     "status": "completed"
    },
    "tags": []
   },
   "outputs": [
    {
     "name": "stderr",
     "output_type": "stream",
     "text": [
      "/tmp/ipykernel_1985051/895852022.py:7: SettingWithCopyWarning: \n",
      "A value is trying to be set on a copy of a slice from a DataFrame.\n",
      "Try using .loc[row_indexer,col_indexer] = value instead\n",
      "\n",
      "See the caveats in the documentation: https://pandas.pydata.org/pandas-docs/stable/user_guide/indexing.html#returning-a-view-versus-a-copy\n",
      "  funded['value']=1-funded['value']\n",
      "/tmp/ipykernel_1985051/895852022.py:8: SettingWithCopyWarning: \n",
      "A value is trying to be set on a copy of a slice from a DataFrame.\n",
      "Try using .loc[row_indexer,col_indexer] = value instead\n",
      "\n",
      "See the caveats in the documentation: https://pandas.pydata.org/pandas-docs/stable/user_guide/indexing.html#returning-a-view-versus-a-copy\n",
      "  funded['type']='Funded'\n"
     ]
    }
   ],
   "source": [
    "fdtype=cal_fundtype(pubs_df)"
   ]
  },
  {
   "cell_type": "code",
   "execution_count": 9,
   "id": "persistent-oklahoma",
   "metadata": {
    "execution": {
     "iopub.execute_input": "2024-02-28T23:33:38.718228Z",
     "iopub.status.busy": "2024-02-28T23:33:38.717174Z",
     "iopub.status.idle": "2024-02-28T23:33:38.727824Z",
     "shell.execute_reply": "2024-02-28T23:33:38.726824Z"
    },
    "papermill": {
     "duration": 0.018357,
     "end_time": "2024-02-28T23:33:38.730631",
     "exception": false,
     "start_time": "2024-02-28T23:33:38.712274",
     "status": "completed"
    },
    "tags": []
   },
   "outputs": [
    {
     "data": {
      "text/html": [
       "<div>\n",
       "<style scoped>\n",
       "    .dataframe tbody tr th:only-of-type {\n",
       "        vertical-align: middle;\n",
       "    }\n",
       "\n",
       "    .dataframe tbody tr th {\n",
       "        vertical-align: top;\n",
       "    }\n",
       "\n",
       "    .dataframe thead th {\n",
       "        text-align: right;\n",
       "    }\n",
       "</style>\n",
       "<table border=\"1\" class=\"dataframe\">\n",
       "  <thead>\n",
       "    <tr style=\"text-align: right;\">\n",
       "      <th></th>\n",
       "      <th>year</th>\n",
       "      <th>type</th>\n",
       "      <th>value</th>\n",
       "    </tr>\n",
       "  </thead>\n",
       "  <tbody>\n",
       "    <tr>\n",
       "      <th>0</th>\n",
       "      <td>2009</td>\n",
       "      <td>Cofund</td>\n",
       "      <td>0.272560</td>\n",
       "    </tr>\n",
       "    <tr>\n",
       "      <th>1</th>\n",
       "      <td>2010</td>\n",
       "      <td>Cofund</td>\n",
       "      <td>0.325836</td>\n",
       "    </tr>\n",
       "    <tr>\n",
       "      <th>2</th>\n",
       "      <td>2011</td>\n",
       "      <td>Cofund</td>\n",
       "      <td>0.357313</td>\n",
       "    </tr>\n",
       "    <tr>\n",
       "      <th>3</th>\n",
       "      <td>2012</td>\n",
       "      <td>Cofund</td>\n",
       "      <td>0.375008</td>\n",
       "    </tr>\n",
       "    <tr>\n",
       "      <th>4</th>\n",
       "      <td>2013</td>\n",
       "      <td>Cofund</td>\n",
       "      <td>0.388084</td>\n",
       "    </tr>\n",
       "  </tbody>\n",
       "</table>\n",
       "</div>"
      ],
      "text/plain": [
       "   year    type     value\n",
       "0  2009  Cofund  0.272560\n",
       "1  2010  Cofund  0.325836\n",
       "2  2011  Cofund  0.357313\n",
       "3  2012  Cofund  0.375008\n",
       "4  2013  Cofund  0.388084"
      ]
     },
     "execution_count": 9,
     "metadata": {},
     "output_type": "execute_result"
    }
   ],
   "source": [
    "fdtype.head(5)"
   ]
  },
  {
   "cell_type": "code",
   "execution_count": 10,
   "id": "floppy-webster",
   "metadata": {
    "execution": {
     "iopub.execute_input": "2024-02-28T23:33:38.741995Z",
     "iopub.status.busy": "2024-02-28T23:33:38.741332Z",
     "iopub.status.idle": "2024-02-28T23:33:38.853082Z",
     "shell.execute_reply": "2024-02-28T23:33:38.852066Z"
    },
    "papermill": {
     "duration": 0.119189,
     "end_time": "2024-02-28T23:33:38.856108",
     "exception": false,
     "start_time": "2024-02-28T23:33:38.736919",
     "status": "completed"
    },
    "tags": []
   },
   "outputs": [
    {
     "name": "stderr",
     "output_type": "stream",
     "text": [
      "/tmp/ipykernel_1985051/895852022.py:7: SettingWithCopyWarning: \n",
      "A value is trying to be set on a copy of a slice from a DataFrame.\n",
      "Try using .loc[row_indexer,col_indexer] = value instead\n",
      "\n",
      "See the caveats in the documentation: https://pandas.pydata.org/pandas-docs/stable/user_guide/indexing.html#returning-a-view-versus-a-copy\n",
      "  funded['value']=1-funded['value']\n",
      "/tmp/ipykernel_1985051/895852022.py:8: SettingWithCopyWarning: \n",
      "A value is trying to be set on a copy of a slice from a DataFrame.\n",
      "Try using .loc[row_indexer,col_indexer] = value instead\n",
      "\n",
      "See the caveats in the documentation: https://pandas.pydata.org/pandas-docs/stable/user_guide/indexing.html#returning-a-view-versus-a-copy\n",
      "  funded['type']='Funded'\n"
     ]
    }
   ],
   "source": [
    "df=pubs_df[pubs_df.IntCol==1]\n",
    "colltype=cal_fundtype(df)"
   ]
  },
  {
   "cell_type": "code",
   "execution_count": 11,
   "id": "driving-notification",
   "metadata": {
    "execution": {
     "iopub.execute_input": "2024-02-28T23:33:38.869219Z",
     "iopub.status.busy": "2024-02-28T23:33:38.868803Z",
     "iopub.status.idle": "2024-02-28T23:33:38.878267Z",
     "shell.execute_reply": "2024-02-28T23:33:38.877422Z"
    },
    "papermill": {
     "duration": 0.017527,
     "end_time": "2024-02-28T23:33:38.879678",
     "exception": false,
     "start_time": "2024-02-28T23:33:38.862151",
     "status": "completed"
    },
    "tags": []
   },
   "outputs": [
    {
     "data": {
      "text/html": [
       "<div>\n",
       "<style scoped>\n",
       "    .dataframe tbody tr th:only-of-type {\n",
       "        vertical-align: middle;\n",
       "    }\n",
       "\n",
       "    .dataframe tbody tr th {\n",
       "        vertical-align: top;\n",
       "    }\n",
       "\n",
       "    .dataframe thead th {\n",
       "        text-align: right;\n",
       "    }\n",
       "</style>\n",
       "<table border=\"1\" class=\"dataframe\">\n",
       "  <thead>\n",
       "    <tr style=\"text-align: right;\">\n",
       "      <th></th>\n",
       "      <th>year</th>\n",
       "      <th>type</th>\n",
       "      <th>value</th>\n",
       "    </tr>\n",
       "  </thead>\n",
       "  <tbody>\n",
       "    <tr>\n",
       "      <th>0</th>\n",
       "      <td>2009</td>\n",
       "      <td>Cofund</td>\n",
       "      <td>0.375422</td>\n",
       "    </tr>\n",
       "    <tr>\n",
       "      <th>1</th>\n",
       "      <td>2010</td>\n",
       "      <td>Cofund</td>\n",
       "      <td>0.445141</td>\n",
       "    </tr>\n",
       "    <tr>\n",
       "      <th>2</th>\n",
       "      <td>2011</td>\n",
       "      <td>Cofund</td>\n",
       "      <td>0.478901</td>\n",
       "    </tr>\n",
       "    <tr>\n",
       "      <th>3</th>\n",
       "      <td>2012</td>\n",
       "      <td>Cofund</td>\n",
       "      <td>0.495622</td>\n",
       "    </tr>\n",
       "    <tr>\n",
       "      <th>4</th>\n",
       "      <td>2013</td>\n",
       "      <td>Cofund</td>\n",
       "      <td>0.499453</td>\n",
       "    </tr>\n",
       "  </tbody>\n",
       "</table>\n",
       "</div>"
      ],
      "text/plain": [
       "   year    type     value\n",
       "0  2009  Cofund  0.375422\n",
       "1  2010  Cofund  0.445141\n",
       "2  2011  Cofund  0.478901\n",
       "3  2012  Cofund  0.495622\n",
       "4  2013  Cofund  0.499453"
      ]
     },
     "execution_count": 11,
     "metadata": {},
     "output_type": "execute_result"
    }
   ],
   "source": [
    "colltype.head(5)"
   ]
  },
  {
   "cell_type": "code",
   "execution_count": 12,
   "id": "exposed-sierra",
   "metadata": {
    "execution": {
     "iopub.execute_input": "2024-02-28T23:33:38.890697Z",
     "iopub.status.busy": "2024-02-28T23:33:38.890187Z",
     "iopub.status.idle": "2024-02-28T23:33:39.028792Z",
     "shell.execute_reply": "2024-02-28T23:33:39.027707Z"
    },
    "papermill": {
     "duration": 0.14741,
     "end_time": "2024-02-28T23:33:39.031918",
     "exception": false,
     "start_time": "2024-02-28T23:33:38.884508",
     "status": "completed"
    },
    "tags": []
   },
   "outputs": [
    {
     "name": "stderr",
     "output_type": "stream",
     "text": [
      "/tmp/ipykernel_1985051/895852022.py:7: SettingWithCopyWarning: \n",
      "A value is trying to be set on a copy of a slice from a DataFrame.\n",
      "Try using .loc[row_indexer,col_indexer] = value instead\n",
      "\n",
      "See the caveats in the documentation: https://pandas.pydata.org/pandas-docs/stable/user_guide/indexing.html#returning-a-view-versus-a-copy\n",
      "  funded['value']=1-funded['value']\n",
      "/tmp/ipykernel_1985051/895852022.py:8: SettingWithCopyWarning: \n",
      "A value is trying to be set on a copy of a slice from a DataFrame.\n",
      "Try using .loc[row_indexer,col_indexer] = value instead\n",
      "\n",
      "See the caveats in the documentation: https://pandas.pydata.org/pandas-docs/stable/user_guide/indexing.html#returning-a-view-versus-a-copy\n",
      "  funded['type']='Funded'\n"
     ]
    }
   ],
   "source": [
    "df=pubs_df[pubs_df.IntCol==0]\n",
    "dometype=cal_fundtype(df)"
   ]
  },
  {
   "cell_type": "code",
   "execution_count": 13,
   "id": "toxic-adams",
   "metadata": {
    "execution": {
     "iopub.execute_input": "2024-02-28T23:33:39.047174Z",
     "iopub.status.busy": "2024-02-28T23:33:39.046148Z",
     "iopub.status.idle": "2024-02-28T23:33:40.918618Z",
     "shell.execute_reply": "2024-02-28T23:33:40.917826Z"
    },
    "papermill": {
     "duration": 1.885884,
     "end_time": "2024-02-28T23:33:40.927074",
     "exception": false,
     "start_time": "2024-02-28T23:33:39.041190",
     "status": "completed"
    },
    "tags": []
   },
   "outputs": [
    {
     "data": {
      "image/png": "[encoded data removed]",
      "text/plain": [
       "<Figure size 1800x400 with 3 Axes>"
      ]
     },
     "metadata": {},
     "output_type": "display_data"
    }
   ],
   "source": [
    "def plot_type(df,ax,ylabel,text,texty,values):\n",
    "    sns.lineplot(x='year',y='value',hue='type',\n",
    "             palette={'Cofund':'#EB7549','single':'#D96C89','Not-Funded':'#C5C9C7','Funded':'#BF2121'},\n",
    "             data=df,legend=False,style='type',dashes={'Cofund':(2,1),'single':(2,1),'Not-Funded':'','Funded':''},\n",
    "             ax=ax)\n",
    "    ax.set_xticks(np.arange(2010,2019,2))\n",
    "    ax.set_xlabel(\"\")\n",
    "    ax.spines['right'].set_visible(False)\n",
    "    ax.spines['top'].set_visible(False)\n",
    "    ax.set_ylabel(ylabel,fontsize=13,labelpad=0)\n",
    "    ax.tick_params(axis='both', which='major', labelsize=12)\n",
    "    ax.set_ylim(0,1)\n",
    "    \n",
    "    for t, ty in zip(text,texty):\n",
    "        ax.text(2012,ty,s=t,fontsize=12)\n",
    "    for v in values:\n",
    "        ax.text(2018.1,v,s=str(np.around(v,decimals=2)),fontsize=12)\n",
    "    return ax\n",
    "\n",
    "fig, ax=plt.subplots(nrows=1,ncols=3,figsize=(18,4))\n",
    "ax0=ax[0]\n",
    "ax1=ax[1]\n",
    "ax2=ax[2]\n",
    "\n",
    "text=[\"Funded by a single country\",\"Not Funded\",\"Funded internationally\",\"Funded\"]\n",
    "texty=[0.53,0.41,0.12,0.63]\n",
    "ylabel='Proportion of publications'\n",
    "values=fdtype[fdtype.year==2018].value.tolist()\n",
    "ax0=plot_type(fdtype,ax0,ylabel,text,texty,values)\n",
    "\n",
    "ylabel='Proportion of international collaborations'\n",
    "texty=[0.43,0.24,0.32,0.73]\n",
    "values=colltype[colltype.year==2018].value.tolist()\n",
    "ax1=plot_type(colltype,ax1,ylabel,text,texty,values)\n",
    "\n",
    "ylabel='Proportion of domestic publications'\n",
    "texty=[0.47,0.37,0.06,0.59]\n",
    "values=dometype[dometype.year==2018].value.tolist()\n",
    "ax2=plot_type(dometype,ax2,ylabel,text,texty,values)\n",
    "plt.savefig(global_funding_path,bbox_inches='tight')"
   ]
  },
  {
   "cell_type": "code",
   "execution_count": null,
   "id": "linear-seating",
   "metadata": {
    "papermill": {
     "duration": 0.005282,
     "end_time": "2024-02-28T23:33:40.938277",
     "exception": false,
     "start_time": "2024-02-28T23:33:40.932995",
     "status": "completed"
    },
    "tags": []
   },
   "outputs": [],
   "source": []
  }
 ],
 "metadata": {
  "kernelspec": {
   "display_name": "Python 3 (ipykernel)",
   "language": "python",
   "name": "python3"
  },
  "language_info": {
   "codemirror_mode": {
    "name": "ipython",
    "version": 3
   },
   "file_extension": ".py",
   "mimetype": "text/x-python",
   "name": "python",
   "nbconvert_exporter": "python",
   "pygments_lexer": "ipython3",
   "version": "3.8.16"
  },
  "papermill": {
   "default_parameters": {},
   "duration": 17.597348,
   "end_time": "2024-02-28T23:33:41.865643",
   "environment_variables": {},
   "exception": null,
   "input_path": "scripts/plot_globalfund_fig1.ipynb",
   "output_path": "scripts/outputs/plot_globalfund_fig1.ipynb",
   "parameters": {
    "global_funding_path": "../data/NationalFunding/Data/simulated_data/Figs/Figs/global_funding.pdf",
    "pubs_path": "../data/NationalFunding/Data/simulated_data/Data/DerivedData/CleanedRawData/pub.pkl"
   },
   "start_time": "2024-02-28T23:33:24.268295",
   "version": "2.3.4"
  }
 },
 "nbformat": 4,
 "nbformat_minor": 5
}