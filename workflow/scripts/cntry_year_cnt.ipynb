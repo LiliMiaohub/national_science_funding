{
 "cells": [
  {
   "cell_type": "markdown",
   "id": "documented-oregon",
   "metadata": {},
   "source": [
    "this script count the number of publication of countries over year"
   ]
  },
  {
   "cell_type": "code",
   "execution_count": 1,
   "id": "conservative-majority",
   "metadata": {},
   "outputs": [],
   "source": [
    "import pandas as pd\n",
    "from ast import literal_eval\n",
    "import matplotlib.pyplot as plt\n",
    "import numpy as np\n",
    "import seaborn as sns\n",
    "from scipy.spatial import distance"
   ]
  },
  {
   "cell_type": "code",
   "execution_count": 2,
   "id": "hidden-division",
   "metadata": {},
   "outputs": [],
   "source": [
    "pubs_path=\"../../data/nf_folder/Data/DerivedData/CleanedRawData/pubs_author_funder.csv\""
   ]
  },
  {
   "cell_type": "code",
   "execution_count": 9,
   "id": "leading-discharge",
   "metadata": {},
   "outputs": [],
   "source": [
    "cntry_cnt_output='../../data/nf_folder/Data/DerivedData/Derived/cntry_year_cnt.csv'"
   ]
  },
  {
   "cell_type": "code",
   "execution_count": 3,
   "id": "animal-blair",
   "metadata": {},
   "outputs": [
    {
     "name": "stderr",
     "output_type": "stream",
     "text": [
      "/home/miaoli/conda/envs/funding/lib/python3.8/site-packages/IPython/core/interactiveshell.py:3165: DtypeWarning: Columns (2) have mixed types.Specify dtype option on import or set low_memory=False.\n",
      "  has_raised = await self.run_ast_nodes(code_ast.body, cell_name,\n"
     ]
    },
    {
     "data": {
      "text/html": [
       "<div>\n",
       "<style scoped>\n",
       "    .dataframe tbody tr th:only-of-type {\n",
       "        vertical-align: middle;\n",
       "    }\n",
       "\n",
       "    .dataframe tbody tr th {\n",
       "        vertical-align: top;\n",
       "    }\n",
       "\n",
       "    .dataframe thead th {\n",
       "        text-align: right;\n",
       "    }\n",
       "</style>\n",
       "<table border=\"1\" class=\"dataframe\">\n",
       "  <thead>\n",
       "    <tr style=\"text-align: right;\">\n",
       "      <th></th>\n",
       "      <th>id</th>\n",
       "      <th>author_country</th>\n",
       "      <th>funder_country</th>\n",
       "      <th>discipline</th>\n",
       "      <th>year</th>\n",
       "      <th>rel_citation</th>\n",
       "      <th>citation</th>\n",
       "    </tr>\n",
       "  </thead>\n",
       "  <tbody>\n",
       "    <tr>\n",
       "      <th>0</th>\n",
       "      <td>30507292</td>\n",
       "      <td>[Turkey]</td>\n",
       "      <td>[Turkey]</td>\n",
       "      <td>77</td>\n",
       "      <td>2009</td>\n",
       "      <td>0.485</td>\n",
       "      <td>6</td>\n",
       "    </tr>\n",
       "    <tr>\n",
       "      <th>1</th>\n",
       "      <td>30574690</td>\n",
       "      <td>[United States, France]</td>\n",
       "      <td>[United States, United States, United States, ...</td>\n",
       "      <td>83</td>\n",
       "      <td>2009</td>\n",
       "      <td>0.703</td>\n",
       "      <td>9</td>\n",
       "    </tr>\n",
       "    <tr>\n",
       "      <th>2</th>\n",
       "      <td>30574691</td>\n",
       "      <td>[Russia]</td>\n",
       "      <td>[Russia]</td>\n",
       "      <td>83</td>\n",
       "      <td>2009</td>\n",
       "      <td>0.312</td>\n",
       "      <td>4</td>\n",
       "    </tr>\n",
       "    <tr>\n",
       "      <th>3</th>\n",
       "      <td>30585095</td>\n",
       "      <td>[Spain, Spain]</td>\n",
       "      <td>[Spain, Spain, Spain, Spain, Spain, Spain]</td>\n",
       "      <td>89</td>\n",
       "      <td>2009</td>\n",
       "      <td>0.137</td>\n",
       "      <td>1</td>\n",
       "    </tr>\n",
       "    <tr>\n",
       "      <th>4</th>\n",
       "      <td>30585097</td>\n",
       "      <td>[Germany, Spain]</td>\n",
       "      <td>[Spain]</td>\n",
       "      <td>89</td>\n",
       "      <td>2009</td>\n",
       "      <td>0.410</td>\n",
       "      <td>3</td>\n",
       "    </tr>\n",
       "  </tbody>\n",
       "</table>\n",
       "</div>"
      ],
      "text/plain": [
       "         id           author_country  \\\n",
       "0  30507292                 [Turkey]   \n",
       "1  30574690  [United States, France]   \n",
       "2  30574691                 [Russia]   \n",
       "3  30585095           [Spain, Spain]   \n",
       "4  30585097         [Germany, Spain]   \n",
       "\n",
       "                                      funder_country  discipline  year  \\\n",
       "0                                           [Turkey]          77  2009   \n",
       "1  [United States, United States, United States, ...          83  2009   \n",
       "2                                           [Russia]          83  2009   \n",
       "3         [Spain, Spain, Spain, Spain, Spain, Spain]          89  2009   \n",
       "4                                            [Spain]          89  2009   \n",
       "\n",
       "   rel_citation  citation  \n",
       "0         0.485         6  \n",
       "1         0.703         9  \n",
       "2         0.312         4  \n",
       "3         0.137         1  \n",
       "4         0.410         3  "
      ]
     },
     "execution_count": 3,
     "metadata": {},
     "output_type": "execute_result"
    }
   ],
   "source": [
    "pubs_author_funder = pd.read_csv(pubs_path)\n",
    "pubs_author_funder['author_country'] = pubs_author_funder['author_country'].apply(literal_eval)\n",
    "pubs_author_funder['funder_country'] = pubs_author_funder['funder_country'].apply(\n",
    "    lambda x:literal_eval(x) if pd.notnull(x) else \"Not-Funded\")\n",
    "pubs_author_funder.head()"
   ]
  },
  {
   "cell_type": "code",
   "execution_count": 4,
   "id": "final-command",
   "metadata": {},
   "outputs": [],
   "source": [
    "pubs_author_funder['author_distinct']=pubs_author_funder['author_country'].apply(lambda x:list(set(x)))"
   ]
  },
  {
   "cell_type": "code",
   "execution_count": 7,
   "id": "collective-hunter",
   "metadata": {},
   "outputs": [],
   "source": [
    "cntry_cnt=[]\n",
    "for index, row in pubs_author_funder.iterrows():\n",
    "    year=row['year']\n",
    "    author_cntry=row['author_distinct']\n",
    "    n=len(author_cntry)\n",
    "    for c in author_cntry:\n",
    "        cntry_cnt.append([c,year,1/n])"
   ]
  },
  {
   "cell_type": "code",
   "execution_count": 12,
   "id": "lyric-habitat",
   "metadata": {},
   "outputs": [
    {
     "data": {
      "text/html": [
       "<div>\n",
       "<style scoped>\n",
       "    .dataframe tbody tr th:only-of-type {\n",
       "        vertical-align: middle;\n",
       "    }\n",
       "\n",
       "    .dataframe tbody tr th {\n",
       "        vertical-align: top;\n",
       "    }\n",
       "\n",
       "    .dataframe thead th {\n",
       "        text-align: right;\n",
       "    }\n",
       "</style>\n",
       "<table border=\"1\" class=\"dataframe\">\n",
       "  <thead>\n",
       "    <tr style=\"text-align: right;\">\n",
       "      <th></th>\n",
       "      <th>country</th>\n",
       "      <th>year</th>\n",
       "      <th>count</th>\n",
       "    </tr>\n",
       "  </thead>\n",
       "  <tbody>\n",
       "    <tr>\n",
       "      <th>0</th>\n",
       "      <td>Afghanistan</td>\n",
       "      <td>2009</td>\n",
       "      <td>8.750000</td>\n",
       "    </tr>\n",
       "    <tr>\n",
       "      <th>1</th>\n",
       "      <td>Afghanistan</td>\n",
       "      <td>2010</td>\n",
       "      <td>15.566667</td>\n",
       "    </tr>\n",
       "    <tr>\n",
       "      <th>2</th>\n",
       "      <td>Afghanistan</td>\n",
       "      <td>2011</td>\n",
       "      <td>13.044444</td>\n",
       "    </tr>\n",
       "    <tr>\n",
       "      <th>3</th>\n",
       "      <td>Afghanistan</td>\n",
       "      <td>2012</td>\n",
       "      <td>19.566667</td>\n",
       "    </tr>\n",
       "    <tr>\n",
       "      <th>4</th>\n",
       "      <td>Afghanistan</td>\n",
       "      <td>2013</td>\n",
       "      <td>11.095833</td>\n",
       "    </tr>\n",
       "  </tbody>\n",
       "</table>\n",
       "</div>"
      ],
      "text/plain": [
       "       country  year      count\n",
       "0  Afghanistan  2009   8.750000\n",
       "1  Afghanistan  2010  15.566667\n",
       "2  Afghanistan  2011  13.044444\n",
       "3  Afghanistan  2012  19.566667\n",
       "4  Afghanistan  2013  11.095833"
      ]
     },
     "execution_count": 12,
     "metadata": {},
     "output_type": "execute_result"
    }
   ],
   "source": [
    "cntry_cnt_df=pd.DataFrame(cntry_cnt,columns=['country','year','count'])\n",
    "cntry_cnt_df=cntry_cnt_df.groupby(['country','year'])['count'].sum().reset_index(name='count')\n",
    "cntry_cnt_df.head()"
   ]
  },
  {
   "cell_type": "code",
   "execution_count": 13,
   "id": "organic-attraction",
   "metadata": {},
   "outputs": [],
   "source": [
    "cntry_cnt_df.to_csv(cntry_cnt_output,index=False)"
   ]
  },
  {
   "cell_type": "code",
   "execution_count": null,
   "id": "phantom-patient",
   "metadata": {},
   "outputs": [],
   "source": []
  }
 ],
 "metadata": {
  "kernelspec": {
   "display_name": "Python 3",
   "language": "python",
   "name": "python3"
  },
  "language_info": {
   "codemirror_mode": {
    "name": "ipython",
    "version": 3
   },
   "file_extension": ".py",
   "mimetype": "text/x-python",
   "name": "python",
   "nbconvert_exporter": "python",
   "pygments_lexer": "ipython3",
   "version": "3.8.1"
  }
 },
 "nbformat": 4,
 "nbformat_minor": 5
}
