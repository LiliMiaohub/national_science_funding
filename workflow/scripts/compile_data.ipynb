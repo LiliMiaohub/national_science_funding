{
 "cells": [
  {
   "cell_type": "markdown",
   "id": "beginning-bronze",
   "metadata": {},
   "source": [
    "### this script cleans and compiles raw data. \n",
    "\n",
    "Input includes:\n",
    "- **pub**: discipline and year information of publications\n",
    "- **pub_fund**:funding instance of publications\n",
    "- **pub_author**:author country of publications\n",
    "- **cntry**: country convert table which map wos country name to standard format.\n",
    "\n",
    "Output includes:\n",
    "- **clean_pub**: a consolidated pickle file has abovementioned information with two extra indicators including funded (whether the paper is funded) and intcol (whether the paper is internationally coauthored)."
   ]
  },
  {
   "cell_type": "code",
   "execution_count": 1,
   "id": "adapted-surge",
   "metadata": {
    "tags": []
   },
   "outputs": [],
   "source": [
    "import pandas as pd\n",
    "import numpy as np\n",
    "from ast import literal_eval"
   ]
  },
  {
   "cell_type": "code",
   "execution_count": 12,
   "id": "roman-massage",
   "metadata": {
    "tags": [
     "parameters"
    ]
   },
   "outputs": [],
   "source": [
    "pub_path=\"../../data/nf_folder/Data/RawData/pubs.csv\"\n",
    "pub_fund_path=\"../../data/nf_folder/Data/RawData/pub_funder.csv\"\n",
    "pub_author_path=\"../../data/nf_folder/Data/RawData/pub_author.csv\"\n",
    "cntry_path=\"../../data/NationalFunding/Data/AdditionalData/cntry_convert.xlsx\"\n",
    "\n",
    "clean_pub_path=\"../../data/NationalFunding/Data/DerivedData/CleanedRawData/pub.pkl\""
   ]
  },
  {
   "cell_type": "code",
   "execution_count": 14,
   "id": "aa1392fc-9df6-40dd-9b97-a365b4dc0dd7",
   "metadata": {},
   "outputs": [
    {
     "data": {
      "text/html": [
       "<div>\n",
       "<style scoped>\n",
       "    .dataframe tbody tr th:only-of-type {\n",
       "        vertical-align: middle;\n",
       "    }\n",
       "\n",
       "    .dataframe tbody tr th {\n",
       "        vertical-align: top;\n",
       "    }\n",
       "\n",
       "    .dataframe thead th {\n",
       "        text-align: right;\n",
       "    }\n",
       "</style>\n",
       "<table border=\"1\" class=\"dataframe\">\n",
       "  <thead>\n",
       "    <tr style=\"text-align: right;\">\n",
       "      <th></th>\n",
       "    </tr>\n",
       "  </thead>\n",
       "  <tbody>\n",
       "  </tbody>\n",
       "</table>\n",
       "</div>"
      ],
      "text/plain": [
       "Empty DataFrame\n",
       "Columns: []\n",
       "Index: []"
      ]
     },
     "execution_count": 14,
     "metadata": {},
     "output_type": "execute_result"
    }
   ],
   "source": [
    "pd.DataFrame().to_pickle(clean_pub_path)"
   ]
  },
  {
   "cell_type": "code",
   "execution_count": 4,
   "id": "cloudy-queensland",
   "metadata": {},
   "outputs": [
    {
     "data": {
      "text/html": [
       "<div>\n",
       "<style scoped>\n",
       "    .dataframe tbody tr th:only-of-type {\n",
       "        vertical-align: middle;\n",
       "    }\n",
       "\n",
       "    .dataframe tbody tr th {\n",
       "        vertical-align: top;\n",
       "    }\n",
       "\n",
       "    .dataframe thead th {\n",
       "        text-align: right;\n",
       "    }\n",
       "</style>\n",
       "<table border=\"1\" class=\"dataframe\">\n",
       "  <thead>\n",
       "    <tr style=\"text-align: right;\">\n",
       "      <th></th>\n",
       "      <th>ID_Art</th>\n",
       "      <th>Annee_Bibliographique</th>\n",
       "      <th>Code_Discipline</th>\n",
       "      <th>Code_Document</th>\n",
       "    </tr>\n",
       "  </thead>\n",
       "  <tbody>\n",
       "    <tr>\n",
       "      <th>0</th>\n",
       "      <td>60694041</td>\n",
       "      <td>2017</td>\n",
       "      <td>9</td>\n",
       "      <td>1</td>\n",
       "    </tr>\n",
       "    <tr>\n",
       "      <th>1</th>\n",
       "      <td>48573156</td>\n",
       "      <td>2012</td>\n",
       "      <td>89</td>\n",
       "      <td>1</td>\n",
       "    </tr>\n",
       "    <tr>\n",
       "      <th>2</th>\n",
       "      <td>55323671</td>\n",
       "      <td>2015</td>\n",
       "      <td>89</td>\n",
       "      <td>1</td>\n",
       "    </tr>\n",
       "    <tr>\n",
       "      <th>3</th>\n",
       "      <td>57633115</td>\n",
       "      <td>2016</td>\n",
       "      <td>31</td>\n",
       "      <td>1</td>\n",
       "    </tr>\n",
       "    <tr>\n",
       "      <th>4</th>\n",
       "      <td>64831413</td>\n",
       "      <td>2018</td>\n",
       "      <td>99</td>\n",
       "      <td>1</td>\n",
       "    </tr>\n",
       "  </tbody>\n",
       "</table>\n",
       "</div>"
      ],
      "text/plain": [
       "     ID_Art  Annee_Bibliographique  Code_Discipline  Code_Document\n",
       "0  60694041                   2017                9              1\n",
       "1  48573156                   2012               89              1\n",
       "2  55323671                   2015               89              1\n",
       "3  57633115                   2016               31              1\n",
       "4  64831413                   2018               99              1"
      ]
     },
     "execution_count": 4,
     "metadata": {},
     "output_type": "execute_result"
    }
   ],
   "source": [
    "pub_df=pd.read_csv(pub_path,sep=\"\\t\")\n",
    "pub_df.head()"
   ]
  },
  {
   "cell_type": "markdown",
   "id": "removed-earthquake",
   "metadata": {},
   "source": [
    "count how many pubs in each document type"
   ]
  },
  {
   "cell_type": "code",
   "execution_count": 5,
   "id": "assigned-logan",
   "metadata": {},
   "outputs": [
    {
     "data": {
      "text/html": [
       "<div>\n",
       "<style scoped>\n",
       "    .dataframe tbody tr th:only-of-type {\n",
       "        vertical-align: middle;\n",
       "    }\n",
       "\n",
       "    .dataframe tbody tr th {\n",
       "        vertical-align: top;\n",
       "    }\n",
       "\n",
       "    .dataframe thead th {\n",
       "        text-align: right;\n",
       "    }\n",
       "</style>\n",
       "<table border=\"1\" class=\"dataframe\">\n",
       "  <thead>\n",
       "    <tr style=\"text-align: right;\">\n",
       "      <th></th>\n",
       "      <th>ID_Art</th>\n",
       "      <th>Organisation</th>\n",
       "      <th>Numero_Financement</th>\n",
       "      <th>Country</th>\n",
       "    </tr>\n",
       "  </thead>\n",
       "  <tbody>\n",
       "    <tr>\n",
       "      <th>0</th>\n",
       "      <td>62152918</td>\n",
       "      <td>Natural Science Foundation of Jiangsu Province</td>\n",
       "      <td>BK20140131</td>\n",
       "      <td>PEOPLES-R-CHINA</td>\n",
       "    </tr>\n",
       "    <tr>\n",
       "      <th>1</th>\n",
       "      <td>62152749</td>\n",
       "      <td>Shanghai Commission of Health and Family Planning</td>\n",
       "      <td>201440538</td>\n",
       "      <td>PEOPLES-R-CHINA</td>\n",
       "    </tr>\n",
       "    <tr>\n",
       "      <th>2</th>\n",
       "      <td>62152799</td>\n",
       "      <td>U.S. Department of Energy's Office of Science,...</td>\n",
       "      <td>DE-SC0007041</td>\n",
       "      <td>USA</td>\n",
       "    </tr>\n",
       "    <tr>\n",
       "      <th>3</th>\n",
       "      <td>49692015</td>\n",
       "      <td>FCT</td>\n",
       "      <td>SFRH/BD/47118/2008</td>\n",
       "      <td>PORTUGAL</td>\n",
       "    </tr>\n",
       "    <tr>\n",
       "      <th>4</th>\n",
       "      <td>49692016</td>\n",
       "      <td>Basque government</td>\n",
       "      <td>IT472-10</td>\n",
       "      <td>SPAIN</td>\n",
       "    </tr>\n",
       "  </tbody>\n",
       "</table>\n",
       "</div>"
      ],
      "text/plain": [
       "     ID_Art                                       Organisation   \n",
       "0  62152918     Natural Science Foundation of Jiangsu Province  \\\n",
       "1  62152749  Shanghai Commission of Health and Family Planning   \n",
       "2  62152799  U.S. Department of Energy's Office of Science,...   \n",
       "3  49692015                                                FCT   \n",
       "4  49692016                                  Basque government   \n",
       "\n",
       "   Numero_Financement          Country  \n",
       "0          BK20140131  PEOPLES-R-CHINA  \n",
       "1           201440538  PEOPLES-R-CHINA  \n",
       "2        DE-SC0007041              USA  \n",
       "3  SFRH/BD/47118/2008         PORTUGAL  \n",
       "4            IT472-10            SPAIN  "
      ]
     },
     "execution_count": 5,
     "metadata": {},
     "output_type": "execute_result"
    }
   ],
   "source": [
    "pub_fund=pd.read_csv(pub_fund_path,sep=\"\\t\", on_bad_lines='skip')\n",
    "pub_fund.head()"
   ]
  },
  {
   "cell_type": "markdown",
   "id": "historic-eligibility",
   "metadata": {},
   "source": [
    "count how many fa-gn entries are with grant number"
   ]
  },
  {
   "cell_type": "code",
   "execution_count": 6,
   "id": "endless-wireless",
   "metadata": {},
   "outputs": [
    {
     "data": {
      "text/html": [
       "<div>\n",
       "<style scoped>\n",
       "    .dataframe tbody tr th:only-of-type {\n",
       "        vertical-align: middle;\n",
       "    }\n",
       "\n",
       "    .dataframe tbody tr th {\n",
       "        vertical-align: top;\n",
       "    }\n",
       "\n",
       "    .dataframe thead th {\n",
       "        text-align: right;\n",
       "    }\n",
       "</style>\n",
       "<table border=\"1\" class=\"dataframe\">\n",
       "  <thead>\n",
       "    <tr style=\"text-align: right;\">\n",
       "      <th></th>\n",
       "      <th>ID_Art</th>\n",
       "      <th>Pays</th>\n",
       "    </tr>\n",
       "  </thead>\n",
       "  <tbody>\n",
       "    <tr>\n",
       "      <th>0</th>\n",
       "      <td>61705542</td>\n",
       "      <td>PEOPLES-R-CHINA</td>\n",
       "    </tr>\n",
       "    <tr>\n",
       "      <th>1</th>\n",
       "      <td>46171057</td>\n",
       "      <td>AUSTRALIA</td>\n",
       "    </tr>\n",
       "    <tr>\n",
       "      <th>2</th>\n",
       "      <td>52161176</td>\n",
       "      <td>HUNGARY</td>\n",
       "    </tr>\n",
       "    <tr>\n",
       "      <th>3</th>\n",
       "      <td>62843155</td>\n",
       "      <td>SOUTH-KOREA</td>\n",
       "    </tr>\n",
       "    <tr>\n",
       "      <th>4</th>\n",
       "      <td>62124106</td>\n",
       "      <td>PORTUGAL</td>\n",
       "    </tr>\n",
       "  </tbody>\n",
       "</table>\n",
       "</div>"
      ],
      "text/plain": [
       "     ID_Art             Pays\n",
       "0  61705542  PEOPLES-R-CHINA\n",
       "1  46171057        AUSTRALIA\n",
       "2  52161176          HUNGARY\n",
       "3  62843155      SOUTH-KOREA\n",
       "4  62124106         PORTUGAL"
      ]
     },
     "execution_count": 6,
     "metadata": {},
     "output_type": "execute_result"
    }
   ],
   "source": [
    "pub_author=pd.read_csv(pub_author_path,sep=\"\\t\", on_bad_lines='skip')\n",
    "pub_author.head()"
   ]
  },
  {
   "cell_type": "code",
   "execution_count": 6,
   "id": "native-truck",
   "metadata": {},
   "outputs": [],
   "source": [
    "cntry_df=pd.read_excel(cntry_path)\n",
    "cntry_dict=dict(zip(cntry_df['Clarivate country'],cntry_df['Country']))"
   ]
  },
  {
   "cell_type": "markdown",
   "id": "quiet-vaccine",
   "metadata": {},
   "source": [
    "change the clarivate name into the standard format"
   ]
  },
  {
   "cell_type": "code",
   "execution_count": null,
   "id": "isolated-zimbabwe",
   "metadata": {},
   "outputs": [],
   "source": [
    "pub_fund=pub_fund.replace(to_replace={'Country':cntry_dict})"
   ]
  },
  {
   "cell_type": "code",
   "execution_count": null,
   "id": "statutory-rolling",
   "metadata": {},
   "outputs": [],
   "source": [
    "pub_author=pub_author.replace(to_replace={'Pays':cntry_dict})"
   ]
  },
  {
   "cell_type": "markdown",
   "id": "referenced-lighting",
   "metadata": {},
   "source": [
    "consolidate three datasets into one big data sheet"
   ]
  },
  {
   "cell_type": "code",
   "execution_count": null,
   "id": "underlying-superintendent",
   "metadata": {},
   "outputs": [],
   "source": [
    "pub_fund=pub_fund[['ID_Art','Country']]\n",
    "pub_fund=pub_fund.groupby(['ID_Art'])['Country'].apply(list).reset_index()\n",
    "pub_author=pub_author.groupby(['ID_Art'])['Pays'].apply(list).reset_index()"
   ]
  },
  {
   "cell_type": "code",
   "execution_count": null,
   "id": "valid-sweet",
   "metadata": {},
   "outputs": [],
   "source": [
    "pub_author.head()"
   ]
  },
  {
   "cell_type": "code",
   "execution_count": null,
   "id": "atomic-passion",
   "metadata": {},
   "outputs": [],
   "source": [
    "pub_fund.head()"
   ]
  },
  {
   "cell_type": "code",
   "execution_count": 45,
   "id": "dirty-correction",
   "metadata": {},
   "outputs": [],
   "source": [
    "pub_df=pub_df.merge(pub_author,on='ID_Art',how='left')\n",
    "pub_df=pub_df.merge(pub_fund,on='ID_Art',how='left')"
   ]
  },
  {
   "cell_type": "code",
   "execution_count": 9,
   "id": "supreme-belarus",
   "metadata": {},
   "outputs": [],
   "source": [
    "pub_df['Country']=pub_df['Country'].fillna(value='Not-Funded')"
   ]
  },
  {
   "cell_type": "code",
   "execution_count": 10,
   "id": "cosmetic-status",
   "metadata": {},
   "outputs": [
    {
     "data": {
      "text/html": [
       "<div>\n",
       "<style scoped>\n",
       "    .dataframe tbody tr th:only-of-type {\n",
       "        vertical-align: middle;\n",
       "    }\n",
       "\n",
       "    .dataframe tbody tr th {\n",
       "        vertical-align: top;\n",
       "    }\n",
       "\n",
       "    .dataframe thead th {\n",
       "        text-align: right;\n",
       "    }\n",
       "</style>\n",
       "<table border=\"1\" class=\"dataframe\">\n",
       "  <thead>\n",
       "    <tr style=\"text-align: right;\">\n",
       "      <th></th>\n",
       "      <th>ID_Art</th>\n",
       "      <th>Annee_Bibliographique</th>\n",
       "      <th>Code_Discipline</th>\n",
       "      <th>Code_Document</th>\n",
       "      <th>Pays</th>\n",
       "      <th>Country</th>\n",
       "    </tr>\n",
       "  </thead>\n",
       "  <tbody>\n",
       "    <tr>\n",
       "      <th>0</th>\n",
       "      <td>60694041</td>\n",
       "      <td>2017</td>\n",
       "      <td>9</td>\n",
       "      <td>1</td>\n",
       "      <td>[Canada, United States]</td>\n",
       "      <td>[United States, United States]</td>\n",
       "    </tr>\n",
       "    <tr>\n",
       "      <th>1</th>\n",
       "      <td>48573156</td>\n",
       "      <td>2012</td>\n",
       "      <td>89</td>\n",
       "      <td>1</td>\n",
       "      <td>[France]</td>\n",
       "      <td>Not-Funded</td>\n",
       "    </tr>\n",
       "    <tr>\n",
       "      <th>2</th>\n",
       "      <td>55323671</td>\n",
       "      <td>2015</td>\n",
       "      <td>89</td>\n",
       "      <td>1</td>\n",
       "      <td>[France, Chile]</td>\n",
       "      <td>[Chile, Chile, Chile, Chile, Chile]</td>\n",
       "    </tr>\n",
       "    <tr>\n",
       "      <th>3</th>\n",
       "      <td>57633115</td>\n",
       "      <td>2016</td>\n",
       "      <td>31</td>\n",
       "      <td>1</td>\n",
       "      <td>[Switzerland, United States]</td>\n",
       "      <td>[Switzerland]</td>\n",
       "    </tr>\n",
       "    <tr>\n",
       "      <th>4</th>\n",
       "      <td>64831413</td>\n",
       "      <td>2018</td>\n",
       "      <td>99</td>\n",
       "      <td>1</td>\n",
       "      <td>[China]</td>\n",
       "      <td>[China, China, China, China, China, China]</td>\n",
       "    </tr>\n",
       "  </tbody>\n",
       "</table>\n",
       "</div>"
      ],
      "text/plain": [
       "     ID_Art  Annee_Bibliographique  Code_Discipline  Code_Document  \\\n",
       "0  60694041                   2017                9              1   \n",
       "1  48573156                   2012               89              1   \n",
       "2  55323671                   2015               89              1   \n",
       "3  57633115                   2016               31              1   \n",
       "4  64831413                   2018               99              1   \n",
       "\n",
       "                           Pays                                     Country  \n",
       "0       [Canada, United States]              [United States, United States]  \n",
       "1                      [France]                                  Not-Funded  \n",
       "2               [France, Chile]         [Chile, Chile, Chile, Chile, Chile]  \n",
       "3  [Switzerland, United States]                               [Switzerland]  \n",
       "4                       [China]  [China, China, China, China, China, China]  "
      ]
     },
     "execution_count": 10,
     "metadata": {},
     "output_type": "execute_result"
    }
   ],
   "source": [
    "pub_df.head()"
   ]
  },
  {
   "cell_type": "code",
   "execution_count": 17,
   "id": "final-zambia",
   "metadata": {},
   "outputs": [],
   "source": [
    "pub_df['author_distinct']=pub_df['Pays'].apply(lambda x: list(set(x)))\n",
    "pub_df['funder_distinct']=pub_df['Country'].apply(lambda x:list(set(x)) \n",
    "                                                  if x!='Not-Funded' else 'Not-Funded')"
   ]
  },
  {
   "cell_type": "code",
   "execution_count": 19,
   "id": "placed-plant",
   "metadata": {},
   "outputs": [],
   "source": [
    "pub_df=pub_df.rename(mapper={'ID_Art':'id','Annee_Bibliographique':'year','Code_Discipline':'dis',\n",
    "                             'Code_Document':'type','Pays':'author','Country':'funder'},axis=1)"
   ]
  },
  {
   "cell_type": "code",
   "execution_count": 28,
   "id": "scheduled-stick",
   "metadata": {},
   "outputs": [
    {
     "data": {
      "text/html": [
       "<div>\n",
       "<style scoped>\n",
       "    .dataframe tbody tr th:only-of-type {\n",
       "        vertical-align: middle;\n",
       "    }\n",
       "\n",
       "    .dataframe tbody tr th {\n",
       "        vertical-align: top;\n",
       "    }\n",
       "\n",
       "    .dataframe thead th {\n",
       "        text-align: right;\n",
       "    }\n",
       "</style>\n",
       "<table border=\"1\" class=\"dataframe\">\n",
       "  <thead>\n",
       "    <tr style=\"text-align: right;\">\n",
       "      <th></th>\n",
       "      <th>id</th>\n",
       "      <th>year</th>\n",
       "      <th>dis</th>\n",
       "      <th>type</th>\n",
       "      <th>author</th>\n",
       "      <th>funder</th>\n",
       "      <th>author_distinct</th>\n",
       "      <th>funder_distinct</th>\n",
       "    </tr>\n",
       "  </thead>\n",
       "  <tbody>\n",
       "    <tr>\n",
       "      <th>0</th>\n",
       "      <td>60694041</td>\n",
       "      <td>2017</td>\n",
       "      <td>9</td>\n",
       "      <td>1</td>\n",
       "      <td>[Canada, United States]</td>\n",
       "      <td>[United States, United States]</td>\n",
       "      <td>[United States, Canada]</td>\n",
       "      <td>[United States]</td>\n",
       "    </tr>\n",
       "    <tr>\n",
       "      <th>1</th>\n",
       "      <td>48573156</td>\n",
       "      <td>2012</td>\n",
       "      <td>89</td>\n",
       "      <td>1</td>\n",
       "      <td>[France]</td>\n",
       "      <td>Not-Funded</td>\n",
       "      <td>[France]</td>\n",
       "      <td>Not-Funded</td>\n",
       "    </tr>\n",
       "    <tr>\n",
       "      <th>2</th>\n",
       "      <td>55323671</td>\n",
       "      <td>2015</td>\n",
       "      <td>89</td>\n",
       "      <td>1</td>\n",
       "      <td>[France, Chile]</td>\n",
       "      <td>[Chile, Chile, Chile, Chile, Chile]</td>\n",
       "      <td>[Chile, France]</td>\n",
       "      <td>[Chile]</td>\n",
       "    </tr>\n",
       "    <tr>\n",
       "      <th>3</th>\n",
       "      <td>57633115</td>\n",
       "      <td>2016</td>\n",
       "      <td>31</td>\n",
       "      <td>1</td>\n",
       "      <td>[Switzerland, United States]</td>\n",
       "      <td>[Switzerland]</td>\n",
       "      <td>[Switzerland, United States]</td>\n",
       "      <td>[Switzerland]</td>\n",
       "    </tr>\n",
       "    <tr>\n",
       "      <th>4</th>\n",
       "      <td>64831413</td>\n",
       "      <td>2018</td>\n",
       "      <td>99</td>\n",
       "      <td>1</td>\n",
       "      <td>[China]</td>\n",
       "      <td>[China, China, China, China, China, China]</td>\n",
       "      <td>[China]</td>\n",
       "      <td>[China]</td>\n",
       "    </tr>\n",
       "  </tbody>\n",
       "</table>\n",
       "</div>"
      ],
      "text/plain": [
       "         id  year  dis  type                        author  \\\n",
       "0  60694041  2017    9     1       [Canada, United States]   \n",
       "1  48573156  2012   89     1                      [France]   \n",
       "2  55323671  2015   89     1               [France, Chile]   \n",
       "3  57633115  2016   31     1  [Switzerland, United States]   \n",
       "4  64831413  2018   99     1                       [China]   \n",
       "\n",
       "                                       funder               author_distinct  \\\n",
       "0              [United States, United States]       [United States, Canada]   \n",
       "1                                  Not-Funded                      [France]   \n",
       "2         [Chile, Chile, Chile, Chile, Chile]               [Chile, France]   \n",
       "3                               [Switzerland]  [Switzerland, United States]   \n",
       "4  [China, China, China, China, China, China]                       [China]   \n",
       "\n",
       "   funder_distinct  \n",
       "0  [United States]  \n",
       "1       Not-Funded  \n",
       "2          [Chile]  \n",
       "3    [Switzerland]  \n",
       "4          [China]  "
      ]
     },
     "execution_count": 28,
     "metadata": {},
     "output_type": "execute_result"
    }
   ],
   "source": [
    "pub_df.head()"
   ]
  },
  {
   "cell_type": "code",
   "execution_count": 29,
   "id": "manual-healing",
   "metadata": {},
   "outputs": [
    {
     "data": {
      "text/html": [
       "<div>\n",
       "<style scoped>\n",
       "    .dataframe tbody tr th:only-of-type {\n",
       "        vertical-align: middle;\n",
       "    }\n",
       "\n",
       "    .dataframe tbody tr th {\n",
       "        vertical-align: top;\n",
       "    }\n",
       "\n",
       "    .dataframe thead th {\n",
       "        text-align: right;\n",
       "    }\n",
       "</style>\n",
       "<table border=\"1\" class=\"dataframe\">\n",
       "  <thead>\n",
       "    <tr style=\"text-align: right;\">\n",
       "      <th></th>\n",
       "      <th>id</th>\n",
       "      <th>year</th>\n",
       "      <th>dis</th>\n",
       "      <th>type</th>\n",
       "      <th>author</th>\n",
       "      <th>funder</th>\n",
       "      <th>author_distinct</th>\n",
       "      <th>funder_distinct</th>\n",
       "      <th>funded</th>\n",
       "      <th>IntCol</th>\n",
       "    </tr>\n",
       "  </thead>\n",
       "  <tbody>\n",
       "    <tr>\n",
       "      <th>0</th>\n",
       "      <td>60694041</td>\n",
       "      <td>2017</td>\n",
       "      <td>9</td>\n",
       "      <td>1</td>\n",
       "      <td>[Canada, United States]</td>\n",
       "      <td>[United States, United States]</td>\n",
       "      <td>[United States, Canada]</td>\n",
       "      <td>[United States]</td>\n",
       "      <td>1</td>\n",
       "      <td>1</td>\n",
       "    </tr>\n",
       "    <tr>\n",
       "      <th>1</th>\n",
       "      <td>48573156</td>\n",
       "      <td>2012</td>\n",
       "      <td>89</td>\n",
       "      <td>1</td>\n",
       "      <td>[France]</td>\n",
       "      <td>Not-Funded</td>\n",
       "      <td>[France]</td>\n",
       "      <td>Not-Funded</td>\n",
       "      <td>0</td>\n",
       "      <td>0</td>\n",
       "    </tr>\n",
       "    <tr>\n",
       "      <th>2</th>\n",
       "      <td>55323671</td>\n",
       "      <td>2015</td>\n",
       "      <td>89</td>\n",
       "      <td>1</td>\n",
       "      <td>[France, Chile]</td>\n",
       "      <td>[Chile, Chile, Chile, Chile, Chile]</td>\n",
       "      <td>[Chile, France]</td>\n",
       "      <td>[Chile]</td>\n",
       "      <td>1</td>\n",
       "      <td>1</td>\n",
       "    </tr>\n",
       "    <tr>\n",
       "      <th>3</th>\n",
       "      <td>57633115</td>\n",
       "      <td>2016</td>\n",
       "      <td>31</td>\n",
       "      <td>1</td>\n",
       "      <td>[Switzerland, United States]</td>\n",
       "      <td>[Switzerland]</td>\n",
       "      <td>[Switzerland, United States]</td>\n",
       "      <td>[Switzerland]</td>\n",
       "      <td>1</td>\n",
       "      <td>1</td>\n",
       "    </tr>\n",
       "    <tr>\n",
       "      <th>4</th>\n",
       "      <td>64831413</td>\n",
       "      <td>2018</td>\n",
       "      <td>99</td>\n",
       "      <td>1</td>\n",
       "      <td>[China]</td>\n",
       "      <td>[China, China, China, China, China, China]</td>\n",
       "      <td>[China]</td>\n",
       "      <td>[China]</td>\n",
       "      <td>1</td>\n",
       "      <td>0</td>\n",
       "    </tr>\n",
       "  </tbody>\n",
       "</table>\n",
       "</div>"
      ],
      "text/plain": [
       "         id  year  dis  type                        author  \\\n",
       "0  60694041  2017    9     1       [Canada, United States]   \n",
       "1  48573156  2012   89     1                      [France]   \n",
       "2  55323671  2015   89     1               [France, Chile]   \n",
       "3  57633115  2016   31     1  [Switzerland, United States]   \n",
       "4  64831413  2018   99     1                       [China]   \n",
       "\n",
       "                                       funder               author_distinct  \\\n",
       "0              [United States, United States]       [United States, Canada]   \n",
       "1                                  Not-Funded                      [France]   \n",
       "2         [Chile, Chile, Chile, Chile, Chile]               [Chile, France]   \n",
       "3                               [Switzerland]  [Switzerland, United States]   \n",
       "4  [China, China, China, China, China, China]                       [China]   \n",
       "\n",
       "   funder_distinct  funded  IntCol  \n",
       "0  [United States]       1       1  \n",
       "1       Not-Funded       0       0  \n",
       "2          [Chile]       1       1  \n",
       "3    [Switzerland]       1       1  \n",
       "4          [China]       1       0  "
      ]
     },
     "execution_count": 29,
     "metadata": {},
     "output_type": "execute_result"
    }
   ],
   "source": [
    "pub_df['funded']=pub_df['funder'].apply(lambda x:1 if x!='Not-Funded' else 0)\n",
    "pub_df['IntCol']=pub_df['author_distinct'].apply(lambda x:1 if len(x)>1 else 0)\n",
    "pub_df.head()"
   ]
  },
  {
   "cell_type": "code",
   "execution_count": 5,
   "id": "herbal-dinner",
   "metadata": {},
   "outputs": [],
   "source": [
    "def cofund(funders):\n",
    "    label=1\n",
    "    if funders=='Not-Funded':\n",
    "        label=0\n",
    "    elif 'EU' not in funders and len(funders)==1:\n",
    "        label=0\n",
    "    return label\n",
    "pub_df['cofund']=pub_df['funder_distinct'].apply(lambda x: cofund(x))"
   ]
  },
  {
   "cell_type": "code",
   "execution_count": 8,
   "id": "associate-bumper",
   "metadata": {},
   "outputs": [],
   "source": [
    "def intfund(funder, author, cofund):\n",
    "    label = 0\n",
    "    if cofund==1:\n",
    "        label =1\n",
    "    elif funder!='Not-Funded' and funder[0] not in author:\n",
    "        label = 1\n",
    "    return label\n",
    "pub_df['intfund']=pub_df[['funder_distinct','author_distinct','cofund']].apply(\n",
    "    lambda x:intfund(x.funder_distinct,x.author_distinct,x.cofund),axis=1)"
   ]
  },
  {
   "cell_type": "code",
   "execution_count": 12,
   "id": "pressing-wesley",
   "metadata": {},
   "outputs": [],
   "source": [
    "pub_df.to_pickle(clean_pub_path)"
   ]
  },
  {
   "cell_type": "code",
   "execution_count": null,
   "id": "132c2eec-ac5f-4b84-a842-68807d11e084",
   "metadata": {},
   "outputs": [],
   "source": []
  }
 ],
 "metadata": {
  "kernelspec": {
   "display_name": "Python 3 (ipykernel)",
   "language": "python",
   "name": "python3"
  },
  "language_info": {
   "codemirror_mode": {
    "name": "ipython",
    "version": 3
   },
   "file_extension": ".py",
   "mimetype": "text/x-python",
   "name": "python",
   "nbconvert_exporter": "python",
   "pygments_lexer": "ipython3",
   "version": "3.8.16"
  }
 },
 "nbformat": 4,
 "nbformat_minor": 5
}
