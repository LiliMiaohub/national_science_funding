{
 "cells": [
  {
   "cell_type": "markdown",
   "id": "adjacent-facing",
   "metadata": {},
   "source": [
    "this script calculates distribution of R&D and the distribution of funded paper"
   ]
  },
  {
   "cell_type": "code",
   "execution_count": 1,
   "id": "separate-tension",
   "metadata": {},
   "outputs": [],
   "source": [
    "import pandas as pd\n",
    "import numpy as np\n",
    "import seaborn as sns\n",
    "import matplotlib.pyplot as plt"
   ]
  },
  {
   "cell_type": "code",
   "execution_count": 2,
   "id": "behind-essay",
   "metadata": {},
   "outputs": [],
   "source": [
    "rd_path='../../data/nf_folder/Data/DerivedData/CleanedRawData/GDEXPRD_OECD.csv'\n",
    "cntry_fund_frac_path='../../data/nf_folder/Data/DerivedData/Derived/cntry_fund_frac.csv'"
   ]
  },
  {
   "cell_type": "code",
   "execution_count": 54,
   "id": "complete-impossible",
   "metadata": {},
   "outputs": [],
   "source": [
    "output_path='../../data/nf_folder/Figs/funding_rd.pdf'"
   ]
  },
  {
   "cell_type": "code",
   "execution_count": 3,
   "id": "handled-salvation",
   "metadata": {},
   "outputs": [
    {
     "data": {
      "text/html": [
       "<div>\n",
       "<style scoped>\n",
       "    .dataframe tbody tr th:only-of-type {\n",
       "        vertical-align: middle;\n",
       "    }\n",
       "\n",
       "    .dataframe tbody tr th {\n",
       "        vertical-align: top;\n",
       "    }\n",
       "\n",
       "    .dataframe thead th {\n",
       "        text-align: right;\n",
       "    }\n",
       "</style>\n",
       "<table border=\"1\" class=\"dataframe\">\n",
       "  <thead>\n",
       "    <tr style=\"text-align: right;\">\n",
       "      <th></th>\n",
       "      <th>Code</th>\n",
       "      <th>WoS</th>\n",
       "      <th>time</th>\n",
       "      <th>indicator</th>\n",
       "      <th>subject</th>\n",
       "      <th>measure</th>\n",
       "      <th>value</th>\n",
       "    </tr>\n",
       "  </thead>\n",
       "  <tbody>\n",
       "    <tr>\n",
       "      <th>0</th>\n",
       "      <td>AUS</td>\n",
       "      <td>Australia</td>\n",
       "      <td>2000</td>\n",
       "      <td>GDEXPRD</td>\n",
       "      <td>TOT</td>\n",
       "      <td>MLN_USD</td>\n",
       "      <td>10689.513545</td>\n",
       "    </tr>\n",
       "    <tr>\n",
       "      <th>1</th>\n",
       "      <td>AUS</td>\n",
       "      <td>Australia</td>\n",
       "      <td>2002</td>\n",
       "      <td>GDEXPRD</td>\n",
       "      <td>TOT</td>\n",
       "      <td>MLN_USD</td>\n",
       "      <td>12782.111023</td>\n",
       "    </tr>\n",
       "    <tr>\n",
       "      <th>2</th>\n",
       "      <td>AUS</td>\n",
       "      <td>Australia</td>\n",
       "      <td>2004</td>\n",
       "      <td>GDEXPRD</td>\n",
       "      <td>TOT</td>\n",
       "      <td>MLN_USD</td>\n",
       "      <td>14407.180094</td>\n",
       "    </tr>\n",
       "    <tr>\n",
       "      <th>3</th>\n",
       "      <td>AUS</td>\n",
       "      <td>Australia</td>\n",
       "      <td>2006</td>\n",
       "      <td>GDEXPRD</td>\n",
       "      <td>TOT</td>\n",
       "      <td>MLN_USD</td>\n",
       "      <td>17803.608913</td>\n",
       "    </tr>\n",
       "    <tr>\n",
       "      <th>4</th>\n",
       "      <td>AUS</td>\n",
       "      <td>Australia</td>\n",
       "      <td>2008</td>\n",
       "      <td>GDEXPRD</td>\n",
       "      <td>TOT</td>\n",
       "      <td>MLN_USD</td>\n",
       "      <td>21079.459211</td>\n",
       "    </tr>\n",
       "  </tbody>\n",
       "</table>\n",
       "</div>"
      ],
      "text/plain": [
       "  Code        WoS  time indicator subject  measure         value\n",
       "0  AUS  Australia  2000   GDEXPRD     TOT  MLN_USD  10689.513545\n",
       "1  AUS  Australia  2002   GDEXPRD     TOT  MLN_USD  12782.111023\n",
       "2  AUS  Australia  2004   GDEXPRD     TOT  MLN_USD  14407.180094\n",
       "3  AUS  Australia  2006   GDEXPRD     TOT  MLN_USD  17803.608913\n",
       "4  AUS  Australia  2008   GDEXPRD     TOT  MLN_USD  21079.459211"
      ]
     },
     "execution_count": 3,
     "metadata": {},
     "output_type": "execute_result"
    }
   ],
   "source": [
    "rd_df=pd.read_csv(rd_path)\n",
    "rd_df.head()"
   ]
  },
  {
   "cell_type": "code",
   "execution_count": 4,
   "id": "clear-defensive",
   "metadata": {},
   "outputs": [],
   "source": [
    "def get_topn_ratio(data_df,timecol,valuecol):\n",
    "    yearlist=np.arange(2009,2019)\n",
    "    ranklist=[2,5,10]\n",
    "    result=[]\n",
    "    for year in yearlist:\n",
    "        data_filter=data_df[data_df[timecol]==year]\n",
    "        data_filter=data_filter.sort_values(by=valuecol,ascending=False)\n",
    "        for r in ranklist:\n",
    "            total=data_filter[valuecol].sum()\n",
    "            topr=data_filter[:r][valuecol].sum()\n",
    "            topr=topr/total\n",
    "            result.append([year,r,topr])\n",
    "    return result"
   ]
  },
  {
   "cell_type": "code",
   "execution_count": 5,
   "id": "touched-coating",
   "metadata": {},
   "outputs": [
    {
     "data": {
      "text/html": [
       "<div>\n",
       "<style scoped>\n",
       "    .dataframe tbody tr th:only-of-type {\n",
       "        vertical-align: middle;\n",
       "    }\n",
       "\n",
       "    .dataframe tbody tr th {\n",
       "        vertical-align: top;\n",
       "    }\n",
       "\n",
       "    .dataframe thead th {\n",
       "        text-align: right;\n",
       "    }\n",
       "</style>\n",
       "<table border=\"1\" class=\"dataframe\">\n",
       "  <thead>\n",
       "    <tr style=\"text-align: right;\">\n",
       "      <th></th>\n",
       "      <th>year</th>\n",
       "      <th>topn</th>\n",
       "      <th>rd_ratio</th>\n",
       "    </tr>\n",
       "  </thead>\n",
       "  <tbody>\n",
       "    <tr>\n",
       "      <th>0</th>\n",
       "      <td>2009</td>\n",
       "      <td>2</td>\n",
       "      <td>0.482378</td>\n",
       "    </tr>\n",
       "    <tr>\n",
       "      <th>1</th>\n",
       "      <td>2009</td>\n",
       "      <td>5</td>\n",
       "      <td>0.713291</td>\n",
       "    </tr>\n",
       "    <tr>\n",
       "      <th>2</th>\n",
       "      <td>2009</td>\n",
       "      <td>10</td>\n",
       "      <td>0.851455</td>\n",
       "    </tr>\n",
       "    <tr>\n",
       "      <th>3</th>\n",
       "      <td>2010</td>\n",
       "      <td>2</td>\n",
       "      <td>0.479027</td>\n",
       "    </tr>\n",
       "    <tr>\n",
       "      <th>4</th>\n",
       "      <td>2010</td>\n",
       "      <td>5</td>\n",
       "      <td>0.703836</td>\n",
       "    </tr>\n",
       "  </tbody>\n",
       "</table>\n",
       "</div>"
      ],
      "text/plain": [
       "   year  topn  rd_ratio\n",
       "0  2009     2  0.482378\n",
       "1  2009     5  0.713291\n",
       "2  2009    10  0.851455\n",
       "3  2010     2  0.479027\n",
       "4  2010     5  0.703836"
      ]
     },
     "execution_count": 5,
     "metadata": {},
     "output_type": "execute_result"
    }
   ],
   "source": [
    "top_rd=get_topn_ratio(rd_df,'time','value')\n",
    "top_rd=pd.DataFrame(top_rd,columns=['year','topn','rd_ratio'])\n",
    "top_rd.head()"
   ]
  },
  {
   "cell_type": "code",
   "execution_count": 6,
   "id": "lined-alloy",
   "metadata": {},
   "outputs": [
    {
     "data": {
      "text/html": [
       "<div>\n",
       "<style scoped>\n",
       "    .dataframe tbody tr th:only-of-type {\n",
       "        vertical-align: middle;\n",
       "    }\n",
       "\n",
       "    .dataframe tbody tr th {\n",
       "        vertical-align: top;\n",
       "    }\n",
       "\n",
       "    .dataframe thead th {\n",
       "        text-align: right;\n",
       "    }\n",
       "</style>\n",
       "<table border=\"1\" class=\"dataframe\">\n",
       "  <thead>\n",
       "    <tr style=\"text-align: right;\">\n",
       "      <th></th>\n",
       "      <th>fund_cntry</th>\n",
       "      <th>cnt_frac</th>\n",
       "      <th>year</th>\n",
       "      <th>funded</th>\n",
       "      <th>intcol</th>\n",
       "    </tr>\n",
       "  </thead>\n",
       "  <tbody>\n",
       "    <tr>\n",
       "      <th>0</th>\n",
       "      <td>Turkey</td>\n",
       "      <td>1.0</td>\n",
       "      <td>2009</td>\n",
       "      <td>1</td>\n",
       "      <td>0</td>\n",
       "    </tr>\n",
       "    <tr>\n",
       "      <th>1</th>\n",
       "      <td>United States</td>\n",
       "      <td>1.0</td>\n",
       "      <td>2009</td>\n",
       "      <td>1</td>\n",
       "      <td>1</td>\n",
       "    </tr>\n",
       "    <tr>\n",
       "      <th>2</th>\n",
       "      <td>Russia</td>\n",
       "      <td>1.0</td>\n",
       "      <td>2009</td>\n",
       "      <td>1</td>\n",
       "      <td>0</td>\n",
       "    </tr>\n",
       "    <tr>\n",
       "      <th>3</th>\n",
       "      <td>Spain</td>\n",
       "      <td>1.0</td>\n",
       "      <td>2009</td>\n",
       "      <td>1</td>\n",
       "      <td>0</td>\n",
       "    </tr>\n",
       "    <tr>\n",
       "      <th>4</th>\n",
       "      <td>Spain</td>\n",
       "      <td>1.0</td>\n",
       "      <td>2009</td>\n",
       "      <td>1</td>\n",
       "      <td>1</td>\n",
       "    </tr>\n",
       "  </tbody>\n",
       "</table>\n",
       "</div>"
      ],
      "text/plain": [
       "      fund_cntry  cnt_frac  year  funded  intcol\n",
       "0         Turkey       1.0  2009       1       0\n",
       "1  United States       1.0  2009       1       1\n",
       "2         Russia       1.0  2009       1       0\n",
       "3          Spain       1.0  2009       1       0\n",
       "4          Spain       1.0  2009       1       1"
      ]
     },
     "execution_count": 6,
     "metadata": {},
     "output_type": "execute_result"
    }
   ],
   "source": [
    "cntry_fund_frac=pd.read_csv(cntry_fund_frac_path)\n",
    "cntry_fund_frac.head()"
   ]
  },
  {
   "cell_type": "code",
   "execution_count": 7,
   "id": "accurate-coordinator",
   "metadata": {},
   "outputs": [],
   "source": [
    "cntry_fund_frac=cntry_fund_frac.groupby(['fund_cntry','year'])['cnt_frac'].sum().reset_index()\n"
   ]
  },
  {
   "cell_type": "code",
   "execution_count": 13,
   "id": "completed-malawi",
   "metadata": {},
   "outputs": [],
   "source": [
    "cntry_fund_frac = cntry_fund_frac[cntry_fund_frac.fund_cntry!='Not-Funded']"
   ]
  },
  {
   "cell_type": "code",
   "execution_count": 14,
   "id": "technological-syria",
   "metadata": {},
   "outputs": [],
   "source": [
    "top_fund=get_topn_ratio(cntry_fund_frac,'year','cnt_frac')"
   ]
  },
  {
   "cell_type": "code",
   "execution_count": 16,
   "id": "every-judges",
   "metadata": {},
   "outputs": [
    {
     "data": {
      "text/html": [
       "<div>\n",
       "<style scoped>\n",
       "    .dataframe tbody tr th:only-of-type {\n",
       "        vertical-align: middle;\n",
       "    }\n",
       "\n",
       "    .dataframe tbody tr th {\n",
       "        vertical-align: top;\n",
       "    }\n",
       "\n",
       "    .dataframe thead th {\n",
       "        text-align: right;\n",
       "    }\n",
       "</style>\n",
       "<table border=\"1\" class=\"dataframe\">\n",
       "  <thead>\n",
       "    <tr style=\"text-align: right;\">\n",
       "      <th></th>\n",
       "      <th>year</th>\n",
       "      <th>topn</th>\n",
       "      <th>pub_ratio</th>\n",
       "    </tr>\n",
       "  </thead>\n",
       "  <tbody>\n",
       "    <tr>\n",
       "      <th>0</th>\n",
       "      <td>2009</td>\n",
       "      <td>2</td>\n",
       "      <td>0.410961</td>\n",
       "    </tr>\n",
       "    <tr>\n",
       "      <th>1</th>\n",
       "      <td>2009</td>\n",
       "      <td>5</td>\n",
       "      <td>0.555659</td>\n",
       "    </tr>\n",
       "    <tr>\n",
       "      <th>2</th>\n",
       "      <td>2009</td>\n",
       "      <td>10</td>\n",
       "      <td>0.710344</td>\n",
       "    </tr>\n",
       "    <tr>\n",
       "      <th>3</th>\n",
       "      <td>2010</td>\n",
       "      <td>2</td>\n",
       "      <td>0.406117</td>\n",
       "    </tr>\n",
       "    <tr>\n",
       "      <th>4</th>\n",
       "      <td>2010</td>\n",
       "      <td>5</td>\n",
       "      <td>0.548453</td>\n",
       "    </tr>\n",
       "  </tbody>\n",
       "</table>\n",
       "</div>"
      ],
      "text/plain": [
       "   year  topn  pub_ratio\n",
       "0  2009     2   0.410961\n",
       "1  2009     5   0.555659\n",
       "2  2009    10   0.710344\n",
       "3  2010     2   0.406117\n",
       "4  2010     5   0.548453"
      ]
     },
     "execution_count": 16,
     "metadata": {},
     "output_type": "execute_result"
    }
   ],
   "source": [
    "top_fund_df=pd.DataFrame(top_fund,columns=['year','topn','pub_ratio'])\n",
    "top_fund_df.head()"
   ]
  },
  {
   "cell_type": "code",
   "execution_count": 18,
   "id": "czech-facial",
   "metadata": {},
   "outputs": [
    {
     "data": {
      "text/html": [
       "<div>\n",
       "<style scoped>\n",
       "    .dataframe tbody tr th:only-of-type {\n",
       "        vertical-align: middle;\n",
       "    }\n",
       "\n",
       "    .dataframe tbody tr th {\n",
       "        vertical-align: top;\n",
       "    }\n",
       "\n",
       "    .dataframe thead th {\n",
       "        text-align: right;\n",
       "    }\n",
       "</style>\n",
       "<table border=\"1\" class=\"dataframe\">\n",
       "  <thead>\n",
       "    <tr style=\"text-align: right;\">\n",
       "      <th></th>\n",
       "      <th>year</th>\n",
       "      <th>topn</th>\n",
       "      <th>pub_ratio</th>\n",
       "      <th>rd_ratio</th>\n",
       "    </tr>\n",
       "  </thead>\n",
       "  <tbody>\n",
       "    <tr>\n",
       "      <th>0</th>\n",
       "      <td>2009</td>\n",
       "      <td>2</td>\n",
       "      <td>0.410961</td>\n",
       "      <td>0.482378</td>\n",
       "    </tr>\n",
       "    <tr>\n",
       "      <th>1</th>\n",
       "      <td>2009</td>\n",
       "      <td>5</td>\n",
       "      <td>0.555659</td>\n",
       "      <td>0.713291</td>\n",
       "    </tr>\n",
       "    <tr>\n",
       "      <th>2</th>\n",
       "      <td>2009</td>\n",
       "      <td>10</td>\n",
       "      <td>0.710344</td>\n",
       "      <td>0.851455</td>\n",
       "    </tr>\n",
       "    <tr>\n",
       "      <th>3</th>\n",
       "      <td>2010</td>\n",
       "      <td>2</td>\n",
       "      <td>0.406117</td>\n",
       "      <td>0.479027</td>\n",
       "    </tr>\n",
       "    <tr>\n",
       "      <th>4</th>\n",
       "      <td>2010</td>\n",
       "      <td>5</td>\n",
       "      <td>0.548453</td>\n",
       "      <td>0.703836</td>\n",
       "    </tr>\n",
       "  </tbody>\n",
       "</table>\n",
       "</div>"
      ],
      "text/plain": [
       "   year  topn  pub_ratio  rd_ratio\n",
       "0  2009     2   0.410961  0.482378\n",
       "1  2009     5   0.555659  0.713291\n",
       "2  2009    10   0.710344  0.851455\n",
       "3  2010     2   0.406117  0.479027\n",
       "4  2010     5   0.548453  0.703836"
      ]
     },
     "execution_count": 18,
     "metadata": {},
     "output_type": "execute_result"
    }
   ],
   "source": [
    "top_meta=top_fund_df.merge(top_rd,on=['year','topn'])\n",
    "top_meta.head()"
   ]
  },
  {
   "cell_type": "code",
   "execution_count": 55,
   "id": "comfortable-dining",
   "metadata": {},
   "outputs": [
    {
     "data": {
      "image/png": "[encoded data removed]",
      "text/plain": [
       "<Figure size 432x288 with 1 Axes>"
      ]
     },
     "metadata": {
      "needs_background": "light"
     },
     "output_type": "display_data"
    }
   ],
   "source": [
    "fig,ax=plt.subplots()\n",
    "sns.lineplot(x='year',y='pub_ratio',data=top_meta,hue='topn',ax=ax,palette=['#F37402']*3,legend=False,dashes=True)\n",
    "sns.lineplot(x='year',y='rd_ratio',data=top_meta,hue='topn',ax=ax,palette=['#81B7D7']*3,legend=False)\n",
    "ax.spines['right'].set_visible(False)\n",
    "ax.spines['top'].set_visible(False)\n",
    "plt.text(2018,0.48,'Top2 Funding', fontsize=12)\n",
    "plt.text(2018,0.54,'Top2 R&D', fontsize=12)\n",
    "plt.text(2018,0.59,'Top5 Funding', fontsize=12)\n",
    "plt.text(2018,0.76,'Top5 R&D', fontsize=12)\n",
    "plt.text(2018,0.71,'Top10 Funding', fontsize=12)\n",
    "plt.text(2018,0.87,'Top10 R&D', fontsize=12)\n",
    "plt.xticks(fontsize=12)\n",
    "plt.yticks(fontsize=12)\n",
    "plt.xlabel(\"Year\",fontsize=16)\n",
    "plt.ylabel(\"Ratio\", fontsize=16)\n",
    "plt.savefig(output_path, bbox_inches='tight')"
   ]
  },
  {
   "cell_type": "code",
   "execution_count": null,
   "id": "subsequent-impact",
   "metadata": {},
   "outputs": [],
   "source": []
  }
 ],
 "metadata": {
  "kernelspec": {
   "display_name": "Python 3",
   "language": "python",
   "name": "python3"
  },
  "language_info": {
   "codemirror_mode": {
    "name": "ipython",
    "version": 3
   },
   "file_extension": ".py",
   "mimetype": "text/x-python",
   "name": "python",
   "nbconvert_exporter": "python",
   "pygments_lexer": "ipython3",
   "version": "3.8.1"
  }
 },
 "nbformat": 4,
 "nbformat_minor": 5
}
