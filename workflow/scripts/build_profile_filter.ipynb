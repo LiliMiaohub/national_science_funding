{
 "cells": [
  {
   "cell_type": "markdown",
   "id": "increased-calculation",
   "metadata": {},
   "source": [
    "this script builds filtered research profile of countries. filtered research profile refers publications are internationally funded are removed. internationally funded publications are labelled as \"intfund\" which includes two types of publications:\n",
    "\n",
    "1. publications that are internationally cofunded\n",
    "\n",
    "2. publications that are funded by the country which is not listed in authorship"
   ]
  },
  {
   "cell_type": "code",
   "execution_count": 22,
   "id": "united-scholar",
   "metadata": {},
   "outputs": [],
   "source": [
    "import pandas as pd"
   ]
  },
  {
   "cell_type": "code",
   "execution_count": 23,
   "id": "federal-extreme",
   "metadata": {},
   "outputs": [],
   "source": [
    "pubs_path=\"../../data/nf_folder/Data/DerivedData/CleanedRawData/pub.pkl\""
   ]
  },
  {
   "cell_type": "code",
   "execution_count": 24,
   "id": "floral-inside",
   "metadata": {},
   "outputs": [],
   "source": [
    "pubs_filter='../../data/nf_folder/Data/DerivedData/Derived/cntry_profile_filter_full.csv'"
   ]
  },
  {
   "cell_type": "code",
   "execution_count": 25,
   "id": "hearing-diploma",
   "metadata": {},
   "outputs": [],
   "source": [
    "filter_df = pub_df[pub_df.intfund==0]"
   ]
  },
  {
   "cell_type": "code",
   "execution_count": 29,
   "id": "front-bangkok",
   "metadata": {},
   "outputs": [],
   "source": [
    "cntry_filter = filter_df[['author_distinct','year','dis']]\n",
    "cntry_filter = cntry_filter.explode('author_distinct')\n",
    "cntry_filter = cntry_filter.groupby(['author_distinct','year','dis']).size().reset_index(name='count')\n",
    "cntry_filter = cntry_filter.rename(columns={'author_distinct':'cntry'})"
   ]
  },
  {
   "cell_type": "code",
   "execution_count": 31,
   "id": "integrated-resource",
   "metadata": {},
   "outputs": [],
   "source": [
    "cntry_filter = cntry_filter.groupby(['cntry','year','dis'])['count'].sum().reset_index()"
   ]
  },
  {
   "cell_type": "code",
   "execution_count": 32,
   "id": "several-variation",
   "metadata": {},
   "outputs": [],
   "source": [
    "cntry_filter.to_csv(pubs_filter,index=False)"
   ]
  },
  {
   "cell_type": "code",
   "execution_count": null,
   "id": "placed-baghdad",
   "metadata": {},
   "outputs": [],
   "source": []
  }
 ],
 "metadata": {
  "kernelspec": {
   "display_name": "Python 3",
   "language": "python",
   "name": "python3"
  },
  "language_info": {
   "codemirror_mode": {
    "name": "ipython",
    "version": 3
   },
   "file_extension": ".py",
   "mimetype": "text/x-python",
   "name": "python",
   "nbconvert_exporter": "python",
   "pygments_lexer": "ipython3",
   "version": "3.8.10"
  }
 },
 "nbformat": 4,
 "nbformat_minor": 5
}
