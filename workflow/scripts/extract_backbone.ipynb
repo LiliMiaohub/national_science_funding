{
 "cells": [
  {
   "cell_type": "code",
   "execution_count": 4,
   "id": "0a2cd08a-49c9-48b4-9206-2b69afd20c79",
   "metadata": {},
   "outputs": [],
   "source": [
    "import pandas as pd\n",
    "import seaborn as sns\n",
    "import networkx as nx\n",
    "import numpy as np\n",
    "from funding import core\n",
    "import os"
   ]
  },
  {
   "cell_type": "code",
   "execution_count": 5,
   "id": "b0962fe4-5299-4673-b488-dc51ff9e81e3",
   "metadata": {
    "tags": [
     "parameters"
    ]
   },
   "outputs": [],
   "source": [
    "all2all_path = \"../../data/NationalFunding/Data/DerivedData/Derived/dependence/pub_noforeign_fund_all2all.csv\"\n",
    "cntry_region_path = '../../data/NationalFunding/Data/AdditionalData/cntry_region.xlsx'\n",
    "fund_frac_path=\"../../data/NationalFunding/Data/DerivedData/Derived/cntry_fund_frac.csv\"\n",
    "backbone_net_path = \"../../data/NationalFunding/Data/DerivedData/Derived/all2all_backbone_alpha1.gexf\""
   ]
  },
  {
   "cell_type": "code",
   "execution_count": 6,
   "id": "f8bf803e-743a-4e52-858e-50bdc231a4dd",
   "metadata": {
    "tags": [
     "parameters"
    ]
   },
   "outputs": [],
   "source": [
    "all2all_df = pd.read_csv(all2all_path)"
   ]
  },
  {
   "cell_type": "code",
   "execution_count": 7,
   "id": "f892d1ef-e306-419a-9eb5-526cc9007c10",
   "metadata": {},
   "outputs": [],
   "source": [
    "all2all_df=all2all_df[(all2all_df.source!=all2all_df.target)] #remove selfloop \n",
    "all2all_df=all2all_df[all2all_df.p!=0] #remove 0 weight\n",
    "all2all_df=all2all_df[['source','target','p']]\n",
    "all2all_df.columns=['source','target','weight']"
   ]
  },
  {
   "cell_type": "code",
   "execution_count": 11,
   "id": "ae550d23-31da-495f-a920-eac804e04950",
   "metadata": {},
   "outputs": [
    {
     "data": {
      "text/html": [
       "<div>\n",
       "<style scoped>\n",
       "    .dataframe tbody tr th:only-of-type {\n",
       "        vertical-align: middle;\n",
       "    }\n",
       "\n",
       "    .dataframe tbody tr th {\n",
       "        vertical-align: top;\n",
       "    }\n",
       "\n",
       "    .dataframe thead th {\n",
       "        text-align: right;\n",
       "    }\n",
       "</style>\n",
       "<table border=\"1\" class=\"dataframe\">\n",
       "  <thead>\n",
       "    <tr style=\"text-align: right;\">\n",
       "      <th></th>\n",
       "      <th>funder</th>\n",
       "      <th>count</th>\n",
       "      <th>cnt_log</th>\n",
       "    </tr>\n",
       "  </thead>\n",
       "  <tbody>\n",
       "    <tr>\n",
       "      <th>0</th>\n",
       "      <td>Afghanistan</td>\n",
       "      <td>3.089135</td>\n",
       "      <td>1.127891</td>\n",
       "    </tr>\n",
       "    <tr>\n",
       "      <th>1</th>\n",
       "      <td>Albania</td>\n",
       "      <td>17.032612</td>\n",
       "      <td>2.835130</td>\n",
       "    </tr>\n",
       "    <tr>\n",
       "      <th>2</th>\n",
       "      <td>Algeria</td>\n",
       "      <td>1824.735809</td>\n",
       "      <td>7.509190</td>\n",
       "    </tr>\n",
       "    <tr>\n",
       "      <th>3</th>\n",
       "      <td>Andorra</td>\n",
       "      <td>27.341270</td>\n",
       "      <td>3.308397</td>\n",
       "    </tr>\n",
       "    <tr>\n",
       "      <th>4</th>\n",
       "      <td>Angola</td>\n",
       "      <td>24.671520</td>\n",
       "      <td>3.205650</td>\n",
       "    </tr>\n",
       "  </tbody>\n",
       "</table>\n",
       "</div>"
      ],
      "text/plain": [
       "        funder        count   cnt_log\n",
       "0  Afghanistan     3.089135  1.127891\n",
       "1      Albania    17.032612  2.835130\n",
       "2      Algeria  1824.735809  7.509190\n",
       "3      Andorra    27.341270  3.308397\n",
       "4       Angola    24.671520  3.205650"
      ]
     },
     "execution_count": 11,
     "metadata": {},
     "output_type": "execute_result"
    }
   ],
   "source": [
    "fund_df=pd.read_csv(fund_frac_path)\n",
    "fund_df = fund_df.groupby(['funder'])['cnt'].sum().reset_index(name='count')\n",
    "fund_df['cnt_log']=np.log(fund_df['count'])\n",
    "fund_df.head()"
   ]
  },
  {
   "cell_type": "code",
   "execution_count": 12,
   "id": "c669c7cf-57d9-4f7d-8b28-d62031aedd91",
   "metadata": {},
   "outputs": [
    {
     "data": {
      "text/html": [
       "<div>\n",
       "<style scoped>\n",
       "    .dataframe tbody tr th:only-of-type {\n",
       "        vertical-align: middle;\n",
       "    }\n",
       "\n",
       "    .dataframe tbody tr th {\n",
       "        vertical-align: top;\n",
       "    }\n",
       "\n",
       "    .dataframe thead th {\n",
       "        text-align: right;\n",
       "    }\n",
       "</style>\n",
       "<table border=\"1\" class=\"dataframe\">\n",
       "  <thead>\n",
       "    <tr style=\"text-align: right;\">\n",
       "      <th></th>\n",
       "      <th>cntry</th>\n",
       "      <th>region1</th>\n",
       "      <th>eulabel</th>\n",
       "      <th>region</th>\n",
       "      <th>region2</th>\n",
       "    </tr>\n",
       "  </thead>\n",
       "  <tbody>\n",
       "    <tr>\n",
       "      <th>0</th>\n",
       "      <td>Algeria</td>\n",
       "      <td>Africa</td>\n",
       "      <td>NaN</td>\n",
       "      <td>Africa</td>\n",
       "      <td>Africa</td>\n",
       "    </tr>\n",
       "    <tr>\n",
       "      <th>1</th>\n",
       "      <td>Angola</td>\n",
       "      <td>Africa</td>\n",
       "      <td>NaN</td>\n",
       "      <td>Africa</td>\n",
       "      <td>Africa</td>\n",
       "    </tr>\n",
       "    <tr>\n",
       "      <th>2</th>\n",
       "      <td>Belgian Congo</td>\n",
       "      <td>Africa</td>\n",
       "      <td>NaN</td>\n",
       "      <td>Africa</td>\n",
       "      <td>Africa</td>\n",
       "    </tr>\n",
       "    <tr>\n",
       "      <th>3</th>\n",
       "      <td>Benin</td>\n",
       "      <td>Africa</td>\n",
       "      <td>NaN</td>\n",
       "      <td>Africa</td>\n",
       "      <td>Africa</td>\n",
       "    </tr>\n",
       "    <tr>\n",
       "      <th>4</th>\n",
       "      <td>Botswana</td>\n",
       "      <td>Africa</td>\n",
       "      <td>NaN</td>\n",
       "      <td>Africa</td>\n",
       "      <td>Africa</td>\n",
       "    </tr>\n",
       "  </tbody>\n",
       "</table>\n",
       "</div>"
      ],
      "text/plain": [
       "           cntry region1  eulabel  region region2\n",
       "0        Algeria  Africa      NaN  Africa  Africa\n",
       "1         Angola  Africa      NaN  Africa  Africa\n",
       "2  Belgian Congo  Africa      NaN  Africa  Africa\n",
       "3          Benin  Africa      NaN  Africa  Africa\n",
       "4       Botswana  Africa      NaN  Africa  Africa"
      ]
     },
     "execution_count": 12,
     "metadata": {},
     "output_type": "execute_result"
    }
   ],
   "source": [
    "cntry_region = pd.read_excel(cntry_region_path)\n",
    "cntry_region = cntry_region.replace(to_replace={'region2':{'EU':'Europe','Other Europe':'Europe'}})\n",
    "cntry_region.head()"
   ]
  },
  {
   "cell_type": "markdown",
   "id": "1866d232-658e-47e7-bc3a-c579b0f4a595",
   "metadata": {},
   "source": [
    "## create network"
   ]
  },
  {
   "cell_type": "code",
   "execution_count": 8,
   "id": "4c2d41f4-bdde-4b92-b25a-ffcac5a6e609",
   "metadata": {},
   "outputs": [],
   "source": [
    "net = nx.DiGraph()\n",
    "for i, row in all2all_df.iterrows():\n",
    "    net.add_edge(row['source'], row['target'], weight=row['weight'])"
   ]
  },
  {
   "cell_type": "markdown",
   "id": "8662f38f-773b-4bbb-b20d-f03af2896757",
   "metadata": {},
   "source": [
    "## set the attributes of nodes"
   ]
  },
  {
   "cell_type": "code",
   "execution_count": 13,
   "id": "95325847-b42a-443d-8d03-a0f0577aa02f",
   "metadata": {},
   "outputs": [],
   "source": [
    "fund_dict=dict(zip(fund_df['funder'],fund_df['cnt_log']))\n",
    "region_dict=dict(zip(cntry_region['cntry'],cntry_region['region2']))"
   ]
  },
  {
   "cell_type": "code",
   "execution_count": 14,
   "id": "63bea7b1-1621-48ae-aa78-cc301a921b82",
   "metadata": {},
   "outputs": [],
   "source": [
    "nx.set_node_attributes(net,0,'fund')\n",
    "nx.set_node_attributes(net,0,'region')\n",
    "nx.set_node_attributes(net,fund_dict,'fund')\n",
    "nx.set_node_attributes(net,region_dict,'region')"
   ]
  },
  {
   "cell_type": "code",
   "execution_count": 9,
   "id": "cbd5f4a3-aaab-43a8-8a02-d454039d1a00",
   "metadata": {},
   "outputs": [],
   "source": [
    "net_alpha = core.disparity_filter(net)"
   ]
  },
  {
   "cell_type": "code",
   "execution_count": 28,
   "id": "8a596d0a-48bb-4530-a8d5-4b52c0622e4d",
   "metadata": {},
   "outputs": [],
   "source": [
    "def extract_alpha(path):\n",
    "    filename, extension = os.path.splitext(os.path.basename(backbone_net_path))\n",
    "    alpha=filename.split(\"_\")[-1].replace(\"alpha\",\"\")\n",
    "    if len(alpha)==4:\n",
    "        alpha = int(alpha)/1000\n",
    "    elif len(alpha)==3:\n",
    "        alpha = int(alpha)/100\n",
    "    elif len(alpha)==1:\n",
    "        alpha = int(alpha)\n",
    "    else:\n",
    "        print(\"invalid alpha value\")\n",
    "    return alpha"
   ]
  },
  {
   "cell_type": "code",
   "execution_count": 33,
   "id": "c5a11596-746f-4753-86aa-703ae2b07052",
   "metadata": {},
   "outputs": [],
   "source": [
    "alpha = extract_alpha(backbone_net_path)\n",
    "selected_edges = [(u, v) for u, v, attrs in net_alpha.edges(data=True) if attrs.get('alpha_in', 0) < alpha]\n",
    "selected_graph = net.edge_subgraph(selected_edges)"
   ]
  },
  {
   "cell_type": "code",
   "execution_count": null,
   "id": "f9e6eb6e-aae5-4373-b178-f5ad50b3b3d2",
   "metadata": {},
   "outputs": [],
   "source": [
    "nx.write_gexf(selected_graph, backbone_net_path)"
   ]
  }
 ],
 "metadata": {
  "kernelspec": {
   "display_name": "Python 3 (ipykernel)",
   "language": "python",
   "name": "python3"
  },
  "language_info": {
   "codemirror_mode": {
    "name": "ipython",
    "version": 3
   },
   "file_extension": ".py",
   "mimetype": "text/x-python",
   "name": "python",
   "nbconvert_exporter": "python",
   "pygments_lexer": "ipython3",
   "version": "3.8.16"
  }
 },
 "nbformat": 4,
 "nbformat_minor": 5
}
