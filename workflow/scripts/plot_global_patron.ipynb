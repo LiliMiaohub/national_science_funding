{
 "cells": [
  {
   "cell_type": "markdown",
   "id": "blank-douglas",
   "metadata": {},
   "source": [
    "this script plots countries' contribution to science"
   ]
  },
  {
   "cell_type": "code",
   "execution_count": 1,
   "id": "ambient-crime",
   "metadata": {},
   "outputs": [],
   "source": [
    "import pandas as pd\n",
    "import numpy as np\n",
    "from itertools import product\n",
    "import seaborn as sns\n",
    "import matplotlib.pyplot as plt\n",
    "from matplotlib.lines import Line2D\n",
    "from matplotlib import gridspec\n",
    "from matplotlib.patches import Patch"
   ]
  },
  {
   "cell_type": "code",
   "execution_count": 2,
   "id": "environmental-commons",
   "metadata": {
    "tags": [
     "parameters"
    ]
   },
   "outputs": [],
   "source": [
    "cntry_fund_path='../../data/nf_folder/Data/DerivedData/Derived/cntry_fund_frac.csv'\n",
    "pubs_path=\"../../data/nf_folder/Data/DerivedData/CleanedRawData/pub.pkl\"\n",
    "flag_path='../../data/nf_folder/Data/AdditionalData/country_WoS_ECI_WB_flags.tsv'\n",
    "region_path=\"../../data/nf_folder/Data/AdditionalData/cntry_region.xlsx\"\n",
    "\n",
    "cntry_funding_path='../../data/nf_folder/Figs/cntry_funding_frac.pdf'"
   ]
  },
  {
   "cell_type": "code",
   "execution_count": 3,
   "id": "stupid-waste",
   "metadata": {},
   "outputs": [
    {
     "data": {
      "text/html": [
       "<div>\n",
       "<style scoped>\n",
       "    .dataframe tbody tr th:only-of-type {\n",
       "        vertical-align: middle;\n",
       "    }\n",
       "\n",
       "    .dataframe tbody tr th {\n",
       "        vertical-align: top;\n",
       "    }\n",
       "\n",
       "    .dataframe thead th {\n",
       "        text-align: right;\n",
       "    }\n",
       "</style>\n",
       "<table border=\"1\" class=\"dataframe\">\n",
       "  <thead>\n",
       "    <tr style=\"text-align: right;\">\n",
       "      <th></th>\n",
       "      <th>funder</th>\n",
       "      <th>year</th>\n",
       "      <th>intcol</th>\n",
       "      <th>cnt</th>\n",
       "    </tr>\n",
       "  </thead>\n",
       "  <tbody>\n",
       "    <tr>\n",
       "      <th>0</th>\n",
       "      <td>Afghanistan</td>\n",
       "      <td>2010</td>\n",
       "      <td>1</td>\n",
       "      <td>1.000000</td>\n",
       "    </tr>\n",
       "    <tr>\n",
       "      <th>1</th>\n",
       "      <td>Afghanistan</td>\n",
       "      <td>2011</td>\n",
       "      <td>1</td>\n",
       "      <td>0.333333</td>\n",
       "    </tr>\n",
       "    <tr>\n",
       "      <th>2</th>\n",
       "      <td>Afghanistan</td>\n",
       "      <td>2012</td>\n",
       "      <td>1</td>\n",
       "      <td>0.333333</td>\n",
       "    </tr>\n",
       "    <tr>\n",
       "      <th>3</th>\n",
       "      <td>Afghanistan</td>\n",
       "      <td>2015</td>\n",
       "      <td>0</td>\n",
       "      <td>0.148352</td>\n",
       "    </tr>\n",
       "    <tr>\n",
       "      <th>4</th>\n",
       "      <td>Afghanistan</td>\n",
       "      <td>2015</td>\n",
       "      <td>1</td>\n",
       "      <td>0.279167</td>\n",
       "    </tr>\n",
       "  </tbody>\n",
       "</table>\n",
       "</div>"
      ],
      "text/plain": [
       "        funder  year  intcol       cnt\n",
       "0  Afghanistan  2010       1  1.000000\n",
       "1  Afghanistan  2011       1  0.333333\n",
       "2  Afghanistan  2012       1  0.333333\n",
       "3  Afghanistan  2015       0  0.148352\n",
       "4  Afghanistan  2015       1  0.279167"
      ]
     },
     "execution_count": 3,
     "metadata": {},
     "output_type": "execute_result"
    }
   ],
   "source": [
    "cntry_fund=pd.read_csv(cntry_fund_path)\n",
    "cntry_fund=cntry_fund[cntry_fund.funder!='Not-Funded']\n",
    "cntry_fund.head()"
   ]
  },
  {
   "cell_type": "code",
   "execution_count": 4,
   "id": "outstanding-appreciation",
   "metadata": {},
   "outputs": [
    {
     "data": {
      "text/html": [
       "<div>\n",
       "<style scoped>\n",
       "    .dataframe tbody tr th:only-of-type {\n",
       "        vertical-align: middle;\n",
       "    }\n",
       "\n",
       "    .dataframe tbody tr th {\n",
       "        vertical-align: top;\n",
       "    }\n",
       "\n",
       "    .dataframe thead th {\n",
       "        text-align: right;\n",
       "    }\n",
       "</style>\n",
       "<table border=\"1\" class=\"dataframe\">\n",
       "  <thead>\n",
       "    <tr style=\"text-align: right;\">\n",
       "      <th></th>\n",
       "      <th>id</th>\n",
       "      <th>year</th>\n",
       "      <th>dis</th>\n",
       "      <th>type</th>\n",
       "      <th>author</th>\n",
       "      <th>funder</th>\n",
       "      <th>author_distinct</th>\n",
       "      <th>funder_distinct</th>\n",
       "      <th>funded</th>\n",
       "      <th>IntCol</th>\n",
       "      <th>cofund</th>\n",
       "      <th>intfund</th>\n",
       "    </tr>\n",
       "  </thead>\n",
       "  <tbody>\n",
       "    <tr>\n",
       "      <th>0</th>\n",
       "      <td>60694041</td>\n",
       "      <td>2017</td>\n",
       "      <td>9</td>\n",
       "      <td>1</td>\n",
       "      <td>[Canada, United States]</td>\n",
       "      <td>[United States, United States]</td>\n",
       "      <td>[United States, Canada]</td>\n",
       "      <td>[United States]</td>\n",
       "      <td>1</td>\n",
       "      <td>1</td>\n",
       "      <td>0</td>\n",
       "      <td>0</td>\n",
       "    </tr>\n",
       "    <tr>\n",
       "      <th>1</th>\n",
       "      <td>48573156</td>\n",
       "      <td>2012</td>\n",
       "      <td>89</td>\n",
       "      <td>1</td>\n",
       "      <td>[France]</td>\n",
       "      <td>Not-Funded</td>\n",
       "      <td>[France]</td>\n",
       "      <td>Not-Funded</td>\n",
       "      <td>0</td>\n",
       "      <td>0</td>\n",
       "      <td>0</td>\n",
       "      <td>0</td>\n",
       "    </tr>\n",
       "    <tr>\n",
       "      <th>2</th>\n",
       "      <td>55323671</td>\n",
       "      <td>2015</td>\n",
       "      <td>89</td>\n",
       "      <td>1</td>\n",
       "      <td>[France, Chile]</td>\n",
       "      <td>[Chile, Chile, Chile, Chile, Chile]</td>\n",
       "      <td>[Chile, France]</td>\n",
       "      <td>[Chile]</td>\n",
       "      <td>1</td>\n",
       "      <td>1</td>\n",
       "      <td>0</td>\n",
       "      <td>0</td>\n",
       "    </tr>\n",
       "    <tr>\n",
       "      <th>3</th>\n",
       "      <td>57633115</td>\n",
       "      <td>2016</td>\n",
       "      <td>31</td>\n",
       "      <td>1</td>\n",
       "      <td>[Switzerland, United States]</td>\n",
       "      <td>[Switzerland]</td>\n",
       "      <td>[Switzerland, United States]</td>\n",
       "      <td>[Switzerland]</td>\n",
       "      <td>1</td>\n",
       "      <td>1</td>\n",
       "      <td>0</td>\n",
       "      <td>0</td>\n",
       "    </tr>\n",
       "    <tr>\n",
       "      <th>4</th>\n",
       "      <td>64831413</td>\n",
       "      <td>2018</td>\n",
       "      <td>99</td>\n",
       "      <td>1</td>\n",
       "      <td>[China]</td>\n",
       "      <td>[China, China, China, China, China, China]</td>\n",
       "      <td>[China]</td>\n",
       "      <td>[China]</td>\n",
       "      <td>1</td>\n",
       "      <td>0</td>\n",
       "      <td>0</td>\n",
       "      <td>0</td>\n",
       "    </tr>\n",
       "  </tbody>\n",
       "</table>\n",
       "</div>"
      ],
      "text/plain": [
       "         id  year  dis  type                        author   \n",
       "0  60694041  2017    9     1       [Canada, United States]  \\\n",
       "1  48573156  2012   89     1                      [France]   \n",
       "2  55323671  2015   89     1               [France, Chile]   \n",
       "3  57633115  2016   31     1  [Switzerland, United States]   \n",
       "4  64831413  2018   99     1                       [China]   \n",
       "\n",
       "                                       funder               author_distinct   \n",
       "0              [United States, United States]       [United States, Canada]  \\\n",
       "1                                  Not-Funded                      [France]   \n",
       "2         [Chile, Chile, Chile, Chile, Chile]               [Chile, France]   \n",
       "3                               [Switzerland]  [Switzerland, United States]   \n",
       "4  [China, China, China, China, China, China]                       [China]   \n",
       "\n",
       "   funder_distinct  funded  IntCol  cofund  intfund  \n",
       "0  [United States]       1       1       0        0  \n",
       "1       Not-Funded       0       0       0        0  \n",
       "2          [Chile]       1       1       0        0  \n",
       "3    [Switzerland]       1       1       0        0  \n",
       "4          [China]       1       0       0        0  "
      ]
     },
     "execution_count": 4,
     "metadata": {},
     "output_type": "execute_result"
    }
   ],
   "source": [
    "pubs_df = pd.read_pickle(pubs_path)\n",
    "pubs_df.head()"
   ]
  },
  {
   "cell_type": "code",
   "execution_count": 5,
   "id": "boring-university",
   "metadata": {},
   "outputs": [
    {
     "data": {
      "text/html": [
       "<div>\n",
       "<style scoped>\n",
       "    .dataframe tbody tr th:only-of-type {\n",
       "        vertical-align: middle;\n",
       "    }\n",
       "\n",
       "    .dataframe tbody tr th {\n",
       "        vertical-align: top;\n",
       "    }\n",
       "\n",
       "    .dataframe thead th {\n",
       "        text-align: right;\n",
       "    }\n",
       "</style>\n",
       "<table border=\"1\" class=\"dataframe\">\n",
       "  <thead>\n",
       "    <tr style=\"text-align: right;\">\n",
       "      <th></th>\n",
       "      <th>WoS</th>\n",
       "      <th>Code</th>\n",
       "    </tr>\n",
       "  </thead>\n",
       "  <tbody>\n",
       "    <tr>\n",
       "      <th>0</th>\n",
       "      <td>Albania</td>\n",
       "      <td>ALB</td>\n",
       "    </tr>\n",
       "    <tr>\n",
       "      <th>1</th>\n",
       "      <td>Algeria</td>\n",
       "      <td>DZA</td>\n",
       "    </tr>\n",
       "    <tr>\n",
       "      <th>2</th>\n",
       "      <td>Angola</td>\n",
       "      <td>AGO</td>\n",
       "    </tr>\n",
       "    <tr>\n",
       "      <th>3</th>\n",
       "      <td>Argentina</td>\n",
       "      <td>ARG</td>\n",
       "    </tr>\n",
       "    <tr>\n",
       "      <th>4</th>\n",
       "      <td>Australia</td>\n",
       "      <td>AUS</td>\n",
       "    </tr>\n",
       "  </tbody>\n",
       "</table>\n",
       "</div>"
      ],
      "text/plain": [
       "         WoS Code\n",
       "0    Albania  ALB\n",
       "1    Algeria  DZA\n",
       "2     Angola  AGO\n",
       "3  Argentina  ARG\n",
       "4  Australia  AUS"
      ]
     },
     "execution_count": 5,
     "metadata": {},
     "output_type": "execute_result"
    }
   ],
   "source": [
    "flag_df=pd.read_csv(flag_path, sep='\\t')[['WoS','Code']]\n",
    "flag_df.head()"
   ]
  },
  {
   "cell_type": "code",
   "execution_count": 6,
   "id": "martial-investor",
   "metadata": {},
   "outputs": [
    {
     "data": {
      "text/html": [
       "<div>\n",
       "<style scoped>\n",
       "    .dataframe tbody tr th:only-of-type {\n",
       "        vertical-align: middle;\n",
       "    }\n",
       "\n",
       "    .dataframe tbody tr th {\n",
       "        vertical-align: top;\n",
       "    }\n",
       "\n",
       "    .dataframe thead th {\n",
       "        text-align: right;\n",
       "    }\n",
       "</style>\n",
       "<table border=\"1\" class=\"dataframe\">\n",
       "  <thead>\n",
       "    <tr style=\"text-align: right;\">\n",
       "      <th></th>\n",
       "      <th>cntry</th>\n",
       "      <th>region</th>\n",
       "    </tr>\n",
       "  </thead>\n",
       "  <tbody>\n",
       "    <tr>\n",
       "      <th>0</th>\n",
       "      <td>Algeria</td>\n",
       "      <td>Africa</td>\n",
       "    </tr>\n",
       "    <tr>\n",
       "      <th>1</th>\n",
       "      <td>Angola</td>\n",
       "      <td>Africa</td>\n",
       "    </tr>\n",
       "    <tr>\n",
       "      <th>2</th>\n",
       "      <td>Belgian Congo</td>\n",
       "      <td>Africa</td>\n",
       "    </tr>\n",
       "    <tr>\n",
       "      <th>3</th>\n",
       "      <td>Benin</td>\n",
       "      <td>Africa</td>\n",
       "    </tr>\n",
       "    <tr>\n",
       "      <th>4</th>\n",
       "      <td>Botswana</td>\n",
       "      <td>Africa</td>\n",
       "    </tr>\n",
       "  </tbody>\n",
       "</table>\n",
       "</div>"
      ],
      "text/plain": [
       "           cntry  region\n",
       "0        Algeria  Africa\n",
       "1         Angola  Africa\n",
       "2  Belgian Congo  Africa\n",
       "3          Benin  Africa\n",
       "4       Botswana  Africa"
      ]
     },
     "execution_count": 6,
     "metadata": {},
     "output_type": "execute_result"
    }
   ],
   "source": [
    "region=pd.read_excel(region_path)\n",
    "region=region[['cntry','region2']]\n",
    "region=region.rename(columns={'region2':'region'})\n",
    "region.head()"
   ]
  },
  {
   "cell_type": "markdown",
   "id": "included-exception",
   "metadata": {},
   "source": [
    "calculate the number of funded publication each year"
   ]
  },
  {
   "cell_type": "code",
   "execution_count": 7,
   "id": "injured-worth",
   "metadata": {},
   "outputs": [],
   "source": [
    "def get_fundedann(data,collsig):\n",
    "    data=data[data.IntCol>=collsig]#to decide whethere include no-international collaboration or not\n",
    "    funded_ann=data[data.funded==1]\n",
    "    funded_ann=funded_ann.groupby(['year']).size()\n",
    "    return funded_ann"
   ]
  },
  {
   "cell_type": "markdown",
   "id": "organized-backing",
   "metadata": {},
   "source": [
    "normalize country's to proportion"
   ]
  },
  {
   "cell_type": "code",
   "execution_count": 8,
   "id": "regional-fishing",
   "metadata": {},
   "outputs": [],
   "source": [
    "def get_ratio(data,funded_ann,collsig):\n",
    "    data=data[data.intcol>=collsig]#to decide whethere include no-international collaboration or not\n",
    "    cntry_ratio=data.groupby(['funder','year'])['cnt'].sum().reset_index()\n",
    "    cntry_ratio=cntry_ratio.pivot_table(index='year',columns='funder',values='cnt',fill_value=0)\n",
    "    cntry_ratio=cntry_ratio.div(funded_ann, axis=0)\n",
    "    return cntry_ratio"
   ]
  },
  {
   "cell_type": "code",
   "execution_count": 9,
   "id": "pointed-station",
   "metadata": {},
   "outputs": [],
   "source": [
    "n=10\n",
    "topn=cntry_fund.groupby('funder')[\n",
    "    'cnt'].sum().sort_values(ascending=False).head(n).index.values\n"
   ]
  },
  {
   "cell_type": "markdown",
   "id": "nervous-turtle",
   "metadata": {},
   "source": [
    "get the contribution of top 10 countries"
   ]
  },
  {
   "cell_type": "code",
   "execution_count": 10,
   "id": "strategic-shelter",
   "metadata": {},
   "outputs": [],
   "source": [
    "funded_ann=get_fundedann(pubs_df,0)\n",
    "cntry_ratio=get_ratio(cntry_fund,funded_ann,0)\n",
    "topn_df=cntry_ratio[topn].reset_index()\n",
    "topn_df=topn_df.melt(id_vars='year')  \n",
    "topn_df=topn_df.merge(flag_df,left_on='funder',right_on='WoS',how='left')"
   ]
  },
  {
   "cell_type": "markdown",
   "id": "muslim-consciousness",
   "metadata": {},
   "source": [
    "get the contribution to international collaboration of top 10 countries"
   ]
  },
  {
   "cell_type": "code",
   "execution_count": 11,
   "id": "saved-degree",
   "metadata": {},
   "outputs": [],
   "source": [
    "fundedcoll_ann=get_fundedann(pubs_df,1)\n",
    "cntrycoll_ratio=get_ratio(cntry_fund,fundedcoll_ann,1)\n",
    "topn_coll=cntrycoll_ratio[topn].reset_index()\n",
    "topn_coll=topn_coll.melt(id_vars='year') \n",
    "topn_coll=topn_coll.merge(flag_df,left_on='funder',right_on='WoS',how='left')"
   ]
  },
  {
   "cell_type": "markdown",
   "id": "musical-grant",
   "metadata": {},
   "source": [
    "get the funded publications by regions"
   ]
  },
  {
   "cell_type": "code",
   "execution_count": 13,
   "id": "second-brunei",
   "metadata": {},
   "outputs": [],
   "source": [
    "regfund=cntry_ratio.reset_index()\n",
    "regfund=regfund.melt(id_vars='year')\n",
    "regfund=regfund.merge(region,left_on='funder',right_on='cntry',how='left')\n",
    "regfund=regfund.groupby(['year','region'])['value'].sum().reset_index(name='count')\n",
    "regfund=regfund.pivot_table(index='year',columns='region',values='count')\n"
   ]
  },
  {
   "cell_type": "code",
   "execution_count": 18,
   "id": "34ca7c91-b40f-4b09-9fe8-65fbda837a06",
   "metadata": {},
   "outputs": [
    {
     "data": {
      "text/plain": [
       "year\n",
       "2009    0.412695\n",
       "2010    0.409485\n",
       "2011    0.412156\n",
       "2012    0.420895\n",
       "2013    0.430890\n",
       "2014    0.443855\n",
       "2015    0.449653\n",
       "2016    0.458888\n",
       "2017    0.469645\n",
       "2018    0.487844\n",
       "dtype: float64"
      ]
     },
     "execution_count": 18,
     "metadata": {},
     "output_type": "execute_result"
    }
   ],
   "source": [
    "cntry_ratio[['United States', 'China']].sum(axis=1)"
   ]
  },
  {
   "cell_type": "code",
   "execution_count": 20,
   "id": "phantom-bunny",
   "metadata": {},
   "outputs": [],
   "source": [
    "clist=['#A6341B','#F2506E']+['#D0D2F2']*8\n",
    "def plot(data,ax,texty,text):\n",
    "    sns.lineplot(x='year',y='value',hue='funder',data=data,legend=False,\n",
    "                 ax=ax,hue_order=topn,palette=clist,marker='o',linewidth=1,markersize=5)\n",
    "    ax.spines['right'].set_visible(False)\n",
    "    ax.spines['top'].set_visible(False)\n",
    "    for ind, code in enumerate(text):\n",
    "        ax.text(2018,texty[ind],code)\n",
    "    return ax"
   ]
  },
  {
   "cell_type": "code",
   "execution_count": 25,
   "id": "annual-sunday",
   "metadata": {},
   "outputs": [
    {
     "data": {
      "text/html": [
       "<div>\n",
       "<style scoped>\n",
       "    .dataframe tbody tr th:only-of-type {\n",
       "        vertical-align: middle;\n",
       "    }\n",
       "\n",
       "    .dataframe tbody tr th {\n",
       "        vertical-align: top;\n",
       "    }\n",
       "\n",
       "    .dataframe thead th {\n",
       "        text-align: right;\n",
       "    }\n",
       "</style>\n",
       "<table border=\"1\" class=\"dataframe\">\n",
       "  <thead>\n",
       "    <tr style=\"text-align: right;\">\n",
       "      <th>region</th>\n",
       "      <th>Africa</th>\n",
       "      <th>Asia</th>\n",
       "      <th>EU</th>\n",
       "      <th>North America</th>\n",
       "      <th>Oceania</th>\n",
       "      <th>Other Europe</th>\n",
       "      <th>South America</th>\n",
       "    </tr>\n",
       "    <tr>\n",
       "      <th>year</th>\n",
       "      <th></th>\n",
       "      <th></th>\n",
       "      <th></th>\n",
       "      <th></th>\n",
       "      <th></th>\n",
       "      <th></th>\n",
       "      <th></th>\n",
       "    </tr>\n",
       "  </thead>\n",
       "  <tbody>\n",
       "    <tr>\n",
       "      <th>2017</th>\n",
       "      <td>0.007262</td>\n",
       "      <td>0.445982</td>\n",
       "      <td>0.226820</td>\n",
       "      <td>0.21544</td>\n",
       "      <td>0.022313</td>\n",
       "      <td>0.044960</td>\n",
       "      <td>0.037223</td>\n",
       "    </tr>\n",
       "    <tr>\n",
       "      <th>2018</th>\n",
       "      <td>0.007074</td>\n",
       "      <td>0.469224</td>\n",
       "      <td>0.215609</td>\n",
       "      <td>0.20524</td>\n",
       "      <td>0.021620</td>\n",
       "      <td>0.043477</td>\n",
       "      <td>0.037755</td>\n",
       "    </tr>\n",
       "  </tbody>\n",
       "</table>\n",
       "</div>"
      ],
      "text/plain": [
       "region    Africa      Asia        EU  North America   Oceania  Other Europe  \\\n",
       "year                                                                          \n",
       "2017    0.007262  0.445982  0.226820        0.21544  0.022313      0.044960   \n",
       "2018    0.007074  0.469224  0.215609        0.20524  0.021620      0.043477   \n",
       "\n",
       "region  South America  \n",
       "year                   \n",
       "2017         0.037223  \n",
       "2018         0.037755  "
      ]
     },
     "execution_count": 25,
     "metadata": {},
     "output_type": "execute_result"
    }
   ],
   "source": [
    "regfund.tail(2)"
   ]
  },
  {
   "cell_type": "code",
   "execution_count": 32,
   "id": "hungarian-morning",
   "metadata": {},
   "outputs": [
    {
     "data": {
      "image/png": "[encoded data removed]",
      "text/plain": [
       "<Figure size 1584x288 with 3 Axes>"
      ]
     },
     "metadata": {
      "needs_background": "light"
     },
     "output_type": "display_data"
    }
   ],
   "source": [
    "#{'#F2CB05':yellow,'#88C9F2':blue,'#C5C9C7':gray,'#F74F5A'}\n",
    "years=[2009,2010,2011,2012,2013,2014,2015,2016,2017,2018]\n",
    "\n",
    "fig, ax=plt.subplots(nrows=1,ncols=3,figsize=(22,4))\n",
    "ax0=ax[0]\n",
    "ax1=ax[1]\n",
    "ax2=ax[2]\n",
    "\n",
    "\n",
    "texty=[0.31,0.17,0.15,0.13,0.11,0.09,0.07,0.05,0.03,0.01]\n",
    "text=topn_df[topn_df.year==2018].sort_values(by='value',ascending=False)['Code'].values\n",
    "plot(topn_df,ax0, texty, text)\n",
    "ax0.set_xlabel(\"\")\n",
    "ax0.set_ylabel(\"Proportion of funded publications\",fontsize=13)\n",
    "ax0.tick_params(axis='both', which='major', labelsize=12)\n",
    "\n",
    "\n",
    "texty=[0.22,0.16,0.115,0.1,0.085,0.07,0.055,0.04,0.025,0.01]\n",
    "text=topn_coll[topn_coll.year==2018].sort_values(by='value',ascending=False)['Code'].values\n",
    "plot(topn_coll,ax1,texty,text)\n",
    "ax1.set_xlabel(\"\")\n",
    "ax1.set_ylabel(\"Proportion of funded\\ninternational collaboration\",fontsize=13,labelpad=0)\n",
    "ax1.tick_params(axis='both', which='major', labelsize=12)\n",
    "\n",
    "asia = regfund.loc[years,'Asia'].values\n",
    "north = regfund.loc[years,'North America'].values\n",
    "eu = regfund.loc[years,'EU'].values\n",
    "othereu = regfund.loc[years,'Other Europe'].values\n",
    "south = regfund.loc[years,'South America'].values\n",
    "ocean = regfund.loc[years,'Oceania'].values\n",
    "africa = regfund.loc[years,'Africa'].values\n",
    "\n",
    "ax2.barh(years, asia,label='Asia',color='#A6341B')\n",
    "ax2.barh(years,north,label='North America',left = asia,color='#F2506E')\n",
    "ax2.barh(years,eu,label='EU-members',left=asia+north,color='#F2CE16')\n",
    "ax2.barh(years,othereu,label='Other Europe',left=asia+north+eu,color='#94BDF2')\n",
    "ax2.barh(years,south,label='South America',left=asia+north+eu+othereu,color='#BEFF00')\n",
    "ax2.barh(years,ocean,label='Oceania',left=asia+north+eu+othereu+south,color='#F3B19A')\n",
    "ax2.barh(years,africa,label='Africa',left=asia+north+eu+othereu+south+ocean,color='#79BA82')\n",
    "ax2.spines['right'].set_visible(False)\n",
    "ax2.spines['top'].set_visible(False)\n",
    "ax2.tick_params(axis='both', which='major', labelsize=12)\n",
    "legend=[Patch(label='Asia',color='#A6341B'),\n",
    "        Patch(label='Other Europe',color='#94BDF2'),\n",
    "        Patch(label='Africa',color='#79BA82'),\n",
    "        Patch(label='North America',color='#F2506E'),\n",
    "        Patch(label='South America',color='#BEFF00'),\n",
    "        Patch(label='EU-Members',color='#F2CE16'),\n",
    "        Patch(label='Oceania',color='#F3B19A')]\n",
    "       \n",
    "ax2.set_xlabel(\"Proportion of Publications\",fontsize=13)\n",
    "ax2.legend(handles=legend,ncol=3,loc=(0,-0.40),frameon=False)\n",
    "\n",
    "plt.tick_params(axis='both', which='major', labelsize=12)\n",
    "plt.savefig(cntry_funding_path,bbox_inches='tight')"
   ]
  },
  {
   "cell_type": "code",
   "execution_count": null,
   "id": "revolutionary-module",
   "metadata": {},
   "outputs": [],
   "source": []
  }
 ],
 "metadata": {
  "kernelspec": {
   "display_name": "Python 3 (ipykernel)",
   "language": "python",
   "name": "python3"
  },
  "language_info": {
   "codemirror_mode": {
    "name": "ipython",
    "version": 3
   },
   "file_extension": ".py",
   "mimetype": "text/x-python",
   "name": "python",
   "nbconvert_exporter": "python",
   "pygments_lexer": "ipython3",
   "version": "3.8.16"
  }
 },
 "nbformat": 4,
 "nbformat_minor": 5
}
