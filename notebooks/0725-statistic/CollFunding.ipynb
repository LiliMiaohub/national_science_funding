{
 "cells": [
  {
   "cell_type": "markdown",
   "id": "cb227a6e-e5b8-4329-a0ff-97296a3d4e44",
   "metadata": {},
   "source": [
    "this script investigates the relationship between collaboration and amount of funding received by country-discpline pair"
   ]
  },
  {
   "cell_type": "code",
   "execution_count": 76,
   "id": "4aed5e31-4eba-4cfd-a83b-73c4fe29d081",
   "metadata": {},
   "outputs": [],
   "source": [
    "import pandas as pd\n",
    "import seaborn as sns\n",
    "from itertools import permutations\n",
    "import numpy as np"
   ]
  },
  {
   "cell_type": "code",
   "execution_count": 4,
   "id": "2bcd4d20-7ca3-4a7e-9ea2-5d7e14fe26bf",
   "metadata": {},
   "outputs": [],
   "source": [
    "pubs_path=\"../../data/NationalFunding/Data/DerivedData/CleanedRawData/pub.pkl\""
   ]
  },
  {
   "cell_type": "code",
   "execution_count": 6,
   "id": "ec443699-c61d-4bd5-b1f9-962f7c942f53",
   "metadata": {},
   "outputs": [],
   "source": [
    "pub_df = pd.read_pickle(pubs_path)"
   ]
  },
  {
   "cell_type": "code",
   "execution_count": 7,
   "id": "48641a52-a6d9-472b-aaec-7db2fcb29a11",
   "metadata": {},
   "outputs": [
    {
     "data": {
      "text/html": [
       "<div>\n",
       "<style scoped>\n",
       "    .dataframe tbody tr th:only-of-type {\n",
       "        vertical-align: middle;\n",
       "    }\n",
       "\n",
       "    .dataframe tbody tr th {\n",
       "        vertical-align: top;\n",
       "    }\n",
       "\n",
       "    .dataframe thead th {\n",
       "        text-align: right;\n",
       "    }\n",
       "</style>\n",
       "<table border=\"1\" class=\"dataframe\">\n",
       "  <thead>\n",
       "    <tr style=\"text-align: right;\">\n",
       "      <th></th>\n",
       "      <th>id</th>\n",
       "      <th>year</th>\n",
       "      <th>dis</th>\n",
       "      <th>type</th>\n",
       "      <th>author</th>\n",
       "      <th>funder</th>\n",
       "      <th>author_distinct</th>\n",
       "      <th>funder_distinct</th>\n",
       "      <th>funded</th>\n",
       "      <th>IntCol</th>\n",
       "      <th>cofund</th>\n",
       "      <th>intfund</th>\n",
       "    </tr>\n",
       "  </thead>\n",
       "  <tbody>\n",
       "    <tr>\n",
       "      <th>0</th>\n",
       "      <td>60694041</td>\n",
       "      <td>2017</td>\n",
       "      <td>9</td>\n",
       "      <td>1</td>\n",
       "      <td>[Canada, United States]</td>\n",
       "      <td>[United States, United States]</td>\n",
       "      <td>[Canada, United States]</td>\n",
       "      <td>[United States]</td>\n",
       "      <td>1</td>\n",
       "      <td>1</td>\n",
       "      <td>0</td>\n",
       "      <td>0</td>\n",
       "    </tr>\n",
       "    <tr>\n",
       "      <th>1</th>\n",
       "      <td>48573156</td>\n",
       "      <td>2012</td>\n",
       "      <td>89</td>\n",
       "      <td>1</td>\n",
       "      <td>[France]</td>\n",
       "      <td>Not-Funded</td>\n",
       "      <td>[France]</td>\n",
       "      <td>Not-Funded</td>\n",
       "      <td>0</td>\n",
       "      <td>0</td>\n",
       "      <td>0</td>\n",
       "      <td>0</td>\n",
       "    </tr>\n",
       "    <tr>\n",
       "      <th>2</th>\n",
       "      <td>55323671</td>\n",
       "      <td>2015</td>\n",
       "      <td>89</td>\n",
       "      <td>1</td>\n",
       "      <td>[France, Chile]</td>\n",
       "      <td>[Chile, Chile, Chile, Chile, Chile]</td>\n",
       "      <td>[France, Chile]</td>\n",
       "      <td>[Chile]</td>\n",
       "      <td>1</td>\n",
       "      <td>1</td>\n",
       "      <td>0</td>\n",
       "      <td>0</td>\n",
       "    </tr>\n",
       "    <tr>\n",
       "      <th>3</th>\n",
       "      <td>57633115</td>\n",
       "      <td>2016</td>\n",
       "      <td>31</td>\n",
       "      <td>1</td>\n",
       "      <td>[Switzerland, United States]</td>\n",
       "      <td>[Switzerland]</td>\n",
       "      <td>[Switzerland, United States]</td>\n",
       "      <td>[Switzerland]</td>\n",
       "      <td>1</td>\n",
       "      <td>1</td>\n",
       "      <td>0</td>\n",
       "      <td>0</td>\n",
       "    </tr>\n",
       "    <tr>\n",
       "      <th>4</th>\n",
       "      <td>64831413</td>\n",
       "      <td>2018</td>\n",
       "      <td>99</td>\n",
       "      <td>1</td>\n",
       "      <td>[China]</td>\n",
       "      <td>[China, China, China, China, China, China]</td>\n",
       "      <td>[China]</td>\n",
       "      <td>[China]</td>\n",
       "      <td>1</td>\n",
       "      <td>0</td>\n",
       "      <td>0</td>\n",
       "      <td>0</td>\n",
       "    </tr>\n",
       "  </tbody>\n",
       "</table>\n",
       "</div>"
      ],
      "text/plain": [
       "         id  year  dis  type                        author   \n",
       "0  60694041  2017    9     1       [Canada, United States]  \\\n",
       "1  48573156  2012   89     1                      [France]   \n",
       "2  55323671  2015   89     1               [France, Chile]   \n",
       "3  57633115  2016   31     1  [Switzerland, United States]   \n",
       "4  64831413  2018   99     1                       [China]   \n",
       "\n",
       "                                       funder               author_distinct   \n",
       "0              [United States, United States]       [Canada, United States]  \\\n",
       "1                                  Not-Funded                      [France]   \n",
       "2         [Chile, Chile, Chile, Chile, Chile]               [France, Chile]   \n",
       "3                               [Switzerland]  [Switzerland, United States]   \n",
       "4  [China, China, China, China, China, China]                       [China]   \n",
       "\n",
       "   funder_distinct  funded  IntCol  cofund  intfund  \n",
       "0  [United States]       1       1       0        0  \n",
       "1       Not-Funded       0       0       0        0  \n",
       "2          [Chile]       1       1       0        0  \n",
       "3    [Switzerland]       1       1       0        0  \n",
       "4          [China]       1       0       0        0  "
      ]
     },
     "execution_count": 7,
     "metadata": {},
     "output_type": "execute_result"
    }
   ],
   "source": [
    "pub_df.head()"
   ]
  },
  {
   "cell_type": "raw",
   "id": "2a1d2fac-5d71-4202-9b20-6fcd89d69cf9",
   "metadata": {},
   "source": [
    "calculate the number of colloborations for each country pair"
   ]
  },
  {
   "cell_type": "code",
   "execution_count": 44,
   "id": "3a5117b6-09a3-4ac8-929c-f6f111f56104",
   "metadata": {},
   "outputs": [],
   "source": [
    "all_coll = []\n",
    "for item in pub_df[['dis','author_distinct']].values:\n",
    "    dis = item[0]\n",
    "    cntrys = item[1]\n",
    "    if len(cntrys)>1:\n",
    "        cntry_pairs = list(permutations(cntrys,2))\n",
    "        cntry_pairs_dis = [(*pair, dis) for pair in cntry_pairs]\n",
    "        all_coll.extend(cntry_pairs_dis)"
   ]
  },
  {
   "cell_type": "code",
   "execution_count": 52,
   "id": "2502c624-24c5-41d7-92cd-9daa57b02d34",
   "metadata": {},
   "outputs": [],
   "source": [
    "coll_df = pd.DataFrame(all_coll,columns=['cntrya','cntryb','dis'])\n",
    "coll_df = coll_df.groupby(['cntrya','cntryb','dis']).size().reset_index()\n",
    "coll_df = coll_df.rename(columns={0:'count'})"
   ]
  },
  {
   "cell_type": "markdown",
   "id": "f1f536b8-9df8-4961-924c-70b8010d8f71",
   "metadata": {},
   "source": [
    "calculate the number of funding grants each country-discipline received from the source country"
   ]
  },
  {
   "cell_type": "code",
   "execution_count": 66,
   "id": "fd6469c8-dee7-47f9-9a46-172fc1b046dd",
   "metadata": {},
   "outputs": [],
   "source": [
    "author_df = pub_df[pub_df.funder!='Not-Funded'][['author_distinct','funder','dis']].explode('author_distinct')\n",
    "fund_df = author_df.explode('funder').groupby(\n",
    "    ['author_distinct','funder','dis']).size().reset_index()\n",
    "fund_df = fund_df.rename(columns={'author_distinct':'author_cntry',0:'fundcnt'})"
   ]
  },
  {
   "cell_type": "code",
   "execution_count": 67,
   "id": "eaceba4e-c44b-48fc-ae81-03a86ee25e9b",
   "metadata": {},
   "outputs": [
    {
     "data": {
      "text/html": [
       "<div>\n",
       "<style scoped>\n",
       "    .dataframe tbody tr th:only-of-type {\n",
       "        vertical-align: middle;\n",
       "    }\n",
       "\n",
       "    .dataframe tbody tr th {\n",
       "        vertical-align: top;\n",
       "    }\n",
       "\n",
       "    .dataframe thead th {\n",
       "        text-align: right;\n",
       "    }\n",
       "</style>\n",
       "<table border=\"1\" class=\"dataframe\">\n",
       "  <thead>\n",
       "    <tr style=\"text-align: right;\">\n",
       "      <th></th>\n",
       "      <th>cntrya</th>\n",
       "      <th>cntryb</th>\n",
       "      <th>dis</th>\n",
       "      <th>count</th>\n",
       "    </tr>\n",
       "  </thead>\n",
       "  <tbody>\n",
       "    <tr>\n",
       "      <th>0</th>\n",
       "      <td>Afghanistan</td>\n",
       "      <td>Algeria</td>\n",
       "      <td>41</td>\n",
       "      <td>1</td>\n",
       "    </tr>\n",
       "    <tr>\n",
       "      <th>1</th>\n",
       "      <td>Afghanistan</td>\n",
       "      <td>Algeria</td>\n",
       "      <td>44</td>\n",
       "      <td>2</td>\n",
       "    </tr>\n",
       "  </tbody>\n",
       "</table>\n",
       "</div>"
      ],
      "text/plain": [
       "        cntrya   cntryb  dis  count\n",
       "0  Afghanistan  Algeria   41      1\n",
       "1  Afghanistan  Algeria   44      2"
      ]
     },
     "execution_count": 67,
     "metadata": {},
     "output_type": "execute_result"
    }
   ],
   "source": [
    "coll_df.head(2)"
   ]
  },
  {
   "cell_type": "code",
   "execution_count": 69,
   "id": "322d118e-adac-4e4d-bb52-1c94214f1370",
   "metadata": {},
   "outputs": [],
   "source": [
    "fund_df=fund_df[fund_df.author_cntry!=fund_df.funder]"
   ]
  },
  {
   "cell_type": "code",
   "execution_count": 73,
   "id": "e657cba5-1d28-4c67-ac15-6939278b533f",
   "metadata": {},
   "outputs": [
    {
     "data": {
      "text/html": [
       "<div>\n",
       "<style scoped>\n",
       "    .dataframe tbody tr th:only-of-type {\n",
       "        vertical-align: middle;\n",
       "    }\n",
       "\n",
       "    .dataframe tbody tr th {\n",
       "        vertical-align: top;\n",
       "    }\n",
       "\n",
       "    .dataframe thead th {\n",
       "        text-align: right;\n",
       "    }\n",
       "</style>\n",
       "<table border=\"1\" class=\"dataframe\">\n",
       "  <thead>\n",
       "    <tr style=\"text-align: right;\">\n",
       "      <th></th>\n",
       "      <th>author_cntry</th>\n",
       "      <th>funder</th>\n",
       "      <th>dis</th>\n",
       "      <th>fundcnt</th>\n",
       "    </tr>\n",
       "  </thead>\n",
       "  <tbody>\n",
       "    <tr>\n",
       "      <th>1</th>\n",
       "      <td>Afghanistan</td>\n",
       "      <td>Australia</td>\n",
       "      <td>1</td>\n",
       "      <td>2</td>\n",
       "    </tr>\n",
       "    <tr>\n",
       "      <th>2</th>\n",
       "      <td>Afghanistan</td>\n",
       "      <td>Australia</td>\n",
       "      <td>44</td>\n",
       "      <td>13</td>\n",
       "    </tr>\n",
       "  </tbody>\n",
       "</table>\n",
       "</div>"
      ],
      "text/plain": [
       "  author_cntry     funder  dis  fundcnt\n",
       "1  Afghanistan  Australia    1        2\n",
       "2  Afghanistan  Australia   44       13"
      ]
     },
     "execution_count": 73,
     "metadata": {},
     "output_type": "execute_result"
    }
   ],
   "source": [
    "fund_df.head(2)"
   ]
  },
  {
   "cell_type": "code",
   "execution_count": 80,
   "id": "e5395995-6501-4c1b-ae85-bdd75f01d07b",
   "metadata": {},
   "outputs": [],
   "source": [
    "meta = coll_df.merge(fund_df,left_on=['cntrya','cntryb','dis'],right_on=['author_cntry','funder','dis'],how='outer')"
   ]
  },
  {
   "cell_type": "code",
   "execution_count": 85,
   "id": "d73469cf-a0df-4d7d-bf60-91f43fdcb2a8",
   "metadata": {},
   "outputs": [
    {
     "data": {
      "text/plain": [
       "array([2., 3., 4., ..., 1., 1., 1.])"
      ]
     },
     "execution_count": 85,
     "metadata": {},
     "output_type": "execute_result"
    }
   ],
   "source": [
    "(meta['count'].fillna(0)+1).values"
   ]
  },
  {
   "cell_type": "code",
   "execution_count": 86,
   "id": "ef64d0d4-000b-4001-bae6-22bb2998988e",
   "metadata": {},
   "outputs": [
    {
     "data": {
      "text/plain": [
       "array([[1.        , 0.78508678],\n",
       "       [0.78508678, 1.        ]])"
      ]
     },
     "execution_count": 86,
     "metadata": {},
     "output_type": "execute_result"
    }
   ],
   "source": [
    "x=np.log((meta['count'].fillna(0)+1).values)\n",
    "y=np.log((meta['fundcnt'].fillna(0)+1).values)\n",
    "np.corrcoef(x,y)"
   ]
  },
  {
   "cell_type": "code",
   "execution_count": null,
   "id": "af1dbf3c-e99d-4000-93c9-90234fd24126",
   "metadata": {},
   "outputs": [],
   "source": []
  }
 ],
 "metadata": {
  "kernelspec": {
   "display_name": "Python 3 (ipykernel)",
   "language": "python",
   "name": "python3"
  },
  "language_info": {
   "codemirror_mode": {
    "name": "ipython",
    "version": 3
   },
   "file_extension": ".py",
   "mimetype": "text/x-python",
   "name": "python",
   "nbconvert_exporter": "python",
   "pygments_lexer": "ipython3",
   "version": "3.8.16"
  }
 },
 "nbformat": 4,
 "nbformat_minor": 5
}
