{
 "cells": [
  {
   "cell_type": "code",
   "execution_count": 1,
   "id": "surprising-companion",
   "metadata": {},
   "outputs": [],
   "source": [
    "import pandas as pd\n",
    "from ast import literal_eval\n",
    "import matplotlib.pyplot as plt\n",
    "import numpy as np\n",
    "import seaborn as sns\n",
    "from scipy.spatial import distance"
   ]
  },
  {
   "cell_type": "code",
   "execution_count": 2,
   "id": "raised-phase",
   "metadata": {},
   "outputs": [
    {
     "name": "stderr",
     "output_type": "stream",
     "text": [
      "/home/miaoli/conda/envs/funding/lib/python3.8/site-packages/IPython/core/interactiveshell.py:3165: DtypeWarning: Columns (2) have mixed types.Specify dtype option on import or set low_memory=False.\n",
      "  has_raised = await self.run_ast_nodes(code_ast.body, cell_name,\n"
     ]
    },
    {
     "data": {
      "text/html": [
       "<div>\n",
       "<style scoped>\n",
       "    .dataframe tbody tr th:only-of-type {\n",
       "        vertical-align: middle;\n",
       "    }\n",
       "\n",
       "    .dataframe tbody tr th {\n",
       "        vertical-align: top;\n",
       "    }\n",
       "\n",
       "    .dataframe thead th {\n",
       "        text-align: right;\n",
       "    }\n",
       "</style>\n",
       "<table border=\"1\" class=\"dataframe\">\n",
       "  <thead>\n",
       "    <tr style=\"text-align: right;\">\n",
       "      <th></th>\n",
       "      <th>id</th>\n",
       "      <th>author_country</th>\n",
       "      <th>funder_country</th>\n",
       "      <th>discipline</th>\n",
       "      <th>year</th>\n",
       "      <th>rel_citation</th>\n",
       "      <th>citation</th>\n",
       "    </tr>\n",
       "  </thead>\n",
       "  <tbody>\n",
       "    <tr>\n",
       "      <th>0</th>\n",
       "      <td>30507292</td>\n",
       "      <td>[Turkey]</td>\n",
       "      <td>[Turkey]</td>\n",
       "      <td>77</td>\n",
       "      <td>2009</td>\n",
       "      <td>0.485</td>\n",
       "      <td>6</td>\n",
       "    </tr>\n",
       "    <tr>\n",
       "      <th>1</th>\n",
       "      <td>30574690</td>\n",
       "      <td>[United States, France]</td>\n",
       "      <td>[United States, United States, United States, ...</td>\n",
       "      <td>83</td>\n",
       "      <td>2009</td>\n",
       "      <td>0.703</td>\n",
       "      <td>9</td>\n",
       "    </tr>\n",
       "    <tr>\n",
       "      <th>2</th>\n",
       "      <td>30574691</td>\n",
       "      <td>[Russia]</td>\n",
       "      <td>[Russia]</td>\n",
       "      <td>83</td>\n",
       "      <td>2009</td>\n",
       "      <td>0.312</td>\n",
       "      <td>4</td>\n",
       "    </tr>\n",
       "    <tr>\n",
       "      <th>3</th>\n",
       "      <td>30585095</td>\n",
       "      <td>[Spain, Spain]</td>\n",
       "      <td>[Spain, Spain, Spain, Spain, Spain, Spain]</td>\n",
       "      <td>89</td>\n",
       "      <td>2009</td>\n",
       "      <td>0.137</td>\n",
       "      <td>1</td>\n",
       "    </tr>\n",
       "    <tr>\n",
       "      <th>4</th>\n",
       "      <td>30585097</td>\n",
       "      <td>[Germany, Spain]</td>\n",
       "      <td>[Spain]</td>\n",
       "      <td>89</td>\n",
       "      <td>2009</td>\n",
       "      <td>0.410</td>\n",
       "      <td>3</td>\n",
       "    </tr>\n",
       "  </tbody>\n",
       "</table>\n",
       "</div>"
      ],
      "text/plain": [
       "         id           author_country  \\\n",
       "0  30507292                 [Turkey]   \n",
       "1  30574690  [United States, France]   \n",
       "2  30574691                 [Russia]   \n",
       "3  30585095           [Spain, Spain]   \n",
       "4  30585097         [Germany, Spain]   \n",
       "\n",
       "                                      funder_country  discipline  year  \\\n",
       "0                                           [Turkey]          77  2009   \n",
       "1  [United States, United States, United States, ...          83  2009   \n",
       "2                                           [Russia]          83  2009   \n",
       "3         [Spain, Spain, Spain, Spain, Spain, Spain]          89  2009   \n",
       "4                                            [Spain]          89  2009   \n",
       "\n",
       "   rel_citation  citation  \n",
       "0         0.485         6  \n",
       "1         0.703         9  \n",
       "2         0.312         4  \n",
       "3         0.137         1  \n",
       "4         0.410         3  "
      ]
     },
     "execution_count": 2,
     "metadata": {},
     "output_type": "execute_result"
    }
   ],
   "source": [
    "pubs_author_funder = pd.read_csv(\"../../data/nf_folder/Data/DerivedData/CleanedRawData/pubs_author_funder.csv\")\n",
    "pubs_author_funder['author_country'] = pubs_author_funder['author_country'].apply(literal_eval)\n",
    "pubs_author_funder['funder_country'] = pubs_author_funder['funder_country'].apply(\n",
    "    lambda x:literal_eval(x) if pd.notnull(x) else \"Not-Funded\")\n",
    "#pubs_author_funder['funding_units'] = pubs_author_funder['funder_country'].apply(lambda x: len(x))\n",
    "pubs_author_funder.head()"
   ]
  },
  {
   "cell_type": "code",
   "execution_count": 3,
   "id": "liberal-settle",
   "metadata": {},
   "outputs": [],
   "source": [
    "pubs_author_funder['author_distinct']=pubs_author_funder['author_country'].apply(lambda x:list(set(x)))\n",
    "pubs_author_funder['funder_distinct']=pubs_author_funder['funder_country'].apply(\n",
    "    lambda x:list(set(x)) if x!='Not-Funded' else 'Not-Funded')\n"
   ]
  },
  {
   "cell_type": "code",
   "execution_count": 4,
   "id": "integrated-architecture",
   "metadata": {},
   "outputs": [
    {
     "data": {
      "text/html": [
       "<div>\n",
       "<style scoped>\n",
       "    .dataframe tbody tr th:only-of-type {\n",
       "        vertical-align: middle;\n",
       "    }\n",
       "\n",
       "    .dataframe tbody tr th {\n",
       "        vertical-align: top;\n",
       "    }\n",
       "\n",
       "    .dataframe thead th {\n",
       "        text-align: right;\n",
       "    }\n",
       "</style>\n",
       "<table border=\"1\" class=\"dataframe\">\n",
       "  <thead>\n",
       "    <tr style=\"text-align: right;\">\n",
       "      <th></th>\n",
       "      <th>id</th>\n",
       "      <th>author_country</th>\n",
       "      <th>funder_country</th>\n",
       "      <th>discipline</th>\n",
       "      <th>year</th>\n",
       "      <th>rel_citation</th>\n",
       "      <th>citation</th>\n",
       "      <th>author_distinct</th>\n",
       "      <th>funder_distinct</th>\n",
       "    </tr>\n",
       "  </thead>\n",
       "  <tbody>\n",
       "    <tr>\n",
       "      <th>0</th>\n",
       "      <td>30507292</td>\n",
       "      <td>[Turkey]</td>\n",
       "      <td>[Turkey]</td>\n",
       "      <td>77</td>\n",
       "      <td>2009</td>\n",
       "      <td>0.485</td>\n",
       "      <td>6</td>\n",
       "      <td>[Turkey]</td>\n",
       "      <td>[Turkey]</td>\n",
       "    </tr>\n",
       "    <tr>\n",
       "      <th>1</th>\n",
       "      <td>30574690</td>\n",
       "      <td>[United States, France]</td>\n",
       "      <td>[United States, United States, United States, ...</td>\n",
       "      <td>83</td>\n",
       "      <td>2009</td>\n",
       "      <td>0.703</td>\n",
       "      <td>9</td>\n",
       "      <td>[France, United States]</td>\n",
       "      <td>[United States]</td>\n",
       "    </tr>\n",
       "    <tr>\n",
       "      <th>2</th>\n",
       "      <td>30574691</td>\n",
       "      <td>[Russia]</td>\n",
       "      <td>[Russia]</td>\n",
       "      <td>83</td>\n",
       "      <td>2009</td>\n",
       "      <td>0.312</td>\n",
       "      <td>4</td>\n",
       "      <td>[Russia]</td>\n",
       "      <td>[Russia]</td>\n",
       "    </tr>\n",
       "    <tr>\n",
       "      <th>3</th>\n",
       "      <td>30585095</td>\n",
       "      <td>[Spain, Spain]</td>\n",
       "      <td>[Spain, Spain, Spain, Spain, Spain, Spain]</td>\n",
       "      <td>89</td>\n",
       "      <td>2009</td>\n",
       "      <td>0.137</td>\n",
       "      <td>1</td>\n",
       "      <td>[Spain]</td>\n",
       "      <td>[Spain]</td>\n",
       "    </tr>\n",
       "    <tr>\n",
       "      <th>4</th>\n",
       "      <td>30585097</td>\n",
       "      <td>[Germany, Spain]</td>\n",
       "      <td>[Spain]</td>\n",
       "      <td>89</td>\n",
       "      <td>2009</td>\n",
       "      <td>0.410</td>\n",
       "      <td>3</td>\n",
       "      <td>[Spain, Germany]</td>\n",
       "      <td>[Spain]</td>\n",
       "    </tr>\n",
       "  </tbody>\n",
       "</table>\n",
       "</div>"
      ],
      "text/plain": [
       "         id           author_country  \\\n",
       "0  30507292                 [Turkey]   \n",
       "1  30574690  [United States, France]   \n",
       "2  30574691                 [Russia]   \n",
       "3  30585095           [Spain, Spain]   \n",
       "4  30585097         [Germany, Spain]   \n",
       "\n",
       "                                      funder_country  discipline  year  \\\n",
       "0                                           [Turkey]          77  2009   \n",
       "1  [United States, United States, United States, ...          83  2009   \n",
       "2                                           [Russia]          83  2009   \n",
       "3         [Spain, Spain, Spain, Spain, Spain, Spain]          89  2009   \n",
       "4                                            [Spain]          89  2009   \n",
       "\n",
       "   rel_citation  citation          author_distinct  funder_distinct  \n",
       "0         0.485         6                 [Turkey]         [Turkey]  \n",
       "1         0.703         9  [France, United States]  [United States]  \n",
       "2         0.312         4                 [Russia]         [Russia]  \n",
       "3         0.137         1                  [Spain]          [Spain]  \n",
       "4         0.410         3         [Spain, Germany]          [Spain]  "
      ]
     },
     "execution_count": 4,
     "metadata": {},
     "output_type": "execute_result"
    }
   ],
   "source": [
    "pubs_author_funder.head()"
   ]
  },
  {
   "cell_type": "code",
   "execution_count": 5,
   "id": "south-password",
   "metadata": {},
   "outputs": [],
   "source": [
    "pubs_author_funder['IntCol']=pubs_author_funder['author_distinct'].apply(\n",
    "    lambda x: 'col' if len(x)>1 else 'notcol')"
   ]
  },
  {
   "cell_type": "code",
   "execution_count": 6,
   "id": "chemical-artwork",
   "metadata": {},
   "outputs": [
    {
     "data": {
      "text/html": [
       "<div>\n",
       "<style scoped>\n",
       "    .dataframe tbody tr th:only-of-type {\n",
       "        vertical-align: middle;\n",
       "    }\n",
       "\n",
       "    .dataframe tbody tr th {\n",
       "        vertical-align: top;\n",
       "    }\n",
       "\n",
       "    .dataframe thead th {\n",
       "        text-align: right;\n",
       "    }\n",
       "</style>\n",
       "<table border=\"1\" class=\"dataframe\">\n",
       "  <thead>\n",
       "    <tr style=\"text-align: right;\">\n",
       "      <th></th>\n",
       "      <th>author_distinct</th>\n",
       "      <th>funder_distinct</th>\n",
       "      <th>year</th>\n",
       "      <th>IntCol</th>\n",
       "    </tr>\n",
       "  </thead>\n",
       "  <tbody>\n",
       "    <tr>\n",
       "      <th>0</th>\n",
       "      <td>Turkey</td>\n",
       "      <td>[Turkey]</td>\n",
       "      <td>2009</td>\n",
       "      <td>notcol</td>\n",
       "    </tr>\n",
       "    <tr>\n",
       "      <th>1</th>\n",
       "      <td>France</td>\n",
       "      <td>[United States]</td>\n",
       "      <td>2009</td>\n",
       "      <td>col</td>\n",
       "    </tr>\n",
       "    <tr>\n",
       "      <th>1</th>\n",
       "      <td>United States</td>\n",
       "      <td>[United States]</td>\n",
       "      <td>2009</td>\n",
       "      <td>col</td>\n",
       "    </tr>\n",
       "    <tr>\n",
       "      <th>2</th>\n",
       "      <td>Russia</td>\n",
       "      <td>[Russia]</td>\n",
       "      <td>2009</td>\n",
       "      <td>notcol</td>\n",
       "    </tr>\n",
       "    <tr>\n",
       "      <th>3</th>\n",
       "      <td>Spain</td>\n",
       "      <td>[Spain]</td>\n",
       "      <td>2009</td>\n",
       "      <td>notcol</td>\n",
       "    </tr>\n",
       "  </tbody>\n",
       "</table>\n",
       "</div>"
      ],
      "text/plain": [
       "  author_distinct  funder_distinct  year  IntCol\n",
       "0          Turkey         [Turkey]  2009  notcol\n",
       "1          France  [United States]  2009     col\n",
       "1   United States  [United States]  2009     col\n",
       "2          Russia         [Russia]  2009  notcol\n",
       "3           Spain          [Spain]  2009  notcol"
      ]
     },
     "execution_count": 6,
     "metadata": {},
     "output_type": "execute_result"
    }
   ],
   "source": [
    "cntry_pub=pubs_author_funder[['author_distinct','funder_distinct','year','IntCol']\n",
    "                            ].explode('author_distinct')\n",
    "cntry_pub.head()"
   ]
  },
  {
   "cell_type": "code",
   "execution_count": 7,
   "id": "permanent-oklahoma",
   "metadata": {},
   "outputs": [
    {
     "data": {
      "text/html": [
       "<div>\n",
       "<style scoped>\n",
       "    .dataframe tbody tr th:only-of-type {\n",
       "        vertical-align: middle;\n",
       "    }\n",
       "\n",
       "    .dataframe tbody tr th {\n",
       "        vertical-align: top;\n",
       "    }\n",
       "\n",
       "    .dataframe thead th {\n",
       "        text-align: right;\n",
       "    }\n",
       "</style>\n",
       "<table border=\"1\" class=\"dataframe\">\n",
       "  <thead>\n",
       "    <tr style=\"text-align: right;\">\n",
       "      <th></th>\n",
       "      <th>author_distinct</th>\n",
       "      <th>funder_distinct</th>\n",
       "      <th>year</th>\n",
       "      <th>IntCol</th>\n",
       "      <th>fund</th>\n",
       "    </tr>\n",
       "  </thead>\n",
       "  <tbody>\n",
       "    <tr>\n",
       "      <th>0</th>\n",
       "      <td>Turkey</td>\n",
       "      <td>[Turkey]</td>\n",
       "      <td>2009</td>\n",
       "      <td>notcol</td>\n",
       "      <td>fund</td>\n",
       "    </tr>\n",
       "    <tr>\n",
       "      <th>1</th>\n",
       "      <td>France</td>\n",
       "      <td>[United States]</td>\n",
       "      <td>2009</td>\n",
       "      <td>col</td>\n",
       "      <td>notfund</td>\n",
       "    </tr>\n",
       "    <tr>\n",
       "      <th>1</th>\n",
       "      <td>United States</td>\n",
       "      <td>[United States]</td>\n",
       "      <td>2009</td>\n",
       "      <td>col</td>\n",
       "      <td>fund</td>\n",
       "    </tr>\n",
       "    <tr>\n",
       "      <th>2</th>\n",
       "      <td>Russia</td>\n",
       "      <td>[Russia]</td>\n",
       "      <td>2009</td>\n",
       "      <td>notcol</td>\n",
       "      <td>fund</td>\n",
       "    </tr>\n",
       "    <tr>\n",
       "      <th>3</th>\n",
       "      <td>Spain</td>\n",
       "      <td>[Spain]</td>\n",
       "      <td>2009</td>\n",
       "      <td>notcol</td>\n",
       "      <td>fund</td>\n",
       "    </tr>\n",
       "  </tbody>\n",
       "</table>\n",
       "</div>"
      ],
      "text/plain": [
       "  author_distinct  funder_distinct  year  IntCol     fund\n",
       "0          Turkey         [Turkey]  2009  notcol     fund\n",
       "1          France  [United States]  2009     col  notfund\n",
       "1   United States  [United States]  2009     col     fund\n",
       "2          Russia         [Russia]  2009  notcol     fund\n",
       "3           Spain          [Spain]  2009  notcol     fund"
      ]
     },
     "execution_count": 7,
     "metadata": {},
     "output_type": "execute_result"
    }
   ],
   "source": [
    "def check_fund(x):\n",
    "    label = 'notfund'\n",
    "    if x.author_distinct in x.funder_distinct:\n",
    "        label = 'fund'\n",
    "    return label\n",
    "cntry_pub['fund'] = cntry_pub.apply(lambda x:check_fund(x),axis=1)\n",
    "cntry_pub.head()"
   ]
  },
  {
   "cell_type": "code",
   "execution_count": 8,
   "id": "american-edmonton",
   "metadata": {},
   "outputs": [
    {
     "data": {
      "text/plain": [
       "array([2009, 2010, 2011, 2012, 2013, 2014, 2015, 2016, 2017, 2018])"
      ]
     },
     "execution_count": 8,
     "metadata": {},
     "output_type": "execute_result"
    }
   ],
   "source": [
    "cntry_pub.year.unique()"
   ]
  },
  {
   "cell_type": "code",
   "execution_count": 14,
   "id": "flying-envelope",
   "metadata": {},
   "outputs": [
    {
     "data": {
      "text/html": [
       "<div>\n",
       "<style scoped>\n",
       "    .dataframe tbody tr th:only-of-type {\n",
       "        vertical-align: middle;\n",
       "    }\n",
       "\n",
       "    .dataframe tbody tr th {\n",
       "        vertical-align: top;\n",
       "    }\n",
       "\n",
       "    .dataframe thead th {\n",
       "        text-align: right;\n",
       "    }\n",
       "</style>\n",
       "<table border=\"1\" class=\"dataframe\">\n",
       "  <thead>\n",
       "    <tr style=\"text-align: right;\">\n",
       "      <th>IntCol</th>\n",
       "      <th>author_distinct</th>\n",
       "      <th>col</th>\n",
       "      <th>notcol</th>\n",
       "    </tr>\n",
       "  </thead>\n",
       "  <tbody>\n",
       "    <tr>\n",
       "      <th>0</th>\n",
       "      <td>Afghanistan</td>\n",
       "      <td>0.938462</td>\n",
       "      <td>0.061538</td>\n",
       "    </tr>\n",
       "    <tr>\n",
       "      <th>1</th>\n",
       "      <td>Albania</td>\n",
       "      <td>0.903553</td>\n",
       "      <td>0.096447</td>\n",
       "    </tr>\n",
       "    <tr>\n",
       "      <th>2</th>\n",
       "      <td>Algeria</td>\n",
       "      <td>0.604925</td>\n",
       "      <td>0.395075</td>\n",
       "    </tr>\n",
       "    <tr>\n",
       "      <th>3</th>\n",
       "      <td>Andorra</td>\n",
       "      <td>1.000000</td>\n",
       "      <td>NaN</td>\n",
       "    </tr>\n",
       "    <tr>\n",
       "      <th>4</th>\n",
       "      <td>Angola</td>\n",
       "      <td>0.983607</td>\n",
       "      <td>0.016393</td>\n",
       "    </tr>\n",
       "  </tbody>\n",
       "</table>\n",
       "</div>"
      ],
      "text/plain": [
       "IntCol author_distinct       col    notcol\n",
       "0          Afghanistan  0.938462  0.061538\n",
       "1              Albania  0.903553  0.096447\n",
       "2              Algeria  0.604925  0.395075\n",
       "3              Andorra  1.000000       NaN\n",
       "4               Angola  0.983607  0.016393"
      ]
     },
     "execution_count": 14,
     "metadata": {},
     "output_type": "execute_result"
    }
   ],
   "source": [
    "cntry_col=cntry_pub[cntry_pub.year==2018].groupby(['author_distinct','IntCol']).size().reset_index(name='count')\n",
    "cntry_col=cntry_col.pivot_table(index='author_distinct',columns='IntCol',values='count')\n",
    "cntry_col=cntry_col.div(cntry_col.sum(axis=1), axis=0).reset_index()\n",
    "cntry_col.head()"
   ]
  },
  {
   "cell_type": "code",
   "execution_count": 15,
   "id": "interpreted-unemployment",
   "metadata": {},
   "outputs": [
    {
     "data": {
      "text/html": [
       "<div>\n",
       "<style scoped>\n",
       "    .dataframe tbody tr th:only-of-type {\n",
       "        vertical-align: middle;\n",
       "    }\n",
       "\n",
       "    .dataframe tbody tr th {\n",
       "        vertical-align: top;\n",
       "    }\n",
       "\n",
       "    .dataframe thead th {\n",
       "        text-align: right;\n",
       "    }\n",
       "</style>\n",
       "<table border=\"1\" class=\"dataframe\">\n",
       "  <thead>\n",
       "    <tr style=\"text-align: right;\">\n",
       "      <th>fund</th>\n",
       "      <th>author_distinct</th>\n",
       "      <th>fund</th>\n",
       "      <th>notfund</th>\n",
       "    </tr>\n",
       "  </thead>\n",
       "  <tbody>\n",
       "    <tr>\n",
       "      <th>0</th>\n",
       "      <td>Afghanistan</td>\n",
       "      <td>NaN</td>\n",
       "      <td>1.000000</td>\n",
       "    </tr>\n",
       "    <tr>\n",
       "      <th>1</th>\n",
       "      <td>Albania</td>\n",
       "      <td>NaN</td>\n",
       "      <td>1.000000</td>\n",
       "    </tr>\n",
       "    <tr>\n",
       "      <th>2</th>\n",
       "      <td>Algeria</td>\n",
       "      <td>0.090708</td>\n",
       "      <td>0.909292</td>\n",
       "    </tr>\n",
       "    <tr>\n",
       "      <th>3</th>\n",
       "      <td>Andorra</td>\n",
       "      <td>0.250000</td>\n",
       "      <td>0.750000</td>\n",
       "    </tr>\n",
       "    <tr>\n",
       "      <th>4</th>\n",
       "      <td>Angola</td>\n",
       "      <td>0.083333</td>\n",
       "      <td>0.916667</td>\n",
       "    </tr>\n",
       "  </tbody>\n",
       "</table>\n",
       "</div>"
      ],
      "text/plain": [
       "fund author_distinct      fund   notfund\n",
       "0        Afghanistan       NaN  1.000000\n",
       "1            Albania       NaN  1.000000\n",
       "2            Algeria  0.090708  0.909292\n",
       "3            Andorra  0.250000  0.750000\n",
       "4             Angola  0.083333  0.916667"
      ]
     },
     "execution_count": 15,
     "metadata": {},
     "output_type": "execute_result"
    }
   ],
   "source": [
    "cntry_col_fund=cntry_pub[(cntry_pub.IntCol=='col')&(cntry_pub.year==2018)].groupby(['author_distinct','fund']).size().reset_index(name='count')\n",
    "cntry_col_fund=cntry_col_fund.pivot_table(index='author_distinct',columns='fund',values='count')\n",
    "cntry_col_fund=cntry_col_fund.div(cntry_col_fund.sum(axis=1), axis=0).reset_index()\n",
    "cntry_col_fund.head()"
   ]
  },
  {
   "cell_type": "code",
   "execution_count": 16,
   "id": "latter-comparative",
   "metadata": {},
   "outputs": [],
   "source": [
    "cntry_cnt=cntry_pub[cntry_pub.year==2018].groupby('author_distinct').size().reset_index(name='count')\n",
    "cntry_cnt['count']=np.log10(cntry_cnt['count'])"
   ]
  },
  {
   "cell_type": "code",
   "execution_count": 17,
   "id": "extended-ancient",
   "metadata": {},
   "outputs": [
    {
     "data": {
      "text/html": [
       "<div>\n",
       "<style scoped>\n",
       "    .dataframe tbody tr th:only-of-type {\n",
       "        vertical-align: middle;\n",
       "    }\n",
       "\n",
       "    .dataframe tbody tr th {\n",
       "        vertical-align: top;\n",
       "    }\n",
       "\n",
       "    .dataframe thead th {\n",
       "        text-align: right;\n",
       "    }\n",
       "</style>\n",
       "<table border=\"1\" class=\"dataframe\">\n",
       "  <thead>\n",
       "    <tr style=\"text-align: right;\">\n",
       "      <th></th>\n",
       "      <th>author_distinct</th>\n",
       "      <th>col</th>\n",
       "      <th>fund</th>\n",
       "      <th>count</th>\n",
       "    </tr>\n",
       "  </thead>\n",
       "  <tbody>\n",
       "    <tr>\n",
       "      <th>0</th>\n",
       "      <td>Afghanistan</td>\n",
       "      <td>0.938462</td>\n",
       "      <td>NaN</td>\n",
       "      <td>1.812913</td>\n",
       "    </tr>\n",
       "    <tr>\n",
       "      <th>1</th>\n",
       "      <td>Albania</td>\n",
       "      <td>0.903553</td>\n",
       "      <td>NaN</td>\n",
       "      <td>2.294466</td>\n",
       "    </tr>\n",
       "    <tr>\n",
       "      <th>2</th>\n",
       "      <td>Algeria</td>\n",
       "      <td>0.604925</td>\n",
       "      <td>0.090708</td>\n",
       "      <td>3.572407</td>\n",
       "    </tr>\n",
       "    <tr>\n",
       "      <th>3</th>\n",
       "      <td>Andorra</td>\n",
       "      <td>1.000000</td>\n",
       "      <td>0.250000</td>\n",
       "      <td>1.079181</td>\n",
       "    </tr>\n",
       "    <tr>\n",
       "      <th>4</th>\n",
       "      <td>Angola</td>\n",
       "      <td>0.983607</td>\n",
       "      <td>0.083333</td>\n",
       "      <td>1.785330</td>\n",
       "    </tr>\n",
       "  </tbody>\n",
       "</table>\n",
       "</div>"
      ],
      "text/plain": [
       "  author_distinct       col      fund     count\n",
       "0     Afghanistan  0.938462       NaN  1.812913\n",
       "1         Albania  0.903553       NaN  2.294466\n",
       "2         Algeria  0.604925  0.090708  3.572407\n",
       "3         Andorra  1.000000  0.250000  1.079181\n",
       "4          Angola  0.983607  0.083333  1.785330"
      ]
     },
     "execution_count": 17,
     "metadata": {},
     "output_type": "execute_result"
    }
   ],
   "source": [
    "cntry_meta=cntry_col[['author_distinct','col']].merge(\n",
    "    cntry_col_fund[['author_distinct','fund']],on='author_distinct',how='inner')\n",
    "cntry_meta=cntry_meta.merge(cntry_cnt,on='author_distinct',how='inner')\n",
    "cntry_meta.head()"
   ]
  },
  {
   "cell_type": "code",
   "execution_count": 13,
   "id": "parental-booth",
   "metadata": {},
   "outputs": [],
   "source": [
    "meta_early=cntry_meta\n",
    "meta_early=meta_early.rename(columns={'col':'col_2009','fund':'fund_2009','count':'count_2009'})"
   ]
  },
  {
   "cell_type": "code",
   "execution_count": 18,
   "id": "wicked-extra",
   "metadata": {},
   "outputs": [],
   "source": [
    "meta_recent=cntry_meta\n",
    "meta_recent=meta_recent.rename(columns={'col':'col_2018','fund':'fund_2018','count':'count_2018'})"
   ]
  },
  {
   "cell_type": "code",
   "execution_count": 19,
   "id": "challenging-spell",
   "metadata": {},
   "outputs": [
    {
     "data": {
      "text/html": [
       "<div>\n",
       "<style scoped>\n",
       "    .dataframe tbody tr th:only-of-type {\n",
       "        vertical-align: middle;\n",
       "    }\n",
       "\n",
       "    .dataframe tbody tr th {\n",
       "        vertical-align: top;\n",
       "    }\n",
       "\n",
       "    .dataframe thead th {\n",
       "        text-align: right;\n",
       "    }\n",
       "</style>\n",
       "<table border=\"1\" class=\"dataframe\">\n",
       "  <thead>\n",
       "    <tr style=\"text-align: right;\">\n",
       "      <th></th>\n",
       "      <th>author_distinct</th>\n",
       "      <th>col_2018</th>\n",
       "      <th>fund_2018</th>\n",
       "      <th>count_2018</th>\n",
       "      <th>col_2009</th>\n",
       "      <th>fund_2009</th>\n",
       "      <th>count_2009</th>\n",
       "    </tr>\n",
       "  </thead>\n",
       "  <tbody>\n",
       "    <tr>\n",
       "      <th>2</th>\n",
       "      <td>Algeria</td>\n",
       "      <td>0.604925</td>\n",
       "      <td>0.090708</td>\n",
       "      <td>3.572407</td>\n",
       "      <td>0.612863</td>\n",
       "      <td>0.045267</td>\n",
       "      <td>3.200303</td>\n",
       "    </tr>\n",
       "    <tr>\n",
       "      <th>6</th>\n",
       "      <td>Argentina</td>\n",
       "      <td>0.516570</td>\n",
       "      <td>0.432533</td>\n",
       "      <td>3.970997</td>\n",
       "      <td>0.448504</td>\n",
       "      <td>0.380825</td>\n",
       "      <td>3.822887</td>\n",
       "    </tr>\n",
       "    <tr>\n",
       "      <th>7</th>\n",
       "      <td>Armenia</td>\n",
       "      <td>0.741282</td>\n",
       "      <td>0.317147</td>\n",
       "      <td>2.948902</td>\n",
       "      <td>0.536145</td>\n",
       "      <td>0.093633</td>\n",
       "      <td>2.697229</td>\n",
       "    </tr>\n",
       "    <tr>\n",
       "      <th>8</th>\n",
       "      <td>Australia</td>\n",
       "      <td>0.662600</td>\n",
       "      <td>0.349140</td>\n",
       "      <td>4.755631</td>\n",
       "      <td>0.481903</td>\n",
       "      <td>0.297128</td>\n",
       "      <td>4.488240</td>\n",
       "    </tr>\n",
       "    <tr>\n",
       "      <th>9</th>\n",
       "      <td>Austria</td>\n",
       "      <td>0.751194</td>\n",
       "      <td>0.306128</td>\n",
       "      <td>4.196093</td>\n",
       "      <td>0.607832</td>\n",
       "      <td>0.224662</td>\n",
       "      <td>4.004880</td>\n",
       "    </tr>\n",
       "  </tbody>\n",
       "</table>\n",
       "</div>"
      ],
      "text/plain": [
       "  author_distinct  col_2018  fund_2018  count_2018  col_2009  fund_2009  \\\n",
       "2         Algeria  0.604925   0.090708    3.572407  0.612863   0.045267   \n",
       "6       Argentina  0.516570   0.432533    3.970997  0.448504   0.380825   \n",
       "7         Armenia  0.741282   0.317147    2.948902  0.536145   0.093633   \n",
       "8       Australia  0.662600   0.349140    4.755631  0.481903   0.297128   \n",
       "9         Austria  0.751194   0.306128    4.196093  0.607832   0.224662   \n",
       "\n",
       "   count_2009  \n",
       "2    3.200303  \n",
       "6    3.822887  \n",
       "7    2.697229  \n",
       "8    4.488240  \n",
       "9    4.004880  "
      ]
     },
     "execution_count": 19,
     "metadata": {},
     "output_type": "execute_result"
    }
   ],
   "source": [
    "meta_comp=meta_recent.merge(meta_early, on='author_distinct')\n",
    "meta_comp=meta_comp.dropna()\n",
    "meta_comp.head()"
   ]
  },
  {
   "cell_type": "code",
   "execution_count": 32,
   "id": "aware-resident",
   "metadata": {},
   "outputs": [
    {
     "data": {
      "image/png": "[encoded data removed]",
      "text/plain": [
       "<Figure size 432x288 with 1 Axes>"
      ]
     },
     "metadata": {
      "needs_background": "light"
     },
     "output_type": "display_data"
    }
   ],
   "source": [
    "fig, ax=plt.subplots()\n",
    "for ind, row in meta_comp.sort_values(by='count_2009',ascending=False).head(10).iterrows():\n",
    "    x=row['col_2009']\n",
    "    y=row['fund_2009']\n",
    "    dx=row['col_2018']\n",
    "    dy=row['fund_2018']\n",
    "    cntry=row['author_distinct']\n",
    "    plt.arrow(x,y,(dx-x),(dy-y),head_width=0.02)\n",
    "    plt.text(dx+0.02,dy+0.02,cntry)\n",
    "plt.xlabel(\"Ratio of international collaboration\",fontsize=15)\n",
    "plt.ylabel(\"Ratio of funding in collaboration\",fontsize=15)\n",
    "plt.savefig(\"funding_ratio_collaboration.pdf\",bbox_inches=\"tight\")"
   ]
  },
  {
   "cell_type": "code",
   "execution_count": 27,
   "id": "generic-cream",
   "metadata": {},
   "outputs": [
    {
     "data": {
      "text/html": [
       "<div>\n",
       "<style scoped>\n",
       "    .dataframe tbody tr th:only-of-type {\n",
       "        vertical-align: middle;\n",
       "    }\n",
       "\n",
       "    .dataframe tbody tr th {\n",
       "        vertical-align: top;\n",
       "    }\n",
       "\n",
       "    .dataframe thead th {\n",
       "        text-align: right;\n",
       "    }\n",
       "</style>\n",
       "<table border=\"1\" class=\"dataframe\">\n",
       "  <thead>\n",
       "    <tr style=\"text-align: right;\">\n",
       "      <th></th>\n",
       "      <th>author_distinct</th>\n",
       "      <th>col_2018</th>\n",
       "      <th>fund_2018</th>\n",
       "      <th>count_2018</th>\n",
       "      <th>col_2009</th>\n",
       "      <th>fund_2009</th>\n",
       "      <th>count_2009</th>\n",
       "    </tr>\n",
       "  </thead>\n",
       "  <tbody>\n",
       "    <tr>\n",
       "      <th>183</th>\n",
       "      <td>United States</td>\n",
       "      <td>0.464636</td>\n",
       "      <td>0.440059</td>\n",
       "      <td>5.547100</td>\n",
       "      <td>0.321063</td>\n",
       "      <td>0.418821</td>\n",
       "      <td>5.449631</td>\n",
       "    </tr>\n",
       "    <tr>\n",
       "      <th>37</th>\n",
       "      <td>China</td>\n",
       "      <td>0.265053</td>\n",
       "      <td>0.736844</td>\n",
       "      <td>5.588026</td>\n",
       "      <td>0.223630</td>\n",
       "      <td>0.533996</td>\n",
       "      <td>5.087760</td>\n",
       "    </tr>\n",
       "    <tr>\n",
       "      <th>66</th>\n",
       "      <td>Germany</td>\n",
       "      <td>0.618416</td>\n",
       "      <td>0.371337</td>\n",
       "      <td>5.014798</td>\n",
       "      <td>0.496058</td>\n",
       "      <td>0.311260</td>\n",
       "      <td>4.903925</td>\n",
       "    </tr>\n",
       "    <tr>\n",
       "      <th>88</th>\n",
       "      <td>Japan</td>\n",
       "      <td>0.349773</td>\n",
       "      <td>0.436387</td>\n",
       "      <td>4.900274</td>\n",
       "      <td>0.253929</td>\n",
       "      <td>0.339146</td>\n",
       "      <td>4.873652</td>\n",
       "    </tr>\n",
       "    <tr>\n",
       "      <th>182</th>\n",
       "      <td>United Kingdom</td>\n",
       "      <td>0.701066</td>\n",
       "      <td>0.336079</td>\n",
       "      <td>5.021673</td>\n",
       "      <td>0.518897</td>\n",
       "      <td>0.276696</td>\n",
       "      <td>4.870673</td>\n",
       "    </tr>\n",
       "    <tr>\n",
       "      <th>60</th>\n",
       "      <td>France</td>\n",
       "      <td>0.653525</td>\n",
       "      <td>0.276379</td>\n",
       "      <td>4.851527</td>\n",
       "      <td>0.508941</td>\n",
       "      <td>0.203303</td>\n",
       "      <td>4.775334</td>\n",
       "    </tr>\n",
       "    <tr>\n",
       "      <th>85</th>\n",
       "      <td>Italy</td>\n",
       "      <td>0.563897</td>\n",
       "      <td>0.194975</td>\n",
       "      <td>4.826878</td>\n",
       "      <td>0.427486</td>\n",
       "      <td>0.203779</td>\n",
       "      <td>4.682650</td>\n",
       "    </tr>\n",
       "    <tr>\n",
       "      <th>32</th>\n",
       "      <td>Canada</td>\n",
       "      <td>0.614118</td>\n",
       "      <td>0.366661</td>\n",
       "      <td>4.794913</td>\n",
       "      <td>0.471687</td>\n",
       "      <td>0.344872</td>\n",
       "      <td>4.662125</td>\n",
       "    </tr>\n",
       "    <tr>\n",
       "      <th>160</th>\n",
       "      <td>Spain</td>\n",
       "      <td>0.597677</td>\n",
       "      <td>0.483175</td>\n",
       "      <td>4.739129</td>\n",
       "      <td>0.434201</td>\n",
       "      <td>0.436021</td>\n",
       "      <td>4.589089</td>\n",
       "    </tr>\n",
       "    <tr>\n",
       "      <th>79</th>\n",
       "      <td>India</td>\n",
       "      <td>0.270998</td>\n",
       "      <td>0.314241</td>\n",
       "      <td>4.852028</td>\n",
       "      <td>0.190892</td>\n",
       "      <td>0.253496</td>\n",
       "      <td>4.586385</td>\n",
       "    </tr>\n",
       "  </tbody>\n",
       "</table>\n",
       "</div>"
      ],
      "text/plain": [
       "    author_distinct  col_2018  fund_2018  count_2018  col_2009  fund_2009  \\\n",
       "183   United States  0.464636   0.440059    5.547100  0.321063   0.418821   \n",
       "37            China  0.265053   0.736844    5.588026  0.223630   0.533996   \n",
       "66          Germany  0.618416   0.371337    5.014798  0.496058   0.311260   \n",
       "88            Japan  0.349773   0.436387    4.900274  0.253929   0.339146   \n",
       "182  United Kingdom  0.701066   0.336079    5.021673  0.518897   0.276696   \n",
       "60           France  0.653525   0.276379    4.851527  0.508941   0.203303   \n",
       "85            Italy  0.563897   0.194975    4.826878  0.427486   0.203779   \n",
       "32           Canada  0.614118   0.366661    4.794913  0.471687   0.344872   \n",
       "160           Spain  0.597677   0.483175    4.739129  0.434201   0.436021   \n",
       "79            India  0.270998   0.314241    4.852028  0.190892   0.253496   \n",
       "\n",
       "     count_2009  \n",
       "183    5.449631  \n",
       "37     5.087760  \n",
       "66     4.903925  \n",
       "88     4.873652  \n",
       "182    4.870673  \n",
       "60     4.775334  \n",
       "85     4.682650  \n",
       "32     4.662125  \n",
       "160    4.589089  \n",
       "79     4.586385  "
      ]
     },
     "execution_count": 27,
     "metadata": {},
     "output_type": "execute_result"
    }
   ],
   "source": [
    "meta_comp.sort_values(by='count_2009',ascending=False).head(10)"
   ]
  },
  {
   "cell_type": "code",
   "execution_count": 51,
   "id": "electrical-rider",
   "metadata": {},
   "outputs": [
    {
     "data": {
      "text/plain": [
       "<matplotlib.axes._subplots.AxesSubplot at 0x7fca5e2d5af0>"
      ]
     },
     "execution_count": 51,
     "metadata": {},
     "output_type": "execute_result"
    },
    {
     "data": {
      "image/png": "[encoded data removed]",
      "text/plain": [
       "<Figure size 432x288 with 1 Axes>"
      ]
     },
     "metadata": {
      "needs_background": "light"
     },
     "output_type": "display_data"
    }
   ],
   "source": [
    "sns.scatterplot(x='col',y='fund',data=cntry_meta,size='count',sizes=(5,80),legend=False)"
   ]
  },
  {
   "cell_type": "code",
   "execution_count": 44,
   "id": "forty-grain",
   "metadata": {},
   "outputs": [
    {
     "data": {
      "text/plain": [
       "<matplotlib.axes._subplots.AxesSubplot at 0x7fca5e352a60>"
      ]
     },
     "execution_count": 44,
     "metadata": {},
     "output_type": "execute_result"
    },
    {
     "data": {
      "image/png": "[encoded data removed]",
      "text/plain": [
       "<Figure size 432x288 with 1 Axes>"
      ]
     },
     "metadata": {
      "needs_background": "light"
     },
     "output_type": "display_data"
    }
   ],
   "source": [
    "sns.scatterplot(x='col',y='fund',data=cntry_meta,size='count',sizes=(5,80),legend=False)"
   ]
  },
  {
   "cell_type": "code",
   "execution_count": 8,
   "id": "racial-landing",
   "metadata": {},
   "outputs": [
    {
     "data": {
      "text/plain": [
       "0.16649088677843943"
      ]
     },
     "execution_count": 8,
     "metadata": {},
     "output_type": "execute_result"
    }
   ],
   "source": [
    "(np.exp(12.8669)-np.exp(12.7129))/np.exp(12.7129)"
   ]
  },
  {
   "cell_type": "code",
   "execution_count": 5,
   "id": "sunrise-rolling",
   "metadata": {},
   "outputs": [
    {
     "data": {
      "text/plain": [
       "332003.23771344335"
      ]
     },
     "execution_count": 5,
     "metadata": {},
     "output_type": "execute_result"
    }
   ],
   "source": [
    "np.exp(12.7129)"
   ]
  },
  {
   "cell_type": "code",
   "execution_count": 10,
   "id": "a9586909-ea22-4b1a-be7e-04f725fd9ea5",
   "metadata": {},
   "outputs": [
    {
     "data": {
      "text/plain": [
       "0.017251142544582817"
      ]
     },
     "execution_count": 10,
     "metadata": {},
     "output_type": "execute_result"
    }
   ],
   "source": [
    "0.181*np.log(1.10)"
   ]
  },
  {
   "cell_type": "code",
   "execution_count": null,
   "id": "361cf232-8e9a-48dd-9e6e-ce3627d24360",
   "metadata": {},
   "outputs": [],
   "source": []
  }
 ],
 "metadata": {
  "kernelspec": {
   "display_name": "Python 3 (ipykernel)",
   "language": "python",
   "name": "python3"
  },
  "language_info": {
   "codemirror_mode": {
    "name": "ipython",
    "version": 3
   },
   "file_extension": ".py",
   "mimetype": "text/x-python",
   "name": "python",
   "nbconvert_exporter": "python",
   "pygments_lexer": "ipython3",
   "version": "3.8.16"
  }
 },
 "nbformat": 4,
 "nbformat_minor": 5
}
