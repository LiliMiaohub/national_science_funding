{
 "cells": [
  {
   "cell_type": "markdown",
   "id": "circular-dietary",
   "metadata": {},
   "source": [
    "this script examines the validity of the nationality of funding organizations with the golden sample from public wos dataset (https://support.clarivate.com/ScientificandAcademicResearch/s/article/Web-of-Science-Core-Collection-Availability-of-funding-data?language=en_US)"
   ]
  },
  {
   "cell_type": "code",
   "execution_count": 1,
   "id": "national-coral",
   "metadata": {},
   "outputs": [],
   "source": [
    "import pandas as pd\n",
    "import re"
   ]
  },
  {
   "cell_type": "code",
   "execution_count": 2,
   "id": "secure-fireplace",
   "metadata": {},
   "outputs": [],
   "source": [
    "inst_lili_path=\"../../data/nf_folder/Data/RawData/institution_validity/funder_country_all.xlsx\"\n",
    "inst_lili=pd.read_excel(inst_lili_path)"
   ]
  },
  {
   "cell_type": "code",
   "execution_count": 3,
   "id": "informed-cooperation",
   "metadata": {},
   "outputs": [
    {
     "data": {
      "text/html": [
       "<div>\n",
       "<style scoped>\n",
       "    .dataframe tbody tr th:only-of-type {\n",
       "        vertical-align: middle;\n",
       "    }\n",
       "\n",
       "    .dataframe tbody tr th {\n",
       "        vertical-align: top;\n",
       "    }\n",
       "\n",
       "    .dataframe thead th {\n",
       "        text-align: right;\n",
       "    }\n",
       "</style>\n",
       "<table border=\"1\" class=\"dataframe\">\n",
       "  <thead>\n",
       "    <tr style=\"text-align: right;\">\n",
       "      <th></th>\n",
       "      <th>labela</th>\n",
       "      <th>labelb</th>\n",
       "      <th>ID</th>\n",
       "      <th>inst_lili</th>\n",
       "      <th>Art_Num</th>\n",
       "      <th>cntry</th>\n",
       "      <th>Multi_Co</th>\n",
       "    </tr>\n",
       "  </thead>\n",
       "  <tbody>\n",
       "    <tr>\n",
       "      <th>0</th>\n",
       "      <td>p1</td>\n",
       "      <td>1</td>\n",
       "      <td>1</td>\n",
       "      <td>National Natural Science Foundation of China</td>\n",
       "      <td>1944785</td>\n",
       "      <td>PEOPLES-R-CHINA</td>\n",
       "      <td>NaN</td>\n",
       "    </tr>\n",
       "    <tr>\n",
       "      <th>1</th>\n",
       "      <td>p1</td>\n",
       "      <td>1</td>\n",
       "      <td>2</td>\n",
       "      <td>National Institutes of Health</td>\n",
       "      <td>430526</td>\n",
       "      <td>USA</td>\n",
       "      <td>NaN</td>\n",
       "    </tr>\n",
       "    <tr>\n",
       "      <th>2</th>\n",
       "      <td>p1</td>\n",
       "      <td>1</td>\n",
       "      <td>3</td>\n",
       "      <td>NIH</td>\n",
       "      <td>424095</td>\n",
       "      <td>USA</td>\n",
       "      <td>NaN</td>\n",
       "    </tr>\n",
       "    <tr>\n",
       "      <th>3</th>\n",
       "      <td>p1</td>\n",
       "      <td>1</td>\n",
       "      <td>4</td>\n",
       "      <td>National Science Foundation</td>\n",
       "      <td>316781</td>\n",
       "      <td>USA</td>\n",
       "      <td>NaN</td>\n",
       "    </tr>\n",
       "    <tr>\n",
       "      <th>4</th>\n",
       "      <td>p1</td>\n",
       "      <td>1</td>\n",
       "      <td>5</td>\n",
       "      <td>NSF</td>\n",
       "      <td>248838</td>\n",
       "      <td>USA</td>\n",
       "      <td>NaN</td>\n",
       "    </tr>\n",
       "  </tbody>\n",
       "</table>\n",
       "</div>"
      ],
      "text/plain": [
       "  labela  labelb  ID                                     inst_lili  Art_Num  \\\n",
       "0     p1       1   1  National Natural Science Foundation of China  1944785   \n",
       "1     p1       1   2                 National Institutes of Health   430526   \n",
       "2     p1       1   3                                           NIH   424095   \n",
       "3     p1       1   4                   National Science Foundation   316781   \n",
       "4     p1       1   5                                           NSF   248838   \n",
       "\n",
       "             cntry Multi_Co  \n",
       "0  PEOPLES-R-CHINA      NaN  \n",
       "1              USA      NaN  \n",
       "2              USA      NaN  \n",
       "3              USA      NaN  \n",
       "4              USA      NaN  "
      ]
     },
     "execution_count": 3,
     "metadata": {},
     "output_type": "execute_result"
    }
   ],
   "source": [
    "inst_lili = inst_lili.rename(columns={'Organisation':'inst_lili','Country':'cntry'})\n",
    "inst_lili.head()"
   ]
  },
  {
   "cell_type": "code",
   "execution_count": 4,
   "id": "ordinary-performance",
   "metadata": {},
   "outputs": [
    {
     "data": {
      "text/html": [
       "<div>\n",
       "<style scoped>\n",
       "    .dataframe tbody tr th:only-of-type {\n",
       "        vertical-align: middle;\n",
       "    }\n",
       "\n",
       "    .dataframe tbody tr th {\n",
       "        vertical-align: top;\n",
       "    }\n",
       "\n",
       "    .dataframe thead th {\n",
       "        text-align: right;\n",
       "    }\n",
       "</style>\n",
       "<table border=\"1\" class=\"dataframe\">\n",
       "  <thead>\n",
       "    <tr style=\"text-align: right;\">\n",
       "      <th></th>\n",
       "      <th>inst_lili</th>\n",
       "      <th>cntry</th>\n",
       "    </tr>\n",
       "  </thead>\n",
       "  <tbody>\n",
       "    <tr>\n",
       "      <th>0</th>\n",
       "      <td>National Natural Science Foundation of China</td>\n",
       "      <td>PEOPLES-R-CHINA</td>\n",
       "    </tr>\n",
       "    <tr>\n",
       "      <th>1</th>\n",
       "      <td>National Institutes of Health</td>\n",
       "      <td>USA</td>\n",
       "    </tr>\n",
       "    <tr>\n",
       "      <th>2</th>\n",
       "      <td>NIH</td>\n",
       "      <td>USA</td>\n",
       "    </tr>\n",
       "    <tr>\n",
       "      <th>3</th>\n",
       "      <td>National Science Foundation</td>\n",
       "      <td>USA</td>\n",
       "    </tr>\n",
       "    <tr>\n",
       "      <th>4</th>\n",
       "      <td>NSF</td>\n",
       "      <td>USA</td>\n",
       "    </tr>\n",
       "  </tbody>\n",
       "</table>\n",
       "</div>"
      ],
      "text/plain": [
       "                                      inst_lili            cntry\n",
       "0  National Natural Science Foundation of China  PEOPLES-R-CHINA\n",
       "1                 National Institutes of Health              USA\n",
       "2                                           NIH              USA\n",
       "3                   National Science Foundation              USA\n",
       "4                                           NSF              USA"
      ]
     },
     "execution_count": 4,
     "metadata": {},
     "output_type": "execute_result"
    }
   ],
   "source": [
    "inst_lili=inst_lili[['inst_lili','cntry']]\n",
    "inst_lili.head()"
   ]
  },
  {
   "cell_type": "code",
   "execution_count": 5,
   "id": "coordinate-floating",
   "metadata": {},
   "outputs": [],
   "source": [
    "inst_lili['inst_lili']=inst_lili['inst_lili'].apply(lambda x:x.strip())"
   ]
  },
  {
   "cell_type": "code",
   "execution_count": 6,
   "id": "thick-carnival",
   "metadata": {},
   "outputs": [],
   "source": [
    "inst_lili=inst_lili.drop_duplicates()"
   ]
  },
  {
   "cell_type": "code",
   "execution_count": 7,
   "id": "sublime-patient",
   "metadata": {},
   "outputs": [
    {
     "data": {
      "text/html": [
       "<div>\n",
       "<style scoped>\n",
       "    .dataframe tbody tr th:only-of-type {\n",
       "        vertical-align: middle;\n",
       "    }\n",
       "\n",
       "    .dataframe tbody tr th {\n",
       "        vertical-align: top;\n",
       "    }\n",
       "\n",
       "    .dataframe thead th {\n",
       "        text-align: right;\n",
       "    }\n",
       "</style>\n",
       "<table border=\"1\" class=\"dataframe\">\n",
       "  <thead>\n",
       "    <tr style=\"text-align: right;\">\n",
       "      <th></th>\n",
       "      <th>inst_lili</th>\n",
       "      <th>cntry</th>\n",
       "    </tr>\n",
       "  </thead>\n",
       "  <tbody>\n",
       "    <tr>\n",
       "      <th>0</th>\n",
       "      <td>National Natural Science Foundation of China</td>\n",
       "      <td>PEOPLES-R-CHINA</td>\n",
       "    </tr>\n",
       "    <tr>\n",
       "      <th>1</th>\n",
       "      <td>National Institutes of Health</td>\n",
       "      <td>USA</td>\n",
       "    </tr>\n",
       "    <tr>\n",
       "      <th>2</th>\n",
       "      <td>NIH</td>\n",
       "      <td>USA</td>\n",
       "    </tr>\n",
       "    <tr>\n",
       "      <th>3</th>\n",
       "      <td>National Science Foundation</td>\n",
       "      <td>USA</td>\n",
       "    </tr>\n",
       "    <tr>\n",
       "      <th>4</th>\n",
       "      <td>NSF</td>\n",
       "      <td>USA</td>\n",
       "    </tr>\n",
       "  </tbody>\n",
       "</table>\n",
       "</div>"
      ],
      "text/plain": [
       "                                      inst_lili            cntry\n",
       "0  National Natural Science Foundation of China  PEOPLES-R-CHINA\n",
       "1                 National Institutes of Health              USA\n",
       "2                                           NIH              USA\n",
       "3                   National Science Foundation              USA\n",
       "4                                           NSF              USA"
      ]
     },
     "execution_count": 7,
     "metadata": {},
     "output_type": "execute_result"
    }
   ],
   "source": [
    "inst_lili.head()"
   ]
  },
  {
   "cell_type": "code",
   "execution_count": 8,
   "id": "egyptian-gothic",
   "metadata": {},
   "outputs": [],
   "source": [
    "inst_wos_path=\"../../data/nf_folder/Data/RawData/institution_validity/incites-funding-agencies.xlsx\"\n",
    "inst_wos=pd.read_excel(inst_wos_path)"
   ]
  },
  {
   "cell_type": "code",
   "execution_count": 9,
   "id": "canadian-skiing",
   "metadata": {},
   "outputs": [],
   "source": [
    "inst_wos.head()\n",
    "inst_wos=inst_wos.rename(columns={'NAME':'inst_wos','REGION':'cntry_wos'})"
   ]
  },
  {
   "cell_type": "code",
   "execution_count": 10,
   "id": "innovative-detail",
   "metadata": {},
   "outputs": [],
   "source": [
    "inst_wos['inst_wos']=inst_wos['inst_wos'].apply(lambda x:x.strip())"
   ]
  },
  {
   "cell_type": "code",
   "execution_count": 11,
   "id": "rotary-hawaii",
   "metadata": {},
   "outputs": [
    {
     "data": {
      "text/html": [
       "<div>\n",
       "<style scoped>\n",
       "    .dataframe tbody tr th:only-of-type {\n",
       "        vertical-align: middle;\n",
       "    }\n",
       "\n",
       "    .dataframe tbody tr th {\n",
       "        vertical-align: top;\n",
       "    }\n",
       "\n",
       "    .dataframe thead th {\n",
       "        text-align: right;\n",
       "    }\n",
       "</style>\n",
       "<table border=\"1\" class=\"dataframe\">\n",
       "  <thead>\n",
       "    <tr style=\"text-align: right;\">\n",
       "      <th></th>\n",
       "      <th>inst_wos</th>\n",
       "      <th>cntry_wos</th>\n",
       "    </tr>\n",
       "  </thead>\n",
       "  <tbody>\n",
       "    <tr>\n",
       "      <th>0</th>\n",
       "      <td>ANPCyT</td>\n",
       "      <td>ARGENTINA</td>\n",
       "    </tr>\n",
       "    <tr>\n",
       "      <th>1</th>\n",
       "      <td>Consejo Interinstitucional de Ciencia y Tecnol...</td>\n",
       "      <td>ARGENTINA</td>\n",
       "    </tr>\n",
       "    <tr>\n",
       "      <th>2</th>\n",
       "      <td>Consejo Nacional de Investigaciones Cientifica...</td>\n",
       "      <td>ARGENTINA</td>\n",
       "    </tr>\n",
       "    <tr>\n",
       "      <th>3</th>\n",
       "      <td>FONCyT</td>\n",
       "      <td>ARGENTINA</td>\n",
       "    </tr>\n",
       "    <tr>\n",
       "      <th>4</th>\n",
       "      <td>National University of La Plata</td>\n",
       "      <td>ARGENTINA</td>\n",
       "    </tr>\n",
       "  </tbody>\n",
       "</table>\n",
       "</div>"
      ],
      "text/plain": [
       "                                            inst_wos  cntry_wos\n",
       "0                                             ANPCyT  ARGENTINA\n",
       "1  Consejo Interinstitucional de Ciencia y Tecnol...  ARGENTINA\n",
       "2  Consejo Nacional de Investigaciones Cientifica...  ARGENTINA\n",
       "3                                             FONCyT  ARGENTINA\n",
       "4                    National University of La Plata  ARGENTINA"
      ]
     },
     "execution_count": 11,
     "metadata": {},
     "output_type": "execute_result"
    }
   ],
   "source": [
    "inst_wos.head()"
   ]
  },
  {
   "cell_type": "code",
   "execution_count": 12,
   "id": "engaging-strain",
   "metadata": {},
   "outputs": [],
   "source": [
    "inst_meta=inst_wos.merge(inst_lili,left_on='inst_wos',right_on='inst_lili',how='left')"
   ]
  },
  {
   "cell_type": "code",
   "execution_count": 13,
   "id": "coral-domestic",
   "metadata": {},
   "outputs": [
    {
     "data": {
      "text/html": [
       "<div>\n",
       "<style scoped>\n",
       "    .dataframe tbody tr th:only-of-type {\n",
       "        vertical-align: middle;\n",
       "    }\n",
       "\n",
       "    .dataframe tbody tr th {\n",
       "        vertical-align: top;\n",
       "    }\n",
       "\n",
       "    .dataframe thead th {\n",
       "        text-align: right;\n",
       "    }\n",
       "</style>\n",
       "<table border=\"1\" class=\"dataframe\">\n",
       "  <thead>\n",
       "    <tr style=\"text-align: right;\">\n",
       "      <th></th>\n",
       "      <th>inst_wos</th>\n",
       "      <th>cntry_wos</th>\n",
       "      <th>inst_lili</th>\n",
       "      <th>cntry</th>\n",
       "    </tr>\n",
       "  </thead>\n",
       "  <tbody>\n",
       "    <tr>\n",
       "      <th>0</th>\n",
       "      <td>ANPCyT</td>\n",
       "      <td>ARGENTINA</td>\n",
       "      <td>NaN</td>\n",
       "      <td>NaN</td>\n",
       "    </tr>\n",
       "    <tr>\n",
       "      <th>1</th>\n",
       "      <td>Consejo Interinstitucional de Ciencia y Tecnol...</td>\n",
       "      <td>ARGENTINA</td>\n",
       "      <td>NaN</td>\n",
       "      <td>NaN</td>\n",
       "    </tr>\n",
       "    <tr>\n",
       "      <th>2</th>\n",
       "      <td>Consejo Nacional de Investigaciones Cientifica...</td>\n",
       "      <td>ARGENTINA</td>\n",
       "      <td>Consejo Nacional de Investigaciones Cientifica...</td>\n",
       "      <td>ARGENTINA</td>\n",
       "    </tr>\n",
       "    <tr>\n",
       "      <th>3</th>\n",
       "      <td>FONCyT</td>\n",
       "      <td>ARGENTINA</td>\n",
       "      <td>FONCyT</td>\n",
       "      <td>ARGENTINA</td>\n",
       "    </tr>\n",
       "    <tr>\n",
       "      <th>4</th>\n",
       "      <td>National University of La Plata</td>\n",
       "      <td>ARGENTINA</td>\n",
       "      <td>National University of La Plata</td>\n",
       "      <td>ARGENTINA</td>\n",
       "    </tr>\n",
       "  </tbody>\n",
       "</table>\n",
       "</div>"
      ],
      "text/plain": [
       "                                            inst_wos  cntry_wos  \\\n",
       "0                                             ANPCyT  ARGENTINA   \n",
       "1  Consejo Interinstitucional de Ciencia y Tecnol...  ARGENTINA   \n",
       "2  Consejo Nacional de Investigaciones Cientifica...  ARGENTINA   \n",
       "3                                             FONCyT  ARGENTINA   \n",
       "4                    National University of La Plata  ARGENTINA   \n",
       "\n",
       "                                           inst_lili      cntry  \n",
       "0                                                NaN        NaN  \n",
       "1                                                NaN        NaN  \n",
       "2  Consejo Nacional de Investigaciones Cientifica...  ARGENTINA  \n",
       "3                                             FONCyT  ARGENTINA  \n",
       "4                    National University of La Plata  ARGENTINA  "
      ]
     },
     "execution_count": 13,
     "metadata": {},
     "output_type": "execute_result"
    }
   ],
   "source": [
    "inst_meta.head()"
   ]
  },
  {
   "cell_type": "code",
   "execution_count": 14,
   "id": "exciting-nutrition",
   "metadata": {},
   "outputs": [],
   "source": [
    "inst_meta.to_csv(\"inst_checking_v2.csv\",index=False)"
   ]
  },
  {
   "cell_type": "code",
   "execution_count": null,
   "id": "modular-tribe",
   "metadata": {},
   "outputs": [],
   "source": []
  }
 ],
 "metadata": {
  "kernelspec": {
   "display_name": "Python 3",
   "language": "python",
   "name": "python3"
  },
  "language_info": {
   "codemirror_mode": {
    "name": "ipython",
    "version": 3
   },
   "file_extension": ".py",
   "mimetype": "text/x-python",
   "name": "python",
   "nbconvert_exporter": "python",
   "pygments_lexer": "ipython3",
   "version": "3.8.10"
  }
 },
 "nbformat": 4,
 "nbformat_minor": 5
}
