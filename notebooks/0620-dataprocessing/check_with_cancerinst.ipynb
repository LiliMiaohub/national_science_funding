{
 "cells": [
  {
   "cell_type": "markdown",
   "id": "stopped-engineer",
   "metadata": {},
   "source": [
    "this script crosscheck the country of the funding institution with the institutions from this paper https://academic.oup.com/jncics/article/3/4/pkz069/5582653"
   ]
  },
  {
   "cell_type": "code",
   "execution_count": 11,
   "id": "artistic-backing",
   "metadata": {},
   "outputs": [],
   "source": [
    "import pandas as pd\n",
    "import re"
   ]
  },
  {
   "cell_type": "code",
   "execution_count": 48,
   "id": "renewable-appliance",
   "metadata": {},
   "outputs": [],
   "source": [
    "inst_lili_path=\"../../data/nf_folder/Data/RawData/Funder_Count.txt\"\n",
    "inst_lili=pd.read_csv(inst_lili_path,sep=\";\",\n",
    "                      error_bad_lines=False,warn_bad_lines=False)"
   ]
  },
  {
   "cell_type": "code",
   "execution_count": 49,
   "id": "found-decade",
   "metadata": {},
   "outputs": [],
   "source": [
    "inst_lili=inst_lili.reset_index()\n",
    "inst_lili.drop(columns='count',inplace=True)\n",
    "inst_lili.columns=['inst','cntry','count']"
   ]
  },
  {
   "cell_type": "code",
   "execution_count": 10,
   "id": "ethical-female",
   "metadata": {},
   "outputs": [
    {
     "data": {
      "text/html": [
       "<div>\n",
       "<style scoped>\n",
       "    .dataframe tbody tr th:only-of-type {\n",
       "        vertical-align: middle;\n",
       "    }\n",
       "\n",
       "    .dataframe tbody tr th {\n",
       "        vertical-align: top;\n",
       "    }\n",
       "\n",
       "    .dataframe thead th {\n",
       "        text-align: right;\n",
       "    }\n",
       "</style>\n",
       "<table border=\"1\" class=\"dataframe\">\n",
       "  <thead>\n",
       "    <tr style=\"text-align: right;\">\n",
       "      <th></th>\n",
       "      <th>org</th>\n",
       "      <th>cntry</th>\n",
       "      <th>count</th>\n",
       "    </tr>\n",
       "  </thead>\n",
       "  <tbody>\n",
       "    <tr>\n",
       "      <th>0</th>\n",
       "      <td>NPRP grant from the Qatar National Research Fund</td>\n",
       "      <td>QATAR</td>\n",
       "      <td>125</td>\n",
       "    </tr>\n",
       "    <tr>\n",
       "      <th>1</th>\n",
       "      <td>Innovative Research Group of Hubei Province</td>\n",
       "      <td>PEOPLES-R-CHINA</td>\n",
       "      <td>68</td>\n",
       "    </tr>\n",
       "    <tr>\n",
       "      <th>2</th>\n",
       "      <td>RPB Physician-Scientist Award</td>\n",
       "      <td>USA</td>\n",
       "      <td>12</td>\n",
       "    </tr>\n",
       "    <tr>\n",
       "      <th>3</th>\n",
       "      <td>OEMT</td>\n",
       "      <td>PEOPLES-R-CHINA</td>\n",
       "      <td>3</td>\n",
       "    </tr>\n",
       "    <tr>\n",
       "      <th>4</th>\n",
       "      <td>NICUS</td>\n",
       "      <td>SPAIN</td>\n",
       "      <td>4</td>\n",
       "    </tr>\n",
       "  </tbody>\n",
       "</table>\n",
       "</div>"
      ],
      "text/plain": [
       "                                                org            cntry  count\n",
       "0  NPRP grant from the Qatar National Research Fund            QATAR    125\n",
       "1       Innovative Research Group of Hubei Province  PEOPLES-R-CHINA     68\n",
       "2                     RPB Physician-Scientist Award              USA     12\n",
       "3                                              OEMT  PEOPLES-R-CHINA      3\n",
       "4                                             NICUS            SPAIN      4"
      ]
     },
     "execution_count": 10,
     "metadata": {},
     "output_type": "execute_result"
    }
   ],
   "source": [
    "inst_lili.head()"
   ]
  },
  {
   "cell_type": "code",
   "execution_count": 19,
   "id": "grand-withdrawal",
   "metadata": {},
   "outputs": [],
   "source": [
    "inst_cancer_path='../../data/nf_folder/Data/RawData/institution_validity/Funding_Cancer.docx'"
   ]
  },
  {
   "cell_type": "code",
   "execution_count": 20,
   "id": "heated-circuit",
   "metadata": {},
   "outputs": [],
   "source": [
    "import docx2txt\n",
    "text = docx2txt.process(inst_cancer_path)"
   ]
  },
  {
   "cell_type": "code",
   "execution_count": 22,
   "id": "middle-chosen",
   "metadata": {},
   "outputs": [
    {
     "data": {
      "text/plain": [
       "str"
      ]
     },
     "execution_count": 22,
     "metadata": {},
     "output_type": "execute_result"
    }
   ],
   "source": [
    "type(text)"
   ]
  },
  {
   "cell_type": "code",
   "execution_count": 43,
   "id": "searching-electricity",
   "metadata": {},
   "outputs": [],
   "source": [
    "rlist=[]\n",
    "for ss in text.split(\"\\n\"):\n",
    "    if len(ss)>0 and \",\" in ss:\n",
    "        s=ss.split(\",\")\n",
    "        cntry=s[-1].strip(\" \")\n",
    "        inst=\",\".join(s[:-1]).strip(' ')\n",
    "        rlist.append([inst,cntry])"
   ]
  },
  {
   "cell_type": "code",
   "execution_count": 57,
   "id": "incident-operations",
   "metadata": {},
   "outputs": [],
   "source": [
    "cancer_df=pd.DataFrame(rlist,columns=['inst_raw','cntry'])"
   ]
  },
  {
   "cell_type": "code",
   "execution_count": 12,
   "id": "present-replication",
   "metadata": {},
   "outputs": [
    {
     "data": {
      "text/plain": [
       "(4737, 2)"
      ]
     },
     "execution_count": 12,
     "metadata": {},
     "output_type": "execute_result"
    }
   ],
   "source": [
    "cancer_df.shape"
   ]
  },
  {
   "cell_type": "code",
   "execution_count": 58,
   "id": "shaped-region",
   "metadata": {},
   "outputs": [],
   "source": [
    "cancer_df['inst']=cancer_df['inst_raw'].apply(lambda x:x.split('-')[0].strip(\" \"))"
   ]
  },
  {
   "cell_type": "code",
   "execution_count": 59,
   "id": "grave-ethnic",
   "metadata": {},
   "outputs": [],
   "source": [
    "inst_meta=cancer_df.merge(inst_lili,on='inst',how='left')"
   ]
  },
  {
   "cell_type": "code",
   "execution_count": 60,
   "id": "sorted-denver",
   "metadata": {},
   "outputs": [],
   "source": [
    "inst_meta=inst_meta.rename(columns={'cntry_x':'cntry_cancer','cntry_y':'cntry_lili'})"
   ]
  },
  {
   "cell_type": "code",
   "execution_count": 64,
   "id": "timely-justice",
   "metadata": {},
   "outputs": [],
   "source": [
    "inst_meta=inst_meta[['inst_raw','inst','cntry_cancer','cntry_lili','count']]\n",
    "inst_meta = inst_meta.sort_values(by='cntry_lili')"
   ]
  },
  {
   "cell_type": "code",
   "execution_count": 67,
   "id": "golden-enlargement",
   "metadata": {},
   "outputs": [],
   "source": [
    "inst_meta.to_excel('inst_checkding_v3.xlsx')"
   ]
  },
  {
   "cell_type": "code",
   "execution_count": 2,
   "id": "coordinated-belarus",
   "metadata": {},
   "outputs": [],
   "source": [
    "inst_ff_path=\"../../data/nf_folder/Data/RawData/institution_validity/funder_country_all.xlsx\"\n",
    "inst_ff=pd.read_excel(inst_ff_path)"
   ]
  },
  {
   "cell_type": "code",
   "execution_count": 3,
   "id": "progressive-weekly",
   "metadata": {},
   "outputs": [],
   "source": [
    "inst_meta=pd.read_excel('inst_checkding_v3.xlsx')"
   ]
  },
  {
   "cell_type": "code",
   "execution_count": 4,
   "id": "concerned-application",
   "metadata": {},
   "outputs": [
    {
     "data": {
      "text/html": [
       "<div>\n",
       "<style scoped>\n",
       "    .dataframe tbody tr th:only-of-type {\n",
       "        vertical-align: middle;\n",
       "    }\n",
       "\n",
       "    .dataframe tbody tr th {\n",
       "        vertical-align: top;\n",
       "    }\n",
       "\n",
       "    .dataframe thead th {\n",
       "        text-align: right;\n",
       "    }\n",
       "</style>\n",
       "<table border=\"1\" class=\"dataframe\">\n",
       "  <thead>\n",
       "    <tr style=\"text-align: right;\">\n",
       "      <th></th>\n",
       "      <th>Unnamed: 0</th>\n",
       "      <th>inst_raw</th>\n",
       "      <th>inst</th>\n",
       "      <th>cntry_cancer</th>\n",
       "      <th>cntry_lili</th>\n",
       "      <th>count</th>\n",
       "      <th>label</th>\n",
       "    </tr>\n",
       "  </thead>\n",
       "  <tbody>\n",
       "    <tr>\n",
       "      <th>0</th>\n",
       "      <td>3047</td>\n",
       "      <td>Shire</td>\n",
       "      <td>Shire</td>\n",
       "      <td>Ireland</td>\n",
       "      <td>ENGLAND</td>\n",
       "      <td>2600.0</td>\n",
       "      <td>0.0</td>\n",
       "    </tr>\n",
       "    <tr>\n",
       "      <th>1</th>\n",
       "      <td>3071</td>\n",
       "      <td>Hutchison Whampoa Limited</td>\n",
       "      <td>Hutchison Whampoa Limited</td>\n",
       "      <td>Japan</td>\n",
       "      <td>ENGLAND</td>\n",
       "      <td>156.0</td>\n",
       "      <td>0.0</td>\n",
       "    </tr>\n",
       "    <tr>\n",
       "      <th>2</th>\n",
       "      <td>1976</td>\n",
       "      <td>Cridlan Fund</td>\n",
       "      <td>Cridlan Fund</td>\n",
       "      <td>USA</td>\n",
       "      <td>ENGLAND</td>\n",
       "      <td>11.0</td>\n",
       "      <td>0.0</td>\n",
       "    </tr>\n",
       "    <tr>\n",
       "      <th>3</th>\n",
       "      <td>2198</td>\n",
       "      <td>Jacqueline Seroussi Memorial Foundation for Ca...</td>\n",
       "      <td>Jacqueline Seroussi Memorial Foundation for Ca...</td>\n",
       "      <td>USA</td>\n",
       "      <td>ENGLAND</td>\n",
       "      <td>15.0</td>\n",
       "      <td>0.0</td>\n",
       "    </tr>\n",
       "    <tr>\n",
       "      <th>4</th>\n",
       "      <td>3659</td>\n",
       "      <td>Transgene</td>\n",
       "      <td>Transgene</td>\n",
       "      <td>USA</td>\n",
       "      <td>FRANCE</td>\n",
       "      <td>31.0</td>\n",
       "      <td>0.0</td>\n",
       "    </tr>\n",
       "  </tbody>\n",
       "</table>\n",
       "</div>"
      ],
      "text/plain": [
       "   Unnamed: 0                                           inst_raw  \\\n",
       "0        3047                                              Shire   \n",
       "1        3071                          Hutchison Whampoa Limited   \n",
       "2        1976                                       Cridlan Fund   \n",
       "3        2198  Jacqueline Seroussi Memorial Foundation for Ca...   \n",
       "4        3659                                          Transgene   \n",
       "\n",
       "                                                inst cntry_cancer cntry_lili  \\\n",
       "0                                              Shire      Ireland    ENGLAND   \n",
       "1                          Hutchison Whampoa Limited        Japan    ENGLAND   \n",
       "2                                       Cridlan Fund          USA    ENGLAND   \n",
       "3  Jacqueline Seroussi Memorial Foundation for Ca...          USA    ENGLAND   \n",
       "4                                          Transgene          USA     FRANCE   \n",
       "\n",
       "    count  label  \n",
       "0  2600.0    0.0  \n",
       "1   156.0    0.0  \n",
       "2    11.0    0.0  \n",
       "3    15.0    0.0  \n",
       "4    31.0    0.0  "
      ]
     },
     "execution_count": 4,
     "metadata": {},
     "output_type": "execute_result"
    }
   ],
   "source": [
    "inst_meta.head()"
   ]
  },
  {
   "cell_type": "code",
   "execution_count": 5,
   "id": "important-pickup",
   "metadata": {},
   "outputs": [],
   "source": [
    "inst_ff=inst_ff[['Organisation','labela']]\n",
    "inst_ff.columns=['inst','proc']"
   ]
  },
  {
   "cell_type": "code",
   "execution_count": 6,
   "id": "overall-completion",
   "metadata": {},
   "outputs": [],
   "source": [
    "inst_meta=inst_meta.merge(inst_ff,on='inst',how='left')"
   ]
  },
  {
   "cell_type": "code",
   "execution_count": 7,
   "id": "remarkable-amendment",
   "metadata": {},
   "outputs": [],
   "source": [
    "inst_meta.to_excel('inst_checking_v3.xlsx',index=False)"
   ]
  },
  {
   "cell_type": "code",
   "execution_count": null,
   "id": "cross-clearance",
   "metadata": {},
   "outputs": [],
   "source": []
  }
 ],
 "metadata": {
  "kernelspec": {
   "display_name": "Python 3 (ipykernel)",
   "language": "python",
   "name": "python3"
  },
  "language_info": {
   "codemirror_mode": {
    "name": "ipython",
    "version": 3
   },
   "file_extension": ".py",
   "mimetype": "text/x-python",
   "name": "python",
   "nbconvert_exporter": "python",
   "pygments_lexer": "ipython3",
   "version": "3.8.16"
  }
 },
 "nbformat": 4,
 "nbformat_minor": 5
}
