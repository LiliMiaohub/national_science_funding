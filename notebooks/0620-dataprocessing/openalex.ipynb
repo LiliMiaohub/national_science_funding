{
 "cells": [
  {
   "cell_type": "code",
   "execution_count": 43,
   "id": "b0e89b5f-7edb-4828-8772-05d03d31a217",
   "metadata": {},
   "outputs": [],
   "source": [
    "import pandas as pd\n",
    "import ujson\n",
    "import gzip\n",
    "import json\n",
    "import pyalex as alex\n",
    "from pyalex import Funders\n",
    "import tqdm"
   ]
  },
  {
   "cell_type": "code",
   "execution_count": 2,
   "id": "948f8591-4140-459e-8e2e-c3bc7ccdf4cb",
   "metadata": {},
   "outputs": [],
   "source": [
    "pyalex.config.email = \"miaoli@iu.edu\""
   ]
  },
  {
   "cell_type": "code",
   "execution_count": 11,
   "id": "c1c56891-0a05-40b9-b38f-7e00499b6f3f",
   "metadata": {},
   "outputs": [],
   "source": [
    "funders, meta = Funders().get(return_meta=True)"
   ]
  },
  {
   "cell_type": "code",
   "execution_count": 12,
   "id": "ffabaf36-e02a-416e-8eb6-c6857899c5b7",
   "metadata": {},
   "outputs": [
    {
     "data": {
      "text/plain": [
       "{'count': 32437, 'db_response_time_ms': 14, 'page': 1, 'per_page': 25}"
      ]
     },
     "execution_count": 12,
     "metadata": {},
     "output_type": "execute_result"
    }
   ],
   "source": [
    "meta"
   ]
  },
  {
   "cell_type": "code",
   "execution_count": 50,
   "id": "9027bf13-9cf6-454b-9b55-c98ce615cb97",
   "metadata": {},
   "outputs": [],
   "source": [
    "pager = Funders().paginate(per_page=200,n_max=None)"
   ]
  },
  {
   "cell_type": "code",
   "execution_count": 51,
   "id": "4edd2af9-5c07-4253-bcd4-21c6dfcb7406",
   "metadata": {},
   "outputs": [],
   "source": [
    "item_list=[]"
   ]
  },
  {
   "cell_type": "code",
   "execution_count": 52,
   "id": "9f5f77f7-df48-4886-80c1-91f7c7295a71",
   "metadata": {},
   "outputs": [
    {
     "name": "stderr",
     "output_type": "stream",
     "text": [
      "163it [00:48,  3.35it/s]\n"
     ]
    }
   ],
   "source": [
    "for page in tqdm.tqdm(pager):\n",
    "    for item in page:\n",
    "        item_list.append(item)"
   ]
  },
  {
   "cell_type": "code",
   "execution_count": 61,
   "id": "14d4bca0-cea6-40b9-a193-e85b108a11d4",
   "metadata": {},
   "outputs": [
    {
     "name": "stdout",
     "output_type": "stream",
     "text": [
      "103821\n"
     ]
    }
   ],
   "source": [
    "n =0\n",
    "for item in item_list:\n",
    "    n = n+len(item['alternate_titles'])\n",
    "n=n+len(item_list)\n",
    "print(n)"
   ]
  },
  {
   "cell_type": "code",
   "execution_count": 54,
   "id": "c45f6ea2-34f9-42ea-b969-7f1b28918d8b",
   "metadata": {},
   "outputs": [],
   "source": [
    "with open(\"output.jsonl\",'w') as file:\n",
    "    for item in item_list:\n",
    "        file.write(json.dumps(item)+\"\\n\")"
   ]
  },
  {
   "cell_type": "code",
   "execution_count": null,
   "id": "35661da1-bb88-4b52-bbc4-6dd8d7b29bdc",
   "metadata": {},
   "outputs": [],
   "source": []
  }
 ],
 "metadata": {
  "kernelspec": {
   "display_name": "Python 3 (ipykernel)",
   "language": "python",
   "name": "python3"
  },
  "language_info": {
   "codemirror_mode": {
    "name": "ipython",
    "version": 3
   },
   "file_extension": ".py",
   "mimetype": "text/x-python",
   "name": "python",
   "nbconvert_exporter": "python",
   "pygments_lexer": "ipython3",
   "version": "3.8.16"
  }
 },
 "nbformat": 4,
 "nbformat_minor": 5
}
