{
 "cells": [
  {
   "cell_type": "code",
   "execution_count": 1,
   "metadata": {},
   "outputs": [],
   "source": [
    "#test the avrage funding ratio of country among collaboration pair"
   ]
  },
  {
   "cell_type": "code",
   "execution_count": 1,
   "metadata": {},
   "outputs": [],
   "source": [
    "import pandas as pd\n",
    "import numpy as np\n",
    "from itertools import product\n",
    "from ast import literal_eval"
   ]
  },
  {
   "cell_type": "code",
   "execution_count": 2,
   "metadata": {},
   "outputs": [
    {
     "name": "stderr",
     "output_type": "stream",
     "text": [
      "/home/miaoli/conda/envs/funding/lib/python3.8/site-packages/IPython/core/interactiveshell.py:3165: DtypeWarning: Columns (2) have mixed types.Specify dtype option on import or set low_memory=False.\n",
      "  has_raised = await self.run_ast_nodes(code_ast.body, cell_name,\n"
     ]
    },
    {
     "data": {
      "text/html": [
       "<div>\n",
       "<style scoped>\n",
       "    .dataframe tbody tr th:only-of-type {\n",
       "        vertical-align: middle;\n",
       "    }\n",
       "\n",
       "    .dataframe tbody tr th {\n",
       "        vertical-align: top;\n",
       "    }\n",
       "\n",
       "    .dataframe thead th {\n",
       "        text-align: right;\n",
       "    }\n",
       "</style>\n",
       "<table border=\"1\" class=\"dataframe\">\n",
       "  <thead>\n",
       "    <tr style=\"text-align: right;\">\n",
       "      <th></th>\n",
       "      <th>id</th>\n",
       "      <th>author_country</th>\n",
       "      <th>funder_country</th>\n",
       "      <th>discipline</th>\n",
       "      <th>year</th>\n",
       "      <th>rel_citation</th>\n",
       "      <th>citation</th>\n",
       "    </tr>\n",
       "  </thead>\n",
       "  <tbody>\n",
       "    <tr>\n",
       "      <th>0</th>\n",
       "      <td>30507292</td>\n",
       "      <td>[Turkey]</td>\n",
       "      <td>[Turkey]</td>\n",
       "      <td>77</td>\n",
       "      <td>2009</td>\n",
       "      <td>0.485</td>\n",
       "      <td>6</td>\n",
       "    </tr>\n",
       "    <tr>\n",
       "      <th>1</th>\n",
       "      <td>30574690</td>\n",
       "      <td>[United States, France]</td>\n",
       "      <td>[United States, United States, United States, ...</td>\n",
       "      <td>83</td>\n",
       "      <td>2009</td>\n",
       "      <td>0.703</td>\n",
       "      <td>9</td>\n",
       "    </tr>\n",
       "    <tr>\n",
       "      <th>2</th>\n",
       "      <td>30574691</td>\n",
       "      <td>[Russia]</td>\n",
       "      <td>[Russia]</td>\n",
       "      <td>83</td>\n",
       "      <td>2009</td>\n",
       "      <td>0.312</td>\n",
       "      <td>4</td>\n",
       "    </tr>\n",
       "    <tr>\n",
       "      <th>3</th>\n",
       "      <td>30585095</td>\n",
       "      <td>[Spain, Spain]</td>\n",
       "      <td>[Spain, Spain, Spain, Spain, Spain, Spain]</td>\n",
       "      <td>89</td>\n",
       "      <td>2009</td>\n",
       "      <td>0.137</td>\n",
       "      <td>1</td>\n",
       "    </tr>\n",
       "    <tr>\n",
       "      <th>4</th>\n",
       "      <td>30585097</td>\n",
       "      <td>[Germany, Spain]</td>\n",
       "      <td>[Spain]</td>\n",
       "      <td>89</td>\n",
       "      <td>2009</td>\n",
       "      <td>0.410</td>\n",
       "      <td>3</td>\n",
       "    </tr>\n",
       "  </tbody>\n",
       "</table>\n",
       "</div>"
      ],
      "text/plain": [
       "         id           author_country  \\\n",
       "0  30507292                 [Turkey]   \n",
       "1  30574690  [United States, France]   \n",
       "2  30574691                 [Russia]   \n",
       "3  30585095           [Spain, Spain]   \n",
       "4  30585097         [Germany, Spain]   \n",
       "\n",
       "                                      funder_country  discipline  year  \\\n",
       "0                                           [Turkey]          77  2009   \n",
       "1  [United States, United States, United States, ...          83  2009   \n",
       "2                                           [Russia]          83  2009   \n",
       "3         [Spain, Spain, Spain, Spain, Spain, Spain]          89  2009   \n",
       "4                                            [Spain]          89  2009   \n",
       "\n",
       "   rel_citation  citation  \n",
       "0         0.485         6  \n",
       "1         0.703         9  \n",
       "2         0.312         4  \n",
       "3         0.137         1  \n",
       "4         0.410         3  "
      ]
     },
     "execution_count": 2,
     "metadata": {},
     "output_type": "execute_result"
    }
   ],
   "source": [
    "pubs_author_funder = pd.read_csv(\"..//..//data//dropbox//Data//DerivedData//CleanedRawData//pubs_author_funder.csv\")\n",
    "pubs_author_funder['author_country'] = pubs_author_funder['author_country'].apply(literal_eval)\n",
    "pubs_author_funder['funder_country'] = pubs_author_funder['funder_country'].apply(\n",
    "    lambda x: literal_eval(x) if pd.notnull(x) else \"Not-Funded\")\n",
    "pubs_author_funder.head()"
   ]
  },
  {
   "cell_type": "code",
   "execution_count": 3,
   "metadata": {},
   "outputs": [
    {
     "data": {
      "text/html": [
       "<div>\n",
       "<style scoped>\n",
       "    .dataframe tbody tr th:only-of-type {\n",
       "        vertical-align: middle;\n",
       "    }\n",
       "\n",
       "    .dataframe tbody tr th {\n",
       "        vertical-align: top;\n",
       "    }\n",
       "\n",
       "    .dataframe thead th {\n",
       "        text-align: right;\n",
       "    }\n",
       "</style>\n",
       "<table border=\"1\" class=\"dataframe\">\n",
       "  <thead>\n",
       "    <tr style=\"text-align: right;\">\n",
       "      <th></th>\n",
       "      <th>id</th>\n",
       "      <th>author_country</th>\n",
       "      <th>funder_country</th>\n",
       "      <th>discipline</th>\n",
       "      <th>year</th>\n",
       "      <th>rel_citation</th>\n",
       "      <th>citation</th>\n",
       "      <th>author_disct</th>\n",
       "      <th>coll</th>\n",
       "    </tr>\n",
       "  </thead>\n",
       "  <tbody>\n",
       "    <tr>\n",
       "      <th>0</th>\n",
       "      <td>30507292</td>\n",
       "      <td>[Turkey]</td>\n",
       "      <td>[Turkey]</td>\n",
       "      <td>77</td>\n",
       "      <td>2009</td>\n",
       "      <td>0.485</td>\n",
       "      <td>6</td>\n",
       "      <td>Turkey</td>\n",
       "      <td>0</td>\n",
       "    </tr>\n",
       "    <tr>\n",
       "      <th>1</th>\n",
       "      <td>30574690</td>\n",
       "      <td>[United States, France]</td>\n",
       "      <td>[United States, United States, United States, ...</td>\n",
       "      <td>83</td>\n",
       "      <td>2009</td>\n",
       "      <td>0.703</td>\n",
       "      <td>9</td>\n",
       "      <td>United States</td>\n",
       "      <td>1</td>\n",
       "    </tr>\n",
       "    <tr>\n",
       "      <th>1</th>\n",
       "      <td>30574690</td>\n",
       "      <td>[United States, France]</td>\n",
       "      <td>[United States, United States, United States, ...</td>\n",
       "      <td>83</td>\n",
       "      <td>2009</td>\n",
       "      <td>0.703</td>\n",
       "      <td>9</td>\n",
       "      <td>France</td>\n",
       "      <td>1</td>\n",
       "    </tr>\n",
       "    <tr>\n",
       "      <th>2</th>\n",
       "      <td>30574691</td>\n",
       "      <td>[Russia]</td>\n",
       "      <td>[Russia]</td>\n",
       "      <td>83</td>\n",
       "      <td>2009</td>\n",
       "      <td>0.312</td>\n",
       "      <td>4</td>\n",
       "      <td>Russia</td>\n",
       "      <td>0</td>\n",
       "    </tr>\n",
       "    <tr>\n",
       "      <th>3</th>\n",
       "      <td>30585095</td>\n",
       "      <td>[Spain, Spain]</td>\n",
       "      <td>[Spain, Spain, Spain, Spain, Spain, Spain]</td>\n",
       "      <td>89</td>\n",
       "      <td>2009</td>\n",
       "      <td>0.137</td>\n",
       "      <td>1</td>\n",
       "      <td>Spain</td>\n",
       "      <td>0</td>\n",
       "    </tr>\n",
       "  </tbody>\n",
       "</table>\n",
       "</div>"
      ],
      "text/plain": [
       "         id           author_country  \\\n",
       "0  30507292                 [Turkey]   \n",
       "1  30574690  [United States, France]   \n",
       "1  30574690  [United States, France]   \n",
       "2  30574691                 [Russia]   \n",
       "3  30585095           [Spain, Spain]   \n",
       "\n",
       "                                      funder_country  discipline  year  \\\n",
       "0                                           [Turkey]          77  2009   \n",
       "1  [United States, United States, United States, ...          83  2009   \n",
       "1  [United States, United States, United States, ...          83  2009   \n",
       "2                                           [Russia]          83  2009   \n",
       "3         [Spain, Spain, Spain, Spain, Spain, Spain]          89  2009   \n",
       "\n",
       "   rel_citation  citation   author_disct  coll  \n",
       "0         0.485         6         Turkey     0  \n",
       "1         0.703         9  United States     1  \n",
       "1         0.703         9         France     1  \n",
       "2         0.312         4         Russia     0  \n",
       "3         0.137         1          Spain     0  "
      ]
     },
     "execution_count": 3,
     "metadata": {},
     "output_type": "execute_result"
    }
   ],
   "source": [
    "pubs_author_funder['author_disct']=pubs_author_funder['author_country'].apply(lambda x:list(set(x)))\n",
    "pubs_author_funder['coll']=pubs_author_funder['author_disct'].apply(\n",
    "    lambda x:1 if len(x)>1 else 0)\n",
    "author_df=pubs_author_funder.explode('author_disct')\n",
    "author_df.head()"
   ]
  },
  {
   "cell_type": "code",
   "execution_count": 4,
   "metadata": {},
   "outputs": [
    {
     "data": {
      "text/plain": [
       "array(['United States', 'China', 'Germany', 'United Kingdom', 'Japan',\n",
       "       'France', 'Italy', 'India', 'Canada', 'South Korea'], dtype=object)"
      ]
     },
     "execution_count": 4,
     "metadata": {},
     "output_type": "execute_result"
    }
   ],
   "source": [
    "cntry_cnt=author_df.groupby('author_disct').size().reset_index(name='count')\n",
    "top10=cntry_cnt.sort_values(by='count',ascending=False).head(10)['author_disct'].values\n",
    "top10"
   ]
  },
  {
   "cell_type": "code",
   "execution_count": 5,
   "metadata": {},
   "outputs": [
    {
     "data": {
      "text/html": [
       "<div>\n",
       "<style scoped>\n",
       "    .dataframe tbody tr th:only-of-type {\n",
       "        vertical-align: middle;\n",
       "    }\n",
       "\n",
       "    .dataframe tbody tr th {\n",
       "        vertical-align: top;\n",
       "    }\n",
       "\n",
       "    .dataframe thead th {\n",
       "        text-align: right;\n",
       "    }\n",
       "</style>\n",
       "<table border=\"1\" class=\"dataframe\">\n",
       "  <thead>\n",
       "    <tr style=\"text-align: right;\">\n",
       "      <th></th>\n",
       "      <th>id</th>\n",
       "      <th>author_country</th>\n",
       "      <th>funder_country</th>\n",
       "      <th>discipline</th>\n",
       "      <th>year</th>\n",
       "      <th>rel_citation</th>\n",
       "      <th>citation</th>\n",
       "      <th>author_disct</th>\n",
       "      <th>coll</th>\n",
       "    </tr>\n",
       "  </thead>\n",
       "  <tbody>\n",
       "    <tr>\n",
       "      <th>1</th>\n",
       "      <td>30574690</td>\n",
       "      <td>[United States, France]</td>\n",
       "      <td>[United States, United States, United States, ...</td>\n",
       "      <td>83</td>\n",
       "      <td>2009</td>\n",
       "      <td>0.703</td>\n",
       "      <td>9</td>\n",
       "      <td>United States</td>\n",
       "      <td>1</td>\n",
       "    </tr>\n",
       "    <tr>\n",
       "      <th>1</th>\n",
       "      <td>30574690</td>\n",
       "      <td>[United States, France]</td>\n",
       "      <td>[United States, United States, United States, ...</td>\n",
       "      <td>83</td>\n",
       "      <td>2009</td>\n",
       "      <td>0.703</td>\n",
       "      <td>9</td>\n",
       "      <td>France</td>\n",
       "      <td>1</td>\n",
       "    </tr>\n",
       "    <tr>\n",
       "      <th>4</th>\n",
       "      <td>30585097</td>\n",
       "      <td>[Germany, Spain]</td>\n",
       "      <td>[Spain]</td>\n",
       "      <td>89</td>\n",
       "      <td>2009</td>\n",
       "      <td>0.410</td>\n",
       "      <td>3</td>\n",
       "      <td>Germany</td>\n",
       "      <td>1</td>\n",
       "    </tr>\n",
       "    <tr>\n",
       "      <th>7</th>\n",
       "      <td>30585103</td>\n",
       "      <td>[United Kingdom, Ireland, United Kingdom]</td>\n",
       "      <td>[Ireland]</td>\n",
       "      <td>89</td>\n",
       "      <td>2009</td>\n",
       "      <td>0.957</td>\n",
       "      <td>7</td>\n",
       "      <td>United Kingdom</td>\n",
       "      <td>1</td>\n",
       "    </tr>\n",
       "    <tr>\n",
       "      <th>9</th>\n",
       "      <td>30585105</td>\n",
       "      <td>[Canada, United States]</td>\n",
       "      <td>[Canada]</td>\n",
       "      <td>89</td>\n",
       "      <td>2009</td>\n",
       "      <td>0.000</td>\n",
       "      <td>0</td>\n",
       "      <td>United States</td>\n",
       "      <td>1</td>\n",
       "    </tr>\n",
       "  </tbody>\n",
       "</table>\n",
       "</div>"
      ],
      "text/plain": [
       "         id                             author_country  \\\n",
       "1  30574690                    [United States, France]   \n",
       "1  30574690                    [United States, France]   \n",
       "4  30585097                           [Germany, Spain]   \n",
       "7  30585103  [United Kingdom, Ireland, United Kingdom]   \n",
       "9  30585105                    [Canada, United States]   \n",
       "\n",
       "                                      funder_country  discipline  year  \\\n",
       "1  [United States, United States, United States, ...          83  2009   \n",
       "1  [United States, United States, United States, ...          83  2009   \n",
       "4                                            [Spain]          89  2009   \n",
       "7                                          [Ireland]          89  2009   \n",
       "9                                           [Canada]          89  2009   \n",
       "\n",
       "   rel_citation  citation    author_disct  coll  \n",
       "1         0.703         9   United States     1  \n",
       "1         0.703         9          France     1  \n",
       "4         0.410         3         Germany     1  \n",
       "7         0.957         7  United Kingdom     1  \n",
       "9         0.000         0   United States     1  "
      ]
     },
     "execution_count": 5,
     "metadata": {},
     "output_type": "execute_result"
    }
   ],
   "source": [
    "top10_df=author_df[(author_df.author_disct.isin(top10))&(author_df.coll==1)]\n",
    "top10_df.head()"
   ]
  },
  {
   "cell_type": "code",
   "execution_count": 6,
   "metadata": {},
   "outputs": [
    {
     "name": "stderr",
     "output_type": "stream",
     "text": [
      "<ipython-input-6-7a9a940d1130>:12: SettingWithCopyWarning: \n",
      "A value is trying to be set on a copy of a slice from a DataFrame.\n",
      "Try using .loc[row_indexer,col_indexer] = value instead\n",
      "\n",
      "See the caveats in the documentation: https://pandas.pydata.org/pandas-docs/stable/user_guide/indexing.html#returning-a-view-versus-a-copy\n",
      "  top10_df['type']=top10_df.apply(lambda x:type(x['funder_country'],x['author_disct']),axis=1)\n"
     ]
    }
   ],
   "source": [
    "def type(funderlist,author_cntry):\n",
    "    funderlist=list(set(funderlist))\n",
    "    label='others'\n",
    "    \n",
    "    if len(funderlist)>1:\n",
    "        if author_cntry in funderlist:\n",
    "            label='cofund'\n",
    "    else:\n",
    "        if author_cntry in funderlist:\n",
    "            label='single'\n",
    "    return label\n",
    "top10_df['type']=top10_df.apply(lambda x:type(x['funder_country'],x['author_disct']),axis=1)"
   ]
  },
  {
   "cell_type": "code",
   "execution_count": 7,
   "metadata": {},
   "outputs": [
    {
     "data": {
      "text/html": [
       "<div>\n",
       "<style scoped>\n",
       "    .dataframe tbody tr th:only-of-type {\n",
       "        vertical-align: middle;\n",
       "    }\n",
       "\n",
       "    .dataframe tbody tr th {\n",
       "        vertical-align: top;\n",
       "    }\n",
       "\n",
       "    .dataframe thead th {\n",
       "        text-align: right;\n",
       "    }\n",
       "</style>\n",
       "<table border=\"1\" class=\"dataframe\">\n",
       "  <thead>\n",
       "    <tr style=\"text-align: right;\">\n",
       "      <th></th>\n",
       "      <th>type</th>\n",
       "      <th>ratio</th>\n",
       "    </tr>\n",
       "    <tr>\n",
       "      <th>author_disct</th>\n",
       "      <th></th>\n",
       "      <th></th>\n",
       "    </tr>\n",
       "  </thead>\n",
       "  <tbody>\n",
       "    <tr>\n",
       "      <th>United States</th>\n",
       "      <td>cofund</td>\n",
       "      <td>0.268327</td>\n",
       "    </tr>\n",
       "    <tr>\n",
       "      <th>China</th>\n",
       "      <td>cofund</td>\n",
       "      <td>0.265371</td>\n",
       "    </tr>\n",
       "    <tr>\n",
       "      <th>Germany</th>\n",
       "      <td>cofund</td>\n",
       "      <td>0.241716</td>\n",
       "    </tr>\n",
       "    <tr>\n",
       "      <th>United Kingdom</th>\n",
       "      <td>cofund</td>\n",
       "      <td>0.236072</td>\n",
       "    </tr>\n",
       "    <tr>\n",
       "      <th>Japan</th>\n",
       "      <td>cofund</td>\n",
       "      <td>0.215155</td>\n",
       "    </tr>\n",
       "  </tbody>\n",
       "</table>\n",
       "</div>"
      ],
      "text/plain": [
       "                  type     ratio\n",
       "author_disct                    \n",
       "United States   cofund  0.268327\n",
       "China           cofund  0.265371\n",
       "Germany         cofund  0.241716\n",
       "United Kingdom  cofund  0.236072\n",
       "Japan           cofund  0.215155"
      ]
     },
     "execution_count": 7,
     "metadata": {},
     "output_type": "execute_result"
    }
   ],
   "source": [
    "cntry_cnt = top10_df.groupby(['author_disct','type']).size().reset_index(name='count')\n",
    "cntry_cnt=cntry_cnt.pivot_table(index='author_disct',columns='type',values='count')\n",
    "cntry_cnt = cntry_cnt.div(cntry_cnt.sum(axis=1), axis=0)\n",
    "cntry_cnt=cntry_cnt.reindex(top10)\n",
    "cntry_cnt=pd.melt(cntry_cnt,var_name='type',value_name='ratio',ignore_index=False)\n",
    "cntry_cnt.head()"
   ]
  },
  {
   "cell_type": "code",
   "execution_count": 10,
   "metadata": {},
   "outputs": [],
   "source": [
    "cntry_cnt=cntry_cnt.reset_index()"
   ]
  },
  {
   "cell_type": "code",
   "execution_count": 16,
   "metadata": {},
   "outputs": [],
   "source": [
    "cntry_cnt=cntry_cnt[cntry_cnt.type!='others']"
   ]
  },
  {
   "cell_type": "code",
   "execution_count": 23,
   "metadata": {},
   "outputs": [
    {
     "data": {
      "image/png": "[encoded data removed]",
      "text/plain": [
       "<Figure size 432x288 with 1 Axes>"
      ]
     },
     "metadata": {
      "needs_background": "light"
     },
     "output_type": "display_data"
    }
   ],
   "source": [
    "sns.barplot(x='author_disct',y='ratio',hue=\"type\",data=cntry_cnt)\n",
    "plt.xticks(rotation=\"45\",ha='right')\n",
    "plt.savefig(\"collaboration.png\",bbox_inches=\"tight\")"
   ]
  },
  {
   "cell_type": "code",
   "execution_count": null,
   "metadata": {},
   "outputs": [],
   "source": []
  },
  {
   "cell_type": "code",
   "execution_count": 19,
   "metadata": {},
   "outputs": [],
   "source": [
    "import matplotlib.pyplot as plt"
   ]
  },
  {
   "cell_type": "code",
   "execution_count": null,
   "metadata": {},
   "outputs": [],
   "source": []
  }
 ],
 "metadata": {
  "kernelspec": {
   "display_name": "Python 3",
   "language": "python",
   "name": "python3"
  },
  "language_info": {
   "codemirror_mode": {
    "name": "ipython",
    "version": 3
   },
   "file_extension": ".py",
   "mimetype": "text/x-python",
   "name": "python",
   "nbconvert_exporter": "python",
   "pygments_lexer": "ipython3",
   "version": "3.8.10"
  }
 },
 "nbformat": 4,
 "nbformat_minor": 4
}
