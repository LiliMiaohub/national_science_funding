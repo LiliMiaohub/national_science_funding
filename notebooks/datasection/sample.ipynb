{
 "cells": [
  {
   "cell_type": "markdown",
   "id": "accessible-astronomy",
   "metadata": {},
   "source": [
    "### this script samples from the funder list to check the accuracy of the identification"
   ]
  },
  {
   "cell_type": "code",
   "execution_count": 1,
   "id": "apparent-server",
   "metadata": {},
   "outputs": [],
   "source": [
    "import pandas as pd\n",
    "import numpy as np"
   ]
  },
  {
   "cell_type": "code",
   "execution_count": 2,
   "id": "macro-separate",
   "metadata": {},
   "outputs": [],
   "source": [
    "fundall_path=\"../../data/nf_folder/Data/RawData/funder_country_all.xlsx\"\n",
    "funders_path=\"../../data/nf_folder/Data/RawData/Funder_Count.txt\""
   ]
  },
  {
   "cell_type": "code",
   "execution_count": 27,
   "id": "north-brazilian",
   "metadata": {},
   "outputs": [],
   "source": [
    "inst_sample_path='../../data/nf_folder/Data/RawData/inst_sample.xlsx'"
   ]
  },
  {
   "cell_type": "code",
   "execution_count": 4,
   "id": "armed-class",
   "metadata": {},
   "outputs": [
    {
     "data": {
      "text/html": [
       "<div>\n",
       "<style scoped>\n",
       "    .dataframe tbody tr th:only-of-type {\n",
       "        vertical-align: middle;\n",
       "    }\n",
       "\n",
       "    .dataframe tbody tr th {\n",
       "        vertical-align: top;\n",
       "    }\n",
       "\n",
       "    .dataframe thead th {\n",
       "        text-align: right;\n",
       "    }\n",
       "</style>\n",
       "<table border=\"1\" class=\"dataframe\">\n",
       "  <thead>\n",
       "    <tr style=\"text-align: right;\">\n",
       "      <th></th>\n",
       "      <th>labela</th>\n",
       "      <th>labelb</th>\n",
       "      <th>ID</th>\n",
       "      <th>Organisation</th>\n",
       "      <th>Art_Num</th>\n",
       "      <th>Country</th>\n",
       "      <th>Multi_Co</th>\n",
       "    </tr>\n",
       "  </thead>\n",
       "  <tbody>\n",
       "    <tr>\n",
       "      <th>0</th>\n",
       "      <td>p1</td>\n",
       "      <td>1</td>\n",
       "      <td>1</td>\n",
       "      <td>National Natural Science Foundation of China</td>\n",
       "      <td>1944785</td>\n",
       "      <td>PEOPLES-R-CHINA</td>\n",
       "      <td>NaN</td>\n",
       "    </tr>\n",
       "    <tr>\n",
       "      <th>1</th>\n",
       "      <td>p1</td>\n",
       "      <td>1</td>\n",
       "      <td>2</td>\n",
       "      <td>National Institutes of Health</td>\n",
       "      <td>430526</td>\n",
       "      <td>USA</td>\n",
       "      <td>NaN</td>\n",
       "    </tr>\n",
       "    <tr>\n",
       "      <th>2</th>\n",
       "      <td>p1</td>\n",
       "      <td>1</td>\n",
       "      <td>3</td>\n",
       "      <td>NIH</td>\n",
       "      <td>424095</td>\n",
       "      <td>USA</td>\n",
       "      <td>NaN</td>\n",
       "    </tr>\n",
       "    <tr>\n",
       "      <th>3</th>\n",
       "      <td>p1</td>\n",
       "      <td>1</td>\n",
       "      <td>4</td>\n",
       "      <td>National Science Foundation</td>\n",
       "      <td>316781</td>\n",
       "      <td>USA</td>\n",
       "      <td>NaN</td>\n",
       "    </tr>\n",
       "    <tr>\n",
       "      <th>4</th>\n",
       "      <td>p1</td>\n",
       "      <td>1</td>\n",
       "      <td>5</td>\n",
       "      <td>NSF</td>\n",
       "      <td>248838</td>\n",
       "      <td>USA</td>\n",
       "      <td>NaN</td>\n",
       "    </tr>\n",
       "  </tbody>\n",
       "</table>\n",
       "</div>"
      ],
      "text/plain": [
       "  labela  labelb  ID                                  Organisation  Art_Num  \\\n",
       "0     p1       1   1  National Natural Science Foundation of China  1944785   \n",
       "1     p1       1   2                 National Institutes of Health   430526   \n",
       "2     p1       1   3                                           NIH   424095   \n",
       "3     p1       1   4                   National Science Foundation   316781   \n",
       "4     p1       1   5                                           NSF   248838   \n",
       "\n",
       "           Country Multi_Co  \n",
       "0  PEOPLES-R-CHINA      NaN  \n",
       "1              USA      NaN  \n",
       "2              USA      NaN  \n",
       "3              USA      NaN  \n",
       "4              USA      NaN  "
      ]
     },
     "execution_count": 4,
     "metadata": {},
     "output_type": "execute_result"
    }
   ],
   "source": [
    "fundall=pd.read_excel(fundall_path)\n",
    "fundall.head()"
   ]
  },
  {
   "cell_type": "code",
   "execution_count": 20,
   "id": "patient-equality",
   "metadata": {},
   "outputs": [
    {
     "data": {
      "text/plain": [
       "array([1, 0])"
      ]
     },
     "execution_count": 20,
     "metadata": {},
     "output_type": "execute_result"
    }
   ],
   "source": [
    "fundall.labelb.unique()"
   ]
  },
  {
   "cell_type": "code",
   "execution_count": 6,
   "id": "limiting-award",
   "metadata": {},
   "outputs": [],
   "source": [
    "funders=pd.read_csv(funders_path, sep=\";\", \n",
    "                    error_bad_lines=False, warn_bad_lines=False,skiprows=1)"
   ]
  },
  {
   "cell_type": "code",
   "execution_count": 13,
   "id": "illegal-curtis",
   "metadata": {},
   "outputs": [
    {
     "data": {
      "text/html": [
       "<div>\n",
       "<style scoped>\n",
       "    .dataframe tbody tr th:only-of-type {\n",
       "        vertical-align: middle;\n",
       "    }\n",
       "\n",
       "    .dataframe tbody tr th {\n",
       "        vertical-align: top;\n",
       "    }\n",
       "\n",
       "    .dataframe thead th {\n",
       "        text-align: right;\n",
       "    }\n",
       "</style>\n",
       "<table border=\"1\" class=\"dataframe\">\n",
       "  <thead>\n",
       "    <tr style=\"text-align: right;\">\n",
       "      <th></th>\n",
       "      <th>org</th>\n",
       "      <th>cntry</th>\n",
       "      <th>count</th>\n",
       "    </tr>\n",
       "  </thead>\n",
       "  <tbody>\n",
       "    <tr>\n",
       "      <th>0</th>\n",
       "      <td>Innovative Research Group of Hubei Province</td>\n",
       "      <td>PEOPLES-R-CHINA</td>\n",
       "      <td>68</td>\n",
       "    </tr>\n",
       "    <tr>\n",
       "      <th>1</th>\n",
       "      <td>RPB Physician-Scientist Award</td>\n",
       "      <td>USA</td>\n",
       "      <td>12</td>\n",
       "    </tr>\n",
       "    <tr>\n",
       "      <th>2</th>\n",
       "      <td>OEMT</td>\n",
       "      <td>PEOPLES-R-CHINA</td>\n",
       "      <td>3</td>\n",
       "    </tr>\n",
       "    <tr>\n",
       "      <th>3</th>\n",
       "      <td>NICUS</td>\n",
       "      <td>SPAIN</td>\n",
       "      <td>4</td>\n",
       "    </tr>\n",
       "    <tr>\n",
       "      <th>4</th>\n",
       "      <td>Faculdade de Farmacia</td>\n",
       "      <td>BRAZIL</td>\n",
       "      <td>4</td>\n",
       "    </tr>\n",
       "  </tbody>\n",
       "</table>\n",
       "</div>"
      ],
      "text/plain": [
       "                                           org            cntry  count\n",
       "0  Innovative Research Group of Hubei Province  PEOPLES-R-CHINA     68\n",
       "1                RPB Physician-Scientist Award              USA     12\n",
       "2                                         OEMT  PEOPLES-R-CHINA      3\n",
       "3                                        NICUS            SPAIN      4\n",
       "4                        Faculdade de Farmacia           BRAZIL      4"
      ]
     },
     "execution_count": 13,
     "metadata": {},
     "output_type": "execute_result"
    }
   ],
   "source": [
    "funders=funders.iloc[:,0:3]\n",
    "funders.columns=['org','cntry','count']\n",
    "funders.head()"
   ]
  },
  {
   "cell_type": "code",
   "execution_count": 21,
   "id": "unlike-short",
   "metadata": {},
   "outputs": [],
   "source": [
    "funders=funders.merge(fundall[['labela','Organisation']],left_on='org',right_on='Organisation')"
   ]
  },
  {
   "cell_type": "code",
   "execution_count": 23,
   "id": "quantitative-behavior",
   "metadata": {},
   "outputs": [
    {
     "data": {
      "text/html": [
       "<div>\n",
       "<style scoped>\n",
       "    .dataframe tbody tr th:only-of-type {\n",
       "        vertical-align: middle;\n",
       "    }\n",
       "\n",
       "    .dataframe tbody tr th {\n",
       "        vertical-align: top;\n",
       "    }\n",
       "\n",
       "    .dataframe thead th {\n",
       "        text-align: right;\n",
       "    }\n",
       "</style>\n",
       "<table border=\"1\" class=\"dataframe\">\n",
       "  <thead>\n",
       "    <tr style=\"text-align: right;\">\n",
       "      <th></th>\n",
       "      <th>org</th>\n",
       "      <th>cntry</th>\n",
       "      <th>count</th>\n",
       "      <th>labela</th>\n",
       "    </tr>\n",
       "  </thead>\n",
       "  <tbody>\n",
       "    <tr>\n",
       "      <th>0</th>\n",
       "      <td>Innovative Research Group of Hubei Province</td>\n",
       "      <td>PEOPLES-R-CHINA</td>\n",
       "      <td>68</td>\n",
       "      <td>p2</td>\n",
       "    </tr>\n",
       "    <tr>\n",
       "      <th>1</th>\n",
       "      <td>RPB Physician-Scientist Award</td>\n",
       "      <td>USA</td>\n",
       "      <td>12</td>\n",
       "      <td>p2</td>\n",
       "    </tr>\n",
       "    <tr>\n",
       "      <th>2</th>\n",
       "      <td>OEMT</td>\n",
       "      <td>PEOPLES-R-CHINA</td>\n",
       "      <td>3</td>\n",
       "      <td>p2</td>\n",
       "    </tr>\n",
       "    <tr>\n",
       "      <th>3</th>\n",
       "      <td>NICUS</td>\n",
       "      <td>SPAIN</td>\n",
       "      <td>4</td>\n",
       "      <td>p2</td>\n",
       "    </tr>\n",
       "    <tr>\n",
       "      <th>4</th>\n",
       "      <td>Faculdade de Farmacia</td>\n",
       "      <td>BRAZIL</td>\n",
       "      <td>4</td>\n",
       "      <td>p2</td>\n",
       "    </tr>\n",
       "  </tbody>\n",
       "</table>\n",
       "</div>"
      ],
      "text/plain": [
       "                                           org            cntry  count labela\n",
       "0  Innovative Research Group of Hubei Province  PEOPLES-R-CHINA     68     p2\n",
       "1                RPB Physician-Scientist Award              USA     12     p2\n",
       "2                                         OEMT  PEOPLES-R-CHINA      3     p2\n",
       "3                                        NICUS            SPAIN      4     p2\n",
       "4                        Faculdade de Farmacia           BRAZIL      4     p2"
      ]
     },
     "execution_count": 23,
     "metadata": {},
     "output_type": "execute_result"
    }
   ],
   "source": [
    "funders=funders.drop(columns=['Organisation'])\n",
    "funders.head()"
   ]
  },
  {
   "cell_type": "code",
   "execution_count": null,
   "id": "municipal-puppy",
   "metadata": {},
   "outputs": [],
   "source": [
    "\n",
    "    # use to_excel function and specify the sheet_name and index\n",
    "    # to store the dataframe in specified sheet\n",
    "    data_frame1.to_excel(writer, sheet_name=\"Fruits\", index=False)"
   ]
  },
  {
   "cell_type": "code",
   "execution_count": 28,
   "id": "processed-sharp",
   "metadata": {},
   "outputs": [],
   "source": [
    "cntrys=['USA','PEOPLES-R-CHINA']\n",
    "with pd.ExcelWriter(inst_sample_path) as writer:\n",
    "    for c in cntrys:\n",
    "        df=funders[funders.cntry==c]\n",
    "        df=df.sample(n=100)\n",
    "        df.to_excel(writer,sheet_name=c,index=False)"
   ]
  },
  {
   "cell_type": "code",
   "execution_count": null,
   "id": "natural-disposal",
   "metadata": {},
   "outputs": [],
   "source": []
  }
 ],
 "metadata": {
  "kernelspec": {
   "display_name": "Python 3",
   "language": "python",
   "name": "python3"
  },
  "language_info": {
   "codemirror_mode": {
    "name": "ipython",
    "version": 3
   },
   "file_extension": ".py",
   "mimetype": "text/x-python",
   "name": "python",
   "nbconvert_exporter": "python",
   "pygments_lexer": "ipython3",
   "version": "3.8.10"
  }
 },
 "nbformat": 4,
 "nbformat_minor": 5
}
