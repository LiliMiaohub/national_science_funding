{
 "cells": [
  {
   "cell_type": "code",
   "execution_count": 4,
   "id": "70f66fba-dd8c-4afd-8f36-d94e794b8779",
   "metadata": {},
   "outputs": [],
   "source": [
    "import pandas as pd\n",
    "import numpy as np\n",
    "import seaborn as sns\n",
    "from scipy import stats"
   ]
  },
  {
   "cell_type": "code",
   "execution_count": 28,
   "id": "a310a543-07ee-409e-b090-e1e877eb27f8",
   "metadata": {},
   "outputs": [],
   "source": [
    "def estimate_ci_bootstrapping(negative, positive, num_iterations=1000,z=1.96):\n",
    "    data = np.concatenate([np.ones(negative),np.zeros(positive)])\n",
    "    bootstrap_samples = np.random.choice(a=data, size=(num_iterations, len(data)), replace=True)\n",
    "    negative_rate = np.mean(bootstrap_samples, axis=1)\n",
    "    mean_of_negative_rate = np.mean(negative_rate)\n",
    "    sem_of_negative_rate = stats.sem(negative_rate)\n",
    "    return mean_of_negative_rate, mean_of_negative_rate-1.96*sem_of_negative_rate, mean_of_negative_rate+1.96*sem_of_negative_rate"
   ]
  },
  {
   "cell_type": "markdown",
   "id": "313803f5-42f3-413d-939b-d91779b1bdea",
   "metadata": {},
   "source": [
    "#### get the first part of the sampling results by extract the us and china cases from the sampling of the whole database"
   ]
  },
  {
   "cell_type": "code",
   "execution_count": 2,
   "id": "7ac84586-8621-4486-9cf6-1d275bef0cb4",
   "metadata": {},
   "outputs": [],
   "source": [
    "result_path = \"../../data/NationalFunding/Data/RobustCheck/check_09_and_18/funding_year_check_result.xlsx\"\n",
    "pub_path = \"../../data/NationalFunding/Data/RobustCheck/check_09_and_18/funding_year_check.txt\""
   ]
  },
  {
   "cell_type": "code",
   "execution_count": 6,
   "id": "11d72a33-bf5b-4db4-a716-9153c681e6f5",
   "metadata": {},
   "outputs": [
    {
     "data": {
      "text/html": [
       "<div>\n",
       "<style scoped>\n",
       "    .dataframe tbody tr th:only-of-type {\n",
       "        vertical-align: middle;\n",
       "    }\n",
       "\n",
       "    .dataframe tbody tr th {\n",
       "        vertical-align: top;\n",
       "    }\n",
       "\n",
       "    .dataframe thead th {\n",
       "        text-align: right;\n",
       "    }\n",
       "</style>\n",
       "<table border=\"1\" class=\"dataframe\">\n",
       "  <thead>\n",
       "    <tr style=\"text-align: right;\">\n",
       "      <th></th>\n",
       "      <th>ost_bk</th>\n",
       "      <th>ut</th>\n",
       "      <th>year</th>\n",
       "      <th>title</th>\n",
       "      <th>label</th>\n",
       "    </tr>\n",
       "  </thead>\n",
       "  <tbody>\n",
       "    <tr>\n",
       "      <th>0</th>\n",
       "      <td>65041047</td>\n",
       "      <td>WOS:000265236000001</td>\n",
       "      <td>2009</td>\n",
       "      <td>Symbolic Computations and Exact and Explicit S...</td>\n",
       "      <td>0.0</td>\n",
       "    </tr>\n",
       "    <tr>\n",
       "      <th>1</th>\n",
       "      <td>32590270</td>\n",
       "      <td>WOS:000266300300033</td>\n",
       "      <td>2009</td>\n",
       "      <td>Experiencing the pediatric intensive care unit...</td>\n",
       "      <td>0.0</td>\n",
       "    </tr>\n",
       "  </tbody>\n",
       "</table>\n",
       "</div>"
      ],
      "text/plain": [
       "     ost_bk                   ut  year   \n",
       "0  65041047  WOS:000265236000001  2009  \\\n",
       "1  32590270  WOS:000266300300033  2009   \n",
       "\n",
       "                                               title  label  \n",
       "0  Symbolic Computations and Exact and Explicit S...    0.0  \n",
       "1  Experiencing the pediatric intensive care unit...    0.0  "
      ]
     },
     "execution_count": 6,
     "metadata": {},
     "output_type": "execute_result"
    }
   ],
   "source": [
    "result_df = pd.read_excel(result_path)\n",
    "result_df.head(2)"
   ]
  },
  {
   "cell_type": "code",
   "execution_count": 7,
   "id": "0aabb90d-ebd2-4c9b-9d2e-4dd4be426c71",
   "metadata": {},
   "outputs": [
    {
     "data": {
      "text/html": [
       "<div>\n",
       "<style scoped>\n",
       "    .dataframe tbody tr th:only-of-type {\n",
       "        vertical-align: middle;\n",
       "    }\n",
       "\n",
       "    .dataframe tbody tr th {\n",
       "        vertical-align: top;\n",
       "    }\n",
       "\n",
       "    .dataframe thead th {\n",
       "        text-align: right;\n",
       "    }\n",
       "</style>\n",
       "<table border=\"1\" class=\"dataframe\">\n",
       "  <thead>\n",
       "    <tr style=\"text-align: right;\">\n",
       "      <th></th>\n",
       "      <th>OST_BK</th>\n",
       "      <th>UID</th>\n",
       "      <th>Annee_Bibliographique</th>\n",
       "      <th>Titre</th>\n",
       "      <th>Country</th>\n",
       "    </tr>\n",
       "  </thead>\n",
       "  <tbody>\n",
       "    <tr>\n",
       "      <th>0</th>\n",
       "      <td>65041047</td>\n",
       "      <td>WOS:000265236000001</td>\n",
       "      <td>2009</td>\n",
       "      <td>Symbolic Computations and Exact and Explicit S...</td>\n",
       "      <td>Turkey</td>\n",
       "    </tr>\n",
       "    <tr>\n",
       "      <th>1</th>\n",
       "      <td>65041047</td>\n",
       "      <td>WOS:000265236000001</td>\n",
       "      <td>2009</td>\n",
       "      <td>Symbolic Computations and Exact and Explicit S...</td>\n",
       "      <td>Turkey</td>\n",
       "    </tr>\n",
       "  </tbody>\n",
       "</table>\n",
       "</div>"
      ],
      "text/plain": [
       "     OST_BK                  UID  Annee_Bibliographique   \n",
       "0  65041047  WOS:000265236000001                   2009  \\\n",
       "1  65041047  WOS:000265236000001                   2009   \n",
       "\n",
       "                                               Titre Country  \n",
       "0  Symbolic Computations and Exact and Explicit S...  Turkey  \n",
       "1  Symbolic Computations and Exact and Explicit S...  Turkey  "
      ]
     },
     "execution_count": 7,
     "metadata": {},
     "output_type": "execute_result"
    }
   ],
   "source": [
    "pub_df = pd.read_csv(pub_path,sep=\"|\",on_bad_lines='skip')\n",
    "pub_df.head(2)"
   ]
  },
  {
   "cell_type": "code",
   "execution_count": 8,
   "id": "89e22dcf-f6b2-4fce-9619-7519e28f3ee3",
   "metadata": {},
   "outputs": [
    {
     "data": {
      "text/html": [
       "<div>\n",
       "<style scoped>\n",
       "    .dataframe tbody tr th:only-of-type {\n",
       "        vertical-align: middle;\n",
       "    }\n",
       "\n",
       "    .dataframe tbody tr th {\n",
       "        vertical-align: top;\n",
       "    }\n",
       "\n",
       "    .dataframe thead th {\n",
       "        text-align: right;\n",
       "    }\n",
       "</style>\n",
       "<table border=\"1\" class=\"dataframe\">\n",
       "  <thead>\n",
       "    <tr style=\"text-align: right;\">\n",
       "      <th></th>\n",
       "      <th>ost_bk</th>\n",
       "      <th>ut</th>\n",
       "      <th>year</th>\n",
       "      <th>title</th>\n",
       "      <th>cntry</th>\n",
       "    </tr>\n",
       "  </thead>\n",
       "  <tbody>\n",
       "    <tr>\n",
       "      <th>1123736</th>\n",
       "      <td>84565005</td>\n",
       "      <td>WOS:000437669400013</td>\n",
       "      <td>2018</td>\n",
       "      <td>Fine versus coarse atrial fibrillation in rheu...</td>\n",
       "      <td>Iran</td>\n",
       "    </tr>\n",
       "  </tbody>\n",
       "</table>\n",
       "</div>"
      ],
      "text/plain": [
       "           ost_bk                   ut  year   \n",
       "1123736  84565005  WOS:000437669400013  2018  \\\n",
       "\n",
       "                                                     title cntry  \n",
       "1123736  Fine versus coarse atrial fibrillation in rheu...  Iran  "
      ]
     },
     "execution_count": 8,
     "metadata": {},
     "output_type": "execute_result"
    }
   ],
   "source": [
    "pub_df= pub_df.rename(columns={'OST_BK':'ost_bk','UID':'ut','Annee_Bibliographique':'year','Titre':'title','Country':'cntry'})\n",
    "pub_df.sample(1)"
   ]
  },
  {
   "cell_type": "code",
   "execution_count": 22,
   "id": "f1fd4e4b-b155-44e0-84b5-97c73768cd38",
   "metadata": {},
   "outputs": [
    {
     "data": {
      "text/html": [
       "<div>\n",
       "<style scoped>\n",
       "    .dataframe tbody tr th:only-of-type {\n",
       "        vertical-align: middle;\n",
       "    }\n",
       "\n",
       "    .dataframe tbody tr th {\n",
       "        vertical-align: top;\n",
       "    }\n",
       "\n",
       "    .dataframe thead th {\n",
       "        text-align: right;\n",
       "    }\n",
       "</style>\n",
       "<table border=\"1\" class=\"dataframe\">\n",
       "  <thead>\n",
       "    <tr style=\"text-align: right;\">\n",
       "      <th></th>\n",
       "      <th>cntry</th>\n",
       "      <th>year</th>\n",
       "      <th>label</th>\n",
       "      <th>count</th>\n",
       "    </tr>\n",
       "  </thead>\n",
       "  <tbody>\n",
       "    <tr>\n",
       "      <th>5</th>\n",
       "      <td>usa</td>\n",
       "      <td>2009</td>\n",
       "      <td>1.0</td>\n",
       "      <td>14</td>\n",
       "    </tr>\n",
       "  </tbody>\n",
       "</table>\n",
       "</div>"
      ],
      "text/plain": [
       "  cntry  year  label  count\n",
       "5   usa  2009    1.0     14"
      ]
     },
     "execution_count": 22,
     "metadata": {},
     "output_type": "execute_result"
    }
   ],
   "source": [
    "df = result_df.merge(pub_df, on=['ost_bk','ut','year','title'])\n",
    "us_chn_part1 = df[(df.cntry.isin(['USA','Peoples R China']))&(df['label']<2)].drop_duplicates()\n",
    "us_chn_part1 = us_chn_part1.groupby(['cntry','year','label']).size().reset_index(name='count')\n",
    "us_chn_part1 = us_chn_part1.replace(to_replace={'cntry':{'USA':'usa','Peoples R China':'china'}})\n",
    "us_chn_part1.sample(1)"
   ]
  },
  {
   "cell_type": "code",
   "execution_count": 21,
   "id": "7668e499-5acf-47f8-b693-c9e361255e91",
   "metadata": {},
   "outputs": [
    {
     "data": {
      "text/html": [
       "<div>\n",
       "<style scoped>\n",
       "    .dataframe tbody tr th:only-of-type {\n",
       "        vertical-align: middle;\n",
       "    }\n",
       "\n",
       "    .dataframe tbody tr th {\n",
       "        vertical-align: top;\n",
       "    }\n",
       "\n",
       "    .dataframe thead th {\n",
       "        text-align: right;\n",
       "    }\n",
       "</style>\n",
       "<table border=\"1\" class=\"dataframe\">\n",
       "  <thead>\n",
       "    <tr style=\"text-align: right;\">\n",
       "      <th></th>\n",
       "      <th>cntry</th>\n",
       "      <th>year</th>\n",
       "      <th>label</th>\n",
       "      <th>count</th>\n",
       "    </tr>\n",
       "  </thead>\n",
       "  <tbody>\n",
       "    <tr>\n",
       "      <th>0</th>\n",
       "      <td>china</td>\n",
       "      <td>2009</td>\n",
       "      <td>0.0</td>\n",
       "      <td>9</td>\n",
       "    </tr>\n",
       "    <tr>\n",
       "      <th>1</th>\n",
       "      <td>china</td>\n",
       "      <td>2009</td>\n",
       "      <td>1.0</td>\n",
       "      <td>4</td>\n",
       "    </tr>\n",
       "    <tr>\n",
       "      <th>2</th>\n",
       "      <td>china</td>\n",
       "      <td>2018</td>\n",
       "      <td>0.0</td>\n",
       "      <td>17</td>\n",
       "    </tr>\n",
       "    <tr>\n",
       "      <th>3</th>\n",
       "      <td>china</td>\n",
       "      <td>2018</td>\n",
       "      <td>1.0</td>\n",
       "      <td>3</td>\n",
       "    </tr>\n",
       "    <tr>\n",
       "      <th>4</th>\n",
       "      <td>usa</td>\n",
       "      <td>2009</td>\n",
       "      <td>0.0</td>\n",
       "      <td>59</td>\n",
       "    </tr>\n",
       "    <tr>\n",
       "      <th>5</th>\n",
       "      <td>usa</td>\n",
       "      <td>2009</td>\n",
       "      <td>1.0</td>\n",
       "      <td>23</td>\n",
       "    </tr>\n",
       "    <tr>\n",
       "      <th>6</th>\n",
       "      <td>usa</td>\n",
       "      <td>2018</td>\n",
       "      <td>0.0</td>\n",
       "      <td>84</td>\n",
       "    </tr>\n",
       "    <tr>\n",
       "      <th>7</th>\n",
       "      <td>usa</td>\n",
       "      <td>2018</td>\n",
       "      <td>1.0</td>\n",
       "      <td>8</td>\n",
       "    </tr>\n",
       "  </tbody>\n",
       "</table>\n",
       "</div>"
      ],
      "text/plain": [
       "   cntry  year  label  count\n",
       "0  china  2009    0.0      9\n",
       "1  china  2009    1.0      4\n",
       "2  china  2018    0.0     17\n",
       "3  china  2018    1.0      3\n",
       "4    usa  2009    0.0     59\n",
       "5    usa  2009    1.0     23\n",
       "6    usa  2018    0.0     84\n",
       "7    usa  2018    1.0      8"
      ]
     },
     "execution_count": 21,
     "metadata": {},
     "output_type": "execute_result"
    }
   ],
   "source": [
    "us_chn_part1"
   ]
  },
  {
   "cell_type": "markdown",
   "id": "c0c893e0-7dec-40a8-ba42-9da651a73e6d",
   "metadata": {},
   "source": [
    "#### get the second part the sampling which is the sampling of individual country"
   ]
  },
  {
   "cell_type": "code",
   "execution_count": 11,
   "id": "500fe9e3-0787-49f1-b5dd-2bfa25028009",
   "metadata": {},
   "outputs": [],
   "source": [
    "sample_path = \"../../data/NationalFunding/Data/RobustCheck/check_09_and_18/us_china_2009_2018.csv\""
   ]
  },
  {
   "cell_type": "code",
   "execution_count": 12,
   "id": "08f448ce-0295-4642-a1d9-e0ccf18478c6",
   "metadata": {},
   "outputs": [
    {
     "data": {
      "text/html": [
       "<div>\n",
       "<style scoped>\n",
       "    .dataframe tbody tr th:only-of-type {\n",
       "        vertical-align: middle;\n",
       "    }\n",
       "\n",
       "    .dataframe tbody tr th {\n",
       "        vertical-align: top;\n",
       "    }\n",
       "\n",
       "    .dataframe thead th {\n",
       "        text-align: right;\n",
       "    }\n",
       "</style>\n",
       "<table border=\"1\" class=\"dataframe\">\n",
       "  <thead>\n",
       "    <tr style=\"text-align: right;\">\n",
       "      <th></th>\n",
       "      <th>ost_bk</th>\n",
       "      <th>uid</th>\n",
       "      <th>year</th>\n",
       "      <th>title</th>\n",
       "      <th>country</th>\n",
       "      <th>label</th>\n",
       "    </tr>\n",
       "  </thead>\n",
       "  <tbody>\n",
       "    <tr>\n",
       "      <th>105</th>\n",
       "      <td>69067532</td>\n",
       "      <td>WOS:000269175500013</td>\n",
       "      <td>2009</td>\n",
       "      <td>Potential for Chemical Mixture Exposures and H...</td>\n",
       "      <td>USA</td>\n",
       "      <td>1.0</td>\n",
       "    </tr>\n",
       "    <tr>\n",
       "      <th>394</th>\n",
       "      <td>51637609</td>\n",
       "      <td>WOS:000439792800008</td>\n",
       "      <td>2018</td>\n",
       "      <td>Acid suppression medications reduce risk of oe...</td>\n",
       "      <td>USA</td>\n",
       "      <td>NaN</td>\n",
       "    </tr>\n",
       "  </tbody>\n",
       "</table>\n",
       "</div>"
      ],
      "text/plain": [
       "       ost_bk                  uid  year   \n",
       "105  69067532  WOS:000269175500013  2009  \\\n",
       "394  51637609  WOS:000439792800008  2018   \n",
       "\n",
       "                                                 title country  label  \n",
       "105  Potential for Chemical Mixture Exposures and H...     USA    1.0  \n",
       "394  Acid suppression medications reduce risk of oe...     USA    NaN  "
      ]
     },
     "execution_count": 12,
     "metadata": {},
     "output_type": "execute_result"
    }
   ],
   "source": [
    "sample_df = pd.read_csv(sample_path)\n",
    "sample_df.sample(2)"
   ]
  },
  {
   "cell_type": "code",
   "execution_count": 13,
   "id": "40d0fc51-8653-49ee-a11a-2eae02d455e9",
   "metadata": {},
   "outputs": [],
   "source": [
    "# a little bit of cleaning\n",
    "sample_df = sample_df[sample_df['label']<2]\n",
    "sample_df.rename(columns={'country':'cntry'},inplace=True)"
   ]
  },
  {
   "cell_type": "code",
   "execution_count": 16,
   "id": "c9abc2e8-adb1-4189-8e82-06c39aa3c2ee",
   "metadata": {},
   "outputs": [
    {
     "data": {
      "text/html": [
       "<div>\n",
       "<style scoped>\n",
       "    .dataframe tbody tr th:only-of-type {\n",
       "        vertical-align: middle;\n",
       "    }\n",
       "\n",
       "    .dataframe tbody tr th {\n",
       "        vertical-align: top;\n",
       "    }\n",
       "\n",
       "    .dataframe thead th {\n",
       "        text-align: right;\n",
       "    }\n",
       "</style>\n",
       "<table border=\"1\" class=\"dataframe\">\n",
       "  <thead>\n",
       "    <tr style=\"text-align: right;\">\n",
       "      <th></th>\n",
       "      <th>cntry</th>\n",
       "      <th>year</th>\n",
       "      <th>label</th>\n",
       "      <th>count</th>\n",
       "    </tr>\n",
       "  </thead>\n",
       "  <tbody>\n",
       "    <tr>\n",
       "      <th>0</th>\n",
       "      <td>china</td>\n",
       "      <td>2009</td>\n",
       "      <td>0.0</td>\n",
       "      <td>53</td>\n",
       "    </tr>\n",
       "    <tr>\n",
       "      <th>1</th>\n",
       "      <td>china</td>\n",
       "      <td>2009</td>\n",
       "      <td>1.0</td>\n",
       "      <td>23</td>\n",
       "    </tr>\n",
       "  </tbody>\n",
       "</table>\n",
       "</div>"
      ],
      "text/plain": [
       "   cntry  year  label  count\n",
       "0  china  2009    0.0     53\n",
       "1  china  2009    1.0     23"
      ]
     },
     "execution_count": 16,
     "metadata": {},
     "output_type": "execute_result"
    }
   ],
   "source": [
    "us_chn_part2 = sample_df.groupby(['cntry','year','label']).size().reset_index(name='count')\n",
    "us_chn_part2.replace(to_replace={'cntry':{'USA':'usa','Peoples R China':'china'}},inplace=True)\n",
    "us_chn_part2.head(2)\n"
   ]
  },
  {
   "cell_type": "code",
   "execution_count": 23,
   "id": "dae48cfd-eead-4d19-9f31-0778645e1a7c",
   "metadata": {},
   "outputs": [
    {
     "data": {
      "text/html": [
       "<div>\n",
       "<style scoped>\n",
       "    .dataframe tbody tr th:only-of-type {\n",
       "        vertical-align: middle;\n",
       "    }\n",
       "\n",
       "    .dataframe tbody tr th {\n",
       "        vertical-align: top;\n",
       "    }\n",
       "\n",
       "    .dataframe thead th {\n",
       "        text-align: right;\n",
       "    }\n",
       "</style>\n",
       "<table border=\"1\" class=\"dataframe\">\n",
       "  <thead>\n",
       "    <tr style=\"text-align: right;\">\n",
       "      <th>label</th>\n",
       "      <th>cntry</th>\n",
       "      <th>year</th>\n",
       "      <th>negative</th>\n",
       "      <th>positive</th>\n",
       "    </tr>\n",
       "  </thead>\n",
       "  <tbody>\n",
       "    <tr>\n",
       "      <th>0</th>\n",
       "      <td>china</td>\n",
       "      <td>2009</td>\n",
       "      <td>25</td>\n",
       "      <td>59</td>\n",
       "    </tr>\n",
       "    <tr>\n",
       "      <th>1</th>\n",
       "      <td>china</td>\n",
       "      <td>2018</td>\n",
       "      <td>21</td>\n",
       "      <td>82</td>\n",
       "    </tr>\n",
       "    <tr>\n",
       "      <th>2</th>\n",
       "      <td>usa</td>\n",
       "      <td>2009</td>\n",
       "      <td>36</td>\n",
       "      <td>101</td>\n",
       "    </tr>\n",
       "    <tr>\n",
       "      <th>3</th>\n",
       "      <td>usa</td>\n",
       "      <td>2018</td>\n",
       "      <td>10</td>\n",
       "      <td>84</td>\n",
       "    </tr>\n",
       "  </tbody>\n",
       "</table>\n",
       "</div>"
      ],
      "text/plain": [
       "label  cntry  year  negative  positive\n",
       "0      china  2009        25        59\n",
       "1      china  2018        21        82\n",
       "2        usa  2009        36       101\n",
       "3        usa  2018        10        84"
      ]
     },
     "execution_count": 23,
     "metadata": {},
     "output_type": "execute_result"
    }
   ],
   "source": [
    "us_chn = us_chn_part1.merge(us_chn_part2, on=['cntry','year','label'])\n",
    "us_chn['total'] = us_chn['count_x']+us_chn['count_y']\n",
    "us_chn.replace(to_replace={'label':{0:'positive',1:'negative'}},inplace=True)\n",
    "us_chn = us_chn.pivot(index=['cntry','year'],columns='label',values='total').reset_index()\n",
    "us_chn.head()"
   ]
  },
  {
   "cell_type": "code",
   "execution_count": 29,
   "id": "e1553318-f784-4310-9fa8-514b2629b315",
   "metadata": {},
   "outputs": [],
   "source": [
    "res_df = []\n",
    "for index, row in us_chn.iterrows():\n",
    "    cntry = row['cntry']\n",
    "    year=row['year']\n",
    "    negative_value = row['negative']\n",
    "    positive_value = row['positive']\n",
    "    mean, lower, upper = estimate_ci_bootstrapping(negative_value, positive_value)\n",
    "    res_df.append([cntry,year,mean,lower,upper])\n",
    "res_df = pd.DataFrame(res_df, columns=['cntry','year','mean','lower','upper'])"
   ]
  },
  {
   "cell_type": "code",
   "execution_count": 30,
   "id": "653c9009-7244-4ad3-b40a-409b4ada3f37",
   "metadata": {},
   "outputs": [],
   "source": [
    "res_df.to_csv(\"../../data/NationalFunding/Data/RobustCheck/check_09_and_18/ci_us_chn.csv\",index=False)"
   ]
  },
  {
   "cell_type": "code",
   "execution_count": null,
   "id": "9b6d08e3-1dd1-429b-832b-4fe9d1904a2e",
   "metadata": {},
   "outputs": [],
   "source": []
  }
 ],
 "metadata": {
  "kernelspec": {
   "display_name": "Python 3 (ipykernel)",
   "language": "python",
   "name": "python3"
  },
  "language_info": {
   "codemirror_mode": {
    "name": "ipython",
    "version": 3
   },
   "file_extension": ".py",
   "mimetype": "text/x-python",
   "name": "python",
   "nbconvert_exporter": "python",
   "pygments_lexer": "ipython3",
   "version": "3.8.16"
  }
 },
 "nbformat": 4,
 "nbformat_minor": 5
}
