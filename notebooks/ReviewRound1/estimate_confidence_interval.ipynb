{
 "cells": [
  {
   "cell_type": "code",
   "execution_count": 1,
   "id": "70f66fba-dd8c-4afd-8f36-d94e794b8779",
   "metadata": {},
   "outputs": [],
   "source": [
    "import pandas as pd\n",
    "import numpy as np\n",
    "import seaborn as sns\n",
    "from scipy import stats"
   ]
  },
  {
   "cell_type": "code",
   "execution_count": 25,
   "id": "a310a543-07ee-409e-b090-e1e877eb27f8",
   "metadata": {},
   "outputs": [],
   "source": [
    "def estimate_ci_bootstrapping(negative, positive, num_iterations=1000,z=1.96):\n",
    "    data = np.concatenate([np.ones(negative),np.zeros(positive)])\n",
    "    bootstrap_samples = np.random.choice(a=data, size=(num_iterations, len(data)), replace=True)\n",
    "    negative_rate = np.mean(bootstrap_samples, axis=1)\n",
    "    mean_of_negative_rate = np.mean(negative_rate)\n",
    "    sem_of_negative_rate = stats.sem(negative_rate)\n",
    "    return mean_of_negative_rate, mean_of_negative_rate-1.96*sem_of_negative_rate, mean_of_negative_rate+1.96*sem_of_negative_rate"
   ]
  },
  {
   "cell_type": "code",
   "execution_count": 2,
   "id": "7ac84586-8621-4486-9cf6-1d275bef0cb4",
   "metadata": {},
   "outputs": [],
   "source": [
    "data_path = \"../../data/NationalFunding/Data/RobustCheck/check_09_and_18/funding_year_check_result.xlsx\""
   ]
  },
  {
   "cell_type": "code",
   "execution_count": 18,
   "id": "11d72a33-bf5b-4db4-a716-9153c681e6f5",
   "metadata": {},
   "outputs": [
    {
     "data": {
      "text/html": [
       "<div>\n",
       "<style scoped>\n",
       "    .dataframe tbody tr th:only-of-type {\n",
       "        vertical-align: middle;\n",
       "    }\n",
       "\n",
       "    .dataframe tbody tr th {\n",
       "        vertical-align: top;\n",
       "    }\n",
       "\n",
       "    .dataframe thead th {\n",
       "        text-align: right;\n",
       "    }\n",
       "</style>\n",
       "<table border=\"1\" class=\"dataframe\">\n",
       "  <thead>\n",
       "    <tr style=\"text-align: right;\">\n",
       "      <th></th>\n",
       "      <th>ost_bk</th>\n",
       "      <th>ut</th>\n",
       "      <th>year</th>\n",
       "      <th>title</th>\n",
       "      <th>label</th>\n",
       "    </tr>\n",
       "  </thead>\n",
       "  <tbody>\n",
       "    <tr>\n",
       "      <th>0</th>\n",
       "      <td>65041047</td>\n",
       "      <td>WOS:000265236000001</td>\n",
       "      <td>2009</td>\n",
       "      <td>Symbolic Computations and Exact and Explicit S...</td>\n",
       "      <td>0.0</td>\n",
       "    </tr>\n",
       "    <tr>\n",
       "      <th>1</th>\n",
       "      <td>32590270</td>\n",
       "      <td>WOS:000266300300033</td>\n",
       "      <td>2009</td>\n",
       "      <td>Experiencing the pediatric intensive care unit...</td>\n",
       "      <td>0.0</td>\n",
       "    </tr>\n",
       "    <tr>\n",
       "      <th>2</th>\n",
       "      <td>32590344</td>\n",
       "      <td>WOS:000270759800006</td>\n",
       "      <td>2009</td>\n",
       "      <td>Determination of plutonium isotopes in waters ...</td>\n",
       "      <td>0.0</td>\n",
       "    </tr>\n",
       "    <tr>\n",
       "      <th>3</th>\n",
       "      <td>32590368</td>\n",
       "      <td>WOS:000265889000017</td>\n",
       "      <td>2009</td>\n",
       "      <td>Extremity Problems in Ostrich Chicks and Their...</td>\n",
       "      <td>0.0</td>\n",
       "    </tr>\n",
       "    <tr>\n",
       "      <th>4</th>\n",
       "      <td>32590526</td>\n",
       "      <td>WOS:000261739200016</td>\n",
       "      <td>2009</td>\n",
       "      <td>Neuroanatomy with a behavioral twist</td>\n",
       "      <td>0.0</td>\n",
       "    </tr>\n",
       "  </tbody>\n",
       "</table>\n",
       "</div>"
      ],
      "text/plain": [
       "     ost_bk                   ut  year   \n",
       "0  65041047  WOS:000265236000001  2009  \\\n",
       "1  32590270  WOS:000266300300033  2009   \n",
       "2  32590344  WOS:000270759800006  2009   \n",
       "3  32590368  WOS:000265889000017  2009   \n",
       "4  32590526  WOS:000261739200016  2009   \n",
       "\n",
       "                                               title  label  \n",
       "0  Symbolic Computations and Exact and Explicit S...    0.0  \n",
       "1  Experiencing the pediatric intensive care unit...    0.0  \n",
       "2  Determination of plutonium isotopes in waters ...    0.0  \n",
       "3  Extremity Problems in Ostrich Chicks and Their...    0.0  \n",
       "4               Neuroanatomy with a behavioral twist    0.0  "
      ]
     },
     "execution_count": 18,
     "metadata": {},
     "output_type": "execute_result"
    }
   ],
   "source": [
    "data = pd.read_excel(data_path)\n",
    "data.head()"
   ]
  },
  {
   "cell_type": "code",
   "execution_count": 20,
   "id": "0aabb90d-ebd2-4c9b-9d2e-4dd4be426c71",
   "metadata": {},
   "outputs": [
    {
     "data": {
      "text/html": [
       "<div>\n",
       "<style scoped>\n",
       "    .dataframe tbody tr th:only-of-type {\n",
       "        vertical-align: middle;\n",
       "    }\n",
       "\n",
       "    .dataframe tbody tr th {\n",
       "        vertical-align: top;\n",
       "    }\n",
       "\n",
       "    .dataframe thead th {\n",
       "        text-align: right;\n",
       "    }\n",
       "</style>\n",
       "<table border=\"1\" class=\"dataframe\">\n",
       "  <thead>\n",
       "    <tr style=\"text-align: right;\">\n",
       "      <th>label</th>\n",
       "      <th>year</th>\n",
       "      <th>negative</th>\n",
       "      <th>positive</th>\n",
       "    </tr>\n",
       "  </thead>\n",
       "  <tbody>\n",
       "    <tr>\n",
       "      <th>0</th>\n",
       "      <td>2009</td>\n",
       "      <td>24</td>\n",
       "      <td>126</td>\n",
       "    </tr>\n",
       "    <tr>\n",
       "      <th>1</th>\n",
       "      <td>2018</td>\n",
       "      <td>8</td>\n",
       "      <td>142</td>\n",
       "    </tr>\n",
       "  </tbody>\n",
       "</table>\n",
       "</div>"
      ],
      "text/plain": [
       "label  year  negative  positive\n",
       "0      2009        24       126\n",
       "1      2018         8       142"
      ]
     },
     "execution_count": 20,
     "metadata": {},
     "output_type": "execute_result"
    }
   ],
   "source": [
    "data = data.replace(to_replace={'label':{0:'positive',1:'negative'}})\n",
    "data = data[data['label'].isin(['negative','positive'])].groupby(['year','label']).size().reset_index(name='count')\n",
    "data = data.pivot(index='year',columns='label',values='count').reset_index()\n",
    "data.head()"
   ]
  },
  {
   "cell_type": "code",
   "execution_count": 26,
   "id": "e1553318-f784-4310-9fa8-514b2629b315",
   "metadata": {},
   "outputs": [],
   "source": [
    "res_df = []\n",
    "for index, row in data.iterrows():\n",
    "    year=row['year']\n",
    "    negative_value = row['negative']\n",
    "    positive_value = row['positive']\n",
    "    mean, lower, upper = estimate_ci_bootstrapping(negative_value, positive_value)\n",
    "    res_df.append(['global',year,mean,lower,upper])\n",
    "res_df = pd.DataFrame(res_df, columns=['cntry','year','mean','lower','upper'])"
   ]
  },
  {
   "cell_type": "code",
   "execution_count": 27,
   "id": "653c9009-7244-4ad3-b40a-409b4ada3f37",
   "metadata": {},
   "outputs": [],
   "source": [
    "res_df.to_csv(\"../../data/NationalFunding/Data/RobustCheck/check_09_and_18/ci_global.csv\",index=False)"
   ]
  },
  {
   "cell_type": "code",
   "execution_count": null,
   "id": "9b6d08e3-1dd1-429b-832b-4fe9d1904a2e",
   "metadata": {},
   "outputs": [],
   "source": []
  }
 ],
 "metadata": {
  "kernelspec": {
   "display_name": "Python 3 (ipykernel)",
   "language": "python",
   "name": "python3"
  },
  "language_info": {
   "codemirror_mode": {
    "name": "ipython",
    "version": 3
   },
   "file_extension": ".py",
   "mimetype": "text/x-python",
   "name": "python",
   "nbconvert_exporter": "python",
   "pygments_lexer": "ipython3",
   "version": "3.8.16"
  }
 },
 "nbformat": 4,
 "nbformat_minor": 5
}
