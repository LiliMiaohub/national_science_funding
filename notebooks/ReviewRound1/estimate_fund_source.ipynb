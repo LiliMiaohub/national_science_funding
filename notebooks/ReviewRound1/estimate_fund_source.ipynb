{
 "cells": [
  {
   "cell_type": "markdown",
   "id": "5a425180",
   "metadata": {},
   "source": [
    "this script estimates the importance of the funding resources "
   ]
  },
  {
   "cell_type": "code",
   "execution_count": 1,
   "id": "afdc85ca",
   "metadata": {},
   "outputs": [
    {
     "name": "stderr",
     "output_type": "stream",
     "text": [
      "\n",
      "Attaching package: ‘dplyr’\n",
      "\n",
      "\n",
      "The following objects are masked from ‘package:stats’:\n",
      "\n",
      "    filter, lag\n",
      "\n",
      "\n",
      "The following objects are masked from ‘package:base’:\n",
      "\n",
      "    intersect, setdiff, setequal, union\n",
      "\n",
      "\n",
      "\n",
      "Attaching package: ‘kableExtra’\n",
      "\n",
      "\n",
      "The following object is masked from ‘package:dplyr’:\n",
      "\n",
      "    group_rows\n",
      "\n",
      "\n"
     ]
    }
   ],
   "source": [
    "library(fixest)\n",
    "library(tidyr)\n",
    "library(ggplot2)\n",
    "library(dplyr)\n",
    "library(modelsummary)\n",
    "library(kableExtra)"
   ]
  },
  {
   "cell_type": "code",
   "execution_count": 2,
   "id": "8760c5ab",
   "metadata": {},
   "outputs": [],
   "source": [
    "data = read.csv('regression_data.csv')"
   ]
  },
  {
   "cell_type": "code",
   "execution_count": 3,
   "id": "a7661fff",
   "metadata": {},
   "outputs": [
    {
     "data": {
      "text/html": [
       "<table class=\"dataframe\">\n",
       "<caption>A data.frame: 6 × 15</caption>\n",
       "<thead>\n",
       "\t<tr><th></th><th scope=col>cntry</th><th scope=col>year_curr</th><th scope=col>pubcnt_curr</th><th scope=col>year_prev</th><th scope=col>pubcnt_prev</th><th scope=col>growth_rate</th><th scope=col>China</th><th scope=col>EU</th><th scope=col>France</th><th scope=col>Germany</th><th scope=col>United.Kingdom</th><th scope=col>United.States</th><th scope=col>domestic</th><th scope=col>others</th><th scope=col>foreign</th></tr>\n",
       "\t<tr><th></th><th scope=col>&lt;chr&gt;</th><th scope=col>&lt;int&gt;</th><th scope=col>&lt;dbl&gt;</th><th scope=col>&lt;int&gt;</th><th scope=col>&lt;dbl&gt;</th><th scope=col>&lt;dbl&gt;</th><th scope=col>&lt;dbl&gt;</th><th scope=col>&lt;dbl&gt;</th><th scope=col>&lt;dbl&gt;</th><th scope=col>&lt;dbl&gt;</th><th scope=col>&lt;dbl&gt;</th><th scope=col>&lt;dbl&gt;</th><th scope=col>&lt;dbl&gt;</th><th scope=col>&lt;dbl&gt;</th><th scope=col>&lt;dbl&gt;</th></tr>\n",
       "</thead>\n",
       "<tbody>\n",
       "\t<tr><th scope=row>1</th><td>Afghanistan</td><td>2010</td><td>3.496508</td><td>2009</td><td>2.833213</td><td> 0.94117647</td><td>0.6931472</td><td>0.6931472</td><td>0.0000000</td><td>0.6931472</td><td>1.0986123</td><td>2.484907</td><td>0.6931472</td><td>2.197225</td><td>3.218876</td></tr>\n",
       "\t<tr><th scope=row>2</th><td>Afghanistan</td><td>2011</td><td>3.332205</td><td>2010</td><td>3.496508</td><td>-0.15151515</td><td>1.9459101</td><td>0.6931472</td><td>0.0000000</td><td>1.9459101</td><td>0.6931472</td><td>2.397895</td><td>0.0000000</td><td>1.609438</td><td>3.367296</td></tr>\n",
       "\t<tr><th scope=row>3</th><td>Afghanistan</td><td>2012</td><td>3.663562</td><td>2011</td><td>3.332205</td><td> 0.39285714</td><td>0.0000000</td><td>0.0000000</td><td>0.0000000</td><td>0.0000000</td><td>1.7917595</td><td>1.945910</td><td>0.0000000</td><td>1.098612</td><td>2.639057</td></tr>\n",
       "\t<tr><th scope=row>4</th><td>Afghanistan</td><td>2013</td><td>3.295837</td><td>2012</td><td>3.663562</td><td>-0.30769231</td><td>0.0000000</td><td>0.0000000</td><td>2.1972246</td><td>1.3862944</td><td>0.6931472</td><td>2.302585</td><td>0.0000000</td><td>2.079442</td><td>3.367296</td></tr>\n",
       "\t<tr><th scope=row>5</th><td>Afghanistan</td><td>2014</td><td>3.761200</td><td>2013</td><td>3.295837</td><td> 0.59259259</td><td>0.6931472</td><td>0.6931472</td><td>0.6931472</td><td>1.6094379</td><td>2.4849066</td><td>3.526361</td><td>0.0000000</td><td>3.465736</td><td>4.418841</td></tr>\n",
       "\t<tr><th scope=row>6</th><td>Afghanistan</td><td>2015</td><td>3.737670</td><td>2014</td><td>3.761200</td><td>-0.02325581</td><td>1.7917595</td><td>0.0000000</td><td>1.7917595</td><td>0.0000000</td><td>3.4657359</td><td>3.433987</td><td>0.0000000</td><td>4.007333</td><td>4.836282</td></tr>\n",
       "</tbody>\n",
       "</table>\n"
      ],
      "text/latex": [
       "A data.frame: 6 × 15\n",
       "\\begin{tabular}{r|lllllllllllllll}\n",
       "  & cntry & year\\_curr & pubcnt\\_curr & year\\_prev & pubcnt\\_prev & growth\\_rate & China & EU & France & Germany & United.Kingdom & United.States & domestic & others & foreign\\\\\n",
       "  & <chr> & <int> & <dbl> & <int> & <dbl> & <dbl> & <dbl> & <dbl> & <dbl> & <dbl> & <dbl> & <dbl> & <dbl> & <dbl> & <dbl>\\\\\n",
       "\\hline\n",
       "\t1 & Afghanistan & 2010 & 3.496508 & 2009 & 2.833213 &  0.94117647 & 0.6931472 & 0.6931472 & 0.0000000 & 0.6931472 & 1.0986123 & 2.484907 & 0.6931472 & 2.197225 & 3.218876\\\\\n",
       "\t2 & Afghanistan & 2011 & 3.332205 & 2010 & 3.496508 & -0.15151515 & 1.9459101 & 0.6931472 & 0.0000000 & 1.9459101 & 0.6931472 & 2.397895 & 0.0000000 & 1.609438 & 3.367296\\\\\n",
       "\t3 & Afghanistan & 2012 & 3.663562 & 2011 & 3.332205 &  0.39285714 & 0.0000000 & 0.0000000 & 0.0000000 & 0.0000000 & 1.7917595 & 1.945910 & 0.0000000 & 1.098612 & 2.639057\\\\\n",
       "\t4 & Afghanistan & 2013 & 3.295837 & 2012 & 3.663562 & -0.30769231 & 0.0000000 & 0.0000000 & 2.1972246 & 1.3862944 & 0.6931472 & 2.302585 & 0.0000000 & 2.079442 & 3.367296\\\\\n",
       "\t5 & Afghanistan & 2014 & 3.761200 & 2013 & 3.295837 &  0.59259259 & 0.6931472 & 0.6931472 & 0.6931472 & 1.6094379 & 2.4849066 & 3.526361 & 0.0000000 & 3.465736 & 4.418841\\\\\n",
       "\t6 & Afghanistan & 2015 & 3.737670 & 2014 & 3.761200 & -0.02325581 & 1.7917595 & 0.0000000 & 1.7917595 & 0.0000000 & 3.4657359 & 3.433987 & 0.0000000 & 4.007333 & 4.836282\\\\\n",
       "\\end{tabular}\n"
      ],
      "text/markdown": [
       "\n",
       "A data.frame: 6 × 15\n",
       "\n",
       "| <!--/--> | cntry &lt;chr&gt; | year_curr &lt;int&gt; | pubcnt_curr &lt;dbl&gt; | year_prev &lt;int&gt; | pubcnt_prev &lt;dbl&gt; | growth_rate &lt;dbl&gt; | China &lt;dbl&gt; | EU &lt;dbl&gt; | France &lt;dbl&gt; | Germany &lt;dbl&gt; | United.Kingdom &lt;dbl&gt; | United.States &lt;dbl&gt; | domestic &lt;dbl&gt; | others &lt;dbl&gt; | foreign &lt;dbl&gt; |\n",
       "|---|---|---|---|---|---|---|---|---|---|---|---|---|---|---|---|\n",
       "| 1 | Afghanistan | 2010 | 3.496508 | 2009 | 2.833213 |  0.94117647 | 0.6931472 | 0.6931472 | 0.0000000 | 0.6931472 | 1.0986123 | 2.484907 | 0.6931472 | 2.197225 | 3.218876 |\n",
       "| 2 | Afghanistan | 2011 | 3.332205 | 2010 | 3.496508 | -0.15151515 | 1.9459101 | 0.6931472 | 0.0000000 | 1.9459101 | 0.6931472 | 2.397895 | 0.0000000 | 1.609438 | 3.367296 |\n",
       "| 3 | Afghanistan | 2012 | 3.663562 | 2011 | 3.332205 |  0.39285714 | 0.0000000 | 0.0000000 | 0.0000000 | 0.0000000 | 1.7917595 | 1.945910 | 0.0000000 | 1.098612 | 2.639057 |\n",
       "| 4 | Afghanistan | 2013 | 3.295837 | 2012 | 3.663562 | -0.30769231 | 0.0000000 | 0.0000000 | 2.1972246 | 1.3862944 | 0.6931472 | 2.302585 | 0.0000000 | 2.079442 | 3.367296 |\n",
       "| 5 | Afghanistan | 2014 | 3.761200 | 2013 | 3.295837 |  0.59259259 | 0.6931472 | 0.6931472 | 0.6931472 | 1.6094379 | 2.4849066 | 3.526361 | 0.0000000 | 3.465736 | 4.418841 |\n",
       "| 6 | Afghanistan | 2015 | 3.737670 | 2014 | 3.761200 | -0.02325581 | 1.7917595 | 0.0000000 | 1.7917595 | 0.0000000 | 3.4657359 | 3.433987 | 0.0000000 | 4.007333 | 4.836282 |\n",
       "\n"
      ],
      "text/plain": [
       "  cntry       year_curr pubcnt_curr year_prev pubcnt_prev growth_rate China    \n",
       "1 Afghanistan 2010      3.496508    2009      2.833213     0.94117647 0.6931472\n",
       "2 Afghanistan 2011      3.332205    2010      3.496508    -0.15151515 1.9459101\n",
       "3 Afghanistan 2012      3.663562    2011      3.332205     0.39285714 0.0000000\n",
       "4 Afghanistan 2013      3.295837    2012      3.663562    -0.30769231 0.0000000\n",
       "5 Afghanistan 2014      3.761200    2013      3.295837     0.59259259 0.6931472\n",
       "6 Afghanistan 2015      3.737670    2014      3.761200    -0.02325581 1.7917595\n",
       "  EU        France    Germany   United.Kingdom United.States domestic  others  \n",
       "1 0.6931472 0.0000000 0.6931472 1.0986123      2.484907      0.6931472 2.197225\n",
       "2 0.6931472 0.0000000 1.9459101 0.6931472      2.397895      0.0000000 1.609438\n",
       "3 0.0000000 0.0000000 0.0000000 1.7917595      1.945910      0.0000000 1.098612\n",
       "4 0.0000000 2.1972246 1.3862944 0.6931472      2.302585      0.0000000 2.079442\n",
       "5 0.6931472 0.6931472 1.6094379 2.4849066      3.526361      0.0000000 3.465736\n",
       "6 0.0000000 1.7917595 0.0000000 3.4657359      3.433987      0.0000000 4.007333\n",
       "  foreign \n",
       "1 3.218876\n",
       "2 3.367296\n",
       "3 2.639057\n",
       "4 3.367296\n",
       "5 4.418841\n",
       "6 4.836282"
      ]
     },
     "metadata": {},
     "output_type": "display_data"
    }
   ],
   "source": [
    "head(data)"
   ]
  },
  {
   "cell_type": "code",
   "execution_count": 4,
   "id": "ea04fadd",
   "metadata": {},
   "outputs": [],
   "source": [
    "data = subset(data, !(cntry %in% c('China','France','Germany','United States','United Kingdom')))"
   ]
  },
  {
   "cell_type": "code",
   "execution_count": 5,
   "id": "f3b78d51-528a-4e92-849a-8d6c0c5c49f4",
   "metadata": {},
   "outputs": [
    {
     "data": {
      "text/plain": [
       "OLS estimation, Dep. Var.: growth_rate\n",
       "Observations: 1,737 \n",
       "Fixed-effects: cntry: 201,  year_curr: 9\n",
       "Standard-errors: Clustered (cntry) \n",
       "             Estimate Std. Error   t value  Pr(>|t|)    \n",
       "pubcnt_prev -1.207478   0.096799 -12.47403 < 2.2e-16 ***\n",
       "domestic     0.137376   0.030597   4.48983 1.203e-05 ***\n",
       "foreign      0.532603   0.115451   4.61323 7.071e-06 ***\n",
       "---\n",
       "Signif. codes:  0 '***' 0.001 '**' 0.01 '*' 0.05 '.' 0.1 ' ' 1\n",
       "RMSE: 0.379592     Adj. R2: 0.516959\n",
       "                 Within R2: 0.468941"
      ]
     },
     "metadata": {},
     "output_type": "display_data"
    }
   ],
   "source": [
    "feols_dome = feols(growth_rate~pubcnt_prev+domestic+foreign|cntry+year_curr,data=data)\n",
    "summary(feols_dome)"
   ]
  },
  {
   "cell_type": "code",
   "execution_count": 6,
   "id": "33b5866e",
   "metadata": {},
   "outputs": [
    {
     "data": {
      "text/plain": [
       "OLS estimation, Dep. Var.: growth_rate\n",
       "Observations: 1,737 \n",
       "Fixed-effects: cntry: 201,  year_curr: 9\n",
       "Standard-errors: Clustered (cntry) \n",
       "                Estimate Std. Error    t value   Pr(>|t|)    \n",
       "pubcnt_prev    -1.159785   0.095397 -12.157429  < 2.2e-16 ***\n",
       "domestic        0.133964   0.032044   4.180643 4.3452e-05 ***\n",
       "United.States   0.180751   0.033778   5.351077 2.3824e-07 ***\n",
       "United.Kingdom -0.012894   0.024369  -0.529136 5.9730e-01    \n",
       "EU             -0.030676   0.044908  -0.683101 4.9533e-01    \n",
       "France          0.018713   0.050896   0.367677 7.1350e-01    \n",
       "Germany         0.041399   0.033896   1.221347 2.2339e-01    \n",
       "China           0.032037   0.023747   1.349105 1.7883e-01    \n",
       "others          0.292930   0.065187   4.493665 1.1834e-05 ***\n",
       "---\n",
       "Signif. codes:  0 '***' 0.001 '**' 0.01 '*' 0.05 '.' 0.1 ' ' 1\n",
       "RMSE: 0.391346     Adj. R2: 0.484552\n",
       "                 Within R2: 0.435543"
      ]
     },
     "metadata": {},
     "output_type": "display_data"
    }
   ],
   "source": [
    "feols_fdi = feols(\n",
    "    growth_rate~pubcnt_prev+domestic+United.States+United.Kingdom+EU+France+Germany+China+others|cntry+year_curr,\n",
    "    data=data)\n",
    "summary(feols_fdi)"
   ]
  },
  {
   "cell_type": "code",
   "execution_count": 8,
   "id": "ca241d2b-fc38-4f0c-aa3b-4342e486d7a2",
   "metadata": {},
   "outputs": [
    {
     "name": "stderr",
     "output_type": "stream",
     "text": [
      "Note that HTML color may not be displayed on PDF properly.\n",
      "\n",
      "save_kable will have the best result with magick installed. \n",
      "\n"
     ]
    }
   ],
   "source": [
    "notes = \"The P-value is derived from the two-tailed t-test. + p < 0.1, * p < 0.05, ** p < 0.01, *** p < 0.001\"\n",
    "models = list(feols_dome, feols_fdi)\n",
    "modelsummary(models,\n",
    "             fmt=2,\n",
    "             estimate  = \"{estimate}{stars} [{conf.low},{conf.high}]\",\n",
    "             statistic=NULL,\n",
    "             coef_rename=c('pubcnt_prev'='Pub(t-1)','United.Kingdom'='UK','United.States'='USA',\n",
    "             'domestic'='INV_Domestic','foreign'='INV_Foreign','others'='INV_Rest'),\n",
    "             gof_map=c('nobs','r.squared','adj.r.squared'),\n",
    "             notes=notes,\n",
    "             output='kableExtra')%>%kable_styling(latex_options=\"scale_down\") %>%save_kable(\"regression.pdf\")"
   ]
  },
  {
   "cell_type": "code",
   "execution_count": 38,
   "id": "3981f8c3",
   "metadata": {},
   "outputs": [
    {
     "name": "stderr",
     "output_type": "stream",
     "text": [
      "Note that HTML color may not be displayed on PDF properly.\n",
      "\n",
      "save_kable will have the best result with magick installed. \n",
      "\n"
     ]
    }
   ],
   "source": [
    "modelsummary(feols_model, fmt=3, statistic='std.error', stars=TRUE,\n",
    "            \n",
    "            ,output='kableExtra')%>%kable_styling() %>%save_kable(\"test.pdf\")"
   ]
  },
  {
   "cell_type": "code",
   "execution_count": 23,
   "id": "e5769567",
   "metadata": {},
   "outputs": [
    {
     "data": {
      "text/html": [
       "<table class=\"dataframe\">\n",
       "<caption>A data.frame: 6 × 8</caption>\n",
       "<thead>\n",
       "\t<tr><th></th><th scope=col>year</th><th scope=col>China_fundtotal</th><th scope=col>EU_fundtotal</th><th scope=col>France_fundtotal</th><th scope=col>Germany_fundtotal</th><th scope=col>United.Kingdom_fundtotal</th><th scope=col>United.States_fundtotal</th><th scope=col>others_fundtotal</th></tr>\n",
       "\t<tr><th></th><th scope=col>&lt;int&gt;</th><th scope=col>&lt;dbl&gt;</th><th scope=col>&lt;int&gt;</th><th scope=col>&lt;int&gt;</th><th scope=col>&lt;int&gt;</th><th scope=col>&lt;int&gt;</th><th scope=col>&lt;dbl&gt;</th><th scope=col>&lt;int&gt;</th></tr>\n",
       "</thead>\n",
       "<tbody>\n",
       "\t<tr><th scope=row>1</th><td>2009</td><td>12.75166</td><td>27261</td><td>33492</td><td> 63685</td><td>44587</td><td>12.70250</td><td>498743</td></tr>\n",
       "\t<tr><th scope=row>2</th><td>2010</td><td>13.00639</td><td>39416</td><td>45926</td><td> 81850</td><td>61679</td><td>12.94872</td><td>632475</td></tr>\n",
       "\t<tr><th scope=row>3</th><td>2011</td><td>13.27680</td><td>48953</td><td>54829</td><td> 94887</td><td>72007</td><td>13.09072</td><td>758037</td></tr>\n",
       "\t<tr><th scope=row>4</th><td>2012</td><td>13.54110</td><td>52349</td><td>57181</td><td> 99819</td><td>78085</td><td>13.15509</td><td>848046</td></tr>\n",
       "\t<tr><th scope=row>5</th><td>2013</td><td>13.78837</td><td>59930</td><td>58862</td><td>101215</td><td>80258</td><td>13.16273</td><td>901959</td></tr>\n",
       "\t<tr><th scope=row>6</th><td>2014</td><td>13.97809</td><td>64587</td><td>58670</td><td>101455</td><td>78810</td><td>13.14795</td><td>905909</td></tr>\n",
       "</tbody>\n",
       "</table>\n"
      ],
      "text/latex": [
       "A data.frame: 6 × 8\n",
       "\\begin{tabular}{r|llllllll}\n",
       "  & year & China\\_fundtotal & EU\\_fundtotal & France\\_fundtotal & Germany\\_fundtotal & United.Kingdom\\_fundtotal & United.States\\_fundtotal & others\\_fundtotal\\\\\n",
       "  & <int> & <dbl> & <int> & <int> & <int> & <int> & <dbl> & <int>\\\\\n",
       "\\hline\n",
       "\t1 & 2009 & 12.75166 & 27261 & 33492 &  63685 & 44587 & 12.70250 & 498743\\\\\n",
       "\t2 & 2010 & 13.00639 & 39416 & 45926 &  81850 & 61679 & 12.94872 & 632475\\\\\n",
       "\t3 & 2011 & 13.27680 & 48953 & 54829 &  94887 & 72007 & 13.09072 & 758037\\\\\n",
       "\t4 & 2012 & 13.54110 & 52349 & 57181 &  99819 & 78085 & 13.15509 & 848046\\\\\n",
       "\t5 & 2013 & 13.78837 & 59930 & 58862 & 101215 & 80258 & 13.16273 & 901959\\\\\n",
       "\t6 & 2014 & 13.97809 & 64587 & 58670 & 101455 & 78810 & 13.14795 & 905909\\\\\n",
       "\\end{tabular}\n"
      ],
      "text/markdown": [
       "\n",
       "A data.frame: 6 × 8\n",
       "\n",
       "| <!--/--> | year &lt;int&gt; | China_fundtotal &lt;dbl&gt; | EU_fundtotal &lt;int&gt; | France_fundtotal &lt;int&gt; | Germany_fundtotal &lt;int&gt; | United.Kingdom_fundtotal &lt;int&gt; | United.States_fundtotal &lt;dbl&gt; | others_fundtotal &lt;int&gt; |\n",
       "|---|---|---|---|---|---|---|---|---|\n",
       "| 1 | 2009 | 12.75166 | 27261 | 33492 |  63685 | 44587 | 12.70250 | 498743 |\n",
       "| 2 | 2010 | 13.00639 | 39416 | 45926 |  81850 | 61679 | 12.94872 | 632475 |\n",
       "| 3 | 2011 | 13.27680 | 48953 | 54829 |  94887 | 72007 | 13.09072 | 758037 |\n",
       "| 4 | 2012 | 13.54110 | 52349 | 57181 |  99819 | 78085 | 13.15509 | 848046 |\n",
       "| 5 | 2013 | 13.78837 | 59930 | 58862 | 101215 | 80258 | 13.16273 | 901959 |\n",
       "| 6 | 2014 | 13.97809 | 64587 | 58670 | 101455 | 78810 | 13.14795 | 905909 |\n",
       "\n"
      ],
      "text/plain": [
       "  year China_fundtotal EU_fundtotal France_fundtotal Germany_fundtotal\n",
       "1 2009 12.75166        27261        33492             63685           \n",
       "2 2010 13.00639        39416        45926             81850           \n",
       "3 2011 13.27680        48953        54829             94887           \n",
       "4 2012 13.54110        52349        57181             99819           \n",
       "5 2013 13.78837        59930        58862            101215           \n",
       "6 2014 13.97809        64587        58670            101455           \n",
       "  United.Kingdom_fundtotal United.States_fundtotal others_fundtotal\n",
       "1 44587                    12.70250                498743          \n",
       "2 61679                    12.94872                632475          \n",
       "3 72007                    13.09072                758037          \n",
       "4 78085                    13.15509                848046          \n",
       "5 80258                    13.16273                901959          \n",
       "6 78810                    13.14795                905909          "
      ]
     },
     "metadata": {},
     "output_type": "display_data"
    }
   ],
   "source": [
    "total = read.csv('fund_grants_total.csv')\n",
    "total$United.States_fundtotal=log(total$United.States_fundtotal)\n",
    "total$China_fundtotal=log(total$China_fundtotal)\n",
    "head(total)"
   ]
  },
  {
   "cell_type": "code",
   "execution_count": 24,
   "id": "b319dbae",
   "metadata": {},
   "outputs": [],
   "source": [
    "meta = merge(data, total, by.x='year_curr', by.y='year')"
   ]
  },
  {
   "cell_type": "code",
   "execution_count": 27,
   "id": "83563351",
   "metadata": {},
   "outputs": [
    {
     "name": "stderr",
     "output_type": "stream",
     "text": [
      "The instrument 'United.States_fundtotal' have been removed because of collinearity (see $collin.var).\n",
      "\n"
     ]
    }
   ],
   "source": [
    "iv_fund=feols(\n",
    "    growth_rate~pubcnt_prev+China+EU+France+Germany+United.Kingdom+domestic+others|cntry+year_curr|United.States~United.States_fundtotal,\n",
    "    data=meta)"
   ]
  },
  {
   "cell_type": "code",
   "execution_count": 28,
   "id": "e7248f74",
   "metadata": {},
   "outputs": [
    {
     "data": {
      "text/html": [
       "<style>\n",
       ".list-inline {list-style: none; margin:0; padding: 0}\n",
       ".list-inline>li {display: inline-block}\n",
       ".list-inline>li:not(:last-child)::after {content: \"\\00b7\"; padding: 0 .5ex}\n",
       "</style>\n",
       "<ol class=list-inline><li>'others'</li><li>'United.States_fundtotal'</li></ol>\n"
      ],
      "text/latex": [
       "\\begin{enumerate*}\n",
       "\\item 'others'\n",
       "\\item 'United.States\\_fundtotal'\n",
       "\\end{enumerate*}\n"
      ],
      "text/markdown": [
       "1. 'others'\n",
       "2. 'United.States_fundtotal'\n",
       "\n",
       "\n"
      ],
      "text/plain": [
       "[1] \"others\"                  \"United.States_fundtotal\""
      ]
     },
     "metadata": {},
     "output_type": "display_data"
    }
   ],
   "source": [
    "iv_fund$collin.var"
   ]
  },
  {
   "cell_type": "code",
   "execution_count": 30,
   "id": "019b984d",
   "metadata": {},
   "outputs": [
    {
     "data": {
      "text/plain": [
       "OLS estimation, Dep. Var.: United.States\n",
       "Observations: 1,737 \n",
       "Standard-errors: IID \n",
       "                         Estimate Std. Error   t value   Pr(>|t|)    \n",
       "(Intercept)             -0.753091   3.025288 -0.248932 8.0344e-01    \n",
       "United.States_fundtotal  0.074930   0.230291  0.325372 7.4494e-01    \n",
       "pubcnt_prev              0.372240   0.024444 15.228153  < 2.2e-16 ***\n",
       "China                   -0.065904   0.015517 -4.247098 2.2809e-05 ***\n",
       "EU                      -0.048661   0.026423 -1.841653 6.5697e-02 .  \n",
       "France                   0.018094   0.018966  0.954000 3.4022e-01    \n",
       "Germany                  0.033432   0.023975  1.394424 1.6337e-01    \n",
       "United.Kingdom           0.603346   0.022538 26.769615  < 2.2e-16 ***\n",
       "domestic                -0.002388   0.018444 -0.129486 8.9699e-01    \n",
       "others                   0.072818   0.025913  2.810128 5.0080e-03 ** \n",
       "---\n",
       "Signif. codes:  0 '***' 0.001 '**' 0.01 '*' 0.05 '.' 0.1 ' ' 1\n",
       "RMSE: 0.690442   Adj. R2: 0.927037"
      ]
     },
     "metadata": {},
     "output_type": "display_data"
    }
   ],
   "source": [
    "feols(United.States~United.States_fundtotal+pubcnt_prev+China+EU+France+Germany+United.Kingdom+domestic+others,\n",
    "      data=meta)"
   ]
  },
  {
   "cell_type": "code",
   "execution_count": 31,
   "id": "c72d8273",
   "metadata": {},
   "outputs": [],
   "source": [
    "fund_prev=read.csv('fund_previous.csv')"
   ]
  },
  {
   "cell_type": "code",
   "execution_count": 33,
   "id": "fe5fa48a",
   "metadata": {},
   "outputs": [
    {
     "data": {
      "text/html": [
       "<table class=\"dataframe\">\n",
       "<caption>A data.frame: 2 × 14</caption>\n",
       "<thead>\n",
       "\t<tr><th></th><th scope=col>cntry</th><th scope=col>year_curr</th><th scope=col>pubcnt_curr</th><th scope=col>year_prev</th><th scope=col>pubcnt_prev</th><th scope=col>growth_rate</th><th scope=col>China</th><th scope=col>EU</th><th scope=col>France</th><th scope=col>Germany</th><th scope=col>United.Kingdom</th><th scope=col>United.States</th><th scope=col>domestic</th><th scope=col>others</th></tr>\n",
       "\t<tr><th></th><th scope=col>&lt;chr&gt;</th><th scope=col>&lt;int&gt;</th><th scope=col>&lt;dbl&gt;</th><th scope=col>&lt;int&gt;</th><th scope=col>&lt;dbl&gt;</th><th scope=col>&lt;dbl&gt;</th><th scope=col>&lt;dbl&gt;</th><th scope=col>&lt;dbl&gt;</th><th scope=col>&lt;dbl&gt;</th><th scope=col>&lt;dbl&gt;</th><th scope=col>&lt;dbl&gt;</th><th scope=col>&lt;dbl&gt;</th><th scope=col>&lt;dbl&gt;</th><th scope=col>&lt;dbl&gt;</th></tr>\n",
       "</thead>\n",
       "<tbody>\n",
       "\t<tr><th scope=row>1</th><td>Afghanistan</td><td>2010</td><td>3.496508</td><td>2009</td><td>2.833213</td><td> 0.9411765</td><td>0.6931472</td><td>0.6931472</td><td>0</td><td>0.6931472</td><td>1.0986123</td><td>2.484907</td><td>0.6931472</td><td>2.197225</td></tr>\n",
       "\t<tr><th scope=row>2</th><td>Afghanistan</td><td>2011</td><td>3.332205</td><td>2010</td><td>3.496508</td><td>-0.1515152</td><td>1.9459101</td><td>0.6931472</td><td>0</td><td>1.9459101</td><td>0.6931472</td><td>2.397895</td><td>0.0000000</td><td>1.609438</td></tr>\n",
       "</tbody>\n",
       "</table>\n"
      ],
      "text/latex": [
       "A data.frame: 2 × 14\n",
       "\\begin{tabular}{r|llllllllllllll}\n",
       "  & cntry & year\\_curr & pubcnt\\_curr & year\\_prev & pubcnt\\_prev & growth\\_rate & China & EU & France & Germany & United.Kingdom & United.States & domestic & others\\\\\n",
       "  & <chr> & <int> & <dbl> & <int> & <dbl> & <dbl> & <dbl> & <dbl> & <dbl> & <dbl> & <dbl> & <dbl> & <dbl> & <dbl>\\\\\n",
       "\\hline\n",
       "\t1 & Afghanistan & 2010 & 3.496508 & 2009 & 2.833213 &  0.9411765 & 0.6931472 & 0.6931472 & 0 & 0.6931472 & 1.0986123 & 2.484907 & 0.6931472 & 2.197225\\\\\n",
       "\t2 & Afghanistan & 2011 & 3.332205 & 2010 & 3.496508 & -0.1515152 & 1.9459101 & 0.6931472 & 0 & 1.9459101 & 0.6931472 & 2.397895 & 0.0000000 & 1.609438\\\\\n",
       "\\end{tabular}\n"
      ],
      "text/markdown": [
       "\n",
       "A data.frame: 2 × 14\n",
       "\n",
       "| <!--/--> | cntry &lt;chr&gt; | year_curr &lt;int&gt; | pubcnt_curr &lt;dbl&gt; | year_prev &lt;int&gt; | pubcnt_prev &lt;dbl&gt; | growth_rate &lt;dbl&gt; | China &lt;dbl&gt; | EU &lt;dbl&gt; | France &lt;dbl&gt; | Germany &lt;dbl&gt; | United.Kingdom &lt;dbl&gt; | United.States &lt;dbl&gt; | domestic &lt;dbl&gt; | others &lt;dbl&gt; |\n",
       "|---|---|---|---|---|---|---|---|---|---|---|---|---|---|---|\n",
       "| 1 | Afghanistan | 2010 | 3.496508 | 2009 | 2.833213 |  0.9411765 | 0.6931472 | 0.6931472 | 0 | 0.6931472 | 1.0986123 | 2.484907 | 0.6931472 | 2.197225 |\n",
       "| 2 | Afghanistan | 2011 | 3.332205 | 2010 | 3.496508 | -0.1515152 | 1.9459101 | 0.6931472 | 0 | 1.9459101 | 0.6931472 | 2.397895 | 0.0000000 | 1.609438 |\n",
       "\n"
      ],
      "text/plain": [
       "  cntry       year_curr pubcnt_curr year_prev pubcnt_prev growth_rate China    \n",
       "1 Afghanistan 2010      3.496508    2009      2.833213     0.9411765  0.6931472\n",
       "2 Afghanistan 2011      3.332205    2010      3.496508    -0.1515152  1.9459101\n",
       "  EU        France Germany   United.Kingdom United.States domestic  others  \n",
       "1 0.6931472 0      0.6931472 1.0986123      2.484907      0.6931472 2.197225\n",
       "2 0.6931472 0      1.9459101 0.6931472      2.397895      0.0000000 1.609438"
      ]
     },
     "metadata": {},
     "output_type": "display_data"
    }
   ],
   "source": [
    "head(data,2)"
   ]
  },
  {
   "cell_type": "code",
   "execution_count": 34,
   "id": "24b54de5",
   "metadata": {},
   "outputs": [
    {
     "data": {
      "text/html": [
       "<table class=\"dataframe\">\n",
       "<caption>A data.frame: 2 × 10</caption>\n",
       "<thead>\n",
       "\t<tr><th></th><th scope=col>author_distinct</th><th scope=col>year</th><th scope=col>China_prev</th><th scope=col>EU_prev</th><th scope=col>France_prev</th><th scope=col>Germany_prev</th><th scope=col>United.Kingdom_prev</th><th scope=col>United.States_prev</th><th scope=col>domestic_prev</th><th scope=col>others_prev</th></tr>\n",
       "\t<tr><th></th><th scope=col>&lt;chr&gt;</th><th scope=col>&lt;int&gt;</th><th scope=col>&lt;dbl&gt;</th><th scope=col>&lt;dbl&gt;</th><th scope=col>&lt;dbl&gt;</th><th scope=col>&lt;dbl&gt;</th><th scope=col>&lt;dbl&gt;</th><th scope=col>&lt;dbl&gt;</th><th scope=col>&lt;dbl&gt;</th><th scope=col>&lt;dbl&gt;</th></tr>\n",
       "</thead>\n",
       "<tbody>\n",
       "\t<tr><th scope=row>1</th><td>Afghanistan</td><td>2009</td><td>0.0000000</td><td>0.0000000</td><td>0</td><td>0.6931472</td><td>1.945910</td><td>1.098612</td><td>0.0000000</td><td>0.6931472</td></tr>\n",
       "\t<tr><th scope=row>2</th><td>Afghanistan</td><td>2010</td><td>0.6931472</td><td>0.6931472</td><td>0</td><td>0.6931472</td><td>1.098612</td><td>2.484907</td><td>0.6931472</td><td>2.1972246</td></tr>\n",
       "</tbody>\n",
       "</table>\n"
      ],
      "text/latex": [
       "A data.frame: 2 × 10\n",
       "\\begin{tabular}{r|llllllllll}\n",
       "  & author\\_distinct & year & China\\_prev & EU\\_prev & France\\_prev & Germany\\_prev & United.Kingdom\\_prev & United.States\\_prev & domestic\\_prev & others\\_prev\\\\\n",
       "  & <chr> & <int> & <dbl> & <dbl> & <dbl> & <dbl> & <dbl> & <dbl> & <dbl> & <dbl>\\\\\n",
       "\\hline\n",
       "\t1 & Afghanistan & 2009 & 0.0000000 & 0.0000000 & 0 & 0.6931472 & 1.945910 & 1.098612 & 0.0000000 & 0.6931472\\\\\n",
       "\t2 & Afghanistan & 2010 & 0.6931472 & 0.6931472 & 0 & 0.6931472 & 1.098612 & 2.484907 & 0.6931472 & 2.1972246\\\\\n",
       "\\end{tabular}\n"
      ],
      "text/markdown": [
       "\n",
       "A data.frame: 2 × 10\n",
       "\n",
       "| <!--/--> | author_distinct &lt;chr&gt; | year &lt;int&gt; | China_prev &lt;dbl&gt; | EU_prev &lt;dbl&gt; | France_prev &lt;dbl&gt; | Germany_prev &lt;dbl&gt; | United.Kingdom_prev &lt;dbl&gt; | United.States_prev &lt;dbl&gt; | domestic_prev &lt;dbl&gt; | others_prev &lt;dbl&gt; |\n",
       "|---|---|---|---|---|---|---|---|---|---|---|\n",
       "| 1 | Afghanistan | 2009 | 0.0000000 | 0.0000000 | 0 | 0.6931472 | 1.945910 | 1.098612 | 0.0000000 | 0.6931472 |\n",
       "| 2 | Afghanistan | 2010 | 0.6931472 | 0.6931472 | 0 | 0.6931472 | 1.098612 | 2.484907 | 0.6931472 | 2.1972246 |\n",
       "\n"
      ],
      "text/plain": [
       "  author_distinct year China_prev EU_prev   France_prev Germany_prev\n",
       "1 Afghanistan     2009 0.0000000  0.0000000 0           0.6931472   \n",
       "2 Afghanistan     2010 0.6931472  0.6931472 0           0.6931472   \n",
       "  United.Kingdom_prev United.States_prev domestic_prev others_prev\n",
       "1 1.945910            1.098612           0.0000000     0.6931472  \n",
       "2 1.098612            2.484907           0.6931472     2.1972246  "
      ]
     },
     "metadata": {},
     "output_type": "display_data"
    }
   ],
   "source": [
    "head(fund_prev,2)"
   ]
  },
  {
   "cell_type": "code",
   "execution_count": 35,
   "id": "08012894",
   "metadata": {},
   "outputs": [],
   "source": [
    "iv_df2=merge(data,fund_prev, by.x=c(\"cntry\",\"year_prev\"),by.y=c(\"author_distinct\",'year'))"
   ]
  },
  {
   "cell_type": "code",
   "execution_count": 55,
   "id": "f2ea36db",
   "metadata": {},
   "outputs": [
    {
     "data": {
      "text/plain": [
       "OLS estimation, Dep. Var.: domestic\n",
       "Observations: 1,719 \n",
       "Standard-errors: IID \n",
       "                Estimate Std. Error   t value   Pr(>|t|)    \n",
       "(Intercept)    -0.221166   0.048900 -4.522784 6.5233e-06 ***\n",
       "domestic_prev   0.887502   0.011552 76.826056  < 2.2e-16 ***\n",
       "pubcnt_prev     0.066948   0.016951  3.949508 8.1494e-05 ***\n",
       "China           0.006312   0.009519  0.663028 5.0740e-01    \n",
       "EU             -0.032021   0.016641 -1.924264 5.4487e-02 .  \n",
       "France          0.015784   0.011804  1.337109 1.8137e-01    \n",
       "Germany         0.023731   0.014895  1.593194 1.1130e-01    \n",
       "United.Kingdom  0.019514   0.016753  1.164801 2.4426e-01    \n",
       "United.States  -0.011493   0.015128 -0.759696 4.4754e-01    \n",
       "others          0.054893   0.016372  3.352771 8.1754e-04 ***\n",
       "---\n",
       "Signif. codes:  0 '***' 0.001 '**' 0.01 '*' 0.05 '.' 0.1 ' ' 1\n",
       "RMSE: 0.429396   Adj. R2: 0.984108"
      ]
     },
     "metadata": {},
     "output_type": "display_data"
    }
   ],
   "source": [
    "feols(domestic~domestic_prev+pubcnt_prev+China+EU+France+Germany+United.Kingdom+United.States+others,\n",
    "      data=iv_df2)"
   ]
  },
  {
   "cell_type": "code",
   "execution_count": 67,
   "id": "14e8c2cd",
   "metadata": {},
   "outputs": [],
   "source": [
    "iv_prev=feols(\n",
    "    growth_rate~pubcnt_prev+United.States+EU+France+Germany+United.Kingdom+others+China|cntry+year_curr|domestic~domestic_prev,\n",
    "    data=iv_df2,cluster=c('cntry','year_curr'))"
   ]
  },
  {
   "cell_type": "code",
   "execution_count": 68,
   "id": "76da3ef6",
   "metadata": {},
   "outputs": [
    {
     "data": {
      "text/plain": [
       "TSLS estimation, Dep. Var.: growth_rate, Endo.: domestic, Instr.: domestic_prev\n",
       "Second stage: Dep. Var.: growth_rate\n",
       "Observations: 1,719 \n",
       "Fixed-effects: cntry: 201,  year_curr: 9\n",
       "Standard-errors: Clustered (cntry & year_curr) \n",
       "                Estimate Std. Error   t value   Pr(>|t|)    \n",
       "fit_domestic    0.364811   0.239945  1.520393 1.6690e-01    \n",
       "pubcnt_prev    -1.171933   0.135083 -8.675641 2.4252e-05 ***\n",
       "United.States   0.138809   0.037294  3.721991 5.8546e-03 ** \n",
       "EU             -0.033706   0.045781 -0.736237 4.8261e-01    \n",
       "France          0.012840   0.056046  0.229096 8.2454e-01    \n",
       "Germany         0.044886   0.037017  1.212577 2.5988e-01    \n",
       "United.Kingdom -0.016125   0.032824 -0.491252 6.3644e-01    \n",
       "others          0.261515   0.089285  2.929005 1.9027e-02 *  \n",
       "China           0.025206   0.020847  1.209108 2.6114e-01    \n",
       "---\n",
       "Signif. codes:  0 '***' 0.001 '**' 0.01 '*' 0.05 '.' 0.1 ' ' 1\n",
       "RMSE: 0.390417     Adj. R2: 0.426566\n",
       "                 Within R2: 0.376703\n",
       "F-test (1st stage), domestic: stat = 129.5    , p < 2.2e-16 , on 1 and 1,709 DoF.\n",
       "                  Wu-Hausman: stat =   4.64576, p = 0.031289, on 1 and 1,500 DoF."
      ]
     },
     "metadata": {},
     "output_type": "display_data"
    }
   ],
   "source": [
    "summary(iv_prev)"
   ]
  },
  {
   "cell_type": "code",
   "execution_count": 69,
   "id": "9350136e",
   "metadata": {},
   "outputs": [
    {
     "data": {
      "text/plain": [
       "TSLS estimation, Dep. Var.: domestic, Endo.: domestic, Instr.: domestic_prev\n",
       "First stage: Dep. Var.: domestic\n",
       "Observations: 1,719 \n",
       "Fixed-effects: cntry: 201,  year_curr: 9\n",
       "Standard-errors: Clustered (cntry & year_curr) \n",
       "                Estimate Std. Error   t value  Pr(>|t|)    \n",
       "domestic_prev   0.258896   0.065981  3.923808 0.0043948 ** \n",
       "pubcnt_prev     0.123614   0.034854  3.546656 0.0075462 ** \n",
       "United.States   0.040910   0.034987  1.169289 0.2759444    \n",
       "EU             -0.000235   0.029870 -0.007876 0.9939088    \n",
       "France          0.020149   0.023127  0.871250 0.4090011    \n",
       "Germany         0.007584   0.021347  0.355289 0.7315584    \n",
       "United.Kingdom  0.038567   0.025720  1.499469 0.1721379    \n",
       "others          0.127580   0.027999  4.556554 0.0018583 ** \n",
       "China           0.021209   0.007177  2.954994 0.0182856 *  \n",
       "---\n",
       "Signif. codes:  0 '***' 0.001 '**' 0.01 '*' 0.05 '.' 0.1 ' ' 1\n",
       "RMSE: 0.330739     Adj. R2: 0.989266\n",
       "                 Within R2: 0.202147\n",
       "F-test (1st stage): stat = 129.5, p < 2.2e-16, on 1 and 1,709 DoF."
      ]
     },
     "metadata": {},
     "output_type": "display_data"
    }
   ],
   "source": [
    "summary(iv_prev, stage=1)"
   ]
  },
  {
   "cell_type": "code",
   "execution_count": 65,
   "id": "1ca5468a",
   "metadata": {},
   "outputs": [],
   "source": [
    "feols_model = feols(\n",
    "    growth_rate~pubcnt_prev+China+EU+France+Germany+United.Kingdom+United.States+domestic+others+others_prev|cntry+year_curr,\n",
    "    data=iv_df2)"
   ]
  },
  {
   "cell_type": "code",
   "execution_count": 66,
   "id": "42d26f42",
   "metadata": {},
   "outputs": [
    {
     "data": {
      "text/plain": [
       "OLS estimation, Dep. Var.: growth_rate\n",
       "Observations: 1,719 \n",
       "Fixed-effects: cntry: 201,  year_curr: 9\n",
       "Standard-errors: Clustered (cntry) \n",
       "                Estimate Std. Error   t value   Pr(>|t|)    \n",
       "pubcnt_prev    -1.078086   0.113629 -9.487802  < 2.2e-16 ***\n",
       "China           0.031676   0.023220  1.364178 1.7404e-01    \n",
       "EU             -0.018040   0.044368 -0.406597 6.8474e-01    \n",
       "France          0.027881   0.048773  0.571643 5.6821e-01    \n",
       "Germany         0.050855   0.033439  1.520834 1.2988e-01    \n",
       "United.Kingdom -0.007303   0.022578 -0.323480 7.4667e-01    \n",
       "United.States   0.148512   0.030897  4.806612 3.0109e-06 ***\n",
       "domestic        0.139200   0.032243  4.317172 2.4852e-05 ***\n",
       "others          0.298562   0.065434  4.562794 8.7974e-06 ***\n",
       "others_prev    -0.066167   0.029751 -2.224019 2.7266e-02 *  \n",
       "---\n",
       "Signif. codes:  0 '***' 0.001 '**' 0.01 '*' 0.05 '.' 0.1 ' ' 1\n",
       "RMSE: 0.381718     Adj. R2: 0.451468\n",
       "                 Within R2: 0.404168"
      ]
     },
     "metadata": {},
     "output_type": "display_data"
    }
   ],
   "source": [
    "summary(feols_model)"
   ]
  },
  {
   "cell_type": "code",
   "execution_count": null,
   "id": "03641e4f",
   "metadata": {},
   "outputs": [],
   "source": []
  }
 ],
 "metadata": {
  "kernelspec": {
   "display_name": "R",
   "language": "R",
   "name": "ir"
  },
  "language_info": {
   "codemirror_mode": "r",
   "file_extension": ".r",
   "mimetype": "text/x-r-source",
   "name": "R",
   "pygments_lexer": "r",
   "version": "4.2.3"
  }
 },
 "nbformat": 4,
 "nbformat_minor": 5
}
