{
 "cells": [
  {
   "cell_type": "markdown",
   "id": "c4560809-054d-4a1a-978e-8f293d920e61",
   "metadata": {},
   "source": [
    "this script compares the funding ratio between wos and dimensions"
   ]
  },
  {
   "cell_type": "code",
   "execution_count": 1,
   "id": "dff657fe-5b22-4b27-a9b0-4dc307679676",
   "metadata": {},
   "outputs": [],
   "source": [
    "import pandas as pd"
   ]
  },
  {
   "cell_type": "code",
   "execution_count": 2,
   "id": "ef6e6bae-b398-4f0c-bf56-ce5ec73a67d1",
   "metadata": {},
   "outputs": [],
   "source": [
    "df_path = '../../data/NationalFunding/Data/RobustCheck/funding_dimensions_sample.csv'"
   ]
  },
  {
   "cell_type": "code",
   "execution_count": 3,
   "id": "2fb17c39-0a0d-463f-a98a-b297d49e9d69",
   "metadata": {},
   "outputs": [],
   "source": [
    "df = pd.read_csv(df_path,sep=\"\\t\")"
   ]
  },
  {
   "cell_type": "code",
   "execution_count": 4,
   "id": "cd4475b3-7716-4393-8e4d-d307b9b0eabe",
   "metadata": {},
   "outputs": [],
   "source": [
    "wos_df = df[['doi','wos_agency']].dropna()\n",
    "wos_df = wos_df.groupby('doi')['wos_agency'].apply(list).reset_index()"
   ]
  },
  {
   "cell_type": "code",
   "execution_count": 5,
   "id": "31198c02-f586-46a5-858f-1b9e1746a7cf",
   "metadata": {},
   "outputs": [],
   "source": [
    "dmns_df = df[['doi','organization_name']].dropna()\n",
    "dmns_df = dmns_df.groupby('doi')['organization_name'].apply(list).reset_index()"
   ]
  },
  {
   "cell_type": "code",
   "execution_count": 6,
   "id": "3851e5c8-c11d-4034-acbb-f20b5cd1601b",
   "metadata": {},
   "outputs": [],
   "source": [
    "meta = wos_df.merge(dmns_df, on='doi', indicator=True, how='outer')"
   ]
  },
  {
   "cell_type": "code",
   "execution_count": 7,
   "id": "b75df350-eec1-48be-acdb-726eca399f3b",
   "metadata": {},
   "outputs": [
    {
     "data": {
      "text/html": [
       "<div>\n",
       "<style scoped>\n",
       "    .dataframe tbody tr th:only-of-type {\n",
       "        vertical-align: middle;\n",
       "    }\n",
       "\n",
       "    .dataframe tbody tr th {\n",
       "        vertical-align: top;\n",
       "    }\n",
       "\n",
       "    .dataframe thead th {\n",
       "        text-align: right;\n",
       "    }\n",
       "</style>\n",
       "<table border=\"1\" class=\"dataframe\">\n",
       "  <thead>\n",
       "    <tr style=\"text-align: right;\">\n",
       "      <th></th>\n",
       "      <th>doi</th>\n",
       "      <th>wos_agency</th>\n",
       "      <th>organization_name</th>\n",
       "      <th>_merge</th>\n",
       "    </tr>\n",
       "  </thead>\n",
       "  <tbody>\n",
       "    <tr>\n",
       "      <th>0</th>\n",
       "      <td>10.1001/archdermatol.2008.519</td>\n",
       "      <td>[l'Association de Recherche en Virologie et De...</td>\n",
       "      <td>NaN</td>\n",
       "      <td>left_only</td>\n",
       "    </tr>\n",
       "    <tr>\n",
       "      <th>1</th>\n",
       "      <td>10.1001/archinternmed.2008.551</td>\n",
       "      <td>[Physicians' Foundation for Health Systems Exc...</td>\n",
       "      <td>NaN</td>\n",
       "      <td>left_only</td>\n",
       "    </tr>\n",
       "    <tr>\n",
       "      <th>5</th>\n",
       "      <td>10.1002/cjoc.200990362</td>\n",
       "      <td>[Harbin Bureau of Science and Technology, Supe...</td>\n",
       "      <td>NaN</td>\n",
       "      <td>left_only</td>\n",
       "    </tr>\n",
       "    <tr>\n",
       "      <th>7</th>\n",
       "      <td>10.1002/hlca.200900135</td>\n",
       "      <td>[Korea Food and Drag Administration, Oriental ...</td>\n",
       "      <td>NaN</td>\n",
       "      <td>left_only</td>\n",
       "    </tr>\n",
       "    <tr>\n",
       "      <th>8</th>\n",
       "      <td>10.1007/BF03321515</td>\n",
       "      <td>[Asher Space Research Institute, Ilan Ramon Gr...</td>\n",
       "      <td>NaN</td>\n",
       "      <td>left_only</td>\n",
       "    </tr>\n",
       "    <tr>\n",
       "      <th>9</th>\n",
       "      <td>10.1007/BF03355440</td>\n",
       "      <td>[European Project Nadia (New Automotive Compon...</td>\n",
       "      <td>NaN</td>\n",
       "      <td>left_only</td>\n",
       "    </tr>\n",
       "    <tr>\n",
       "      <th>10</th>\n",
       "      <td>10.1007/BF03403425</td>\n",
       "      <td>[Beneficiation Technical Advisory Committee, F...</td>\n",
       "      <td>NaN</td>\n",
       "      <td>left_only</td>\n",
       "    </tr>\n",
       "    <tr>\n",
       "      <th>11</th>\n",
       "      <td>10.1007/s10512-009-9189-z</td>\n",
       "      <td>[Russian Foundation for Basic Research]</td>\n",
       "      <td>NaN</td>\n",
       "      <td>left_only</td>\n",
       "    </tr>\n",
       "    <tr>\n",
       "      <th>12</th>\n",
       "      <td>10.1007/s10512-010-9224-0</td>\n",
       "      <td>[Federal Atomic Energy Agency of the Russian F...</td>\n",
       "      <td>NaN</td>\n",
       "      <td>left_only</td>\n",
       "    </tr>\n",
       "    <tr>\n",
       "      <th>13</th>\n",
       "      <td>10.1007/s11094-009-0336-6</td>\n",
       "      <td>[RF Ministry of Education and Science]</td>\n",
       "      <td>NaN</td>\n",
       "      <td>left_only</td>\n",
       "    </tr>\n",
       "    <tr>\n",
       "      <th>14</th>\n",
       "      <td>10.1007/s11253-009-0196-y</td>\n",
       "      <td>[Ukrainian State Foundation for Fundamental Re...</td>\n",
       "      <td>NaN</td>\n",
       "      <td>left_only</td>\n",
       "    </tr>\n",
       "  </tbody>\n",
       "</table>\n",
       "</div>"
      ],
      "text/plain": [
       "                               doi   \n",
       "0    10.1001/archdermatol.2008.519  \\\n",
       "1   10.1001/archinternmed.2008.551   \n",
       "5           10.1002/cjoc.200990362   \n",
       "7           10.1002/hlca.200900135   \n",
       "8               10.1007/BF03321515   \n",
       "9               10.1007/BF03355440   \n",
       "10              10.1007/BF03403425   \n",
       "11       10.1007/s10512-009-9189-z   \n",
       "12       10.1007/s10512-010-9224-0   \n",
       "13       10.1007/s11094-009-0336-6   \n",
       "14       10.1007/s11253-009-0196-y   \n",
       "\n",
       "                                           wos_agency organization_name   \n",
       "0   [l'Association de Recherche en Virologie et De...               NaN  \\\n",
       "1   [Physicians' Foundation for Health Systems Exc...               NaN   \n",
       "5   [Harbin Bureau of Science and Technology, Supe...               NaN   \n",
       "7   [Korea Food and Drag Administration, Oriental ...               NaN   \n",
       "8   [Asher Space Research Institute, Ilan Ramon Gr...               NaN   \n",
       "9   [European Project Nadia (New Automotive Compon...               NaN   \n",
       "10  [Beneficiation Technical Advisory Committee, F...               NaN   \n",
       "11            [Russian Foundation for Basic Research]               NaN   \n",
       "12  [Federal Atomic Energy Agency of the Russian F...               NaN   \n",
       "13             [RF Ministry of Education and Science]               NaN   \n",
       "14  [Ukrainian State Foundation for Fundamental Re...               NaN   \n",
       "\n",
       "       _merge  \n",
       "0   left_only  \n",
       "1   left_only  \n",
       "5   left_only  \n",
       "7   left_only  \n",
       "8   left_only  \n",
       "9   left_only  \n",
       "10  left_only  \n",
       "11  left_only  \n",
       "12  left_only  \n",
       "13  left_only  \n",
       "14  left_only  "
      ]
     },
     "execution_count": 7,
     "metadata": {},
     "output_type": "execute_result"
    }
   ],
   "source": [
    "meta[meta._merge.isin([\"left_only\"])].head(11\n",
    "                                          )"
   ]
  },
  {
   "cell_type": "code",
   "execution_count": 9,
   "id": "dfa841a1-dabe-4074-b809-ab4f8841bf44",
   "metadata": {},
   "outputs": [
    {
     "data": {
      "text/plain": [
       "(15, 4)"
      ]
     },
     "execution_count": 9,
     "metadata": {},
     "output_type": "execute_result"
    }
   ],
   "source": [
    "meta[meta._merge.isin(['right_only'])].shape"
   ]
  },
  {
   "cell_type": "code",
   "execution_count": null,
   "id": "f7078aa8-6c2b-4138-9a9e-5a28ca9c7c21",
   "metadata": {},
   "outputs": [],
   "source": [
    "[1,0,0,1,1,1,1,1,1(footnote),1,1,2(dimensions mistake),1,1,1]"
   ]
  }
 ],
 "metadata": {
  "kernelspec": {
   "display_name": "Python 3 (ipykernel)",
   "language": "python",
   "name": "python3"
  },
  "language_info": {
   "codemirror_mode": {
    "name": "ipython",
    "version": 3
   },
   "file_extension": ".py",
   "mimetype": "text/x-python",
   "name": "python",
   "nbconvert_exporter": "python",
   "pygments_lexer": "ipython3",
   "version": "3.8.16"
  }
 },
 "nbformat": 4,
 "nbformat_minor": 5
}
