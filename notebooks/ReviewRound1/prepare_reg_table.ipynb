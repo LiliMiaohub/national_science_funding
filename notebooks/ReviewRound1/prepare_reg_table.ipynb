{
 "cells": [
  {
   "cell_type": "markdown",
   "id": "32bb47f8-acd0-4feb-8c86-5f1caf96aac5",
   "metadata": {},
   "source": [
    "## this script use fixed-effect model to estimate the importance of different funding sources"
   ]
  },
  {
   "cell_type": "code",
   "execution_count": 1,
   "id": "508f4dd3-abed-4efc-8bb4-2ff4dbb3eede",
   "metadata": {},
   "outputs": [],
   "source": [
    "import pandas as pd\n",
    "import numpy as np\n",
    "from itertools import combinations\n",
    "import tqdm"
   ]
  },
  {
   "cell_type": "code",
   "execution_count": 2,
   "id": "eedac576-283b-4e93-a535-7d3f8f92c8f8",
   "metadata": {},
   "outputs": [],
   "source": [
    "pub_path = \"../../data/NationalFunding/Data/DerivedData/CleanedRawData/pub.pkl\""
   ]
  },
  {
   "cell_type": "code",
   "execution_count": 3,
   "id": "799f5263-0b67-4596-b06e-8975314e2ea4",
   "metadata": {},
   "outputs": [],
   "source": [
    "df = pd.read_pickle(pub_path)"
   ]
  },
  {
   "cell_type": "code",
   "execution_count": 4,
   "id": "10f7e63a-1478-4263-aedf-a973b71f7726",
   "metadata": {},
   "outputs": [
    {
     "data": {
      "text/html": [
       "<div>\n",
       "<style scoped>\n",
       "    .dataframe tbody tr th:only-of-type {\n",
       "        vertical-align: middle;\n",
       "    }\n",
       "\n",
       "    .dataframe tbody tr th {\n",
       "        vertical-align: top;\n",
       "    }\n",
       "\n",
       "    .dataframe thead th {\n",
       "        text-align: right;\n",
       "    }\n",
       "</style>\n",
       "<table border=\"1\" class=\"dataframe\">\n",
       "  <thead>\n",
       "    <tr style=\"text-align: right;\">\n",
       "      <th></th>\n",
       "      <th>id</th>\n",
       "      <th>year</th>\n",
       "      <th>dis</th>\n",
       "      <th>type</th>\n",
       "      <th>author</th>\n",
       "      <th>funder</th>\n",
       "      <th>author_distinct</th>\n",
       "      <th>funder_distinct</th>\n",
       "      <th>funded</th>\n",
       "      <th>IntCol</th>\n",
       "      <th>cofund</th>\n",
       "      <th>intfund</th>\n",
       "    </tr>\n",
       "  </thead>\n",
       "  <tbody>\n",
       "    <tr>\n",
       "      <th>2334018</th>\n",
       "      <td>51212588</td>\n",
       "      <td>2013</td>\n",
       "      <td>82</td>\n",
       "      <td>1</td>\n",
       "      <td>[Iran]</td>\n",
       "      <td>Not-Funded</td>\n",
       "      <td>[Iran]</td>\n",
       "      <td>Not-Funded</td>\n",
       "      <td>0</td>\n",
       "      <td>0</td>\n",
       "      <td>0</td>\n",
       "      <td>0</td>\n",
       "    </tr>\n",
       "    <tr>\n",
       "      <th>6821579</th>\n",
       "      <td>47688318</td>\n",
       "      <td>2011</td>\n",
       "      <td>8</td>\n",
       "      <td>1</td>\n",
       "      <td>[Greece]</td>\n",
       "      <td>Not-Funded</td>\n",
       "      <td>[Greece]</td>\n",
       "      <td>Not-Funded</td>\n",
       "      <td>0</td>\n",
       "      <td>0</td>\n",
       "      <td>0</td>\n",
       "      <td>0</td>\n",
       "    </tr>\n",
       "  </tbody>\n",
       "</table>\n",
       "</div>"
      ],
      "text/plain": [
       "               id  year  dis  type    author      funder author_distinct   \n",
       "2334018  51212588  2013   82     1    [Iran]  Not-Funded          [Iran]  \\\n",
       "6821579  47688318  2011    8     1  [Greece]  Not-Funded        [Greece]   \n",
       "\n",
       "        funder_distinct  funded  IntCol  cofund  intfund  \n",
       "2334018      Not-Funded       0       0       0        0  \n",
       "6821579      Not-Funded       0       0       0        0  "
      ]
     },
     "execution_count": 4,
     "metadata": {},
     "output_type": "execute_result"
    }
   ],
   "source": [
    "df.sample(2)"
   ]
  },
  {
   "cell_type": "code",
   "execution_count": 5,
   "id": "87ba2690-916d-40a0-ba47-3cce8914fdab",
   "metadata": {},
   "outputs": [],
   "source": [
    "def get_pubcnt_cntry_year(df):\n",
    "    df = df[['id','year','author_distinct']].explode('author_distinct')\n",
    "    df = df.groupby(['author_distinct','year']).size().reset_index(name='pubcnt')\n",
    "    df = df.rename(columns={'author_distinct':'cntry'})\n",
    "    return df"
   ]
  },
  {
   "cell_type": "code",
   "execution_count": 6,
   "id": "34abee7c-0214-405f-b2b9-41324bb50c67",
   "metadata": {},
   "outputs": [],
   "source": [
    "def get_fundcnt_from_cntrys(df):\n",
    "    df = df[df.funder!='Not-Funded']\n",
    "    pub2cntry = df[['id','year','author_distinct','funder']].explode('author_distinct') #assign publications into author countries\n",
    "    fund2cntry = pub2cntry.explode('funder').groupby(['author_distinct','year','funder']).size().reset_index(name='fundcnt')\n",
    "    fund2cntry = fund2cntry.rename(columns={'author_distinct':'cntry'})\n",
    "    return fund2cntry"
   ]
  },
  {
   "cell_type": "code",
   "execution_count": 7,
   "id": "7b2742b7-865a-4883-8a9e-1d1b8e5172dc",
   "metadata": {},
   "outputs": [],
   "source": [
    "def map_funder_to_new_name(fund2cntry, topcntrys):\n",
    "    topcntrys_dict = dict(zip(topcntrys, topcntrys))\n",
    "    #replace the non-top funders to \"others\"\n",
    "    df = fund2cntry.copy()\n",
    "    df['region'] = df['funder'].copy()\n",
    "    df['region'] = df['region'].map(topcntrys_dict)\n",
    "    df['region'] = df['region'].fillna('others')\n",
    "    df.loc[df['cntry']==df['funder'],'region']='domestic' #assign \"domestic\"\n",
    "    return df"
   ]
  },
  {
   "cell_type": "code",
   "execution_count": 8,
   "id": "77b69a01-8bf9-4e55-ab17-a49bded97b3e",
   "metadata": {},
   "outputs": [],
   "source": [
    "def group_fund_by_region(fund2cntry):\n",
    "    #group the amount of fund by region\n",
    "    fund_by_region = fund2cntry.groupby(['cntry','year','region'])['fundcnt'].sum().reset_index() \n",
    "    fund_by_region = fund_by_region.pivot_table(\n",
    "        index=['cntry','year'], columns=['region'],values='fundcnt',fill_value=0)\n",
    "    fund_by_region['foreign'] = fund_by_region.loc[:, fund_by_region.columns != 'domestic'].sum(axis=1)\n",
    "    #for those regions that \n",
    "    fund_by_region = np.log(fund_by_region+1).reset_index()\n",
    "    return fund_by_region"
   ]
  },
  {
   "cell_type": "code",
   "execution_count": 9,
   "id": "30a95bed-63d7-4dab-b6d6-dfb1f85767fe",
   "metadata": {},
   "outputs": [],
   "source": [
    "def add_previous_pub(pubcnt):\n",
    "    df_curr = pubcnt[pubcnt.year>2009]\n",
    "    df_curr = df_curr.rename(columns={'year':'year_curr','pubcnt':'pubcnt_curr'})\n",
    "    df_prev = pubcnt[pubcnt.year<2018]\n",
    "    df_prev = df_prev.rename(columns={'year':'year_prev','pubcnt':'pubcnt_prev'})\n",
    "    df_curr['year_prev'] = df_curr['year_curr']-1\n",
    "    df = df_curr.merge(df_prev, on=['cntry','year_prev'])\n",
    "    return df"
   ]
  },
  {
   "cell_type": "markdown",
   "id": "425a3b64-1659-4315-a2bf-a1b1de73cc6b",
   "metadata": {},
   "source": [
    "#### get the amount of grants from each top countries"
   ]
  },
  {
   "cell_type": "code",
   "execution_count": 10,
   "id": "b7de580d-da4f-4954-95fa-12dc1ef99646",
   "metadata": {},
   "outputs": [],
   "source": [
    "fund_by_cntry = get_fundcnt_from_cntrys(df)\n",
    "topcntrys=['United States','China','EU','United Kingdom','France','Germany']\n",
    "fund_by_cntry_region = map_funder_to_new_name(fund_by_cntry, topcntrys)\n",
    "fund_by_region = group_fund_by_region(fund_by_cntry_region)"
   ]
  },
  {
   "cell_type": "code",
   "execution_count": 11,
   "id": "bdffd3bd-aae8-462d-a4c7-d46f33858486",
   "metadata": {},
   "outputs": [],
   "source": [
    "test = fund_by_cntry_region.copy()"
   ]
  },
  {
   "cell_type": "code",
   "execution_count": 31,
   "id": "9133c98b-98c7-4d75-aa4d-74124a803fac",
   "metadata": {},
   "outputs": [
    {
     "data": {
      "text/plain": [
       "21233"
      ]
     },
     "execution_count": 31,
     "metadata": {},
     "output_type": "execute_result"
    }
   ],
   "source": [
    "test[(test.cntry=='Australia')&(test.year==2009)].sort_values(by='fundcnt',ascending=False)"
   ]
  },
  {
   "cell_type": "code",
   "execution_count": 13,
   "id": "49949ca2-6b0d-4a95-a51a-11fc8ff2f8f6",
   "metadata": {},
   "outputs": [
    {
     "data": {
      "text/html": [
       "<div>\n",
       "<style scoped>\n",
       "    .dataframe tbody tr th:only-of-type {\n",
       "        vertical-align: middle;\n",
       "    }\n",
       "\n",
       "    .dataframe tbody tr th {\n",
       "        vertical-align: top;\n",
       "    }\n",
       "\n",
       "    .dataframe thead th {\n",
       "        text-align: right;\n",
       "    }\n",
       "</style>\n",
       "<table border=\"1\" class=\"dataframe\">\n",
       "  <thead>\n",
       "    <tr style=\"text-align: right;\">\n",
       "      <th></th>\n",
       "      <th>id</th>\n",
       "      <th>year</th>\n",
       "      <th>dis</th>\n",
       "      <th>type</th>\n",
       "      <th>author</th>\n",
       "      <th>funder</th>\n",
       "      <th>author_distinct</th>\n",
       "      <th>funder_distinct</th>\n",
       "      <th>funded</th>\n",
       "      <th>IntCol</th>\n",
       "      <th>cofund</th>\n",
       "      <th>intfund</th>\n",
       "    </tr>\n",
       "  </thead>\n",
       "  <tbody>\n",
       "    <tr>\n",
       "      <th>0</th>\n",
       "      <td>60694041</td>\n",
       "      <td>2017</td>\n",
       "      <td>9</td>\n",
       "      <td>1</td>\n",
       "      <td>[Canada, United States]</td>\n",
       "      <td>[United States, United States]</td>\n",
       "      <td>[Canada, United States]</td>\n",
       "      <td>[United States]</td>\n",
       "      <td>1</td>\n",
       "      <td>1</td>\n",
       "      <td>0</td>\n",
       "      <td>0</td>\n",
       "    </tr>\n",
       "    <tr>\n",
       "      <th>1</th>\n",
       "      <td>48573156</td>\n",
       "      <td>2012</td>\n",
       "      <td>89</td>\n",
       "      <td>1</td>\n",
       "      <td>[France]</td>\n",
       "      <td>Not-Funded</td>\n",
       "      <td>[France]</td>\n",
       "      <td>Not-Funded</td>\n",
       "      <td>0</td>\n",
       "      <td>0</td>\n",
       "      <td>0</td>\n",
       "      <td>0</td>\n",
       "    </tr>\n",
       "  </tbody>\n",
       "</table>\n",
       "</div>"
      ],
      "text/plain": [
       "         id  year  dis  type                   author   \n",
       "0  60694041  2017    9     1  [Canada, United States]  \\\n",
       "1  48573156  2012   89     1                 [France]   \n",
       "\n",
       "                           funder          author_distinct  funder_distinct   \n",
       "0  [United States, United States]  [Canada, United States]  [United States]  \\\n",
       "1                      Not-Funded                 [France]       Not-Funded   \n",
       "\n",
       "   funded  IntCol  cofund  intfund  \n",
       "0       1       1       0        0  \n",
       "1       0       0       0        0  "
      ]
     },
     "execution_count": 13,
     "metadata": {},
     "output_type": "execute_result"
    }
   ],
   "source": [
    "df.head(2)"
   ]
  },
  {
   "cell_type": "code",
   "execution_count": 33,
   "id": "491da4cc-35c1-4f9b-9b3f-187cc889e901",
   "metadata": {},
   "outputs": [],
   "source": [
    "tt1 = df[(df.year==2009)&(df.funder!='Not-Funded')].explode(\"author_distinct\")"
   ]
  },
  {
   "cell_type": "code",
   "execution_count": 37,
   "id": "6f0f2e6c-d7cb-4a95-ba4e-18e6322b08fc",
   "metadata": {},
   "outputs": [
    {
     "name": "stderr",
     "output_type": "stream",
     "text": [
      "/tmp/ipykernel_2156404/3051843278.py:1: SettingWithCopyWarning: \n",
      "A value is trying to be set on a copy of a slice from a DataFrame.\n",
      "Try using .loc[row_indexer,col_indexer] = value instead\n",
      "\n",
      "See the caveats in the documentation: https://pandas.pydata.org/pandas-docs/stable/user_guide/indexing.html#returning-a-view-versus-a-copy\n",
      "  t['t'] = t.apply(lambda x:1 if len(x.funder_distinct)==1 and x.funder_distinct[0]=='Australia' else 0, axis=1)\n"
     ]
    }
   ],
   "source": [
    "t['t'] = t.apply(lambda x:1 if len(x.funder_distinct)==1 and x.funder_distinct[0]=='Australia' else 0, axis=1)"
   ]
  },
  {
   "cell_type": "code",
   "execution_count": 42,
   "id": "378f1b8a-1194-42f3-9ead-80baf3cdd648",
   "metadata": {},
   "outputs": [
    {
     "data": {
      "text/plain": [
       "funder_distinct\n",
       "Australia         3173\n",
       "United States     2900\n",
       "China             1164\n",
       "United Kingdom    1152\n",
       "Germany            531\n",
       "                  ... \n",
       "Brunei               1\n",
       "Bulgaria             1\n",
       "Nigeria              1\n",
       "Iraq                 1\n",
       "Zimbabwe             1\n",
       "Length: 89, dtype: int64"
      ]
     },
     "execution_count": 42,
     "metadata": {},
     "output_type": "execute_result"
    }
   ],
   "source": [
    "t[t.t==0].explode('funder_distinct').groupby('funder_distinct').size().sort_values(ascending=False)"
   ]
  },
  {
   "cell_type": "code",
   "execution_count": 40,
   "id": "32a8ddce-abec-4cd3-a6f7-344bd97906b3",
   "metadata": {},
   "outputs": [
    {
     "data": {
      "text/plain": [
       "0.5183003258962146"
      ]
     },
     "execution_count": 40,
     "metadata": {},
     "output_type": "execute_result"
    }
   ],
   "source": [
    "8270/15956"
   ]
  },
  {
   "cell_type": "markdown",
   "id": "3a20de43-cd78-4ead-aac6-f3342d61c352",
   "metadata": {},
   "source": [
    "#### get the number of publications authored by countries between two consecutive years"
   ]
  },
  {
   "cell_type": "code",
   "execution_count": 49,
   "id": "33275a79-6872-482f-88b3-e5e3c3dbcd81",
   "metadata": {},
   "outputs": [],
   "source": [
    "pubcnt = get_pubcnt_cntry_year(df)\n",
    "pubcnt_new = add_previous_pub(pubcnt)"
   ]
  },
  {
   "cell_type": "code",
   "execution_count": 50,
   "id": "7afa5b2d-7df3-4560-9c99-98f79cef7259",
   "metadata": {},
   "outputs": [],
   "source": [
    "def calculate_growth_rate_take_log(df):\n",
    "    df['growth_rate']=(df['pubcnt_curr']/df['pubcnt_prev'])-1\n",
    "    #df['growth_rate']=df['growth_rate']\n",
    "    df['pubcnt_curr']=np.log(df['pubcnt_curr'])\n",
    "    df['pubcnt_prev']=np.log(df['pubcnt_prev'])\n",
    "    return df"
   ]
  },
  {
   "cell_type": "code",
   "execution_count": 51,
   "id": "a270f72a-0e45-49e5-ad58-9fdf352a0fde",
   "metadata": {},
   "outputs": [],
   "source": [
    "pubcnt_new=calculate_growth_rate_take_log(pubcnt_new)"
   ]
  },
  {
   "cell_type": "code",
   "execution_count": 52,
   "id": "abfa4d20-8867-40bb-9b18-c3b38f98c62e",
   "metadata": {},
   "outputs": [
    {
     "data": {
      "text/html": [
       "<div>\n",
       "<style scoped>\n",
       "    .dataframe tbody tr th:only-of-type {\n",
       "        vertical-align: middle;\n",
       "    }\n",
       "\n",
       "    .dataframe tbody tr th {\n",
       "        vertical-align: top;\n",
       "    }\n",
       "\n",
       "    .dataframe thead th {\n",
       "        text-align: right;\n",
       "    }\n",
       "</style>\n",
       "<table border=\"1\" class=\"dataframe\">\n",
       "  <thead>\n",
       "    <tr style=\"text-align: right;\">\n",
       "      <th></th>\n",
       "      <th>cntry</th>\n",
       "      <th>year_curr</th>\n",
       "      <th>pubcnt_curr</th>\n",
       "      <th>year_prev</th>\n",
       "      <th>pubcnt_prev</th>\n",
       "      <th>growth_rate</th>\n",
       "    </tr>\n",
       "  </thead>\n",
       "  <tbody>\n",
       "    <tr>\n",
       "      <th>0</th>\n",
       "      <td>Afghanistan</td>\n",
       "      <td>2010</td>\n",
       "      <td>3.496508</td>\n",
       "      <td>2009</td>\n",
       "      <td>2.833213</td>\n",
       "      <td>0.941176</td>\n",
       "    </tr>\n",
       "    <tr>\n",
       "      <th>1</th>\n",
       "      <td>Afghanistan</td>\n",
       "      <td>2011</td>\n",
       "      <td>3.332205</td>\n",
       "      <td>2010</td>\n",
       "      <td>3.496508</td>\n",
       "      <td>-0.151515</td>\n",
       "    </tr>\n",
       "  </tbody>\n",
       "</table>\n",
       "</div>"
      ],
      "text/plain": [
       "         cntry  year_curr  pubcnt_curr  year_prev  pubcnt_prev  growth_rate\n",
       "0  Afghanistan       2010     3.496508       2009     2.833213     0.941176\n",
       "1  Afghanistan       2011     3.332205       2010     3.496508    -0.151515"
      ]
     },
     "execution_count": 52,
     "metadata": {},
     "output_type": "execute_result"
    }
   ],
   "source": [
    "pubcnt_new.head(2)"
   ]
  },
  {
   "cell_type": "code",
   "execution_count": 53,
   "id": "40b0290b-fb4c-450f-afd3-ba8aa1ae4f9c",
   "metadata": {},
   "outputs": [],
   "source": [
    "reg_df = pubcnt_new.merge(fund_by_region, left_on=['cntry','year_curr'], right_on=['cntry','year']\n",
    "                         ).drop(columns=['year'])"
   ]
  },
  {
   "cell_type": "code",
   "execution_count": 56,
   "id": "323f7958-9dd2-4efa-95b0-db3f51f2f599",
   "metadata": {},
   "outputs": [],
   "source": [
    "reg_df.to_csv(\"regression_data.csv\", index=False)"
   ]
  },
  {
   "cell_type": "code",
   "execution_count": 25,
   "id": "91a65919-a30c-450b-9096-f0ebea0249a5",
   "metadata": {},
   "outputs": [],
   "source": [
    "reg_df = pd.read_csv(\"regression_data.csv\")"
   ]
  },
  {
   "cell_type": "code",
   "execution_count": 26,
   "id": "ec291cee-4320-467b-8db7-9aa5f3d26015",
   "metadata": {},
   "outputs": [],
   "source": [
    "reg_df['test'] = reg_df.apply(lambda x: 1 if x.foreign>x.domestic else 0, axis=1)"
   ]
  },
  {
   "cell_type": "code",
   "execution_count": 30,
   "id": "97f69589-ff17-44ee-aa4f-0796af3f2318",
   "metadata": {},
   "outputs": [
    {
     "data": {
      "text/plain": [
       "array(['Afghanistan', 'Albania', 'Algeria', 'Andorra', 'Angola',\n",
       "       'Antarctica', 'Antigua & Barbuda', 'Argentina', 'Armenia',\n",
       "       'Australia', 'Austria', 'Azerbaijan', 'Bahamas', 'Bahrain',\n",
       "       'Bangladesh', 'Barbados', 'Belgium', 'Belize', 'Benin', 'Bermuda',\n",
       "       'Bhutan', 'Bolivia', 'Bosnia & Herzegovina', 'Botswana', 'Brunei',\n",
       "       'Bulgaria', 'Burkina Faso', 'Burma', 'Burundi', 'Byelarus',\n",
       "       'Cambodia', 'Cameroon', 'Canada', 'Cape Verde',\n",
       "       'Central African Republic', 'Chad', 'Chile', 'Colombia', 'Comoros',\n",
       "       'Congo', 'Cook Islands', 'Costa Rica', 'Crimea', 'Croatia', 'Cuba',\n",
       "       'Cyprus', 'Czech Republic', 'Denmark', 'Djibouti', 'Dominica ',\n",
       "       'Dominican Republic', 'Ecuador', 'Egypt', 'El Salvador',\n",
       "       'Equatorial Guinea', 'Eritrea', 'Estonia', 'Ethiopia',\n",
       "       'Federated States of Micronesia ', 'Fiji', 'Finland', 'France',\n",
       "       'French-Guiana', 'French-Polynesia', 'Gabon', 'Gambia', 'Georgia',\n",
       "       'Germany', 'Ghana ', 'Greece', 'Grenada', 'Guadeloupe',\n",
       "       'Guatemala', 'Guinea', 'Guinea-Bissau', 'Guyana', 'Haiti',\n",
       "       'Honduras ', 'Hungary', 'Iceland', 'India', 'Indonesia', 'Iran',\n",
       "       'Iraq', 'Ireland', 'Israel', 'Italy', 'Ivory Coast', 'Jamaica',\n",
       "       'Jordan', 'Kazakhstan', 'Kenya', 'Kiribati', 'Kuwait',\n",
       "       'Kyrgyzstan', 'Laos', 'Latvia', 'Lebanon ', 'Lesotho', 'Liberia ',\n",
       "       'Libya', 'Liechtenstein', 'Lithuania', 'Luxembourg', 'Macedonia',\n",
       "       'Madagascar', 'Malawi', 'Malaysia', 'Maldives', 'Mali', 'Malta',\n",
       "       'Marshall Islands', 'Mauritania', 'Mauritius', 'Mexico',\n",
       "       'Moldova ', 'Monaco', 'Mongolia', 'Montenegro', 'Morocco',\n",
       "       'Mozambique', 'Namibia', 'Nauru', 'Nepal', 'Netherlands',\n",
       "       'Netherlands-Antilles', 'New Zealand', 'New-Caledonia',\n",
       "       'Nicaragua', 'Niger', 'Nigeria', 'Niue', 'North Korea', 'Norway',\n",
       "       'Oman', 'Pakistan', 'Palau', 'Palestine', 'Panama',\n",
       "       'Papua New Guinea', 'Paraguay', 'Peru', 'Philippines', 'Poland',\n",
       "       'Portugal', 'Qatar', 'Republic of Kosovo', 'Republic of Serbia',\n",
       "       'Reunion', 'Romania', 'Russia', 'Rwanda',\n",
       "       'Saint-Vincent-et-les-Grenadines', 'Samoa', 'San Marino',\n",
       "       'Sao Tome & Principe', 'Saudi Arabia', 'Senegal', 'Seychelles',\n",
       "       'Sierra Leone', 'Singapore', 'Slovakia', 'Slovenia',\n",
       "       'Solomon Islands', 'Somalia', 'South Africa', 'South Sudan',\n",
       "       'Spain', 'Sri Lanka', 'St-Kitts & Nevis ', 'St-Lucia', 'Sudan',\n",
       "       'Suriname', 'Swaziland', 'Sweden', 'Switzerland', 'Syria',\n",
       "       'Taiwan', 'Tajikistan', 'Tanzania', 'Thailand', 'Togo', 'Tonga',\n",
       "       'Trinidad and Tobago', 'Tunisia', 'Turkey', 'Turkmenistan',\n",
       "       'Tuvalu', 'Uganda', 'Ukraine', 'United Arab Emirates',\n",
       "       'United Kingdom', 'Uruguay', 'Uzbekistan', 'Vanuatu', 'Vatican',\n",
       "       'Venezuela', 'Vietnam', 'Yemen', 'Zambia', 'Zimbabwe'],\n",
       "      dtype=object)"
      ]
     },
     "execution_count": 30,
     "metadata": {},
     "output_type": "execute_result"
    }
   ],
   "source": [
    "reg_df[reg_df.test==1].cntry.unique()"
   ]
  },
  {
   "cell_type": "code",
   "execution_count": 5,
   "id": "13b41136-23d8-4b07-b72f-390ceb5034e2",
   "metadata": {},
   "outputs": [
    {
     "name": "stdout",
     "output_type": "stream",
     "text": [
      "  country current_year_value  next_year_value\n",
      "0       A                 10             15.0\n",
      "1       A                 15             20.0\n",
      "2       A                 20             25.0\n",
      "3       A                 25             30.0\n",
      "4       B                 35             40.0\n",
      "5       B                 40             45.0\n",
      "6       B                 45             50.0\n",
      "7       B                 50             55.0\n"
     ]
    },
    {
     "name": "stderr",
     "output_type": "stream",
     "text": [
      "/tmp/ipykernel_982962/76181161.py:23: SettingWithCopyWarning: \n",
      "A value is trying to be set on a copy of a slice from a DataFrame.\n",
      "Try using .loc[row_indexer,col_indexer] = value instead\n",
      "\n",
      "See the caveats in the documentation: https://pandas.pydata.org/pandas-docs/stable/user_guide/indexing.html#returning-a-view-versus-a-copy\n",
      "  country_data['next_year_value'] = country_data['value'].shift(-1)\n",
      "/tmp/ipykernel_982962/76181161.py:23: SettingWithCopyWarning: \n",
      "A value is trying to be set on a copy of a slice from a DataFrame.\n",
      "Try using .loc[row_indexer,col_indexer] = value instead\n",
      "\n",
      "See the caveats in the documentation: https://pandas.pydata.org/pandas-docs/stable/user_guide/indexing.html#returning-a-view-versus-a-copy\n",
      "  country_data['next_year_value'] = country_data['value'].shift(-1)\n"
     ]
    }
   ],
   "source": [
    "import pandas as pd\n",
    "\n",
    "# Assuming df is your original DataFrame\n",
    "# For demonstration purposes, let's create a sample DataFrame\n",
    "data = {'country': ['A', 'A', 'A', 'A', 'A', 'B', 'B', 'B', 'B', 'B'],\n",
    "        'year': [2010, 2011, 2012, 2013, 2014, 2010, 2011, 2012, 2013, 2014],\n",
    "        'value': [10, 15, 20, 25, 30, 35, 40, 45, 50, 55]}\n",
    "\n",
    "df = pd.DataFrame(data)\n",
    "\n",
    "# Sort the original DataFrame by 'country' and 'year'\n",
    "df_sorted = df.sort_values(by=['country', 'year'])\n",
    "\n",
    "# Create a new DataFrame with columns 'country', 'current_year_value', 'next_year_value'\n",
    "df_next_year = pd.DataFrame(columns=['country', 'current_year_value', 'next_year_value'])\n",
    "\n",
    "# Iterate through unique countries\n",
    "for country in df_sorted['country'].unique():\n",
    "    # Filter rows for the current country\n",
    "    country_data = df_sorted[df_sorted['country'] == country]\n",
    "    \n",
    "    # Create a new column 'next_year_value' by shifting the 'value' column\n",
    "    country_data['next_year_value'] = country_data['value'].shift(-1)\n",
    "    \n",
    "    # Keep only the relevant columns\n",
    "    country_data = country_data[['country', 'value', 'next_year_value']].rename(columns={'value': 'current_year_value'})\n",
    "    \n",
    "    # Append the data for the current country to the new DataFrame\n",
    "    df_next_year = pd.concat([df_next_year, country_data], ignore_index=True)\n",
    "\n",
    "# Drop rows with NaN values (last year for each country)\n",
    "df_next_year = df_next_year.dropna()\n",
    "\n",
    "# Reset index\n",
    "df_next_year.reset_index(drop=True, inplace=True)\n",
    "\n",
    "# Display the resulting DataFrame\n",
    "print(df_next_year)\n"
   ]
  },
  {
   "cell_type": "code",
   "execution_count": 10,
   "id": "31a02f24-eeb0-43b1-8f42-4447dac28ebb",
   "metadata": {},
   "outputs": [
    {
     "data": {
      "text/html": [
       "<div>\n",
       "<style scoped>\n",
       "    .dataframe tbody tr th:only-of-type {\n",
       "        vertical-align: middle;\n",
       "    }\n",
       "\n",
       "    .dataframe tbody tr th {\n",
       "        vertical-align: top;\n",
       "    }\n",
       "\n",
       "    .dataframe thead th {\n",
       "        text-align: right;\n",
       "    }\n",
       "</style>\n",
       "<table border=\"1\" class=\"dataframe\">\n",
       "  <thead>\n",
       "    <tr style=\"text-align: right;\">\n",
       "      <th></th>\n",
       "      <th>country</th>\n",
       "      <th>current_year_value</th>\n",
       "      <th>next_year_value</th>\n",
       "    </tr>\n",
       "  </thead>\n",
       "  <tbody>\n",
       "    <tr>\n",
       "      <th>5</th>\n",
       "      <td>B</td>\n",
       "      <td>35</td>\n",
       "      <td>40.0</td>\n",
       "    </tr>\n",
       "    <tr>\n",
       "      <th>6</th>\n",
       "      <td>B</td>\n",
       "      <td>40</td>\n",
       "      <td>45.0</td>\n",
       "    </tr>\n",
       "    <tr>\n",
       "      <th>7</th>\n",
       "      <td>B</td>\n",
       "      <td>45</td>\n",
       "      <td>50.0</td>\n",
       "    </tr>\n",
       "    <tr>\n",
       "      <th>8</th>\n",
       "      <td>B</td>\n",
       "      <td>50</td>\n",
       "      <td>55.0</td>\n",
       "    </tr>\n",
       "    <tr>\n",
       "      <th>9</th>\n",
       "      <td>B</td>\n",
       "      <td>55</td>\n",
       "      <td>NaN</td>\n",
       "    </tr>\n",
       "  </tbody>\n",
       "</table>\n",
       "</div>"
      ],
      "text/plain": [
       "  country  current_year_value  next_year_value\n",
       "5       B                  35             40.0\n",
       "6       B                  40             45.0\n",
       "7       B                  45             50.0\n",
       "8       B                  50             55.0\n",
       "9       B                  55              NaN"
      ]
     },
     "execution_count": 10,
     "metadata": {},
     "output_type": "execute_result"
    }
   ],
   "source": [
    "country_data"
   ]
  },
  {
   "cell_type": "code",
   "execution_count": 12,
   "id": "135d9fec-ca7a-4180-88d9-e17f2244efb6",
   "metadata": {},
   "outputs": [
    {
     "data": {
      "text/plain": [
       "0    10\n",
       "1    15\n",
       "2    20\n",
       "3    25\n",
       "4    30\n",
       "Name: value, dtype: int64"
      ]
     },
     "execution_count": 12,
     "metadata": {},
     "output_type": "execute_result"
    }
   ],
   "source": [
    "df_sorted[df_sorted['country'] == 'A']['value']"
   ]
  },
  {
   "cell_type": "code",
   "execution_count": 13,
   "id": "78f956aa-34fe-405b-a8ed-14fa7bba67d0",
   "metadata": {},
   "outputs": [
    {
     "data": {
      "text/plain": [
       "0    15.0\n",
       "1    20.0\n",
       "2    25.0\n",
       "3    30.0\n",
       "4     NaN\n",
       "Name: value, dtype: float64"
      ]
     },
     "execution_count": 13,
     "metadata": {},
     "output_type": "execute_result"
    }
   ],
   "source": [
    "df_sorted[df_sorted['country'] == 'A']['value'].shift(-1)"
   ]
  },
  {
   "cell_type": "code",
   "execution_count": null,
   "id": "c3f8a65e-73ad-4530-8cb4-0ecbcb56add0",
   "metadata": {},
   "outputs": [],
   "source": []
  }
 ],
 "metadata": {
  "kernelspec": {
   "display_name": "Python 3 (ipykernel)",
   "language": "python",
   "name": "python3"
  },
  "language_info": {
   "codemirror_mode": {
    "name": "ipython",
    "version": 3
   },
   "file_extension": ".py",
   "mimetype": "text/x-python",
   "name": "python",
   "nbconvert_exporter": "python",
   "pygments_lexer": "ipython3",
   "version": "3.8.16"
  }
 },
 "nbformat": 4,
 "nbformat_minor": 5
}
