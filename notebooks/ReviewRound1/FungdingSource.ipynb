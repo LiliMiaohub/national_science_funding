{
 "cells": [
  {
   "cell_type": "markdown",
   "id": "2abcb348-bca3-4894-96ad-5086d7c06414",
   "metadata": {},
   "source": [
    "this script constructs a table records the year, country, discipline, number of papers funding by domestic science, number of papers funding by international science, grants count by sources"
   ]
  },
  {
   "cell_type": "code",
   "execution_count": 1,
   "id": "33d37bcf-3e74-481a-b5ea-8fbc8766f006",
   "metadata": {},
   "outputs": [],
   "source": [
    "import pandas as pd\n",
    "import seaborn as sns\n",
    "import numpy as np"
   ]
  },
  {
   "cell_type": "code",
   "execution_count": 2,
   "id": "a7c64458-4c0c-4cd3-851f-0b24bce0ec46",
   "metadata": {},
   "outputs": [],
   "source": [
    "pub_path = \"../../data/NationalFunding/Data/DerivedData/CleanedRawData/pub.pkl\"\n",
    "region_path=\"../../data/nf_folder/Data/AdditionalData/cntry_region.xlsx\""
   ]
  },
  {
   "cell_type": "code",
   "execution_count": 3,
   "id": "e0f15c05-a442-4a77-9271-635c1551888d",
   "metadata": {},
   "outputs": [],
   "source": [
    "df = pd.read_pickle(pub_path)"
   ]
  },
  {
   "cell_type": "code",
   "execution_count": 4,
   "id": "d0867be9-5bce-431c-9427-df5c66679a60",
   "metadata": {},
   "outputs": [
    {
     "data": {
      "text/html": [
       "<div>\n",
       "<style scoped>\n",
       "    .dataframe tbody tr th:only-of-type {\n",
       "        vertical-align: middle;\n",
       "    }\n",
       "\n",
       "    .dataframe tbody tr th {\n",
       "        vertical-align: top;\n",
       "    }\n",
       "\n",
       "    .dataframe thead th {\n",
       "        text-align: right;\n",
       "    }\n",
       "</style>\n",
       "<table border=\"1\" class=\"dataframe\">\n",
       "  <thead>\n",
       "    <tr style=\"text-align: right;\">\n",
       "      <th></th>\n",
       "      <th>id</th>\n",
       "      <th>year</th>\n",
       "      <th>dis</th>\n",
       "      <th>type</th>\n",
       "      <th>author</th>\n",
       "      <th>funder</th>\n",
       "      <th>author_distinct</th>\n",
       "      <th>funder_distinct</th>\n",
       "      <th>funded</th>\n",
       "      <th>IntCol</th>\n",
       "      <th>cofund</th>\n",
       "      <th>intfund</th>\n",
       "    </tr>\n",
       "  </thead>\n",
       "  <tbody>\n",
       "    <tr>\n",
       "      <th>9686806</th>\n",
       "      <td>53168602</td>\n",
       "      <td>2014</td>\n",
       "      <td>51</td>\n",
       "      <td>1</td>\n",
       "      <td>[Chile, Australia, Argentina]</td>\n",
       "      <td>[Argentina]</td>\n",
       "      <td>[Argentina, Chile, Australia]</td>\n",
       "      <td>[Argentina]</td>\n",
       "      <td>1</td>\n",
       "      <td>1</td>\n",
       "      <td>0</td>\n",
       "      <td>0</td>\n",
       "    </tr>\n",
       "    <tr>\n",
       "      <th>9977472</th>\n",
       "      <td>59342618</td>\n",
       "      <td>2016</td>\n",
       "      <td>12</td>\n",
       "      <td>3</td>\n",
       "      <td>[United States]</td>\n",
       "      <td>[United States, United States, United States, ...</td>\n",
       "      <td>[United States]</td>\n",
       "      <td>[United States]</td>\n",
       "      <td>1</td>\n",
       "      <td>0</td>\n",
       "      <td>0</td>\n",
       "      <td>0</td>\n",
       "    </tr>\n",
       "  </tbody>\n",
       "</table>\n",
       "</div>"
      ],
      "text/plain": [
       "               id  year  dis  type                         author   \n",
       "9686806  53168602  2014   51     1  [Chile, Australia, Argentina]  \\\n",
       "9977472  59342618  2016   12     3                [United States]   \n",
       "\n",
       "                                                    funder   \n",
       "9686806                                        [Argentina]  \\\n",
       "9977472  [United States, United States, United States, ...   \n",
       "\n",
       "                       author_distinct  funder_distinct  funded  IntCol   \n",
       "9686806  [Argentina, Chile, Australia]      [Argentina]       1       1  \\\n",
       "9977472                [United States]  [United States]       1       0   \n",
       "\n",
       "         cofund  intfund  \n",
       "9686806       0        0  \n",
       "9977472       0        0  "
      ]
     },
     "execution_count": 4,
     "metadata": {},
     "output_type": "execute_result"
    }
   ],
   "source": [
    "df.sample(2)"
   ]
  },
  {
   "cell_type": "markdown",
   "id": "bcf35b16-84d6-4a9e-a438-691fb3ef584e",
   "metadata": {},
   "source": [
    "### remove unfunded publications"
   ]
  },
  {
   "cell_type": "code",
   "execution_count": 10,
   "id": "4bdf8d30-395d-4b35-97f8-07e036d56dd8",
   "metadata": {},
   "outputs": [],
   "source": [
    "df=df[df.funder!='Not-Funded']"
   ]
  },
  {
   "cell_type": "markdown",
   "id": "379bba43-9017-4df9-93e2-1ae49a77399f",
   "metadata": {},
   "source": [
    "### assign publications to countries and calculate the number of pub of each country in each dis"
   ]
  },
  {
   "cell_type": "code",
   "execution_count": 27,
   "id": "eedd3ce6-a1d9-4b5a-bd82-2d3067a127fd",
   "metadata": {},
   "outputs": [],
   "source": [
    "pubcntry = df[['id','year','dis','author_distinct','funder']].explode('author_distinct')"
   ]
  },
  {
   "cell_type": "code",
   "execution_count": 28,
   "id": "6a94344a-74c2-43da-9335-dc3d3a33a100",
   "metadata": {},
   "outputs": [
    {
     "data": {
      "text/html": [
       "<div>\n",
       "<style scoped>\n",
       "    .dataframe tbody tr th:only-of-type {\n",
       "        vertical-align: middle;\n",
       "    }\n",
       "\n",
       "    .dataframe tbody tr th {\n",
       "        vertical-align: top;\n",
       "    }\n",
       "\n",
       "    .dataframe thead th {\n",
       "        text-align: right;\n",
       "    }\n",
       "</style>\n",
       "<table border=\"1\" class=\"dataframe\">\n",
       "  <thead>\n",
       "    <tr style=\"text-align: right;\">\n",
       "      <th></th>\n",
       "      <th>author_distinct</th>\n",
       "      <th>dis</th>\n",
       "      <th>pubcnt</th>\n",
       "    </tr>\n",
       "  </thead>\n",
       "  <tbody>\n",
       "    <tr>\n",
       "      <th>11861</th>\n",
       "      <td>Sudan</td>\n",
       "      <td>74</td>\n",
       "      <td>3</td>\n",
       "    </tr>\n",
       "  </tbody>\n",
       "</table>\n",
       "</div>"
      ],
      "text/plain": [
       "      author_distinct  dis  pubcnt\n",
       "11861           Sudan   74       3"
      ]
     },
     "execution_count": 28,
     "metadata": {},
     "output_type": "execute_result"
    }
   ],
   "source": [
    "pubcnt = pubcntry.groupby(['author_distinct','dis']).size().reset_index(name='pubcnt')\n",
    "pubcnt.sample()"
   ]
  },
  {
   "cell_type": "code",
   "execution_count": 29,
   "id": "fbe1adcf-a458-4809-808f-2dfcad5a486f",
   "metadata": {},
   "outputs": [
    {
     "data": {
      "text/html": [
       "<div>\n",
       "<style scoped>\n",
       "    .dataframe tbody tr th:only-of-type {\n",
       "        vertical-align: middle;\n",
       "    }\n",
       "\n",
       "    .dataframe tbody tr th {\n",
       "        vertical-align: top;\n",
       "    }\n",
       "\n",
       "    .dataframe thead th {\n",
       "        text-align: right;\n",
       "    }\n",
       "</style>\n",
       "<table border=\"1\" class=\"dataframe\">\n",
       "  <thead>\n",
       "    <tr style=\"text-align: right;\">\n",
       "      <th></th>\n",
       "      <th>id</th>\n",
       "      <th>year</th>\n",
       "      <th>dis</th>\n",
       "      <th>author_distinct</th>\n",
       "      <th>funder</th>\n",
       "    </tr>\n",
       "  </thead>\n",
       "  <tbody>\n",
       "    <tr>\n",
       "      <th>12648717</th>\n",
       "      <td>54670389</td>\n",
       "      <td>2014</td>\n",
       "      <td>48</td>\n",
       "      <td>United States</td>\n",
       "      <td>[United States, Australia, United States, Unit...</td>\n",
       "    </tr>\n",
       "  </tbody>\n",
       "</table>\n",
       "</div>"
      ],
      "text/plain": [
       "                id  year  dis author_distinct   \n",
       "12648717  54670389  2014   48   United States  \\\n",
       "\n",
       "                                                     funder  \n",
       "12648717  [United States, Australia, United States, Unit...  "
      ]
     },
     "execution_count": 29,
     "metadata": {},
     "output_type": "execute_result"
    }
   ],
   "source": [
    "pubcntry.sample()"
   ]
  },
  {
   "cell_type": "markdown",
   "id": "705d4ce1-94ed-4030-89eb-195147204732",
   "metadata": {},
   "source": [
    "### for the publications authored by each country, calculate the number of each type of grant in each dis of each country"
   ]
  },
  {
   "cell_type": "code",
   "execution_count": 30,
   "id": "404ad1cd-c3a1-4e41-835c-314e67b052d2",
   "metadata": {},
   "outputs": [],
   "source": [
    "grantcnt = pubcntry.explode('funder').groupby(\n",
    "    ['author_distinct','dis','funder']).size().reset_index(name='grantcnt')\n",
    "def assign_type(author, funder):\n",
    "    if author==funder:\n",
    "        return \"domegrant\"\n",
    "    else:\n",
    "        return \"intgrant\"\n",
    "grantcnt['granttype']=grantcnt.apply(lambda x: assign_type(x.author_distinct,x.funder),axis=1)\n",
    "grantcnt = grantcnt.groupby(['author_distinct','dis','granttype'])['grantcnt'].sum().reset_index()\n",
    "grantcnt = grantcnt.pivot_table(\n",
    "    index=['author_distinct','dis'],columns='granttype',values='grantcnt', fill_value=0).reset_index()"
   ]
  },
  {
   "cell_type": "code",
   "execution_count": 33,
   "id": "9e7a61d8-9fec-497f-8935-c12e6b9ada1b",
   "metadata": {},
   "outputs": [
    {
     "data": {
      "text/html": [
       "<div>\n",
       "<style scoped>\n",
       "    .dataframe tbody tr th:only-of-type {\n",
       "        vertical-align: middle;\n",
       "    }\n",
       "\n",
       "    .dataframe tbody tr th {\n",
       "        vertical-align: top;\n",
       "    }\n",
       "\n",
       "    .dataframe thead th {\n",
       "        text-align: right;\n",
       "    }\n",
       "</style>\n",
       "<table border=\"1\" class=\"dataframe\">\n",
       "  <thead>\n",
       "    <tr style=\"text-align: right;\">\n",
       "      <th>granttype</th>\n",
       "      <th>author_distinct</th>\n",
       "      <th>dis</th>\n",
       "      <th>domegrant</th>\n",
       "      <th>intgrant</th>\n",
       "    </tr>\n",
       "  </thead>\n",
       "  <tbody>\n",
       "    <tr>\n",
       "      <th>3934</th>\n",
       "      <td>Ethiopia</td>\n",
       "      <td>92</td>\n",
       "      <td>0</td>\n",
       "      <td>1</td>\n",
       "    </tr>\n",
       "  </tbody>\n",
       "</table>\n",
       "</div>"
      ],
      "text/plain": [
       "granttype author_distinct  dis  domegrant  intgrant\n",
       "3934             Ethiopia   92          0         1"
      ]
     },
     "execution_count": 33,
     "metadata": {},
     "output_type": "execute_result"
    }
   ],
   "source": [
    "grantcnt.sample()"
   ]
  },
  {
   "cell_type": "code",
   "execution_count": 60,
   "id": "d934b1fd-be77-4658-861d-121f411349de",
   "metadata": {},
   "outputs": [],
   "source": [
    "reg_table = pubcnt.merge(grantcnt,on=['author_distinct','dis'])"
   ]
  },
  {
   "cell_type": "code",
   "execution_count": 61,
   "id": "b5d64a0c-0d75-4456-8c5b-181d90fb189e",
   "metadata": {},
   "outputs": [],
   "source": [
    "unique_counts = reg_table.groupby(['author_distinct']\n",
    "                 ).agg({'pubcnt':'nunique','domegrant':'nunique','intgrant':'nunique'})"
   ]
  },
  {
   "cell_type": "code",
   "execution_count": 62,
   "id": "78f96e25-e610-4bc8-ada5-ca2c0ab2b817",
   "metadata": {},
   "outputs": [],
   "source": [
    "removed_cntrys = unique_counts[(unique_counts==1).any(axis=1)].index"
   ]
  },
  {
   "cell_type": "code",
   "execution_count": 63,
   "id": "f7a8e4df-9f62-49f5-adbe-1da9797c1bde",
   "metadata": {},
   "outputs": [],
   "source": [
    "reg_table = reg_table[~reg_table.author_distinct.isin(removed_cntrys)].rename(columns={\"author_distinct\":'cntry'})"
   ]
  },
  {
   "cell_type": "code",
   "execution_count": 64,
   "id": "3987213b-21f8-47b7-b8d7-07f1054b13f0",
   "metadata": {},
   "outputs": [],
   "source": [
    "region_df=pd.read_excel(region_path)[['cntry','region2']].drop_duplicates()\n",
    "region_df=region_df.replace(to_replace={'region2':{'EU':'Europe','Other Europe':'Europe'}})\n",
    "reg_table=reg_table.merge(region_df,on='cntry',how='left')"
   ]
  },
  {
   "cell_type": "code",
   "execution_count": 66,
   "id": "6a1fa2db-a09f-427c-91a9-9d74e487ca03",
   "metadata": {},
   "outputs": [],
   "source": [
    "reg_table.to_csv(\"reg_table_grants.csv\", index=False)"
   ]
  },
  {
   "cell_type": "code",
   "execution_count": null,
   "id": "c4e1f96d-3579-41f4-9d70-621bae011a42",
   "metadata": {},
   "outputs": [],
   "source": []
  },
  {
   "cell_type": "code",
   "execution_count": null,
   "id": "57ecbdc7-6578-4759-8ec5-741f501b81f4",
   "metadata": {},
   "outputs": [],
   "source": []
  },
  {
   "cell_type": "code",
   "execution_count": null,
   "id": "8b4059c7-75bc-42af-86fd-afe6f263a925",
   "metadata": {},
   "outputs": [],
   "source": []
  },
  {
   "cell_type": "code",
   "execution_count": 27,
   "id": "59a9be3e-595e-4f07-917c-20b761cebf60",
   "metadata": {},
   "outputs": [],
   "source": [
    "fundcntry = pubcntry.groupby(['author_distinct','year','dis','fundtype']).size().reset_index(name='fundcnt')\n",
    "fundcntry = fundcntry.pivot_table(\n",
    "    index=['author_distinct','year','dis'],columns='fundtype',values='fundcnt', fill_value=0).reset_index()"
   ]
  },
  {
   "cell_type": "code",
   "execution_count": 29,
   "id": "4394d74f-7ecc-4a13-82d1-a1781f1f2805",
   "metadata": {},
   "outputs": [],
   "source": [
    "grantcntry = df[['id','year','dis','author_distinct','funder']].explode('author_distinct')\n",
    "grantcntry = grantcntry.explode('funder')"
   ]
  },
  {
   "cell_type": "code",
   "execution_count": 34,
   "id": "602c2a92-8834-4dad-b802-506f91b1c1a2",
   "metadata": {},
   "outputs": [],
   "source": [
    "grantcntry = grantcntry.groupby(['author_distinct','year','dis','funder']).size().reset_index(name='grantcnt')"
   ]
  },
  {
   "cell_type": "code",
   "execution_count": 35,
   "id": "ef6df7a1-76e5-48a6-832d-ee80474d2a50",
   "metadata": {},
   "outputs": [
    {
     "data": {
      "text/html": [
       "<div>\n",
       "<style scoped>\n",
       "    .dataframe tbody tr th:only-of-type {\n",
       "        vertical-align: middle;\n",
       "    }\n",
       "\n",
       "    .dataframe tbody tr th {\n",
       "        vertical-align: top;\n",
       "    }\n",
       "\n",
       "    .dataframe thead th {\n",
       "        text-align: right;\n",
       "    }\n",
       "</style>\n",
       "<table border=\"1\" class=\"dataframe\">\n",
       "  <thead>\n",
       "    <tr style=\"text-align: right;\">\n",
       "      <th></th>\n",
       "      <th>author_distinct</th>\n",
       "      <th>year</th>\n",
       "      <th>dis</th>\n",
       "      <th>funder</th>\n",
       "      <th>grantcnt</th>\n",
       "    </tr>\n",
       "  </thead>\n",
       "  <tbody>\n",
       "    <tr>\n",
       "      <th>0</th>\n",
       "      <td>Afghanistan</td>\n",
       "      <td>2009</td>\n",
       "      <td>35</td>\n",
       "      <td>United Kingdom</td>\n",
       "      <td>1</td>\n",
       "    </tr>\n",
       "    <tr>\n",
       "      <th>1</th>\n",
       "      <td>Afghanistan</td>\n",
       "      <td>2009</td>\n",
       "      <td>35</td>\n",
       "      <td>United States</td>\n",
       "      <td>1</td>\n",
       "    </tr>\n",
       "    <tr>\n",
       "      <th>2</th>\n",
       "      <td>Afghanistan</td>\n",
       "      <td>2009</td>\n",
       "      <td>48</td>\n",
       "      <td>Japan</td>\n",
       "      <td>1</td>\n",
       "    </tr>\n",
       "    <tr>\n",
       "      <th>3</th>\n",
       "      <td>Afghanistan</td>\n",
       "      <td>2009</td>\n",
       "      <td>57</td>\n",
       "      <td>United Kingdom</td>\n",
       "      <td>4</td>\n",
       "    </tr>\n",
       "    <tr>\n",
       "      <th>4</th>\n",
       "      <td>Afghanistan</td>\n",
       "      <td>2009</td>\n",
       "      <td>63</td>\n",
       "      <td>United States</td>\n",
       "      <td>1</td>\n",
       "    </tr>\n",
       "    <tr>\n",
       "      <th>...</th>\n",
       "      <td>...</td>\n",
       "      <td>...</td>\n",
       "      <td>...</td>\n",
       "      <td>...</td>\n",
       "      <td>...</td>\n",
       "    </tr>\n",
       "    <tr>\n",
       "      <th>1124898</th>\n",
       "      <td>Zimbabwe</td>\n",
       "      <td>2018</td>\n",
       "      <td>89</td>\n",
       "      <td>United States</td>\n",
       "      <td>2</td>\n",
       "    </tr>\n",
       "    <tr>\n",
       "      <th>1124899</th>\n",
       "      <td>Zimbabwe</td>\n",
       "      <td>2018</td>\n",
       "      <td>91</td>\n",
       "      <td>South Africa</td>\n",
       "      <td>7</td>\n",
       "    </tr>\n",
       "    <tr>\n",
       "      <th>1124900</th>\n",
       "      <td>Zimbabwe</td>\n",
       "      <td>2018</td>\n",
       "      <td>96</td>\n",
       "      <td>South Africa</td>\n",
       "      <td>4</td>\n",
       "    </tr>\n",
       "    <tr>\n",
       "      <th>1124901</th>\n",
       "      <td>Zimbabwe</td>\n",
       "      <td>2018</td>\n",
       "      <td>96</td>\n",
       "      <td>Zimbabwe</td>\n",
       "      <td>2</td>\n",
       "    </tr>\n",
       "    <tr>\n",
       "      <th>1124902</th>\n",
       "      <td>Zimbabwe</td>\n",
       "      <td>2018</td>\n",
       "      <td>99</td>\n",
       "      <td>Brazil</td>\n",
       "      <td>1</td>\n",
       "    </tr>\n",
       "  </tbody>\n",
       "</table>\n",
       "<p>1124903 rows × 5 columns</p>\n",
       "</div>"
      ],
      "text/plain": [
       "        author_distinct  year  dis          funder  grantcnt\n",
       "0           Afghanistan  2009   35  United Kingdom         1\n",
       "1           Afghanistan  2009   35   United States         1\n",
       "2           Afghanistan  2009   48           Japan         1\n",
       "3           Afghanistan  2009   57  United Kingdom         4\n",
       "4           Afghanistan  2009   63   United States         1\n",
       "...                 ...   ...  ...             ...       ...\n",
       "1124898        Zimbabwe  2018   89   United States         2\n",
       "1124899        Zimbabwe  2018   91    South Africa         7\n",
       "1124900        Zimbabwe  2018   96    South Africa         4\n",
       "1124901        Zimbabwe  2018   96        Zimbabwe         2\n",
       "1124902        Zimbabwe  2018   99          Brazil         1\n",
       "\n",
       "[1124903 rows x 5 columns]"
      ]
     },
     "execution_count": 35,
     "metadata": {},
     "output_type": "execute_result"
    }
   ],
   "source": [
    "grantcntry"
   ]
  },
  {
   "cell_type": "code",
   "execution_count": 36,
   "id": "bafd6137-ce3d-4c07-acc5-4032ad2172fb",
   "metadata": {},
   "outputs": [],
   "source": [
    "def assign_type(author, funder):\n",
    "    if author==funder:\n",
    "        return \"domegrant\"\n",
    "    else:\n",
    "        return \"intgrant\"\n",
    "grantcntry['granttype']=grantcntry.apply(lambda x: assign_type(x.author_distinct,x.funder),axis=1)"
   ]
  },
  {
   "cell_type": "code",
   "execution_count": 38,
   "id": "0324791a-17f6-4759-8149-45d8d6f91c4e",
   "metadata": {},
   "outputs": [],
   "source": [
    "grantcntry = grantcntry.groupby(['author_distinct','year','dis','granttype'])['grantcnt'].sum().reset_index()"
   ]
  },
  {
   "cell_type": "code",
   "execution_count": 40,
   "id": "790d4e84-3f60-47ab-a53a-8e8b15e64a1d",
   "metadata": {},
   "outputs": [],
   "source": [
    "grantcntry = grantcntry.pivot_table(\n",
    "    index=['author_distinct','year','dis'],columns='granttype',values='grantcnt', fill_value=0).reset_index()"
   ]
  },
  {
   "cell_type": "code",
   "execution_count": 42,
   "id": "1acd0a8b-b2c2-4925-88cb-c322faa5c502",
   "metadata": {},
   "outputs": [],
   "source": [
    "pubcnt = df[['id','year','dis','author_distinct']\n",
    "           ].explode('author_distinct').groupby(['author_distinct','year','dis']).size().reset_index(name='pubcnt')"
   ]
  },
  {
   "cell_type": "code",
   "execution_count": 44,
   "id": "e7799645-6948-4934-ace5-dd1f35273376",
   "metadata": {},
   "outputs": [
    {
     "data": {
      "text/html": [
       "<div>\n",
       "<style scoped>\n",
       "    .dataframe tbody tr th:only-of-type {\n",
       "        vertical-align: middle;\n",
       "    }\n",
       "\n",
       "    .dataframe tbody tr th {\n",
       "        vertical-align: top;\n",
       "    }\n",
       "\n",
       "    .dataframe thead th {\n",
       "        text-align: right;\n",
       "    }\n",
       "</style>\n",
       "<table border=\"1\" class=\"dataframe\">\n",
       "  <thead>\n",
       "    <tr style=\"text-align: right;\">\n",
       "      <th></th>\n",
       "      <th>author_distinct</th>\n",
       "      <th>year</th>\n",
       "      <th>dis</th>\n",
       "      <th>pubcnt</th>\n",
       "    </tr>\n",
       "  </thead>\n",
       "  <tbody>\n",
       "    <tr>\n",
       "      <th>50196</th>\n",
       "      <td>Madagascar</td>\n",
       "      <td>2012</td>\n",
       "      <td>28</td>\n",
       "      <td>1</td>\n",
       "    </tr>\n",
       "    <tr>\n",
       "      <th>61559</th>\n",
       "      <td>Oman</td>\n",
       "      <td>2009</td>\n",
       "      <td>68</td>\n",
       "      <td>5</td>\n",
       "    </tr>\n",
       "  </tbody>\n",
       "</table>\n",
       "</div>"
      ],
      "text/plain": [
       "      author_distinct  year  dis  pubcnt\n",
       "50196      Madagascar  2012   28       1\n",
       "61559            Oman  2009   68       5"
      ]
     },
     "execution_count": 44,
     "metadata": {},
     "output_type": "execute_result"
    }
   ],
   "source": [
    "pubcnt.sample(2)"
   ]
  },
  {
   "cell_type": "code",
   "execution_count": 45,
   "id": "7f54f566-5434-4fd7-943c-1c287021e7af",
   "metadata": {},
   "outputs": [
    {
     "data": {
      "text/html": [
       "<div>\n",
       "<style scoped>\n",
       "    .dataframe tbody tr th:only-of-type {\n",
       "        vertical-align: middle;\n",
       "    }\n",
       "\n",
       "    .dataframe tbody tr th {\n",
       "        vertical-align: top;\n",
       "    }\n",
       "\n",
       "    .dataframe thead th {\n",
       "        text-align: right;\n",
       "    }\n",
       "</style>\n",
       "<table border=\"1\" class=\"dataframe\">\n",
       "  <thead>\n",
       "    <tr style=\"text-align: right;\">\n",
       "      <th>fundtype</th>\n",
       "      <th>author_distinct</th>\n",
       "      <th>year</th>\n",
       "      <th>dis</th>\n",
       "      <th>domestic</th>\n",
       "      <th>intl</th>\n",
       "    </tr>\n",
       "  </thead>\n",
       "  <tbody>\n",
       "    <tr>\n",
       "      <th>2537</th>\n",
       "      <td>Armenia</td>\n",
       "      <td>2017</td>\n",
       "      <td>98</td>\n",
       "      <td>10</td>\n",
       "      <td>243</td>\n",
       "    </tr>\n",
       "    <tr>\n",
       "      <th>78679</th>\n",
       "      <td>Spain</td>\n",
       "      <td>2014</td>\n",
       "      <td>55</td>\n",
       "      <td>7</td>\n",
       "      <td>4</td>\n",
       "    </tr>\n",
       "  </tbody>\n",
       "</table>\n",
       "</div>"
      ],
      "text/plain": [
       "fundtype author_distinct  year  dis  domestic  intl\n",
       "2537             Armenia  2017   98        10   243\n",
       "78679              Spain  2014   55         7     4"
      ]
     },
     "execution_count": 45,
     "metadata": {},
     "output_type": "execute_result"
    }
   ],
   "source": [
    "fundcntry.sample(2)"
   ]
  },
  {
   "cell_type": "code",
   "execution_count": 47,
   "id": "ef27775f-3d0e-4e79-9eb7-39f3377cae8d",
   "metadata": {},
   "outputs": [
    {
     "data": {
      "text/html": [
       "<div>\n",
       "<style scoped>\n",
       "    .dataframe tbody tr th:only-of-type {\n",
       "        vertical-align: middle;\n",
       "    }\n",
       "\n",
       "    .dataframe tbody tr th {\n",
       "        vertical-align: top;\n",
       "    }\n",
       "\n",
       "    .dataframe thead th {\n",
       "        text-align: right;\n",
       "    }\n",
       "</style>\n",
       "<table border=\"1\" class=\"dataframe\">\n",
       "  <thead>\n",
       "    <tr style=\"text-align: right;\">\n",
       "      <th>granttype</th>\n",
       "      <th>author_distinct</th>\n",
       "      <th>year</th>\n",
       "      <th>dis</th>\n",
       "      <th>domegrant</th>\n",
       "      <th>intgrant</th>\n",
       "    </tr>\n",
       "  </thead>\n",
       "  <tbody>\n",
       "    <tr>\n",
       "      <th>11094</th>\n",
       "      <td>Bulgaria</td>\n",
       "      <td>2018</td>\n",
       "      <td>82</td>\n",
       "      <td>28</td>\n",
       "      <td>80</td>\n",
       "    </tr>\n",
       "    <tr>\n",
       "      <th>40619</th>\n",
       "      <td>Italy</td>\n",
       "      <td>2009</td>\n",
       "      <td>93</td>\n",
       "      <td>185</td>\n",
       "      <td>427</td>\n",
       "    </tr>\n",
       "  </tbody>\n",
       "</table>\n",
       "</div>"
      ],
      "text/plain": [
       "granttype author_distinct  year  dis  domegrant  intgrant\n",
       "11094            Bulgaria  2018   82         28        80\n",
       "40619               Italy  2009   93        185       427"
      ]
     },
     "execution_count": 47,
     "metadata": {},
     "output_type": "execute_result"
    }
   ],
   "source": [
    "grantcntry.sample(2)"
   ]
  },
  {
   "cell_type": "code",
   "execution_count": 56,
   "id": "bb4e86e4-a286-4dc1-ac4a-a2a619e55407",
   "metadata": {},
   "outputs": [],
   "source": [
    "meta_df = pubcnt.merge(fundcntry, on=['author_distinct','year','dis'])\n",
    "meta_df = meta_df.merge(grantcntry, on=['author_distinct','year','dis'])\n",
    "meta_df = meta_df.rename(columns={'author_distinct':'cntry','domestic':'domepub','intl':'intlpub'})"
   ]
  },
  {
   "cell_type": "code",
   "execution_count": 58,
   "id": "1aefdc91-05d1-4a87-a330-ea38171c45b3",
   "metadata": {},
   "outputs": [],
   "source": [
    "region_df=pd.read_excel(region_path)[['cntry','region2']].drop_duplicates()\n",
    "region_df=region_df.replace(to_replace={'region2':{'EU':'Europe','Other Europe':'Europe'}})\n",
    "result_df=meta_df.merge(region_df,on='cntry',how='left')"
   ]
  },
  {
   "cell_type": "code",
   "execution_count": 60,
   "id": "4989deeb-b870-44df-aa11-4c0728051c93",
   "metadata": {},
   "outputs": [],
   "source": [
    "result_df.to_csv(\"reg_table_comp_sub.csv\", index=False)"
   ]
  },
  {
   "cell_type": "code",
   "execution_count": 3,
   "id": "91ce5eca-faaa-4555-ad54-1baffda65b2a",
   "metadata": {},
   "outputs": [],
   "source": [
    "result_df = pd.read_csv('reg_table_comp_sub.csv')"
   ]
  },
  {
   "cell_type": "code",
   "execution_count": 6,
   "id": "3706a7bb-9ff8-4c08-9068-985963e50551",
   "metadata": {},
   "outputs": [],
   "source": [
    "result_df = result_df.groupby(['cntry','dis']).agg({'pubcnt':'sum','intgrant':'sum','domegrant':'sum'}).reset_index()"
   ]
  },
  {
   "cell_type": "code",
   "execution_count": 7,
   "id": "683f580f-841a-48f7-a59b-462bb28de1d6",
   "metadata": {},
   "outputs": [
    {
     "data": {
      "text/html": [
       "<div>\n",
       "<style scoped>\n",
       "    .dataframe tbody tr th:only-of-type {\n",
       "        vertical-align: middle;\n",
       "    }\n",
       "\n",
       "    .dataframe tbody tr th {\n",
       "        vertical-align: top;\n",
       "    }\n",
       "\n",
       "    .dataframe thead th {\n",
       "        text-align: right;\n",
       "    }\n",
       "</style>\n",
       "<table border=\"1\" class=\"dataframe\">\n",
       "  <thead>\n",
       "    <tr style=\"text-align: right;\">\n",
       "      <th></th>\n",
       "      <th>cntry</th>\n",
       "      <th>dis</th>\n",
       "      <th>pubcnt</th>\n",
       "      <th>intgrant</th>\n",
       "      <th>domegrant</th>\n",
       "    </tr>\n",
       "  </thead>\n",
       "  <tbody>\n",
       "    <tr>\n",
       "      <th>0</th>\n",
       "      <td>Afghanistan</td>\n",
       "      <td>1</td>\n",
       "      <td>14</td>\n",
       "      <td>26</td>\n",
       "      <td>0</td>\n",
       "    </tr>\n",
       "    <tr>\n",
       "      <th>1</th>\n",
       "      <td>Afghanistan</td>\n",
       "      <td>2</td>\n",
       "      <td>7</td>\n",
       "      <td>11</td>\n",
       "      <td>0</td>\n",
       "    </tr>\n",
       "    <tr>\n",
       "      <th>2</th>\n",
       "      <td>Afghanistan</td>\n",
       "      <td>3</td>\n",
       "      <td>2</td>\n",
       "      <td>2</td>\n",
       "      <td>0</td>\n",
       "    </tr>\n",
       "    <tr>\n",
       "      <th>3</th>\n",
       "      <td>Afghanistan</td>\n",
       "      <td>4</td>\n",
       "      <td>4</td>\n",
       "      <td>9</td>\n",
       "      <td>0</td>\n",
       "    </tr>\n",
       "    <tr>\n",
       "      <th>4</th>\n",
       "      <td>Afghanistan</td>\n",
       "      <td>12</td>\n",
       "      <td>1</td>\n",
       "      <td>1</td>\n",
       "      <td>0</td>\n",
       "    </tr>\n",
       "    <tr>\n",
       "      <th>...</th>\n",
       "      <td>...</td>\n",
       "      <td>...</td>\n",
       "      <td>...</td>\n",
       "      <td>...</td>\n",
       "      <td>...</td>\n",
       "    </tr>\n",
       "    <tr>\n",
       "      <th>13978</th>\n",
       "      <td>Zimbabwe</td>\n",
       "      <td>91</td>\n",
       "      <td>1</td>\n",
       "      <td>7</td>\n",
       "      <td>0</td>\n",
       "    </tr>\n",
       "    <tr>\n",
       "      <th>13979</th>\n",
       "      <td>Zimbabwe</td>\n",
       "      <td>93</td>\n",
       "      <td>3</td>\n",
       "      <td>6</td>\n",
       "      <td>0</td>\n",
       "    </tr>\n",
       "    <tr>\n",
       "      <th>13980</th>\n",
       "      <td>Zimbabwe</td>\n",
       "      <td>94</td>\n",
       "      <td>1</td>\n",
       "      <td>2</td>\n",
       "      <td>0</td>\n",
       "    </tr>\n",
       "    <tr>\n",
       "      <th>13981</th>\n",
       "      <td>Zimbabwe</td>\n",
       "      <td>96</td>\n",
       "      <td>8</td>\n",
       "      <td>9</td>\n",
       "      <td>3</td>\n",
       "    </tr>\n",
       "    <tr>\n",
       "      <th>13982</th>\n",
       "      <td>Zimbabwe</td>\n",
       "      <td>99</td>\n",
       "      <td>3</td>\n",
       "      <td>3</td>\n",
       "      <td>0</td>\n",
       "    </tr>\n",
       "  </tbody>\n",
       "</table>\n",
       "<p>13983 rows × 5 columns</p>\n",
       "</div>"
      ],
      "text/plain": [
       "             cntry  dis  pubcnt  intgrant  domegrant\n",
       "0      Afghanistan    1      14        26          0\n",
       "1      Afghanistan    2       7        11          0\n",
       "2      Afghanistan    3       2         2          0\n",
       "3      Afghanistan    4       4         9          0\n",
       "4      Afghanistan   12       1         1          0\n",
       "...            ...  ...     ...       ...        ...\n",
       "13978     Zimbabwe   91       1         7          0\n",
       "13979     Zimbabwe   93       3         6          0\n",
       "13980     Zimbabwe   94       1         2          0\n",
       "13981     Zimbabwe   96       8         9          3\n",
       "13982     Zimbabwe   99       3         3          0\n",
       "\n",
       "[13983 rows x 5 columns]"
      ]
     },
     "execution_count": 7,
     "metadata": {},
     "output_type": "execute_result"
    }
   ],
   "source": [
    "result_df"
   ]
  },
  {
   "cell_type": "code",
   "execution_count": 8,
   "id": "57957edf-a959-4481-a863-8d9b293959c4",
   "metadata": {},
   "outputs": [
    {
     "data": {
      "text/plain": [
       "<Axes: xlabel='domegrant', ylabel='intgrant'>"
      ]
     },
     "execution_count": 8,
     "metadata": {},
     "output_type": "execute_result"
    },
    {
     "data": {
      "image/png": "[encoded data removed]",
      "text/plain": [
       "<Figure size 640x480 with 1 Axes>"
      ]
     },
     "metadata": {},
     "output_type": "display_data"
    }
   ],
   "source": [
    "x=np.log(result_df['domegrant']+1)\n",
    "y=np.log(result_df['intgrant']+1)\n",
    "sns.scatterplot(x=x,y=y)"
   ]
  },
  {
   "cell_type": "code",
   "execution_count": 7,
   "id": "f6bb5915-239d-49ad-9c31-2a946080788e",
   "metadata": {},
   "outputs": [],
   "source": [
    "test = df.explode('author_distinct')"
   ]
  },
  {
   "cell_type": "code",
   "execution_count": 9,
   "id": "98c9c701-6c0c-409d-8701-94a55bc44ddb",
   "metadata": {},
   "outputs": [
    {
     "data": {
      "text/html": [
       "<div>\n",
       "<style scoped>\n",
       "    .dataframe tbody tr th:only-of-type {\n",
       "        vertical-align: middle;\n",
       "    }\n",
       "\n",
       "    .dataframe tbody tr th {\n",
       "        vertical-align: top;\n",
       "    }\n",
       "\n",
       "    .dataframe thead th {\n",
       "        text-align: right;\n",
       "    }\n",
       "</style>\n",
       "<table border=\"1\" class=\"dataframe\">\n",
       "  <thead>\n",
       "    <tr style=\"text-align: right;\">\n",
       "      <th></th>\n",
       "      <th>id</th>\n",
       "      <th>year</th>\n",
       "      <th>dis</th>\n",
       "      <th>type</th>\n",
       "      <th>author</th>\n",
       "      <th>funder</th>\n",
       "      <th>author_distinct</th>\n",
       "      <th>funder_distinct</th>\n",
       "      <th>funded</th>\n",
       "      <th>IntCol</th>\n",
       "      <th>cofund</th>\n",
       "      <th>intfund</th>\n",
       "    </tr>\n",
       "  </thead>\n",
       "  <tbody>\n",
       "    <tr>\n",
       "      <th>1881168</th>\n",
       "      <td>55973420</td>\n",
       "      <td>2015</td>\n",
       "      <td>18</td>\n",
       "      <td>1</td>\n",
       "      <td>[Australia, Solomon Islands, Nauru]</td>\n",
       "      <td>[China]</td>\n",
       "      <td>Nauru</td>\n",
       "      <td>[China]</td>\n",
       "      <td>1</td>\n",
       "      <td>1</td>\n",
       "      <td>0</td>\n",
       "      <td>1</td>\n",
       "    </tr>\n",
       "    <tr>\n",
       "      <th>9741261</th>\n",
       "      <td>54158746</td>\n",
       "      <td>2015</td>\n",
       "      <td>78</td>\n",
       "      <td>1</td>\n",
       "      <td>[Nauru]</td>\n",
       "      <td>[China, China, China, China, China, China, Chi...</td>\n",
       "      <td>Nauru</td>\n",
       "      <td>[China]</td>\n",
       "      <td>1</td>\n",
       "      <td>0</td>\n",
       "      <td>0</td>\n",
       "      <td>1</td>\n",
       "    </tr>\n",
       "    <tr>\n",
       "      <th>9860952</th>\n",
       "      <td>59155055</td>\n",
       "      <td>2016</td>\n",
       "      <td>22</td>\n",
       "      <td>1</td>\n",
       "      <td>[Taiwan, Nauru]</td>\n",
       "      <td>Not-Funded</td>\n",
       "      <td>Nauru</td>\n",
       "      <td>Not-Funded</td>\n",
       "      <td>0</td>\n",
       "      <td>1</td>\n",
       "      <td>0</td>\n",
       "      <td>0</td>\n",
       "    </tr>\n",
       "    <tr>\n",
       "      <th>10428184</th>\n",
       "      <td>52744022</td>\n",
       "      <td>2014</td>\n",
       "      <td>72</td>\n",
       "      <td>1</td>\n",
       "      <td>[Tonga, Papua New Guinea, Cook Islands, Vanuat...</td>\n",
       "      <td>[Australia, Australia]</td>\n",
       "      <td>Nauru</td>\n",
       "      <td>[Australia]</td>\n",
       "      <td>1</td>\n",
       "      <td>1</td>\n",
       "      <td>0</td>\n",
       "      <td>0</td>\n",
       "    </tr>\n",
       "    <tr>\n",
       "      <th>10815927</th>\n",
       "      <td>52631692</td>\n",
       "      <td>2014</td>\n",
       "      <td>37</td>\n",
       "      <td>1</td>\n",
       "      <td>[United Kingdom, Netherlands, Nauru, France, N...</td>\n",
       "      <td>[United States, New Zealand]</td>\n",
       "      <td>Nauru</td>\n",
       "      <td>[New Zealand, United States]</td>\n",
       "      <td>1</td>\n",
       "      <td>1</td>\n",
       "      <td>1</td>\n",
       "      <td>1</td>\n",
       "    </tr>\n",
       "  </tbody>\n",
       "</table>\n",
       "</div>"
      ],
      "text/plain": [
       "                id  year  dis  type   \n",
       "1881168   55973420  2015   18     1  \\\n",
       "9741261   54158746  2015   78     1   \n",
       "9860952   59155055  2016   22     1   \n",
       "10428184  52744022  2014   72     1   \n",
       "10815927  52631692  2014   37     1   \n",
       "\n",
       "                                                     author   \n",
       "1881168                 [Australia, Solomon Islands, Nauru]  \\\n",
       "9741261                                             [Nauru]   \n",
       "9860952                                     [Taiwan, Nauru]   \n",
       "10428184  [Tonga, Papua New Guinea, Cook Islands, Vanuat...   \n",
       "10815927  [United Kingdom, Netherlands, Nauru, France, N...   \n",
       "\n",
       "                                                     funder author_distinct   \n",
       "1881168                                             [China]           Nauru  \\\n",
       "9741261   [China, China, China, China, China, China, Chi...           Nauru   \n",
       "9860952                                          Not-Funded           Nauru   \n",
       "10428184                             [Australia, Australia]           Nauru   \n",
       "10815927                       [United States, New Zealand]           Nauru   \n",
       "\n",
       "                       funder_distinct  funded  IntCol  cofund  intfund  \n",
       "1881168                        [China]       1       1       0        1  \n",
       "9741261                        [China]       1       0       0        1  \n",
       "9860952                     Not-Funded       0       1       0        0  \n",
       "10428184                   [Australia]       1       1       0        0  \n",
       "10815927  [New Zealand, United States]       1       1       1        1  "
      ]
     },
     "execution_count": 9,
     "metadata": {},
     "output_type": "execute_result"
    }
   ],
   "source": [
    "test[test.author_distinct=='Nauru']"
   ]
  },
  {
   "cell_type": "code",
   "execution_count": null,
   "id": "a9942142-9f14-40c6-83bc-3982e296ecdf",
   "metadata": {},
   "outputs": [],
   "source": []
  }
 ],
 "metadata": {
  "kernelspec": {
   "display_name": "Python 3 (ipykernel)",
   "language": "python",
   "name": "python3"
  },
  "language_info": {
   "codemirror_mode": {
    "name": "ipython",
    "version": 3
   },
   "file_extension": ".py",
   "mimetype": "text/x-python",
   "name": "python",
   "nbconvert_exporter": "python",
   "pygments_lexer": "ipython3",
   "version": "3.8.16"
  }
 },
 "nbformat": 4,
 "nbformat_minor": 5
}
