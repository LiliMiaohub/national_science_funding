{
 "cells": [
  {
   "cell_type": "code",
   "execution_count": 1,
   "id": "c626e20b-59f5-460a-8fd3-700f1be94b89",
   "metadata": {},
   "outputs": [
    {
     "name": "stderr",
     "output_type": "stream",
     "text": [
      "\n",
      "Attaching package: ‘dplyr’\n",
      "\n",
      "\n",
      "The following objects are masked from ‘package:stats’:\n",
      "\n",
      "    filter, lag\n",
      "\n",
      "\n",
      "The following objects are masked from ‘package:base’:\n",
      "\n",
      "    intersect, setdiff, setequal, union\n",
      "\n",
      "\n"
     ]
    }
   ],
   "source": [
    "library(fixest)\n",
    "library(tidyr)\n",
    "library(ggplot2)\n",
    "library(dplyr)\n",
    "library(modelsummary)"
   ]
  },
  {
   "cell_type": "code",
   "execution_count": 25,
   "id": "7b3f6402-f9c9-49be-9e96-a19486d3a891",
   "metadata": {},
   "outputs": [],
   "source": [
    "data = read.csv('reg_table_grants.csv')"
   ]
  },
  {
   "cell_type": "code",
   "execution_count": 26,
   "id": "43dbcb48-bd67-433d-bd66-6956fe5453cc",
   "metadata": {},
   "outputs": [
    {
     "data": {
      "text/html": [
       "<table class=\"dataframe\">\n",
       "<caption>A data.frame: 6 × 6</caption>\n",
       "<thead>\n",
       "\t<tr><th></th><th scope=col>cntry</th><th scope=col>dis</th><th scope=col>pubcnt</th><th scope=col>domegrant</th><th scope=col>intgrant</th><th scope=col>region2</th></tr>\n",
       "\t<tr><th></th><th scope=col>&lt;chr&gt;</th><th scope=col>&lt;int&gt;</th><th scope=col>&lt;int&gt;</th><th scope=col>&lt;int&gt;</th><th scope=col>&lt;int&gt;</th><th scope=col>&lt;chr&gt;</th></tr>\n",
       "</thead>\n",
       "<tbody>\n",
       "\t<tr><th scope=row>1</th><td>Afghanistan</td><td> 1</td><td>14</td><td>0</td><td>26</td><td>Asia</td></tr>\n",
       "\t<tr><th scope=row>2</th><td>Afghanistan</td><td> 2</td><td> 7</td><td>0</td><td>11</td><td>Asia</td></tr>\n",
       "\t<tr><th scope=row>3</th><td>Afghanistan</td><td> 3</td><td> 2</td><td>0</td><td> 2</td><td>Asia</td></tr>\n",
       "\t<tr><th scope=row>4</th><td>Afghanistan</td><td> 4</td><td> 4</td><td>0</td><td> 9</td><td>Asia</td></tr>\n",
       "\t<tr><th scope=row>5</th><td>Afghanistan</td><td>12</td><td> 1</td><td>0</td><td> 1</td><td>Asia</td></tr>\n",
       "\t<tr><th scope=row>6</th><td>Afghanistan</td><td>15</td><td> 3</td><td>0</td><td> 3</td><td>Asia</td></tr>\n",
       "</tbody>\n",
       "</table>\n"
      ],
      "text/latex": [
       "A data.frame: 6 × 6\n",
       "\\begin{tabular}{r|llllll}\n",
       "  & cntry & dis & pubcnt & domegrant & intgrant & region2\\\\\n",
       "  & <chr> & <int> & <int> & <int> & <int> & <chr>\\\\\n",
       "\\hline\n",
       "\t1 & Afghanistan &  1 & 14 & 0 & 26 & Asia\\\\\n",
       "\t2 & Afghanistan &  2 &  7 & 0 & 11 & Asia\\\\\n",
       "\t3 & Afghanistan &  3 &  2 & 0 &  2 & Asia\\\\\n",
       "\t4 & Afghanistan &  4 &  4 & 0 &  9 & Asia\\\\\n",
       "\t5 & Afghanistan & 12 &  1 & 0 &  1 & Asia\\\\\n",
       "\t6 & Afghanistan & 15 &  3 & 0 &  3 & Asia\\\\\n",
       "\\end{tabular}\n"
      ],
      "text/markdown": [
       "\n",
       "A data.frame: 6 × 6\n",
       "\n",
       "| <!--/--> | cntry &lt;chr&gt; | dis &lt;int&gt; | pubcnt &lt;int&gt; | domegrant &lt;int&gt; | intgrant &lt;int&gt; | region2 &lt;chr&gt; |\n",
       "|---|---|---|---|---|---|---|\n",
       "| 1 | Afghanistan |  1 | 14 | 0 | 26 | Asia |\n",
       "| 2 | Afghanistan |  2 |  7 | 0 | 11 | Asia |\n",
       "| 3 | Afghanistan |  3 |  2 | 0 |  2 | Asia |\n",
       "| 4 | Afghanistan |  4 |  4 | 0 |  9 | Asia |\n",
       "| 5 | Afghanistan | 12 |  1 | 0 |  1 | Asia |\n",
       "| 6 | Afghanistan | 15 |  3 | 0 |  3 | Asia |\n",
       "\n"
      ],
      "text/plain": [
       "  cntry       dis pubcnt domegrant intgrant region2\n",
       "1 Afghanistan  1  14     0         26       Asia   \n",
       "2 Afghanistan  2   7     0         11       Asia   \n",
       "3 Afghanistan  3   2     0          2       Asia   \n",
       "4 Afghanistan  4   4     0          9       Asia   \n",
       "5 Afghanistan 12   1     0          1       Asia   \n",
       "6 Afghanistan 15   3     0          3       Asia   "
      ]
     },
     "metadata": {},
     "output_type": "display_data"
    }
   ],
   "source": [
    "head(data)"
   ]
  },
  {
   "cell_type": "code",
   "execution_count": 27,
   "id": "8d150e5c-d761-49ff-943c-c93350b05c16",
   "metadata": {},
   "outputs": [],
   "source": [
    "data$domegrant=log(data$domegrant+1)\n",
    "data$intgrant=log(data$intgrant+1)\n",
    "data$pubcnt=log(data$pubcnt)"
   ]
  },
  {
   "cell_type": "code",
   "execution_count": 30,
   "id": "4f356f51-987c-4641-ab0b-3931063e4b99",
   "metadata": {},
   "outputs": [
    {
     "data": {
      "text/html": [
       "<table class=\"dataframe\">\n",
       "<caption>A data.frame: 6 × 6</caption>\n",
       "<thead>\n",
       "\t<tr><th></th><th scope=col>cntry</th><th scope=col>dis</th><th scope=col>pubcnt</th><th scope=col>domegrant</th><th scope=col>intgrant</th><th scope=col>region2</th></tr>\n",
       "\t<tr><th></th><th scope=col>&lt;chr&gt;</th><th scope=col>&lt;int&gt;</th><th scope=col>&lt;dbl&gt;</th><th scope=col>&lt;dbl&gt;</th><th scope=col>&lt;dbl&gt;</th><th scope=col>&lt;chr&gt;</th></tr>\n",
       "</thead>\n",
       "<tbody>\n",
       "\t<tr><th scope=row>12981</th><td>United States</td><td>1</td><td>10.074158</td><td>10.311416</td><td>10.321309</td><td>North America</td></tr>\n",
       "\t<tr><th scope=row>12982</th><td>United States</td><td>2</td><td>10.402261</td><td>10.809445</td><td>10.698898</td><td>North America</td></tr>\n",
       "\t<tr><th scope=row>12983</th><td>United States</td><td>3</td><td> 8.582419</td><td> 8.738415</td><td> 8.328451</td><td>North America</td></tr>\n",
       "\t<tr><th scope=row>12984</th><td>United States</td><td>4</td><td>10.320717</td><td>11.044792</td><td>10.223540</td><td>North America</td></tr>\n",
       "\t<tr><th scope=row>12985</th><td>United States</td><td>5</td><td> 9.243872</td><td> 9.649434</td><td> 9.003193</td><td>North America</td></tr>\n",
       "\t<tr><th scope=row>12986</th><td>United States</td><td>6</td><td> 8.958926</td><td> 9.776790</td><td> 9.096724</td><td>North America</td></tr>\n",
       "</tbody>\n",
       "</table>\n"
      ],
      "text/latex": [
       "A data.frame: 6 × 6\n",
       "\\begin{tabular}{r|llllll}\n",
       "  & cntry & dis & pubcnt & domegrant & intgrant & region2\\\\\n",
       "  & <chr> & <int> & <dbl> & <dbl> & <dbl> & <chr>\\\\\n",
       "\\hline\n",
       "\t12981 & United States & 1 & 10.074158 & 10.311416 & 10.321309 & North America\\\\\n",
       "\t12982 & United States & 2 & 10.402261 & 10.809445 & 10.698898 & North America\\\\\n",
       "\t12983 & United States & 3 &  8.582419 &  8.738415 &  8.328451 & North America\\\\\n",
       "\t12984 & United States & 4 & 10.320717 & 11.044792 & 10.223540 & North America\\\\\n",
       "\t12985 & United States & 5 &  9.243872 &  9.649434 &  9.003193 & North America\\\\\n",
       "\t12986 & United States & 6 &  8.958926 &  9.776790 &  9.096724 & North America\\\\\n",
       "\\end{tabular}\n"
      ],
      "text/markdown": [
       "\n",
       "A data.frame: 6 × 6\n",
       "\n",
       "| <!--/--> | cntry &lt;chr&gt; | dis &lt;int&gt; | pubcnt &lt;dbl&gt; | domegrant &lt;dbl&gt; | intgrant &lt;dbl&gt; | region2 &lt;chr&gt; |\n",
       "|---|---|---|---|---|---|---|\n",
       "| 12981 | United States | 1 | 10.074158 | 10.311416 | 10.321309 | North America |\n",
       "| 12982 | United States | 2 | 10.402261 | 10.809445 | 10.698898 | North America |\n",
       "| 12983 | United States | 3 |  8.582419 |  8.738415 |  8.328451 | North America |\n",
       "| 12984 | United States | 4 | 10.320717 | 11.044792 | 10.223540 | North America |\n",
       "| 12985 | United States | 5 |  9.243872 |  9.649434 |  9.003193 | North America |\n",
       "| 12986 | United States | 6 |  8.958926 |  9.776790 |  9.096724 | North America |\n",
       "\n"
      ],
      "text/plain": [
       "      cntry         dis pubcnt    domegrant intgrant  region2      \n",
       "12981 United States 1   10.074158 10.311416 10.321309 North America\n",
       "12982 United States 2   10.402261 10.809445 10.698898 North America\n",
       "12983 United States 3    8.582419  8.738415  8.328451 North America\n",
       "12984 United States 4   10.320717 11.044792 10.223540 North America\n",
       "12985 United States 5    9.243872  9.649434  9.003193 North America\n",
       "12986 United States 6    8.958926  9.776790  9.096724 North America"
      ]
     },
     "metadata": {},
     "output_type": "display_data"
    }
   ],
   "source": [
    "head(data[data$cntry=='United States',])"
   ]
  },
  {
   "cell_type": "code",
   "execution_count": 34,
   "id": "2c60847d-aa38-4fd1-a721-f913eff1e5c8",
   "metadata": {},
   "outputs": [],
   "source": [
    "countries=unique(data$cntry)\n",
    "fit_regression = function(country, data){\n",
    "    subset_df = data[data$cntry==country,]\n",
    "    feols_model = feols(intgrant~pubcnt+domegrant|cntry,data=subset_df)\n",
    "    return(feols_model)\n",
    "}\n",
    "regression_models = lapply(countries, fit_regression, data=data)"
   ]
  },
  {
   "cell_type": "code",
   "execution_count": 38,
   "id": "5f037b90-b4ee-46ca-8a3e-19b94f8bdb1b",
   "metadata": {},
   "outputs": [],
   "source": [
    "unique_df = distinct(data[c('cntry','region2')],.keep_all=TRUE)"
   ]
  },
  {
   "cell_type": "code",
   "execution_count": 45,
   "id": "cee5e1a3-9c35-47c8-9217-66553f952445",
   "metadata": {},
   "outputs": [
    {
     "data": {
      "text/plain": [
       "[[1]]\n",
       "OLS estimation, Dep. Var.: intgrant\n",
       "Observations: 39 \n",
       "Fixed-effects: cntry: 1\n",
       "Standard-errors: IID \n",
       "           Estimate Std. Error  t value  Pr(>|t|)    \n",
       "pubcnt     1.024061   0.060196 17.01211 < 2.2e-16 ***\n",
       "domegrant -0.990679   0.543144 -1.82397  0.076466 .  \n",
       "---\n",
       "Signif. codes:  0 '***' 0.001 '**' 0.01 '*' 0.05 '.' 0.1 ' ' 1\n",
       "RMSE: 0.353566     Adj. R2: 0.883333\n",
       "                 Within R2: 0.889473\n"
      ]
     },
     "metadata": {},
     "output_type": "display_data"
    }
   ],
   "source": [
    "regression_models[1]"
   ]
  },
  {
   "cell_type": "code",
   "execution_count": 69,
   "id": "408a4703-58f9-4726-a22e-eaa8d0578af0",
   "metadata": {},
   "outputs": [],
   "source": [
    "extract_estimation=function(reg_model){\n",
    "    estimation=summary(reg_model)$coeftable['domegrant','Estimate']\n",
    "    pvalue=summary(reg_model)$coeftable['domegrant','Pr(>|t|)']\n",
    "    c(estimation,pvalue)\n",
    "}\n",
    "estimations = lapply(regression_models, extract_estimation)\n",
    "estimation_value=sapply(estimations,\"[[\",1)\n",
    "pvalue=sapply(estimations,\"[[\",2)"
   ]
  },
  {
   "cell_type": "code",
   "execution_count": 70,
   "id": "4a88fa10-935c-4b73-83f3-c20a9622ab17",
   "metadata": {},
   "outputs": [],
   "source": [
    "result_df=data.frame(\n",
    "cntry=countries,\n",
    "estimation=estimation_value,\n",
    "pvalue=pvalue)"
   ]
  },
  {
   "cell_type": "code",
   "execution_count": 72,
   "id": "714baecc-925a-466a-9319-a5856ffd8ef4",
   "metadata": {},
   "outputs": [],
   "source": [
    "result_df=merge(result_df,unique_df,by='cntry')"
   ]
  },
  {
   "cell_type": "code",
   "execution_count": 79,
   "id": "99e63cc8-14b5-4a6b-af55-b20f4a2045c2",
   "metadata": {},
   "outputs": [],
   "source": [
    "write.csv(result_df, file='reg_comp_sub_result.csv',row.names=FALSE)"
   ]
  },
  {
   "cell_type": "code",
   "execution_count": null,
   "id": "664021dc-9bc0-42fe-89aa-6da58e042238",
   "metadata": {},
   "outputs": [],
   "source": []
  }
 ],
 "metadata": {
  "kernelspec": {
   "display_name": "R",
   "language": "R",
   "name": "ir"
  },
  "language_info": {
   "codemirror_mode": "r",
   "file_extension": ".r",
   "mimetype": "text/x-r-source",
   "name": "R",
   "pygments_lexer": "r",
   "version": "4.2.3"
  }
 },
 "nbformat": 4,
 "nbformat_minor": 5
}
