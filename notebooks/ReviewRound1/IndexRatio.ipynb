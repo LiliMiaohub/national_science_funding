{
 "cells": [
  {
   "cell_type": "markdown",
   "id": "27b50ea0-588e-4ca9-9597-a2eafb373d54",
   "metadata": {},
   "source": [
    "this notebook checks the ratio of indexing funding acknowledgement in certain journals which those journals have funding from 2008"
   ]
  },
  {
   "cell_type": "code",
   "execution_count": 1,
   "id": "896c3df1-ab5e-4132-9ec1-d98689d1edae",
   "metadata": {},
   "outputs": [],
   "source": [
    "import pandas as pd\n",
    "import seaborn as sns\n",
    "import matplotlib.pyplot as plt\n",
    "from matplotlib.lines import Line2D"
   ]
  },
  {
   "cell_type": "code",
   "execution_count": 2,
   "id": "6e4d172c-b7ee-4d2e-86b4-b6274dd0b7a3",
   "metadata": {},
   "outputs": [],
   "source": [
    "file_path = '../../data/NationalFunding/Data/RobustCheck/Data_lili_funding.xlsx'"
   ]
  },
  {
   "cell_type": "code",
   "execution_count": 3,
   "id": "49fc092b-bafe-40bf-8d51-37de2752b307",
   "metadata": {},
   "outputs": [],
   "source": [
    "df = pd.read_excel(file_path, names=['journal','year','type','value'])"
   ]
  },
  {
   "cell_type": "code",
   "execution_count": 4,
   "id": "daaf1aad-1e8f-43a2-a572-391faa485217",
   "metadata": {},
   "outputs": [],
   "source": [
    "year_counts = df[(df.type=='FUNDED')].groupby('journal')['year'].unique().reset_index()\n",
    "year_counts['num_year'] = year_counts['year'].apply(lambda x:len(x))\n",
    "\n",
    "select_journal = year_counts[year_counts.num_year==15].journal.tolist()"
   ]
  },
  {
   "cell_type": "code",
   "execution_count": 5,
   "id": "1f09a701-39c7-482b-8620-0e5936835a6c",
   "metadata": {},
   "outputs": [],
   "source": [
    "df_filter = df[df.journal.isin(select_journal)]"
   ]
  },
  {
   "cell_type": "code",
   "execution_count": 6,
   "id": "4f220854-de8d-43a6-ac5a-e0508481f735",
   "metadata": {},
   "outputs": [],
   "source": [
    "df_filter = df_filter.pivot_table(index=['journal','year'],columns='type',values='value').reset_index()"
   ]
  },
  {
   "cell_type": "code",
   "execution_count": 7,
   "id": "94e1a4e8-755b-492d-9fab-4cce74b53278",
   "metadata": {},
   "outputs": [],
   "source": [
    "df_filter['ratio'] = df_filter['FUNDED']/df_filter['ALL']"
   ]
  },
  {
   "cell_type": "code",
   "execution_count": null,
   "id": "18949f57-35f2-4a39-97f6-78f41c5e1195",
   "metadata": {},
   "outputs": [],
   "source": []
  },
  {
   "cell_type": "code",
   "execution_count": 8,
   "id": "62a59d58-f442-4352-98ad-9b4933b2e327",
   "metadata": {},
   "outputs": [],
   "source": [
    "pubs_path=\"../../data/NationalFunding/Data/DerivedData/CleanedRawData/pub.pkl\""
   ]
  },
  {
   "cell_type": "code",
   "execution_count": 9,
   "id": "0e82f037-83ef-44fc-93b0-1825983e271a",
   "metadata": {},
   "outputs": [
    {
     "data": {
      "text/html": [
       "<div>\n",
       "<style scoped>\n",
       "    .dataframe tbody tr th:only-of-type {\n",
       "        vertical-align: middle;\n",
       "    }\n",
       "\n",
       "    .dataframe tbody tr th {\n",
       "        vertical-align: top;\n",
       "    }\n",
       "\n",
       "    .dataframe thead th {\n",
       "        text-align: right;\n",
       "    }\n",
       "</style>\n",
       "<table border=\"1\" class=\"dataframe\">\n",
       "  <thead>\n",
       "    <tr style=\"text-align: right;\">\n",
       "      <th></th>\n",
       "      <th>id</th>\n",
       "      <th>year</th>\n",
       "      <th>dis</th>\n",
       "      <th>type</th>\n",
       "      <th>author</th>\n",
       "      <th>funder</th>\n",
       "      <th>author_distinct</th>\n",
       "      <th>funder_distinct</th>\n",
       "      <th>funded</th>\n",
       "      <th>IntCol</th>\n",
       "      <th>cofund</th>\n",
       "      <th>intfund</th>\n",
       "    </tr>\n",
       "  </thead>\n",
       "  <tbody>\n",
       "    <tr>\n",
       "      <th>0</th>\n",
       "      <td>60694041</td>\n",
       "      <td>2017</td>\n",
       "      <td>9</td>\n",
       "      <td>1</td>\n",
       "      <td>[Canada, United States]</td>\n",
       "      <td>[United States, United States]</td>\n",
       "      <td>[Canada, United States]</td>\n",
       "      <td>[United States]</td>\n",
       "      <td>1</td>\n",
       "      <td>1</td>\n",
       "      <td>0</td>\n",
       "      <td>0</td>\n",
       "    </tr>\n",
       "    <tr>\n",
       "      <th>1</th>\n",
       "      <td>48573156</td>\n",
       "      <td>2012</td>\n",
       "      <td>89</td>\n",
       "      <td>1</td>\n",
       "      <td>[France]</td>\n",
       "      <td>Not-Funded</td>\n",
       "      <td>[France]</td>\n",
       "      <td>Not-Funded</td>\n",
       "      <td>0</td>\n",
       "      <td>0</td>\n",
       "      <td>0</td>\n",
       "      <td>0</td>\n",
       "    </tr>\n",
       "    <tr>\n",
       "      <th>2</th>\n",
       "      <td>55323671</td>\n",
       "      <td>2015</td>\n",
       "      <td>89</td>\n",
       "      <td>1</td>\n",
       "      <td>[France, Chile]</td>\n",
       "      <td>[Chile, Chile, Chile, Chile, Chile]</td>\n",
       "      <td>[France, Chile]</td>\n",
       "      <td>[Chile]</td>\n",
       "      <td>1</td>\n",
       "      <td>1</td>\n",
       "      <td>0</td>\n",
       "      <td>0</td>\n",
       "    </tr>\n",
       "    <tr>\n",
       "      <th>3</th>\n",
       "      <td>57633115</td>\n",
       "      <td>2016</td>\n",
       "      <td>31</td>\n",
       "      <td>1</td>\n",
       "      <td>[Switzerland, United States]</td>\n",
       "      <td>[Switzerland]</td>\n",
       "      <td>[Switzerland, United States]</td>\n",
       "      <td>[Switzerland]</td>\n",
       "      <td>1</td>\n",
       "      <td>1</td>\n",
       "      <td>0</td>\n",
       "      <td>0</td>\n",
       "    </tr>\n",
       "    <tr>\n",
       "      <th>4</th>\n",
       "      <td>64831413</td>\n",
       "      <td>2018</td>\n",
       "      <td>99</td>\n",
       "      <td>1</td>\n",
       "      <td>[China]</td>\n",
       "      <td>[China, China, China, China, China, China]</td>\n",
       "      <td>[China]</td>\n",
       "      <td>[China]</td>\n",
       "      <td>1</td>\n",
       "      <td>0</td>\n",
       "      <td>0</td>\n",
       "      <td>0</td>\n",
       "    </tr>\n",
       "  </tbody>\n",
       "</table>\n",
       "</div>"
      ],
      "text/plain": [
       "         id  year  dis  type                        author   \n",
       "0  60694041  2017    9     1       [Canada, United States]  \\\n",
       "1  48573156  2012   89     1                      [France]   \n",
       "2  55323671  2015   89     1               [France, Chile]   \n",
       "3  57633115  2016   31     1  [Switzerland, United States]   \n",
       "4  64831413  2018   99     1                       [China]   \n",
       "\n",
       "                                       funder               author_distinct   \n",
       "0              [United States, United States]       [Canada, United States]  \\\n",
       "1                                  Not-Funded                      [France]   \n",
       "2         [Chile, Chile, Chile, Chile, Chile]               [France, Chile]   \n",
       "3                               [Switzerland]  [Switzerland, United States]   \n",
       "4  [China, China, China, China, China, China]                       [China]   \n",
       "\n",
       "   funder_distinct  funded  IntCol  cofund  intfund  \n",
       "0  [United States]       1       1       0        0  \n",
       "1       Not-Funded       0       0       0        0  \n",
       "2          [Chile]       1       1       0        0  \n",
       "3    [Switzerland]       1       1       0        0  \n",
       "4          [China]       1       0       0        0  "
      ]
     },
     "execution_count": 9,
     "metadata": {},
     "output_type": "execute_result"
    }
   ],
   "source": [
    "pub_df = pd.read_pickle(pubs_path)\n",
    "pub_df.head()"
   ]
  },
  {
   "cell_type": "code",
   "execution_count": 10,
   "id": "035b7f7e-6ff0-4996-870e-58de6c8be723",
   "metadata": {},
   "outputs": [],
   "source": [
    "fund_year = pub_df.replace(to_replace={'funded':{1:'funded',0:'not'}}).groupby(['year','funded']).size()\n",
    "fund_year = fund_year.reset_index().rename(columns={0:'count'}).pivot(index='year',columns='funded',values='count').reset_index()\n",
    "fund_year['all'] = fund_year['funded']+fund_year['not']\n",
    "fund_year['ratio'] = fund_year['funded']/fund_year['all']"
   ]
  },
  {
   "cell_type": "code",
   "execution_count": 11,
   "id": "eec95d6b-9609-48b4-8144-3d8b57a88e49",
   "metadata": {},
   "outputs": [
    {
     "data": {
      "text/html": [
       "<div>\n",
       "<style scoped>\n",
       "    .dataframe tbody tr th:only-of-type {\n",
       "        vertical-align: middle;\n",
       "    }\n",
       "\n",
       "    .dataframe tbody tr th {\n",
       "        vertical-align: top;\n",
       "    }\n",
       "\n",
       "    .dataframe thead th {\n",
       "        text-align: right;\n",
       "    }\n",
       "</style>\n",
       "<table border=\"1\" class=\"dataframe\">\n",
       "  <thead>\n",
       "    <tr style=\"text-align: right;\">\n",
       "      <th>funded</th>\n",
       "      <th>year</th>\n",
       "      <th>funded</th>\n",
       "      <th>not</th>\n",
       "      <th>all</th>\n",
       "      <th>ratio</th>\n",
       "    </tr>\n",
       "  </thead>\n",
       "  <tbody>\n",
       "    <tr>\n",
       "      <th>0</th>\n",
       "      <td>2009</td>\n",
       "      <td>497411</td>\n",
       "      <td>544713</td>\n",
       "      <td>1042124</td>\n",
       "      <td>0.477305</td>\n",
       "    </tr>\n",
       "    <tr>\n",
       "      <th>1</th>\n",
       "      <td>2010</td>\n",
       "      <td>592070</td>\n",
       "      <td>485893</td>\n",
       "      <td>1077963</td>\n",
       "      <td>0.549249</td>\n",
       "    </tr>\n",
       "    <tr>\n",
       "      <th>2</th>\n",
       "      <td>2011</td>\n",
       "      <td>672839</td>\n",
       "      <td>473595</td>\n",
       "      <td>1146434</td>\n",
       "      <td>0.586897</td>\n",
       "    </tr>\n",
       "    <tr>\n",
       "      <th>3</th>\n",
       "      <td>2012</td>\n",
       "      <td>725358</td>\n",
       "      <td>484716</td>\n",
       "      <td>1210074</td>\n",
       "      <td>0.599433</td>\n",
       "    </tr>\n",
       "    <tr>\n",
       "      <th>4</th>\n",
       "      <td>2013</td>\n",
       "      <td>780975</td>\n",
       "      <td>496850</td>\n",
       "      <td>1277825</td>\n",
       "      <td>0.611175</td>\n",
       "    </tr>\n",
       "    <tr>\n",
       "      <th>5</th>\n",
       "      <td>2014</td>\n",
       "      <td>817982</td>\n",
       "      <td>499560</td>\n",
       "      <td>1317542</td>\n",
       "      <td>0.620839</td>\n",
       "    </tr>\n",
       "    <tr>\n",
       "      <th>6</th>\n",
       "      <td>2015</td>\n",
       "      <td>864230</td>\n",
       "      <td>495769</td>\n",
       "      <td>1359999</td>\n",
       "      <td>0.635464</td>\n",
       "    </tr>\n",
       "    <tr>\n",
       "      <th>7</th>\n",
       "      <td>2016</td>\n",
       "      <td>884594</td>\n",
       "      <td>518768</td>\n",
       "      <td>1403362</td>\n",
       "      <td>0.630339</td>\n",
       "    </tr>\n",
       "    <tr>\n",
       "      <th>8</th>\n",
       "      <td>2017</td>\n",
       "      <td>920516</td>\n",
       "      <td>495713</td>\n",
       "      <td>1416229</td>\n",
       "      <td>0.649977</td>\n",
       "    </tr>\n",
       "    <tr>\n",
       "      <th>9</th>\n",
       "      <td>2018</td>\n",
       "      <td>980965</td>\n",
       "      <td>526613</td>\n",
       "      <td>1507578</td>\n",
       "      <td>0.650689</td>\n",
       "    </tr>\n",
       "  </tbody>\n",
       "</table>\n",
       "</div>"
      ],
      "text/plain": [
       "funded  year  funded     not      all     ratio\n",
       "0       2009  497411  544713  1042124  0.477305\n",
       "1       2010  592070  485893  1077963  0.549249\n",
       "2       2011  672839  473595  1146434  0.586897\n",
       "3       2012  725358  484716  1210074  0.599433\n",
       "4       2013  780975  496850  1277825  0.611175\n",
       "5       2014  817982  499560  1317542  0.620839\n",
       "6       2015  864230  495769  1359999  0.635464\n",
       "7       2016  884594  518768  1403362  0.630339\n",
       "8       2017  920516  495713  1416229  0.649977\n",
       "9       2018  980965  526613  1507578  0.650689"
      ]
     },
     "execution_count": 11,
     "metadata": {},
     "output_type": "execute_result"
    }
   ],
   "source": [
    "fund_year"
   ]
  },
  {
   "cell_type": "code",
   "execution_count": 73,
   "id": "4e2f072b-7162-47d2-a5e2-8bdd432860a8",
   "metadata": {},
   "outputs": [
    {
     "data": {
      "image/png": "[encoded data removed]",
      "text/plain": [
       "<Figure size 640x480 with 1 Axes>"
      ]
     },
     "metadata": {},
     "output_type": "display_data"
    }
   ],
   "source": [
    "fig, ax=plt.subplots()\n",
    "sns.lineplot(x='year',y='ratio', data=df_filter, ax=ax, color='skyblue')\n",
    "sns.lineplot(x='year', y='ratio', data=fund_year, ax=ax, color='orange')\n",
    "ax.set_ylim(0,0.8)\n",
    "ax.set_xlabel(\"\")\n",
    "ax.set_ylabel(\"Proportion of publications are funded\",fontsize=12)\n",
    "custom_lines = [Line2D([0], [0], color='skyblue', lw=2, label='Journal fixed'),\n",
    "                Line2D([0], [0], color='orange', lw=2, label='All publications')]\n",
    "ax.legend(handles=custom_lines)\n",
    "plt.savefig('../../data/NationalFunding/Figs/Figs/funding_ratio_journal_fixed.pdf')"
   ]
  },
  {
   "cell_type": "code",
   "execution_count": null,
   "id": "76ec2f38-6376-4c80-80ce-d3d65fb5c134",
   "metadata": {},
   "outputs": [],
   "source": []
  }
 ],
 "metadata": {
  "kernelspec": {
   "display_name": "Python 3 (ipykernel)",
   "language": "python",
   "name": "python3"
  },
  "language_info": {
   "codemirror_mode": {
    "name": "ipython",
    "version": 3
   },
   "file_extension": ".py",
   "mimetype": "text/x-python",
   "name": "python",
   "nbconvert_exporter": "python",
   "pygments_lexer": "ipython3",
   "version": "3.8.16"
  }
 },
 "nbformat": 4,
 "nbformat_minor": 5
}
