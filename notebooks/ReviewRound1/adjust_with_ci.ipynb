{
 "cells": [
  {
   "cell_type": "markdown",
   "id": "f7aaf811-f76f-4d08-b2ca-71e510a0cfc0",
   "metadata": {},
   "source": [
    "### this script adjusts the true positive (currently funded papers) cases with addressing false negative cases (papers should have funding)"
   ]
  },
  {
   "cell_type": "code",
   "execution_count": 15,
   "id": "a98d459f-06ae-45ea-8e21-aa11e1a25599",
   "metadata": {},
   "outputs": [],
   "source": [
    "import pandas as pd\n",
    "import itertools"
   ]
  },
  {
   "cell_type": "code",
   "execution_count": 6,
   "id": "6848cffd-4c1a-4b62-b242-a3739d6674d6",
   "metadata": {},
   "outputs": [],
   "source": [
    "ci_global_path = \"../../data/NationalFunding/Data/RobustCheck/check_09_and_18/ci_global.csv\"\n",
    "ci_cntry_path = \"../../data/NationalFunding/Data/RobustCheck/check_09_and_18/ci_us_chn.csv\"\n",
    "stats_path = \"../../data/NationalFunding/Data/RobustCheck/check_09_and_18/global_us_chn_stats.csv\""
   ]
  },
  {
   "cell_type": "code",
   "execution_count": 7,
   "id": "4d0fd89e-b8ca-4111-a6eb-d7ae7e570227",
   "metadata": {},
   "outputs": [
    {
     "data": {
      "text/html": [
       "<div>\n",
       "<style scoped>\n",
       "    .dataframe tbody tr th:only-of-type {\n",
       "        vertical-align: middle;\n",
       "    }\n",
       "\n",
       "    .dataframe tbody tr th {\n",
       "        vertical-align: top;\n",
       "    }\n",
       "\n",
       "    .dataframe thead th {\n",
       "        text-align: right;\n",
       "    }\n",
       "</style>\n",
       "<table border=\"1\" class=\"dataframe\">\n",
       "  <thead>\n",
       "    <tr style=\"text-align: right;\">\n",
       "      <th></th>\n",
       "      <th>cntry</th>\n",
       "      <th>year</th>\n",
       "      <th>mean</th>\n",
       "      <th>lower</th>\n",
       "      <th>upper</th>\n",
       "    </tr>\n",
       "  </thead>\n",
       "  <tbody>\n",
       "    <tr>\n",
       "      <th>0</th>\n",
       "      <td>global</td>\n",
       "      <td>2009</td>\n",
       "      <td>0.162040</td>\n",
       "      <td>0.16022</td>\n",
       "      <td>0.163860</td>\n",
       "    </tr>\n",
       "    <tr>\n",
       "      <th>1</th>\n",
       "      <td>global</td>\n",
       "      <td>2018</td>\n",
       "      <td>0.054213</td>\n",
       "      <td>0.05302</td>\n",
       "      <td>0.055407</td>\n",
       "    </tr>\n",
       "  </tbody>\n",
       "</table>\n",
       "</div>"
      ],
      "text/plain": [
       "    cntry  year      mean    lower     upper\n",
       "0  global  2009  0.162040  0.16022  0.163860\n",
       "1  global  2018  0.054213  0.05302  0.055407"
      ]
     },
     "execution_count": 7,
     "metadata": {},
     "output_type": "execute_result"
    }
   ],
   "source": [
    "ci_global_df = pd.read_csv(ci_path)\n",
    "ci_df"
   ]
  },
  {
   "cell_type": "code",
   "execution_count": 8,
   "id": "6db85ce5-4343-425e-9bc3-358a2d0cb242",
   "metadata": {},
   "outputs": [
    {
     "data": {
      "text/html": [
       "<div>\n",
       "<style scoped>\n",
       "    .dataframe tbody tr th:only-of-type {\n",
       "        vertical-align: middle;\n",
       "    }\n",
       "\n",
       "    .dataframe tbody tr th {\n",
       "        vertical-align: top;\n",
       "    }\n",
       "\n",
       "    .dataframe thead th {\n",
       "        text-align: right;\n",
       "    }\n",
       "</style>\n",
       "<table border=\"1\" class=\"dataframe\">\n",
       "  <thead>\n",
       "    <tr style=\"text-align: right;\">\n",
       "      <th></th>\n",
       "      <th>cntry</th>\n",
       "      <th>year</th>\n",
       "      <th>mean</th>\n",
       "      <th>lower</th>\n",
       "      <th>upper</th>\n",
       "    </tr>\n",
       "  </thead>\n",
       "  <tbody>\n",
       "    <tr>\n",
       "      <th>0</th>\n",
       "      <td>china</td>\n",
       "      <td>2009</td>\n",
       "      <td>0.299000</td>\n",
       "      <td>0.295908</td>\n",
       "      <td>0.302092</td>\n",
       "    </tr>\n",
       "    <tr>\n",
       "      <th>1</th>\n",
       "      <td>china</td>\n",
       "      <td>2018</td>\n",
       "      <td>0.204272</td>\n",
       "      <td>0.201793</td>\n",
       "      <td>0.206751</td>\n",
       "    </tr>\n",
       "    <tr>\n",
       "      <th>2</th>\n",
       "      <td>usa</td>\n",
       "      <td>2009</td>\n",
       "      <td>0.263453</td>\n",
       "      <td>0.261070</td>\n",
       "      <td>0.265835</td>\n",
       "    </tr>\n",
       "    <tr>\n",
       "      <th>3</th>\n",
       "      <td>usa</td>\n",
       "      <td>2018</td>\n",
       "      <td>0.106734</td>\n",
       "      <td>0.104741</td>\n",
       "      <td>0.108727</td>\n",
       "    </tr>\n",
       "  </tbody>\n",
       "</table>\n",
       "</div>"
      ],
      "text/plain": [
       "   cntry  year      mean     lower     upper\n",
       "0  china  2009  0.299000  0.295908  0.302092\n",
       "1  china  2018  0.204272  0.201793  0.206751\n",
       "2    usa  2009  0.263453  0.261070  0.265835\n",
       "3    usa  2018  0.106734  0.104741  0.108727"
      ]
     },
     "execution_count": 8,
     "metadata": {},
     "output_type": "execute_result"
    }
   ],
   "source": [
    "ci_cntry_df = pd.read_csv(ci_cntry_path)\n",
    "ci_cntry_df.head()"
   ]
  },
  {
   "cell_type": "code",
   "execution_count": 11,
   "id": "7710ac16-ab7a-4a09-903d-92323f3a1d32",
   "metadata": {},
   "outputs": [
    {
     "data": {
      "text/html": [
       "<div>\n",
       "<style scoped>\n",
       "    .dataframe tbody tr th:only-of-type {\n",
       "        vertical-align: middle;\n",
       "    }\n",
       "\n",
       "    .dataframe tbody tr th {\n",
       "        vertical-align: top;\n",
       "    }\n",
       "\n",
       "    .dataframe thead th {\n",
       "        text-align: right;\n",
       "    }\n",
       "</style>\n",
       "<table border=\"1\" class=\"dataframe\">\n",
       "  <thead>\n",
       "    <tr style=\"text-align: right;\">\n",
       "      <th></th>\n",
       "      <th>cntry</th>\n",
       "      <th>year</th>\n",
       "      <th>mean</th>\n",
       "      <th>lower</th>\n",
       "      <th>upper</th>\n",
       "    </tr>\n",
       "  </thead>\n",
       "  <tbody>\n",
       "    <tr>\n",
       "      <th>0</th>\n",
       "      <td>global</td>\n",
       "      <td>2009</td>\n",
       "      <td>0.162040</td>\n",
       "      <td>0.16022</td>\n",
       "      <td>0.163860</td>\n",
       "    </tr>\n",
       "    <tr>\n",
       "      <th>1</th>\n",
       "      <td>global</td>\n",
       "      <td>2018</td>\n",
       "      <td>0.054213</td>\n",
       "      <td>0.05302</td>\n",
       "      <td>0.055407</td>\n",
       "    </tr>\n",
       "  </tbody>\n",
       "</table>\n",
       "</div>"
      ],
      "text/plain": [
       "    cntry  year      mean    lower     upper\n",
       "0  global  2009  0.162040  0.16022  0.163860\n",
       "1  global  2018  0.054213  0.05302  0.055407"
      ]
     },
     "execution_count": 11,
     "metadata": {},
     "output_type": "execute_result"
    }
   ],
   "source": [
    "ci_df = pd.concat([ci_global_df,ci_cntry_df],axis=0)\n",
    "ci_df.head(2)"
   ]
  },
  {
   "cell_type": "code",
   "execution_count": 13,
   "id": "3a894b7c-3e7a-4108-8cf5-762e73b88d86",
   "metadata": {},
   "outputs": [
    {
     "data": {
      "text/html": [
       "<div>\n",
       "<style scoped>\n",
       "    .dataframe tbody tr th:only-of-type {\n",
       "        vertical-align: middle;\n",
       "    }\n",
       "\n",
       "    .dataframe tbody tr th {\n",
       "        vertical-align: top;\n",
       "    }\n",
       "\n",
       "    .dataframe thead th {\n",
       "        text-align: right;\n",
       "    }\n",
       "</style>\n",
       "<table border=\"1\" class=\"dataframe\">\n",
       "  <thead>\n",
       "    <tr style=\"text-align: right;\">\n",
       "      <th></th>\n",
       "      <th>cntry</th>\n",
       "      <th>year</th>\n",
       "      <th>type</th>\n",
       "      <th>value</th>\n",
       "    </tr>\n",
       "  </thead>\n",
       "  <tbody>\n",
       "    <tr>\n",
       "      <th>0</th>\n",
       "      <td>global</td>\n",
       "      <td>2009</td>\n",
       "      <td>total</td>\n",
       "      <td>1038638</td>\n",
       "    </tr>\n",
       "    <tr>\n",
       "      <th>1</th>\n",
       "      <td>global</td>\n",
       "      <td>2009</td>\n",
       "      <td>funded</td>\n",
       "      <td>531320</td>\n",
       "    </tr>\n",
       "  </tbody>\n",
       "</table>\n",
       "</div>"
      ],
      "text/plain": [
       "    cntry  year    type    value\n",
       "0  global  2009   total  1038638\n",
       "1  global  2009  funded   531320"
      ]
     },
     "execution_count": 13,
     "metadata": {},
     "output_type": "execute_result"
    }
   ],
   "source": [
    "stats_df = pd.read_csv(stats_path)\n",
    "stats_df.head(2)"
   ]
  },
  {
   "cell_type": "code",
   "execution_count": 29,
   "id": "3b671fd1-5a2f-47e9-bb8d-ff089dba170e",
   "metadata": {},
   "outputs": [],
   "source": [
    "def adjust_with_false_negative(total, funded, notfunded, mean, lower, upper):\n",
    "    false_negative = notfunded*mean\n",
    "    false_negative_lower = notfunded*lower\n",
    "    false_negative_upper = notfunded*upper\n",
    "    return funded+false_negative, funded+false_negative_lower, funded+false_negative_upper"
   ]
  },
  {
   "cell_type": "code",
   "execution_count": 16,
   "id": "525eccf2-8197-43eb-8cd0-6746f5b5b5a6",
   "metadata": {},
   "outputs": [],
   "source": [
    "stats_df = stats_df.pivot(index=['cntry','year'],columns='type',values='value').reset_index()\n",
    "stats_df = stats_df.set_index(['cntry','year'])\n",
    "ci_df = ci_df.set_index(['cntry','year'])"
   ]
  },
  {
   "cell_type": "code",
   "execution_count": 30,
   "id": "6b81c025-1b43-4230-ada7-a466f3aa9154",
   "metadata": {},
   "outputs": [],
   "source": [
    "res = []\n",
    "cntrys = stats_df.index.get_level_values(0).unique()\n",
    "years = stats_df.index.get_level_values(1).unique()\n",
    "for cntry, year in itertools.product(cntrys, years):\n",
    "    total = stats_df.loc[(cntry,year),'total']\n",
    "    funded = stats_df.loc[(cntry,year),'funded']\n",
    "    notfunded = stats_df.loc[(cntry,year),'notfunded']\n",
    "    mean = ci_df.loc[(cntry,year),'mean']\n",
    "    lower = ci_df.loc[(cntry,year),'lower']\n",
    "    upper = ci_df.loc[(cntry,year),'upper']\n",
    "    estimated_funded, estimated_lower, estimated_upper = adjust_with_false_negative(total, funded, notfunded, mean, lower, upper)\n",
    "    res.append([cntry,year,total,funded,estimated_funded,estimated_lower,estimated_upper])\n",
    "res_df = pd.DataFrame(res, columns=['cntry','year','total','funded','funded_estimated','estimated_lower','estimated_upper'])"
   ]
  },
  {
   "cell_type": "code",
   "execution_count": 33,
   "id": "e743c573-7b10-4c24-85e0-daaa246b6048",
   "metadata": {},
   "outputs": [],
   "source": [
    "res_df.to_csv(\"../../data/NationalFunding/Data/RobustCheck/check_09_and_18/global_us_chn_stats_adjusted.csv\", index=False)"
   ]
  },
  {
   "cell_type": "code",
   "execution_count": null,
   "id": "bb5dc6d8-345c-4541-b210-a87ea4d3c57c",
   "metadata": {},
   "outputs": [],
   "source": []
  }
 ],
 "metadata": {
  "kernelspec": {
   "display_name": "Python 3 (ipykernel)",
   "language": "python",
   "name": "python3"
  },
  "language_info": {
   "codemirror_mode": {
    "name": "ipython",
    "version": 3
   },
   "file_extension": ".py",
   "mimetype": "text/x-python",
   "name": "python",
   "nbconvert_exporter": "python",
   "pygments_lexer": "ipython3",
   "version": "3.8.16"
  }
 },
 "nbformat": 4,
 "nbformat_minor": 5
}
