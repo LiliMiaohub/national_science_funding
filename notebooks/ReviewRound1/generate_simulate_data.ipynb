{
 "cells": [
  {
   "cell_type": "code",
   "execution_count": 14,
   "id": "ff00aa3d-f52f-4f28-b261-deb38e1c69f5",
   "metadata": {},
   "outputs": [],
   "source": [
    "import pandas as pd\n",
    "import numpy as np"
   ]
  },
  {
   "cell_type": "code",
   "execution_count": 23,
   "id": "1b40fb19-d387-4175-91f0-27e53ee3fd59",
   "metadata": {},
   "outputs": [],
   "source": [
    "pub_path=\"../../data/NationalFunding/Data/RawData/pubs.csv\"\n",
    "pub_fund_path=\"../../data/NationalFunding/Data/RawData/pub_funder.csv\"\n",
    "pub_author_path=\"../../data/NationalFunding/Data/RawData/pub_author.csv\""
   ]
  },
  {
   "cell_type": "code",
   "execution_count": 24,
   "id": "7bd51f7e-5b96-4aa8-a8f6-77b89e1411fc",
   "metadata": {},
   "outputs": [],
   "source": [
    "pub_df = pd.read_csv(pub_path,sep=\"\\t\")\n",
    "pub_fund=pd.read_csv(pub_fund_path,sep=\"\\t\", on_bad_lines='skip')\n",
    "pub_author=pd.read_csv(pub_author_path,sep=\"\\t\", on_bad_lines='skip')"
   ]
  },
  {
   "cell_type": "code",
   "execution_count": 52,
   "id": "e6fc5aa1-b7e7-4ef2-9139-253469642ad5",
   "metadata": {},
   "outputs": [],
   "source": [
    "sampled_pub = pub_df.sample(frac=0.05, ignore_index=True)\n",
    "sampled_fund = pub_fund[pub_fund.ID_Art.isin(sampled_pub.ID_Art)]\n",
    "sampled_author = pub_author[pub_author.ID_Art.isin(sampled_pub.ID_Art)]"
   ]
  },
  {
   "cell_type": "code",
   "execution_count": 53,
   "id": "69a0701d-daa0-4cc5-8616-f908a4dcf992",
   "metadata": {},
   "outputs": [],
   "source": [
    "id_mapping = dict(zip(sampled_pub.ID_Art.unique(),range(len(sampled_pub.ID_Art.unique()))))"
   ]
  },
  {
   "cell_type": "code",
   "execution_count": 54,
   "id": "eae80ab4-c784-470b-b574-2eb76766ddf1",
   "metadata": {},
   "outputs": [
    {
     "name": "stderr",
     "output_type": "stream",
     "text": [
      "/tmp/ipykernel_1155101/4012668869.py:2: SettingWithCopyWarning: \n",
      "A value is trying to be set on a copy of a slice from a DataFrame.\n",
      "Try using .loc[row_indexer,col_indexer] = value instead\n",
      "\n",
      "See the caveats in the documentation: https://pandas.pydata.org/pandas-docs/stable/user_guide/indexing.html#returning-a-view-versus-a-copy\n",
      "  df['ID_Art'] = df['ID_Art'].map(id_mapping)\n"
     ]
    }
   ],
   "source": [
    "for df in [sampled_pub, sampled_fund, sampled_author]:\n",
    "    df['ID_Art'] = df['ID_Art'].map(id_mapping)"
   ]
  },
  {
   "cell_type": "code",
   "execution_count": 55,
   "id": "f8857038-6f10-4179-aa4d-9a8ea8d1e683",
   "metadata": {},
   "outputs": [],
   "source": [
    "np.random.shuffle(sampled_fund.Country.values)\n",
    "np.random.shuffle(sampled_author.Pays.values)"
   ]
  },
  {
   "cell_type": "code",
   "execution_count": 56,
   "id": "b7af3873-2eaf-4ba0-bf99-8166b7dc4dad",
   "metadata": {},
   "outputs": [],
   "source": [
    "sampled_pub.to_csv(\"../../data/NationalFunding/Data/simulated_data/pubs.csv\",index=False)\n",
    "sampled_fund.drop(columns=['Organisation','Numero_Financement']).to_csv(\"../../data/NationalFunding/Data/simulated_data/pub_funder.csv\",index=False)\n",
    "sampled_author.to_csv(\"../../data/NationalFunding/Data/simulated_data/pub_author.csv\",index=False)"
   ]
  },
  {
   "cell_type": "code",
   "execution_count": null,
   "id": "551631e6-ed8f-4594-b9dd-fa05c03bb381",
   "metadata": {},
   "outputs": [],
   "source": []
  }
 ],
 "metadata": {
  "kernelspec": {
   "display_name": "Python 3 (ipykernel)",
   "language": "python",
   "name": "python3"
  },
  "language_info": {
   "codemirror_mode": {
    "name": "ipython",
    "version": 3
   },
   "file_extension": ".py",
   "mimetype": "text/x-python",
   "name": "python",
   "nbconvert_exporter": "python",
   "pygments_lexer": "ipython3",
   "version": "3.8.16"
  }
 },
 "nbformat": 4,
 "nbformat_minor": 5
}
