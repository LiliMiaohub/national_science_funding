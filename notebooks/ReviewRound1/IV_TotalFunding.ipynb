{
 "cells": [
  {
   "cell_type": "markdown",
   "id": "a25ca928-66d2-433f-b771-2ad2a526a66b",
   "metadata": {},
   "source": [
    "this script prepares the instrumental variable:\n",
    "\n",
    "- total funding grants of each country in each year\n",
    "- total funding grants from previous year"
   ]
  },
  {
   "cell_type": "code",
   "execution_count": 16,
   "id": "10fc39f2-f011-4fef-a6d0-af16ef5de08f",
   "metadata": {},
   "outputs": [],
   "source": [
    "import pandas as pd\n",
    "import numpy as np"
   ]
  },
  {
   "cell_type": "code",
   "execution_count": 3,
   "id": "ee917c98-aff8-4521-960e-74375dfc9b85",
   "metadata": {},
   "outputs": [],
   "source": [
    "pub_path = \"../../data/NationalFunding/Data/DerivedData/CleanedRawData/pub.pkl\""
   ]
  },
  {
   "cell_type": "code",
   "execution_count": 4,
   "id": "a60151eb-905f-4947-83d0-c64135c9127a",
   "metadata": {},
   "outputs": [],
   "source": [
    "df = pd.read_pickle(pub_path)"
   ]
  },
  {
   "cell_type": "code",
   "execution_count": 5,
   "id": "d23e9ce2-b062-4ee7-869f-cddd736523cb",
   "metadata": {},
   "outputs": [
    {
     "data": {
      "text/html": [
       "<div>\n",
       "<style scoped>\n",
       "    .dataframe tbody tr th:only-of-type {\n",
       "        vertical-align: middle;\n",
       "    }\n",
       "\n",
       "    .dataframe tbody tr th {\n",
       "        vertical-align: top;\n",
       "    }\n",
       "\n",
       "    .dataframe thead th {\n",
       "        text-align: right;\n",
       "    }\n",
       "</style>\n",
       "<table border=\"1\" class=\"dataframe\">\n",
       "  <thead>\n",
       "    <tr style=\"text-align: right;\">\n",
       "      <th></th>\n",
       "      <th>id</th>\n",
       "      <th>year</th>\n",
       "      <th>dis</th>\n",
       "      <th>type</th>\n",
       "      <th>author</th>\n",
       "      <th>funder</th>\n",
       "      <th>author_distinct</th>\n",
       "      <th>funder_distinct</th>\n",
       "      <th>funded</th>\n",
       "      <th>IntCol</th>\n",
       "      <th>cofund</th>\n",
       "      <th>intfund</th>\n",
       "    </tr>\n",
       "  </thead>\n",
       "  <tbody>\n",
       "    <tr>\n",
       "      <th>0</th>\n",
       "      <td>60694041</td>\n",
       "      <td>2017</td>\n",
       "      <td>9</td>\n",
       "      <td>1</td>\n",
       "      <td>[Canada, United States]</td>\n",
       "      <td>[United States, United States]</td>\n",
       "      <td>[Canada, United States]</td>\n",
       "      <td>[United States]</td>\n",
       "      <td>1</td>\n",
       "      <td>1</td>\n",
       "      <td>0</td>\n",
       "      <td>0</td>\n",
       "    </tr>\n",
       "    <tr>\n",
       "      <th>1</th>\n",
       "      <td>48573156</td>\n",
       "      <td>2012</td>\n",
       "      <td>89</td>\n",
       "      <td>1</td>\n",
       "      <td>[France]</td>\n",
       "      <td>Not-Funded</td>\n",
       "      <td>[France]</td>\n",
       "      <td>Not-Funded</td>\n",
       "      <td>0</td>\n",
       "      <td>0</td>\n",
       "      <td>0</td>\n",
       "      <td>0</td>\n",
       "    </tr>\n",
       "    <tr>\n",
       "      <th>2</th>\n",
       "      <td>55323671</td>\n",
       "      <td>2015</td>\n",
       "      <td>89</td>\n",
       "      <td>1</td>\n",
       "      <td>[France, Chile]</td>\n",
       "      <td>[Chile, Chile, Chile, Chile, Chile]</td>\n",
       "      <td>[France, Chile]</td>\n",
       "      <td>[Chile]</td>\n",
       "      <td>1</td>\n",
       "      <td>1</td>\n",
       "      <td>0</td>\n",
       "      <td>0</td>\n",
       "    </tr>\n",
       "    <tr>\n",
       "      <th>3</th>\n",
       "      <td>57633115</td>\n",
       "      <td>2016</td>\n",
       "      <td>31</td>\n",
       "      <td>1</td>\n",
       "      <td>[Switzerland, United States]</td>\n",
       "      <td>[Switzerland]</td>\n",
       "      <td>[Switzerland, United States]</td>\n",
       "      <td>[Switzerland]</td>\n",
       "      <td>1</td>\n",
       "      <td>1</td>\n",
       "      <td>0</td>\n",
       "      <td>0</td>\n",
       "    </tr>\n",
       "    <tr>\n",
       "      <th>4</th>\n",
       "      <td>64831413</td>\n",
       "      <td>2018</td>\n",
       "      <td>99</td>\n",
       "      <td>1</td>\n",
       "      <td>[China]</td>\n",
       "      <td>[China, China, China, China, China, China]</td>\n",
       "      <td>[China]</td>\n",
       "      <td>[China]</td>\n",
       "      <td>1</td>\n",
       "      <td>0</td>\n",
       "      <td>0</td>\n",
       "      <td>0</td>\n",
       "    </tr>\n",
       "  </tbody>\n",
       "</table>\n",
       "</div>"
      ],
      "text/plain": [
       "         id  year  dis  type                        author   \n",
       "0  60694041  2017    9     1       [Canada, United States]  \\\n",
       "1  48573156  2012   89     1                      [France]   \n",
       "2  55323671  2015   89     1               [France, Chile]   \n",
       "3  57633115  2016   31     1  [Switzerland, United States]   \n",
       "4  64831413  2018   99     1                       [China]   \n",
       "\n",
       "                                       funder               author_distinct   \n",
       "0              [United States, United States]       [Canada, United States]  \\\n",
       "1                                  Not-Funded                      [France]   \n",
       "2         [Chile, Chile, Chile, Chile, Chile]               [France, Chile]   \n",
       "3                               [Switzerland]  [Switzerland, United States]   \n",
       "4  [China, China, China, China, China, China]                       [China]   \n",
       "\n",
       "   funder_distinct  funded  IntCol  cofund  intfund  \n",
       "0  [United States]       1       1       0        0  \n",
       "1       Not-Funded       0       0       0        0  \n",
       "2          [Chile]       1       1       0        0  \n",
       "3    [Switzerland]       1       1       0        0  \n",
       "4          [China]       1       0       0        0  "
      ]
     },
     "execution_count": 5,
     "metadata": {},
     "output_type": "execute_result"
    }
   ],
   "source": [
    "df.head()"
   ]
  },
  {
   "cell_type": "markdown",
   "id": "9a6e858b-defd-4c07-8c9c-dcdcdf5f5230",
   "metadata": {},
   "source": [
    "derive the total number of funding grants from each country across years"
   ]
  },
  {
   "cell_type": "code",
   "execution_count": 20,
   "id": "4b2e7b34-93a3-49fd-ba51-b41e4c017f30",
   "metadata": {},
   "outputs": [],
   "source": [
    "fund_total = df[df.funder!='Not-Funded'][['funder','year']].explode('funder'\n",
    "                                                ).groupby(['funder','year']).size().reset_index(name='fundcnt')"
   ]
  },
  {
   "cell_type": "code",
   "execution_count": 21,
   "id": "9f6bcc8a-4493-437f-9b45-e13c09e17ca5",
   "metadata": {},
   "outputs": [],
   "source": [
    "topcntrys=['United States','China','EU','United Kingdom','France','Germany']\n",
    "fund_total['region'] = fund_total['funder'].apply(lambda x: x if x in topcntrys else \"others\")\n",
    "fund_total = fund_total.groupby(['region','year'])['fundcnt'].sum().reset_index()"
   ]
  },
  {
   "cell_type": "code",
   "execution_count": 22,
   "id": "db2f3736-daa2-4b52-9db0-6466b09e9d0d",
   "metadata": {},
   "outputs": [],
   "source": [
    "fund_total = fund_total.pivot(index='year',columns='region',values='fundcnt')\n",
    "fund_total.columns = fund_total.columns+\"_fundtotal\""
   ]
  },
  {
   "cell_type": "code",
   "execution_count": 24,
   "id": "7d7de0a4-f95d-4af6-bc23-88d1bf3f148b",
   "metadata": {},
   "outputs": [],
   "source": [
    "fund_total.reset_index().to_csv(\"fund_grants_total.csv\", index=False)"
   ]
  },
  {
   "cell_type": "code",
   "execution_count": 44,
   "id": "04eed3c6-05ed-4a79-bb5e-739e33efcf5d",
   "metadata": {},
   "outputs": [],
   "source": [
    "fund2author = df[df.funder!='Not-Funded'][['author_distinct','funder','year']]\n",
    "fund2author = fund2author.explode('author_distinct')\n",
    "fund2author = fund2author.explode('funder')\n",
    "fund2author = fund2author.groupby(['author_distinct','funder','year']).size().reset_index(name='fundcnt')"
   ]
  },
  {
   "cell_type": "code",
   "execution_count": 45,
   "id": "67125224-04f4-4b21-a6fa-d70d83359cdb",
   "metadata": {},
   "outputs": [],
   "source": [
    "topcntrys=['United States','China','EU','United Kingdom','France','Germany']\n",
    "fund2author['region'] = fund2author['funder'].apply(lambda x: x if x in topcntrys else \"others\")\n",
    "fund2author.loc[fund2author['author_distinct']==fund2author['funder'],'region']='domestic' #assign \"domestic\""
   ]
  },
  {
   "cell_type": "code",
   "execution_count": 46,
   "id": "9503e214-8fc7-4d6c-8cb1-da7ef70d4186",
   "metadata": {},
   "outputs": [],
   "source": [
    "fund2author = fund2author.groupby(['author_distinct','region','year'])['fundcnt'].sum().reset_index()"
   ]
  },
  {
   "cell_type": "code",
   "execution_count": 47,
   "id": "54fc83bb-a89c-40da-80ce-58c423528e10",
   "metadata": {},
   "outputs": [],
   "source": [
    "fund2author = fund2author.pivot_table(index=['author_distinct','year'],\n",
    "                                      columns='region',values='fundcnt',fill_value=0)\n",
    "\n",
    "fund2author=np.log(fund2author+1)\n",
    "fund2author.columns = fund2author.columns+\"_prev\"\n",
    "fund2author = fund2author.reset_index()"
   ]
  },
  {
   "cell_type": "code",
   "execution_count": 49,
   "id": "a4a5c7be-313a-4471-896c-0e680f5538d4",
   "metadata": {},
   "outputs": [],
   "source": [
    "fund2author.to_csv(\"fund_previous.csv\",index=False)"
   ]
  },
  {
   "cell_type": "code",
   "execution_count": null,
   "id": "7d603ac8-dc8a-483c-affb-43950dc68365",
   "metadata": {},
   "outputs": [],
   "source": []
  }
 ],
 "metadata": {
  "kernelspec": {
   "display_name": "Python 3 (ipykernel)",
   "language": "python",
   "name": "python3"
  },
  "language_info": {
   "codemirror_mode": {
    "name": "ipython",
    "version": 3
   },
   "file_extension": ".py",
   "mimetype": "text/x-python",
   "name": "python",
   "nbconvert_exporter": "python",
   "pygments_lexer": "ipython3",
   "version": "3.8.16"
  }
 },
 "nbformat": 4,
 "nbformat_minor": 5
}
