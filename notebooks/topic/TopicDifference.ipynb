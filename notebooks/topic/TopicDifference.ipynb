{
 "cells": [
  {
   "cell_type": "markdown",
   "id": "sufficient-funeral",
   "metadata": {},
   "source": [
    "explore the topic difference of countries after remove the co-funded publications that are funded by a specific country"
   ]
  },
  {
   "cell_type": "code",
   "execution_count": 1,
   "id": "academic-barrel",
   "metadata": {},
   "outputs": [],
   "source": [
    "import pandas as pd\n",
    "from ast import literal_eval\n",
    "import seaborn as sns\n",
    "import matplotlib.pyplot as plt\n",
    "import numpy as np\n",
    "import matplotlib.ticker as mtick"
   ]
  },
  {
   "cell_type": "code",
   "execution_count": 2,
   "id": "attended-geometry",
   "metadata": {},
   "outputs": [],
   "source": [
    "pubs_path=\"../../data/nf_folder/Data/DerivedData/CleanedRawData/pubs_author_funder.csv\"\n",
    "cntry_info_path=\"../../data/nf_folder/Data/AdditionalData/country_metadata.csv\"\n",
    "flag_path='../../data/nf_folder/Data/AdditionalData/country_WoS_ECI_WB_flags.tsv'"
   ]
  },
  {
   "cell_type": "code",
   "execution_count": 3,
   "id": "smaller-reservoir",
   "metadata": {},
   "outputs": [
    {
     "data": {
      "text/html": [
       "<div>\n",
       "<style scoped>\n",
       "    .dataframe tbody tr th:only-of-type {\n",
       "        vertical-align: middle;\n",
       "    }\n",
       "\n",
       "    .dataframe tbody tr th {\n",
       "        vertical-align: top;\n",
       "    }\n",
       "\n",
       "    .dataframe thead th {\n",
       "        text-align: right;\n",
       "    }\n",
       "</style>\n",
       "<table border=\"1\" class=\"dataframe\">\n",
       "  <thead>\n",
       "    <tr style=\"text-align: right;\">\n",
       "      <th></th>\n",
       "      <th>disname</th>\n",
       "      <th>level</th>\n",
       "    </tr>\n",
       "  </thead>\n",
       "  <tbody>\n",
       "    <tr>\n",
       "      <th>0</th>\n",
       "      <td>Fine Arts &amp; Architecture</td>\n",
       "      <td>Arts and Humanities</td>\n",
       "    </tr>\n",
       "    <tr>\n",
       "      <th>1</th>\n",
       "      <td>Performing Arts</td>\n",
       "      <td>Arts and Humanities</td>\n",
       "    </tr>\n",
       "    <tr>\n",
       "      <th>2</th>\n",
       "      <td>Agricult &amp; Food Science</td>\n",
       "      <td>Natural Sciences</td>\n",
       "    </tr>\n",
       "    <tr>\n",
       "      <th>3</th>\n",
       "      <td>Botany</td>\n",
       "      <td>Natural Sciences</td>\n",
       "    </tr>\n",
       "    <tr>\n",
       "      <th>4</th>\n",
       "      <td>Dairy &amp; Animal Science</td>\n",
       "      <td>Natural Sciences</td>\n",
       "    </tr>\n",
       "  </tbody>\n",
       "</table>\n",
       "</div>"
      ],
      "text/plain": [
       "                    disname                level\n",
       "0  Fine Arts & Architecture  Arts and Humanities\n",
       "1           Performing Arts  Arts and Humanities\n",
       "2   Agricult & Food Science     Natural Sciences\n",
       "3                    Botany     Natural Sciences\n",
       "4    Dairy & Animal Science     Natural Sciences"
      ]
     },
     "execution_count": 3,
     "metadata": {},
     "output_type": "execute_result"
    }
   ],
   "source": [
    "dislevel=pd.read_csv(\"../../data/nf_folder/Data/AdditionalData/discipline_classification.csv\")\n",
    "dislevel=dislevel[['level_1','level_3']]\n",
    "dislevel=dislevel.rename(columns={'level_1':'disname','level_3':'level'})\n",
    "dislevel.head()"
   ]
  },
  {
   "cell_type": "code",
   "execution_count": 11,
   "id": "promising-illinois",
   "metadata": {},
   "outputs": [
    {
     "data": {
      "text/html": [
       "<div>\n",
       "<style scoped>\n",
       "    .dataframe tbody tr th:only-of-type {\n",
       "        vertical-align: middle;\n",
       "    }\n",
       "\n",
       "    .dataframe tbody tr th {\n",
       "        vertical-align: top;\n",
       "    }\n",
       "\n",
       "    .dataframe thead th {\n",
       "        text-align: right;\n",
       "    }\n",
       "</style>\n",
       "<table border=\"1\" class=\"dataframe\">\n",
       "  <thead>\n",
       "    <tr style=\"text-align: right;\">\n",
       "      <th></th>\n",
       "      <th>abbrev</th>\n",
       "      <th>level_1</th>\n",
       "      <th>level_2</th>\n",
       "      <th>level_3</th>\n",
       "    </tr>\n",
       "  </thead>\n",
       "  <tbody>\n",
       "    <tr>\n",
       "      <th>0</th>\n",
       "      <td>Fine Arts/Arch</td>\n",
       "      <td>Fine Arts &amp; Architecture</td>\n",
       "      <td>Arts</td>\n",
       "      <td>Arts and Humanities</td>\n",
       "    </tr>\n",
       "    <tr>\n",
       "      <th>1</th>\n",
       "      <td>Perf. Arts</td>\n",
       "      <td>Performing Arts</td>\n",
       "      <td>Arts</td>\n",
       "      <td>Arts and Humanities</td>\n",
       "    </tr>\n",
       "    <tr>\n",
       "      <th>2</th>\n",
       "      <td>Agr. &amp; Food Sci.</td>\n",
       "      <td>Agricult &amp; Food Science</td>\n",
       "      <td>Biology</td>\n",
       "      <td>Natural Sciences</td>\n",
       "    </tr>\n",
       "    <tr>\n",
       "      <th>3</th>\n",
       "      <td>Botany</td>\n",
       "      <td>Botany</td>\n",
       "      <td>Biology</td>\n",
       "      <td>Natural Sciences</td>\n",
       "    </tr>\n",
       "    <tr>\n",
       "      <th>4</th>\n",
       "      <td>Dairy&amp;Animal Sci.</td>\n",
       "      <td>Dairy &amp; Animal Science</td>\n",
       "      <td>Biology</td>\n",
       "      <td>Natural Sciences</td>\n",
       "    </tr>\n",
       "    <tr>\n",
       "      <th>...</th>\n",
       "      <td>...</td>\n",
       "      <td>...</td>\n",
       "      <td>...</td>\n",
       "      <td>...</td>\n",
       "    </tr>\n",
       "    <tr>\n",
       "      <th>139</th>\n",
       "      <td>Planning &amp; Urban Studies</td>\n",
       "      <td>Planning &amp; Urban Studies</td>\n",
       "      <td>Social Sciences</td>\n",
       "      <td>Social Sciences</td>\n",
       "    </tr>\n",
       "    <tr>\n",
       "      <th>140</th>\n",
       "      <td>Political Sci. &amp; Public Admin.</td>\n",
       "      <td>Political Science and Public Administration</td>\n",
       "      <td>Social Sciences</td>\n",
       "      <td>Social Sciences</td>\n",
       "    </tr>\n",
       "    <tr>\n",
       "      <th>141</th>\n",
       "      <td>Sci. Studies</td>\n",
       "      <td>Science studies</td>\n",
       "      <td>Social Sciences</td>\n",
       "      <td>Social Sciences</td>\n",
       "    </tr>\n",
       "    <tr>\n",
       "      <th>142</th>\n",
       "      <td>Sociology</td>\n",
       "      <td>Sociology</td>\n",
       "      <td>Social Sciences</td>\n",
       "      <td>Social Sciences</td>\n",
       "    </tr>\n",
       "    <tr>\n",
       "      <th>143</th>\n",
       "      <td>Unknown</td>\n",
       "      <td>Unknown</td>\n",
       "      <td>Unknown</td>\n",
       "      <td>NaN</td>\n",
       "    </tr>\n",
       "  </tbody>\n",
       "</table>\n",
       "<p>144 rows × 4 columns</p>\n",
       "</div>"
      ],
      "text/plain": [
       "                             abbrev  \\\n",
       "0                    Fine Arts/Arch   \n",
       "1                        Perf. Arts   \n",
       "2                  Agr. & Food Sci.   \n",
       "3                            Botany   \n",
       "4                 Dairy&Animal Sci.   \n",
       "..                              ...   \n",
       "139        Planning & Urban Studies   \n",
       "140  Political Sci. & Public Admin.   \n",
       "141                    Sci. Studies   \n",
       "142                       Sociology   \n",
       "143                         Unknown   \n",
       "\n",
       "                                         level_1          level_2  \\\n",
       "0                       Fine Arts & Architecture             Arts   \n",
       "1                                Performing Arts             Arts   \n",
       "2                        Agricult & Food Science          Biology   \n",
       "3                                         Botany          Biology   \n",
       "4                         Dairy & Animal Science          Biology   \n",
       "..                                           ...              ...   \n",
       "139                     Planning & Urban Studies  Social Sciences   \n",
       "140  Political Science and Public Administration  Social Sciences   \n",
       "141                              Science studies  Social Sciences   \n",
       "142                                    Sociology  Social Sciences   \n",
       "143                                      Unknown          Unknown   \n",
       "\n",
       "                 level_3  \n",
       "0    Arts and Humanities  \n",
       "1    Arts and Humanities  \n",
       "2       Natural Sciences  \n",
       "3       Natural Sciences  \n",
       "4       Natural Sciences  \n",
       "..                   ...  \n",
       "139      Social Sciences  \n",
       "140      Social Sciences  \n",
       "141      Social Sciences  \n",
       "142      Social Sciences  \n",
       "143                  NaN  \n",
       "\n",
       "[144 rows x 4 columns]"
      ]
     },
     "execution_count": 11,
     "metadata": {},
     "output_type": "execute_result"
    }
   ],
   "source": [
    "dislevel=pd.read_csv(\"../../data/nf_folder/Data/AdditionalData/discipline_classification.csv\")\n",
    "dislevel"
   ]
  },
  {
   "cell_type": "code",
   "execution_count": 11,
   "id": "reflected-illinois",
   "metadata": {},
   "outputs": [
    {
     "data": {
      "text/html": [
       "<div>\n",
       "<style scoped>\n",
       "    .dataframe tbody tr th:only-of-type {\n",
       "        vertical-align: middle;\n",
       "    }\n",
       "\n",
       "    .dataframe tbody tr th {\n",
       "        vertical-align: top;\n",
       "    }\n",
       "\n",
       "    .dataframe thead th {\n",
       "        text-align: right;\n",
       "    }\n",
       "</style>\n",
       "<table border=\"1\" class=\"dataframe\">\n",
       "  <thead>\n",
       "    <tr style=\"text-align: right;\">\n",
       "      <th></th>\n",
       "      <th>dis</th>\n",
       "      <th>disname</th>\n",
       "    </tr>\n",
       "  </thead>\n",
       "  <tbody>\n",
       "    <tr>\n",
       "      <th>0</th>\n",
       "      <td>1</td>\n",
       "      <td>Agricult &amp; Food Science</td>\n",
       "    </tr>\n",
       "    <tr>\n",
       "      <th>1</th>\n",
       "      <td>2</td>\n",
       "      <td>Botany</td>\n",
       "    </tr>\n",
       "    <tr>\n",
       "      <th>2</th>\n",
       "      <td>3</td>\n",
       "      <td>Dairy &amp; Animal Science</td>\n",
       "    </tr>\n",
       "    <tr>\n",
       "      <th>3</th>\n",
       "      <td>4</td>\n",
       "      <td>Ecology</td>\n",
       "    </tr>\n",
       "    <tr>\n",
       "      <th>4</th>\n",
       "      <td>5</td>\n",
       "      <td>Entomology</td>\n",
       "    </tr>\n",
       "  </tbody>\n",
       "</table>\n",
       "</div>"
      ],
      "text/plain": [
       "   dis                  disname\n",
       "0    1  Agricult & Food Science\n",
       "1    2                   Botany\n",
       "2    3   Dairy & Animal Science\n",
       "3    4                  Ecology\n",
       "4    5               Entomology"
      ]
     },
     "execution_count": 11,
     "metadata": {},
     "output_type": "execute_result"
    }
   ],
   "source": [
    "discode=pd.read_csv(\"../../data/nf_folder/Data/AdditionalData/discipline_code.csv\")\n",
    "discode=discode.rename(columns={'Code_Discipline':'dis','ESpecialite':'disname'})\n",
    "discode.head()"
   ]
  },
  {
   "cell_type": "code",
   "execution_count": 16,
   "id": "sweet-sucking",
   "metadata": {},
   "outputs": [],
   "source": [
    "dismeta=discode.merge(dislevel, on='disname')"
   ]
  },
  {
   "cell_type": "code",
   "execution_count": 3,
   "id": "union-finger",
   "metadata": {},
   "outputs": [
    {
     "name": "stderr",
     "output_type": "stream",
     "text": [
      "/home/miaoli/conda/envs/funding/lib/python3.8/site-packages/IPython/core/interactiveshell.py:3165: DtypeWarning: Columns (2) have mixed types.Specify dtype option on import or set low_memory=False.\n",
      "  has_raised = await self.run_ast_nodes(code_ast.body, cell_name,\n"
     ]
    },
    {
     "data": {
      "text/html": [
       "<div>\n",
       "<style scoped>\n",
       "    .dataframe tbody tr th:only-of-type {\n",
       "        vertical-align: middle;\n",
       "    }\n",
       "\n",
       "    .dataframe tbody tr th {\n",
       "        vertical-align: top;\n",
       "    }\n",
       "\n",
       "    .dataframe thead th {\n",
       "        text-align: right;\n",
       "    }\n",
       "</style>\n",
       "<table border=\"1\" class=\"dataframe\">\n",
       "  <thead>\n",
       "    <tr style=\"text-align: right;\">\n",
       "      <th></th>\n",
       "      <th>id</th>\n",
       "      <th>author_country</th>\n",
       "      <th>funder_country</th>\n",
       "      <th>discipline</th>\n",
       "      <th>year</th>\n",
       "      <th>rel_citation</th>\n",
       "      <th>citation</th>\n",
       "    </tr>\n",
       "  </thead>\n",
       "  <tbody>\n",
       "    <tr>\n",
       "      <th>0</th>\n",
       "      <td>30507292</td>\n",
       "      <td>[Turkey]</td>\n",
       "      <td>[Turkey]</td>\n",
       "      <td>77</td>\n",
       "      <td>2009</td>\n",
       "      <td>0.485</td>\n",
       "      <td>6</td>\n",
       "    </tr>\n",
       "    <tr>\n",
       "      <th>1</th>\n",
       "      <td>30574690</td>\n",
       "      <td>[United States, France]</td>\n",
       "      <td>[United States, United States, United States, ...</td>\n",
       "      <td>83</td>\n",
       "      <td>2009</td>\n",
       "      <td>0.703</td>\n",
       "      <td>9</td>\n",
       "    </tr>\n",
       "    <tr>\n",
       "      <th>2</th>\n",
       "      <td>30574691</td>\n",
       "      <td>[Russia]</td>\n",
       "      <td>[Russia]</td>\n",
       "      <td>83</td>\n",
       "      <td>2009</td>\n",
       "      <td>0.312</td>\n",
       "      <td>4</td>\n",
       "    </tr>\n",
       "    <tr>\n",
       "      <th>3</th>\n",
       "      <td>30585095</td>\n",
       "      <td>[Spain, Spain]</td>\n",
       "      <td>[Spain, Spain, Spain, Spain, Spain, Spain]</td>\n",
       "      <td>89</td>\n",
       "      <td>2009</td>\n",
       "      <td>0.137</td>\n",
       "      <td>1</td>\n",
       "    </tr>\n",
       "    <tr>\n",
       "      <th>4</th>\n",
       "      <td>30585097</td>\n",
       "      <td>[Germany, Spain]</td>\n",
       "      <td>[Spain]</td>\n",
       "      <td>89</td>\n",
       "      <td>2009</td>\n",
       "      <td>0.410</td>\n",
       "      <td>3</td>\n",
       "    </tr>\n",
       "  </tbody>\n",
       "</table>\n",
       "</div>"
      ],
      "text/plain": [
       "         id           author_country  \\\n",
       "0  30507292                 [Turkey]   \n",
       "1  30574690  [United States, France]   \n",
       "2  30574691                 [Russia]   \n",
       "3  30585095           [Spain, Spain]   \n",
       "4  30585097         [Germany, Spain]   \n",
       "\n",
       "                                      funder_country  discipline  year  \\\n",
       "0                                           [Turkey]          77  2009   \n",
       "1  [United States, United States, United States, ...          83  2009   \n",
       "2                                           [Russia]          83  2009   \n",
       "3         [Spain, Spain, Spain, Spain, Spain, Spain]          89  2009   \n",
       "4                                            [Spain]          89  2009   \n",
       "\n",
       "   rel_citation  citation  \n",
       "0         0.485         6  \n",
       "1         0.703         9  \n",
       "2         0.312         4  \n",
       "3         0.137         1  \n",
       "4         0.410         3  "
      ]
     },
     "execution_count": 3,
     "metadata": {},
     "output_type": "execute_result"
    }
   ],
   "source": [
    "paf = pd.read_csv(pubs_path)\n",
    "paf['author_country'] = paf['author_country'].apply(literal_eval)\n",
    "paf['funder_country'] = paf['funder_country'].apply(\n",
    "    lambda x:literal_eval(x) if pd.notnull(x) else \"Not-Funded\")\n",
    "paf.head()"
   ]
  },
  {
   "cell_type": "code",
   "execution_count": 4,
   "id": "registered-onion",
   "metadata": {},
   "outputs": [],
   "source": [
    "paf['author_distinct']=paf['author_country'].apply(lambda x:list(set(x)))\n",
    "paf['funder_distinct']=paf['funder_country'].apply(\n",
    "    lambda x:list(set(x)) if x!='Not-Funded' else 'Not-Funded')"
   ]
  },
  {
   "cell_type": "code",
   "execution_count": 5,
   "id": "upset-treat",
   "metadata": {},
   "outputs": [
    {
     "data": {
      "text/html": [
       "<div>\n",
       "<style scoped>\n",
       "    .dataframe tbody tr th:only-of-type {\n",
       "        vertical-align: middle;\n",
       "    }\n",
       "\n",
       "    .dataframe tbody tr th {\n",
       "        vertical-align: top;\n",
       "    }\n",
       "\n",
       "    .dataframe thead th {\n",
       "        text-align: right;\n",
       "    }\n",
       "</style>\n",
       "<table border=\"1\" class=\"dataframe\">\n",
       "  <thead>\n",
       "    <tr style=\"text-align: right;\">\n",
       "      <th></th>\n",
       "      <th>id</th>\n",
       "      <th>author_country</th>\n",
       "      <th>funder_country</th>\n",
       "      <th>discipline</th>\n",
       "      <th>year</th>\n",
       "      <th>rel_citation</th>\n",
       "      <th>citation</th>\n",
       "      <th>author_distinct</th>\n",
       "      <th>funder_distinct</th>\n",
       "    </tr>\n",
       "  </thead>\n",
       "  <tbody>\n",
       "    <tr>\n",
       "      <th>12759123</th>\n",
       "      <td>65301180</td>\n",
       "      <td>[Pakistan]</td>\n",
       "      <td>Not-Funded</td>\n",
       "      <td>89</td>\n",
       "      <td>2018</td>\n",
       "      <td>0.000</td>\n",
       "      <td>0</td>\n",
       "      <td>[Pakistan]</td>\n",
       "      <td>Not-Funded</td>\n",
       "    </tr>\n",
       "    <tr>\n",
       "      <th>12759124</th>\n",
       "      <td>65301286</td>\n",
       "      <td>[Singapore, Singapore]</td>\n",
       "      <td>Not-Funded</td>\n",
       "      <td>44</td>\n",
       "      <td>2017</td>\n",
       "      <td>0.264</td>\n",
       "      <td>1</td>\n",
       "      <td>[Singapore]</td>\n",
       "      <td>Not-Funded</td>\n",
       "    </tr>\n",
       "    <tr>\n",
       "      <th>12759125</th>\n",
       "      <td>65301288</td>\n",
       "      <td>[Iran]</td>\n",
       "      <td>Not-Funded</td>\n",
       "      <td>96</td>\n",
       "      <td>2017</td>\n",
       "      <td>0.000</td>\n",
       "      <td>0</td>\n",
       "      <td>[Iran]</td>\n",
       "      <td>Not-Funded</td>\n",
       "    </tr>\n",
       "    <tr>\n",
       "      <th>12759126</th>\n",
       "      <td>65301295</td>\n",
       "      <td>[Israel]</td>\n",
       "      <td>Not-Funded</td>\n",
       "      <td>96</td>\n",
       "      <td>2017</td>\n",
       "      <td>0.000</td>\n",
       "      <td>0</td>\n",
       "      <td>[Israel]</td>\n",
       "      <td>Not-Funded</td>\n",
       "    </tr>\n",
       "    <tr>\n",
       "      <th>12759127</th>\n",
       "      <td>65301297</td>\n",
       "      <td>[United Kingdom]</td>\n",
       "      <td>Not-Funded</td>\n",
       "      <td>2</td>\n",
       "      <td>2018</td>\n",
       "      <td>1.992</td>\n",
       "      <td>2</td>\n",
       "      <td>[United Kingdom]</td>\n",
       "      <td>Not-Funded</td>\n",
       "    </tr>\n",
       "  </tbody>\n",
       "</table>\n",
       "</div>"
      ],
      "text/plain": [
       "                id          author_country funder_country  discipline  year  \\\n",
       "12759123  65301180              [Pakistan]     Not-Funded          89  2018   \n",
       "12759124  65301286  [Singapore, Singapore]     Not-Funded          44  2017   \n",
       "12759125  65301288                  [Iran]     Not-Funded          96  2017   \n",
       "12759126  65301295                [Israel]     Not-Funded          96  2017   \n",
       "12759127  65301297        [United Kingdom]     Not-Funded           2  2018   \n",
       "\n",
       "          rel_citation  citation   author_distinct funder_distinct  \n",
       "12759123         0.000         0        [Pakistan]      Not-Funded  \n",
       "12759124         0.264         1       [Singapore]      Not-Funded  \n",
       "12759125         0.000         0            [Iran]      Not-Funded  \n",
       "12759126         0.000         0          [Israel]      Not-Funded  \n",
       "12759127         1.992         2  [United Kingdom]      Not-Funded  "
      ]
     },
     "execution_count": 5,
     "metadata": {},
     "output_type": "execute_result"
    }
   ],
   "source": [
    "paf.tail()"
   ]
  },
  {
   "cell_type": "code",
   "execution_count": 6,
   "id": "increasing-merchant",
   "metadata": {},
   "outputs": [],
   "source": [
    "# label out whether the paper is cofunded by countries\n",
    "paf['cofund']=paf['funder_distinct'].apply(lambda x: 1 if x!='Not-Funded' and len(x)>1 else 0)"
   ]
  },
  {
   "cell_type": "code",
   "execution_count": 7,
   "id": "subjective-retention",
   "metadata": {},
   "outputs": [
    {
     "data": {
      "text/html": [
       "<div>\n",
       "<style scoped>\n",
       "    .dataframe tbody tr th:only-of-type {\n",
       "        vertical-align: middle;\n",
       "    }\n",
       "\n",
       "    .dataframe tbody tr th {\n",
       "        vertical-align: top;\n",
       "    }\n",
       "\n",
       "    .dataframe thead th {\n",
       "        text-align: right;\n",
       "    }\n",
       "</style>\n",
       "<table border=\"1\" class=\"dataframe\">\n",
       "  <thead>\n",
       "    <tr style=\"text-align: right;\">\n",
       "      <th></th>\n",
       "      <th>id</th>\n",
       "      <th>funder_distinct</th>\n",
       "      <th>cofund</th>\n",
       "    </tr>\n",
       "  </thead>\n",
       "  <tbody>\n",
       "    <tr>\n",
       "      <th>0</th>\n",
       "      <td>30507292</td>\n",
       "      <td>Turkey</td>\n",
       "      <td>0</td>\n",
       "    </tr>\n",
       "    <tr>\n",
       "      <th>1</th>\n",
       "      <td>30574690</td>\n",
       "      <td>United States</td>\n",
       "      <td>0</td>\n",
       "    </tr>\n",
       "    <tr>\n",
       "      <th>2</th>\n",
       "      <td>30574691</td>\n",
       "      <td>Russia</td>\n",
       "      <td>0</td>\n",
       "    </tr>\n",
       "    <tr>\n",
       "      <th>3</th>\n",
       "      <td>30585095</td>\n",
       "      <td>Spain</td>\n",
       "      <td>0</td>\n",
       "    </tr>\n",
       "    <tr>\n",
       "      <th>4</th>\n",
       "      <td>30585097</td>\n",
       "      <td>Spain</td>\n",
       "      <td>0</td>\n",
       "    </tr>\n",
       "  </tbody>\n",
       "</table>\n",
       "</div>"
      ],
      "text/plain": [
       "         id funder_distinct  cofund\n",
       "0  30507292          Turkey       0\n",
       "1  30574690   United States       0\n",
       "2  30574691          Russia       0\n",
       "3  30585095           Spain       0\n",
       "4  30585097           Spain       0"
      ]
     },
     "execution_count": 7,
     "metadata": {},
     "output_type": "execute_result"
    }
   ],
   "source": [
    "pub_fund=paf[['id','funder_distinct','cofund']].explode('funder_distinct')\n",
    "pub_fund.head()"
   ]
  },
  {
   "cell_type": "code",
   "execution_count": 8,
   "id": "analyzed-driver",
   "metadata": {},
   "outputs": [],
   "source": [
    "def construct_profile(data,colname):\n",
    "    profile=[]\n",
    "    for ind, row in data.iterrows():\n",
    "        year=row['year']\n",
    "        dis=row['discipline']\n",
    "        authors=row['author_distinct']\n",
    "        num_aut=len(authors)\n",
    "        for a in authors:\n",
    "            profile.append([a,year,dis,1/num_aut])\n",
    "    profile_df=pd.DataFrame(profile,columns=['cntry','year','dis','frac'])\n",
    "    profile_df=profile_df.groupby(['cntry','dis'])['frac'].sum().reset_index(name=colname)\n",
    "    return profile_df"
   ]
  },
  {
   "cell_type": "code",
   "execution_count": 9,
   "id": "contemporary-baghdad",
   "metadata": {},
   "outputs": [],
   "source": [
    "raw_profile=construct_profile(paf,'total')"
   ]
  },
  {
   "cell_type": "code",
   "execution_count": 12,
   "id": "practical-advantage",
   "metadata": {},
   "outputs": [],
   "source": [
    "def filter_data(paf,paf_exp,cntry):\n",
    "    removelist=paf_exp[(paf_exp.funder_distinct==cntry)&(paf_exp.cofund==1)].id.tolist()\n",
    "    paf_removed=paf[paf.id.isin(removelist)]\n",
    "    return paf_removed"
   ]
  },
  {
   "cell_type": "code",
   "execution_count": 13,
   "id": "unavailable-allah",
   "metadata": {},
   "outputs": [
    {
     "data": {
      "text/html": [
       "<div>\n",
       "<style scoped>\n",
       "    .dataframe tbody tr th:only-of-type {\n",
       "        vertical-align: middle;\n",
       "    }\n",
       "\n",
       "    .dataframe tbody tr th {\n",
       "        vertical-align: top;\n",
       "    }\n",
       "\n",
       "    .dataframe thead th {\n",
       "        text-align: right;\n",
       "    }\n",
       "</style>\n",
       "<table border=\"1\" class=\"dataframe\">\n",
       "  <thead>\n",
       "    <tr style=\"text-align: right;\">\n",
       "      <th></th>\n",
       "      <th>cntry</th>\n",
       "      <th>dis</th>\n",
       "      <th>total</th>\n",
       "    </tr>\n",
       "  </thead>\n",
       "  <tbody>\n",
       "    <tr>\n",
       "      <th>0</th>\n",
       "      <td>Afghanistan</td>\n",
       "      <td>1</td>\n",
       "      <td>11.694444</td>\n",
       "    </tr>\n",
       "    <tr>\n",
       "      <th>1</th>\n",
       "      <td>Afghanistan</td>\n",
       "      <td>2</td>\n",
       "      <td>4.611111</td>\n",
       "    </tr>\n",
       "    <tr>\n",
       "      <th>2</th>\n",
       "      <td>Afghanistan</td>\n",
       "      <td>3</td>\n",
       "      <td>2.333333</td>\n",
       "    </tr>\n",
       "    <tr>\n",
       "      <th>3</th>\n",
       "      <td>Afghanistan</td>\n",
       "      <td>4</td>\n",
       "      <td>3.416667</td>\n",
       "    </tr>\n",
       "    <tr>\n",
       "      <th>4</th>\n",
       "      <td>Afghanistan</td>\n",
       "      <td>5</td>\n",
       "      <td>0.500000</td>\n",
       "    </tr>\n",
       "  </tbody>\n",
       "</table>\n",
       "</div>"
      ],
      "text/plain": [
       "         cntry  dis      total\n",
       "0  Afghanistan    1  11.694444\n",
       "1  Afghanistan    2   4.611111\n",
       "2  Afghanistan    3   2.333333\n",
       "3  Afghanistan    4   3.416667\n",
       "4  Afghanistan    5   0.500000"
      ]
     },
     "execution_count": 13,
     "metadata": {},
     "output_type": "execute_result"
    }
   ],
   "source": [
    "raw_profile.head()"
   ]
  },
  {
   "cell_type": "code",
   "execution_count": 45,
   "id": "tamil-litigation",
   "metadata": {},
   "outputs": [],
   "source": [
    "cntrylist=['United States','EU','United Kingdom','Germany','China','Spain','Canada','Japan','South Korea','India']"
   ]
  },
  {
   "cell_type": "code",
   "execution_count": 14,
   "id": "crude-novel",
   "metadata": {},
   "outputs": [
    {
     "name": "stdout",
     "output_type": "stream",
     "text": [
      "United States\n",
      "China\n",
      "Japan\n",
      "South Korea\n",
      "Germany\n",
      "United Kingdom\n",
      "EU\n",
      "India\n",
      "Canada\n",
      "Spain\n"
     ]
    }
   ],
   "source": [
    "rmvd_profile = pd.DataFrame()\n",
    "for cntry in cntrylist:\n",
    "    print(cntry)\n",
    "    df_removed=filter_data(paf,pub_fund,cntry)\n",
    "    pf=construct_profile(df_removed,'rmvd')\n",
    "    pf = pf.pivot_table(index='cntry',columns='dis',values='rmvd',fill_value=0)\n",
    "    pf = pf.reset_index().melt(id_vars='cntry',value_name='rmvd')\n",
    "    pf['cntry_source']=cntry\n",
    "    rmvd_profile=pd.concat([rmvd_profile,pf])"
   ]
  },
  {
   "cell_type": "code",
   "execution_count": 17,
   "id": "mediterranean-clinton",
   "metadata": {},
   "outputs": [],
   "source": [
    "rmvd_df = raw_profile.merge(rmvd_profile,on=['cntry','dis'],how='left')\n",
    "rmvd_df=rmvd_df[rmvd_df.cntry!=rmvd_df.cntry_source]\n",
    "rmvd_df = rmvd_df.merge(dismeta,on=\"dis\")"
   ]
  },
  {
   "cell_type": "code",
   "execution_count": 18,
   "id": "golden-wallace",
   "metadata": {},
   "outputs": [],
   "source": [
    "rmvd_df = rmvd_df.groupby(['cntry','level','cntry_source']).agg({'total':'sum','rmvd':'sum'}).reset_index()"
   ]
  },
  {
   "cell_type": "code",
   "execution_count": 19,
   "id": "clean-violence",
   "metadata": {},
   "outputs": [],
   "source": [
    "rmvd_df['prop']=rmvd_df['rmvd']/rmvd_df['total']"
   ]
  },
  {
   "cell_type": "code",
   "execution_count": 21,
   "id": "smart-niger",
   "metadata": {},
   "outputs": [],
   "source": [
    "rmvd_df.to_csv(\"rmvd_df.csv\",index=False)"
   ]
  },
  {
   "cell_type": "code",
   "execution_count": 72,
   "id": "regular-shift",
   "metadata": {},
   "outputs": [],
   "source": [
    "rmvd_df=pd.read_csv(\"rmvd_df.csv\")"
   ]
  },
  {
   "cell_type": "code",
   "execution_count": 73,
   "id": "impossible-curtis",
   "metadata": {},
   "outputs": [],
   "source": [
    "rmvd_df = rmvd_df.replace(to_replace={\"level\":{'Engineering':'Eng','Medical Sciences':'Med','Natural Sciences':'Nat'}})"
   ]
  },
  {
   "cell_type": "code",
   "execution_count": 47,
   "id": "derived-buffer",
   "metadata": {},
   "outputs": [
    {
     "name": "stderr",
     "output_type": "stream",
     "text": [
      "<ipython-input-47-23ccd0565132>:9: UserWarning: FixedFormatter should only be used together with FixedLocator\n",
      "  ax.set_yticklabels(['{:,.1%}'.format(x) for x in vals])\n",
      "<ipython-input-47-23ccd0565132>:9: UserWarning: FixedFormatter should only be used together with FixedLocator\n",
      "  ax.set_yticklabels(['{:,.1%}'.format(x) for x in vals])\n",
      "<ipython-input-47-23ccd0565132>:9: UserWarning: FixedFormatter should only be used together with FixedLocator\n",
      "  ax.set_yticklabels(['{:,.1%}'.format(x) for x in vals])\n",
      "<ipython-input-47-23ccd0565132>:9: UserWarning: FixedFormatter should only be used together with FixedLocator\n",
      "  ax.set_yticklabels(['{:,.1%}'.format(x) for x in vals])\n",
      "<ipython-input-47-23ccd0565132>:9: UserWarning: FixedFormatter should only be used together with FixedLocator\n",
      "  ax.set_yticklabels(['{:,.1%}'.format(x) for x in vals])\n",
      "<ipython-input-47-23ccd0565132>:9: UserWarning: FixedFormatter should only be used together with FixedLocator\n",
      "  ax.set_yticklabels(['{:,.1%}'.format(x) for x in vals])\n",
      "<ipython-input-47-23ccd0565132>:9: UserWarning: FixedFormatter should only be used together with FixedLocator\n",
      "  ax.set_yticklabels(['{:,.1%}'.format(x) for x in vals])\n",
      "<ipython-input-47-23ccd0565132>:9: UserWarning: FixedFormatter should only be used together with FixedLocator\n",
      "  ax.set_yticklabels(['{:,.1%}'.format(x) for x in vals])\n",
      "<ipython-input-47-23ccd0565132>:9: UserWarning: FixedFormatter should only be used together with FixedLocator\n",
      "  ax.set_yticklabels(['{:,.1%}'.format(x) for x in vals])\n",
      "<ipython-input-47-23ccd0565132>:9: UserWarning: FixedFormatter should only be used together with FixedLocator\n",
      "  ax.set_yticklabels(['{:,.1%}'.format(x) for x in vals])\n"
     ]
    },
    {
     "data": {
      "image/png": "[encoded data removed]",
      "text/plain": [
       "<Figure size 1440x576 with 10 Axes>"
      ]
     },
     "metadata": {
      "needs_background": "light"
     },
     "output_type": "display_data"
    }
   ],
   "source": [
    "fig, axs=plt.subplots(nrows=2,ncols=5,figsize=(20,8))\n",
    "axs = axs.reshape(-1)\n",
    "for ind, ax in enumerate(axs):\n",
    "    cntry = cntrylist[ind]\n",
    "    sns.barplot(x='level',y='prop',data=rmvd_df[rmvd_df.cntry_source==cntry],ax=ax)\n",
    "    ax.set_xlabel(\"\")\n",
    "    ax.set_title(cntry)\n",
    "    vals = ax.get_yticks()\n",
    "    ax.set_yticklabels(['{:,.1%}'.format(x) for x in vals])\n",
    "    ax.set_ylabel(\"\")\n",
    "axs[0].set_ylabel(\"Percentage of Reduction\",fontsize=12)\n",
    "axs[5].set_ylabel(\"Percentage of Reduction\",fontsize=12)\n",
    "plt.savefig(\"impact.pdf\")"
   ]
  },
  {
   "cell_type": "code",
   "execution_count": 50,
   "id": "fatal-active",
   "metadata": {},
   "outputs": [
    {
     "data": {
      "text/html": [
       "<div>\n",
       "<style scoped>\n",
       "    .dataframe tbody tr th:only-of-type {\n",
       "        vertical-align: middle;\n",
       "    }\n",
       "\n",
       "    .dataframe tbody tr th {\n",
       "        vertical-align: top;\n",
       "    }\n",
       "\n",
       "    .dataframe thead th {\n",
       "        text-align: right;\n",
       "    }\n",
       "</style>\n",
       "<table border=\"1\" class=\"dataframe\">\n",
       "  <thead>\n",
       "    <tr style=\"text-align: right;\">\n",
       "      <th></th>\n",
       "      <th>wos_country</th>\n",
       "      <th>continent</th>\n",
       "    </tr>\n",
       "  </thead>\n",
       "  <tbody>\n",
       "    <tr>\n",
       "      <th>0</th>\n",
       "      <td>Afghanistan</td>\n",
       "      <td>Asia</td>\n",
       "    </tr>\n",
       "    <tr>\n",
       "      <th>1</th>\n",
       "      <td>Albania</td>\n",
       "      <td>Europe</td>\n",
       "    </tr>\n",
       "    <tr>\n",
       "      <th>2</th>\n",
       "      <td>Algeria</td>\n",
       "      <td>Africa</td>\n",
       "    </tr>\n",
       "    <tr>\n",
       "      <th>3</th>\n",
       "      <td>American-Samoa</td>\n",
       "      <td>Oceania</td>\n",
       "    </tr>\n",
       "    <tr>\n",
       "      <th>4</th>\n",
       "      <td>Andorra</td>\n",
       "      <td>Europe</td>\n",
       "    </tr>\n",
       "  </tbody>\n",
       "</table>\n",
       "</div>"
      ],
      "text/plain": [
       "      wos_country continent\n",
       "0     Afghanistan      Asia\n",
       "1         Albania    Europe\n",
       "2         Algeria    Africa\n",
       "3  American-Samoa   Oceania\n",
       "4         Andorra    Europe"
      ]
     },
     "execution_count": 50,
     "metadata": {},
     "output_type": "execute_result"
    }
   ],
   "source": [
    "cntry_info=pd.read_csv(cntry_info_path)[['wos_country','continent']]\n",
    "cntry_info.head()"
   ]
  },
  {
   "cell_type": "code",
   "execution_count": 71,
   "id": "polar-performance",
   "metadata": {},
   "outputs": [
    {
     "data": {
      "text/html": [
       "<div>\n",
       "<style scoped>\n",
       "    .dataframe tbody tr th:only-of-type {\n",
       "        vertical-align: middle;\n",
       "    }\n",
       "\n",
       "    .dataframe tbody tr th {\n",
       "        vertical-align: top;\n",
       "    }\n",
       "\n",
       "    .dataframe thead th {\n",
       "        text-align: right;\n",
       "    }\n",
       "</style>\n",
       "<table border=\"1\" class=\"dataframe\">\n",
       "  <thead>\n",
       "    <tr style=\"text-align: right;\">\n",
       "      <th></th>\n",
       "      <th>wos_country</th>\n",
       "      <th>continent</th>\n",
       "    </tr>\n",
       "  </thead>\n",
       "  <tbody>\n",
       "    <tr>\n",
       "      <th>3</th>\n",
       "      <td>American-Samoa</td>\n",
       "      <td>Oceania</td>\n",
       "    </tr>\n",
       "    <tr>\n",
       "      <th>10</th>\n",
       "      <td>Australia</td>\n",
       "      <td>Oceania</td>\n",
       "    </tr>\n",
       "    <tr>\n",
       "      <th>44</th>\n",
       "      <td>Cook Islands</td>\n",
       "      <td>Oceania</td>\n",
       "    </tr>\n",
       "    <tr>\n",
       "      <th>61</th>\n",
       "      <td>Federated States of Micronesia</td>\n",
       "      <td>Oceania</td>\n",
       "    </tr>\n",
       "    <tr>\n",
       "      <th>62</th>\n",
       "      <td>Fiji</td>\n",
       "      <td>Oceania</td>\n",
       "    </tr>\n",
       "    <tr>\n",
       "      <th>66</th>\n",
       "      <td>French-Polynesia</td>\n",
       "      <td>Oceania</td>\n",
       "    </tr>\n",
       "    <tr>\n",
       "      <th>97</th>\n",
       "      <td>Kiribati</td>\n",
       "      <td>Oceania</td>\n",
       "    </tr>\n",
       "    <tr>\n",
       "      <th>117</th>\n",
       "      <td>Marshall Islands</td>\n",
       "      <td>Oceania</td>\n",
       "    </tr>\n",
       "    <tr>\n",
       "      <th>129</th>\n",
       "      <td>Nauru</td>\n",
       "      <td>Oceania</td>\n",
       "    </tr>\n",
       "    <tr>\n",
       "      <th>132</th>\n",
       "      <td>New-Caledonia</td>\n",
       "      <td>Oceania</td>\n",
       "    </tr>\n",
       "    <tr>\n",
       "      <th>133</th>\n",
       "      <td>New Zealand</td>\n",
       "      <td>Oceania</td>\n",
       "    </tr>\n",
       "    <tr>\n",
       "      <th>137</th>\n",
       "      <td>Niue</td>\n",
       "      <td>Oceania</td>\n",
       "    </tr>\n",
       "    <tr>\n",
       "      <th>141</th>\n",
       "      <td>Palau</td>\n",
       "      <td>Oceania</td>\n",
       "    </tr>\n",
       "    <tr>\n",
       "      <th>144</th>\n",
       "      <td>Papua New Guinea</td>\n",
       "      <td>Oceania</td>\n",
       "    </tr>\n",
       "    <tr>\n",
       "      <th>158</th>\n",
       "      <td>Samoa</td>\n",
       "      <td>Oceania</td>\n",
       "    </tr>\n",
       "    <tr>\n",
       "      <th>168</th>\n",
       "      <td>Solomon Islands</td>\n",
       "      <td>Oceania</td>\n",
       "    </tr>\n",
       "    <tr>\n",
       "      <th>187</th>\n",
       "      <td>Tonga</td>\n",
       "      <td>Oceania</td>\n",
       "    </tr>\n",
       "    <tr>\n",
       "      <th>192</th>\n",
       "      <td>Tuvalu</td>\n",
       "      <td>Oceania</td>\n",
       "    </tr>\n",
       "    <tr>\n",
       "      <th>200</th>\n",
       "      <td>Vanuatu</td>\n",
       "      <td>Oceania</td>\n",
       "    </tr>\n",
       "  </tbody>\n",
       "</table>\n",
       "</div>"
      ],
      "text/plain": [
       "                        wos_country continent\n",
       "3                    American-Samoa   Oceania\n",
       "10                        Australia   Oceania\n",
       "44                     Cook Islands   Oceania\n",
       "61   Federated States of Micronesia   Oceania\n",
       "62                             Fiji   Oceania\n",
       "66                 French-Polynesia   Oceania\n",
       "97                         Kiribati   Oceania\n",
       "117                Marshall Islands   Oceania\n",
       "129                           Nauru   Oceania\n",
       "132                   New-Caledonia   Oceania\n",
       "133                     New Zealand   Oceania\n",
       "137                            Niue   Oceania\n",
       "141                           Palau   Oceania\n",
       "144                Papua New Guinea   Oceania\n",
       "158                           Samoa   Oceania\n",
       "168                 Solomon Islands   Oceania\n",
       "187                           Tonga   Oceania\n",
       "192                          Tuvalu   Oceania\n",
       "200                         Vanuatu   Oceania"
      ]
     },
     "execution_count": 71,
     "metadata": {},
     "output_type": "execute_result"
    }
   ],
   "source": [
    "cntry_info[cntry_info.continent=='Oceania']"
   ]
  },
  {
   "cell_type": "code",
   "execution_count": 74,
   "id": "anticipated-courage",
   "metadata": {},
   "outputs": [],
   "source": [
    "cntry_info=cntry_info.dropna()\n",
    "rmvd_df = rmvd_df.merge(cntry_info,left_on='cntry',right_on='wos_country')"
   ]
  },
  {
   "cell_type": "code",
   "execution_count": 75,
   "id": "center-relative",
   "metadata": {},
   "outputs": [],
   "source": [
    "contslist = rmvd_df.continent.unique()"
   ]
  },
  {
   "cell_type": "code",
   "execution_count": 69,
   "id": "settled-porcelain",
   "metadata": {},
   "outputs": [
    {
     "data": {
      "text/plain": [
       "array(['Asia', 'Europe', 'Africa', 'Oceania', nan, 'North America',\n",
       "       'South America'], dtype=object)"
      ]
     },
     "execution_count": 69,
     "metadata": {},
     "output_type": "execute_result"
    }
   ],
   "source": [
    "cntry_info.continent.unique()"
   ]
  },
  {
   "cell_type": "code",
   "execution_count": 78,
   "id": "fatal-jesus",
   "metadata": {},
   "outputs": [
    {
     "name": "stdout",
     "output_type": "stream",
     "text": [
      "Asia\n",
      "Europe\n",
      "Africa\n"
     ]
    },
    {
     "name": "stderr",
     "output_type": "stream",
     "text": [
      "<ipython-input-78-6dbce9639e4f>:9: UserWarning: FixedFormatter should only be used together with FixedLocator\n",
      "  ax.set_yticklabels(['{:,.1%}'.format(x) for x in vals])\n",
      "<ipython-input-78-6dbce9639e4f>:9: UserWarning: FixedFormatter should only be used together with FixedLocator\n",
      "  ax.set_yticklabels(['{:,.1%}'.format(x) for x in vals])\n",
      "<ipython-input-78-6dbce9639e4f>:9: UserWarning: FixedFormatter should only be used together with FixedLocator\n",
      "  ax.set_yticklabels(['{:,.1%}'.format(x) for x in vals])\n"
     ]
    },
    {
     "name": "stdout",
     "output_type": "stream",
     "text": [
      "North America\n",
      "South America\n",
      "Oceania\n"
     ]
    },
    {
     "name": "stderr",
     "output_type": "stream",
     "text": [
      "<ipython-input-78-6dbce9639e4f>:9: UserWarning: FixedFormatter should only be used together with FixedLocator\n",
      "  ax.set_yticklabels(['{:,.1%}'.format(x) for x in vals])\n",
      "<ipython-input-78-6dbce9639e4f>:9: UserWarning: FixedFormatter should only be used together with FixedLocator\n",
      "  ax.set_yticklabels(['{:,.1%}'.format(x) for x in vals])\n",
      "<ipython-input-78-6dbce9639e4f>:9: UserWarning: FixedFormatter should only be used together with FixedLocator\n",
      "  ax.set_yticklabels(['{:,.1%}'.format(x) for x in vals])\n"
     ]
    },
    {
     "data": {
      "image/png": "[encoded data removed]",
      "text/plain": [
       "<Figure size 1440x288 with 6 Axes>"
      ]
     },
     "metadata": {
      "needs_background": "light"
     },
     "output_type": "display_data"
    }
   ],
   "source": [
    "fig, axs=plt.subplots(nrows=1,ncols=6,figsize=(20,4))\n",
    "for ind,ax in enumerate(axs):\n",
    "    print(contslist[ind])\n",
    "    sns.barplot(x='level',y='prop',data=rmvd_df[(rmvd_df.cntry_source=='China')\n",
    "                                                &(rmvd_df.continent==contslist[ind])],ax=ax)\n",
    "    ax.set_title(contslist[ind])\n",
    "    ax.set_xlabel(\"\")\n",
    "    vals = ax.get_yticks()\n",
    "    ax.set_yticklabels(['{:,.1%}'.format(x) for x in vals])\n",
    "    ax.set_ylabel(\"\")"
   ]
  },
  {
   "cell_type": "code",
   "execution_count": 79,
   "id": "defensive-arrangement",
   "metadata": {},
   "outputs": [
    {
     "name": "stdout",
     "output_type": "stream",
     "text": [
      "Asia\n",
      "Europe\n",
      "Africa\n",
      "North America\n"
     ]
    },
    {
     "name": "stderr",
     "output_type": "stream",
     "text": [
      "<ipython-input-79-706cb52ad0ec>:9: UserWarning: FixedFormatter should only be used together with FixedLocator\n",
      "  ax.set_yticklabels(['{:,.1%}'.format(x) for x in vals])\n",
      "<ipython-input-79-706cb52ad0ec>:9: UserWarning: FixedFormatter should only be used together with FixedLocator\n",
      "  ax.set_yticklabels(['{:,.1%}'.format(x) for x in vals])\n",
      "<ipython-input-79-706cb52ad0ec>:9: UserWarning: FixedFormatter should only be used together with FixedLocator\n",
      "  ax.set_yticklabels(['{:,.1%}'.format(x) for x in vals])\n",
      "<ipython-input-79-706cb52ad0ec>:9: UserWarning: FixedFormatter should only be used together with FixedLocator\n",
      "  ax.set_yticklabels(['{:,.1%}'.format(x) for x in vals])\n"
     ]
    },
    {
     "name": "stdout",
     "output_type": "stream",
     "text": [
      "South America\n",
      "Oceania\n"
     ]
    },
    {
     "name": "stderr",
     "output_type": "stream",
     "text": [
      "<ipython-input-79-706cb52ad0ec>:9: UserWarning: FixedFormatter should only be used together with FixedLocator\n",
      "  ax.set_yticklabels(['{:,.1%}'.format(x) for x in vals])\n",
      "<ipython-input-79-706cb52ad0ec>:9: UserWarning: FixedFormatter should only be used together with FixedLocator\n",
      "  ax.set_yticklabels(['{:,.1%}'.format(x) for x in vals])\n"
     ]
    },
    {
     "data": {
      "image/png": "[encoded data removed]",
      "text/plain": [
       "<Figure size 1440x288 with 6 Axes>"
      ]
     },
     "metadata": {
      "needs_background": "light"
     },
     "output_type": "display_data"
    }
   ],
   "source": [
    "fig, axs=plt.subplots(nrows=1,ncols=6,figsize=(20,4))\n",
    "for ind,ax in enumerate(axs):\n",
    "    print(contslist[ind])\n",
    "    sns.barplot(x='level',y='prop',data=rmvd_df[(rmvd_df.cntry_source=='United States')\n",
    "                                                &(rmvd_df.continent==contslist[ind])],ax=ax)\n",
    "    ax.set_title(contslist[ind])\n",
    "    ax.set_xlabel(\"\")\n",
    "    vals = ax.get_yticks()\n",
    "    ax.set_yticklabels(['{:,.1%}'.format(x) for x in vals])\n",
    "    ax.set_ylabel(\"\")"
   ]
  },
  {
   "cell_type": "code",
   "execution_count": 80,
   "id": "official-mixer",
   "metadata": {},
   "outputs": [
    {
     "name": "stdout",
     "output_type": "stream",
     "text": [
      "Asia\n",
      "Europe\n",
      "Africa\n",
      "North America\n"
     ]
    },
    {
     "name": "stderr",
     "output_type": "stream",
     "text": [
      "<ipython-input-80-b72ca6aa0185>:9: UserWarning: FixedFormatter should only be used together with FixedLocator\n",
      "  ax.set_yticklabels(['{:,.1%}'.format(x) for x in vals])\n",
      "<ipython-input-80-b72ca6aa0185>:9: UserWarning: FixedFormatter should only be used together with FixedLocator\n",
      "  ax.set_yticklabels(['{:,.1%}'.format(x) for x in vals])\n",
      "<ipython-input-80-b72ca6aa0185>:9: UserWarning: FixedFormatter should only be used together with FixedLocator\n",
      "  ax.set_yticklabels(['{:,.1%}'.format(x) for x in vals])\n",
      "<ipython-input-80-b72ca6aa0185>:9: UserWarning: FixedFormatter should only be used together with FixedLocator\n",
      "  ax.set_yticklabels(['{:,.1%}'.format(x) for x in vals])\n"
     ]
    },
    {
     "name": "stdout",
     "output_type": "stream",
     "text": [
      "South America\n"
     ]
    },
    {
     "name": "stderr",
     "output_type": "stream",
     "text": [
      "<ipython-input-80-b72ca6aa0185>:9: UserWarning: FixedFormatter should only be used together with FixedLocator\n",
      "  ax.set_yticklabels(['{:,.1%}'.format(x) for x in vals])\n",
      "<ipython-input-80-b72ca6aa0185>:9: UserWarning: FixedFormatter should only be used together with FixedLocator\n",
      "  ax.set_yticklabels(['{:,.1%}'.format(x) for x in vals])\n"
     ]
    },
    {
     "name": "stdout",
     "output_type": "stream",
     "text": [
      "Oceania\n"
     ]
    },
    {
     "data": {
      "image/png": "[encoded data removed]",
      "text/plain": [
       "<Figure size 1440x288 with 6 Axes>"
      ]
     },
     "metadata": {
      "needs_background": "light"
     },
     "output_type": "display_data"
    }
   ],
   "source": [
    "fig, axs=plt.subplots(nrows=1,ncols=6,figsize=(20,4))\n",
    "for ind,ax in enumerate(axs):\n",
    "    print(contslist[ind])\n",
    "    sns.barplot(x='level',y='prop',data=rmvd_df[(rmvd_df.cntry_source=='EU')\n",
    "                                                &(rmvd_df.continent==contslist[ind])],ax=ax)\n",
    "    ax.set_title(contslist[ind])\n",
    "    ax.set_xlabel(\"\")\n",
    "    vals = ax.get_yticks()\n",
    "    ax.set_yticklabels(['{:,.1%}'.format(x) for x in vals])\n",
    "    ax.set_ylabel(\"\")"
   ]
  },
  {
   "cell_type": "code",
   "execution_count": null,
   "id": "fossil-individual",
   "metadata": {},
   "outputs": [],
   "source": []
  }
 ],
 "metadata": {
  "kernelspec": {
   "display_name": "Python 3",
   "language": "python",
   "name": "python3"
  },
  "language_info": {
   "codemirror_mode": {
    "name": "ipython",
    "version": 3
   },
   "file_extension": ".py",
   "mimetype": "text/x-python",
   "name": "python",
   "nbconvert_exporter": "python",
   "pygments_lexer": "ipython3",
   "version": "3.8.10"
  }
 },
 "nbformat": 4,
 "nbformat_minor": 5
}
