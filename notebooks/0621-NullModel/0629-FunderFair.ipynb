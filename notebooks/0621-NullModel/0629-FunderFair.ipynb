{
 "cells": [
  {
   "cell_type": "code",
   "execution_count": 1,
   "metadata": {},
   "outputs": [],
   "source": [
    "import pandas as pd\n",
    "import numpy as np\n",
    "from itertools import product\n",
    "from ast import literal_eval\n",
    "import seaborn as sns\n",
    "import random\n",
    "import matplotlib.pyplot as plt\n",
    "import copy"
   ]
  },
  {
   "cell_type": "code",
   "execution_count": 3,
   "metadata": {},
   "outputs": [],
   "source": [
    "pubs_author_funder = pd.read_csv(\"..//..//..//data//Data//DerivedData//CleanedRawData//pubs_author_funder.csv\")\n",
    "#pubs_author_funder['author_country'] = pubs_author_funder['author_country'].apply(literal_eval)\n",
    "pubs_author_funder['funder_country'] = pubs_author_funder['funder_country'].apply(literal_eval)\n",
    "pubs_author_funder['funding_units'] = pubs_author_funder['funder_country'].apply(lambda x: len(x))"
   ]
  },
  {
   "cell_type": "code",
   "execution_count": 4,
   "metadata": {},
   "outputs": [
    {
     "data": {
      "text/html": [
       "<div>\n",
       "<style scoped>\n",
       "    .dataframe tbody tr th:only-of-type {\n",
       "        vertical-align: middle;\n",
       "    }\n",
       "\n",
       "    .dataframe tbody tr th {\n",
       "        vertical-align: top;\n",
       "    }\n",
       "\n",
       "    .dataframe thead th {\n",
       "        text-align: right;\n",
       "    }\n",
       "</style>\n",
       "<table border=\"1\" class=\"dataframe\">\n",
       "  <thead>\n",
       "    <tr style=\"text-align: right;\">\n",
       "      <th></th>\n",
       "      <th>id</th>\n",
       "      <th>funder_country</th>\n",
       "      <th>funding_units</th>\n",
       "      <th>author_country</th>\n",
       "    </tr>\n",
       "  </thead>\n",
       "  <tbody>\n",
       "    <tr>\n",
       "      <th>0</th>\n",
       "      <td>30507292</td>\n",
       "      <td>[Turkey]</td>\n",
       "      <td>1</td>\n",
       "      <td>[Turkey]</td>\n",
       "    </tr>\n",
       "    <tr>\n",
       "      <th>1</th>\n",
       "      <td>30574690</td>\n",
       "      <td>[United States, United States, United States, ...</td>\n",
       "      <td>4</td>\n",
       "      <td>[United States, United States, United States, ...</td>\n",
       "    </tr>\n",
       "    <tr>\n",
       "      <th>2</th>\n",
       "      <td>30574691</td>\n",
       "      <td>[Russia]</td>\n",
       "      <td>1</td>\n",
       "      <td>[Russia]</td>\n",
       "    </tr>\n",
       "    <tr>\n",
       "      <th>3</th>\n",
       "      <td>30585095</td>\n",
       "      <td>[Spain, Spain, Spain, Spain, Spain, Spain]</td>\n",
       "      <td>6</td>\n",
       "      <td>[Spain, Spain, Spain, Spain, Spain, Spain]</td>\n",
       "    </tr>\n",
       "    <tr>\n",
       "      <th>4</th>\n",
       "      <td>30585097</td>\n",
       "      <td>[Spain]</td>\n",
       "      <td>1</td>\n",
       "      <td>[Spain]</td>\n",
       "    </tr>\n",
       "  </tbody>\n",
       "</table>\n",
       "</div>"
      ],
      "text/plain": [
       "         id                                     funder_country  funding_units  \\\n",
       "0  30507292                                           [Turkey]              1   \n",
       "1  30574690  [United States, United States, United States, ...              4   \n",
       "2  30574691                                           [Russia]              1   \n",
       "3  30585095         [Spain, Spain, Spain, Spain, Spain, Spain]              6   \n",
       "4  30585097                                            [Spain]              1   \n",
       "\n",
       "                                      author_country  \n",
       "0                                           [Turkey]  \n",
       "1  [United States, United States, United States, ...  \n",
       "2                                           [Russia]  \n",
       "3         [Spain, Spain, Spain, Spain, Spain, Spain]  \n",
       "4                                            [Spain]  "
      ]
     },
     "execution_count": 4,
     "metadata": {},
     "output_type": "execute_result"
    }
   ],
   "source": [
    "pubs_funder_fair = copy.deepcopy(pubs_author_funder[['id','funder_country','funding_units']])\n",
    "pubs_funder_fair['author_country']=pubs_funder_fair['funder_country']\n",
    "pubs_funder_fair.head()"
   ]
  },
  {
   "cell_type": "code",
   "execution_count": 5,
   "metadata": {},
   "outputs": [],
   "source": [
    "def generate_null(data):\n",
    "    cntry_cntry_explodelist = []\n",
    "    for index, row in data.iterrows():\n",
    "        units = row['funding_units']\n",
    "        author_country = row['author_country']\n",
    "        funding_country=row['funder_country']\n",
    "        num_author = len(author_country)\n",
    "        num_funder=len(funding_country)\n",
    "        for author_c in author_country:\n",
    "            for funder_c in funding_country:\n",
    "                credit = units/(num_author*num_funder)\n",
    "                templist = [funder_c,author_c, credit]\n",
    "                cntry_cntry_explodelist.append(templist)\n",
    "                \n",
    "    cntry_cntry_null = pd.DataFrame(\n",
    "        cntry_cntry_explodelist, columns=['source','target','value'])\n",
    "    cntry_cntry_null = cntry_cntry_null.groupby(['source','target'])['value'].sum().reset_index()\n",
    "    cntry_cntry_null = cntry_cntry_null.pivot_table(\n",
    "        index='source',columns='target', values='value', fill_value=0)\n",
    "    return cntry_cntry_null\n"
   ]
  },
  {
   "cell_type": "code",
   "execution_count": 6,
   "metadata": {},
   "outputs": [],
   "source": [
    "funder_fair_matrix=generate_null(pubs_funder_fair)"
   ]
  },
  {
   "cell_type": "code",
   "execution_count": null,
   "metadata": {},
   "outputs": [],
   "source": []
  }
 ],
 "metadata": {
  "kernelspec": {
   "display_name": "Python 3",
   "language": "python",
   "name": "python3"
  },
  "language_info": {
   "codemirror_mode": {
    "name": "ipython",
    "version": 3
   },
   "file_extension": ".py",
   "mimetype": "text/x-python",
   "name": "python",
   "nbconvert_exporter": "python",
   "pygments_lexer": "ipython3",
   "version": "3.8.1"
  }
 },
 "nbformat": 4,
 "nbformat_minor": 4
}
