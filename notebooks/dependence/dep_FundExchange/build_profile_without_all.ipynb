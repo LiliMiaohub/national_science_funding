{
 "cells": [
  {
   "cell_type": "markdown",
   "id": "original-israel",
   "metadata": {},
   "source": [
    "this script builds research profile of countries after internationally funded publications from a **specific** country is removed. Here the removing standard is remove a paper that funding from the specific country flows to other countries, e.g., USA funded paper is authored by China. \n",
    "\n",
    "**Here the target country includes all countries.**"
   ]
  },
  {
   "cell_type": "code",
   "execution_count": 15,
   "id": "worse-content",
   "metadata": {},
   "outputs": [],
   "source": [
    "import pandas as pd\n",
    "from tqdm import tqdm"
   ]
  },
  {
   "cell_type": "code",
   "execution_count": 25,
   "id": "returning-professional",
   "metadata": {},
   "outputs": [],
   "source": [
    "pubs_path=\"../../../data/nf_folder/Data/DerivedData/CleanedRawData/pub.pkl\"\n",
    "cntry_fund_frac_path='../../../data/nf_folder/Data/DerivedData/Derived/cntry_fund_frac.csv'\n",
    "raw_path=\"../../../data/nf_folder/Data/DerivedData/Derived/cntry_author_full.csv\""
   ]
  },
  {
   "cell_type": "code",
   "execution_count": 3,
   "id": "removable-evanescence",
   "metadata": {},
   "outputs": [],
   "source": [
    "profile_path=\"../../../data/nf_folder/Data/DerivedData/Derived/dep-FundExchange/pub_no_foreign_top20.csv\""
   ]
  },
  {
   "cell_type": "code",
   "execution_count": 3,
   "id": "relative-geology",
   "metadata": {},
   "outputs": [
    {
     "data": {
      "text/html": [
       "<div>\n",
       "<style scoped>\n",
       "    .dataframe tbody tr th:only-of-type {\n",
       "        vertical-align: middle;\n",
       "    }\n",
       "\n",
       "    .dataframe tbody tr th {\n",
       "        vertical-align: top;\n",
       "    }\n",
       "\n",
       "    .dataframe thead th {\n",
       "        text-align: right;\n",
       "    }\n",
       "</style>\n",
       "<table border=\"1\" class=\"dataframe\">\n",
       "  <thead>\n",
       "    <tr style=\"text-align: right;\">\n",
       "      <th></th>\n",
       "      <th>id</th>\n",
       "      <th>year</th>\n",
       "      <th>dis</th>\n",
       "      <th>type</th>\n",
       "      <th>author</th>\n",
       "      <th>funder</th>\n",
       "      <th>author_distinct</th>\n",
       "      <th>funder_distinct</th>\n",
       "      <th>funded</th>\n",
       "      <th>IntCol</th>\n",
       "      <th>cofund</th>\n",
       "      <th>intfund</th>\n",
       "    </tr>\n",
       "  </thead>\n",
       "  <tbody>\n",
       "    <tr>\n",
       "      <th>0</th>\n",
       "      <td>60694041</td>\n",
       "      <td>2017</td>\n",
       "      <td>9</td>\n",
       "      <td>1</td>\n",
       "      <td>[Canada, United States]</td>\n",
       "      <td>[United States, United States]</td>\n",
       "      <td>[United States, Canada]</td>\n",
       "      <td>[United States]</td>\n",
       "      <td>1</td>\n",
       "      <td>1</td>\n",
       "      <td>0</td>\n",
       "      <td>0</td>\n",
       "    </tr>\n",
       "    <tr>\n",
       "      <th>1</th>\n",
       "      <td>48573156</td>\n",
       "      <td>2012</td>\n",
       "      <td>89</td>\n",
       "      <td>1</td>\n",
       "      <td>[France]</td>\n",
       "      <td>Not-Funded</td>\n",
       "      <td>[France]</td>\n",
       "      <td>Not-Funded</td>\n",
       "      <td>0</td>\n",
       "      <td>0</td>\n",
       "      <td>0</td>\n",
       "      <td>0</td>\n",
       "    </tr>\n",
       "    <tr>\n",
       "      <th>2</th>\n",
       "      <td>55323671</td>\n",
       "      <td>2015</td>\n",
       "      <td>89</td>\n",
       "      <td>1</td>\n",
       "      <td>[France, Chile]</td>\n",
       "      <td>[Chile, Chile, Chile, Chile, Chile]</td>\n",
       "      <td>[Chile, France]</td>\n",
       "      <td>[Chile]</td>\n",
       "      <td>1</td>\n",
       "      <td>1</td>\n",
       "      <td>0</td>\n",
       "      <td>0</td>\n",
       "    </tr>\n",
       "    <tr>\n",
       "      <th>3</th>\n",
       "      <td>57633115</td>\n",
       "      <td>2016</td>\n",
       "      <td>31</td>\n",
       "      <td>1</td>\n",
       "      <td>[Switzerland, United States]</td>\n",
       "      <td>[Switzerland]</td>\n",
       "      <td>[Switzerland, United States]</td>\n",
       "      <td>[Switzerland]</td>\n",
       "      <td>1</td>\n",
       "      <td>1</td>\n",
       "      <td>0</td>\n",
       "      <td>0</td>\n",
       "    </tr>\n",
       "    <tr>\n",
       "      <th>4</th>\n",
       "      <td>64831413</td>\n",
       "      <td>2018</td>\n",
       "      <td>99</td>\n",
       "      <td>1</td>\n",
       "      <td>[China]</td>\n",
       "      <td>[China, China, China, China, China, China]</td>\n",
       "      <td>[China]</td>\n",
       "      <td>[China]</td>\n",
       "      <td>1</td>\n",
       "      <td>0</td>\n",
       "      <td>0</td>\n",
       "      <td>0</td>\n",
       "    </tr>\n",
       "  </tbody>\n",
       "</table>\n",
       "</div>"
      ],
      "text/plain": [
       "         id  year  dis  type                        author  \\\n",
       "0  60694041  2017    9     1       [Canada, United States]   \n",
       "1  48573156  2012   89     1                      [France]   \n",
       "2  55323671  2015   89     1               [France, Chile]   \n",
       "3  57633115  2016   31     1  [Switzerland, United States]   \n",
       "4  64831413  2018   99     1                       [China]   \n",
       "\n",
       "                                       funder               author_distinct  \\\n",
       "0              [United States, United States]       [United States, Canada]   \n",
       "1                                  Not-Funded                      [France]   \n",
       "2         [Chile, Chile, Chile, Chile, Chile]               [Chile, France]   \n",
       "3                               [Switzerland]  [Switzerland, United States]   \n",
       "4  [China, China, China, China, China, China]                       [China]   \n",
       "\n",
       "   funder_distinct  funded  IntCol  cofund  intfund  \n",
       "0  [United States]       1       1       0        0  \n",
       "1       Not-Funded       0       0       0        0  \n",
       "2          [Chile]       1       1       0        0  \n",
       "3    [Switzerland]       1       1       0        0  \n",
       "4          [China]       1       0       0        0  "
      ]
     },
     "execution_count": 3,
     "metadata": {},
     "output_type": "execute_result"
    }
   ],
   "source": [
    "pub_df=pd.read_pickle(pubs_path)\n",
    "pub_df.head()"
   ]
  },
  {
   "cell_type": "code",
   "execution_count": 9,
   "id": "concerned-routine",
   "metadata": {},
   "outputs": [],
   "source": [
    "cntry_fund=pd.read_csv(cntry_fund_frac_path)\n",
    "funders=cntry_fund.funder.unique()"
   ]
  },
  {
   "cell_type": "code",
   "execution_count": 13,
   "id": "disabled-thriller",
   "metadata": {},
   "outputs": [],
   "source": [
    "def get_removeid(fund_df,cntry):\n",
    "    \"\"\"for publications that are funded by a specific country, label them as 1 if they are\n",
    "    internationally coauthored or authored by other countries\n",
    "    \"\"\"\n",
    "    def assign_label(authors, cntry):\n",
    "        label=0\n",
    "        if len(authors)>1:#\n",
    "            label=1\n",
    "        elif authors[0]!=cntry:\n",
    "            label=1\n",
    "        return label\n",
    "    \n",
    "    df=fund_df[fund_df.funder_distinct==cntry].copy()\n",
    "    df['label']=df.apply(lambda x: assign_label(x.author_distinct,cntry),axis=1)\n",
    "    removeid=list(df[df.label==1]['id'].unique())\n",
    "    \n",
    "    return removeid"
   ]
  },
  {
   "cell_type": "code",
   "execution_count": 14,
   "id": "elder-classic",
   "metadata": {},
   "outputs": [],
   "source": [
    "def build_profile(pub_df, fund_df, cntry):\n",
    "    \"\"\"construct the research profile of rest of countries when the internationally-funded publications are removed\n",
    "    \"\"\"\n",
    "    \n",
    "    removeid=get_removeid(fund_df, cntry)\n",
    "    df=pub_df[~pub_df['id'].isin(removeid)]\n",
    "    df=df[['id','dis','author_distinct']].explode('author_distinct')\n",
    "    df=df.groupby(['author_distinct','dis']).size().reset_index(name='count')\n",
    "    \n",
    "    return df"
   ]
  },
  {
   "cell_type": "code",
   "execution_count": null,
   "id": "proved-enzyme",
   "metadata": {},
   "outputs": [],
   "source": [
    "filter_df=pd.DataFrame()\n",
    "fund_df=pub_df[['id','author_distinct','funder_distinct']]\n",
    "fund_df=fund_df.explode('funder_distinct')"
   ]
  },
  {
   "cell_type": "code",
   "execution_count": 18,
   "id": "communist-maintenance",
   "metadata": {},
   "outputs": [
    {
     "name": "stderr",
     "output_type": "stream",
     "text": [
      "100%|██████████| 192/192 [1:55:06<00:00, 35.97s/it]  \n"
     ]
    }
   ],
   "source": [
    "for cntry in tqdm(funders):\n",
    "    profile=build_profile(pub_df, fund_df, cntry)\n",
    "    profile['srce_cntry']=cntry\n",
    "    filter_df=pd.concat([filter_df,profile])"
   ]
  },
  {
   "cell_type": "code",
   "execution_count": 20,
   "id": "abstract-bunny",
   "metadata": {},
   "outputs": [],
   "source": [
    "filter_df=filter_df.groupby(['author_distinct','srce_cntry'])['count'].sum().reset_index()"
   ]
  },
  {
   "cell_type": "code",
   "execution_count": 30,
   "id": "spiritual-championship",
   "metadata": {},
   "outputs": [],
   "source": [
    "filter_df=filter_df.rename(columns={'count':'filter'})"
   ]
  },
  {
   "cell_type": "code",
   "execution_count": 31,
   "id": "utility-denmark",
   "metadata": {},
   "outputs": [],
   "source": [
    "raw_df=pd.read_csv(raw_path)\n",
    "raw_df = raw_df.groupby(['cntry'])['count'].sum().reset_index(name='raw')\n",
    "filter_df = filter_df.rename(columns={'author_distinct':'cntry'})\n",
    "meta=raw_df.merge(filter_df,on=['cntry'])\n",
    "meta['p']=(meta['raw']-meta['filter'])/meta['raw']"
   ]
  },
  {
   "cell_type": "code",
   "execution_count": 38,
   "id": "contrary-treat",
   "metadata": {},
   "outputs": [],
   "source": [
    "meta=meta[['srce_cntry','cntry','raw','filter','p']]"
   ]
  },
  {
   "cell_type": "code",
   "execution_count": 40,
   "id": "roman-biodiversity",
   "metadata": {},
   "outputs": [],
   "source": [
    "meta=meta.rename(columns={'srce_cntry':'source','cntry':'target','raw':'raw_pub','filter':'filter_pub'})"
   ]
  },
  {
   "cell_type": "code",
   "execution_count": 41,
   "id": "threatened-asbestos",
   "metadata": {},
   "outputs": [],
   "source": [
    "meta.to_csv(\"pubred_all2all.csv\")"
   ]
  },
  {
   "cell_type": "code",
   "execution_count": null,
   "id": "collectible-skating",
   "metadata": {},
   "outputs": [],
   "source": []
  }
 ],
 "metadata": {
  "kernelspec": {
   "display_name": "Python 3 (ipykernel)",
   "language": "python",
   "name": "python3"
  },
  "language_info": {
   "codemirror_mode": {
    "name": "ipython",
    "version": 3
   },
   "file_extension": ".py",
   "mimetype": "text/x-python",
   "name": "python",
   "nbconvert_exporter": "python",
   "pygments_lexer": "ipython3",
   "version": "3.8.16"
  }
 },
 "nbformat": 4,
 "nbformat_minor": 5
}
