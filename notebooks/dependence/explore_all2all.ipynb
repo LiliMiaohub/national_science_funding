{
 "cells": [
  {
   "cell_type": "code",
   "execution_count": 10,
   "id": "4e9c4b46-f4f3-4c8d-9ad6-2ee769e45397",
   "metadata": {},
   "outputs": [],
   "source": [
    "import pandas as pd\n",
    "import seaborn as sns\n",
    "import networkx as nx\n",
    "import numpy as np\n",
    "from funding import core"
   ]
  },
  {
   "cell_type": "code",
   "execution_count": 11,
   "id": "d86c534c-5f46-4316-be00-6b0535557805",
   "metadata": {},
   "outputs": [],
   "source": [
    "df_path = \"../../data/NationalFunding/Data/DerivedData/Derived/dependence/pub_noforeign_fund_all2all.csv\""
   ]
  },
  {
   "cell_type": "code",
   "execution_count": 12,
   "id": "9696ff37-0590-4e8f-bc2d-ce35e5f8ec48",
   "metadata": {},
   "outputs": [],
   "source": [
    "df = pd.read_csv(df_path)"
   ]
  },
  {
   "cell_type": "code",
   "execution_count": 13,
   "id": "229a5f37-19e1-4e78-9752-7cd2fdb8462e",
   "metadata": {},
   "outputs": [],
   "source": [
    "df=df[(df.source!=df.target) & (df.p!=0)]\n",
    "df=df[['source','target','p']]\n",
    "df.columns=['source','target','weight']"
   ]
  },
  {
   "cell_type": "code",
   "execution_count": 16,
   "id": "7acb3d57-b0bd-4e65-aef6-037f52cbdfa8",
   "metadata": {},
   "outputs": [],
   "source": [
    "net = nx.DiGraph()\n",
    "for i, row in df.iterrows():\n",
    "    net.add_edge(row['source'], row['target'], weight=row['weight'])\n"
   ]
  },
  {
   "cell_type": "code",
   "execution_count": 9,
   "id": "6f0ea8ad-4759-4255-9c12-7b9cf10e5f14",
   "metadata": {},
   "outputs": [],
   "source": [
    "net_alpha = core.disparity_filter(net)"
   ]
  },
  {
   "cell_type": "code",
   "execution_count": 33,
   "id": "ac4c37f6-1616-427e-bc19-f3488531a7ca",
   "metadata": {},
   "outputs": [],
   "source": [
    "alpha = 0.005\n",
    "selected_edges = [(u, v) for u, v, attrs in net_alpha.edges(data=True) if attrs.get('alpha_in', 0) < alpha]"
   ]
  },
  {
   "cell_type": "code",
   "execution_count": 34,
   "id": "75dc64ff-07ae-4594-893a-35a4e0e64473",
   "metadata": {},
   "outputs": [],
   "source": [
    "selected_graph = net.edge_subgraph(selected_edges)"
   ]
  },
  {
   "cell_type": "code",
   "execution_count": 35,
   "id": "2e50ca54-f14d-4152-8679-43229d06bee4",
   "metadata": {},
   "outputs": [
    {
     "data": {
      "text/plain": [
       "508"
      ]
     },
     "execution_count": 35,
     "metadata": {},
     "output_type": "execute_result"
    }
   ],
   "source": [
    "selected_graph.number_of_edges()"
   ]
  },
  {
   "cell_type": "code",
   "execution_count": 36,
   "id": "6184ad53-ec39-4495-b714-9b39b8ea78f1",
   "metadata": {},
   "outputs": [
    {
     "data": {
      "text/plain": [
       "0.036350626118067976"
      ]
     },
     "execution_count": 36,
     "metadata": {},
     "output_type": "execute_result"
    }
   ],
   "source": [
    "selected_graph.number_of_edges()/net.number_of_edges()"
   ]
  },
  {
   "cell_type": "code",
   "execution_count": 37,
   "id": "b660f09f-c61e-4a81-97a9-e57af35d474c",
   "metadata": {},
   "outputs": [
    {
     "data": {
      "text/plain": [
       "0.8647342995169082"
      ]
     },
     "execution_count": 37,
     "metadata": {},
     "output_type": "execute_result"
    }
   ],
   "source": [
    "selected_graph.number_of_nodes()/net.number_of_nodes()"
   ]
  },
  {
   "cell_type": "code",
   "execution_count": 41,
   "id": "ea98139d-bbd5-4573-a404-9fb466e16655",
   "metadata": {},
   "outputs": [],
   "source": [
    "path = \"selected_graph_alpha\"+str(alpha)+\".gexf\"\n",
    "nx.write_gexf(selected_graph, path)"
   ]
  },
  {
   "cell_type": "code",
   "execution_count": 17,
   "id": "dac1ac3d-e777-410f-95cd-65763852d991",
   "metadata": {},
   "outputs": [],
   "source": [
    "fund_frac_path=\"../../data/NationalFunding/Data/DerivedData/Derived/cntry_fund_frac.csv\""
   ]
  },
  {
   "cell_type": "code",
   "execution_count": 18,
   "id": "66cc5383-7f3c-4225-87a6-daec48ef7220",
   "metadata": {},
   "outputs": [
    {
     "data": {
      "text/html": [
       "<div>\n",
       "<style scoped>\n",
       "    .dataframe tbody tr th:only-of-type {\n",
       "        vertical-align: middle;\n",
       "    }\n",
       "\n",
       "    .dataframe tbody tr th {\n",
       "        vertical-align: top;\n",
       "    }\n",
       "\n",
       "    .dataframe thead th {\n",
       "        text-align: right;\n",
       "    }\n",
       "</style>\n",
       "<table border=\"1\" class=\"dataframe\">\n",
       "  <thead>\n",
       "    <tr style=\"text-align: right;\">\n",
       "      <th></th>\n",
       "      <th>funder</th>\n",
       "      <th>year</th>\n",
       "      <th>intcol</th>\n",
       "      <th>cnt</th>\n",
       "    </tr>\n",
       "  </thead>\n",
       "  <tbody>\n",
       "    <tr>\n",
       "      <th>0</th>\n",
       "      <td>Afghanistan</td>\n",
       "      <td>2010</td>\n",
       "      <td>1</td>\n",
       "      <td>1.000000</td>\n",
       "    </tr>\n",
       "    <tr>\n",
       "      <th>1</th>\n",
       "      <td>Afghanistan</td>\n",
       "      <td>2011</td>\n",
       "      <td>1</td>\n",
       "      <td>0.333333</td>\n",
       "    </tr>\n",
       "    <tr>\n",
       "      <th>2</th>\n",
       "      <td>Afghanistan</td>\n",
       "      <td>2012</td>\n",
       "      <td>1</td>\n",
       "      <td>0.333333</td>\n",
       "    </tr>\n",
       "    <tr>\n",
       "      <th>3</th>\n",
       "      <td>Afghanistan</td>\n",
       "      <td>2015</td>\n",
       "      <td>0</td>\n",
       "      <td>0.148352</td>\n",
       "    </tr>\n",
       "    <tr>\n",
       "      <th>4</th>\n",
       "      <td>Afghanistan</td>\n",
       "      <td>2015</td>\n",
       "      <td>1</td>\n",
       "      <td>0.279167</td>\n",
       "    </tr>\n",
       "  </tbody>\n",
       "</table>\n",
       "</div>"
      ],
      "text/plain": [
       "        funder  year  intcol       cnt\n",
       "0  Afghanistan  2010       1  1.000000\n",
       "1  Afghanistan  2011       1  0.333333\n",
       "2  Afghanistan  2012       1  0.333333\n",
       "3  Afghanistan  2015       0  0.148352\n",
       "4  Afghanistan  2015       1  0.279167"
      ]
     },
     "execution_count": 18,
     "metadata": {},
     "output_type": "execute_result"
    }
   ],
   "source": [
    "fund_df=pd.read_csv(fund_frac_path)\n",
    "fund_df.head()"
   ]
  },
  {
   "cell_type": "code",
   "execution_count": 19,
   "id": "270cee15-1476-4543-a991-0a801cdbdf23",
   "metadata": {},
   "outputs": [
    {
     "data": {
      "text/html": [
       "<div>\n",
       "<style scoped>\n",
       "    .dataframe tbody tr th:only-of-type {\n",
       "        vertical-align: middle;\n",
       "    }\n",
       "\n",
       "    .dataframe tbody tr th {\n",
       "        vertical-align: top;\n",
       "    }\n",
       "\n",
       "    .dataframe thead th {\n",
       "        text-align: right;\n",
       "    }\n",
       "</style>\n",
       "<table border=\"1\" class=\"dataframe\">\n",
       "  <thead>\n",
       "    <tr style=\"text-align: right;\">\n",
       "      <th></th>\n",
       "      <th>funder</th>\n",
       "      <th>count</th>\n",
       "      <th>cnt_log</th>\n",
       "    </tr>\n",
       "  </thead>\n",
       "  <tbody>\n",
       "    <tr>\n",
       "      <th>0</th>\n",
       "      <td>Afghanistan</td>\n",
       "      <td>3.089135</td>\n",
       "      <td>1.127891</td>\n",
       "    </tr>\n",
       "    <tr>\n",
       "      <th>1</th>\n",
       "      <td>Albania</td>\n",
       "      <td>17.032612</td>\n",
       "      <td>2.835130</td>\n",
       "    </tr>\n",
       "    <tr>\n",
       "      <th>2</th>\n",
       "      <td>Algeria</td>\n",
       "      <td>1824.735809</td>\n",
       "      <td>7.509190</td>\n",
       "    </tr>\n",
       "    <tr>\n",
       "      <th>3</th>\n",
       "      <td>Andorra</td>\n",
       "      <td>27.341270</td>\n",
       "      <td>3.308397</td>\n",
       "    </tr>\n",
       "    <tr>\n",
       "      <th>4</th>\n",
       "      <td>Angola</td>\n",
       "      <td>24.671520</td>\n",
       "      <td>3.205650</td>\n",
       "    </tr>\n",
       "  </tbody>\n",
       "</table>\n",
       "</div>"
      ],
      "text/plain": [
       "        funder        count   cnt_log\n",
       "0  Afghanistan     3.089135  1.127891\n",
       "1      Albania    17.032612  2.835130\n",
       "2      Algeria  1824.735809  7.509190\n",
       "3      Andorra    27.341270  3.308397\n",
       "4       Angola    24.671520  3.205650"
      ]
     },
     "execution_count": 19,
     "metadata": {},
     "output_type": "execute_result"
    }
   ],
   "source": [
    "fund_df = fund_df.groupby(['funder'])['cnt'].sum().reset_index(name='count')\n",
    "fund_df['cnt_log']=np.log(fund_df['count'])\n",
    "fund_df.head()"
   ]
  },
  {
   "cell_type": "code",
   "execution_count": 23,
   "id": "6e00e1c5-c7db-4fb2-95fe-53f1f24995c4",
   "metadata": {},
   "outputs": [
    {
     "data": {
      "text/plain": [
       "{'Antarctica',\n",
       " 'Antigua & Barbuda',\n",
       " 'Cape Verde',\n",
       " 'Comoros',\n",
       " 'Crimea',\n",
       " 'Eritrea',\n",
       " 'Federated States of Micronesia ',\n",
       " 'Marshall Islands',\n",
       " 'Nauru',\n",
       " 'Netherlands-Antilles',\n",
       " 'Niue',\n",
       " 'Saint-Vincent-et-les-Grenadines',\n",
       " 'Sao Tome & Principe',\n",
       " 'St-Lucia',\n",
       " 'Turkmenistan',\n",
       " 'Tuvalu'}"
      ]
     },
     "execution_count": 23,
     "metadata": {},
     "output_type": "execute_result"
    }
   ],
   "source": [
    "set(net.nodes())-set(fund_df.funder.unique())"
   ]
  },
  {
   "cell_type": "code",
   "execution_count": 31,
   "id": "abd84af4-b827-451f-83c2-419a014a22cf",
   "metadata": {},
   "outputs": [
    {
     "data": {
      "text/html": [
       "<div>\n",
       "<style scoped>\n",
       "    .dataframe tbody tr th:only-of-type {\n",
       "        vertical-align: middle;\n",
       "    }\n",
       "\n",
       "    .dataframe tbody tr th {\n",
       "        vertical-align: top;\n",
       "    }\n",
       "\n",
       "    .dataframe thead th {\n",
       "        text-align: right;\n",
       "    }\n",
       "</style>\n",
       "<table border=\"1\" class=\"dataframe\">\n",
       "  <thead>\n",
       "    <tr style=\"text-align: right;\">\n",
       "      <th></th>\n",
       "      <th>source</th>\n",
       "      <th>target</th>\n",
       "      <th>weight</th>\n",
       "    </tr>\n",
       "  </thead>\n",
       "  <tbody>\n",
       "    <tr>\n",
       "      <th>1003</th>\n",
       "      <td>EU</td>\n",
       "      <td>Antarctica</td>\n",
       "      <td>0.1</td>\n",
       "    </tr>\n",
       "    <tr>\n",
       "      <th>1012</th>\n",
       "      <td>France</td>\n",
       "      <td>Antarctica</td>\n",
       "      <td>0.3</td>\n",
       "    </tr>\n",
       "    <tr>\n",
       "      <th>1018</th>\n",
       "      <td>Germany</td>\n",
       "      <td>Antarctica</td>\n",
       "      <td>0.1</td>\n",
       "    </tr>\n",
       "    <tr>\n",
       "      <th>1037</th>\n",
       "      <td>Italy</td>\n",
       "      <td>Antarctica</td>\n",
       "      <td>0.2</td>\n",
       "    </tr>\n",
       "    <tr>\n",
       "      <th>1136</th>\n",
       "      <td>United States</td>\n",
       "      <td>Antarctica</td>\n",
       "      <td>0.1</td>\n",
       "    </tr>\n",
       "  </tbody>\n",
       "</table>\n",
       "</div>"
      ],
      "text/plain": [
       "             source      target  weight\n",
       "1003             EU  Antarctica     0.1\n",
       "1012         France  Antarctica     0.3\n",
       "1018        Germany  Antarctica     0.1\n",
       "1037          Italy  Antarctica     0.2\n",
       "1136  United States  Antarctica     0.1"
      ]
     },
     "execution_count": 31,
     "metadata": {},
     "output_type": "execute_result"
    }
   ],
   "source": [
    "df[df.target=='Antarctica']"
   ]
  },
  {
   "cell_type": "code",
   "execution_count": 43,
   "id": "c84966dd-80a7-4b1c-9d13-4e56fd1d0ba3",
   "metadata": {},
   "outputs": [
    {
     "data": {
      "text/plain": [
       "{'weight': 0.3, 'alpha_out': 0.0073, 'alpha_in': 0.1526}"
      ]
     },
     "execution_count": 43,
     "metadata": {},
     "output_type": "execute_result"
    }
   ],
   "source": [
    "net_alpha['France']['Antarctica']"
   ]
  },
  {
   "cell_type": "code",
   "execution_count": 24,
   "id": "fec8f084-4629-4158-b12f-132248ec108c",
   "metadata": {},
   "outputs": [],
   "source": [
    "cntry_region_path = '../../data/NationalFunding/Data/AdditionalData/cntry_region.xlsx'"
   ]
  },
  {
   "cell_type": "code",
   "execution_count": 25,
   "id": "ba6647df-27b9-431c-84ba-cba564d4abfa",
   "metadata": {},
   "outputs": [
    {
     "data": {
      "text/html": [
       "<div>\n",
       "<style scoped>\n",
       "    .dataframe tbody tr th:only-of-type {\n",
       "        vertical-align: middle;\n",
       "    }\n",
       "\n",
       "    .dataframe tbody tr th {\n",
       "        vertical-align: top;\n",
       "    }\n",
       "\n",
       "    .dataframe thead th {\n",
       "        text-align: right;\n",
       "    }\n",
       "</style>\n",
       "<table border=\"1\" class=\"dataframe\">\n",
       "  <thead>\n",
       "    <tr style=\"text-align: right;\">\n",
       "      <th></th>\n",
       "      <th>cntry</th>\n",
       "      <th>region1</th>\n",
       "      <th>eulabel</th>\n",
       "      <th>region</th>\n",
       "      <th>region2</th>\n",
       "    </tr>\n",
       "  </thead>\n",
       "  <tbody>\n",
       "    <tr>\n",
       "      <th>0</th>\n",
       "      <td>Algeria</td>\n",
       "      <td>Africa</td>\n",
       "      <td>NaN</td>\n",
       "      <td>Africa</td>\n",
       "      <td>Africa</td>\n",
       "    </tr>\n",
       "    <tr>\n",
       "      <th>1</th>\n",
       "      <td>Angola</td>\n",
       "      <td>Africa</td>\n",
       "      <td>NaN</td>\n",
       "      <td>Africa</td>\n",
       "      <td>Africa</td>\n",
       "    </tr>\n",
       "    <tr>\n",
       "      <th>2</th>\n",
       "      <td>Belgian Congo</td>\n",
       "      <td>Africa</td>\n",
       "      <td>NaN</td>\n",
       "      <td>Africa</td>\n",
       "      <td>Africa</td>\n",
       "    </tr>\n",
       "    <tr>\n",
       "      <th>3</th>\n",
       "      <td>Benin</td>\n",
       "      <td>Africa</td>\n",
       "      <td>NaN</td>\n",
       "      <td>Africa</td>\n",
       "      <td>Africa</td>\n",
       "    </tr>\n",
       "    <tr>\n",
       "      <th>4</th>\n",
       "      <td>Botswana</td>\n",
       "      <td>Africa</td>\n",
       "      <td>NaN</td>\n",
       "      <td>Africa</td>\n",
       "      <td>Africa</td>\n",
       "    </tr>\n",
       "  </tbody>\n",
       "</table>\n",
       "</div>"
      ],
      "text/plain": [
       "           cntry region1  eulabel  region region2\n",
       "0        Algeria  Africa      NaN  Africa  Africa\n",
       "1         Angola  Africa      NaN  Africa  Africa\n",
       "2  Belgian Congo  Africa      NaN  Africa  Africa\n",
       "3          Benin  Africa      NaN  Africa  Africa\n",
       "4       Botswana  Africa      NaN  Africa  Africa"
      ]
     },
     "execution_count": 25,
     "metadata": {},
     "output_type": "execute_result"
    }
   ],
   "source": [
    "cntry_region = pd.read_excel(cntry_region_path)\n",
    "cntry_region = cntry_region.replace(to_replace={'region2':{'EU':'Europe','Other Europe':'Europe'}})\n",
    "cntry_region.head()"
   ]
  },
  {
   "cell_type": "code",
   "execution_count": 26,
   "id": "76b81d5a-3bbe-4e97-a2c3-4359dcfd3ca4",
   "metadata": {},
   "outputs": [],
   "source": [
    "fund_dict=dict(zip(fund_df['funder'],fund_df['cnt_log']))\n",
    "region_dict=dict(zip(cntry_region['cntry'],cntry_region['region2']))"
   ]
  },
  {
   "cell_type": "code",
   "execution_count": 27,
   "id": "13d3969c-af08-4046-9b5d-5409a1813421",
   "metadata": {},
   "outputs": [],
   "source": [
    "nx.set_node_attributes(net,0,'fund')\n",
    "nx.set_node_attributes(net,0,'region')\n",
    "nx.set_node_attributes(net,fund_dict,'fund')\n",
    "nx.set_node_attributes(net,region_dict,'region')"
   ]
  },
  {
   "cell_type": "code",
   "execution_count": 29,
   "id": "36c860e8-40d2-4a36-be5d-3f7ccb08ff68",
   "metadata": {},
   "outputs": [
    {
     "data": {
      "text/plain": [
       "{'fund': 0, 'region': 'Africa'}"
      ]
     },
     "execution_count": 29,
     "metadata": {},
     "output_type": "execute_result"
    }
   ],
   "source": [
    "net.nodes['Comoros']"
   ]
  },
  {
   "cell_type": "code",
   "execution_count": null,
   "id": "bb5a09c1-49e9-43c5-8404-42fbd39b7dac",
   "metadata": {},
   "outputs": [],
   "source": []
  }
 ],
 "metadata": {
  "kernelspec": {
   "display_name": "Python 3 (ipykernel)",
   "language": "python",
   "name": "python3"
  },
  "language_info": {
   "codemirror_mode": {
    "name": "ipython",
    "version": 3
   },
   "file_extension": ".py",
   "mimetype": "text/x-python",
   "name": "python",
   "nbconvert_exporter": "python",
   "pygments_lexer": "ipython3",
   "version": "3.8.16"
  }
 },
 "nbformat": 4,
 "nbformat_minor": 5
}
